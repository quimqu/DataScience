{
  "cells": [
    {
      "cell_type": "markdown",
      "metadata": {
        "id": "1894f082"
      },
      "source": [
        "<div style=\"width: 100%; clear: both;\">\n",
        "<div style=\"float: left; width: 50%;\">\n",
        "<img src=\"http://www.uoc.edu/portal/_resources/common/imatges/marca_UOC/UOC_Masterbrand.jpg\", align=\"left\">\n",
        "</div>\n",
        "</div>\n",
        "<div style=\"float: right; width: 50%;\">\n",
        "<p style=\"margin: 0; padding-top: 22px; text-align:right;\">M2.877 Anàlisi de sentiments i textos</p>\n",
        "<p style=\"margin: 0; text-align:right;\">Màster Universitari en Ciència de Dades (Data science)</p>\n",
        "<p style=\"margin: 0; text-align:right; padding-button: 100px;\">Estudis d'Informàtica, Multimèdia i Telecomunicacions</p>\n",
        "</div>\n",
        "</div>\n",
        "<div style=\"width: 100%; clear: both;\">\n",
        "<div style=\"width:100%;\">&nbsp;</div>\n",
        "\n",
        "\n",
        "# PAC 1: Processament i anàlisi de la informació textual\n",
        "\n",
        "En aquesta pràctica revisarem i aplicarem els coneixements apresos als mòduls de l'1 al 2. Concretament tractarem 3 temes.\n",
        "\n",
        "<ul>\n",
        "<li>1. Obtenció de dades a partir de la informació textual\n",
        "<li>2. Detecció de temes\n",
        "<li>3. Classificació de textos\n",
        "</ul>"
      ],
      "id": "1894f082"
    },
    {
      "cell_type": "markdown",
      "metadata": {
        "id": "bb0bf012"
      },
      "source": [
        "El propòsit de la pràctica és descobrir trets característics de les opinions sobre restaurants amb les eines explicades dels mòduls 1 al 2. A més, veurem si és possible classificar automàticament una opinió com a positiva o negativa amb mètodes de machine learning. Farem servir el dataset <i>restaurants_reviews.csv</i>, extret d'una plataforma d'expressió d'opinions. Aquest dataset conté opinions sobre restaurants en anglès. El dataset s'organitza en 10 columnes:\n",
        "\n",
        "<b>business_id</b>: identificador del restaurant<br>\n",
        "<b>date</b>: data de publicació de l'opinió<br>\n",
        "<b>review_id</b>: identificador de l'opinió<br>\n",
        "<b>stars</b>: qualificació o valoració del restaurant en estrelles<br>\n",
        "<b>text</b>: text de l'opinió<br>\n",
        "<b>type</b>: tipus de text<br>\n",
        "<b>user_id</b>: identificador d'usuari<br>\n",
        "<b>cool, useful </b> i <b>funny</b>: Nombre de valoracions que han realitzat els usuaris de la plataforma per a aquests tres criteris."
      ],
      "id": "bb0bf012"
    },
    {
      "cell_type": "code",
      "execution_count": 1,
      "metadata": {
        "id": "d1333f6b"
      },
      "outputs": [],
      "source": [
        "import warnings\n",
        "warnings.filterwarnings('ignore')"
      ],
      "id": "d1333f6b"
    },
    {
      "cell_type": "markdown",
      "metadata": {
        "id": "3d8d20de"
      },
      "source": [
        "# Preparació del dataset"
      ],
      "id": "3d8d20de"
    },
    {
      "cell_type": "code",
      "source": [
        "from google.colab import drive\n",
        "drive.mount('/content/drive')\n",
        "%cd \"/content/drive/MyDrive/ColabNotebooks\" "
      ],
      "metadata": {
        "id": "JStvBvOcYtF4",
        "colab": {
          "base_uri": "https://localhost:8080/"
        },
        "outputId": "37826142-2e06-408d-f543-ff9275de28a6"
      },
      "id": "JStvBvOcYtF4",
      "execution_count": 2,
      "outputs": [
        {
          "output_type": "stream",
          "name": "stdout",
          "text": [
            "Mounted at /content/drive\n",
            "/content/drive/MyDrive/ColabNotebooks\n"
          ]
        }
      ]
    },
    {
      "cell_type": "code",
      "execution_count": 3,
      "metadata": {
        "colab": {
          "base_uri": "https://localhost:8080/",
          "height": 337
        },
        "id": "bbf74bac",
        "outputId": "83beafbe-70c5-40f5-e5a5-ef04040a52fe"
      },
      "outputs": [
        {
          "output_type": "execute_result",
          "data": {
            "text/plain": [
              "              business_id        date               review_id  stars  \\\n",
              "0  9yKzy9PApeiPPOUJEtnvkg  2011-01-26  fWKvX83p0-ka4JS3dc6E5A      5   \n",
              "1  ZRJwVLyzEJq1VAihDhYiow  2011-07-27  IjZ33sJrzXqU-0X6U8NwyA      5   \n",
              "2  6oRAC4uyJCsJl1X0WZpVSA  2012-06-14  IESLBzqUCLdSzSqm0eCSxQ      4   \n",
              "3  -yxfBYGB6SEqszmxJxd97A  2007-12-13  m2CKSsepBCoRYWxiRUsxAg      4   \n",
              "4  zp713qNhx8d9KCJJnrw1xA  2010-02-12  riFQ3vxNpP4rWLk_CSri2A      5   \n",
              "\n",
              "                                                text    type  \\\n",
              "0  My wife took me here on my birthday for breakf...  review   \n",
              "1  I have no idea why some people give bad review...  review   \n",
              "2  love the gyro plate. Rice is so good and I als...  review   \n",
              "3  Quiessence is, simply put, beautiful.  Full wi...  review   \n",
              "4  Drop what you're doing and drive here. After I...  review   \n",
              "\n",
              "                  user_id  cool  useful  funny  \n",
              "0  rLtl8ZkDX5vH5nAx9C3q5Q     2       5      0  \n",
              "1  0a2KyEL0d3Yb1V6aivbIuQ     0       0      0  \n",
              "2  0hT2KtfLiobPvh6cDC8JQg     0       1      0  \n",
              "3  sqYN3lNgvPbPCTRsMFu27g     4       3      1  \n",
              "4  wFweIWhv2fREZV_dYkz_1g     7       7      4  "
            ],
            "text/html": [
              "\n",
              "  <div id=\"df-3d5d24dd-3059-402d-bc3f-c0d28d23e647\">\n",
              "    <div class=\"colab-df-container\">\n",
              "      <div>\n",
              "<style scoped>\n",
              "    .dataframe tbody tr th:only-of-type {\n",
              "        vertical-align: middle;\n",
              "    }\n",
              "\n",
              "    .dataframe tbody tr th {\n",
              "        vertical-align: top;\n",
              "    }\n",
              "\n",
              "    .dataframe thead th {\n",
              "        text-align: right;\n",
              "    }\n",
              "</style>\n",
              "<table border=\"1\" class=\"dataframe\">\n",
              "  <thead>\n",
              "    <tr style=\"text-align: right;\">\n",
              "      <th></th>\n",
              "      <th>business_id</th>\n",
              "      <th>date</th>\n",
              "      <th>review_id</th>\n",
              "      <th>stars</th>\n",
              "      <th>text</th>\n",
              "      <th>type</th>\n",
              "      <th>user_id</th>\n",
              "      <th>cool</th>\n",
              "      <th>useful</th>\n",
              "      <th>funny</th>\n",
              "    </tr>\n",
              "  </thead>\n",
              "  <tbody>\n",
              "    <tr>\n",
              "      <th>0</th>\n",
              "      <td>9yKzy9PApeiPPOUJEtnvkg</td>\n",
              "      <td>2011-01-26</td>\n",
              "      <td>fWKvX83p0-ka4JS3dc6E5A</td>\n",
              "      <td>5</td>\n",
              "      <td>My wife took me here on my birthday for breakf...</td>\n",
              "      <td>review</td>\n",
              "      <td>rLtl8ZkDX5vH5nAx9C3q5Q</td>\n",
              "      <td>2</td>\n",
              "      <td>5</td>\n",
              "      <td>0</td>\n",
              "    </tr>\n",
              "    <tr>\n",
              "      <th>1</th>\n",
              "      <td>ZRJwVLyzEJq1VAihDhYiow</td>\n",
              "      <td>2011-07-27</td>\n",
              "      <td>IjZ33sJrzXqU-0X6U8NwyA</td>\n",
              "      <td>5</td>\n",
              "      <td>I have no idea why some people give bad review...</td>\n",
              "      <td>review</td>\n",
              "      <td>0a2KyEL0d3Yb1V6aivbIuQ</td>\n",
              "      <td>0</td>\n",
              "      <td>0</td>\n",
              "      <td>0</td>\n",
              "    </tr>\n",
              "    <tr>\n",
              "      <th>2</th>\n",
              "      <td>6oRAC4uyJCsJl1X0WZpVSA</td>\n",
              "      <td>2012-06-14</td>\n",
              "      <td>IESLBzqUCLdSzSqm0eCSxQ</td>\n",
              "      <td>4</td>\n",
              "      <td>love the gyro plate. Rice is so good and I als...</td>\n",
              "      <td>review</td>\n",
              "      <td>0hT2KtfLiobPvh6cDC8JQg</td>\n",
              "      <td>0</td>\n",
              "      <td>1</td>\n",
              "      <td>0</td>\n",
              "    </tr>\n",
              "    <tr>\n",
              "      <th>3</th>\n",
              "      <td>-yxfBYGB6SEqszmxJxd97A</td>\n",
              "      <td>2007-12-13</td>\n",
              "      <td>m2CKSsepBCoRYWxiRUsxAg</td>\n",
              "      <td>4</td>\n",
              "      <td>Quiessence is, simply put, beautiful.  Full wi...</td>\n",
              "      <td>review</td>\n",
              "      <td>sqYN3lNgvPbPCTRsMFu27g</td>\n",
              "      <td>4</td>\n",
              "      <td>3</td>\n",
              "      <td>1</td>\n",
              "    </tr>\n",
              "    <tr>\n",
              "      <th>4</th>\n",
              "      <td>zp713qNhx8d9KCJJnrw1xA</td>\n",
              "      <td>2010-02-12</td>\n",
              "      <td>riFQ3vxNpP4rWLk_CSri2A</td>\n",
              "      <td>5</td>\n",
              "      <td>Drop what you're doing and drive here. After I...</td>\n",
              "      <td>review</td>\n",
              "      <td>wFweIWhv2fREZV_dYkz_1g</td>\n",
              "      <td>7</td>\n",
              "      <td>7</td>\n",
              "      <td>4</td>\n",
              "    </tr>\n",
              "  </tbody>\n",
              "</table>\n",
              "</div>\n",
              "      <button class=\"colab-df-convert\" onclick=\"convertToInteractive('df-3d5d24dd-3059-402d-bc3f-c0d28d23e647')\"\n",
              "              title=\"Convert this dataframe to an interactive table.\"\n",
              "              style=\"display:none;\">\n",
              "        \n",
              "  <svg xmlns=\"http://www.w3.org/2000/svg\" height=\"24px\"viewBox=\"0 0 24 24\"\n",
              "       width=\"24px\">\n",
              "    <path d=\"M0 0h24v24H0V0z\" fill=\"none\"/>\n",
              "    <path d=\"M18.56 5.44l.94 2.06.94-2.06 2.06-.94-2.06-.94-.94-2.06-.94 2.06-2.06.94zm-11 1L8.5 8.5l.94-2.06 2.06-.94-2.06-.94L8.5 2.5l-.94 2.06-2.06.94zm10 10l.94 2.06.94-2.06 2.06-.94-2.06-.94-.94-2.06-.94 2.06-2.06.94z\"/><path d=\"M17.41 7.96l-1.37-1.37c-.4-.4-.92-.59-1.43-.59-.52 0-1.04.2-1.43.59L10.3 9.45l-7.72 7.72c-.78.78-.78 2.05 0 2.83L4 21.41c.39.39.9.59 1.41.59.51 0 1.02-.2 1.41-.59l7.78-7.78 2.81-2.81c.8-.78.8-2.07 0-2.86zM5.41 20L4 18.59l7.72-7.72 1.47 1.35L5.41 20z\"/>\n",
              "  </svg>\n",
              "      </button>\n",
              "      \n",
              "  <style>\n",
              "    .colab-df-container {\n",
              "      display:flex;\n",
              "      flex-wrap:wrap;\n",
              "      gap: 12px;\n",
              "    }\n",
              "\n",
              "    .colab-df-convert {\n",
              "      background-color: #E8F0FE;\n",
              "      border: none;\n",
              "      border-radius: 50%;\n",
              "      cursor: pointer;\n",
              "      display: none;\n",
              "      fill: #1967D2;\n",
              "      height: 32px;\n",
              "      padding: 0 0 0 0;\n",
              "      width: 32px;\n",
              "    }\n",
              "\n",
              "    .colab-df-convert:hover {\n",
              "      background-color: #E2EBFA;\n",
              "      box-shadow: 0px 1px 2px rgba(60, 64, 67, 0.3), 0px 1px 3px 1px rgba(60, 64, 67, 0.15);\n",
              "      fill: #174EA6;\n",
              "    }\n",
              "\n",
              "    [theme=dark] .colab-df-convert {\n",
              "      background-color: #3B4455;\n",
              "      fill: #D2E3FC;\n",
              "    }\n",
              "\n",
              "    [theme=dark] .colab-df-convert:hover {\n",
              "      background-color: #434B5C;\n",
              "      box-shadow: 0px 1px 3px 1px rgba(0, 0, 0, 0.15);\n",
              "      filter: drop-shadow(0px 1px 2px rgba(0, 0, 0, 0.3));\n",
              "      fill: #FFFFFF;\n",
              "    }\n",
              "  </style>\n",
              "\n",
              "      <script>\n",
              "        const buttonEl =\n",
              "          document.querySelector('#df-3d5d24dd-3059-402d-bc3f-c0d28d23e647 button.colab-df-convert');\n",
              "        buttonEl.style.display =\n",
              "          google.colab.kernel.accessAllowed ? 'block' : 'none';\n",
              "\n",
              "        async function convertToInteractive(key) {\n",
              "          const element = document.querySelector('#df-3d5d24dd-3059-402d-bc3f-c0d28d23e647');\n",
              "          const dataTable =\n",
              "            await google.colab.kernel.invokeFunction('convertToInteractive',\n",
              "                                                     [key], {});\n",
              "          if (!dataTable) return;\n",
              "\n",
              "          const docLinkHtml = 'Like what you see? Visit the ' +\n",
              "            '<a target=\"_blank\" href=https://colab.research.google.com/notebooks/data_table.ipynb>data table notebook</a>'\n",
              "            + ' to learn more about interactive tables.';\n",
              "          element.innerHTML = '';\n",
              "          dataTable['output_type'] = 'display_data';\n",
              "          await google.colab.output.renderOutput(dataTable, element);\n",
              "          const docLink = document.createElement('div');\n",
              "          docLink.innerHTML = docLinkHtml;\n",
              "          element.appendChild(docLink);\n",
              "        }\n",
              "      </script>\n",
              "    </div>\n",
              "  </div>\n",
              "  "
            ]
          },
          "metadata": {},
          "execution_count": 3
        }
      ],
      "source": [
        "import pandas as pd\n",
        "# Obrir el fitxer de comentaris:\n",
        "try:\n",
        "  df = pd.read_csv('/content/drive/MyDrive/ColabNotebooks/restaurants_reviews.csv')\n",
        "except:\n",
        "  df = pd.read_csv('/content/restaurants_reviews.csv')\n",
        "df.head()"
      ],
      "id": "bbf74bac"
    },
    {
      "cell_type": "markdown",
      "metadata": {
        "id": "0c49915a"
      },
      "source": [
        "Per fer la pràctica, només necessitarem els textos i les valoracions en estrelles. Per tant, eliminem les columnes innecessàries i ens quedarem només amb les columnes <b>stars</b> i <b>text</b>."
      ],
      "id": "0c49915a"
    },
    {
      "cell_type": "code",
      "execution_count": 4,
      "metadata": {
        "id": "656acd34",
        "colab": {
          "base_uri": "https://localhost:8080/",
          "height": 676
        },
        "outputId": "861448ad-abdc-4c1d-aab7-7501a79d8ecd"
      },
      "outputs": [
        {
          "output_type": "execute_result",
          "data": {
            "text/plain": [
              "    stars                                               text\n",
              "0       5  My wife took me here on my birthday for breakf...\n",
              "1       5  I have no idea why some people give bad review...\n",
              "2       4  love the gyro plate. Rice is so good and I als...\n",
              "3       4  Quiessence is, simply put, beautiful.  Full wi...\n",
              "4       5  Drop what you're doing and drive here. After I...\n",
              "5       4  Definitely come for Happy hour! Prices are ama...\n",
              "6       5  Nobuo shows his unique talents with everything...\n",
              "7       5  Wonderful Vietnamese sandwich shoppe. Their ba...\n",
              "8       5  They have a limited time thing going on right ...\n",
              "9       4  I'm 2 weeks new to Phoenix. I looked up Irish ...\n",
              "10      2  Was it worth the 21$ for a salad and small piz...\n",
              "11      3  We went here on a Saturday afternoon and this ...\n",
              "12      3  I met a friend for lunch yesterday. \\r\\n\\r\\nLo...\n",
              "13      3  DVAP....\\r\\n\\r\\nYou have to go at least once i...\n",
              "14      5  first time my friend and I went there... it wa...\n",
              "15      5  I love this place! I have been coming here for...\n",
              "16      5  I love love LOVE this place. My boss (who is i...\n",
              "17      4  Not that my review will mean much given the mo...\n",
              "18      4  Came here for breakfast yesterday, it had been...\n",
              "19      4  Always reliably good.  Great beer selection as..."
            ],
            "text/html": [
              "\n",
              "  <div id=\"df-32a3a0c8-11be-4eea-a785-e5c85ccebc78\">\n",
              "    <div class=\"colab-df-container\">\n",
              "      <div>\n",
              "<style scoped>\n",
              "    .dataframe tbody tr th:only-of-type {\n",
              "        vertical-align: middle;\n",
              "    }\n",
              "\n",
              "    .dataframe tbody tr th {\n",
              "        vertical-align: top;\n",
              "    }\n",
              "\n",
              "    .dataframe thead th {\n",
              "        text-align: right;\n",
              "    }\n",
              "</style>\n",
              "<table border=\"1\" class=\"dataframe\">\n",
              "  <thead>\n",
              "    <tr style=\"text-align: right;\">\n",
              "      <th></th>\n",
              "      <th>stars</th>\n",
              "      <th>text</th>\n",
              "    </tr>\n",
              "  </thead>\n",
              "  <tbody>\n",
              "    <tr>\n",
              "      <th>0</th>\n",
              "      <td>5</td>\n",
              "      <td>My wife took me here on my birthday for breakf...</td>\n",
              "    </tr>\n",
              "    <tr>\n",
              "      <th>1</th>\n",
              "      <td>5</td>\n",
              "      <td>I have no idea why some people give bad review...</td>\n",
              "    </tr>\n",
              "    <tr>\n",
              "      <th>2</th>\n",
              "      <td>4</td>\n",
              "      <td>love the gyro plate. Rice is so good and I als...</td>\n",
              "    </tr>\n",
              "    <tr>\n",
              "      <th>3</th>\n",
              "      <td>4</td>\n",
              "      <td>Quiessence is, simply put, beautiful.  Full wi...</td>\n",
              "    </tr>\n",
              "    <tr>\n",
              "      <th>4</th>\n",
              "      <td>5</td>\n",
              "      <td>Drop what you're doing and drive here. After I...</td>\n",
              "    </tr>\n",
              "    <tr>\n",
              "      <th>5</th>\n",
              "      <td>4</td>\n",
              "      <td>Definitely come for Happy hour! Prices are ama...</td>\n",
              "    </tr>\n",
              "    <tr>\n",
              "      <th>6</th>\n",
              "      <td>5</td>\n",
              "      <td>Nobuo shows his unique talents with everything...</td>\n",
              "    </tr>\n",
              "    <tr>\n",
              "      <th>7</th>\n",
              "      <td>5</td>\n",
              "      <td>Wonderful Vietnamese sandwich shoppe. Their ba...</td>\n",
              "    </tr>\n",
              "    <tr>\n",
              "      <th>8</th>\n",
              "      <td>5</td>\n",
              "      <td>They have a limited time thing going on right ...</td>\n",
              "    </tr>\n",
              "    <tr>\n",
              "      <th>9</th>\n",
              "      <td>4</td>\n",
              "      <td>I'm 2 weeks new to Phoenix. I looked up Irish ...</td>\n",
              "    </tr>\n",
              "    <tr>\n",
              "      <th>10</th>\n",
              "      <td>2</td>\n",
              "      <td>Was it worth the 21$ for a salad and small piz...</td>\n",
              "    </tr>\n",
              "    <tr>\n",
              "      <th>11</th>\n",
              "      <td>3</td>\n",
              "      <td>We went here on a Saturday afternoon and this ...</td>\n",
              "    </tr>\n",
              "    <tr>\n",
              "      <th>12</th>\n",
              "      <td>3</td>\n",
              "      <td>I met a friend for lunch yesterday. \\r\\n\\r\\nLo...</td>\n",
              "    </tr>\n",
              "    <tr>\n",
              "      <th>13</th>\n",
              "      <td>3</td>\n",
              "      <td>DVAP....\\r\\n\\r\\nYou have to go at least once i...</td>\n",
              "    </tr>\n",
              "    <tr>\n",
              "      <th>14</th>\n",
              "      <td>5</td>\n",
              "      <td>first time my friend and I went there... it wa...</td>\n",
              "    </tr>\n",
              "    <tr>\n",
              "      <th>15</th>\n",
              "      <td>5</td>\n",
              "      <td>I love this place! I have been coming here for...</td>\n",
              "    </tr>\n",
              "    <tr>\n",
              "      <th>16</th>\n",
              "      <td>5</td>\n",
              "      <td>I love love LOVE this place. My boss (who is i...</td>\n",
              "    </tr>\n",
              "    <tr>\n",
              "      <th>17</th>\n",
              "      <td>4</td>\n",
              "      <td>Not that my review will mean much given the mo...</td>\n",
              "    </tr>\n",
              "    <tr>\n",
              "      <th>18</th>\n",
              "      <td>4</td>\n",
              "      <td>Came here for breakfast yesterday, it had been...</td>\n",
              "    </tr>\n",
              "    <tr>\n",
              "      <th>19</th>\n",
              "      <td>4</td>\n",
              "      <td>Always reliably good.  Great beer selection as...</td>\n",
              "    </tr>\n",
              "  </tbody>\n",
              "</table>\n",
              "</div>\n",
              "      <button class=\"colab-df-convert\" onclick=\"convertToInteractive('df-32a3a0c8-11be-4eea-a785-e5c85ccebc78')\"\n",
              "              title=\"Convert this dataframe to an interactive table.\"\n",
              "              style=\"display:none;\">\n",
              "        \n",
              "  <svg xmlns=\"http://www.w3.org/2000/svg\" height=\"24px\"viewBox=\"0 0 24 24\"\n",
              "       width=\"24px\">\n",
              "    <path d=\"M0 0h24v24H0V0z\" fill=\"none\"/>\n",
              "    <path d=\"M18.56 5.44l.94 2.06.94-2.06 2.06-.94-2.06-.94-.94-2.06-.94 2.06-2.06.94zm-11 1L8.5 8.5l.94-2.06 2.06-.94-2.06-.94L8.5 2.5l-.94 2.06-2.06.94zm10 10l.94 2.06.94-2.06 2.06-.94-2.06-.94-.94-2.06-.94 2.06-2.06.94z\"/><path d=\"M17.41 7.96l-1.37-1.37c-.4-.4-.92-.59-1.43-.59-.52 0-1.04.2-1.43.59L10.3 9.45l-7.72 7.72c-.78.78-.78 2.05 0 2.83L4 21.41c.39.39.9.59 1.41.59.51 0 1.02-.2 1.41-.59l7.78-7.78 2.81-2.81c.8-.78.8-2.07 0-2.86zM5.41 20L4 18.59l7.72-7.72 1.47 1.35L5.41 20z\"/>\n",
              "  </svg>\n",
              "      </button>\n",
              "      \n",
              "  <style>\n",
              "    .colab-df-container {\n",
              "      display:flex;\n",
              "      flex-wrap:wrap;\n",
              "      gap: 12px;\n",
              "    }\n",
              "\n",
              "    .colab-df-convert {\n",
              "      background-color: #E8F0FE;\n",
              "      border: none;\n",
              "      border-radius: 50%;\n",
              "      cursor: pointer;\n",
              "      display: none;\n",
              "      fill: #1967D2;\n",
              "      height: 32px;\n",
              "      padding: 0 0 0 0;\n",
              "      width: 32px;\n",
              "    }\n",
              "\n",
              "    .colab-df-convert:hover {\n",
              "      background-color: #E2EBFA;\n",
              "      box-shadow: 0px 1px 2px rgba(60, 64, 67, 0.3), 0px 1px 3px 1px rgba(60, 64, 67, 0.15);\n",
              "      fill: #174EA6;\n",
              "    }\n",
              "\n",
              "    [theme=dark] .colab-df-convert {\n",
              "      background-color: #3B4455;\n",
              "      fill: #D2E3FC;\n",
              "    }\n",
              "\n",
              "    [theme=dark] .colab-df-convert:hover {\n",
              "      background-color: #434B5C;\n",
              "      box-shadow: 0px 1px 3px 1px rgba(0, 0, 0, 0.15);\n",
              "      filter: drop-shadow(0px 1px 2px rgba(0, 0, 0, 0.3));\n",
              "      fill: #FFFFFF;\n",
              "    }\n",
              "  </style>\n",
              "\n",
              "      <script>\n",
              "        const buttonEl =\n",
              "          document.querySelector('#df-32a3a0c8-11be-4eea-a785-e5c85ccebc78 button.colab-df-convert');\n",
              "        buttonEl.style.display =\n",
              "          google.colab.kernel.accessAllowed ? 'block' : 'none';\n",
              "\n",
              "        async function convertToInteractive(key) {\n",
              "          const element = document.querySelector('#df-32a3a0c8-11be-4eea-a785-e5c85ccebc78');\n",
              "          const dataTable =\n",
              "            await google.colab.kernel.invokeFunction('convertToInteractive',\n",
              "                                                     [key], {});\n",
              "          if (!dataTable) return;\n",
              "\n",
              "          const docLinkHtml = 'Like what you see? Visit the ' +\n",
              "            '<a target=\"_blank\" href=https://colab.research.google.com/notebooks/data_table.ipynb>data table notebook</a>'\n",
              "            + ' to learn more about interactive tables.';\n",
              "          element.innerHTML = '';\n",
              "          dataTable['output_type'] = 'display_data';\n",
              "          await google.colab.output.renderOutput(dataTable, element);\n",
              "          const docLink = document.createElement('div');\n",
              "          docLink.innerHTML = docLinkHtml;\n",
              "          element.appendChild(docLink);\n",
              "        }\n",
              "      </script>\n",
              "    </div>\n",
              "  </div>\n",
              "  "
            ]
          },
          "metadata": {},
          "execution_count": 4
        }
      ],
      "source": [
        "#############################################\n",
        "df_star_texts=pd.DataFrame()\n",
        "df_star_texts=df.drop(['business_id','date','review_id','type','user_id','cool','useful','funny'], axis=1)\n",
        "df_star_texts.head(20)\n",
        "#############################################"
      ],
      "id": "656acd34"
    },
    {
      "cell_type": "markdown",
      "metadata": {
        "id": "ef8aceb9"
      },
      "source": [
        "Treballarem amb les opinions que tenen les qualificacions més altes i les més baixes. Les opinions amb la qualificació més gran que 3 seran etiquetades amb '1', mentre que etiquetarem amb '0' les opinions que tinguin una qualificació menor que 3. Les etiquetes s'assignen a la columna <b>sentiment</b>."
      ],
      "id": "ef8aceb9"
    },
    {
      "cell_type": "code",
      "execution_count": 5,
      "metadata": {
        "id": "16d52608",
        "colab": {
          "base_uri": "https://localhost:8080/",
          "height": 446
        },
        "outputId": "d09d7df6-7fe6-49fd-a533-b2eeb40379b3"
      },
      "outputs": [
        {
          "output_type": "stream",
          "name": "stdout",
          "text": [
            "1    4694\n",
            "0    1157\n",
            "Name: sentiment, dtype: int64\n"
          ]
        },
        {
          "output_type": "execute_result",
          "data": {
            "text/plain": [
              "    stars                                               text sentiment\n",
              "0       5  My wife took me here on my birthday for breakf...         1\n",
              "1       5  I have no idea why some people give bad review...         1\n",
              "2       4  love the gyro plate. Rice is so good and I als...         1\n",
              "3       4  Quiessence is, simply put, beautiful.  Full wi...         1\n",
              "4       5  Drop what you're doing and drive here. After I...         1\n",
              "5       4  Definitely come for Happy hour! Prices are ama...         1\n",
              "6       5  Nobuo shows his unique talents with everything...         1\n",
              "7       5  Wonderful Vietnamese sandwich shoppe. Their ba...         1\n",
              "8       5  They have a limited time thing going on right ...         1\n",
              "9       4  I'm 2 weeks new to Phoenix. I looked up Irish ...         1\n",
              "10      2  Was it worth the 21$ for a salad and small piz...         0"
            ],
            "text/html": [
              "\n",
              "  <div id=\"df-945573e7-69fc-48c0-b555-3546ddf4e35e\">\n",
              "    <div class=\"colab-df-container\">\n",
              "      <div>\n",
              "<style scoped>\n",
              "    .dataframe tbody tr th:only-of-type {\n",
              "        vertical-align: middle;\n",
              "    }\n",
              "\n",
              "    .dataframe tbody tr th {\n",
              "        vertical-align: top;\n",
              "    }\n",
              "\n",
              "    .dataframe thead th {\n",
              "        text-align: right;\n",
              "    }\n",
              "</style>\n",
              "<table border=\"1\" class=\"dataframe\">\n",
              "  <thead>\n",
              "    <tr style=\"text-align: right;\">\n",
              "      <th></th>\n",
              "      <th>stars</th>\n",
              "      <th>text</th>\n",
              "      <th>sentiment</th>\n",
              "    </tr>\n",
              "  </thead>\n",
              "  <tbody>\n",
              "    <tr>\n",
              "      <th>0</th>\n",
              "      <td>5</td>\n",
              "      <td>My wife took me here on my birthday for breakf...</td>\n",
              "      <td>1</td>\n",
              "    </tr>\n",
              "    <tr>\n",
              "      <th>1</th>\n",
              "      <td>5</td>\n",
              "      <td>I have no idea why some people give bad review...</td>\n",
              "      <td>1</td>\n",
              "    </tr>\n",
              "    <tr>\n",
              "      <th>2</th>\n",
              "      <td>4</td>\n",
              "      <td>love the gyro plate. Rice is so good and I als...</td>\n",
              "      <td>1</td>\n",
              "    </tr>\n",
              "    <tr>\n",
              "      <th>3</th>\n",
              "      <td>4</td>\n",
              "      <td>Quiessence is, simply put, beautiful.  Full wi...</td>\n",
              "      <td>1</td>\n",
              "    </tr>\n",
              "    <tr>\n",
              "      <th>4</th>\n",
              "      <td>5</td>\n",
              "      <td>Drop what you're doing and drive here. After I...</td>\n",
              "      <td>1</td>\n",
              "    </tr>\n",
              "    <tr>\n",
              "      <th>5</th>\n",
              "      <td>4</td>\n",
              "      <td>Definitely come for Happy hour! Prices are ama...</td>\n",
              "      <td>1</td>\n",
              "    </tr>\n",
              "    <tr>\n",
              "      <th>6</th>\n",
              "      <td>5</td>\n",
              "      <td>Nobuo shows his unique talents with everything...</td>\n",
              "      <td>1</td>\n",
              "    </tr>\n",
              "    <tr>\n",
              "      <th>7</th>\n",
              "      <td>5</td>\n",
              "      <td>Wonderful Vietnamese sandwich shoppe. Their ba...</td>\n",
              "      <td>1</td>\n",
              "    </tr>\n",
              "    <tr>\n",
              "      <th>8</th>\n",
              "      <td>5</td>\n",
              "      <td>They have a limited time thing going on right ...</td>\n",
              "      <td>1</td>\n",
              "    </tr>\n",
              "    <tr>\n",
              "      <th>9</th>\n",
              "      <td>4</td>\n",
              "      <td>I'm 2 weeks new to Phoenix. I looked up Irish ...</td>\n",
              "      <td>1</td>\n",
              "    </tr>\n",
              "    <tr>\n",
              "      <th>10</th>\n",
              "      <td>2</td>\n",
              "      <td>Was it worth the 21$ for a salad and small piz...</td>\n",
              "      <td>0</td>\n",
              "    </tr>\n",
              "  </tbody>\n",
              "</table>\n",
              "</div>\n",
              "      <button class=\"colab-df-convert\" onclick=\"convertToInteractive('df-945573e7-69fc-48c0-b555-3546ddf4e35e')\"\n",
              "              title=\"Convert this dataframe to an interactive table.\"\n",
              "              style=\"display:none;\">\n",
              "        \n",
              "  <svg xmlns=\"http://www.w3.org/2000/svg\" height=\"24px\"viewBox=\"0 0 24 24\"\n",
              "       width=\"24px\">\n",
              "    <path d=\"M0 0h24v24H0V0z\" fill=\"none\"/>\n",
              "    <path d=\"M18.56 5.44l.94 2.06.94-2.06 2.06-.94-2.06-.94-.94-2.06-.94 2.06-2.06.94zm-11 1L8.5 8.5l.94-2.06 2.06-.94-2.06-.94L8.5 2.5l-.94 2.06-2.06.94zm10 10l.94 2.06.94-2.06 2.06-.94-2.06-.94-.94-2.06-.94 2.06-2.06.94z\"/><path d=\"M17.41 7.96l-1.37-1.37c-.4-.4-.92-.59-1.43-.59-.52 0-1.04.2-1.43.59L10.3 9.45l-7.72 7.72c-.78.78-.78 2.05 0 2.83L4 21.41c.39.39.9.59 1.41.59.51 0 1.02-.2 1.41-.59l7.78-7.78 2.81-2.81c.8-.78.8-2.07 0-2.86zM5.41 20L4 18.59l7.72-7.72 1.47 1.35L5.41 20z\"/>\n",
              "  </svg>\n",
              "      </button>\n",
              "      \n",
              "  <style>\n",
              "    .colab-df-container {\n",
              "      display:flex;\n",
              "      flex-wrap:wrap;\n",
              "      gap: 12px;\n",
              "    }\n",
              "\n",
              "    .colab-df-convert {\n",
              "      background-color: #E8F0FE;\n",
              "      border: none;\n",
              "      border-radius: 50%;\n",
              "      cursor: pointer;\n",
              "      display: none;\n",
              "      fill: #1967D2;\n",
              "      height: 32px;\n",
              "      padding: 0 0 0 0;\n",
              "      width: 32px;\n",
              "    }\n",
              "\n",
              "    .colab-df-convert:hover {\n",
              "      background-color: #E2EBFA;\n",
              "      box-shadow: 0px 1px 2px rgba(60, 64, 67, 0.3), 0px 1px 3px 1px rgba(60, 64, 67, 0.15);\n",
              "      fill: #174EA6;\n",
              "    }\n",
              "\n",
              "    [theme=dark] .colab-df-convert {\n",
              "      background-color: #3B4455;\n",
              "      fill: #D2E3FC;\n",
              "    }\n",
              "\n",
              "    [theme=dark] .colab-df-convert:hover {\n",
              "      background-color: #434B5C;\n",
              "      box-shadow: 0px 1px 3px 1px rgba(0, 0, 0, 0.15);\n",
              "      filter: drop-shadow(0px 1px 2px rgba(0, 0, 0, 0.3));\n",
              "      fill: #FFFFFF;\n",
              "    }\n",
              "  </style>\n",
              "\n",
              "      <script>\n",
              "        const buttonEl =\n",
              "          document.querySelector('#df-945573e7-69fc-48c0-b555-3546ddf4e35e button.colab-df-convert');\n",
              "        buttonEl.style.display =\n",
              "          google.colab.kernel.accessAllowed ? 'block' : 'none';\n",
              "\n",
              "        async function convertToInteractive(key) {\n",
              "          const element = document.querySelector('#df-945573e7-69fc-48c0-b555-3546ddf4e35e');\n",
              "          const dataTable =\n",
              "            await google.colab.kernel.invokeFunction('convertToInteractive',\n",
              "                                                     [key], {});\n",
              "          if (!dataTable) return;\n",
              "\n",
              "          const docLinkHtml = 'Like what you see? Visit the ' +\n",
              "            '<a target=\"_blank\" href=https://colab.research.google.com/notebooks/data_table.ipynb>data table notebook</a>'\n",
              "            + ' to learn more about interactive tables.';\n",
              "          element.innerHTML = '';\n",
              "          dataTable['output_type'] = 'display_data';\n",
              "          await google.colab.output.renderOutput(dataTable, element);\n",
              "          const docLink = document.createElement('div');\n",
              "          docLink.innerHTML = docLinkHtml;\n",
              "          element.appendChild(docLink);\n",
              "        }\n",
              "      </script>\n",
              "    </div>\n",
              "  </div>\n",
              "  "
            ]
          },
          "metadata": {},
          "execution_count": 5
        }
      ],
      "source": [
        "#############################################\n",
        "import numpy as np\n",
        "\n",
        "df_star_texts = df_star_texts[df_star_texts['stars'] != 3]\n",
        "df_star_texts['sentiment'] = np.where(df_star_texts['stars'] > 3, '1', '0')\n",
        "\n",
        "unique_count = df_star_texts['sentiment'].value_counts()\n",
        "print(unique_count)\n",
        "df_star_texts.head(11)\n",
        "#############################################"
      ],
      "id": "16d52608"
    },
    {
      "cell_type": "markdown",
      "metadata": {
        "id": "ed6302df"
      },
      "source": [
        "# Preprocessament"
      ],
      "id": "ed6302df"
    },
    {
      "cell_type": "markdown",
      "metadata": {
        "id": "e7fa6736"
      },
      "source": [
        "Abans de treballar amb els textos de les opinions, cal netejar-los de caràcters com els salts de línia (e.g: *Should be called house of deliciousness!\\r\\n\\r*)"
      ],
      "id": "e7fa6736"
    },
    {
      "cell_type": "code",
      "execution_count": 6,
      "metadata": {
        "id": "e2d9fd79",
        "colab": {
          "base_uri": "https://localhost:8080/",
          "height": 122
        },
        "outputId": "6b87ea06-8b35-4a3c-87c1-11418c360412"
      },
      "outputs": [
        {
          "output_type": "execute_result",
          "data": {
            "text/plain": [
              "'My wife took me here on my birthday for breakfast and it was excellent.  The weather was perfect which made sitting outside overlooking their grounds an absolute pleasure.  Our waitress was excellent and our food arrived quickly on the semi-busy Saturday morning.  It looked like the place fills up pretty quickly so the earlier you get here the better. Do yourself a favor and get their Bloody Mary.  It was phenomenal and simply the best I\\'ve ever had.  I\\'m pretty sure they only use ingredients from their garden and blend them fresh when you order it.  It was amazing. While EVERYTHING on the menu looks excellent, I had the white truffle scrambled eggs vegetable skillet and it was tasty and delicious.  It came with 2 pieces of their griddled bread with was amazing and it absolutely made the meal complete.  It was the best \"toast\" I\\'ve ever had. Anyway, I can\\'t wait to go back!'"
            ],
            "application/vnd.google.colaboratory.intrinsic+json": {
              "type": "string"
            }
          },
          "metadata": {},
          "execution_count": 6
        }
      ],
      "source": [
        "#############################################\n",
        "#  df_star_texts.rstrip('\\n')   #Només el·limina les subcadenes de la posició inicial i final de la cadena.\n",
        "import re\n",
        "\n",
        "df_star_texts['text'] = df_star_texts['text'].apply(lambda x: re.sub('[\\r\\n]+', ' ', x))\n",
        "\n",
        "df_star_texts['text'].loc[0]\n",
        "#############################################"
      ],
      "id": "e2d9fd79"
    },
    {
      "cell_type": "markdown",
      "metadata": {
        "id": "6779063f"
      },
      "source": [
        "També cal eliminar els dobles espais:"
      ],
      "id": "6779063f"
    },
    {
      "cell_type": "code",
      "execution_count": 7,
      "metadata": {
        "id": "178a5e7d",
        "colab": {
          "base_uri": "https://localhost:8080/",
          "height": 122
        },
        "outputId": "1238bcc2-f68c-4a80-f154-251548023077"
      },
      "outputs": [
        {
          "output_type": "execute_result",
          "data": {
            "text/plain": [
              "'My wife took me here on my birthday for breakfast and it was excellent. The weather was perfect which made sitting outside overlooking their grounds an absolute pleasure. Our waitress was excellent and our food arrived quickly on the semi-busy Saturday morning. It looked like the place fills up pretty quickly so the earlier you get here the better. Do yourself a favor and get their Bloody Mary. It was phenomenal and simply the best I\\'ve ever had. I\\'m pretty sure they only use ingredients from their garden and blend them fresh when you order it. It was amazing. While EVERYTHING on the menu looks excellent, I had the white truffle scrambled eggs vegetable skillet and it was tasty and delicious. It came with 2 pieces of their griddled bread with was amazing and it absolutely made the meal complete. It was the best \"toast\" I\\'ve ever had. Anyway, I can\\'t wait to go back!'"
            ],
            "application/vnd.google.colaboratory.intrinsic+json": {
              "type": "string"
            }
          },
          "metadata": {},
          "execution_count": 7
        }
      ],
      "source": [
        "#############################################\n",
        "df_star_texts['text'] = df_star_texts['text'].apply(lambda x: re.sub(' +', ' ', x))\n",
        "df_star_texts['text'].loc[0]\n",
        "#############################################\n"
      ],
      "id": "178a5e7d"
    },
    {
      "cell_type": "code",
      "execution_count": 7,
      "metadata": {
        "id": "e85adcdc"
      },
      "outputs": [],
      "source": [],
      "id": "e85adcdc"
    },
    {
      "cell_type": "markdown",
      "metadata": {
        "id": "9dd14cd0"
      },
      "source": [
        "# 1. Obtenció de dades a partir d'informació textual (4 punts)"
      ],
      "id": "9dd14cd0"
    },
    {
      "cell_type": "markdown",
      "metadata": {
        "id": "312b68be"
      },
      "source": [
        "## 1.1 Trobar col·locacions (2 punts)\n",
        "\n",
        "Recordem que les col·locacions són termes multiparaula, és a dir, seqüències de paraules que, en conjunt, tenen un significat que difereix significativament del significat de cada paraula individual (e.g. New York té un significat diferent del que es pot derivar de New i de York)."
      ],
      "id": "312b68be"
    },
    {
      "cell_type": "markdown",
      "metadata": {
        "id": "de41ffd0"
      },
      "source": [
        "<div style=\"background-color: #EDF7FF; border-color: #7C9DBF; border-left: 5px solid #7C9DBF; padding: 0.5em;\">\n",
        "<strong>Exercici:</strong>  Calculeu els millors bigrames i trigrames de les opinions. (1 punt)\n",
        "</div>"
      ],
      "id": "de41ffd0"
    },
    {
      "cell_type": "code",
      "execution_count": 8,
      "metadata": {
        "id": "lk582wJzf5UM",
        "colab": {
          "base_uri": "https://localhost:8080/"
        },
        "outputId": "836064b1-333d-4fc5-d334-0279ae2c8c8b"
      },
      "outputs": [
        {
          "output_type": "stream",
          "name": "stderr",
          "text": [
            "[nltk_data] Downloading package punkt to /root/nltk_data...\n",
            "[nltk_data]   Unzipping tokenizers/punkt.zip.\n",
            "[nltk_data] Downloading package stopwords to /root/nltk_data...\n",
            "[nltk_data]   Unzipping corpora/stopwords.zip.\n",
            "[nltk_data] Downloading package averaged_perceptron_tagger to\n",
            "[nltk_data]     /root/nltk_data...\n",
            "[nltk_data]   Unzipping taggers/averaged_perceptron_tagger.zip.\n"
          ]
        },
        {
          "output_type": "execute_result",
          "data": {
            "text/plain": [
              "True"
            ]
          },
          "metadata": {},
          "execution_count": 8
        }
      ],
      "source": [
        "#############################################\n",
        "# carreguem les llibreries\n",
        "import nltk\n",
        "from nltk import pos_tag\n",
        "from nltk.tokenize import word_tokenize\n",
        "from nltk.collocations import *\n",
        "import re\n",
        "nltk.download('punkt')   #punkt es una eina de biblioteca nltk per tokenitzar documents de texte\n",
        "nltk.download(\"stopwords\")\n",
        "nltk.download('averaged_perceptron_tagger')    # Modul del Perceptron Tagger\n",
        "#############################################"
      ],
      "id": "lk582wJzf5UM"
    },
    {
      "cell_type": "code",
      "execution_count": 9,
      "metadata": {
        "id": "f6bfa1a6"
      },
      "outputs": [],
      "source": [
        "#############################################\n",
        "#Import de la llista de stopwords en anglés de la libreria NLTK.\n",
        "stopwords = nltk.corpus.stopwords.words('english')\n",
        "#Afegim stopwords\n",
        "stopwords = stopwords + ['unknown', 've', 'hadn', 'll', 'didn', 'isn', 'doesn', 'hasn' ]\n",
        "#############################################"
      ],
      "id": "f6bfa1a6"
    },
    {
      "cell_type": "markdown",
      "metadata": {
        "id": "f79d8030"
      },
      "source": [
        "A partir de l'ordre help(nltk.collocations.BigramAssocMeasures) explora la classe BigramAssocMeasures del mòdul nltk.metrics.association i revisa les definicions de les mètriques de Likelihood Ratio (likelihood_ratio) i de Pointwise Mutual Information (pmi) del llibre Foundations of Statistical Natural Language Processing (Manning & Schutze)."
      ],
      "id": "f79d8030"
    },
    {
      "cell_type": "markdown",
      "metadata": {
        "id": "837f7371"
      },
      "source": [
        "<i>Primer pas</i>: Obtenir els tokens del text de les opinions. Etiqueta aquests tokens pel seu PoS. (0.5 punts)"
      ],
      "id": "837f7371"
    },
    {
      "cell_type": "code",
      "execution_count": 10,
      "metadata": {
        "id": "314750c1",
        "colab": {
          "base_uri": "https://localhost:8080/"
        },
        "outputId": "8bb45167-5173-418a-a3ba-a2ba29807473"
      },
      "outputs": [
        {
          "output_type": "stream",
          "name": "stdout",
          "text": [
            "Help on class BigramAssocMeasures in module nltk.metrics.association:\n",
            "\n",
            "class BigramAssocMeasures(NgramAssocMeasures)\n",
            " |  A collection of bigram association measures. Each association measure\n",
            " |  is provided as a function with three arguments::\n",
            " |  \n",
            " |      bigram_score_fn(n_ii, (n_ix, n_xi), n_xx)\n",
            " |  \n",
            " |  The arguments constitute the marginals of a contingency table, counting\n",
            " |  the occurrences of particular events in a corpus. The letter i in the\n",
            " |  suffix refers to the appearance of the word in question, while x indicates\n",
            " |  the appearance of any word. Thus, for example:\n",
            " |  \n",
            " |  - n_ii counts ``(w1, w2)``, i.e. the bigram being scored\n",
            " |  - n_ix counts ``(w1, *)``\n",
            " |  - n_xi counts ``(*, w2)``\n",
            " |  - n_xx counts ``(*, *)``, i.e. any bigram\n",
            " |  \n",
            " |  This may be shown with respect to a contingency table::\n",
            " |  \n",
            " |              w1    ~w1\n",
            " |           ------ ------\n",
            " |       w2 | n_ii | n_oi | = n_xi\n",
            " |           ------ ------\n",
            " |      ~w2 | n_io | n_oo |\n",
            " |           ------ ------\n",
            " |           = n_ix        TOTAL = n_xx\n",
            " |  \n",
            " |  Method resolution order:\n",
            " |      BigramAssocMeasures\n",
            " |      NgramAssocMeasures\n",
            " |      builtins.object\n",
            " |  \n",
            " |  Class methods defined here:\n",
            " |  \n",
            " |  chi_sq(n_ii, n_ix_xi_tuple, n_xx) from abc.ABCMeta\n",
            " |      Scores bigrams using chi-square, i.e. phi-sq multiplied by the number\n",
            " |      of bigrams, as in Manning and Schutze 5.3.3.\n",
            " |  \n",
            " |  fisher(*marginals) from abc.ABCMeta\n",
            " |      Scores bigrams using Fisher's Exact Test (Pedersen 1996).  Less\n",
            " |      sensitive to small counts than PMI or Chi Sq, but also more expensive\n",
            " |      to compute. Requires scipy.\n",
            " |  \n",
            " |  phi_sq(*marginals) from abc.ABCMeta\n",
            " |      Scores bigrams using phi-square, the square of the Pearson correlation\n",
            " |      coefficient.\n",
            " |  \n",
            " |  ----------------------------------------------------------------------\n",
            " |  Static methods defined here:\n",
            " |  \n",
            " |  dice(n_ii, n_ix_xi_tuple, n_xx)\n",
            " |      Scores bigrams using Dice's coefficient.\n",
            " |  \n",
            " |  ----------------------------------------------------------------------\n",
            " |  Data and other attributes defined here:\n",
            " |  \n",
            " |  __abstractmethods__ = frozenset()\n",
            " |  \n",
            " |  ----------------------------------------------------------------------\n",
            " |  Class methods inherited from NgramAssocMeasures:\n",
            " |  \n",
            " |  jaccard(*marginals) from abc.ABCMeta\n",
            " |      Scores ngrams using the Jaccard index.\n",
            " |  \n",
            " |  likelihood_ratio(*marginals) from abc.ABCMeta\n",
            " |      Scores ngrams using likelihood ratios as in Manning and Schutze 5.3.4.\n",
            " |  \n",
            " |  pmi(*marginals) from abc.ABCMeta\n",
            " |      Scores ngrams by pointwise mutual information, as in Manning and\n",
            " |      Schutze 5.4.\n",
            " |  \n",
            " |  poisson_stirling(*marginals) from abc.ABCMeta\n",
            " |      Scores ngrams using the Poisson-Stirling measure.\n",
            " |  \n",
            " |  student_t(*marginals) from abc.ABCMeta\n",
            " |      Scores ngrams using Student's t test with independence hypothesis\n",
            " |      for unigrams, as in Manning and Schutze 5.3.1.\n",
            " |  \n",
            " |  ----------------------------------------------------------------------\n",
            " |  Static methods inherited from NgramAssocMeasures:\n",
            " |  \n",
            " |  mi_like(*marginals, **kwargs)\n",
            " |      Scores ngrams using a variant of mutual information. The keyword\n",
            " |      argument power sets an exponent (default 3) for the numerator. No\n",
            " |      logarithm of the result is calculated.\n",
            " |  \n",
            " |  raw_freq(*marginals)\n",
            " |      Scores ngrams by their frequency\n",
            " |  \n",
            " |  ----------------------------------------------------------------------\n",
            " |  Data descriptors inherited from NgramAssocMeasures:\n",
            " |  \n",
            " |  __dict__\n",
            " |      dictionary for instance variables (if defined)\n",
            " |  \n",
            " |  __weakref__\n",
            " |      list of weak references to the object (if defined)\n",
            "\n"
          ]
        }
      ],
      "source": [
        "#############################################\n",
        "help(nltk.collocations.BigramAssocMeasures)\n",
        "\n",
        "#############################################"
      ],
      "id": "314750c1"
    },
    {
      "cell_type": "code",
      "execution_count": 11,
      "metadata": {
        "id": "2c27f9b8",
        "colab": {
          "base_uri": "https://localhost:8080/"
        },
        "outputId": "8099eef0-a77e-4e80-d4c3-684307c936ef"
      },
      "outputs": [
        {
          "output_type": "stream",
          "name": "stdout",
          "text": [
            "0       My wife took me here on my birthday for breakf...\n",
            "1       I have no idea why some people give bad review...\n",
            "2       love the gyro plate. Rice is so good and I als...\n",
            "3       Quiessence is, simply put, beautiful. Full win...\n",
            "4       Drop what you're doing and drive here. After I...\n",
            "                              ...                        \n",
            "6905    Judging by some of the reviews, maybe I went o...\n",
            "6907    Should be called house of deliciousness! I cou...\n",
            "6908    I recently visited Olive and Ivy for business ...\n",
            "6909    My nephew just moved to Scottsdale recently so...\n",
            "6910    4-5 locations.. all 4.5 star average.. I think...\n",
            "Name: text, Length: 5851, dtype: object\n",
            "Hi ha nulls a la columna text? False\n",
            "['my', 'wife', 'took', 'me', 'here', 'on', 'my', 'birthday', 'for', 'breakfast', 'and', 'it', 'was', 'excellent', 'the', 'weather', 'was', 'perfect', 'which', 'made', 'sitting', 'outside', 'overlooking', 'their', 'grounds', 'an', 'absolute', 'pleasure', 'our', 'waitress', 'was', 'excellent', 'and', 'our', 'food', 'arrived', 'quickly', 'on', 'the', 'saturday', 'morning', 'it', 'looked', 'like', 'the', 'place', 'fills', 'up', 'pretty', 'quickly', 'so', 'the', 'earlier', 'you', 'get', 'here', 'the', 'better', 'do', 'yourself', 'a', 'favor', 'and', 'get', 'their', 'bloody', 'mary', 'it', 'was', 'phenomenal', 'and', 'simply', 'the', 'best', 'i', 'ever', 'had', 'i', 'pretty', 'sure', 'they', 'only', 'use', 'ingredients', 'from', 'their', 'garden', 'and', 'blend', 'them', 'fresh', 'when', 'you', 'order', 'it', 'it', 'was', 'amazing', 'while', 'everything']\n",
            "[('my', 'PRP$'), ('wife', 'NN'), ('took', 'VBD'), ('me', 'PRP'), ('here', 'RB'), ('on', 'IN'), ('my', 'PRP$'), ('birthday', 'NN'), ('for', 'IN'), ('breakfast', 'NN'), ('and', 'CC'), ('it', 'PRP'), ('was', 'VBD'), ('excellent', 'JJ'), ('the', 'DT'), ('weather', 'NN'), ('was', 'VBD'), ('perfect', 'JJ'), ('which', 'WDT'), ('made', 'VBD')]\n"
          ]
        }
      ],
      "source": [
        "#############################################\n",
        "print(df_star_texts.text)\n",
        "\n",
        "print('Hi ha nulls a la columna text?',df_star_texts['text'].isnull().values.any())\n",
        "# Treiem els texts buits\n",
        "#df_Text = [df_t for df_t in df_star_texts['text'].to_list() if df_t != 'empty']\n",
        "#print(type(df_Text))\n",
        "\n",
        "#Concatenem els valors del camp 'text' per obtenir un text pla.\n",
        "df_Text = \" \".join(df_star_texts.text.tolist()) #text pla\n",
        "\n",
        "# Obtenir els tokens del text de les opinions\n",
        "tokens_text = [w for w in word_tokenize(df_Text.lower()) if re.match('^[a-z]*$', w)]   # No li aplicaria el filtre de stop words\n",
        "print(tokens_text[:100])\n",
        "\n",
        "# Etiquetar els tokens pel seu PoS\n",
        "tokens_tagged = pos_tag(tokens_text)\n",
        "print(tokens_tagged[:20])\n",
        "\n",
        "#############################################\n",
        "\n"
      ],
      "id": "2c27f9b8"
    },
    {
      "cell_type": "markdown",
      "metadata": {
        "id": "c7287ecb"
      },
      "source": [
        "<i>Segon pas</i>: Calcular els 1000 millors bigrames i els 1000 millors trigrames a partir dels tokens etiquetats (e.g. [(Basic, JJ), ...]) del text. Utilitza la mètrica PMI o Likehood Ratio. Has d'indicar per què has triat una i no una altra. (0.5 punts)\n",
        "\n",
        "<b>Atenció</b>: Dels 1000 bigrames i trigrames, tria els que no comencen ni acaben amb una stopword."
      ],
      "id": "c7287ecb"
    },
    {
      "cell_type": "markdown",
      "metadata": {
        "id": "de2fe029"
      },
      "source": [
        "Recordem la classificació d'etiquetes PoS.\n",
        "\n",
        "<b>Etiquetas PoS</b>\n",
        "\n",
        "<ul>\n",
        "<li>DT: Determinant</li>\n",
        "<li>JJ: Adjectiu</li>\n",
        "<li>NN: Nom en singular</li>\n",
        "<li>NNS: Nom en plural</li>\n",
        "<li>VBD: Verb en passat</li>\n",
        "<li>VBG: Verb en gerundi</li>\n",
        "<li>MD: Verb modal</li>\n",
        "<li>IN: Preposició o conjunció subordinada</li>\n",
        "<li>PRP: Pronom</li>\n",
        "<li>RB: Adverbi</li>\n",
        "<li>RP: Partícula</li>    \n",
        "<li>CC: Conjunció coordinada</li>\n",
        "<li>CD: Numeral</li>\n",
        "</ul>"
      ],
      "id": "de2fe029"
    },
    {
      "cell_type": "code",
      "execution_count": 12,
      "metadata": {
        "id": "43dfad33",
        "colab": {
          "base_uri": "https://localhost:8080/"
        },
        "outputId": "8735feee-4640-43ce-863f-4382b6c9a12b"
      },
      "outputs": [
        {
          "output_type": "stream",
          "name": "stdout",
          "text": [
            "bigrams found 1000\n",
            "text_bigramcandidates_lr:  [(('this', 'DT'), ('place', 'NN')), (('it', 'PRP'), ('was', 'VBD')), (('if', 'IN'), ('you', 'PRP')), (('happy', 'JJ'), ('hour', 'NN')), (('i', 'NN'), ('had', 'VBD')), (('the', 'DT'), ('food', 'NN')), (('the', 'DT'), ('best', 'JJS')), (('we', 'PRP'), ('were', 'VBD')), (('the', 'DT'), ('the', 'DT')), (('a', 'DT'), ('little', 'JJ'))]\n",
            "trigrams found 1000\n",
            "text_trigramcandidates_lr:  [(('this', 'DT'), ('place', 'NN'), ('is', 'VBZ')), (('a', 'DT'), ('this', 'DT'), ('place', 'NN')), (('this', 'DT'), ('place', 'NN'), ('to', 'TO')), (('the', 'DT'), ('it', 'PRP'), ('was', 'VBD')), (('the', 'DT'), ('this', 'DT'), ('place', 'NN')), (('about', 'IN'), ('this', 'DT'), ('place', 'NN')), (('love', 'VBP'), ('this', 'DT'), ('place', 'NN')), (('this', 'DT'), ('place', 'NN'), ('has', 'VBZ')), (('this', 'DT'), ('place', 'NN'), ('for', 'IN')), (('this', 'DT'), ('place', 'NN'), ('a', 'DT'))]\n",
            "text_bigram_lr_filter:  [(('happy', 'JJ'), ('hour', 'NN')), (('first', 'JJ'), ('time', 'NN')), (('go', 'VB'), ('back', 'RB')), (('ice', 'NN'), ('cream', 'NN')), (('next', 'JJ'), ('time', 'NN')), (('really', 'RB'), ('good', 'JJ')), (('ca', 'MD'), ('wait', 'VB')), (('sweet', 'JJ'), ('potato', 'NN')), (('pretty', 'RB'), ('good', 'JJ')), (('last', 'JJ'), ('night', 'NN'))]\n",
            "text_trigram_lr_filter:  [(('love', 'VBP'), ('this', 'DT'), ('place', 'NN')), (('love', 'VB'), ('this', 'DT'), ('place', 'NN')), (('recommend', 'VB'), ('this', 'DT'), ('place', 'NN')), (('like', 'IN'), ('this', 'DT'), ('place', 'NN')), (('give', 'VB'), ('this', 'DT'), ('place', 'NN')), (('found', 'VBD'), ('this', 'DT'), ('place', 'NN')), (('recommend', 'VBP'), ('this', 'DT'), ('place', 'NN')), (('check', 'VB'), ('this', 'DT'), ('place', 'NN')), (('love', 'NN'), ('this', 'DT'), ('place', 'NN')), (('like', 'VB'), ('this', 'DT'), ('place', 'NN'))]\n",
            "text_bigram_lr_string:  ['happy hour', 'first time', 'go back', 'ice cream', 'next time', 'really good', 'ca wait', 'sweet potato', 'pretty good', 'last night']\n",
            "text_trigram_lr_string:  ['love this place', 'love this place', 'recommend this place', 'like this place', 'give this place', 'found this place', 'recommend this place', 'check this place', 'love this place', 'like this place']\n"
          ]
        }
      ],
      "source": [
        "from os import O_NONBLOCK\n",
        "#############################################\n",
        "# Es carreguen les mides pel càlcul de bigrams i trigrams\n",
        "bigram_measures = nltk.collocations.BigramAssocMeasures()\n",
        "trigram_measures = nltk.collocations.TrigramAssocMeasures()\n",
        "\n",
        "def is_good_ngram(candidate):\n",
        "    test = True\n",
        "    if candidate[0][0] in stopwords or candidate[-1][0] in stopwords:\n",
        "        test = False\n",
        "    return test\n",
        "\n",
        "def convert_tupla_string(ngram_tuples):\n",
        "    val = []\n",
        "    for nt in ngram_tuples:\n",
        "        val.append(nt[0])\n",
        "    return \" \".join(val)\n",
        "\n",
        "\"\"\"\n",
        "El PMI (Pointwise Mutual Information) mesura la relació entre dues paraules en un corpus de text, comparant la probabilitat \n",
        "d'aparició conjunta de les paraules amb la seva probabilitat d'aparició individual. El PMI és una bona opció si es vol mesurar \n",
        "la força de la relació entre paraules específiques en les ressenyes del restaurant, per exemple, si es vol saber si els \n",
        "clients que mencionen \"menjar\" també mencionen \"servei\" amb freqüència.\n",
        "\n",
        "D'altra banda, el Likelihood Ratio mesura la freqüència de la paraula en el corpus de text i la freqüència d'aquesta paraula \n",
        "en un subconjunt específic del corpus (com ara les ressenyes positives o negatives). El Likelihood Ratio és una opció adequada \n",
        "si es vol mesurar la probabilitat que una paraula aparegui en una ressenya positiva en comparació amb la probabilitat que \n",
        "aparegui en una ressenya negativa.\n",
        "\n",
        "En resum, si es vol mesurar la relació entre paraules específiques en les ressenyes del restaurant, seria més adequat utilitzar \n",
        "el PMI. Si es vol mesurar la probabilitat que una paraula aparegui en una ressenya positiva en comparació amb una negativa, \n",
        "seria més adequat utilitzar el Likelihood Ratio. Com que el nostre objectiu és descobrir trets característics de les opinions \n",
        "sobre restaurants i classificar si una opinió és positiva o negativa, ens decantem pel Likelihood Ratio.\n",
        "\"\"\"\n",
        "\n",
        "################ NGRAMS AMB LIKEHOOD RATIO ##############################################33\n",
        "text_bigramcandidates_lr = BigramCollocationFinder.from_words(tokens_tagged).nbest(bigram_measures.likelihood_ratio,1000)\n",
        "print('bigrams found',len(text_bigramcandidates_lr))\n",
        "print('text_bigramcandidates_lr: ',text_bigramcandidates_lr[:10])\n",
        "text_trigramcandidates_lr = TrigramCollocationFinder.from_words(tokens_tagged).nbest(trigram_measures.likelihood_ratio,1000)\n",
        "print('trigrams found',len(text_trigramcandidates_lr))\n",
        "print('text_trigramcandidates_lr: ',text_trigramcandidates_lr[:10])\n",
        "\n",
        "# Filtratge dels ngrams que comencin o acabin amb un stopword\n",
        "text_bigram_lr_filter = [t_bg for t_bg in text_bigramcandidates_lr if is_good_ngram(t_bg) == True]\n",
        "print('text_bigram_lr_filter: ',text_bigram_lr_filter[:10])\n",
        "text_trigram_lr_filter = [t_tg for t_tg in text_trigramcandidates_lr if is_good_ngram(t_tg) == True]\n",
        "print('text_trigram_lr_filter: ',text_trigram_lr_filter[:10])\n",
        "\n",
        "# Convertim tuplas a strings\n",
        "text_bigram_lr_string = [convert_tupla_string(t_bgrn) for t_bgrn in text_bigram_lr_filter]\n",
        "print('text_bigram_lr_string: ',text_bigram_lr_string[:10])\n",
        "text_trigram_lr_string = [convert_tupla_string(t_tgrn) for t_tgrn in text_trigram_lr_filter]\n",
        "print('text_trigram_lr_string: ',text_trigram_lr_string[:10])"
      ],
      "id": "43dfad33"
    },
    {
      "cell_type": "markdown",
      "metadata": {
        "id": "3883d1ca"
      },
      "source": [
        "<div style=\"background-color: #EDF7FF; border-color: #7C9DBF; border-left: 5px solid #7C9DBF; padding: 0.5em;\">\n",
        "<strong>Exercici:</strong> Detectar ngrames que compleixen el patró sintàctic d'un sintagma nominal (e.g: adjectiu + nom en singular/plural i nom + nom) (0.5 punts)\n",
        "</div>"
      ],
      "id": "3883d1ca"
    },
    {
      "cell_type": "code",
      "execution_count": 13,
      "metadata": {
        "id": "50c96d2e",
        "colab": {
          "base_uri": "https://localhost:8080/"
        },
        "outputId": "6cbdda89-3b83-4333-e3a2-769a65492eeb"
      },
      "outputs": [
        {
          "output_type": "stream",
          "name": "stdout",
          "text": [
            "[('first', 'time'), ('sweet', 'potato'), ('next', 'time'), ('french', 'toast'), ('strip', 'mall'), ('wait', 'staff'), ('mexican', 'food'), ('last', 'night'), ('ice', 'cream'), ('happy', 'hour')]\n"
          ]
        }
      ],
      "source": [
        "#############################################\n",
        "def obte_string_form(list_tuple):\n",
        "    words = [cti[0] for cti in list_tuple]\n",
        "    string_form = \"_\".join(words)\n",
        "    return string_form\n",
        "\n",
        "\"\"\"\n",
        "NP: {<JJ><NN>|<JJ><NNS>}: Un sintagma nominal (NP) pot ser format per un adjectiu (JJ) seguit d'un nom singular (NN) o un adjectiu seguit d'un nom plural (NNS).\n",
        "NP: {<DT>?<JJ>*<NN>} : Un sintagma nominal pot ser format per un determinat (DT) opcional, zero o més adjectius (JJ) i un nom singular (NN).\n",
        "NP: {<CD>?<JJ>*<NNS>} : Un sintagma nominal pot ser format per un nombre (CD) opcional, zero o més adjectius (JJ) i un nom plural (NNS).\n",
        "NP: {<PRP>|<PRP$>|<POS>} : Un sintagma nominal pot ser format per un pronom personal (PRP), un pronom possessiu (PRP$) o un apòstrof posessiu (POS).\n",
        "NP: {<NNP>+} : Un sintagma nominal pot ser format per un o més noms propis (NNP).\n",
        "CN: {<NN><NN>}: Un sintagma nominal (CN) pot ser format per dos noms seguits (NN). (Nom compost o Compund name)\n",
        "\"\"\"\n",
        "\n",
        "def obte_np_pattern(tokens_tag):\n",
        "    n_patterns = \"\"\"\n",
        "      NP: {<DT>?<JJ><NN>|<CD>?<JJ><NNS>|<PRP>|<PRP$>|<POS>|<NNP>+}   # Nominal Phrase\n",
        "      CN: {<NN><NN>|<NN><NNS>}   # Compound name\n",
        "      \"\"\"\n",
        "    n_parser = nltk.RegexpParser(n_patterns)\n",
        "    \n",
        "    # Create a list of trees, one per collocation\n",
        "    trees = [n_parser.parse(collocation) for collocation in tokens_tag]\n",
        "    \n",
        "    # Extract the matches from the trees\n",
        "    n_and_cn = []\n",
        "    for i in range(len(tokens_tag)):\n",
        "        collocation_matches = n_parser.parse(tokens_tag[i]).subtrees(filter=lambda x: x.label() in ['NP', 'CN'])\n",
        "        for match in collocation_matches:\n",
        "            n_and_cn.append(tuple(leaf[0] for leaf in match.leaves()))\n",
        "        \n",
        "    return n_and_cn\n",
        "\n",
        "text_bigrams_and_trigrams = text_bigram_lr_filter + text_trigram_lr_filter\n",
        "\n",
        "text_np_pattern = obte_np_pattern(text_bigrams_and_trigrams)\n",
        "print(list(set(text_np_pattern[:10])))\n",
        "#############################################"
      ],
      "id": "50c96d2e"
    },
    {
      "cell_type": "markdown",
      "metadata": {
        "id": "535c0a10"
      },
      "source": [
        "<div style=\"background-color: #EDF7FF; border-color: #7C9DBF; border-left: 5px solid #7C9DBF; padding: 0.5em;\">\n",
        "<strong>Exercici:</strong> Detectar col·locacions amb un model de detecció de frases, amb el mòdul Phraser de Gensim. Entrena el model amb totes les opinions (0,5 punts)\n",
        "</div>"
      ],
      "id": "535c0a10"
    },
    {
      "cell_type": "markdown",
      "metadata": {
        "id": "3a7edb87"
      },
      "source": [
        "<i>Primer pas</i>: Convertir les opinions en una llista de phrases. Les phrases no han de ser stopwords. Tampoc no han de començar ni acabar amb una stopword. (0.5 punts)"
      ],
      "id": "3a7edb87"
    },
    {
      "cell_type": "code",
      "execution_count": 14,
      "metadata": {
        "id": "3eba6bcc"
      },
      "outputs": [],
      "source": [
        "#############################################\n",
        "from gensim.models.phrases import Phrases, Phraser\n",
        "from gensim.utils import simple_preprocess\n",
        "#############################################"
      ],
      "id": "3eba6bcc"
    },
    {
      "cell_type": "code",
      "source": [
        "simple_preprocess(df_star_texts['text'].loc[0])[6] in stopwords"
      ],
      "metadata": {
        "colab": {
          "base_uri": "https://localhost:8080/"
        },
        "id": "7ldJuXQ3egqD",
        "outputId": "a0e8807d-b0bc-4376-a935-92e060dc78f9"
      },
      "id": "7ldJuXQ3egqD",
      "execution_count": 60,
      "outputs": [
        {
          "output_type": "execute_result",
          "data": {
            "text/plain": [
              "True"
            ]
          },
          "metadata": {},
          "execution_count": 60
        }
      ]
    },
    {
      "cell_type": "code",
      "execution_count": 61,
      "metadata": {
        "id": "97f2bd0b",
        "colab": {
          "base_uri": "https://localhost:8080/"
        },
        "outputId": "fd5fd1a1-b171-4927-afc5-92cccec8cfd3"
      },
      "outputs": [
        {
          "output_type": "stream",
          "name": "stdout",
          "text": [
            "0     My wife took me here on my birthday for breakf...\n",
            "1     I have no idea why some people give bad review...\n",
            "2     love the gyro plate. Rice is so good and I als...\n",
            "3     Quiessence is, simply put, beautiful. Full win...\n",
            "4     Drop what you're doing and drive here. After I...\n",
            "5     Definitely come for Happy hour! Prices are ama...\n",
            "6     Nobuo shows his unique talents with everything...\n",
            "7     Wonderful Vietnamese sandwich shoppe. Their ba...\n",
            "8     They have a limited time thing going on right ...\n",
            "9     I'm 2 weeks new to Phoenix. I looked up Irish ...\n",
            "10    Was it worth the 21$ for a salad and small piz...\n",
            "Name: text, dtype: object\n",
            "[['wife', 'took', 'birthday', 'breakfast', 'excellent', 'weather', 'perfect', 'made', 'sitting', 'outside', 'overlooking', 'grounds', 'absolute', 'pleasure', 'waitress', 'excellent', 'food', 'arrived', 'quickly', 'semi', 'busy', 'saturday', 'morning', 'looked', 'like', 'place', 'fills', 'pretty', 'quickly', 'earlier', 'get', 'better', 'favor', 'get', 'bloody', 'mary', 'phenomenal', 'simply', 'best', 'ever', 'pretty', 'sure', 'use', 'ingredients', 'garden', 'blend', 'fresh', 'order', 'amazing', 'everything', 'menu', 'looks', 'excellent', 'white', 'truffle', 'scrambled', 'eggs', 'vegetable', 'skillet', 'tasty', 'delicious', 'came', 'pieces', 'griddled', 'bread', 'amazing', 'absolutely', 'made', 'meal', 'complete', 'best', 'toast', 'ever', 'anyway', 'wait', 'go', 'back'], ['idea', 'people', 'give', 'bad', 'reviews', 'place', 'goes', 'show', 'please', 'everyone', 'probably', 'griping', 'something', 'fault', 'many', 'people', 'like', 'case', 'friend', 'arrived', 'pm', 'past', 'sunday', 'pretty', 'crowded', 'thought', 'sunday', 'evening', 'thought', 'would', 'wait', 'forever', 'get', 'seat', 'said', 'seated', 'girl', 'comes', 'back', 'seating', 'someone', 'else', 'seated', 'waiter', 'came', 'got', 'drink', 'orders', 'everyone', 'pleasant', 'host', 'seated', 'us', 'waiter', 'server', 'prices', 'good', 'well', 'placed', 'orders', 'decided', 'wanted', 'shared', 'baked', 'spaghetti', 'calzone', 'small', 'beef', 'pizza', 'try', 'calzone', 'huge', 'got', 'smallest', 'one', 'personal', 'got', 'small', 'pizza', 'awesome', 'friend', 'liked', 'pizza', 'better', 'liked', 'calzone', 'better', 'calzone', 'sweetish', 'sauce', 'like', 'sauce', 'box', 'part', 'pizza', 'take', 'home', 'door', 'everything', 'great', 'like', 'bad', 'reviewers', 'goes', 'show', 'try', 'things', 'bad', 'reviewers', 'serious', 'issues'], ['love', 'gyro', 'plate', 'rice', 'good', 'also', 'dig', 'candy', 'selection'], ['quiessence', 'simply', 'put', 'beautiful', 'full', 'windows', 'earthy', 'wooden', 'walls', 'give', 'feeling', 'warmth', 'inside', 'restaurant', 'perched', 'middle', 'farm', 'restaurant', 'seemed', 'fairly', 'full', 'even', 'tuesday', 'evening', 'secured', 'reservations', 'couple', 'days', 'friend', 'sampled', 'sandwiches', 'farm', 'kitchen', 'earlier', 'week', 'impressed', 'enough', 'want', 'eat', 'restaurant', 'crisp', 'fresh', 'veggies', 'disappoint', 'ordered', 'salad', 'orange', 'grapefruit', 'slices', 'crudites', 'start', 'good', 'even', 'know', 'much', 'liked', 'raw', 'radishes', 'turnips', 'tried', 'pesto', 'aioli', 'sauces', 'entrees', 'ordered', 'lamb', 'friend', 'ordered', 'pork', 'shoulder', 'service', 'started', 'good', 'trailed', 'quickly', 'waiting', 'food', 'took', 'long', 'time', 'couple', 'seated', 'us', 'received', 'finished', 'entrees', 'received', 'one', 'bothered', 'explain', 'situation', 'maitre', 'apologized', 'almost', 'minutes', 'later', 'apparently', 'chef', 'unhappy', 'sauce', 'entree', 'started', 'anew', 'really', 'problem', 'communicated', 'us', 'earlier', 'troubles', 'comped', 'glass', 'wine', 'ordered', 'forgot', 'bring', 'entree', 'requested', 'also', 'offer', 'us', 'bread', 'echo', 'lady', 'whispered', 'us', 'way', 'ask', 'bread', 'received', 'warm', 'foccacia', 'apple', 'walnut', 'pomegranate', 'slices', 'wonder', 'honey', 'butter', 'yum', 'entrees', 'solid', 'quite', 'live', 'innovation', 'freshness', 'vegetables', 'lamb', 'sauce', 'delicious', 'meat', 'tough', 'maybe', 'vegetarian', 'entrees', 'way', 'go', 'dessert', 'gingerbread', 'pear', 'cake', 'yet', 'another', 'winner', 'entrees', 'tad', 'inspired', 'service', 'spotty', 'place', 'definitely', 'would', 'warranted', 'five', 'stars', 'return', 'like', 'try', 'tasting', 'menu', 'bill', 'came', 'two', 'people', 'including', 'tip', 'drinks'], ['drop', 'drive', 'ate', 'go', 'back', 'next', 'day', 'food', 'good', 'cute', 'little', 'green', 'building', 'may', 'gone', 'competely', 'unoticed', 'driving', 'palm', 'rd', 'avoid', 'construction', 'waiting', 'turn', 'onto', 'th', 'street', 'grand', 'opening', 'sign', 'caught', 'eye', 'little', 'yelping', 'soul', 'leaped', 'joy', 'new', 'place', 'try', 'looked', 'desolate', 'outside', 'opened', 'door', 'put', 'easy', 'decor', 'smell', 'cleanliness', 'inside', 'ordered', 'dinner', 'two', 'go', 'menu', 'awesome', 'loved', 'seeing', 'variety', 'poblano', 'peppers', 'mole', 'mahi', 'mahi', 'mushrooms', 'something', 'wrapped', 'banana', 'leaves', 'made', 'difficult', 'choose', 'something', 'far', 'la', 'condesa', 'shrimp', 'burro', 'baja', 'sur', 'dogfish', 'shark', 'taco', 'delicious', 'meals', 'shrimp', 'burro', 'stole', 'show', 'much', 'flavor', 'snagged', 'bites', 'hubbys', 'mole', 'mahi', 'mahi', 'burros', 'mmmm', 'delight', 'salsa', 'bar', 'endless', 'really', 'stocked', 'excited', 'try', 'strawberry', 'salsa', 'hot', 'fact', 'big', 'wimp', 'comes', 'hot', 'peppers', 'horchata', 'handmade', 'delicious', 'throw', 'pecans', 'fruit', 'yummy', 'bonus', 'good', 'food', 'enough', 'win', 'art', 'restaurant', 'sho', 'sucker', 'mexican', 'folk', 'art', 'frida', 'kahlo', 'oprah', 'painting', 'diego', 'hanging', 'salsa', 'bar', 'amazing', 'paintings', 'great', 'love', 'artist'], ['definitely', 'come', 'happy', 'hour', 'prices', 'amazing', 'sake', 'bombers', 'great', 'atmosphere', 'wait', 'staff', 'incredibly', 'nice', 'right', 'needs', 'ask', 'thing', 'always', 'spot', 'place', 'gets', 'crowded', 'evening', 'especially', 'plan', 'sitting', 'outside', 'wish', 'one', 'apollo', 'beach', 'brandon'], ['nobuo', 'shows', 'unique', 'talents', 'everything', 'menu', 'carefully', 'crafted', 'features', 'much', 'drink', 'start', 'pork', 'belly', 'buns', 'stout', 'go', 'longer'], ['wonderful', 'vietnamese', 'sandwich', 'shoppe', 'baguettes', 'great', 'hot', 'oven', 'butter', 'one', 'many', 'sandwich', 'choices', 'modest', 'selection', 'baked', 'goods', 'along', 'best', 'egg', 'rolls', 'around', 'bring', 'cash', 'atm', 'card', 'credit', 'cards', 'accepted', 'atm', 'premises'], ['limited', 'time', 'thing', 'going', 'right', 'bbq', 'chicken', 'pizza', 'sure', 'long', 'going', 'last', 'let', 'say', 'amazing', 'probably', 'best', 'bbq', 'chicken', 'pizza', 'ever', 'tried', 'things', 'like', 'tomato', 'basil', 'soup', 'many', 'sandwiches', 'good', 'fresh', 'every', 'time', 'stars', 'pizza', 'rate', 'jason', 'deli', 'would', 'get'], ['weeks', 'new', 'phoenix', 'looked', 'irish', 'bars', 'town', 'found', 'rosie', 'decor', 'ambience', 'outstanding', 'went', 'wednesday', 'night', 'hopes', 'finding', 'friendly', 'folks', 'exactly', 'happened', 'ate', 'dinner', 'bar', 'marcy', 'bartender', 'friendly', 'helpful', 'introduced', 'whole', 'bunch', 'people', 'dinner', 'rueben', 'sandwich', 'pretty', 'large', 'good', 'small', 'rosie', 'salad', 'side', 'job', 'wish', 'made', 'lettuce', 'iceburg', 'bacon', 'eggs', 'toppings', 'helped', 'whole', 'lot', 'drank', 'nice', 'cold', 'smithwick', 'tap', 'followed', 'vodka', 'tonics', 'whole', 'tab', 'basketball', 'game', 'first', 'got', 'game', 'jukebox', 'playing', 'fabulous', 'mix', 'best', 'oldies', 'around', 'pm', 'live', 'band', 'played', 'catch', 'much', 'performance', 'notice', 'really', 'like', 'singer', 'voice', 'rare', 'since', 'typically', 'care', 'female', 'vocalists', 'people', 'spoke', 'super', 'nice', 'welcoming', 'sure', 'see', 'bunch', 'look', 'forward']]\n"
          ]
        }
      ],
      "source": [
        "#############################################\n",
        "# Define a function to preprocess the text\n",
        "def preprocess_text(text):\n",
        "    # Tokenize the text\n",
        "    tokens = simple_preprocess(text)\n",
        "    # Remove the tokens that are stopwords or colocations that start or end with stopword\n",
        "    good_tokens = []\n",
        "    for token in tokens:\n",
        "      if token not in stopwords:\n",
        "        good_tokens.append(token)\n",
        "      elif '_' in token:\n",
        "        if token.split('_')[0] not in stopwords and token.split('_')[1] not in stopwords:\n",
        "          good_tokens.append(token)\n",
        "      # Return the remaining tokens\n",
        "    return good_tokens\n",
        "\n",
        "# Preprocess the text\n",
        "print(df_star_texts['text'].loc[:10])\n",
        "texts = [preprocess_text(text) for text in df_star_texts['text']]\n",
        "print(texts[:10])\n",
        "\n",
        "#############################################\n"
      ],
      "id": "97f2bd0b"
    },
    {
      "cell_type": "markdown",
      "metadata": {
        "id": "d4e13a71"
      },
      "source": [
        "## 1.2 Vectoritzar paraules i termes (2 punts)\n",
        "\n",
        "Explorarem la vectorització de paraules i termes amb el mètode Word2Vec."
      ],
      "id": "d4e13a71"
    },
    {
      "cell_type": "markdown",
      "metadata": {
        "id": "391acd67"
      },
      "source": [
        "Recordem que el paquet gensim implementa un mètode per entrenar models Word2Vec."
      ],
      "id": "391acd67"
    },
    {
      "cell_type": "code",
      "execution_count": 16,
      "metadata": {
        "id": "9c3a3166"
      },
      "outputs": [],
      "source": [
        "import gensim"
      ],
      "id": "9c3a3166"
    },
    {
      "cell_type": "code",
      "execution_count": 17,
      "metadata": {
        "id": "4OGwpBv8fOtp"
      },
      "outputs": [],
      "source": [
        "#############################################\n",
        "from gensim.models.phrases import Phraser\n",
        "from gensim.models import Word2Vec\n",
        "#############################################\n",
        "\n"
      ],
      "id": "4OGwpBv8fOtp"
    },
    {
      "cell_type": "markdown",
      "metadata": {
        "id": "20aaa498"
      },
      "source": [
        "<div style=\"background-color: #EDF7FF; border-color: #7C9DBF; border-left: 5px solid #7C9DBF; padding: 0.5em;\">\n",
        "<strong>Exercici:</strong> Obtenir targets de les opinions i els seus aspectes utilitzant el model word2vec (2 punts)\n",
        "</div>"
      ],
      "id": "20aaa498"
    },
    {
      "cell_type": "markdown",
      "metadata": {
        "id": "a9d68931"
      },
      "source": [
        "<i>Primer pas</i>: Convertir les phrases de cada oració en un token. Ho farem concatenant els tokens de la phrase amb el caràcter '_' (e.g: 'scrambled eggs' -> 'scrambled_eggs'). Aleshores, a cada oració substituïm els bigrames que són phrases per la forma tokenitzada (e.g: I made scrambled eggs -> I made scrambled_eggs). Així, les col·locacions formaran part del vocabulari del model word2vec que generarem."
      ],
      "id": "a9d68931"
    },
    {
      "cell_type": "code",
      "execution_count": 62,
      "metadata": {
        "id": "dee08237",
        "colab": {
          "base_uri": "https://localhost:8080/"
        },
        "outputId": "d258d9f0-f5cf-4aa8-f7bd-33b848caa3e2"
      },
      "outputs": [
        {
          "output_type": "stream",
          "name": "stdout",
          "text": [
            "[['wife_took', 'birthday', 'breakfast', 'excellent', 'weather_perfect', 'made', 'sitting_outside', 'overlooking', 'grounds', 'absolute', 'pleasure_waitress', 'excellent_food', 'arrived_quickly', 'semi', 'busy_saturday', 'morning', 'looked_like', 'place', 'fills', 'pretty_quickly', 'earlier_get', 'better', 'favor_get', 'bloody_mary', 'phenomenal', 'simply_best', 'ever', 'pretty_sure', 'use_ingredients', 'garden', 'blend', 'fresh', 'order', 'amazing_everything', 'menu_looks', 'excellent', 'white_truffle', 'scrambled_eggs', 'vegetable', 'skillet', 'tasty', 'delicious', 'came_pieces', 'griddled', 'bread_amazing', 'absolutely_made', 'meal_complete', 'best', 'toast_ever', 'anyway', 'wait_go', 'back'], ['idea_people', 'give', 'bad_reviews', 'place', 'goes_show', 'please_everyone', 'probably', 'griping', 'something', 'fault', 'many_people', 'like', 'case', 'friend_arrived', 'pm', 'past_sunday', 'pretty_crowded', 'thought', 'sunday_evening', 'thought_would', 'wait', 'forever_get', 'seat', 'said_seated', 'girl', 'comes_back', 'seating', 'someone_else', 'seated', 'waiter_came', 'got', 'drink_orders', 'everyone', 'pleasant', 'host_seated', 'us', 'waiter', 'server', 'prices_good', 'well', 'placed', 'orders_decided', 'wanted', 'shared', 'baked_spaghetti', 'calzone', 'small', 'beef', 'pizza', 'try', 'calzone', 'huge', 'got', 'smallest', 'one', 'personal', 'got_small', 'pizza_awesome', 'friend', 'liked', 'pizza_better', 'liked', 'calzone_better', 'calzone', 'sweetish', 'sauce', 'like', 'sauce', 'box', 'part', 'pizza', 'take_home', 'door', 'everything', 'great', 'like', 'bad_reviewers', 'goes_show', 'try_things', 'bad_reviewers', 'serious_issues'], ['love', 'gyro_plate', 'rice', 'good', 'also', 'dig', 'candy', 'selection'], ['quiessence', 'simply_put', 'beautiful', 'full', 'windows', 'earthy', 'wooden', 'walls', 'give', 'feeling', 'warmth', 'inside_restaurant', 'perched', 'middle_farm', 'restaurant', 'seemed', 'fairly_full', 'even', 'tuesday', 'evening', 'secured', 'reservations', 'couple_days', 'friend', 'sampled', 'sandwiches', 'farm_kitchen', 'earlier_week', 'impressed', 'enough', 'want_eat', 'restaurant', 'crisp_fresh', 'veggies', 'disappoint_ordered', 'salad_orange', 'grapefruit', 'slices', 'crudites', 'start', 'good', 'even_know', 'much', 'liked', 'raw', 'radishes', 'turnips', 'tried', 'pesto', 'aioli', 'sauces_entrees', 'ordered_lamb', 'friend_ordered', 'pork_shoulder', 'service', 'started', 'good', 'trailed', 'quickly', 'waiting_food', 'took_long', 'time', 'couple_seated', 'us_received', 'finished', 'entrees_received', 'one_bothered', 'explain_situation', 'maitre', 'apologized', 'almost_minutes', 'later', 'apparently', 'chef', 'unhappy', 'sauce', 'entree', 'started', 'anew', 'really', 'problem', 'communicated', 'us', 'earlier', 'troubles', 'comped', 'glass_wine', 'ordered', 'forgot_bring', 'entree', 'requested', 'also_offer', 'us', 'bread', 'echo', 'lady', 'whispered', 'us', 'way', 'ask', 'bread', 'received', 'warm', 'foccacia', 'apple_walnut', 'pomegranate', 'slices', 'wonder', 'honey_butter', 'yum', 'entrees_solid', 'quite', 'live', 'innovation', 'freshness_vegetables', 'lamb', 'sauce', 'delicious', 'meat', 'tough_maybe', 'vegetarian_entrees', 'way_go', 'dessert', 'gingerbread', 'pear', 'cake', 'yet_another', 'winner', 'entrees', 'tad', 'inspired', 'service_spotty', 'place_definitely', 'would', 'warranted', 'five_stars', 'return', 'like', 'try', 'tasting_menu', 'bill_came', 'two_people', 'including_tip', 'drinks'], ['drop', 'drive', 'ate', 'go_back', 'next_day', 'food_good', 'cute_little', 'green', 'building', 'may', 'gone', 'competely', 'unoticed', 'driving', 'palm', 'rd', 'avoid', 'construction', 'waiting', 'turn', 'onto', 'th_street', 'grand_opening', 'sign', 'caught_eye', 'little', 'yelping', 'soul', 'leaped', 'joy', 'new', 'place', 'try', 'looked', 'desolate', 'outside_opened', 'door', 'put', 'easy', 'decor', 'smell', 'cleanliness', 'inside', 'ordered', 'dinner', 'two', 'go', 'menu', 'awesome', 'loved', 'seeing', 'variety', 'poblano', 'peppers', 'mole_mahi', 'mahi', 'mushrooms', 'something', 'wrapped_banana', 'leaves', 'made', 'difficult_choose', 'something', 'far', 'la_condesa', 'shrimp_burro', 'baja', 'sur', 'dogfish', 'shark', 'taco', 'delicious', 'meals', 'shrimp_burro', 'stole_show', 'much_flavor', 'snagged', 'bites', 'hubbys', 'mole_mahi', 'mahi', 'burros', 'mmmm', 'delight', 'salsa_bar', 'endless', 'really', 'stocked', 'excited_try', 'strawberry_salsa', 'hot', 'fact', 'big', 'wimp', 'comes_hot', 'peppers', 'horchata', 'handmade', 'delicious', 'throw', 'pecans_fruit', 'yummy', 'bonus', 'good_food', 'enough', 'win', 'art', 'restaurant', 'sho', 'sucker', 'mexican', 'folk', 'art', 'frida', 'kahlo', 'oprah', 'painting', 'diego', 'hanging', 'salsa_bar', 'amazing', 'paintings', 'great', 'love', 'artist'], ['definitely_come', 'happy_hour', 'prices_amazing', 'sake_bombers', 'great_atmosphere', 'wait_staff', 'incredibly_nice', 'right', 'needs', 'ask', 'thing', 'always', 'spot', 'place_gets', 'crowded', 'evening', 'especially', 'plan', 'sitting_outside', 'wish_one', 'apollo', 'beach', 'brandon'], ['nobuo', 'shows', 'unique', 'talents', 'everything_menu', 'carefully_crafted', 'features', 'much', 'drink', 'start_pork', 'belly', 'buns', 'stout', 'go', 'longer'], ['wonderful', 'vietnamese', 'sandwich', 'shoppe', 'baguettes', 'great', 'hot', 'oven', 'butter', 'one_many', 'sandwich', 'choices', 'modest', 'selection', 'baked_goods', 'along', 'best_egg', 'rolls', 'around', 'bring_cash', 'atm', 'card', 'credit_cards', 'accepted', 'atm', 'premises'], ['limited', 'time', 'thing_going', 'right', 'bbq_chicken', 'pizza', 'sure', 'long', 'going', 'last', 'let_say', 'amazing', 'probably_best', 'bbq_chicken', 'pizza_ever', 'tried', 'things_like', 'tomato_basil', 'soup', 'many', 'sandwiches_good', 'fresh', 'every_time', 'stars', 'pizza', 'rate', 'jason_deli', 'would', 'get'], ['weeks', 'new_phoenix', 'looked', 'irish_bars', 'town', 'found', 'rosie', 'decor_ambience', 'outstanding', 'went_wednesday', 'night', 'hopes', 'finding', 'friendly_folks', 'exactly', 'happened', 'ate', 'dinner', 'bar', 'marcy', 'bartender_friendly', 'helpful', 'introduced', 'whole_bunch', 'people', 'dinner', 'rueben', 'sandwich_pretty', 'large', 'good', 'small', 'rosie', 'salad_side', 'job', 'wish', 'made', 'lettuce', 'iceburg', 'bacon_eggs', 'toppings', 'helped', 'whole_lot', 'drank', 'nice', 'cold', 'smithwick_tap', 'followed', 'vodka', 'tonics', 'whole', 'tab', 'basketball_game', 'first', 'got_game', 'jukebox_playing', 'fabulous', 'mix', 'best', 'oldies', 'around_pm', 'live_band', 'played', 'catch', 'much', 'performance', 'notice', 'really_like', 'singer', 'voice', 'rare', 'since_typically', 'care', 'female', 'vocalists', 'people', 'spoke', 'super_nice', 'welcoming', 'sure', 'see', 'bunch', 'look_forward'], ['worth', 'salad_small', 'pizza_absolutely', 'bad_service', 'maybe_guys', 'grandma', 'died', 'know_want', 'tell', 'really', 'made', 'mad', 'experience', 'order', 'small_pizza', 'salad', 'guys_could', 'cared_less', 'took', 'sat_looking', 'around', 'hmm', 'sign_saying', 'large_pizza', 'large_salad', 'wow', 'would_nice', 'guy_told', 'us_left', 'hungry', 'mad', 'unsatisfied', 'owner', 'teach', 'employees', 'value', 'upselling', 'telling', 'specials', 'something', 'small', 'affect', 'customers', 'experience', 'negatively', 'salads', 'severely', 'overpriced', 'go_back', 'unless', 'desperate'], ['first_time', 'friend_went', 'delicious', 'food', 'garlic_knots', 'favorite', 'course', 'wine', 'going_back', 'alot'], ['love_place', 'coming', 'ages', 'favorites', 'elsa', 'chicken_sandwich', 'burgers', 'dragon_chicken', 'wings', 'china', 'little', 'chicken_sandwich', 'hot_pepper', 'chicken_sandwich', 'atmosphere', 'always_fun', 'art', 'display', 'abstract', 'totally_cool'], ['love_love', 'love_place', 'boss', 'healthy', 'eating', 'recommended_place', 'went', 'highly_skeptical', 'friends', 'one', 'dinner', 'enough', 'convert', 'believers', 'food_good', 'shrimp_dumplings', 'onion_tart', 'starters', 'ordered', 'shirataki', 'noodles', 'street_tacos', 'entrees', 'also_ordered', 'kale_aid', 'dishes', 'yummy', 'gone_back', 'many_times', 'since_never', 'disappointed_gone', 'yoga', 'get_kale', 'salad_chicken', 'chopped_salad', 'always_get', 'kale_aid', 'guy_next', 'table', 'uprooted', 'whole', 'plant', 'mistake', 'patio', 'highly', 'embarrassed', 'date_ever', 'since', 'careful', 'throw', 'arms', 'around', 'quite', 'clumsy', 'sometimes_want', 'banned', 'favorite_place', 'clumsiness', 'think', 'live_without', 'true_food'], ['review', 'mean', 'much', 'given', 'depth', 'reviewers', 'chime', 'nonetheless_really', 'review', 'one_dish', 'lunch_special', 'yellow_curry', 'chicken', 'know_authentic', 'name', 'kang', 'karee', 'something', 'tasty', 'first_time', 'knew', 'never', 'branch', 'good', 'lunch_spot', 'work', 'around', 'downtown', 'quickest', 'service', 'time', 'get', 'busy_lunch', 'always_consistently', 'good', 'fairly', 'dim', 'inside', 'good', 'place', 'forget', 'sun', 'summer_day'], ['came', 'breakfast', 'yesterday', 'years_since', 'stopped', 'remember', 'entire_place', 'waiter', 'service', 'place_empty', 'tuesday', 'morning', 'atmosphere_casual', 'place_pretty', 'much', 'long_remember', 'one', 'people', 'native_phoenix', 'always', 'felt', 'pricey_think', 'inflation', 'caught', 'since', 'prices_seemed', 'normal', 'went_yesterday', 'loved_chips', 'salsa_hot', 'sauce', 'fantastic', 'great', 'spicy_kick', 'went_recommendation', 'chile_relleno', 'favorite', 'like', 'going', 'waiters', 'say', 'gave', 'try', 'great', 'flavorful', 'put', 'eggs', 'eat', 'together', 'tortillas_fresh', 'home_made', 'tasting', 'hash_browns', 'beans', 'good', 'read', 'newspaper', 'drank', 'soda', 'enjoyed', 'whole', 'place', 'oh_yeah', 'read_yelp', 'reviews', 'bookmarked', 'next_stop', 'ha_ha'], ['always', 'reliably_good', 'great_beer', 'selection_well', 'fabulous', 'bitch', 'fizz', 'ciders', 'etc', 'cocktails', 'pizza', 'outstanding', 'healthy', 'menu', 'generally', 'steer_clear', 'chains', 'exception'], ['disclaimer', 'like_many', 'sucker', 'charming_little', 'homes', 'purposed', 'restaurants', 'certain', 'colored', 'opinion', 'cibo', 'said', 'absolutely_love', 'lunch_day', 'unknowingly', 'arrived_minutes', 'close', 'lunch_dinner', 'served', 'anyway', 'salscicia', 'sandwich_side', 'fruit', 'sandwich_excellent', 'served_perfectly', 'crisp', 'chewy', 'saltimbocca', 'bread_sausage', 'flavorful_complimented', 'roasted_red', 'peppers_onions', 'finished', 'great_quality', 'mozzarella_cheese', 'really_really', 'delicious_also', 'say', 'atmosphere_friendly', 'comfortable', 'though', 'bit_small', 'would', 'great_place', 'hang_lived', 'nearby'], ['disgusting', 'groupon', 'daughter', 'tried', 'outdated', 'gaudy', 'style', 'interior', 'made_feel', 'like', 'episode', 'sopranos', 'food_pretty', 'bad', 'ordered', 'pretty_simple', 'dishes', 'flavor', 'trying', 'positive', 'good_reviews', 'employees', 'owners', 'creating'], ['went', 'got', 'back_phoenix', 'gone', 'six_months', 'one', 'mom', 'favorite_places', 'eat', 'understand', 'ravioli', 'miso_soup', 'delicious', 'wine', 'ok', 'would_recommend', 'one', 'elixirs', 'alcohol', 'beverage', 'still_pretty', 'delicious', 'place_go', 'phoenix'], ['eaten', 'many_times', 'none', 'bad', 'last_night', 'service_excellent', 'highly_attentive', 'food_absolutely', 'horrible', 'expectation', 'would', 'serve', 'steak', 'par', 'seafood', 'charging', 'bucks', 'ribeye', 'hoping', 'thick', 'steak_cooked', 'pittsburgh_style', 'ordered', 'got', 'thick_piece', 'meat_mostly', 'fat_gristle', 'way', 'resembled', 'pittsburgh_style', 'salad_similar', 'something', 'could_get', 'chick', 'filet', 'veggies', 'blah', 'bread_basket', 'ample', 'day', 'old', 'certainly_fresh', 'addition', 'bad', 'food_crammed', 'small', 'room', 'nuts', 'butts', 'tables', 'listening', 'conversations', 'ranging', 'someone', 'recent', 'bout', 'pinkeye', 'another_couple', 'elected', 'speak', 'entirely', 'french', 'waiter', 'showed', 'like', 'turned', 'french', 'switch', 'suddenly', 'began', 'speaking', 'english', 'place', 'going_pay', 'bucks', 'dinner', 'mortons', 'maestro', 'steaks', 'thick', 'cooked_perfection', 'half', 'doesnt', 'wind', 'plate', 'fat_gristle'], ['must', 'renovated_place', 'last_year', 'spacious', 'airy', 'longer', 'dreaded', 'hover', 'table', 'get_seat', 'necessity', 'reminds', 'much_dreaded', 'panera', 'bread', 'chain', 'california', 'food', 'still', 'much_better', 'much_less', 'mass_produced', 'feeling', 'taste', 'service', 'management_staff', 'etc', 'extremely_attentive', 'responsive', 'requests', 'well_keeping', 'place', 'extremely', 'well', 'clean', 'cleared', 'love', 'carbs_carbs', 'carbs', 'side', 'carbs', 'serve_warm', 'syrup_pancakes', 'yum', 'bread_amazing', 'side', 'pancakes', 'plenty_big', 'meal', 'always_consistent', 'fluffy', 'tasty_offer', 'dark', 'roast', 'house', 'roast', 'coffee', 'powdery', 'loveliness', 'cinnamon_nutmeg', 'cocoa', 'top', 'right', 'today', 'returning', 'land', 'freeways', 'smog', 'eternal', 'sunshine', 'well', 'land', 'anyway', 'enjoyed', 'peppermint', 'hot_chocolate', 'would_highly', 'recommend', 'run', 'frothy', 'goodness', 'holiday', 'season', 'ends'], ['mexican_food', 'simple', 'slightly_bland', 'fairly', 'fresh', 'chicken_chopped', 'tofu', 'looking', 'squares', 'satisfied_food', 'fairly', 'healthy', 'mexican_food', 'mexican_food', 'goes', 'staff', 'quite', 'polite', 'met', 'cool_people', 'hanging', 'sat_outside'], ['decor', 'functional', 'staff_friendly', 'really', 'kind', 'toddler', 'food', 'rocks', 'within', 'limited', 'range', 'red_yellow', 'curries', 'much_suggested', 'try_something', 'else', 'hey', 'fault', 'good', 'want_risk', 'anything', 'lesser', 'prices', 'bargain', 'entrees', 'spice', 'really', 'get', 'request', 'make', 'hot', 'probably_best', 'bargain', 'north_phoenix', 'spice', 'hounds'], ['place', 'opened_next', 'salon', 'work', 'amazing', 'hit', 'ground', 'running', 'deli_style', 'order_counter', 'bring_food', 'grayhawk', 'turkey_club', 'turkey', 'great', 'packaged', 'crap', 'thick', 'sliced', 'probably', 'rotisserie', 'side_sweet', 'potato_tater', 'tots', 'delish', 'regular_fries', 'sweet', 'fries_tater', 'tots_onion', 'rings', 'etc', 'great', 'looking', 'salads', 'chicago_style', 'dogs', 'gourmet_burgers', 'yummy_sounding', 'mac_cheese', 'thing_keeping', 'stars', 'price_great', 'dinner', 'little_steep', 'work_day', 'lunch'], ['solid', 'food_great', 'device', 'casual_environment', 'leave_hungry', 'overall', 'really_good'], ['son', 'really_enjoys', 'islands', 'great_food', 'casual', 'kid', 'freindly', 'atmoshpere', 'go', 'quite', 'lot', 'seem_keep', 'coming_back'], ['seated_bar', 'nice', 'young_man', 'working_bar', 'provided', 'good_conversation', 'offered', 'delicious', 'chicken', 'bacon_bleu', 'cheese', 'amuse', 'yum_ordered', 'pine_nut', 'pesto_pizza', 'wad', 'delivered', 'chef', 'crust_perfect', 'thick_enough', 'structure', 'substance', 'thin', 'enough', 'hide_behind', 'flavors', 'tomato', 'pine_nut', 'pesto', 'cheese', 'also', 'right', 'delicious_also', 'chicken_panini', 'fantastic', 'bread', 'bit_hard', 'think', 'busy_talking', 'let_sit', 'long', 'definitely_recommend', 'academie', 'area', 'scottsdale'], ['good', 'easy', 'leisurely', 'business_lunch', 'outing', 'girls', 'market', 'downstairs', 'great', 'takeout', 'great_selection', 'bakery', 'treats'], ['last_review', 'somewhat', 'scathing', 'regarding', 'burgers', 'got', 'invite', 'management', 'come_meet', 'chef', 'give_another', 'try', 'thought_nice', 'read_review', 'concerned', 'quality_product', 'think', 'admirable', 'take_offer', 'feel', 'would_appropriate', 'interested', 'yelp_reviews', 'benefitted', 'reading_reviews', 'others', 'want_share', 'thoughts', 'feelings', 'looking', 'freebies', 'anyway', 'last_friday', 'seemed_like', 'good', 'day', 'walk', 'lgo', 'see', 'shakin', 'grabbed', 'growler', 'jug', 'still', 'best_deal', 'around', 'wife', 'called', 'friend', 'join_us', 'beer', 'walked', 'corner', 'evening', 'bit', 'warm', 'side', 'quiet', 'normal', 'buzz', 'busyness', 'corner', 'always', 'kinda_crazy', 'like', 'sit_patio', 'watch', 'manic', 'drivers', 'race', 'around', 'trying_find', 'parking', 'went', 'store', 'wife_ordered', 'grilled_fish', 'sandwich', 'nervously', 'ordered_cheeseburger', 'fries', 'placing', 'orders', 'getting', 'warned', 'needed', 'around_pick', 'moseyed', 'bar', 'get', 'jug', 'filled', 'stella', 'mention', 'awesome_deal', 'got_glasses', 'headed', 'patio', 'soon', 'afterward', 'called', 'name', 'got', 'grub', 'wife_fish', 'sandwich', 'consumed', 'muffled', 'oooh', 'ahhhhs', 'raved', 'perfect_texture', 'grilled', 'flavor', 'delicious_fresh', 'multi_grain', 'bread', 'also', 'raved', 'slaw', 'came', 'think', 'liked', 'sandwich', 'burger', 'hand_still', 'disappointment', 'ordered_medium', 'rare', 'way', 'order', 'burger', 'kudos', 'woman', 'warning', 'undercooked', 'meats', 'aware', 'really', 'asked', 'cheese', 'put', 'hamburger_bun', 'came', 'open_faced', 'pile', 'coarsly', 'shredded', 'mild', 'cheddar_cheese', 'appropriate', 'veggies', 'lettuce', 'pickle', 'tomato_red', 'onion', 'slices', 'special_sauce', 'pile', 'limp', 'matchstick_fries', 'side', 'big_pile', 'food', 'portion', 'impressive', 'ended', 'burger', 'overcooked', 'pile', 'shredded_cheese', 'bit', 'putting', 'impressive', 'give_em', 'big_pile', 'cold', 'shredded_cheese', 'work', 'cheese', 'needs', 'melted', 'good', 'burger', 'cheese_melted', 'least', 'lot', 'cheese', 'fun', 'overpowers', 'rest', 'flavors', 'tends', 'cool', 'burger', 'quickly', 'scraped', 'two', 'thirds', 'cheese', 'enough_make', 'cheese_crisp', 'tortilla', 'put', 'burger', 'together', 'flavor', 'added', 'salt_pepper', 'flavor', 'little_better', 'burger_cooked', 'med_well', 'still_juicy', 'veggies_fresh', 'crispy_side', 'mayo', 'dipping_fries', 'required', 'like', 'fries', 'belgian', 'style', 'bun', 'little_dry', 'edge', 'stale', 'bad_enough', 'could_eat', 'still', 'overall', 'stand', 'original_review', 'burgers', 'realize', 'lgo', 'trying', 'stand', 'different', 'presentation', 'applaud', 'effort_think', 'needs', 'bit', 'work', 'stand', 'time', 'everybody', 'burgers_fries', 'sub_par', 'limp', 'forgettable', 'ambiance', 'however', 'brings', 'us', 'back', 'sitting_corner', 'patio', 'sipping', 'beer', 'great_conversation', 'watching_show', 'around', 'great', 'way', 'wind', 'warm_friday', 'night', 'lgo', 'keep_working', 'burger', 'keep_coming', 'think_stick', 'wings'], ['cliff_notes', 'cheap', 'plate', 'fast', 'ready_go', 'conveyor', 'acceptable', 'quality', 'weekly', 'gotten_sick', 'lol', 'place_definitely', 'good', 'budget', 'friendly', 'sushi_place', 'great', 'quick_bite', 'response', 'lower', 'rating', 'reviews', 'stating', 'food_okay', 'best_authentic', 'blah_blah', 'blah', 'well', 'think', 'like_wal', 'mart', 'vs_place', 'business', 'model', 'based', 'selling', 'large', 'volumes', 'hence', 'low_prices', 'like_wal', 'mart', 'gonna', 'reduce', 'costs', 'somehow', 'quality_food', 'attentive_staff', 'slightly_smaller', 'average_portions', 'still_solid', 'bang_buck', 'kinda', 'place', 'top', 'quickly', 'since', 'everything', 'already', 'prepared', 'perfect_quick', 'min', 'lunch_breaks', 'required', 'grab', 'conveyor', 'depending', 'whether', 'items', 'want', 'conveyor', 'time', 'never_issues', 'seating', 'make_point', 'go', 'peak_hours', 'usually_go', 'small', 'party_people', 'claiming', 'left', 'fend', 'due', 'inattentive', 'staff', 'sushi', 'related', 'inquiries', 'answered', 'thing_called', 'menu', 'sits', 'counters', 'see', 'miraculous', 'piece', 'technology', 'contains', 'things', 'referred', 'descriptions', 'help', 'inform', 'sushi', 'going', 'round', 'round', 'furthermore', 'even', 'pricing', 'guide', 'based', 'color', 'code', 'plates', 'assist', 'wow', 'lol', 'wtf', 'people', 'expect', 'plates', 'sushi', 'someone', 'hold', 'hand', 'lololololololol', 'diaf', 'cherry_top', 'large', 'japanese', 'beers', 'sake_bombs', 'hell_yeah'], ['fred', 'pretty_much', 'said_would', 'say', 'beat', 'dead', 'horse', 'add', 'though', 'offer_wide', 'variety', 'deep_fried', 'quesadillas', 'catch', 'deep_fried', 'quesadillas'], ['idea', 'whether', 'japanese', 'community', 'part_town', 'new', 'tokyo', 'would', 'suit', 'one', 'well_rather', 'small', 'wide_selection', 'japanese', 'snacks', 'beverages', 'including', 'new_fave', 'beer', 'asahi_black', 'refrigerated', 'items', 'staples', 'etc', 'asian_market', 'specifically', 'japanese', 'expect', 'crossover', 'items', 'like', 'kimchi_said', 'sometimes', 'good', 'specialize', 'lets', 'carry', 'variety', 'japanese', 'products', 'cashier_friendly', 'finally_stopped', 'loading', 'basket', 'long_enough', 'check', 'like', 'first_reviewer', 'loaded', 'snacks', 'hotel_room', 'along', 'six_pack', 'asahi_black', 'course', 'oh', 'one_important', 'factor', 'prices_quite', 'reasonable', 'line', 'ethnic', 'market', 'imports', 'maybe_even', 'bit', 'cheaper', 'usual'], ['alright', 'away', 'yelp', 'quite', 'time', 'feel', 'place', 'fitting', 'comeback', 'review', 'chicken_waffles', 'yes', 'chicken', 'fin', 'waffles', 'ghetto', 'check', 'sweet_tea', 'check', 'nonsense', 'quick_service', 'check', 'ridiculously_long', 'wait_check', 'best_thing', 'eaten', 'last_year', 'check', 'say_best', 'fried_chicken', 'ever', 'pretty_damn', 'good', 'could_use', 'seasoning', 'waffles', 'probably_best', 'ever', 'waffles', 'deliciously_soft', 'inside_little', 'crispy', 'wonderful', 'cinammoness', 'seating_cramped', 'matter', 'soon', 'food_delivered', 'table', 'goes', 'quiet', 'get', 'tunnel_vision', 'first_bite', 'taken_away', 'orgy', 'goodness', 'phoenix', 'requirement', 'come', 'real', 'early', 'prepared_wait', 'forget_order', 'red_velvet', 'cake', 'kool_aid', 'fits', 'fancy', 'even', 'came_home', 'arizona', 'stop_talking', 'lolo', 'like', 'weeks', 'shoot', 'two_months', 'later_still', 'drooling_thinking'], ['continuing', 'quest', 'identify', 'cool', 'locally_owned', 'places_eat', 'drink', 'caroline', 'auditioned', 'vintage', 'last_night', 'go', 'understand', 'whenever_go', 'eats', 'drinks', 'mind', 'platonic_ideal', 'bar', 'pub', 'eatery', 'want', 'frequent', 'constant', 'quest_find', 'ideal', 'expressed', 'real_life', 'vintage', 'quite', 'damn_close', 'ever_give', 'something', 'five_stars', 'know', 'pegged', 'platonic_ideal', 'anyway', 'plan', 'last_night', 'drinks', 'plans', 'food', 'adult_beverages', 'warm', 'conversation', 'turned', 'location_downtown', 'chandler', 'terrific', 'us', 'owners', 'created', 'fine', 'visual', 'experience', 'leather', 'stone', 'dark', 'woods', 'good_lighting', 'music_turned', 'loud', 'cannot', 'conversation', 'one', 'pet_peeves', 'want', 'stare', 'people', 'move', 'mouths', 'enduring', 'aural', 'assault', 'stand', 'deck', 'aircraft', 'carrier', 'go', 'friends', 'want_enjoy', 'company', 'conversation', 'concept', 'difficult', 'grasp', 'rant', 'atmosphere', 'vintage', 'close', 'ideal', 'go_back', 'sit_leather', 'couches', 'front_fireplace', 'go_back', 'another', 'time', 'sit_leather', 'stools', 'bar', 'go_back', 'fourteen', 'times', 'sit_patio', 'seriously_go', 'check', 'patio', 'exactly', 'patio', 'hangout_bar', 'exactly', 'caroline', 'told', 'hostesses', 'drinks', 'seated_bar', 'area', 'fabulous', 'leather', 'club', 'chairs', 'initmate', 'looking', 'intimate', 'speaking', 'bar', 'even_though', 'advertises', 'wine_bar', 'booze', 'much', 'wine_drinker', 'pleased_see', 'carried', 'pretty_good', 'selection', 'single_malt', 'scotches', 'overwhelming', 'selection_well', 'beyond', 'normal', 'glenfiddich', 'glenlivit', 'glenmorangie', 'trio', 'places', 'limited_couple', 'drums', 'ardbeg', 'one', 'new_favorites', 'reasonably_priced', 'retail', 'scotch', 'never', 'reasonably_priced', 'restaurants', 'celebrating', 'care', 'caroline', 'normal', 'vodka', 'martini', 'extra', 'dirty', 'extra', 'cold', 'judged', 'perfect', 'dirtiness', 'wonder', 'love', 'perfect_amount', 'olives', 'cold', 'limited', 'happy_hour', 'menu_interesting', 'choices', 'settled', 'bruschetta_smoked', 'tomato_bisque', 'bruschetta', 'nice', 'quite', 'unusual', 'get', 'select', 'four', 'eight', 'choices', 'bruschetta', 'platter', 'picked_white', 'bean', 'pancetta', 'gravlax', 'caper', 'goat_cheese', 'pickled_onions', 'fig_chutney', 'ricotta', 'prosciutto_brie', 'pear', 'onion', 'jam_served', 'cold', 'nice_sized', 'portions_flavors', 'nicely', 'balanced', 'interesting', 'caroline', 'would_preferred', 'bread_crispy', 'really_liked', 'tomato_bisque', 'creamy', 'smoky', 'well_balanced', 'flavor', 'caroline', 'said', 'unique', 'say', 'darn_delicious', 'things', 'drinks_appetizers', 'turned', 'food', 'friend_told', 'us', 'try', 'vintage', 'burger', 'came', 'served', 'mixture', 'regular_sweet', 'potato_fries', 'nicely_cooked', 'nicely_seasoned', 'recommended', 'burger_tasty', 'obviously', 'use', 'good', 'beef', 'bun_fresh', 'fixin', 'tasty', 'highly_recommended', 'dime', 'dollar', 'right', 'ordered', 'dessert_dessert', 'menu_short', 'okay', 'long', 'well', 'chocolate', 'torte', 'hazelnut_gelato', 'apple_pie', 'carmel_sauce', 'creme_fraiche', 'gelato', 'something_else', 'remember', 'allergic', 'hazelnut', 'like', 'sweet', 'desserts', 'decided_try', 'apple_pie', 'like', 'everything_else', 'sampled', 'apple_pie', 'unusual', 'find_anywhere', 'else', 'served_freshly', 'baked', 'puff_pastry', 'cubed', 'apples', 'served', 'top', 'inside', 'tender', 'mushy', 'lots', 'cinnamon_sugar', 'plate_swirled', 'salted', 'dolce', 'la', 'leche', 'tasty', 'instead', 'expected', 'creme_fraiche', 'gelato', 'served', 'hazelnut_gelato', 'realize', 'hazelnut', 'couple_bites', 'throat', 'started', 'swell', 'point', 'night', 'could_turned', 'disaster', 'credit', 'told_waiter', 'told_manager', 'gavin', 'one_owners', 'immediately', 'came_asked', 'needed', 'emergency', 'assistance', 'allergic', 'frankly', 'response', 'exactly', 'kind_customer', 'service', 'want_see', 'anyone', 'make_mistake', 'harm_foul', 'must_give', 'big', 'kudos', 'gavin', 'kindness', 'attention_detail', 'outstanding', 'customer_service', 'defintely', 'back', 'strongly_recommend', 'put_list'], ['add', 'andrew', 'review', 'believe_things', 'happened', 'yes', 'app', 'good', 'entree', 'good', 'bites', 'bread', 'chicken_panini', 'definitely', 'would_better', 'chicken', 'girl_working', 'one_worst', 'waitress_bartender', 'hostesses', 'ever_walked', 'even', 'sit', 'us', 'stood', 'forever', 'waiting_finally', 'told_us', 'seat', 'went_outside', 'since_nothing', 'left', 'inside', 'hot_outside', 'came_back', 'figured', 'sit_bar', 'luckily', 'nice_guy', 'noticed_us', 'looking_around', 'let_us', 'sit', 'end_table', 'moved', 'apart', 'since', 'whole', 'party_show', 'dinner', 'excited_saw', 'cider', 'menu', 'one_two', 'like', 'wyder', 'pear_cider', 'strongbow', 'ordered', 'wyder', 'finished_asked', 'another', 'said_okay', 'ordered', 'strongbow', 'came_back', 'poured_glass', 'took_drink', 'disgusting', 'boddington', 'finally_got', 'attention', 'away', 'flirting', 'man', 'sitting_bar', 'ask', 'correct', 'drink_told', 'strongbow', 'drinks', 'restaurant', 'stocked', 'right_across', 'bevmo', 'god_sake', 'ordered', 'food', 'ordered', 'app', 'ordered_entree', 'walked_away', 'even_get', 'order', 'figured', 'probably_best', 'split', 'app_entree', 'eat', 'less', 'stupid', 'waitress', 'lose_money', 'way', 'whatever', 'brought', 'food', 'bring', 'correct', 'things', 'hard', 'remember', 'maybe_tables', 'take_care', 'maybe', 'stopped', 'texting', 'behind_bar', 'cell_phone', 'stop', 'conversation', 'guy_bar', 'maybe_could', 'done_job', 'little_better'], ['matter_order', 'know', 'tasty', 'maizie', 'lot_choose', 'little_overwhelming', 'love', 'wait_staff', 'everyone', 'always_friendly', 'maizie', 'feel_like', 'neighborhood', 'hang'], ['restaurant', 'incredible', 'best_pasta', 'carbonara', 'best_tiramisu', 'life', 'food_wonderful', 'though', 'calamari', 'fried', 'bread_served', 'dinner', 'comes', 'right', 'oven', 'tomatoes', 'freshest', 'tasted', 'outside', 'mom', 'garden', 'great', 'attention_detail', 'longer_eat', 'italian_restaurant', 'without_feeling', 'slighted', 'first', 'place', 'want_take', 'town_visitors', 'looking', 'impress', 'owner', 'jon', 'helpful_friendly', 'really_cares', 'providing', 'positive', 'dining_experience', 'spot', 'wine_recommendations', 'organizes', 'wine_tasting', 'events', 'find', 'joining_mailing', 'list', 'facebook_page'], ['one', 'spot', 'coworkers', 'go_lunch', 'usually', 'try', 'get', 'weekdays', 'beat', 'rush', 'corporate', 'places_near', 'metrocenter', 'deli', 'sandwiches_good', 'usually_stick', 'getting', 'amy', 'turkey', 'plan', 'substituting', 'side', 'make_sure', 'tell', 'cashiers', 'normally_ask', 'stuck', 'chips', 'salad_bar', 'decent_price', 'forget_get', 'ice_cream', 'way'], ['romantic', 'even', 'friends', 'waitress', 'kneels', 'couch', 'speak', 'pour', 'wine', 'bring', 'check', 'love', 'star', 'respectful', 'waitress_friendly', 'cloud', 'whole', 'ambience', 'made', 'evening', 'nice', 'love', 'darkness', 'exotic', 'relaxing', 'especially', 'coves', 'different', 'areas', 'seated', 'apparently', 'put_name', 'want', 'table', 'certain', 'seems', 'packed', 'anytime', 'needed', 'one', 'bar_stool', 'reservation', 'waiter', 'actually_went', 'storage', 'get', 'us', 'one_impressive'], ['another', 'night', 'meeting_friends', 'laugh', 'waited_another', 'minutes', 'beer', 'refilled', 'bar', 'girl_even', 'took', 'empty', 'without_even', 'asking_wanted', 'refill', 'new', 'brunette', 'girl', 'recognize', 'left', 'bar', 'sat', 'guy_friends', 'customer', 'side', 'friday_night', 'another_bartender', 'ask', 'come_back', 'work', 'management', 'pull', 'head', 'ass', 'sad_watch', 'need', 'talk_friends', 'another', 'place'], ['busy_took', 'nearly', 'min_get', 'meal', 'ordered_trout', 'shocked_see', 'lots_lots', 'bones', 'hmmmmm', 'well', 'asked_waitress', 'said', 'try', 'best', 'hmmmmmm', 'fish', 'restaurant', 'comped', 'trout', 'still', 'sure_would', 'go_back'], ['favorite_breakfast', 'place', 'food_good', 'best_biscuits', 'gravy', 'restaurant', 'eaten', 'wait_staff', 'friendly', 'complaint', 'sunday', 'mornings', 'packed_wait', 'seated'], ['best', 'sweet_sour', 'soup', 'ever', 'food_delicious', 'favorable', 'delivery', 'pretty_good', 'nice_people'], ['every_vietnamese', 'side', 'craves', 'pho', 'surprised', 'noodle', 'ranch', 'local', 'pho_joint', 'literally', 'walk', 'place', 'okay', 'pho_tai', 'great', 'got_combination', 'good', 'love_decor', 'lots_lots', 'old', 'photos', 'vietnam', 'service_always', 'good', 'busy_slow', 'need_pho', 'fix_would', 'definitely_recommend', 'place'], ['yikes', 'reading_reviews', 'realize', 'bad_experience', 'unique', 'server', 'make', 'laid_back', 'customer', 'like', 'pretty_much', 'everything', 'eat', 'require', 'lot_attention', 'waiter', 'la', 'piccola', 'cucina', 'would', 'benefit', 'one', 'extra', 'person_front', 'house', 'guy', 'though', 'adorable', 'friendly', 'busy', 'refill_drinks', 'remember_bring', 'appetizer', 'though', 'charged_us', 'ahi_tuna', 'highly_recommended', 'fish_options', 'said', 'overcooked', 'color', 'consistency', 'chicken', 'like_reviewers', 'mentioned', 'frantic', 'made_clear', 'every_customer', 'one_point', 'even_saw', 'kitchen_cooking', 'need_another', 'person_left', 'super', 'stressed', 'experience', 'unusual', 'either', 'bad_service', 'bad', 'food'], ['though_perhaps', 'place', 'may', 'pick', 'special', 'brunch', 'champagne', 'chocolate', 'brioche', 'french_toast', 'signature', 'breakfast', 'sofitel', 'philadelphia', 'good', 'egg', 'choice_neighborhood', 'breakfast', 'offers_consistent', 'service', 'food', 'comfortable_atmosphere', 'matter_busy', 'restaurant_becomes', 'sunday_packed', 'staff_always', 'friendly_welcoming', 'may_wait', 'table', 'waits', 'never', 'excessive', 'coffee', 'trolley', 'help', 'waiting_even', 'remarkable', 'even', 'busiest', 'read', 'mothers', 'fathers', 'days', 'service', 'speedy', 'attentive_kitchen', 'never_seems', 'slow_someone', 'knows', 'run_restaurant', 'menu', 'contains', 'large_assortment', 'usual', 'breakfast_fare', 'eggs', 'pancakes_french', 'toast', 'etc_well', 'prepared_tasty', 'addition', 'good_number', 'health_conscious', 'offerings', 'even', 'less', 'healthy', 'dishes', 'requested', 'made', 'egg_whites', 'egg_beaters', 'non', 'starch', 'substitutes', 'cottage_cheese', 'fruit', 'tomatoes_etc', 'favorites_include', 'hey', 'ricky', 'omelet', 'huevos', 'ranchero', 'indulgence', 'one', 'huge', 'singular', 'buckwheat', 'pancake', 'choice', 'fillings', 'chocolate_chips', 'admit', 'addictions', 'pecans', 'bananas', 'always_opt', 'patio', 'even', 'scorching', 'summer_heat', 'misters', 'make', 'great_outdoor', 'picnic', 'best', 'people_watching', 'phoenix', 'times', 'feel_like', 'part_family', 'frequent', 'dinner', 'program', 'offer', 'even', 'incentive', 'return'], ['great', 'southwestern', 'restaurant', 'food_incredible', 'especially', 'stacked', 'enchiladas', 'normally_eat', 'heavy', 'foods', 'way', 'good_pass', 'chips_salsa', 'tasty_well', 'service_friendly', 'timely', 'interior', 'pedestrian', 'best', 'still_pleasant', 'environment'], ['went_back', 'ab', 'weekends_ago', 'brunch', 'large_group', 'surprised_see', 'although', 'advertise', 'brunch_place', 'weekends', 'pared', 'menu', 'basically', 'items', 'people', 'invited', 'never', 'ab', 'expecting', 'variety', 'brunch', 'items', 'since', 'told', 'great', 'brunch', 'concerns', 'quelled', 'bloody_marys', 'good', 'diverse', 'food', 'egg_sandwich', 'sans', 'bacon', 'excellent', 'sweet_pea', 'split', 'french_toast', 'well', 'small_sample', 'french_toast', 'opening', 'realize', 'comes', 'whole', 'jar', 'cream', 'berries', 'addition_syrup', 'come_brunch', 'like', 'french_toast', 'try', 'best', 'french_toast', 'ever', 'many', 'table', 'agreed', 'secret', 'bread', 'cornflakes', 'yum', 'bloody_marys', 'excellent', 'range', 'say', 'phenomenal', 'ones', 'dick', 'rokerij', 'service', 'also', 'friendly_quick'], ['great_prices', 'great_food', 'staff_friendly', 'definitely_coming', 'back', 'lunch', 'regular_basis', 'kung_pao', 'portions', 'incredible', 'paid', 'mind_blowing', 'better_chinese', 'places_valley'], ['came', 'large_group', 'back', 'eat', 'beer', 'concert', 'weekday', 'made_happy', 'hour', 'happy_hour', 'pricing_fair', 'food_pretty', 'good', 'best_thing', 'beer', 'like', 'everything', 'tap', 'mmmm'], ['vibe', 'exuding', 'place', 'pure', 'awesomeness', 'reminiscent', 'trendy', 'hipster', 'coffee_joint', 'actually', 'casual', 'vegan_restaurant', 'pescatarian', 'unless', 'eating', 'seafood', 'steer_clear', 'meat', 'even', 'mock', 'kind', 'usually_however', 'delicious', 'try', 'green', 'thought', 'menu', 'style', 'comfort_food', 'know', 'traditionally', 'heavy', 'meat', 'sauces', 'fat_content', 'least', 'going', 'bad', 'organic', 'pure', 'ingredients', 'wanted', 'sample', 'much', 'menu', 'possible', 'lovely_friend', 'fiance', 'shared', 'items', 'artichoke', 'gratine', 'corn_chips', 'amazing', 'lightly_salted', 'crisp', 'dip', 'bit', 'garlicky', 'runny', 'liking', 'ate_bites', 'could_see', 'eating', 'entire_thing', 'solo', 'spicy_buffalo', 'wings', 'first_things', 'first_let', 'looks', 'dismay', 'true', 'looks', 'gross_taste', 'legit', 'flavor', 'buffalo_sauce', 'perfect_although', 'could', 'spicier', 'cucumber', 'ranch', 'dipping_sauce', 'perfectly', 'creamy', 'lightly_flavored', 'overpower', 'wings', 'dish', 'must_try', 'vegan', 'chili_fries', 'fries_thin', 'cut', 'tasty_chili', 'sauce', 'good', 'first', 'quickly_got', 'sick', 'flavor_could', 'never', 'huge', 'chili', 'fan', 'even', 'back', 'ate', 'meat', 'hmm', 'think', 'better', 'ordering', 'thyme_fries', 'crab_puffs', 'perfectly_crisp', 'delicious', 'creamy', 'filling', 'another', 'must_try', 'lastly', 'friend_fiance', 'ordered', 'day', 'special', 'green_chili', 'burrito', 'delicious_huge', 'bit_much', 'rice', 'besides_great', 'option', 'came_side', 'ordered_curry', 'pasta_salad', 'mmm', 'green', 'serves', 'bowls', 'sandwiches', 'pizzas_salads', 'next_time', 'back', 'area', 'checking_menu', 'craving', 'meat', 'usual', 'tofu_seafood', 'veggie', 'diet_might', 'add', 'service_friendly', 'perfect_place', 'casual', 'friend', 'date'], ['rokerij', 'worth_hype', 'popped', 'last_week', 'late', 'bite', 'left_super', 'happy', 'scored', 'seats_bar', 'place_super', 'crowded', 'good_sign', 'wednesday', 'started', 'beer', 'called', 'banana_bread', 'awesome', 'wifey', 'glass_wine', 'remember', 'decide', 'wnated', 'ended_splitting', 'entree', 'blackened_salmon', 'apple', 'chipotle', 'chutney', 'potatoes', 'also_got', 'three_small', 'plates', 'mini', 'reuben', 'crispy_calamari', 'cilantro', 'rubbed', 'grilled_shrimp', 'food_awesome', 'salmon_cooked', 'perfectly', 'although_think', 'would_liked', 'chutney_side', 'small', 'fries', 'calamari', 'cooked_perfectly', 'shrimp_awesome', 'although', 'bed_rice', 'came', 'meh', 'mini', 'reubens', 'great', 'well', 'super_excited', 'try', 'delivered', 'wait_go', 'back'], ['really', 'believe', 'place', 'received', 'high_reviews', 'people', 'lady', 'walked_greeted', 'rather', 'rudely', 'pretentious', 'bitch', 'front', 'monotone', 'name', 'please', 'instead', 'warm_friendly', 'french', 'welcome', 'rather', 'charming', 'looking_place', 'reservation', 'looks_dead', 'empty', 'place', 'seem_like', 'problem', 'hostess', 'whisked', 'reservation', 'list', 'explained', 'try', 'fit_us', 'pm', 'place', 'one', 'couple', 'dining', 'informed', 'next', 'party', 'arriving', 'really', 'looking', 'hang', 'would', 'awfully', 'lovely', 'yelpers', 'would', 'informed', 'need', 'make_reservations', 'going', 'automatically', 'piece', 'shit', 'according', 'staff', 'sorry', 'plan', 'much', 'ahead', 'next_time', 'anyways', 'debating', 'minute', 'two', 'hostess', 'decided', 'could_squeeze', 'sat_us', 'right', 'top', 'couple_inside', 'restaurant', 'informed_us', 'could', 'cork', 'wine_low', 'low_price', 'fucking', 'dollars', 'words', 'office', 'space_could', 'adequately', 'describe', 'coup', 'des', 'tartes', 'exactly', 'food_good', 'nothing_spectacular', 'plate', 'got', 'salad', 'apples', 'nuts', 'bleu_cheese', 'served_warm', 'first', 'warm', 'salad', 'life', 'means', 'sort', 'wordly', 'food_expert', 'believe', 'salad', 'cold', 'crisp', 'soggy', 'warm', 'yuck', 'cordon_bleu', 'tasty_filling', 'however', 'wobbly_table', 'extreme', 'annoyance', 'cutting', 'chicken', 'solved', 'thanks', 'staff', 'placing', 'jack_box', 'gift_card', 'leg', 'admit', 'mashed_potatoes', 'creamiest', 'best_ever', 'lady_got', 'pork_tenderloin', 'strange', 'peppery', 'sweet', 'pairing', 'particularly_care', 'broke', 'desert', 'unfortunately_get', 'try', 'tarts', 'would_think', 'place', 'promotes', 'poise', 'would', 'get', 'fancier', 'menus', 'piece', 'cardstock', 'copied', 'bulk', 'kinkos', 'place', 'rather', 'disappointing', 'honestly_thought', 'would', 'way', 'comfy', 'welcoming', 'inside', 'really', 'presents', 'high_class', 'french', 'oh', 'la', 'la', 'wee_wee', 'comes', 'still', 'located', 'tiny', 'shack', 'house', 'th_street', 'highland', 'maybe', 'located', 'biltmore', 'give', 'bit', 'cred'], ['great_place', 'meal', 'family', 'little_loud', 'side', 'cause', 'ita', 'always_busy', 'place', 'recomend', 'calling', 'ahead', 'getting', 'name', 'put', 'waiting', 'list', 'reservations', 'party_six', 'price_range', 'moderate', 'well_worth'], ['figured', 'time_write', 'review', 'going', 'quite', 'years', 'dinner', 'special_occasions', 'best_seafood', 'bone', 'fillet', 'around', 'first_understand', 'cuts', 'top_quality', 'order', 'almost', 'steak', 'menus', 'dazzled', 'flavor', 'fantastic', 'point', 'adding_anything', 'would', 'destroy', 'integrity', 'taste_mean', 'meat', 'perfection', 'plate', 'needs', 'explaining', 'friends', 'even', 'significant', 'must_start', 'seafood_tower', 'order', 'many_different', 'ways', 'match', 'appetite', 'likes', 'presented', 'table_guests', 'blown_away', 'quality', 'seafood', 'rightly', 'brought', 'fresh_daily', 'sides', 'awesome', 'taste_quality', 'suggest', 'lobster_mash', 'maestros', 'mash_potatoes', 'neither', 'leave_hungry', 'right', 'often_wanting', 'wine_selection', 'great_atmosphere', 'top_notch', 'topping', 'best', 'servers', 'town', 'makes', 'one_favorites', 'entertaining', 'disappointed'], ['describe', 'amazing', 'gourmet', 'adult', 'hot', 'pockets', 'taste_literally', 'melt_mouth', 'favorites', 'cajun_chicken', 'dill', 'salmon', 'stilton', 'steak', 'bon_appetit', 'everyone', 'forget', 'day_everyday', 'car_bombs', 'beat', 'price_happy', 'hour', 'amazing'], ['portlandia', 'hipsterness', 'decor', 'premium', 'coffee', 'roasted', 'house', 'middle_desert', 'less', 'would', 'thunk', 'baristas', 'profesh', 'friendly_even', 'warmed', 'pastries', 'upon_request', 'perfectly', 'foamed', 'milk', 'fruity', 'noted', 'espresso', 'hope_place', 'long', 'life', 'scottsdale', 'great', 'coffee', 'far'], ['grew', 'empanadas', 'panama', 'hard_pressed', 'find_anything', 'close', 'today_found', 'perfectly_crunchy', 'crust', 'beef', 'beautifully', 'spiced', 'usually', 'empanadas', 'bland', 'soggy', 'great_job', 'usually_like', 'rice', 'rice_black', 'beans', 'wonderful_service', 'great', 'back'], ['awesome', 'subs', 'clean_friendly', 'well_priced'], ['dinner_brunch', 'day_dinner', 'good_although', 'thought', 'mandala', 'masala', 'could_used', 'flavor', 'brunch', 'great', 'tried_different', 'tofu_scrambles', 'good_service', 'let_say', 'uninterested', 'hard', 'burdened', 'angst', 'chipper'], ['interesting', 'place_go', 'thinking', 'classy'], ['padres', 'spring_training', 'game', 'reservations', 'charlie', 'scottsdale', 'none_us', 'came', 'highly_recommended', 'dad', 'soon_walk', 'charlie', 'eyes', 'start', 'feasting', 'signed_baseballs', 'left', 'wall', 'everywhere', 'look_floor', 'ceiling', 'even', 'ceiling', 'covered', 'memorabilia', 'autographed', 'items', 'athletes', 'sports', 'celebrities', 'besides', 'amazing', 'assortment', 'sports', 'artifacts', 'especially_like', 'cactus_league', 'beer_list', 'pairs', 'beer', 'city', 'team', 'cactus_league', 'colorado', 'coors', 'light', 'texas', 'shiner', 'bock', 'chicago', 'old_style', 'san_diego', 'stone', 'ipa', 'etc_also', 'worth_mentioning', 'complimentary', 'chopped_liver', 'platter', 'rye_bread', 'bagel_chips', 'bring', 'soon_seated', 'ribs', 'coconut_shrimp', 'combo', 'great', 'thrilled', 'side_dish', 'potato_au', 'gratin', 'upcharge', 'also', 'bring', 'huge_bowl', 'cole_slaw', 'entrée', 'choose', 'soup_comes', 'smaller', 'bowl_cole', 'slaw', 'full_dessert', 'walked', 'place_packed', 'found_trying', 'take', 'much', 'memorabilia', 'possible', 'one_side', 'crowded', 'lobby', 'sat', 'willie', 'mays', 'signing', 'book', 'baseball', 'charitable', 'donation', 'foundation', 'needless_say', 'bringing', 'home', 'memorabilia'], ['best', 'food', 'super_friendly', 'staff_great', 'prices', 'love'], ['ok', 'sweet_pea', 'love', 'us', 'coup', 'coming_years', 'since_lived', 'across_street', 'could_see', 'restaurant', 'window_got', 'engaged', 'incredible', 'food', 'never_disappoints', 'go', 'restaurants', 'varying', 'experiences', 'best_meal', 'life', 'terrible', 'coup', 'place', 'consistent', 'consistent', 'good', 'bad', 'consistently_good', 'food_service', 'likewise', 'consistently', 'slow', 'albeit', 'friendly', 'went', 'valentine_day', 'several_times', 'highly_recommend', 'romantic', 'without', 'showy', 'special', 'valentine_day', 'set', 'menu_courses', 'always_interesting', 'good', 'go', 'day', 'valentine_day', 'still', 'menu', 'cheaper', 'damn', 'greeting', 'card', 'holidays', 'menu', 'also', 'consistent', 'outstanding', 'things', 'brie', 'brulee', 'absolute_must', 'try', 'appetizer', 'lamb_shank', 'everything_else', 'solidly', 'good', 'without', 'great', 'desserts', 'exceptional_like', 'byob', 'aspect', 'restaurant', 'although', 'charge_lot', 'corking', 'fees', 'amount', 'charging', 'nothing', 'since', 'corkscrew', 'sitting_table', 'charge', 'opening', 'bottle', 'coup', 'love', 'get_stars', 'vary', 'menu', 'little', 'please_please', 'please', 'get', 'vegetarian', 'vegetarian_options', 'improve_service'], ['driving', 'teeny', 'dimly_lit', 'road', 'coming', 'across', 'looked_like', 'medical', 'office_building', 'husband', 'found', 'amazing', 'fuego_bistro', 'perfect', 'meal', 'amazing', 'ambiance', 'twinkly', 'lights', 'courtyard', 'live', 'musician', 'great_wine', 'food', 'unique_delicious', 'describe', 'southern', 'spanish', 'fusion', 'meal', 'highlight_trip', 'phoenix_live', 'phoenix_excuse', 'come', 'live_chicago', 'sure_back'], ['like', 'pizza_bianco', 'without_wait', 'pizza_bianco', 'place', 'much_larger', 'menu', 'deserts', 'die', 'bianco', 'min_wait', 'drive_walk'], ['sacks', 'different_kind', 'sandwich_shop', 'crazy', 'ingredients', 'like', 'varied', 'sauces', 'mayos', 'fresh_spinach', 'grilled_peppers', 'sorts', 'things', 'see', 'typical_deli', 'serve', 'baguette', 'wrap', 'wheat_bread', 'specials', 'particularly', 'diverse', 'change', 'daily', 'side_coin', 'website', 'horrible', 'occasionally_find', 'things', 'missing', 'quite_right', 'chalk', 'charm', 'whimsy', 'get', 'weekly', 'sacks', 'delivery', 'want', 'basic', 'ham_cheese', 'sandwich', 'get', 'want', 'sandwich', 'like', 'blue', 'bayou', 'spicy_marinated', 'chicken', 'served_bacon', 'bleu_cheese', 'crumbles', 'cheddar', 'jack', 'mushrooms', 'spinach_chipotle', 'mayo', 'melted', 'well', 'get', 'days_special', 'regular', 'artist', 'inspired_menu', 'dali', 'instant', 'classic', 'take', 'egg_salad', 'one', 'comes', 'lettuce', 'bacon', 'cream_cheese', 'mayo', 'tomato', 'grain_bread', 'encore', 'prime', 'steak', 'melted', 'provolone_hot', 'mild', 'mixed', 'peppers_feta', 'yogurt', 'marinara_sauce', 'lettuce_tomato', 'parmesan', 'seriously', 'give_place', 'shot_disappointed', 'oh', 'every', 'sandwich', 'comes', 'lovely', 'cookie', 'brilliant'], ['first_time', 'back', 'years', 'last', 'bar_area', 'lunch', 'almost_hour', 'min', 'could_get', 'ten', 'min', 'drink_order', 'almost', 'long', 'food', 'order', 'secound', 'drink', 'forget', 'guy_next', 'walked'], ['mentioned_earlier', 'best_thing', 'place_super', 'cheap_super', 'delicious', 'lunch', 'bentos', 'get', 'main_dish', 'rice', 'salad_orange', 'enough', 'get_double', 'meat', 'buck_two', 'highly_recommend', 'ginger', 'pork_katsu', 'friend_normally', 'go', 'big_fan', 'white_fish', 'fried_grilled', 'sushi', 'bad_nothing', 'super_special', 'come', 'sushi', 'big', 'knock', 'place', 'would_say', 'ebay', 'great', 'seller', 'would_eat'], ['unless_regular', 'look_like', 'wallet', 'fat', 'expect', 'best', 'service', 'entrees', 'cost_bucks', 'anti_pasta', 'runs', 'desserts', 'bucks', 'unless_get', 'aged', 'balsamic_vinegar', 'also', 'big', 'cheese', 'selection', 'made_reservations', 'restaurant', 'sat_us', 'back_door', 'waiter', 'never', 'explained', 'anything_menu', 'suggested', 'wine', 'go', 'meal', 'even_tell', 'us', 'cheese', 'menu_except', 'check', 'one', 'wanted_waiter', 'table_near', 'went_way', 'explain_menu', 'go', 'far_tell', 'tables', 'eat', 'cheese', 'comes', 'jelly', 'meal', 'good', 'duck', 'salmon', 'tasted_fishy', 'fresh', 'wine_bucks', 'carafe', 'maybe', 'would', 'got', 'dollar', 'bottle', 'would_gotten', 'better', 'service', 'dessert', 'good', 'rich', 'chocolate_cake', 'nuts', 'chocolate_sauce', 'nothing_special', 'overall_experience', 'made', 'meal', 'worth_bucks', 'times', 'mention', 'overcharged', 'girls', 'card', 'drinks_bar', 'dont_want', 'give', 'charge', 'plain_simple', 'warning', 'reservations', 'customer_service', 'mean', 'nothing_mentioned', 'complaints', 'waiter_manager', 'received_apology', 'bout', 'comp', 'dessert_something', 'hyatt_gainey', 'staff', 'also', 'rude', 'part', 'two_thumbs', 'way'], ['love_place', 'food_amazing', 'cares', 'chain_restaurant', 'tried', 'go', 'night', 'packd', 'made_reservation', 'next', 'night', 'really_busy', 'go', 'seated_immediately', 'server', 'really_nice', 'helpful_told', 'never', 'ordered_fried', 'alligator', 'app', 'loved_every', 'bite', 'filet_mignon', 'rock', 'lobster_tail', 'steak_cooked', 'perfectly', 'good_size', 'price', 'usually', 'huge_fan', 'lobster', 'wanted_give', 'try', 'pappadeux', 'changed_opinion', 'lobster', 'meat', 'came', 'right', 'tail', 'buttery', 'andjust', 'plain', 'yummy', 'first', 'chance', 'hubby', 'really', 'chance_go', 'eat_without', 'kids', 'really_wanted', 'make', 'time', 'wre', 'definetly', 'able', 'refills', 'kept_coming', 'even', 'paid_bill', 'also_loved', 'live_music', 'jazz', 'quartet', 'making_way', 'around', 'room', 'thing', 'thats', 'keeping', 'giving_stars', 'tables_close', 'loud_could', 'hear', 'discussion', 'table_next', 'hard_time', 'hearing', 'huband', 'across_table', 'definetly_going', 'back', 'pappadeux'], ['good', 'everyone_says', 'sooo', 'inexpensive_appetizers', 'entrees', 'drinks', 'people', 'bones', 'mention', 'mountain', 'leftovers', 'brought_home'], ['take_money', 'elsewhere', 'unless', 'got', 'kids', 'really', 'try', 'like', 'place', 'family_member', 'signed', 'discount', 'card', 'going', 'often', 'love', 'simply', 'ok', 'prices_outrageous', 'sounds', 'animatronics', 'huge', 'distraction', 'food_cocktails', 'alright', 'price_right', 'ony', 'thing', 'fun_place', 'adult', 'gift_shop', 'light', 'cocktail', 'glasses', 'cost_extra', 'seen_lot', 'happy', 'families', 'though', 'bet', 'better', 'little_ones', 'bring', 'along'], ['friend', 'planning', 'going_postino', 'next_door', 'already', 'packed', 'thu', 'anyway', 'tried', 'aiello', 'happily_surprised', 'scallops', 'venezia', 'friend', 'veal', 'well_done', 'bread_delicious'], ['took', 'fiance', 'valentine_day', 'birthday', 'lot', 'research', 'romantic', 'places_around', 'valley_one', 'really_caught', 'eye', 'immediately_walking', 'door', 'notice', 'dark', 'romantic', 'ambiance', 'lot', 'candle', 'light', 'seating_bit', 'tight', 'bad_enough', 'give', 'lower', 'review', 'began', 'appetizer', 'called_table', 'side_guacamole', 'incredible', 'say_least', 'literally', 'made', 'front', 'table', 'onto', 'main_dish', 'build', 'pork_tacos', 'talk', 'tender_meat', 'shoulder', 'pork', 'literally_fell', 'right', 'onto', 'fork', 'tortillas', 'exceptional', 'tasty', 'sauce', 'included', 'pineapple', 'glaze', 'food_absolutely', 'delicious', 'service_equally', 'impressive', 'water', 'level', 'never', 'reached', 'bottom_glass', 'entire_night', 'drink', 'plenty', 'everyone', 'incredibly_nice', 'cheerfully', 'said', 'happy', 'valentine_day', 'happy_birthday', 'fiance', 'made_experience', 'even_better', 'fantastic', 'place', 'problem', 'recommending', 'others_visit'], ['great_experience', 'every_time', 'food', 'hard_beat', 'service_pleasant', 'portions_reasonable', 'huge', 'big', 'feller', 'satified', 'every_time', 'ate', 'pleasant_environment', 'clean_spacious', 'calm'], ['husband_went', 'saturday_night', 'dinner', 'restaurant_com', 'gift_certificate', 'yes', 'sheraton', 'yes', 'near_airport', 'much_else', 'around', 'say_impressed', 'started', 'gambas', 'al', 'fuego', 'deliciously', 'spicy_although', 'thought', 'four_shrimp', 'bit', 'excessive', 'matter', 'tasty', 'house_salads', 'blue_cheese', 'dressing_think', 'tell', 'lot', 'quality', 'place', 'salads', 'used_fresh', 'field_greens', 'tomatoes_perfect', 'sweet', 'even', 'thinly_sliced', 'onions_sweet', 'delicious', 'blue_cheese', 'dressing', 'fantastic', 'actual', 'chunks', 'blue_cheese', 'impressed', 'hotel_restaurant', 'entrees', 'hickory', 'smoked', 'baby_back', 'ribs', 'good', 'phenomenal', 'husband_ordered', 'chorizo_chicken', 'glad', 'shared', 'bite', 'awesome', 'really', 'wishing', 'gotten', 'instead', 'ribs', 'oh', 'especially', 'wanted', 'mention', 'asparagus', 'came', 'ribs_tender', 'cooked_right', 'flavorful', 'place_uses', 'quality_ingredients', 'way', 'would_definitely', 'come_regularly', 'husband', 'especially', 'enticed', 'prime_rib', 'melt', 'sandwich', 'think', 'back', 'lunch', 'near_future', 'reason_giving', 'stars', 'atmosphere_pretty', 'dead', 'suppose', 'understandable_given', 'inside', 'sheraton', 'decor_nice', 'though', 'free', 'standing', 'restaurant', 'area', 'traffic', 'place', 'would_hit'], ['love', 'restaurant', 'fan', 'newport_beach', 'location', 'years', 'scottsdale_definitely', 'disappoint_staff', 'friendly_knowledgeable', 'drinks', 'fresh', 'worth_extra', 'wait', 'tasty', 'cucumber', 'jalapeño', 'marg', 'food_goes', 'without_saying', 'crave_worthy', 'new_location', 'expected', 'usual', 'growing_pains', 'overall_great', 'dining_experience', 'welcome_neighborhood', 'sol', 'cocina'], ['darn', 'smokehouse', 'burger_awesome', 'stars', 'smoked', 'corn', 'little_meh', 'oily', 'like', 'butter', 'oily', 'huge_fan', 'texture', 'either', 'like', 'corn', 'crunchy', 'service_great', 'see', 'unmentionable', 'bug', 'running_around', 'near', 'back_entrance', 'towards', 'chicken_rotisserie', 'thing', 'bugs', 'eat', 'right', 'still', 'stars', 'lol'], ['excellent_service', 'food', 'clean_friendly', 'folks', 'beautiful_patio'], ['several_times', 'never_bad', 'experience', 'yet', 'good_food', 'good_service', 'complaints', 'still', 'never_made', 'happy_hour', 'specials', 'time', 'seem_like', 'quite', 'deal', 'staff_always', 'friendly_seem', 'remember_us', 'one', 'visit', 'another', 'ever_eaten', 'sushi', 'lot_menu', 'items', 'would_like', 'try', 'point', 'always', 'turn', 'sushi', 'always_good', 'fresh', 'would_recommend', 'trying', 'restaurant'], ['chicago', 'picky', 'pizza', 'place', 'right', 'ny_style', 'love_hole', 'wall', 'feel', 'every_customer', 'walked', 'regular', 'good_sign', 'ordered_mozzarella', 'sticks', 'large', 'monster', 'pie', 'sausage_pepperoni', 'bell_peppers', 'onion', 'cheese_mozzarella', 'sticks', 'took_little', 'come', 'cooked_perfection', 'also_threw', 'garlic_knots', 'awesome', 'pizza', 'unbelievable', 'think', 'crumbled', 'sausage', 'really_great', 'deals', 'like', 'large', 'pie_wings', 'definitely_taking', 'advantage', 'football_games', 'sunday', 'glad_found', 'new', 'place', 'also', 'regular'], ['really_great', 'happy_hour', 'prices', 'hit_miss', 'place', 'often', 'miss', 'food', 'less_average', 'drinks_strong', 'least', 'inexpensive', 'service_truly', 'hit_miss', 'pass'], ['yes', 'chain', 'traveling', 'maui', 'week', 'coming_back', 'home', 'kahlua_pork', 'rumbi', 'honestly_say', 'kahlua_pork', 'better_places', 'ate', 'hawaii', 'crazy', 'huh', 'kahlua_pork', 'rumbi', 'moist_tender', 'paired', 'magnificent', 'teriyaki_sauce', 'rumbi_rice', 'rice_cooked', 'coconut_milk', 'beans', 'world', 'kahlua_pork', 'plate', 'rumbi', 'lately', 'first', 'meal_comes', 'mind', 'want', 'comfort_food', 'bit_problem', 'cause', 'normally', 'work_day', 'lunch', 'eating', 'meal', 'pork_rice', 'mac_salad', 'coleslaw', 'right', 'exhausted', 'dire_need', 'nap', 'used_come', 'quite_frequently', 'forgot', 'place', 'sure', 'besides', 'kahlua_pork', 'rumbi_rice', 'say', 'mac_salad', 'sweet_potato', 'fries', 'beach', 'burger', 'really_good', 'well', 'looking_something', 'different', 'yet', 'tasty_satisfying', 'try', 'rumbi', 'think_enjoy'], ['like', 'coming', 'want', 'pretend_read', 'grocery_shopping', 'say', 'pretend_read', 'becase', 'invariably', 'start', 'eaves', 'dropping', 'people_seated', 'near', 'usually', 'people_either', 'real_estate', 'professionals', 'lunch_meeting', 'families_small', 'children', 'saying', 'ridiculous', 'things', 'also', 'run', 'guy', 'friend', 'used', 'date', 'date_pretty', 'strange', 'like', 'salads_breakfast', 'sandwhich', 'feta', 'portobello', 'sanwhich', 'ciabatta', 'recommended', 'bread', 'love', 'sweet_potato', 'sandwhich', 'huge', 'recommend_ordering', 'half', 'sharing', 'even', 'lot', 'sandwhich', 'scone', 'fill', 'entire', 'morning', 'afternoon', 'mom', 'requests', 'trip', 'place', 'next', 'cool_bookstore', 'whenever', 'comes', 'town', 'cool_bookstore', 'changing_hands', 'agree', 'mom', 'cool'], ['perhaps', 'foolish', 'give', 'la_condesa', 'four_stars', 'first', 'given_fact', 'really_liked', 'say', 'critical', 'nature', 'knew_going', 'back_soon', 'felt_like', 'save', 'last', 'return_visit', 'well', 'got', 'place', 'fantastic', 'fact', 'cenpho', 'lets', 'one', 'go', 'personally', 'hold', 'responsible', 'watch', 'citizen', 'arrest', 'ever_see', 'however', 'unlikely', 'happen', 'food', 'damn_tasty', 'today', 'oaxaca', 'black', 'mole', 'chicken_taco', 'swooning', 'topped', 'pickled_onions', 'chicken_tender', 'simmered', 'lovely', 'sauce', 'soronan', 'carne_asada', 'taco', 'char_grilled', 'mesquite', 'charcoal', 'slouch', 'either', 'rate', 'right', 'favorites', 'town', 'go', 'place', 'feeling', 'least', 'weekly', 'ever', 'get', 'beer_liquor', 'license', 'probably'], ['many_years', 'seen', 'recent', 'decline', 'quality_service', 'felt', 'scolded', 'bartender', 'today_lunch', 'felt', 'disrespected', 'customer_service', 'sucks_stay', 'away', 'bad_service', 'bad_review'], ['hands_best', 'breakfast', 'ever_anywhere', 'definitely_feels', 'like', 'home_cooked', 'breakfast', 'never', 'place', 'weekend', 'packed', 'door', 'person', 'loves_place'], ['went_second', 'time', 'sunday', 'first_time', 'came', 'underwhelmed', 'think', 'problem', 'went', 'one_time', 'came', 'others', 'beautiful_sunday', 'afternoon', 'pitchers', 'sangria', 'specials', 'sunday', 'copious_amounts', 'food', 'rediscovered', 'restorative', 'quality', 'good_food', 'great', 'friends', 'serrano', 'ham', 'manchego', 'quince_paste', 'pollo', 'colonial', 'favorite', 'lamb', 'mustard', 'mint', 'pan', 'con', 'tomate', 'quail', 'lentils_chicken', 'drumettes', 'exception', 'drumettes', 'tasted_like', 'overly', 'fancy', 'buffalo_wings', 'rest_food', 'exceptional', 'small_portions', 'yes', 'smidge', 'pricey_yet', 'communal', 'feeling', 'good', 'friends', 'open_air', 'sharing', 'vino', 'small_plates', 'priceless'], ['recently_moved', 'back', 'mesa', 'hunt', 'place', 'get', 'good', 'sandwich', 'fresh_bread', 'place', 'tops_list', 'places', 'east_valley', 'get', 'good', 'sandwich', 'first', 'sandwich', 'atlantic', 'haddock', 'provencal', 'sandwich_made', 'seared', 'lightly_breaded', 'haddock', 'sliced', 'hard_boiled', 'egg', 'fresh_basil', 'romaine_lettuce', 'tomato', 'provencal', 'tartar_sauce', 'grilled_brioche', 'roll', 'brioche', 'amazing_light', 'fluffy', 'haddock', 'perfectly_cooked', 'right_amount', 'breading', 'vegetables_fresh', 'perfect', 'proportions', 'overpower', 'bread', 'haddock', 'sometimes_go', 'sandwich_shop', 'overload', 'everything_else', 'meat_bread', 'accessorize', 'vegetables', 'sauce_perfectly', 'done', 'atmosphere_pleasant', 'open', 'nice', 'music', 'light', 'smell', 'fresh_bread', 'background', 'salivates', 'must_visit', 'lunch_time', 'destination', 'dinner', 'review', 'shortly'], ['wonderful', 'night', 'start', 'way', 'found', 'restaurant', 'yelp', 'realizing', 'sixteen', 'miles_hotel', 'wife', 'staying', 'heard', 'grief', 'way', 'come_honey', 'adventure', 'arrived', 'greeted_warmly', 'shown', 'right_table', 'zach', 'waiter', 'right', 'offer_us', 'drinks_appetizers', 'summer_rolls', 'delicious', 'explained', 'zach', 'allergic_wheat', 'brought_us', 'special', 'gluten_free', 'menu', 'owner', 'created', 'us', 'allergic_wheat', 'zach', 'even_brought', 'us', 'special', 'wheat', 'free', 'dipping_sauce', 'summer_rolls', 'showed_great', 'care', 'provided_great', 'customer_service', 'sauce', 'delicious_portions', 'good_sized', 'presentation_beautiful', 'wonderful_tastes', 'personal_service', 'made', 'night', 'special', 'oh', 'bathrooms_clean', 'thanks', 'zach', 'thanks', 'malee', 'great', 'night_wife', 'look_forward', 'repeating', 'yes', 'admitted', 'dinner', 'drive_worth'], ['done', 'fair', 'sandwiches', 'better', 'safeway', 'anyway', 'stars_since', 'know', 'free', 'soft', 'serve', 'get', 'try', 'gotta', 'good', 'new_york', 'style_deli', 'west', 'north', 'thunderbird', 'great', 'good', 'would', 'wonderful'], ['begin', 'favorite_mexican', 'food', 'establishment', 'ever', 'frequenting', 'carolina', 'years_never', 'disappointed_might', 'compare', 'filiberto', 'insert', 'surname', 'berto', 'whole_different', 'level', 'atmosphere_wise', 'one_step', 'sketchy', 'hole_wall', 'food', 'makes_everything', 'appearance_place', 'lacks', 'know_secret', 'beans_tortillas', 'salsa', 'die', 'cheap', 'like', 'seriously', 'dish', 'money', 'food', 'fact_really', 'cheap', 'icing_cake', 'almost_always', 'busy', 'always', 'worth_wait', 'always', 'gone', 'missing'], ['meh', 'decent', 'filibertos', 'knockoff', 'place_feels', 'like', 'major', 'health', 'hazard', 'considering', 'new', 'think', 'filibertos', 'less', 'quality_control', 'smaller_portions'], ['indian', 'grown', 'london', 'pretty', 'spoilt', 'indian_food', 'imagine', 'dismay', 'moved_phoenix', 'tried_many', 'different', 'places_town', 'desperately', 'trying', 'recapture', 'memory', 'good', 'london', 'curry_house', 'time_left', 'either', 'disappointed', 'clutching', 'guts', 'fearing', 'may_come', 'couple_friends', 'introduced_place', 'months_ago', 'stoked', 'good_stuff', 'back_home', 'sure_get', 'better', 'san_francisco', 'new_york', 'looking_something', 'closer_home', 'go_wrong', 'plus', 'got_real', 'live', 'indians', 'eating', 'bad'], ['place', 'anymore'], ['went_morning', 'around', 'like', 'minute_wait', 'biggie', 'service_fast', 'orders', 'fresh', 'correct', 'place_clean', 'waffle_house', 'fancy', 'joint', 'good', 'plus', 'staff', 'easy_going', 'create', 'fun_lively', 'atmosphere_good', 'casual_breakfast'], ['begin', 'love', 'casey_moore', 'great_ambiance', 'outside_patio', 'tons', 'seating_misters', 'lots_beautiful', 'decorations', 'stare', 'waiting_friends', 'arrive', 'staff', 'well', 'fellow', 'patrons', 'always_friendly', 'feel_like', 'getting', 'touch', 'hippie', 'side', 'go', 'casey_moores', 'always', 'expect_find', 'someone_outside', 'painting', 'work_art', 'photographing', 'wandering', 'cats', 'yes', 'cats', 'well_fed', 'happy', 'gets_pretty', 'busy', 'pm', 'good_news', 'arrive', 'bring_pets', 'stay', 'night', 'bring_dog', 'time', 'always_met', 'animal', 'lovers', 'know', 'could', 'bring_pets', 'know', 'oysters', 'good', 'eating', 'patio_heat', 'kind', 'kills', 'deal', 'never_tried', 'oysters', 'going', 'casey', 'surprisingly', 'tasty', 'comparatively', 'better', 'oyster', 'houses', 'feeling', 'pretty', 'ballsy', 'go_pee', 'blarney', 'stone', 'every_time', 'go', 'wish', 'man', 'could'], ['went', 'hype', 'immediately', 'realized', 'overrated', 'ambiance', 'like_chilis', 'trying', 'mexican']]\n"
          ]
        }
      ],
      "source": [
        "#############################################\n",
        "\"\"\"\n",
        "Utilitzarem el model Phrases que detecta le sol·locacions habituals en el corpus i ens retorna les phrases\n",
        "amb les col·locacions detectades\n",
        "\"\"\"\n",
        "# Train the phrase model\n",
        "model = Phrases(texts, min_count=1, threshold=2, delimiter='_')\n",
        "\n",
        "# Use the phrase model to transform the text accordingly\n",
        "model_phraser = Phraser(model)\n",
        "texts_phraser = [model_phraser[text] for text in texts]\n",
        "\n",
        "print(texts_phraser[:100])\n",
        "#############################################\n"
      ],
      "id": "dee08237"
    },
    {
      "cell_type": "markdown",
      "metadata": {
        "id": "b53930c4"
      },
      "source": [
        "<i>Segon pas</i>: crear una sentence stream on tots els tokens de les oracions estan lematitzats. Els tokens no poden ser stopwords ni tenir un stopword al començament o al final. Per simplificar la tasca, considerem que el lema d'una col·locació no canvia i el seu PoS és col. (e.g: ['The guests like scrambled eggs', 'The rooms were dirty'] -> [['the', 'guest', 'like', 'scrambled_eggs], ['the', 'room', 'be ', 'dirty']]). (1 punt)"
      ],
      "id": "b53930c4"
    },
    {
      "cell_type": "code",
      "execution_count": 63,
      "metadata": {
        "id": "9cfcef92",
        "colab": {
          "base_uri": "https://localhost:8080/"
        },
        "outputId": "2fa18f46-e159-47b4-834d-fc670d159536"
      },
      "outputs": [
        {
          "output_type": "stream",
          "name": "stderr",
          "text": [
            "[nltk_data] Downloading package wordnet to /root/nltk_data...\n",
            "[nltk_data]   Package wordnet is already up-to-date!\n"
          ]
        },
        {
          "output_type": "stream",
          "name": "stdout",
          "text": [
            "['wife_took', 'birthday', 'breakfast', 'excellent', 'weather_perfect', 'make', 'sitting_outside', 'overlook', 'ground', 'absolute', 'pleasure_waitress', 'excellent_food', 'arrived_quickly', 'semi', 'busy_saturday', 'morning', 'looked_like', 'place', 'fill', 'pretty_quickly', 'earlier_get', 'better', 'favor_get', 'bloody_mary', 'phenomenal', 'simply_best', 'ever', 'pretty_sure', 'use_ingredients', 'garden', 'blend', 'fresh', 'order', 'amazing_everything', 'menu_looks', 'excellent', 'white_truffle', 'scrambled_eggs', 'vegetable', 'skillet', 'tasty', 'delicious', 'came_pieces', 'griddle', 'bread_amazing', 'absolutely_made', 'meal_complete', 'best', 'toast_ever', 'anyway', 'wait_go', 'back']\n"
          ]
        }
      ],
      "source": [
        "#############################################\n",
        "from nltk.stem.wordnet import WordNetLemmatizer\n",
        "\n",
        "nltk.download('wordnet')\n",
        "\n",
        "# Tornem a filtrar ja que el model Phrase pot haver creat col·locacions amb stopwords\n",
        "def is_good_token(token):\n",
        "    test = True\n",
        "    if '_' in token:\n",
        "      if token.split('_')[0] in stopwords or token.split('_')[1] in stopwords:\n",
        "          test = False\n",
        "    else:\n",
        "      if token in stopwords:\n",
        "          test = False\n",
        "    return test\n",
        "\n",
        "# Associa NN, NNS, IN a 'n', VBG, VB, VBN, VBZ a 'v'  i finaltment   JJ, RBR, RB a 'n'\n",
        "def obte_pos(pos):\n",
        "    if re.match(r'^N',pos):\n",
        "        wn_pos = 'n'\n",
        "    elif re.match(r'^V',pos):\n",
        "        wn_pos = 'v'\n",
        "    else:\n",
        "        wn_pos = 'n'\n",
        "    return wn_pos\n",
        "\n",
        "def wlemmatize(t,postag):\n",
        "    lemmat = \"\"\n",
        "    lem = WordNetLemmatizer()\n",
        "    if '_' not in t:\n",
        "        lemmat = lem.lemmatize(t,obte_pos(postag[0][1]))\n",
        "    else:\n",
        "        lemmat = t\n",
        "    \n",
        "    return lemmat\n",
        "\n",
        "postag = {}\n",
        "\n",
        "lemmatized_sentences = []\n",
        "for sentence in texts_phraser:\n",
        "  #print(\"sentence: \", sentence)\n",
        "  new_sentence = []\n",
        "  for token in sentence:\n",
        "    if is_good_token(token):\n",
        "      postag[token] = nltk.pos_tag([token])\n",
        "      lemmatized_token = wlemmatize(token,postag[token])\n",
        "      new_sentence.append(lemmatized_token)\n",
        "  lemmatized_sentences.append(new_sentence)\n",
        "  #print(\"new_sentence: \", new_sentence)\n",
        "\n",
        "print(lemmatized_sentences[0])\n",
        "#############################################"
      ],
      "id": "9cfcef92"
    },
    {
      "cell_type": "markdown",
      "metadata": {
        "id": "7b807880"
      },
      "source": [
        "<i>Tercer pas</i>: Crear un model word2vec de les opinions lematitzades. El model s'ha de dir w2v_opinions (0.5 punts)"
      ],
      "id": "7b807880"
    },
    {
      "cell_type": "code",
      "execution_count": 64,
      "metadata": {
        "id": "b033b7ad"
      },
      "outputs": [],
      "source": [
        "#############################################\n",
        "w2v_opinions = gensim.models.Word2Vec(\n",
        "        sentences=lemmatized_sentences,\n",
        "        vector_size=150,  # Mida de les dimensions del vector\n",
        "        window=10, # Context window \n",
        "        min_count= 3, # frequencia mínima\n",
        "        workers= 1,\n",
        "        seed=1      # Valor inici predefinit per conservar la coherencia\n",
        ")\n",
        "#############################################\n"
      ],
      "id": "b033b7ad"
    },
    {
      "cell_type": "markdown",
      "metadata": {
        "id": "00e07b3c"
      },
      "source": [
        "<i>Quart pas</i>: A partir del vocabulari del model word2vec, selecciona possibles aspectes de l'opinió (e.g: food) i llista termes semànticament relacionats amb aquests aspectes segons aquest model. (0.5 punts)"
      ],
      "id": "00e07b3c"
    },
    {
      "cell_type": "markdown",
      "metadata": {
        "id": "cc470830"
      },
      "source": [
        "Obtenir el vocabulari:"
      ],
      "id": "cc470830"
    },
    {
      "cell_type": "code",
      "execution_count": 65,
      "metadata": {
        "id": "d10af9ee",
        "colab": {
          "base_uri": "https://localhost:8080/"
        },
        "outputId": "3c83370f-63a5-4e14-b40e-cab81d247b30"
      },
      "outputs": [
        {
          "output_type": "stream",
          "name": "stdout",
          "text": [
            "vocabulary:  ['place', 'food', 'good', 'get', 'go', 'like', 'great', 'order', 'one', 'time', 'try', 'make', 'love', 'come', 'restaurant', 'say', 'also', 'eat', 'well', 'back', 'menu', 'really', 'even', 'know', 'service', 'pizza', 'think', 'would', 'delicious', 'take', 'meal', 'little', 'drink', 'best', 'salad', 'nice', 'sandwich', 'u', 'burger', 'dinner', 'look', 'want', 'friend', 'much', 'dish', 'way', 'table', 'give', 'bar', 'taste', 'chicken', 'amaze', 'fry', 'serve', 'lunch', 'sauce', 'always', 'right', 'see', 'people', 'thing', 'enjoy', 'still', 'price', 'ask', 'day', 'first', 'night', 'though', 'happy_hour', 'experience', 'side', 'better', 'since', 'lot', 'flavor', 'wait', 'ever', 'beer', 'tasty', 'server', 'cheese', 'use', 'start', 'awesome', 'work', 'location', 'star', 'could', 'plate', 'never', 'fresh', 'two', 'favorite', 'find', 'sure', 'review', 'bread', 'visit', 'need', 'bad', 'special', 'area', 'everything', 'appetizer', 'dessert', 'bit', 'phoenix', 'meat', 'really_good', 'something', 'actually', 'kind', 'definitely', 'around', 'however', 'spot', 'seem', 'staff', 'friendly', 'top', 'hour', 'feel', 'breakfast', 'big', 'sushi', 'offer', 'add', 'new', 'wine', 'ok', 'roll', 'perfect', 'taco', 'home', 'seat', 'excellent', 'soup', 'small', 'check', 'hot', 'expect', 'atmosphere', 'inside', 'call', 'fantastic', 'fill', 'probably', 'enough', 'stop', 'happy', 'put', 'thought', 'walk', 'maybe', 'another', 'husband', 'first_time', 'wonderful', 'many', 'return', 'yummy', 'course', 'steak', 'minute', 'include', 'recommend', 'waitress', 'scottsdale', 'entree', 'great_place', 'although', 'owner', 'yes', 'open', 'great_food', 'end', 'pretty', 'kid', 'year', 'go_back', 'anything', 'fan', 'sweet', 'without', 'huge', 'oh', 'told', 'either', 'full', 'food_good', 'waiter', 'close', 'share', 'different', 'name', 'house', 'show', 'item', 'water', 'found', 'town', 'next_time', 'guy', 'outside', 'option', 'left', 'far', 'beef', 'especially', 'cool', 'choice', 'usually', 'light', 'love_place', 'disappointed', 'family', 'worth', 'quite', 'rice', 'spicy', 'fun', 'coffee', 'point', 'mean', 'guess', 'style', 'yet', 'ate', 'hand', 'crowd', 'next', 'shrimp', 'fact', 'decor', 'long', 'sit', 'selection', 'tell', 'least', 'patio', 'may', 'good_food', 'instead', 'grill', 'pretty_good', 'slice', 'talk', 'decide', 'overall', 'quality', 'miss', 'old', 'potato', 'finish', 'remember', 'part', 'burrito', 'wife', 'real', 'nothing', 'kitchen', 'chef', 'let', 'cheap', 'must', 'even_though', 'pork', 'stuff', 'salsa', 'bacon', 'bowl', 'arrive', 'customer', 'almost', 'type', 'wing', 'din', 'everyone', 'large', 'head', 'week', 'bring', 'great_service', 'warm', 'portion', 'every_time', 'veggie', 'clean', 'business', 'run', 'list', 'etc', 'change', 'every', 'drive', 'line', 'bartender', 'help', 'green', 'ingredient', 'half', 'fish', 'piece', 'keep', 'local', 'might', 'regular', 'size', 'care', 'watch', 'set', 'okay', 'mushroom', 'chip', 'valley', 'group', 'door', 'plus', 'whole', 'girl', 'sweet_potato', 'spice', 'yelp', 'mexican_food', 'pay', 'egg', 'le', 'busy', 'problem', 'bite', 'food_great', 'pick', 'turn', 'last_night', 'today', 'tomato', 'away', 'free', 'margarita', 'glass', 'reason', 'leave', 'wow', 'mention', 'cook', 'three', 'make_sure', 'az', 'someone', 'arizona', 'impressed', 'onion', 'bean', 'wish', 'notice', 'pasta', 'seriously', 'party', 'service_great', 'room', 'couple', 'often', 'cooked', 'quick', 'manager', 'date', 'believe', 'live', 'cold', 'deal', 'sort', 'crave', 'good_service', 'fine', 'life', 'feel_like', 'anyway', 'pho', 'extra', 'game', 'fast', 'yum', 'move', 'saw', 'stand', 'brought', 'do', 'wall', 'happen', 'ice_cream', 'hard', 'weekend', 'finally', 'fast_food', 'joint', 'music', 'mac_cheese', 'highly_recommend', 'bottle', 'already', 'season', 'man', 'ambiance', 'one_best', 'mom', 'dog', 'unfortunately', 'street', 'pm', 'others', 'consider', 'vegetarian', 'dress', 'flavorful', 'dry', 'desert', 'simple', 'mexican', 'cut', 'topping', 'along', 'tip', 'quickly', 'last', 'receive', 'bland', 'wait_staff', 'wrap', 'play', 'charge', 'hit', 'world', 'super', 'soon', 'second', 'authentic', 'chain', 'note', 'crust', 'lack', 'die', 'much_better', 'mind', 'decent', 'trip', 'else', 'bbq', 'toast', 'curry', 'tea', 'sample', 'choose', 'thanks', 'totally', 'sat', 'salmon', 'homemade', 'glad', 'deliver', 'fabulous', 'high', 'average', 'tempe', 'noodle', 'sometimes', 'wrong', 'sausage', 'lovely', 'person', 'butter', 'tv', 'idea', 'rib', 'please', 'money', 'surprised', 'realize', 'variety', 'front', 'ton', 'plenty', 'come_back', 'anyone', 'really_like', 'completely', 'understand', 'bun', 'smell', 'treat', 'vegetable', 'staff_friendly', 'hang', 'together', 'perfectly', 'bill', 'base', 'buffet', 'unique', 'patron', 'heat', 'dip', 'dollar', 'write', 'buck', 'thai', 'available', 'space', 'cocktail', 'follow', 'crispy', 'twice', 'figure', 'interest', 'face', 'expensive', 'beautiful', 'garlic', 'suggest', 'employee', 'service_good', 'read', 'carne_asada', 'last_time', 'cover', 'soda', 'salt', 'forget', 'one_favorite', 'rather', 'pretty_much', 'later', 'sorry', 'shop', 'gross', 'packed', 'seafood', 'white', 'become', 'counter', 'cake', 'case', 'loud', 'heard', 'hostess', 'simply', 'begin', 'several', 'complaint', 'sunday', 'beat', 'stuffed', 'true', 'compare', 'agree', 'suck', 'pepper', 'tasted_like', 'greasy', 'hungry', 'issue', 'appreciate', 'crazy', 'cup', 'mixed', 'combo', 'pie', 'rock', 'lady', 'brunch', 'chocolate', 'suppose', 'appear', 'store', 'plan', 'word', 'place_go', 'bruschetta', 'hope', 'easy', 'slow', 'rest', 'folk', 'perhaps', 'attentive', 'cost', 'kinda', 'heaven', 'going_back', 'hold', 'combination', 'short', 'knew', 'typical', 'establishment', 'request', 'customer_service', 'mine', 'sell', 'morning', 'boyfriend', 'pancake', 'except', 'stay', 'food_service', 'felt', 'red', 'chili', 'italian', 'food_always', 'hummus', 'welcome', 'rich', 'extremely', 'conversation', 'whatever', 'split', 'disappoint', 'provide', 'basically', 'guacamole', 'chips_salsa', 'state', 'standard', 'long_time', 'dark', 'neighborhood', 'cafe', 'food_delicious', 'near', 'kick', 'prefer', 'smile', 'usual', 'unless', 'casual', 'create', 'able', 'literally', 'locate', 'topped', 'downtown', 'month', 'hate', 'sign', 'matter', 'explain', 'son', 'strip_mall', 'old_town', 'alone', 'tortilla', 'truly', 'parking', 'traditional', 'honestly', 'wonder', 'girlfriend', 'delish', 'mouth', 'mood', 'version', 'absolutely', 'jalapeno', 'past', 'diner', 'opinion', 'classic', 'ago', 'complain', 'fruit', 'cream', 'stick', 'view', 'hop', 'coupon', 'recommendation', 'amount', 'booth', 'go_wrong', 'service_always', 'cuisine', 'pull', 'chinese', 'gyro', 'offering', 'exactly', 'lose', 'lol', 'cause', 'bathroom', 'spring_rolls', 'speak', 'excite', 'looks_like', 'sub', 'drinking', 'boy', 'parking_lot', 'refill', 'comfortable', 'job', 'outstanding', 'bag', 'tiny', 'sound', 'drop', 'touch', 'admit', 'pleasant', 'mostly', 'would_definitely', 'chinese_food', 'carry', 'load', 'lettuce', 'fried_rice', 'fancy', 'dining_experience', 'healthy', 'shot', 'vegan', 'incredible', 'update', 'daughter', 'tender', 'pulled_pork', 'reservation', 'heavy', 'due', 'longer', 'book', 'helpful', 'tap', 'pickle', 'soggy', 'charm', 'city', 'early', 'pour', 'original', 'french_toast', 'quality_food', 'always_good', 'buy', 'corn', 'birthday', 'wait_go', 'card', 'feature', 'mix', 'asian', 'eye', 'cute', 'window', 'friendly_staff', 'really_nice', 'martini', 'good_thing', 'hubby', 'texture', 'soft', 'opt', 'scallop', 'slightly', 'friday_night', 'value', 'vibe', 'four', 'wear', 'really_enjoyed', 'recently', 'greet', 'non', 'mess', 'apparently', 'certainly', 'car', 'surprise', 'spinach', 'event', 'lamb', 'empty', 'avocado', 'duck', 'skip', 'olive', 'horrible', 'creamy', 'pita', 'several_times', 'waffle', 'second_time', 'prepared', 'chicago', 'one_thing', 'guest', 'well_worth', 'even_better', 'hear', 'post', 'strange', 'clearly', 'management', 'normally', 'accommodate', 'reasonably_priced', 'club', 'also_good', 'remind', 'terrible', 'step', 'broth', 'salty', 'weird', 'definitely_back', 'building', 'looked_like', 'level', 'chipotle', 'mayo', 'chandler', 'despite', 'min', 'black', 'turkey', 'frequent', 'beverage', 'oil', 'enchilada', 'huge_fan', 'many_times', 'afternoon', 'great_atmosphere', 'child', 'hell', 'easily', 'food_excellent', 'rude', 'moment', 'somewhat', 'carrot', 'service_friendly', 'main', 'yeah', 'olive_oil', 'really_great', 'next_door', 'hey', 'dine', 'dirty', 'perfection', 'back_try', 'bake', 'felt_like', 'little_bit', 'reasonable', 'comment', 'thank', 'food_came', 'chance', 'grow', 'number', 'park', 'cooky', 'grab', 'gluten_free', 'product', 'rare', 'american', 'would_go', 'chose', 'nearly', 'la', 'ready', 'mini', 'attitude', 'goodness', 'fit', 'pad_thai', 'quesadilla', 'assume', 'single', 'funny', 'question', 'similar', 'mall', 'obviously', 'fat', 'tonight', 'relax', 'pasty', 'looking_forward', 'cooking', 'kept', 'also_ordered', 'interior', 'brew', 'saturday_night', 'slider', 'medium', 'bunch', 'crisp', 'everything_else', 'best_part', 'honey', 'would_recommend', 'coming_back', 'range', 'allow', 'big_fan', 'expectation', 'damn', 'anywhere', 'overprice', 'baby', 'wine_list', 'immediately', 'host', 'middle', 'imagine', 'refresh', 'enter', 'banana', 'iced_tea', 'parent', 'onion_rings', 'picture', 'pair', 'complete', 'environment', 'take_home', 'box', 'alcohol', 'accompany', 'omg', 'chat', 'round', 'th', 'cent', 'awful', 'movie', 'melt', 'mashed_potatoes', 'goat_cheese', 'thin', 'hotel', 'color', 'french', 'rush', 'new_york', 'purchase', 'thick', 'possible', 'particular', 'none', 'paid', 'tofu', 'always_get', 'search', 'pas', 'platter', 'pineapple', 'basic', 'cheesecake', 'addition', 'young', 'heart', 'chair', 'floor', 'normal', 'cucumber', 'late', 'learn', 'four_peaks', 'pleased', 'disgust', 'lemon', 'rave', 'leftover', 'met', 'gave_us', 'grilled_cheese', 'really_liked', 'select', 'solid', 'reading', 'frozen', 'otherwise', 'suggestion', 'burn', 'pleasantly_surprised', 'center', 'company', 'fair', 'needless_say', 'one_time', 'plain', 'total', 'app', 'picked', 'crap', 'joe', 'woman', 'fix', 'smoke', 'pastry', 'brother', 'top_notch', 'juice', 'best_ever', 'aside', 'omelet', 'french_fries', 'process', 'cozy', 'travel', 'japanese', 'juicy', 'generally', 'sugar', 'calamari', 'laid_back', 'chill', 'negative', 'mistake', 'fairly', 'tuna', 'sport', 'positive', 'fall', 'hot_sauce', 'save', 'handle', 'bagel', 'old_school', 'blue', 'cookie', 'bone', 'organic', 'attempt', 'entire', 'stomach', 'switch', 'photo', 'hole_wall', 'vodka', 'meet', 'anymore', 'attention', 'spent', 'patty', 'steakhouse', 'apple', 'gravy', 'look_forward', 'lemonade', 'prices_reasonable', 'dining_room', 'next_day', 'live_music', 'present', 'eatery', 'roast', 'brisket', 'whether', 'clear', 'sake', 'saturday', 'would_like', 'shit', 'warn', 'food_pretty', 'country', 'mother', 'place_pretty', 'rating', 'double', 'particularly', 'would_say', 'beyond', 'avoid', 'delivery', 'went_back', 'http_www', 'opening', 'lucky', 'orange', 'pass', 'low', 'ball', 'scene', 'promise', 'friendly_service', 'basil', 'market', 'strip', 'office', 'correct', 'mediocre', 'laugh', 'age', 'personal', 'strong', 'serious', 'mesa', 'ranch', 'sadly', 'friday', 'chunk', 'give_try', 'well_done', 'pop', 'tamale', 'prepare', 'raw', 'lobster', 'odd', 'crunchy', 'give_place', 'personally', 'tire', 'last_week', 'starve', 'ice', 'beer_selection', 'compliment', 'greek', 'bar_area', 'nacho', 'kill', 'still_good', 'result', 'corner', 'yesterday', 'discover', 'oven', 'rice_beans', 'years_ago', 'cashier', 'bother', 'excellent_service', 'presentation', 'count', 'throw', 'right_amount', 'foodie', 'nearby', 'sad', 'fly', 'generous', 'delightful', 'anyways', 'really_really', 'leaf', 'service_excellent', 'upon', 'deli', 'love_love', 'dim_sum', 'fire', 'limited', 'definitely_worth', 'great_experience', 'upscale', 'break', 'nicely', 'could_eat', 'forgot', 'food_amazing', 'takeout', 'bbq_sauce', 'likely', 'shake', 'invite', 'delight', 'design', 'excuse', 'creative', 'chicken_salad', 'smaller', 'killer', 'surprisingly', 'listen', 'pesto', 'starter', 'section', 'home_made', 'husband_ordered', 'fish_tacos', 'fried_chicken', 'grease', 'pack', 'dad', 'joke', 'fez', 'best_thing', 'overcook', 'hipster', 'important', 'adult', 'asparagus', 'crab', 'sangria', 'late_night', 'concept', 'tuesday', 'hot_dog', 'first_visit', 'hint', 'sister', 'behind', 'thought_would', 'worry', 'summer', 'filet', 'ambience', 'per', 'crepe', 'superb', 'boring', 'alright', 'ridiculous', 'toss', 'moist', 'giant', 'found_place', 'trust', 'probably_best', 'biscuit', 'cornbread', 'barely', 'phenomenal', 'sat_bar', 'must_say', 'quiet', 'disappointment', 'amazing_food', 'besides', 'oz', 'reminds', 'sports_bar', 'fare', 'snack', 'quite_good', 'shell', 'fuck', 'pita_jungle', 'experienced', 'future', 'stew', 'poor', 'must_try', 'lime', 'perfectly_cooked', 'five_stars', 'apologize', 'various', 'introduce', 'paper', 'layer', 'support', 'peanut_butter', 'popular', 'menu_items', 'ground', 'one_night', 'meatball', 'occasion', 'website', 'professional', 'machine', 'st', 'california', 'blue_cheese', 'sweet_sour', 'continue', 'famous', 'shock', 'elsewhere', 'texas', 'chicken_sandwich', 'drove', 'cannot', 'stuck', 'bigger', 'great_little', 'also_great', 'gotten', 'highly_recommended', 'nothing_special', 'gelato', 'strawberry', 'dance', 'cash', 'satisfy', 'tasteless', 'recommend_place', 'dream', 'pile', 'addict', 'thats', 'ham', 'cream_cheese', 'luckily', 'salad_bar', 'came_back', 'mango', 'team', 'as', 'drive_thru', 'happens', 'green_chile', 'good_things', 'balance', 'lover', 'affordable', 'incredibly', 'entertain', 'would_never', 'plastic', 'pricey', 'theme', 'shopping', 'somehow', 'dude', 'ring', 'downtown_phoenix', 'really_wanted', 'skin', 'staff_always', 'staple', 'fail', 'dumpling', 'cheesy', 'decision', 'appeal', 'oyster', 'microwave', 'best_pizza', 'hash_browns', 'subway', 'coke', 'overly', 'look_like', 'brown', 'hamburger', 'thai_food', 'great_prices', 'divine', 'would_give', 'hype', 'college', 'awhile', 'people_watching', 'oh_well', 'taste_like', 'complimentary', 'self', 'good_enough', 'sick', 'bought', 'improve', 'dining_area', 'bomb', 'worst', 'within', 'par', 'knock', 'apps', 'mild', 'worse', 'high_quality', 'cilantro', 'meh', 'worker', 'chewy', 'celebrate', 'peanut', 'lunch_dinner', 'actual', 'waitstaff', 'food_quality', 'never_bad', 'ya', 'picky', 'efficient', 'every_day', 'mill', 'spend', 'coconut', 'lead', 'bread_pudding', 'great_deal', 'modern', 'somewhere', 'heck', 'yuck', 'pear', 'onto', 'would_come', 'prime_rib', 'check_place', 'trendy', 'seems_like', 'pretzel', 'ketchup', 'right_next', 'service_fast', 'meeting', 'stock', 'eggplant', 'decided_try', 'fork', 'bf', 'regret', 'scoop', 'fish_chips', 'recipe', 'consistent', 'pricing', 'place_packed', 'answer', 'classy', 'lounge', 'overall_great', 'groupon', 'herb', 'tough', 'art', 'satisfied', 'sour_cream', 'get_better', 'bar_food', 'grocery', 'burger_fries', 'former', 'soak', 'venue', 'eater', 'steam', 'ran', 'would_expect', 'dough', 'always_great', 'draft', 'pudding', 'chopped_salad', 'right_away', 'relaxed', 'unbelievable', 'many_people', 'mint', 'impressive', 'approach', 'hurry', 'year_old', 'gf', 'belly', 'register', 'blown_away', 'cooked_perfectly', 'lunch_specials', 'yelpers', 'additional', 'detail', 'main_course', 'wash', 'earlier', 'could_get', 'pint', 'taste_buds', 'hat', 'vanilla', 'food_fantastic', 'win', 'god', 'bottom', 'desire', 'stack', 'thin_crust', 'romantic', 'yelp_com', 'napkin', 'inform', 'weather', 'challenge', 'shame', 'want_go', 'freak', 'good_pizza', 'living', 'phoenix_area', 'sip', 'matt', 'fight', 'absolutely_love', 'dead', 'describe', 'smooth', 'example', 'fave', 'unlike', 'shirt', 'terrific', 'panini', 'score', 'batter', 'winner', 'specialty', 'degree', 'intimate', 'flat', 'nyc', 'minutes_later', 'overwhelm', 'across', 'phone', 'buddy', 'whenever', 'waste', 'tastes_like', 'fault', 'definitely_go', 'manage', 'com', 'page', 'checked', 'annoy', 'flavorless', 'hip', 'throughout', 'catch', 'lb', 'lame', 'potato_salad', 'foot', 'wet', 'indian', 'straight', 'drunk', 'flatbread', 'torta', 'chopped', 'six', 'one_day', 'ordered_chicken', 'deserve', 'great_job', 'grit', 'recent', 'valet', 'biggest', 'bakery', 'co_workers', 'nice_touch', 'calorie', 'ignore', 'serf', 'farm', 'basket', 'reasonable_prices', 'spectacular', 'song', 'settle', 'burnt', 'went_lunch', 'pizzeria_bianco', 'hair', 'edamame', 'pure', 'gourmet', 'wait_long', 'sampler', 'hard_time', 'eggs_benedict', 'resort', 'great_selection', 'english', 'gem', 'pool', 'difference', 'coleslaw', 'couple_times', 'everything_menu', 'think_would', 'pretty_tasty', 'ala', 'decided_give', 'garden', 'blend', 'never_go', 'lobby', 'mozzarella', 'cheeseburger', 'good_reviews', 'mussel', 'lunch_special', 'fresh_delicious', 'confuse', 'dont', 'highlight', 'nut', 'sun', 'deep_fried', 'pei_wei', 'station', 'random', 'form', 'savory', 'dig', 'mouth_watering', 'big_deal', 'broccoli', 'stayed', 'give_stars', 'body', 'term', 'postino', 'something_like', 'three_times', 'queso', 'afraid', 'honest', 'dipped', 'band', 'vietnamese', 'de', 'general', 'sit_outside', 'inch', 'scream', 'someone_else', 'edge', 'place_clean', 'damn_good', 'condiment', 'one_star', 'ish', 'tray', 'story', 'pretentious', 'mustard', 'hopefully', 'cole_slaw', 'surround', 'anything_else', 'pitcher', 'across_street', 'good_well', 'delux', 'never_disappointed', 'ruin', 'wish_could', 'tempura', 'beers_tap', 'prosciutto', 'arugula', 'way_better', 'typically', 'sen', 'cheaper', 'inexpensive', 'mission', 'mojito', 'prior', 'let_know', 'diet', 'back_soon', 'brownie', 'long_wait', 'would_liked', 'spa', 'five', 'neighbor', 'family_owned', 'slaw', 'glass_wine', 'told_us', 'neither', 'blah', 'brewery', 'rate', 'period', 'land', 'kind_place', 'paint', 'join', 'separate', 'bottom_line', 'let_say', 'chorizo', 'possibly', 'community', 'polite', 'oh_yeah', 'advice', 'brought_us', 'spanish', 'weekday', 'want_try', 'great_happy', 'lunch_menu', 'quite_tasty', 'tart', 'daily', 'quaint', 'truffle', 'something_different', 'want_good', 'con', 'sale', 'thumb', 'noisy', 'places_like', 'edible', 'fine_dining', 'em', 'falafel', 'ny', 'difficult', 'dozen', 'spread', 'minute_wait', 'christopher', 'jar', 'syrup', 'block', 'west', 'next_visit', 'chile', 'hard_find', 'tour', 'guac', 'comfort_food', 'regard', 'south', 'drink_specials', 'get_enough', 'boba', 'fiance', 'outdoor_seating', 'pretty_sure', 'pub', 'replace', 'mexico', 'situation', 'air', 'hands_best', 'major', 'attend', 'say_place', 'response', 'btw', 'downside', 'great_meal', 'little_pricey', 'finger', 'hit_spot', 'hawaiian', 'road', 'grilled_chicken', 'previous', 'tapa', 'usually_get', 'caesar_salad', 'jam', 'fyi', 'tomato_soup', 'monday', 'made_us', 'convince', 'rule', 'mr', 'tend', 'go_lunch', 'push', 'own', 'seemed_like', 'swear', 'opportunity', 'items_menu', 'bit_pricey', 'something_else', 'wine_selection', 'plentiful', 'current', 'really_enjoy', 'wednesday', 'venture', 'brown_rice', 'eats', 'indulge', 'egg_rolls', 'place_eat', 'grant', 'airport', 'exception', 'restroom', 'definitely_recommend', 'risotto', 'hardly', 'weak', 'consist', 'around_pm', 'container', 'peak', 'black_beans', 'custard', 'asu', 'service_slow', 'wanted_try', 'paradise', 'cheese_plate', 'secret', 'consistency', 'cherry', 'four_stars', 'chicken_waffles', 'consistently', 'latte', 'creation', 'really_tasty', 'happily', 'meant', 'absolutely_delicious', 'fav', 'suit', 'food_ok', 'cowboy', 'could_make', 'wife_ordered', 'steal', 'also_got', 'time_go', 'focus', 'escape', 'hit_miss', 'bonus', 'equally', 'companion', 'claim', 'forever', 'mushy', 'feta', 'cooler', 'preparation', 'everywhere', 'calzone', 'impress', 'get_early', 'slight', 'raise', 'tad', 'extensive', 'school', 'oregano', 'enjoyable', 'practically', 'plantain', 'appropriate', 'great_flavor', 'piping_hot', 'signature', 'special_occasion', 'breakfast_burrito', 'tiramisu', 'neat', 'high_end', 'messy', 'could_see', 'shape', 'ca', 'generic', 'cute_little', 'ahead', 'get_wrong', 'bright', 'unusual', 'hearing', 'bbq_chicken', 'regardless', 'taco_bell', 'require', 'date_night', 'mile', 'bad_experience', 'phx', 'skillet', 'discount', 'package', 'said_would', 'bed', 'sub_par', 'five_guys', 'miso_soup', 'sexy', 'around_corner', 'pepperoni', 'always_fresh', 'indeed', 'monday_night', 'fluffy', 'ra', 'sprinkle', 'hooked', 'roast_beef', 'coffee_shop', 'watery', 'drizzle', 'burro', 'good_quality', 'didnt', 'good_stuff', 'memorable', 'promptly', 'force', 'north', 'also_really', 'light_rail', 'dive', 'omelette', 'familiar', 'sense', 'concoction', 'green_chili', 'exotic', 'wait_come', 'mexican_restaurant', 'america', 'inspire', 'soy', 'sashimi', 'take_order', 'couch', 'really_want', 'food_awesome', 'beware', 'would_love', 'thursday', 'cupcake', 'took_minutes', 'doubt', 'could_easily', 'hidden', 'breakfast_lunch', 'delicate', 'every_single', 'hearty', 'food_atmosphere', 'keep_coming', 'espresso', 'apology', 'careful', 'really_love', 'far_best', 'described', 'remain', 'one_places', 'match', 'north_scottsdale', 'scramble', 'pound', 'fig', 'complex', 'carnitas', 'ceviche', 'yellow', 'memory', 'adventure', 'cracker', 'tongue', 'clientele', 'reach', 'contact', 'individual', 'judge', 'ice_tea', 'brie', 'fun_place', 'southern', 'coat', 'nothing_like', 'behind_counter', 'ten', 'quarter', 'decoration', 'ride', 'everything_good', 'mountain', 'weeks_ago', 'golden', 'green_tea', 'meatloaf', 'definitely_one', 'remove', 'circle', 'control', 'nope', 'raspberry', 'berry', 'peach', 'bouncer', 'coworker', 'act', 'rd', 'squeeze', 'place_definitely', 'everyday', 'muffin', 'tortilla_soup', 'creme_brulee', 'try_something', 'def', 'donut', 'amazingly', 'certain', 'cibo', 'read_reviews', 'overpower', 'men', 'zero', 'cuz', 'threw', 'um', 'regularly', 'thankfully', 'ample', 'stir_fry', 'deep', 'also_love', 'bobby', 'tab', 'liquor', 'get_little', 'red_velvet', 'higher', 'chocolate_chip', 'cart', 'central_phoenix', 'wtf', 'definitely_going', 'nothing_else', 'bear', 'thrill', 'rarely', 'sushi_bar', 'many_places', 'mister', 'client', 'label', 'older', 'gonna', 'held', 'chris', 'third', 'knowledgeable', 'champagne', 'fully', 'bad_service', 'buzz', 'wise', 'oppose', 'cabbage', 'waited_minutes', 'soup_salad', 'spicy_tuna', 'short_ribs', 'eh', 'hong_kong', 'awesome_food', 'blame', 'make_feel', 'comfort', 'ordinary', 'larger', 'spoon', 'always_friendly', 'mainly', 'second_visit', 'history', 'nail', 'portions_huge', 'strike', 'sear', 'good_sized', 'anniversary', 'cider', 'seasonal', 'great_beer', 'great_price', 'stay_away', 'adorable', 'contain', 'planning', 'site', 'constantly', 'interested', 'cousin', 'kudos', 'lately', 'milkshake', 'halibut', 'grocery_store', 'specifically', 'good_job', 'naan', 'cinnamon', 'description', 'get_order', 'ever_eaten', 'high_school', 'starbucks', 'worth_drive', 'weekly', 'training', 'annoyed', 'gorgeous', 'properly', 'going_get', 'let_us', 'overall_good', 'good_prices', 'clam', 'ravioli', 'twist', 'cross', 'char', 'credit', 'chinese_restaurant', 'supposedly', 'cooked_perfection', 'pecan', 'square', 'nasty', 'trio', 'wine_bar', 'al', 'crunch', 'holiday', 'lower', 'went_dinner', 'grandma', 'first_thing', 'houston', 'tasted_good', 'milk', 'gold', 'asked_wanted', 'delectable', 'keg', 'overwhelmed', 'definitely_come', 'nd', 'bottle_wine', 'grown', 'comfy', 'dipping_sauce', 'portion_size', 'pea', 'mmmm', 'salsa_bar', 'shredded_beef', 'mmm', 'culinary', 'refuse', 'convenient', 'melt_mouth', 'proceed', 'display', 'nice_patio', 'decided_go', 'full_flavor', 'taste_good', 'would_suggest', 'crack', 'german', 'bloody_mary', 'assure', 'beans_rice', 'smash', 'china', 'massive', 'heavenly', 'horchata', 'subtle', 'refried_beans', 'take_time', 'pre', 'uncomfortable', 'tequila', 'hence', 'jean', 'garnish', 'afterwards', 'smoky', 'cheer', 'potato_fries', 'fake', 'among', 'blueberry', 'volume', 'convert', 'pizza_hut', 'funky', 'eventually', 'freshly_made', 'earn', 'super_friendly', 'luck', 'could_go', 'pretty_cool', 'never_heard', 'trouble', 'horseradish', 'grub', 'peanut_sauce', 'ahwatukee', 'lodge', 'everybody', 'alternative', 'cleaning', 'almond', 'splurge', 'new_favorite', 'nonetheless', 'bianco', 'appetite', 'craft', 'sundae', 'good_price', 'two_people', 'depend', 'fajitas', 'eager', 'pork_belly', 'exceptional', 'football', 'tucson', 'substitute', 'got_chicken', 'get_chance', 'enormous', 'croissant', 'multiple', 'drank', 'enjoy_meal', 'artichoke', 'also_tried', 'runny', 'ginger', 'smother', 'produce', 'sunday_night', 'vinaigrette', 'gallo_blanco', 'super_nice', 'asian_food', 'pleasure', 'repeat', 'ahi', 'obvious', 'egg_roll', 'would_nice', 'outdoor_patio', 'ahi_tuna', 'shortly', 'concern', 'lunch_time', 'chocolate_cake', 'bad_thing', 'hello', 'shade', 'panda_express', 'closer', 'law', 'would_better', 'winter', 'fondue', 'fortunately', 'king', 'pollo', 'stood', 'ale', 'finally_got', 'pan', 'place_looks', 'place_gets', 'mark', 'ribeye', 'recall', 'lazy', 'address', 'pace', 'truth', 'wide_variety', 'find_place', 'went_last', 'combine', 'reviewer', 'yay', 'favorite_place', 'energy', 'italian_food', 'would_highly', 'either_way', 'reply', 'stellar', 'beach', 'can', 'thoroughly_enjoyed', 'gotta', 'goody', 'distract', 'cheesesteak', 'piss', 'side_dishes', 'house_salad', 'frustrate', 'dj', 'white_rice', 'cornish_pasty', 'chic', 'yasu', 'wedge', 'wait_minutes', 'wild', 'soul', 'another_one', 'east_valley', 'sea', 'southwest', 'prawn', 'shred', 'veggie_burger', 'beer_wine', 'played', 'shopping_center', 'entertainment', 'uh', 'mon', 'sit_patio', 'indian_food', 'scrumptious', 'two_us', 'little_gem', 'breading', 'send', 'grimaldi', 'concerned', 'looked_good', 'thrown', 'sum', 'minimal', 'would_make', 'pocket', 'mimosa', 'online', 'regular_basis', 'information', 'hurt', 'everything_delicious', 'buttery', 'vig', 'root_beer', 'made_reservation', 'sticky', 'famous_dave', 'class', 'cooked_right', 'lolo', 'glaze', 'took_order', 'breast', 'parmesan', 'ever_seen', 'bistro', 'large_group', 'lil', 'wood', 'teriyaki', 'remodel', 'temperature', 'green_beans', 'trout', 'go_order', 'spring_training', 'orange_chicken', 'celery', 'safe', 'take_care', 'confirm', 'anyhow', 'italian_beef', 'member', 'really_bad', 'glendale', 'pretty_darn', 'slow_service', 'jerk_chicken', 'exterior', 'middle_eastern', 'veal', 'im', 'great_wine', 'train', 'natural', 'way_like', 'layout', 'marinate', 'wish_would', 'drench', 'sunday_morning', 'catfish', 'newspaper', 'pretty_decent', 'voice', 'chicken_fried', 'favor', 'server_said', 'pot', 'fresh_ingredients', 'praise', 'protein', 'chain_restaurant', 'wonderfully', 'caught', 'lean', 'pronounce', 'pupusas', 'feed', 'direction', 'ramen', 'arriba', 'red_curry', 'snob', 'arm', 'central', 'beet_salad', 'sent_back', 'feels_like', 'house_made', 'broke', 'th_street', 'yc', 'happy_see', 'fillet', 'black_bean', 'took_long', 'good_experience', 'aioli', 'want_eat', 'candy', 'study', 'character', 'good_gets', 'ceiling', 'press', 'infuse', 'sometime', 'type_place', 'byob', 'one_side', 'mongolian_beef', 'semi', 'atmosphere_good', 'haha', 'roy', 'pistachio', 'let_go', 'wallet', 'upset', 'shut', 'gilbert', 'would_eat', 'jeff', 'mousse', 'competition', 'tried_place', 'holy', 'tucked_away', 'got_home', 'sing', 'fatty', 'encounter', 'previously', 'months_ago', 'popped', 'ive', 'san_francisco', 'native', 'endless', 'nigiri', 'budget', 'even_get', 'fireplace', 'island', 'vintage', 'comparison', 'limit', 'fast_friendly', 'stone', 'forgotten', 'good_selection', 'dipping_sauces', 'diet_coke', 'lie', 'fool', 'everytime', 'yep', 'grape', 'numerous', 'go_eat', 'makes_feel', 'usually_order', 'sent', 'genuine', 'caramelized_onions', 'restaurant_clean', 'punch', 'deserves', 'willing', 'quote', 'report', 'reasonable_price', 'anywhere_else', 'adventurous', 'ever_since', 'towards', 'smoked_salmon', 'draw', 'bucket', 'factor', 'great_sushi', 'really_cool', 'common', 'worthy', 'fresh_fruit', 'traffic', 'atmosphere_great', 'kool_aid', 'keep_mind', 'currently', 'place_stars', 'restaurant_week', 'sit_bar', 'corned_beef', 'sweetness', 'flight', 'service_attentive', 'five_minutes', 'yell', 'made_feel', 'partner', 'content', 'roasted_red', 'couple_weeks', 'irish', 'decided_order', 'place_busy', 'good_beer', 'intrigue', 'row', 'daily_specials', 'bird', 'two_stars', 'test', 'john', 'check_us', 'occasionally', 'fresh_tasty', 'like_spicy', 'tater_tots', 'tune', 'mill_ave', 'frequently', 'something_new', 'earth', 'california_roll', 'could_tell', 'soooo', 'place_worth', 'end_meal', 'impression', 'ever_tasted', 'thai_basil', 'source', 'place_take', 'wide', 'fountain', 'brought_back', 'quantity', 'blast', 'pro', 'grind', 'something_everyone', 'specific', 'wipe', 'last_visit', 'nobody', 'sprout', 'ticket', 'asked_server', 'hangover', 'initially', 'bust', 'system', 'tempt', 'cream_sauce', 'lively', 'palate', 'trash', 'tortilla_chips', 'save_room', 'cater', 'cajun', 'thank_god', 'asked_us', 'feta_cheese', 'prompt', 'meaty', 'ugh', 'potential', 'spicy_sauce', 'gnocchi', 'elegant', 'inedible', 'go_home', 'walnut', 'spinach_artichoke', 'sooo_good', 'mac', 'go_check', 'thus', 'probably_one', 'bacon_wrapped', 'hour_wait', 'everyone_else', 'drown', 'sour', 'wowed', 'chop', 'lucky_enough', 'vega', 'lentil', 'culture', 'gentleman', 'pink', 'well_prepared', 'healthier', 'awkward', 'beer_drinker', 'sushi_chef', 'lit', 'food_arrived', 'food_decent', 'silverware', 'melted_cheese', 'hash', 'involve', 'sorbet', 'impossible', 'balsamic', 'cube', 'like_said', 'pizzeria', 'hot_dogs', 'part_meal', 'dump', 'passing', 'good_flavor', 'korean', 'nice_little', 'quite_bit', 'chompie', 'one_person', 'continued', 'tangy', 'rotation', 'chimichanga', 'kale', 'board', 'least_one', 'bell', 'cheapest', 'vacation', 'tone', 'pre_made', 'hung', 'fish_sauce', 'sucker', 'legit', 'mock', 'tight', 'overall_experience', 'booze', 'aware', 'never_tried', 'cheese_crisp', 'cottage_cheese', 'bleu_cheese', 'cheddar', 'bell_peppers', 'sushi_place', 'painting', 'always_busy', 'decline', 'coworkers', 'cleanliness', 'mixture', 'joy', 'many_different', 'spacious', 'one_favorites', 'stupid', 'chick', 'one_two', 'destination', 'consistently_good', 'bos', 'fellow', 'bet', 'pretty_quickly', 'perfect_place', 'reading_reviews', 'sitting_outside', 'downstairs', 'overlook', 'staff_great', 'mom_pop', 'corporate', 'always_make', 'took_us', 'wasnt', 'location_great', 'star_rating', 'always_nice', 'refer', 'encourage', 'gigantic', 'place_needs', 'weight', 'hidden_gem', 'rubbery', 'great_customer', 'way_go', 'bud', 'lunch_spot', 'sandwich_shop', 'staff_super', 'tie', 'kind_like', 'equal', 'stage', 'thomas', 'greek_salad', 'screw', 'wasabi', 'nice_ambiance', 'durant', 'make_point', 'usually_go', 'effort', 'regular_menu', 'comparable', 'red_wine', 'side_note', 'ultimate', 'last_year', 'mexican_restaurants', 'spoil', 'frankly', 'white_chocolate', 'crab_cake', 'half_price', 'recent_visit', 'demand', 'fruity', 'staffperson', 'garbage', 'imo', 'sweat', 'brick_oven', 'almost_always', 'honor', 'swiss', 'give_another', 'sun_dried', 'float', 'greatest', 'flag', 'sunday_brunch', 'never_wait', 'right_across', 'within_walking', 'entirely', 'harsh', 'burrata', 'denny', 'apart', 'western', 'drag', 'portions_small', 'sandwhich', 'build', 'diverse', 'far_food', 'accord', 'decided_get', 'mongolian_bbq', 'entrance', 'whole_lot', 'liquid', 'till', 'drinker', 'southwestern', 'scary', 'expert', 'tomato_basil', 'notch', 'new_location', 'looking_good', 'red_green', 'let_start', 'quiche', 'wont', 'shoulder', 'consume', 'hot_sour', 'hmm', 'creme', 'biscuits_gravy', 'personable', 'service_prompt', 'would_rather', 'favorite_dish', 'intend', 'chain_restaurants', 'lot_people', 'shrimp_tacos', 'corn_tortillas', 'bar_restaurant', 'bean_cheese', 'past_years', 'power', 'table_next', 'cool_place', 'furniture', 'rent', 'back_sure', 'better_places', 'enjoy_food', 'fry_bread', 'dive_bar', 'leg', 'think_ever', 'would_much', 'sat_outside', 'cafeteria', 'sooo', 'burgers_fries', 'rnr', 'flow', 'bargain', 'spicy_chicken', 'first_experience', 'place_small', 'sushi_rolls', 'little_dry', 'spaghetti', 'modest', 'tostada', 'gallo', 'like_eating', 'marinara', 'love_atmosphere', 'jack', 'filipino', 'stopped_lunch', 'ipa', 'somewhere_else', 'minus', 'allergic', 'teeth', 'shoot', 'lasagna', 'flame', 'always_order', 'toward', 'slam', 'nice_atmosphere', 'waffle_house', 'franchise', 'good_choice', 'east_coast', 'shout', 'exist', 'right_around', 'worth_trip', 'large_portions', 'gal', 'scrambled_eggs', 'midnight', 'wander', 'excellent_food', 'deep_dish', 'one_better', 'food_ready', 'wood_fired', 'huge_portions', 'heater', 'another_minutes', 'absolute', 'boil', 'family_style', 'fear', 'hood', 'especially_like', 'alfredo', 'used_go', 'husband_got', 'pico_de', 'father', 'one_bite', 'three_us', 'huh', 'st_francis', 'place_huge', 'sight', 'would_take', 'friendly_helpful', 'people_work', 'never_got', 'portions_generous', 'new_year', 'built', 'new_restaurant', 'baguette', 'tasted_fresh', 'zucchini', 'scottsdale_location', 'got_little', 'dinner_time', 'philly', 'take_advantage', 'courteous', 'shall', 'prove', 'staff_nice', 'skeptical', 'like_many', 'actually_really', 'salami', 'munch', 'paradise_bakery', 'hotdog', 'private', 'cramped', 'good_value', 'pizza_joint', 'addictive', 'definitely_return', 'related', 'digress', 'menu_changes', 'knowledge', 'could_better', 'upstairs', 'made_fresh', 'almost_like', 'tom', 'guide', 'email', 'bitter', 'grandmother', 'food_okay', 'creamed_corn', 'gripe', 'hire', 'could_give', 'would_think', 'success', 'fnb', 'several_years', 'since_moved', 'tax', 'soy_sauce', 'food_tastes', 'rave_reviews', 'made_way', 'front_door', 'anytime', 'high_hopes', 'lighter', 'could_used', 'masala', 'went_friday', 'statement', 'authentic_mexican', 'turkey_sandwich', 'little_better', 'zinburger', 'cant', 'server_friendly', 'pastrami', 'grabbed', 'daniel', 'food_comes', 'chopstick', 'sushi_places', 'jersey', 'th_st', 'salt_pepper', 'good_looking', 'wanting_try', 'inventive', 'wonton', 'every_bite', 'wait_time', 'spending', 'alot', 'freakin', 'new_mexican', 'food_average', 'totally_worth', 'bliss', 'aj', 'lunchtime', 'attract', 'new_mexico', 'fun_atmosphere', 'gooey', 'pasta_salad', 'chimi', 'forgive', 'buffalo_chicken', 'good_sign', 'embarrass', 'go_way', 'skimp', 'highly', 'made_order', 'lgo', 'gracious', 'lastly', 'served_side', 'district', 'complement', 'fuego', 'fab', 'kimchi', 'originally', 'guinness', 'argue', 'sunday_afternoon', 'reflect', 'bourbon', 'nosh', 'smoothie', 'sweet_potatoes', 'flat_bread', 'mama', 'fritter', 'seed', 'exact', 'lettuce_tomato', 'proper', 'oily', 'went_first', 'lay', 'buttermilk', 'importantly', 'seared_ahi', 'really_need', 'open_late', 'ten_minutes', 'essence', 'pasta_dishes', 'pathetic', 'red_sauce', 'express', 'plaza', 'asks', 'sans', 'key', 'undercooked', 'devour', 'self_serve', 'boot', 'thai_restaurant', 'ridiculously', 'foie_gras', 'great_ambiance', 'hh', 'ensure', 'per_person', 'butt', 'chicken_beef', 'vary', 'drip', 'quick_service', 'far_away', 'carolina', 'fridge', 'refund', 'spin', 'friend_ordered', 'smoking', 'closing', 'pork_chop', 'screen', 'everyone_friendly', 'correctly', 'another_great', 'even_know', 'making_sure', 'magical', 'cap', 'catering', 'bench', 'never_seen', 'absolutely_amazing', 'sunset', 'church', 'wind', 'tomato_sauce', 'delicious_also', 'urban', 'reputation', 'mrs_white', 'almost_every', 'health', 'speed', 'souffle', 'visitor', 'enough_make', 'super_tasty', 'sandwiches_good', 'hub', 'jalapeño', 'service_bit', 'wheat', 'sat_us', 'acceptable', 'hot_tea', 'never_anything', 'bbq_pork', 'mash', 'bring_food', 'huge_selection', 'wait_line', 'patient', 'quality_ingredients', 'magic', 'hue', 'yummy_food', 'fast_service', 'timely_manner', 'pay_attention', 'yelp_event', 'theater', 'genius', 'program', 'things_like', 'places_eat', 'also_delicious', 'posh', 'wait_get', 'gumbo', 'curry_chicken', 'portion_sizes', 'red_devil', 'tuna_roll', 'yogurt', 'sneak', 'buffalo', 'prime', 'another_shot', 'ing', 'serving', 'essentially', 'seated_right', 'write_home', 'brioche', 'background', 'ordered_shrimp', 'nine', 'nice_see', 'friendly_attentive', 'stale', 'respect', 'meat_cheese', 'seven', 'call_ahead', 'pizza_crust', 'meaning', 'bummer', 'unlimited', 'naked', 'definitely_best', 'place_makes', 'group_friends', 'bitch', 'want_something', 'nutella', 'big_enough', 'lo_lo', 'skewer', 'yellowtail', 'worth_wait', 'swing', 'drink_menu', 'full_bar', 'record', 'empanadas', 'prices_great', 'low_key', 'could_use', 'worth_visit', 'seattle', 'pretty_damn', 'ex', 'hashbrowns', 'tender_juicy', 'thru', 'great_spot', 'oh_good', 'final', 'insist', 'regular_fries', 'definite', 'flan', 'sakana', 'especially_since', 'first_bite', 'place_open', 'carnivore', 'track', 'magazine', 'lap', 'five_star', 'creativity', 'place_super', 'iced_coffee', 'need_go', 'beautifully', 'filet_mignon', 'benefit', 'glasses_wine', 'shabby', 'service_quick', 'drunken', 'jim', 'blt', 'spill', 'friday_saturday', 'swim', 'looking_place', 'mad', 'personality', 'slip', 'magnificent', 'melted_mouth', 'nestle', 'social', 'chicken_strips', 'mixed_drinks', 'reheat', 'would_still', 'food_court', 'server_brought', 'san_diego', 'usually_like', 'heavily', 'wooden', 'aka', 'deliciousness', 'prices_good', 'fishy', 'kiltlifter', 'barrio_cafe', 'poor_service', 'effect', 'hospital', 'fell', 'quinoa', 'hole', 'relatively', 'great_location', 'placed_order', 'food_however', 'dairy', 'manager_came', 'good_nothing', 'ethiopian', 'gps', 'get_something', 'freshly', 'significant', 'chicken_wings', 'rib_eye', 'crab_cakes', 'comped', 'would_preferred', 'well_priced', 'obnoxious', 'special_occasions', 'white_wine', 'brick', 'death', 'carb', 'atmosphere_nice', 'maizie', 'array', 'best_valley', 'home_cooked', 'cuban', 'friend_got', 'service_staff', 'veggie_sandwich', 'sack', 'fee', 'sure_back', 'mike', 'blow', 'appropriately', 'made_sure', 'master', 'arrives', 'roasted_corn', 'tear', 'ill', 'contemporary', 'whole_experience', 'splitting', 'menu_pretty', 'everything_tasted', 'east', 'since_opened', 'generous_portions', 'biltmore', 'rum', 'grand', 'disappear', 'nice_clean', 'cod', 'bruchetta', 'flower', 'craving', 'tastebud', 'right_front', 'tasted_great', 'server_attentive', 'ready_order', 'reality', 'eat_every', 'ear', 'drinks_great', 'guarantee', 'service_wonderful', 'nicer', 'many_years', 'food_wonderful', 'time_went', 'sapporo', 'filthy', 'pig', 'cry', 'dice', 'gift', 'go_often', 'healthy_food', 'soooo_good', 'large_party', 'favorite_thing', 'first_review', 'candle', 'dislike', 'super_busy', 'take_minutes', 'triple', 'phoenician', 'low_quality', 'hi', 'two_years', 'bad_day', 'succulent', 'worth_every', 'polished', 'wait_table', 'younger', 'esque', 'giving_place', 'teriyaki_sauce', 'pretty_nice', 'chicken_tikka', 'concert', 'tummy', 'pretty_close', 'gyro_meat', 'female', 'haunt', 'finally_made', 'sweet_tea', 'never_know', 'manner', 'pita_bread', 'mamma_mia', 'great_tasting', 'free_wifi', 'fried_pickles', 'anything_like', 'bean_dip', 'mediterranean', 'macaroni_cheese', 'video', 'must_go', 'karaoke', 'courtyard', 'cranberry', 'sirloin', 'could_take', 'large_pizza', 'pant', 'waitress_came', 'kung_pao', 'via', 'liked_place', 'rice_noodles', 'silly', 'seem_like', 'inconsistent', 'smoothy', 'freshness', 'rokerij', 'really_hungry', 'tower', 'asked_waiter', 'far_favorite', 'went_today', 'oddly', 'jason', 'tacky', 'green_sauce', 'pool_tables', 'noodle_soup', 'always_packed', 'silver', 'brand', 'stickler', 'bean_sprouts', 'tempe_location', 'accident', 'proud', 'substance', 'may_want', 'fuss', 'caramel', 'new_orleans', 'purse', 'swanky', 'eddie', 'okra', 'favorite_places', 'came_side', 'thought_going', 'michael', 'humble_pie', 'dare', 'fried_egg', 'good_ol', 'pretty_awesome', 'vegetarian_options', 'credit_card', 'improvement', 'yellow_curry', 'gain', 'texas_roadhouse', 'food_mediocre', 'never_return', 'small_plates', 'mold', 'breakfast_club', 'make_reservation', 'fell_love', 'prop', 'best_phoenix', 'good_mexican', 'yummm', 'assortment', 'lunch_rush', 'back_home', 'greeted_us', 'melts_mouth', 'right_street', 'well_seasoned', 'succeed', 'full_service', 'biz', 'best_town', 'came_table', 'hot_fresh', 'evening', 'really_care', 'resturant', 'swordfish', 'plat', 'drinks_good', 'food_items', 'rub', 'wildflower', 'fleming', 'terribly', 'caramelize', 'relative', 'kiss', 'people_know', 'thousand_island', 'band_playing', 'keep_going', 'disaster', 'id', 'cleaner', 'direct', 'entry', 'mail', 'big_ass', 'street_tacos', 'finest', 'eat_drink', 'immediate', 'co', 'try_eat', 'thing_ever', 'unimpressed', 'buffalo_sauce', 'told_waiter', 'crusty', 'chicken_breast', 'april', 'place_must', 'scott', 'food_network', 'really_impressed', 'miso', 'sooner', 'oh_god', 'chunky', 'claimed', 'darn', 'pleasant_surprise', 'george', 'scale', 'custom', 'pain', 'tradition', 'sure_would', 'upon_entering', 'smart', 'try_new', 'gas_station', 'chicken_fingers', 'think_going', 'gyoza', 'gas', 'sounds_like', 'great_outdoor', 'main_reason', 'handmade', 'postinos', 'loved_place', 'smokey', 'purpose', 'medium_rare', 'favorite_restaurant', 'samosa', 'year_ago', 'good_idea', 'cowboy_ciao', 'styrofoam', 'commercial', 'looking_something', 'neither_us', 'receipt', 'sea_bass', 'side_salad', 'chalkboard', 'savor', 'appearance', 'speedy', 'kid_friendly', 'popcorn', 'pic', 'ask_extra', 'rise', 'pretend', 'instantly', 'outside_patio', 'eggrolls', 'love_everything', 'waited_waited', 'latest', 'lunch_today', 'server_nice', 'gladly', 'massage', 'hana', 'great_drinks', 'gift_certificate', 'thanksgiving', 'truck', 'took_forever', 'italy', 'key_lime', 'tho', 'lacked_flavor', 'staff_attentive', 'every_dish', 'narrow', 'know_know', 'tasteful', 'extensive_menu', 'import', 'mole', 'anything_menu', 'associate', 'great_quality', 'action', 'stir', 'premium', 'friend_said', 'spiciness', 'friends_family', 'beauty', 'queen', 'ordered_two', 'ha', 'wed', 'going_years', 'informative', 'chow_mein', 'us', 'whole_thing', 'asada', 'cheddar_cheese', 'enjoyed_meal', 'animal', 'element', 'laid', 'mastro', 'blacken', 'accent', 'blackberry', 'everything_tried', 'spit', 'perfect_amount', 'fate', 'taken_care', 'cheese_enchiladas', 'plane', 'send_back', 'puree', 'ny_style', 'spell', 'menu_looked', 'ah', 'straw', 'behind_bar', 'debate', 'truffle_oil', 'say_hello', 'initial', 'expand', 'distance', 'tiny_little', 'shoe', 'pride', 'things_menu', 'crew', 'accept', 'taking_care', 'tasty_well', 'ave', 'admittedly', 'student', 'tables_chairs', 'tree', 'kona', 'gather', 'distinct', 'poorly', 'scratch', 'surprisingly_good', 'well_made', 'caution', 'really_busy', 'side_dish', 'instant', 'without_doubt', 'every_one', 'ultimately', 'corn_bread', 'remember_name', 'northern', 'facebook', 'get_stars', 'music_great', 'commit', 'batch', 'yum_yum', 'sunny', 'coconut_shrimp', 'leek', 'olive_garden', 'short_rib', 'get_breakfast', 'red_chile', 'unreal', 'said_yes', 'soo', 'like_fact', 'tall', 'kids_menu', 'separately', 'three_different', 'remains', 'dog_friendly', 'feast', 'reverse_happy', 'fusion', 'definately', 'blonde', 'mu_shu', 'great_reviews', 'confusion', 'place_empty', 'broken', 'bin', 'iced', 'jerk', 'easier', 'trek', 'christmas', 'chang', 'many_choices', 'amount_food', 'taquitos', 'underneath', 'spring_roll', 'usually_pretty', 'also_took', 'vietnamese_food', 'bro', 'outside_inside', 'chile_relleno', 'un', 'two_days', 'advertised', 'order_counter', 'could_ask', 'worried', 'enjoys', 'room_dessert', 'told_would', 'best_thai', 'simple_yet', 'baseball', 'actually_pretty', 'insane', 'picazzo', 'price_range', 'like_atmosphere', 'shove', 'real_deal', 'good_variety', 'wow_great', 'chicken_noodle', 'dill', 'edit', 'industry', 'past_weekend', 'gym', 'review_place', 'staff_really', 'food_absolutely', 'department', 'court', 'hot_summer', 'wedding', 'minor', 'best_breakfast', 'place_called', 'outdated', 'ooze', 'fresh_mozzarella', 'albeit', 'sourdough', 'aspect', 'fails', 'basis', 'prep', 'beg', 'guilty', 'also_amazing', 'artichoke_dip', 'one_many', 'one_worst', 'great_date', 'laden', 'food_finally', 'stress', 'stout', 'sweet_spicy', 'mid', 'surprising', 'decorate', 'gear', 'dangerous', 'green_curry', 'dragon', 'ordered_burger', 'sink', 'wanted_something', 'downright', 'chicken_tacos', 'rosemary', 'heap', 'largest', 'disagree', 'looked_really', 'bad_meal', 'birthday_dinner', 'yikes', 'mass', 'cheese_pizza', 'beet', 'majority', 'trend', 'plenty_food', 'quick_bite', 'lick', 'saturday_morning', 'favorite_part', 'octopus', 'bueno', 'support_local', 'know_going', 'atmosphere_pretty', 'kids_love', 'grey_goose', 'reason_giving', 'lot_better', 'delicious_definitely', 'thing_would', 'horrible_service', 'metro', 'cure', 'rough', 'could_finish', 'family_run', 'reserve', 'suffer', 'human', 'food_consistently', 'writing_review', 'bug', 'go_happy', 'bay_area', 'spring', 'truth_truth', 'bring_cash', 'caribbean', 'far_better', 'wanted_go', 'little_disappointed', 'wow_place', 'quite_delicious', 'pomegranate', 'grilled_onions', 'advise', 'habit', 'sits', 'sam', 'part_town', 'people_watch', 'noon', 'little_slow', 'mahi', 'clock', 'french_dip', 'activity', 'stingy', 'lunch_buffet', 'baklava', 'chilaquiles', 'hunt', 'might_well', 'shave', 'tzatziki', 'could_eaten', 'border', 'small_portions', 'bold', 'italian_restaurant', 'operation', 'kids_eat', 'unbelievably', 'kettle', 'hilarious', 'best_sushi', 'aroma', 'skill', 'fond', 'uber', 'colorful', 'fashion', 'food_outstanding', 'delivers', 'half_sandwich', 'model', 'pepperoni_pizza', 'roberto', 'also_tasty', 'cheese_burger', 'nice_people', 'end_night', 'citizen', 'preserve', 'excited_try', 'politely', 'went_happy', 'flirt', 'go_somewhere', 'noise', 'draft_beer', 'lightly', 'rival', 'much_flavor', 'ingredients_fresh', 'tourist', 'dos_gringos', 'preference', 'last_years', 'amazing_also', 'citrus', 'thai_iced', 'smashburger', 'ideal', 'generously', 'sushi_restaurant', 'take_bite', 'focaccia', 'salad_salad', 'overall_would', 'waste_money', 'explore', 'tuesday_night', 'national', 'dumb', 'snobby', 'start_finish', 'even_got', 'clue', 'surely', 'bit_bland', 'arcadia', 'way_back', 'mahi_mahi', 'also_excellent', 'nice_enough', 'hill', 'reminiscent', 'afterward', 'super_cheap', 'bottles_wine', 'write_review', 'bank', 'p', 'quick_lunch', 'attach', 'warmer', 'say_enough', 'looking_great', 'th_ave', 'fresh_squeezed', 'even_eat', 'service_horrible', 'tomorrow', 'sesame_chicken', 'dinner_menu', 'store_bought', 'jazz', 'bite_eat', 'sushi_joint', 'sir', 'one_friends', 'amongst', 'penny', 'spinach_dip', 'bit_much', 'forward', 'plant', 'la_carte', 'granola', 'crab_puffs', 'particular_location', 'whose', 'dang', 'wait_try', 'provolone', 'caper', 'unfriendly', 'sports_bars', 'therefore', 'robert', 'made_house', 'nothing_fancy', 'close_enough', 'bit_dry', 'upgrade', 'respond', 'still_love', 'deliciously', 'whole_time', 'defiantly', 'great_value', 'calm', 'category', 'course_meal', 'order_fries', 'west_side', 'meat_tender', 'place_sit', 'gorgonzola', 'jennifer', 'unable', 'drool', 'ricotta', 'entire_time', 'flash', 'surprised_see', 'polenta', 'stun', 'contrast', 'zipps', 'stumbled_upon', 'kevin', 'taco_shop', 'horse', 'excitement', 'called_ahead', 'mixer', 'technique', 'finally_tried', 'uncle', 'great_bbq', 'around_town', 'plush', 'struggle', 'fish_taco', 'big_plus', 'nice_dinner', 'skinny', 'grace', 'pond', 'fried_okra', 'walking_distance', 'house_margarita', 'beer_list', 'television', 'wheel', 'adore', 'negative_reviews', 'say_best', 'airy', 'good_chinese', 'roaring_fork', 'within_minutes', 'breadfruit', 'pseudo', 'ratio', 'french_onion', 'sliver', 'understaffed', 'sitting_bar', 'hillstone', 'pm_pm', 'place_used', 'dart', 'may_best', 'extra_star', 'mellow', 'padre', 'ted', 'steep', 'great_things', 'many_many', 'sandwiches_salads', 'surroundings', 'group_people', 'sauce_fresh', 'first_date', 'patronage', 'golf', 'ugly', 'brisket_sandwich', 'another_couple', 'faux', 'make_sandwich', 'devil', 'ck', 'interaction', 'also_extremely', 'dear', 'leather', 'portions_large', 'maybe_even', 'suns_game', 'pit', 'unexpected', 'thing_like', 'phone_call', 'palette', 'ant', 'little_bland', 'took_drink', 'never_going', 'bare', 'ended_ordering', 'checked_us', 'frank_albert', 'discuss', 'white_sangria', 'margherita_pizza', 'execute', 'amazing_service', 'underwhelming', 'crush', 'find_something', 'multi', 'cheese_enchilada', 'get_drinks', 'apartment', 'bum', 'ordered_medium', 'price_great', 'also_serve', 'hunger', 'gratuity', 'pretty_standard', 'brewpub', 'star_service', 'chosen', 'ever_go', 'pressure', 'definitely_coming', 'france', 'good_italian', 'prices_bit', 'limp', 'came_across', 'pad', 'scrap', 'still_think', 'peep', 'acknowledge', 'patio_area', 'tends', 'ray', 'snooty', 'lisa', 'injera', 'flavour', 'inquire', 'ton_food', 'iphone', 'papaya_salad', 'frill', 'jewish', 'went_saturday', 'summary', 'badly', 'west_valley', 'growler', 'special_night', 'rack', 'opposite', 'sf', 'special_menu', 'nice_change', 'roosevelt', 'peel', 'last_friday', 'business_lunch', 'faster', 'papago', 'three_years', 'time_year', 'could_put', 'wendy', 'spicier', 'los_angeles', 'beef_brisket', 'busboy', 'egg_foo', 'far_superior', 'childhood', 'nose', 'delighted', 'economy', 'wonderful_experience', 'think_could', 'versus', 'village', 'chompies', 'reuben', 'drew', 'taking_order', 'try_different', 'ness', 'variation', 'heard_great', 'message', 'july', 'every_night', 'culver', 'execution', 'one_top', 'waitress_friendly', 'trick', 'powder', 'cloud', 'tavern', 'public', 'noodle_dishes', 'pat', 'recognize', 'sizzle', 'last_weekend', 'secondly', 'tastes_good', 'occasional', 'turf', 'copy', 'absolutely_loved', 'two_hours', 'parm', 'burger_joint', 'sublime', 'mother_day', 'many_options', 'would_given', 'much_less', 'eaten_twice', 'every_week', 'really_excited', 'slap', 'lukewarm', 'main_dining', 'steak_sandwich', 'bread_butter', 'ew', 'brain', 'knowledgable', 'rye', 'amy', 'oatmeal', 'bike', 'restaurant_ever', 'strictly', 'tuna_salad', 'excessive', 'remarkable', 'locally', 'waiting_table', 'deluxe', 'lesser', 'university', 'another_review', 'server_came', 'diners_drive', 'health_conscious', 'cannot_wait', 'overly_sweet', 'stumble', 'fresh_tasting', 'pork_ribs', 'arrange', 'brings', 'proximity', 'graciously', 'antipasti', 'blah_blah', 'open_till', 'coin', 'still_waiting', 'vietnam', 'tejas', 'peppery', 'third_time', 'japan', 'water_glass', 'best_burger', 'colleague', 'oj', 'default', 'night_went', 'pico', 'glorious', 'lettuce_wraps', 'thicker', 'terrible_service', 'bun_bo', 'last_saturday', 'outdoors', 'indoors', 'personal_favorite', 'root', 'pretty_big', 'coming_place', 'voucher', 'radish', 'two_orders', 'freezer', 'jelly', 'saving_grace', 'atop', 'apply', 'made_reservations', 'crappy', 'came_us', 'explanation', 'service_ok', 'del_taco', 'merely', 'nice_friendly', 'thing_really', 'warrant', 'scar', 'attentive_friendly', 'ambiance_service', 'fresh_basil', 'dim', 'cheese_sauce', 'comp', 'facility', 'whiskey', 'really_friendly', 'attentive_food', 'homey', 'looking_menu', 'proportion', 'stranger', 'unhappy', 'rotate', 'need_say', 'era', 'brilliant', 'drink_orders', 'idiot', 'back_next', 'kept_us', 'player', 'navigate', 'historic', 'fatburger', 'blew', 'nicest', 'campus', 'sure_get', 'treasure', 'haji_baba', 'peppers_onions', 'la_bocca', 'puke', 'cocktail_menu', 'norm', 'suspect', 'richardson', 'tried_several', 'er', 'reason_place', 'impeccable', 'open_kitchen', 'drawback', 'jumbo', 'whipped_cream', 'know_mean', 'years_never', 'thursday_night', 'anything_special', 'fennel', 'days_ago', 'hike', 'poke', 'first_stop', 'min_wait', 'november', 'apologetic', 'good_especially', 'could_barely', 'dave', 'went_sunday', 'dust', 'performance', 'hookah', 'restaurant_com', 'husband_went', 'pizza_wings', 'alike', 'owner_always', 'gimmick', 'spoke', 'trivia', 'ciabatta', 'boo', 'family_friendly', 'msg', 'loved_everything', 'river', 'mmmmmm', 'lo_mein', 'table_ordered', 'rice_paper', 'glad_found', 'bad_either', 'red_onion', 'blood', 'bbq_place', 'risk', 'way_much', 'internet', 'matt_big', 'met_friend', 'attack', 'hot_wings', 'liked_much', 'persian', 'irish_pub', 'sigh', 'couldnt', 'latter', 'thinly_sliced', 'sushi_roll', 'arrival', 'say_least', 'easy_find', 'tempe_marketplace', 'take_away', 'lake', 'fish_fresh', 'since_never', 'yellow_tail', 'spirit', 'never_even', 'sushi_ken', 'underwhelmed', 'mound', 'tattoo', 'delicious_meal', 'one_dish', 'asked_could', 'outer', 'vietnamese_restaurant', 'good_size', 'let_tell', 'tex_mex', 'loaf', 'inner', 'left_full', 'tastes_better', 'menu_huge', 'flaky', 'outdoor', 'cafe_rio', 'extra_crispy', 'give_us', 'lunch_next', 'mai_tai', 'fries_onion', 'grab_bite', 'aiello', 'half_hour', 'whole_wheat', 'help_us', 'wife_got', 'ended_taking', 'recommended_place', 'throughout_meal', 'two_different', 'kona_grill', 'slowly', 'joe_farm', 'accompaniment', 'colorado', 'scottsdale_road', 'consists', 'cat', 'dd', 'handy', 'side_town', 'nervous', 'squash', 'seating_area', 'got_right', 'metal', 'mcdonalds', 'still_pretty', 'engage', 'boston', 'rest_menu', 'yelper', 'smell_like', 'lard', 'rank', 'struck', 'camelback', 'sock', 'valentine_day', 'place_tiny', 'pours', 'specialty_drinks', 'belt', 'waste_time', 'loss', 'oxtail', 'would_probably', 'five_us', 'out', 'restaurant_phoenix', 'lux', 'vip', 'thigh', 'separate_checks', 'always_seem', 'blue_moon', 'great_addition', 'ease', 'super_yummy', 'partial', 'went_group', 'frustration', 'ok_nothing', 'could_possibly', 'coast', 'read_review', 'chutney', 'promising', 'barbecue', 'mojitos', 'couple_years', 'able_get', 'liberty_market', 'sound_like', 'closest', 'sauce_sweet', 'little_hole', 'rest_food', 'service_usually', 'need_order', 'co_worker', 'necessary', 'prices_little', 'celebration', 'monte_cristo', 'cobb_salad', 'cave_creek', 'staffed', 'turkey_burger', 'allows', 'get_large', 'sweetheart', 'superior', 'new_things', 'including_tip', 'hassle', 'stop_eating', 'loyal_customer', 'left_us', 'darker', 'cracker_barrel', 'chino_bandido', 'hawaii', 'recently_tried', 'lot_fun', 'dumped', 'get_home', 'stuffy', 'eat_much', 'advertising', 'scallion', 'stare', 'uninspired', 'tokyo', 'treatment', 'must_get', 'always_leave', 'little_small', 'fourth', 'late_lunch', 'forewarn', 'glove', 'drink_beer', 'pretty_cheap', 'naturally', 'dedicate', 'huge_portion', 'people_think', 'afford', 'number_times', 'different_kinds', 'memorabilia', 'absolute_favorite', 'food_presentation', 'cuban_sandwich', 'boast', 'worth_price', 'hiding', 'entire_place', 'ranch_market', 'guitar', 'short_leash', 'scotch', 'echo', 'two_thumbs', 'parking_bit', 'met_friends', 'egg_sandwich', 'stalk', 'hide', 'medley', 'decadent', 'impressed_food', 'horribly', 'hands_favorite', 'pizza_delicious', 'cactus', 'one_free', 'uniform', 'buy_one', 'walked_away', 'raisin', 'top_shelf', 'reason_gave', 'honestly_say', 'lifetime', 'handful', 'place_dead', 'brush', 'pretty_busy', 'potato_pancakes', 'also_offer', 'genuinely', 'eat_without', 'liked_food', 'dug', 'best_way', 'majerles', 'great_crust', 'menudo', 'said_oh', 'think_may', 'roommate', 'bore', 'snag', 'driver', 'po_boy', 'friend_mine', 'watch_game', 'thing_place', 'advance', 'culinary_dropout', 'quiznos', 'charlie', 'pasta_dish', 'reference', 'even_close', 'teenager', 'looked_pretty', 'parmesan_cheese', 'main_courses', 'danielle', 'concentrate', 'mia', 'put_name', 'craft_beer', 'oreo', 'boom', 'long_line', 'stray', 'style_food', 'hard_get', 'full_price', 'thai_elephant', 'first_trip', 'tried_different', 'justify', 'hit_place', 'hand_made', 'dollop', 'one_things', 'lots_lots', 'computer', 'garlic_sauce', 'scenery', 'account', 'ihop', 'dinner_lunch', 'snap', 'great_music', 'order_chicken', 'favorite_dishes', 'adequate', 'one_half', 'tell_us', 'waiting_minutes', 'seen_place', 'ordered_three', 'awesomeness', 'great_salsa', 'verde', 'boyfriend_got', 'tapenade', 'pumpkin', 'explains', 'meal_two', 'roomy', 'makes_want', 'outback', 'benedict', 'cartel', 'spare', 'stingray', 'dot', 'fall_bone', 'wanna', 'el', 'marshmallow', 'today_lunch', 'exceeded_expectations', 'lived_phoenix', 'cheese_fondue', 'times_went', 'chilly', 'th_wine', 'two_words', 'boyfriend_went', 'usa', 'salad_dressing', 'ground_beef', 'stuff_like', 'less_expensive', 'connoisseur', 'also_highly', 'sayin', 'sauce_also', 'hunk', 'decent_selection', 'tried_make', 'sophisticated', 'saucy', 'yelp_reviews', 'true_food', 'based_reviews', 'highly_suggest', 'bad_review', 'fo', 'sad_see', 'pregnant', 'resemble', 'good_reason', 'logan', 'sit_eat', 'charcoal', 'cow', 'multiple_times', 'darn_good', 'hope_get', 'basmati_rice', 'freshly_baked', 'price_tag', 'breakfast_brunch', 'machaca', 'bachelorette_party', 'grateful', 'peak_hours', 'head_back', 'unless_want', 'butterfish', 'macayo', 'sushi_menu', 'amuse_bouche', 'nap', 'outta', 'fries_well', 'across_table', 'pho_tai', 'dense', 'exchange', 'yakisoba', 'cup_coffee', 'soul_food', 'husband_loved', 'boneless', 'hard_rock', 'always_enjoyed', 'march', 'work_lunch', 'eclectic', 'successful', 'baja_fresh', 'malt', 'lunch_hour', 'intimidate', 'weeknight', 'noca', 'property', 'long_get', 'sp', 'never_eaten', 'bus', 'table_ready', 'quieter', 'intoxicate', 'several_people', 'petite', 'one_word', 'stetson_chopped', 'dont_know', 'nice_surprise', 'dessert_menu', 'decade', 'sharp', 'frank', 'churros', 'never_made', 'december', 'quaint_little', 'caprese', 'hazelnut', 'arrived_minutes', 'monster', 'wound', 'forefather', 'fresh_veggies', 'jack_box', 'substantial', 'least_times', 'completely_different', 'casey_moore', 'rustic', 'bustling', 'icing_cake', 'cannot_beat', 'people_eating', 'route', 'indication', 'saffron', 'may_well', 'hungover', 'back_room', 'something_wrong', 'plan_going', 'star_review', 'two_things', 'people_waiting', 'mascarpone', 'patio_seating', 'selection_great', 'schedule', 'last_months', 'greek_food', 'unfortunately_get', 'cheesesteaks', 'bring_back', 'pale', 'shawarma', 'burning', 'able_sit', 'hubster', 'well_maybe', 'linger', 'really_yummy', 'real_treat', 'iceberg_lettuce', 'well_let', 'sandwich_side', 'loose', 'delay', 'found_phoenix', 'courtesy', 'tilapia', 'smack', 'came_lunch', 'double_double', 'quest', 'crazy_busy', 'ought', 'also_enjoyed', 'try_everything', 'upper_crust', 'condition', 'free_chips', 'great_variety', 'plenty_parking', 'two_months', 'would_return', 'service_decent', 'décor', 'rain', 'ability', 'alongside', 'carbs', 'paris', 'places_town', 'fixin', 'connect', 'directly', 'decent_service', 'great_decor', 'mush', 'wife_went', 'nice_selection', 'make_way', 'locally_owned', 'mediocre_food', 'first_opened', 'top_list', 'restaurant_located', 'bff', 'yelped', 'hour_half', 'also_enjoy', 'doesnt', 'half_half', 'bacon_cheese', 'dimly_lit', 'cotton_candy', 'two_meals', 'senior', 'firm', 'figured_would', 'also_brought', 'merc_bar', 'sage', 'reduce', 'intention', 'rely', 'enthusiastic', 'looked_great', 'place_grab', 'service_awesome', 'buying', 'tuck_shop', 'swirl', 'drink_order', 'bacon_eggs', 'develop', 'cork', 'red_pepper', 'attention_detail', 'bertha', 'twice_baked', 'ocean_club', 'watermelon', 'ordered_pork', 'generous_portion', 'woohoo', 'sauteed', 'whole_meal', 'marinara_sauce', 'times_since', 'habanero', 'bloody_marys', 'chicken_shrimp', 'good_mood', 'four_five', 'paste', 'crudo', 'fish_sandwich', 'thoroughly', 'sort_like', 'fellow_yelpers', 'every_table', 'give_shot', 'japanese_food', 'another_try', 'avenue', 'great_sandwiches', 'panang_curry', 'grapefruit', 'big_screen', 'altogether', 'chicago_style', 'industrial', 'since_first', 'bizarre', 'gave_place', 'baby_back', 'desk', 'ghetto', 'lackluster', 'best_meal', 'wine_menu', 'make_reservations', 'hmmm', 'slide', 'get_attention', 'patio_great', 'order_right', 'took_bite', 'reviews_yelp', 'amc', 'around_edges', 'health_code', 'alive', 'way_home', 'amber', 'festive', 'utensil', 'attractive', 'pf_changs', 'took_time', 'wine_glass', 'occupy', 'speaker', 'sicilian', 'grinder', 'toddler', 'tony', 'extreme', 'pappadeaux', 'filiberto', 'flip', 'humor', 'another_chance', 'baba_ganoush', 'fair_price', 'crumble', 'cougar', 'whoever', 'cardboard', 'accustom', 'always_clean', 'ended_eating', 'rat', 'yard_house', 'invent', 'many_things', 'dinner_drinks', 'ordered_different', 'august', 'employees_friendly', 'ick', 'gave_stars', 'know_getting', 'scope', 'squid_salad', 'last_meal', 'puzzle', 'nobuo', 'staff_helpful', 'critical', 'low_prices', 'exactly_like', 'faves', 'sincerely', 'pinch', 'ever_eat', 'nowhere', 'every_visit', 'rumbi', 'server_gave', 'criticism', 'nothing_really', 'pieces_chicken', 'passion', 'scone', 'measure', 'seek', 'tantalize', 'got_try', 'favorite_breakfast', 'jewish_sliders', 'maintain', 'lemongrass', 'acoustic', 'fantastic_service', 'fried_zucchini', 'two_sides', 'outrageous', 'cauliflower', 'red_salsa', 'salad_ever', 'went_check', 'one_sitting', 'sushi_fresh', 'asshole', 'si', 'group_ordered', 'flo', 'favs', 'gets_stars', 'took_care', 'definitely_try', 'presence', 'score_ocean', 'bit_salty', 'vote', 'browse', 'surprised_find', 'alley', 'tiki', 'cab', 'demographic', 'print', 'path', 'food_bland', 'nice_staff', 'us_ordered', 'four_years', 'veggies_fresh', 'contribute', 'great_start', 'lox', 'penne', 'want_give', 'museum', 'best_burgers', 'good_portion', 'know_many', 'hubby_got', 'close_early', 'influence', 'europe', 'thing_every', 'perform', 'marcellino', 'quite_nice', 'duck_fat', 'ikea', 'talent', 'fox_restaurants', 'cinnamon_roll', 'mobile', 'entire_meal', 'al_pastor', 'get_past', 'item_menu', 'squirt', 'never_came', 'lesson', 'part_experience', 'transport', 'earthy', 'even_need', 'indoor_outdoor', 'good_wish', 'simply_put', 'came_asked', 'service_absolutely', 'warm_inviting', 'seated_us', 'elbow', 'one_owners', 'blood_orange', 'wave', 'somethings', 'decided_stop', 'first_last', 'place_filled', 'berto', 'wine_beer', 'aim', 'randy', 'serve_us', 'fresh_flavorful', 'safeway', 'fancy_place', 'facial', 'little_heavy', 'servers_always', 'even_brought', 'every_last', 'vanilla_bean', 'nowhere_near', 'pizza_pretty', 'profit', 'supper', 'tim', 'ate_whole', 'urge', 'indoor', 'kick_back', 'order_something', 'sushi_eye', 'giving_us', 'stall', 'always_delicious', 'yet_still', 'apparent', 'jimmy_johns', 'made_scratch', 'lacking_flavor', 'rip', 'filibertos', 'one_guy', 'zesty', 'retail', 'desperately', 'gut', 'bc', 'kilt_lifter', 'cajun_fries', 'couple_friends', 'manhattan', 'bar_tender', 'waiter_came', 'bring_home', 'came_around', 'inconvenience', 'reaction', 'carpaccio', 'trophy', 'teriyaki_chicken', 'drinks_appetizers', 'irritated', 'big_fat', 'said_best', 'lousy', 'even_busy', 'sweet_corn', 'beautiful_day', 'ipad', 'stringy', 'indicate', 'sounded_good', 'finally_went', 'knish', 'left_lot', 'maybe_try', 'crawl', 'frost', 'ask_server', 'bless', 'never_experienced', 'times_always', 'thank_much', 'anytime_soon', 'dinner_tonight', 'london', 'driven', 'fogo', 'ooh', 'barrio', 'awesome_even', 'mirror', 'giggle', 'stars_would', 'one_note', 'worth_eating', 'tandoori_chicken', 'wherever', 'numerous_times', 'fold', 'chelsea', 'waiting_food', 'yupha', 'cola', 'love_come', 'seemingly', 'home_fries', 'mesquite', 'house_wine', 'real_chinese', 'ups', 'field', 'really_disappointed', 'steak_tacos', 'la_condesa', 'kick_ass', 'take_word', 'menu_many', 'found_one', 'seaweed_salad', 'au_jus', 'eat_least', 'st_louis', 'whip', 'http', 'time_visit', 'poblano', 'sex', 'griddle', 'divey', 'ended_getting', 'contains', 'light_airy', 'pal', 'cycle', 'authenticity', 'two_weeks', 'duo', 'time_come', 'ultra', 'olive_ivy', 'simply_best', 'like_sitting', 'lunch_break', 'hesitant', 'yumm', 'way_eat', 'conclusion', 'better_half', 'orange_juice', 'much_choose', 'service_top', 'tzatziki_sauce', 'survive', 'jump', 'place_heart', 'tenderloin', 'since_last', 'lee', 'chicken_taco', 'entree_ordered', 'notable', 'high_top', 'flat_screen', 'grand_opening', 'code', 'drive_way', 'food_serve', 'eggs_bacon', 'us_wine', 'practice', 'fan_place', 'indie', 'get_lot', 'die_hard', 'filler', 'adjacent', 'average_food', 'expect_find', 'certainly_back', 'sometimes_go', 'unacceptable', 'cooked_order', 'see_pics', 'bonus_points', 'lock', 'get_pay', 'snail', 'two_friends', 'chuck', 'got_burger', 'yogi', 'tag', 'places_go', 'vine', 'fajita', 'restaurants_valley', 'link', 'paella', 'pancetta', 'local_breeze', 'fluke', 'sides_good', 'kids_meals', 'able_order', 'absolute_best', 'going_eat', 'without_feeling', 'thousand', 'antipasto', 'plenty_seating', 'amanda', 'written_review', 'zinfandel', 'jungle', 'authentic_asian', 'resist', 'fresh_bread', 'nicole', 'chili_cheese', 'sandwich_made', 'gm', 'excellent_customer', 'equally_delicious', 'miles_away', 'tables_outside', 'lamp', 'january', 'hr', 'brown_sauce', 'automatically', 'thank_later', 'lot_flavor', 'shrimp_cocktail', 'cheese_curds', 'tot', 'bar_staff', 'finally_get', 'scarf', 'gift_card', 'trying_make', 'get_seat', 'crank', 'potstickers', 'went_way', 'allergy', 'gone_back', 'whole_family', 'oops', 'yup', 'sorta', 'fixing', 'ounce', 'indian_school', 'homeless', 'caffeine', 'answer_questions', 'kept_coming', 'la_grande', 'bento_boxes', 'bring_friends', 'little_sweet', 'secret_sauce', 'chime', 'crouton', 'definetly', 'feeling_like', 'skirt_steak', 'pizza_salad', 'acted_like', 'also_wonderful', 'never_thought', 'think_next', 'chicken_tenders', 'newbie', 'pupusa', 'soft_drinks', 'decent_food', 'cheerful', 'interrupt', 'desert_ridge', 'giving_stars', 'moron', 'anyone_else', 'best_mexican', 'favorite_item', 'two_hippies', 'tax_tip', 'sure_make', 'used_live', 'times_never', 'beforehand', 'whatsoever', 'pcg', 'heard_good', 'pricier', 'finish_meal', 'pad_see', 'brooklyn', 'makes_sense', 'nod', 'food_poisoning', 'total_bill', 'first_impression', 'ate_every', 'quality_meat', 'trying_find', 'steamed_rice', 'approximately', 'aunt', 'restaurant_packed', 'jade_red', 'dilly', 'chicken_curry', 'unprofessional', 'serve_breakfast', 'coming_since', 'full_time', 'side_order', 'sitting_next', 'everyone_works', 'taylor', 'yet_find', 'cannot_go', 'find_better', 'dash', 'came_little', 'non_chain', 'buckeye', 'towner', 'clean_well', 'huevos_rancheros', 'fulfil', 'heirloom', 'relish', 'film', 'downtown_scottsdale', 'anticipate', 'sonic', 'windsor', 'vanilla_ice', 'complicate', 'like_everyone', 'thirsty', 'decor_cool', 'crunchy_outside', 'burger_delicious', 'hospitable', 'vinegar', 'tucked', 'feel_bad', 'place_run', 'quite_often', 'accessible', 'shredded_chicken', 'lunch_day', 'order_drinks', 'icky', 'minutes_get', 'harder', 'douse', 'still_want', 'shift', 'bbq_beef', 'good_luck', 'patio_nice', 'also_served', 'seated_immediately', 'left_overs', 'walked_door', 'etc_etc', 'jus', 'pork_sandwich', 'jewel', 'made_right', 'pickup', 'liquor_license', 'fresh_made', 'good_amount', 'ordered_bottle', 'rudely', 'owe', 'hockey', 'also_noticed', 'young_man', 'baba', 'gum', 'dirty_dishes', 'rob', 'down', 'much_larger', 'lite', 'saw_place', 'give_one', 'red_peppers', 'menu_offers', 'individually', 'way_way', 'rubbed', 'jambalaya', 'amuse', 'made_mistake', 'restaurant_serves', 'never_problem', 'freeway', 'pork_tenderloin', 'irritate', 'chew', 'happy_hours', 'imho', 'latin', 'section_menu', 'offend', 'done_right', 'would_normally', 'unfortunate', 'mmmmm', 'birthday_party', 'zoo', 'two_large', 'sommelier', 'clothing', 'pizza_places', 'far_one', 'make_drive', 'favorite_restaurants', 'dining_companion', 'thought_nice', 'maker', 'largely', 'flier', 'owner_manager', 'york', 'plate_came', 'makes_happy', 'quite_possibly', 'going_give', 'qdoba', 'enjoyed_much', 'another_reviewer', 'honey_mustard', 'wake', 'make_meal', 'varied', 'times_year', 'noodle_dish', 'reg', 'came_dinner', 'delicous', 'healthy_options', 'beignet', 'added_bonus', 'english_muffin', 'always_consistent', 'really_hard', 'crown', 'los_dos', 'eye_candy', 'sushi_chefs', 'boat', 'sleep', 'boyfriend_ordered', 'flake', 'branch', 'us_another', 'price_reasonable', 'roadhouse', 'friendly_knowledgeable', 'doughy', 'spinach_salad', 'fresh_fish', 'around_us', 'shea', 'thai_tea', 'cabernet', 'jen', 'good_although', 'may_sound', 'may_get', 'eel', 'someday', 'time_around', 'decent_prices', 'newly', 'herb_box', 'cool_atmosphere', 'bob', 'canteen', 'chai', 'chicken_satay', 'decor_nice', 'ginormous', 'iron', 'service_mediocre', 'police', 'lengua', 'sutra', 'toro', 'little_less', 'everything_fresh', 'thanked', 'boxed', 'saying_something', 'may_even', 'pizza_metro', 'sheraton', 'sure_enough', 'first_thought', 'cleanest', 'type_sauce', 'much_else', 'wine_glasses', 'slim', 'puff', 'spicey', 'awesome_service', 'neglect', 'sincere', 'liver', 'ins_dives', 'fed', 'service_spot', 'still_tasty', 'still_favorite', 'meat_combo', 'location_right', 'hallway', 'peek', 'decided_check', 'russian_dressing', 'margarita_pizza', 'brought_table', 'first_friday', 'greatness', 'accepted', 'closing_time', 'wait_take', 'target', 'light_fluffy', 'offered_us', 'glow', 'european', 'cannoli', 'ol', 'determine', 'disliked', 'invisible', 'oversized', 'breakfast_burritos', 'yes_please', 'garlic_cheese', 'ice_cold', 'hooter', 'everyone_knows', 'might_better', 'reason_go', 'vietnamese_restaurants', 'sol', 'none_us', 'red_meat', 'got_drinks', 'patronize', 'arribas', 'gate', 'sauerkraut', 'hot_fudge', 'weekday_lunch', 'wally', 'upside', 'trim', 'pb', 'steak_cooked', 'probably_would', 'nothing_spectacular', 'represent', 'scorch', 'india', 'til', 'applewood_smoked', 'home_cooking', 'premise', 'bandera', 'caprese_salad', 'egg_salad', 'one_item', 'ghost', 'palace', 'unsure', 'diamond', 'go_least', 'barbeque', 'salon', 'refrigerator', 'come_early', 'even_offer', 'complementary', 'valet_parking', 'cha_gio', 'ruth_chris', 'good_solid', 'baked_potato', 'prevent', 'worth_trying', 'places_valley', 'delicious_fresh', 'last_trip', 'nello', 'main_dish', 'spent_time', 'goat', 'redeem', 'ambiance_nice', 'different_types', 'close_house', 'portions_great', 'enjoy_experience', 'helped_us', 'mimi', 'get_sick', 'excited_see', 'splash', 'suddenly', 'fit_bill', 'protein_pancakes', 'rescue', 'ended_going', 'bowl_pho', 'two_tables', 'daunt', 'randomly', 'cheat', 'kabob', 'fried_plantains', 'exceptionally', 'frittata', 'satisfaction', 'gently', 'affect', 'casserole', 'order_got', 'good_cheap', 'mediocre_best', 'chalk', 'well_trained', 'food_coma', 'junk', 'sole', 'flour_tortilla', 'nibble', 'pepper_jack', 'accomodating', 'kobe', 'portabella', 'try_make', 'kinda_like', 'reason_give', 'makes_great', 'enjoyed_experience', 'overall_nice', 'buca', 'whim', 'last_thing', 'clothes', 'yo', 'large_groups', 'nd_time', 'singer', 'service_bad', 'weekend_nights', 'mom_dad', 'white_meat', 'pump', 'feedback', 'boutique', 'give_five', 'veg', 'enjoyed_every', 'braise', 'finally_decided', 'even_took', 'want_come', 'surface', 'mcdonald', 'never_disappoints', 'never_ever', 'find_anything', 'done_well', 'dick', 'abundance', 'trailer', 'las_vegas', 'andre', 'eve', 'love_fact', 'yuppie', 'chipotle_mayo', 'map', 'hella', 'definitely_must', 'service_super', 'time_last', 'green_peppers', 'disclaimer', 'mature', 'jam_packed', 'sheet', 'meaning_try', 'smallest', 'pizza_better', 'excellent_meal', 'spongy', 'drink_two', 'inside_little', 'really_surprised', 'dark_chocolate', 'cream_soda', 'lone', 'come_every', 'many_restaurants', 'never_asked', 'fair_amount', 'seasoning', 'deduct', 'buca_di', 'bad_reviews', 'short_wait', 'moment_walked', 'nice_spicy', 'best_steak', 'back_phoenix', 'make_things', 'middle_aged', 'least_week', 'mandatory', 'sand', 'transition', 'place_tempe', 'list_goes', 'relationship', 'mucho_gusto', 'spend_much', 'curious', 'green_papaya', 'september', 'slimy', 'oasis', 'however_would', 'always_fan', 'calzones', 'chicken_cooked', 'even_worse', 'supply', 'run_place', 'red_hot', 'general_tso', 'chandelier', 'tacos_burritos', 'really_fun', 'served_us', 'someone_looking', 'sad_part', 'went_work', 'cares_food', 'everything_tastes', 'great_local', 'couple_hours', 'intense', 'always_look', 'kristi', 'busy_wait', 'pretty_bad', 'unhealthy', 'galore', 'afterthought', 'caroline', 'domestic', 'ordered_regular', 'meantime', 'dishes_served', 'sufficient', 'tres', 'go_along', 'collard_greens', 'nice_big', 'grade', 'honestly_think', 'ate_first', 'function', 'find_new', 'lon', 'wait_return', 'turn_around', 'asked_would', 'wisconsin', 'dosa', 'gotta_say', 'staff_member', 'uye', 'shrug', 'upbeat', 'friendly_fast', 'mmmmmmm', 'aforementioned', 'katsu', 'manager_owner', 'fox', 'highlight_meal', 'comes_back', 'back_kitchen', 'warm_bread', 'rice_peas', 'maple', 'feel_rushed', 'deck', 'make_worth', 'bias', 'fried_shrimp', 'might_little', 'could_ever', 'fashion_square', 'dread', 'crab_stuffed', 'think_might', 'louisiana', 'factory', 'tip_well', 'pizza_pasta', 'wanted_check', 'palatable', 'glass_water', 'neighborhood_bar', 'hoppin', 'alert', 'place_seems', 'quick_easy', 'unpleasant', 'great_presentation', 'mode', 'tortas', 'recommend_anyone', 'buffalo_wild', 'server_apologized', 'get_drink', 'insanely', 'chicken_waffle', 'unusually', 'rocket', 'roasted_chicken', 'fish_tank', 'stella', 'know_make', 'boy_wrong', 'angry', 'able_make', 'pane_bianco', 'satisfies', 'maybe_little', 'supermarket', 'sure_could', 'shine', 'artist', 'led_us', 'kobe_beef', 'shiny', 'diego', 'little_salty', 'bull', 'sit_table', 'born', 'little_money', 'garlic_knots', 'quiessence', 'pleasant_experience', 'brave', 'doctor', 'made_want', 'net', 'around_valley', 'novelty', 'believer', 'table_inside', 'luxury', 'several_hours', 'compensate', 'told_server', 'signage', 'authentic_chinese', 'since_lot', 'carne', 'flair', 'next_morning', 'chive', 'pavle', 'quality_sushi', 'steve', 'bang_buck', 'care_us', 'fryer', 'service_okay', 'pillow', 'occur', 'race', 'must_order', 'works_well', 'cheese_top', 'fox_restaurant', 'tastier', 'bragging', 'immaculate', 'went_next', 'icecream', 'try_least', 'nice_crispy', 'also_fantastic', 'toilet', 'skirt', 'relief', 'decor_modern', 'outfit', 'baked_goods', 'necessarily', 'fortune', 'reveal', 'dc', 'hook', 'volcano', 'mcdowell', 'food_industry', 'atm', 'great_wall', 'breathing', 'stretch', 'hour_pm', 'duce', 'sounds_good', 'burger_cooked', 'big_hit', 'love_hate', 'happier', 'left_restaurant', 'sam_fox', 'honey_bear', 'roughly', 'lalibela', 'cave', 'eff', 'bastard', 'woke', 'incredibly_nice', 'award', 'patiently', 'theory', 'mind_paying', 'evil', 'oldie', 'bubbly', 'pot_stickers', 'another_pizza', 'vast', 'macaroon', 'dessert_ordered', 'wish_one', 'florist', 'flawless', 'forgettable', 'something_special', 'greater_phoenix', 'th_star', 'dont_get', 'sandwich_pretty', 'jerk_fried', 'great_vibe', 'flagstaff', 'contrary', 'several_different', 'ready_go', 'crazy_good', 'solely', 'sitting_patio', 'overheard', 'best_friend', 'sit_restaurant', 'different_items', 'go_ask', 'turkey_sausage', 'overflow', 'pretension', 'everything_fantastic', 'chimis', 'downhill', 'grass', 'authentic_thai', 'creamy_sauce', 'hang_friends', 'outside_seating', 'atmosphere_casual', 'miserable', 'active', 'groove', 'get_free', 'marie', 'years_since', 'also_quite', 'wad', 'forgot_bring', 'vermicelli', 'anybody', 'skimpy', 'huge_plus', 'unappetizing', 'think_even', 'ate_half', 'chicken_burrito', 'cajun_food', 'oh_yes', 'creepy', 'totally_different', 'extra_spicy', 'ranch_dressing', 'waited_long', 'fantasy', 'procedure', 'nonsense', 'spoke_manager', 'served_fresh', 'cash_register', 'wait_another', 'duty', 'really_loud', 'personal_preference', 'consistently_great', 'decor_ambiance', 'heel', 'invest', 'get_anything', 'munchies', 'ethnic', 'mm', 'holy_crap', 'v', 'red_cabbage', 'denver', 'purple', 'hip_hop', 'going_make', 'place_arizona', 'reverse', 'hometown', 'quality_pizza', 'online_ordering', 'mall_food', 'serving_us', 'places_scottsdale', 'pbr', 'loudly', 'twenty', 'depth', 'always_wanted', 'vegas_roll', 'take_orders', 'tri_tip', 'open_table', 'find_way', 'verify', 'nick', 'dark_meat', 'atrocious', 'caught_eye', 'noise_level', 'lush', 'festival', 'area_definitely', 'take_picture', 'decor_atmosphere', 'overall_impressed', 'inattentive', 'ripped', 'panda', 'salad_chicken', 'johnny', 'soft_shell', 'kindly', 'blueberry_pancakes', 'uni', 'delux_burger', 'best_chinese', 'steaming_hot', 'finished_meal', 'special_day', 'way_many', 'parking_situation', 'big_open', 'ea', 'deviled_eggs', 'two_pieces', 'similarly', 'piano', 'fun_time', 'more', 'parking_spot', 'sugary', 'apricot', 'bound', 'sammy', 'whisper', 'packet', 'nice_decor', 'khai_hoan', 'sweet_potatoe', 'tee', 'good_deal', 'th_birthday', 'sooooo_good', 'wedge_salad', 'construction', 'hundred', 'elderly', 'palm', 'good_company', 'last_review', 'bill_came', 'tasting_menu', 'flare', 'limited_menu', 'predictable', 'salad_side', 'staff_extremely', 'await', 'pretty_quick', 'worn', 'waitress_took', 'seated_promptly', 'sammich', 'pretty_excited', 'thanks_yelp', 'portions_right', 'fries_hot', 'sometimes_get', 'couple_months', 'timely', 'icon', 'nearly_everything', 'tender_meat', 'heat_lamps', 'ask_want', 'walking_around', 'fi', 'thick_cut', 'hot_pot', 'min_later', 'perspective', 'input', 'dingy', 'blossom', 'fountain_hills', 'zen', 'wow_factor', 'increase', 'reviews_place', 'great_idea', 'crumbly', 'need_try', 'asian_tapas', 'start_meal', 'egg_whites', 'close_home', 'expect_much', 'starch', 'best_italian', 'kink', 'spotless', 'get_seated', 'weekend_breakfast', 'pot_de', 'chocolate_chips', 'reduction', 'shannon', 'copper', 'art_walls', 'sticker', 'white_bread', 'achieve', 'went_birthday', 'coffee_cup', 'soon_walked', 'valle_luna', 'food_orders', 'huge_tasty', 'food_arrive', 'rubios', 'dunno', 'name_like', 'confident', 'glance', 'need_add', 'best_places', 'paid_bill', 'delicious_dessert', 'heading_back', 'excellent_server', 'different_dishes', 'perfect_way', 'gets_busy', 'sauce_amazing', 'pho_ao', 'almost_everything', 'spray', 'could_find', 'probably_go', 'enjoy_great', 'subpar', 'iron_chef', 'access', 'los_sombreros', 'places_around', 'since_moving', 'service_superb', 'artwork', 'live_close', 'whats', 'warehouse', 'slab', 'clean_fresh', 'setup', 'made_dish', 'friendly_quick', 'jello', 'halfway', 'chicken_quesadilla', 'wait_next', 'san_tan', 'one_servers', 'price_right', 'indoor_seating', 'different_sauces', 'tail', 'los', 'take_town', 'rubio', 'session', 'rose_crown', 'tape', 'took_little', 'want_say', 'lavosh', 'chili_relleno', 'air_conditioning', 'rid', 'slightly_different', 'grilled_corn', 'outside_nice', 'guaranteed', 'shrimp_tempura', 'method', 'college_kids', 'decidedly', 'later_evening', 'depends', 'tourist_trap', 'came_first', 'made_point', 'sporting_event', 'technically', 'falling_apart', 'kyle', 'bangers_mash', 'sat_patio', 'soba_noodles', 'fire_pit', 'called_order', 'even_gave', 'qualify', 'friggin', 'musketeer', 'least_favorite', 'arrogant_butcher', 'tricky', 'coconut_milk', 'though_little', 'privacy', 'teppanyaki', 'dock', 'sea_salt', 'sloppy', 'main_ingredient', 'sat_next', 'consideration', 'fully_cooked', 'kazimierz', 'torn', 'always_makes', 'standouts', 'entice', 'finished_eating', 'full_happy', 'sweet_sauce', 'food_reasonable', 'stiff', 'get_table', 'delicately', 'strength', 'second_one', 'jimmy_john', 'well_lit', 'bar_manager', 'place_date', 'downgrade', 'waterfront', 'unpretentious', 'like_trying', 'quite_times', 'google', 'star_reviews', 'condo', 'back_many', 'customize', 'tout', 'pate', 'love_decor', 'menu_item', 'going_take', 'daddy', 'capital', 'caviar', 'monkey_pants', 'running_around', 'cured_meats', 'organization', 'got_around', 'owner_nice', 'country_fried', 'elephant', 'sec', 'much_appreciated', 'absolutely_worth', 'would_hit', 'finally_found', 'one_point', 'try_see', 'charleston', 'near_future', 'expression', 'proscuitto', 'assort', 'also_wanted', 'could_probably', 'said_ok', 'gallon', 'three_four', 'enough_people', 'artery', 'sausage_gravy', 'romaine', 'beer_choices', 'chestnut_lane', 'hustle', 'exit', 'especially_considering', 'early_morning', 'stockyard', 'pricy', 'insult', 'whopper', 'med', 'worth_mentioning', 'bulk', 'pastrami_sandwich', 'may_try', 'server_helpful', 'city_hall', 'man_vs', 'fewer', 'took_advantage', 'real_mexican', 'deter', 'gathering', 'looked_delicious', 'lamb_shank', 'fresh_oven', 'hefty', 'hispanic', 'ad', 'way_around', 'garlic_chicken', 'place_already', 'corn_tortilla', 'frites', 'carly', 'meals_came', 'bleh', 'grille', 'crunch_roll', 'peruse', 'try_anything', 'seemed_bit', 'mayonnaise', 'medium_well', 'joking', 'gin_tonic', 'bye', 'violation', 'accommodation', 'got_table', 'might_add', 'enthusiasm', 'pepsi', 'even_half', 'first_night', 'started_going', 'brat', 'opentable', 'sticky_rice', 'see_could', 'always_treat', 'normally_like', 'really_wish', 'little_greasy', 'feel_comfortable', 'excited_go', 'bj', 'recommend_everyone', 'right_balance', 'indian_restaurant', 'try_disappointed', 'cone', 'bollywood', 'feel_right', 'sandbar', 'breakfast_joint', 'veggies_meat', 'antique', 'eyed', 'celebrity', 'chock_full', 'really_cute', 'garlic_butter', 'review_based', 'everything_excellent', 'toasty', 'nice_compliment', 'could_sit', 'parsley', 'failure', 'wonderful_service', 'free_meal', 'stuff_face', 'line_people', 'officially', 'favorite_mine', 'super_spicy', 'pinot_noir', 'food_wise', 'overcharge', 'behavior', 'salad_soup', 'gosh', 'asian_restaurant', 'carmel', 'task', 'would_gotten', 'ama_ebi', 'sens', 'quit', 'ton_soup', 'fairly_small', 'definition', 'married', 'marinated_chicken', 'title', 'always_super', 'baiz_market', 'culinary_experience', 'real_thing', 'service_fine', 'drink_refills', 'find_az', 'walk_around', 'dish_came', 'bravo', 'toy', 'two_slices', 'years_always', 'wi_fi', 'dumpster', 'hug', 'tott', 'van', 'sop', 'midwest', 'marble_rye', 'oil_vinegar', 'nice_thick', 'small_portion', 'green_chiles', 'ahead_time', 'plain_simple', 'dr_pepper', 'dr', 'yr', 'popeye', 'lift', 'pretty_bland', 'stuffed_mushrooms', 'well_guess', 'phil', 'bay', 'barrel', 'everything_came', 'along_side', 'could_taste', 'male', 'formal', 'ho', 'warm_friendly', 'planet', 'button', 'get_full', 'hot_peppers', 'unique_delicious', 'large_enough', 'gay', 'sat_table', 'million', 'nook', 'wigwam', 'suggests', 'ordered_appetizers', 'plethora', 'brand_new', 'dark_wood', 'went_tonight', 'encrust', 'bad_nothing', 'lots_flavor', 'really_hit', 'near_end', 'pause', 'save_money', 'duh', 'compose', 'amazing_thing', 'sunny_side', 'smelled_like', 'best_dish', 'sauce_side', 'waiting_area', 'burger_king', 'grilled_artichoke', 'ham_cheese', 'easily_best', 'still_warm', 'though_think', 'capriotti', 'things_got', 'sweet_savory', 'sarah', 'everything_cooked', 'whoa', 'last_month', 'dirt', 'oatmeal_stout', 'stir_fried', 'every_pizza', 'saturday_afternoon', 'goal', 'price_little', 'pilsner', 'tried_chicken', 'wait_seated', 'throat', 'mystery', 'umbrella', 'eat_meat', 'snow', 'fontina_cheese', 'place_hang', 'strongly_recommend', 'boost', 'bathrooms_clean', 'wanted_leave', 'favorite_mexican', 'probably_favorite', 'salads_sandwiches', 'dozen_times', 'even_ask', 'graduate', 'little_different', 'yoli', 'puff_pastry', 'appetizing', 'grandparent', 'thought_might', 'describes', 'stars_since', 'tad_bit', 'thank_goodness', 'solution', 'bevy', 'andrew', 'soap', 'long_story', 'smear', 'sweaty', 'lobster_bisque', 'comfortably', 'recently_moved', 'buffalo_wings', 'manchego', 'want_know', 'one_slice', 'taste_something', 'two_three', 'place_gone', 'order_side', 'service_awful', 'oblige', 'avoid_place', 'bumping', 'incident', 'group_us', 'never_better', 'surf', 'staff_excellent', 'tolerable', 'one_reason', 'tartar_sauce', 'fast_mexican', 'stax', 'ask_anything', 'nothing_short', 'could_believe', 'even_want', 'bit_high', 'haddock', 'looking_around', 'doctor_ordered', 'waffle_fries', 'dime', 'richard', 'cool_little', 'italian_restaurants', 'half_full', 'sparse', 'fresh_crisp', 'return_factor', 'maybe_next', 'sooooo', 'busy_night', 'moved_az', 'able_try', 'well_cooked', 'deb', 'split_checks', 'vouch', 'biggie', 'second_chance', 'casey', 'little_spicy', 'equally_good', 'canadian', 'sky_harbor', 'neon', 'sweeten', 'food_item', 'mixed_drink', 'rant', 'vig_uptown', 'gin', 'overrate', 'com_biz_photos', 'www_yelp', 'mama_mia', 'stool', 'anti', 'partake', 'niece', 'closer_home', 'town_guests', 'deserves_stars', 'quality_control', 'temp', 'barcelona', 'wife_loves', 'house_special', 'place_bring', 'shin', 'reviews_decided', 'lunch_crowd', 'rather_large', 'banana_pudding', 'leave_satisfied', 'coronado', 'inhale', 'applebee', 'steady', 'make_want', 'better_mexican', 'moved_phoenix', 'tried_many', 'say_anything', 'love_spicy', 'guilty_pleasure', 'liqueur', 'greatly', 'two_items', 'sea_scallops', 'never_left', 'line_door', 'fontina', 'great_choice', 'speaks', 'mildly', 'time_left', 'kosher', 'sober', 'cell_phone', 'read_menu', 'tv_playing', 'want_take', 'helpful_friendly', 'less_minutes', 'arrived_around', 'cob', 'get_pick', 'freshest', 'char_grilled', 'fresh_clean', 'food_consistent', 'sin', 'wait_times', 'get_orders', 'simmer', 'quality_service', 'seasoned_well', 'italian_sausage', 'explode', 'capacity', 'excellent_well', 'fresh_local', 'aesthetic', 'honesty', 'would_loved', 'ironically', 'nature', 'save_time', 'mood_something', 'romantic_dinner', 'say_much', 'letter', 'salad_sandwich', 'chop_salad', 'friends_got', 'side_rice', 'kirin', 'drinks_strong', 'musician', 'service_truly', 'goodbye', 'anise', 'bitterness', 'stem', 'though_sure', 'drink_much', 'bolt', 'let_first', 'even_finish', 'mislead', 'cantina', 'advantage', 'spotted_donkey', 'great_deals', 'ate_last', 'back_east', 'green_onion', 'ya_know', 'know_difference', 'oh_wait', 'nice_size', 'carl_jr', 'dinner_last', 'football_games', 'mein', 'someplace', 'brulee', 'twice_month', 'nice_wine', 'fuego_bistro', 'place_cheap', 'late_dinner', 'picnic_tables', 'barro', 'rolled_tacos', 'want_make', 'irma', 'macaroni_salad', 'sitting_table', 'another_reason', 'equivalent', 'gluten', 'needs_said', 'chicken_wrap', 'stoke', 'try_many', 'fountain_drinks', 'larry', 'live_jazz', 'cosmo', 'lamb_tongue', 'please_please', 'wannabe', 'mozzarella_cheese', 'entrees_ordered', 'pm_close', 'maui', 'finer', 'molinos', 'hot_salsa', 'sorely_disappointed', 'kahlua_pork', 'new_scottsdale', 'patty_melt', 'looked_menu', 'really_knows', 'play_area', 'hot_spot', 'worst_ever', 'month_old', 'excellent_staff', 'run_around', 'downtown_chandler', 'simply_delicious', 'aji', 'sizzling_rice', 'sure_try', 'german_food', 'blu_burger', 'hubby_ordered', 'chicken_enchiladas', 'flautas', 'snotty', 'least_twice', 'san', 'validate', 'esplanade', 'decided_eat', 'lettuce_tomatoes', 'long_day', 'sort_feel', 'another_thing', 'sure_order', 'gargantuan', 'speakeasy', 'pizza_worth', 'selection_well', 'resident', 'place_sucks', 'good_mix', 'mean_like', 'carafe', 'french_fry', 'take_drink', 'cheesecake_factory', 'chance_try', 'bento_box', 'set_back', 'simply_amazing', 'breakfast_day', 'day_night', 'patience', 'need_get', 'trying_get', 'beloved', 'freddy', 'many_reviews', 'even_tell', 'nice_cozy', 'tap_water', 'cantina_laredo', 'language', 'america_taco', 'revisit', 'spend_time', 'pollo_diablo', 'free_refills', 'much_money', 'albacore', 'glad_see', 'shortcoming', 'channel', 'based_great', 'charming_little', 'guacamole_salsa', 'beef_tenderloin', 'try_another', 'ache', 'canal', 'chomp', 'smoked_bacon', 'month_ago', 'fist', 'taste_fresh', 'though_seemed', 'thurs', 'got_small', 'pecan_pie', 'take_seat', 'might_want', 'salty_sweet', 'momma', 'know_much', 'bit_loud', 'would_absolutely', 'tried_couple', 'sweep', 'moroccan', 'video_games', 'fizz', 'monday_tuesday', 'cucumber_salad', 'hiro', 'come_eat', 'went_party', 'hefe', 'repeatedly', 'quite_right', 'uncooked', 'butter_burger', 'different_kind', 'genre', 'de_gallo', 'favorite_pizza', 'smells_like', 'best_fried', 'birthday_celebration', 'bread_amazing', 'georgia', 'atmosphere_awesome', 'austin', 'pan_seared', 'discus', 'trader_vic', 'dynamite', 'new_owners', 'substandard', 'string', 'journey', 'bread_basket', 'wild_mushroom', 'twitter', 'fairness', 'aji_spa', 'everything_amazing', 'since_close', 'lentil_soup', 'chinese_buffet', 'inside_outside', 'drive_miles', 'highly_rated', 'perfect_size', 'dance_floor', 'mill_avenue', 'order_pay', 'eegees', 'crawfish', 'live_san', 'rolls_really', 'funny_thing', 'three_people', 'furnish', 'whatever_reason', 'gets_pretty', 'good_news', 'let_alone', 'kind_small', 'filipino_food', 'fried_calamari', 'ignored_us', 'energetic', 'nice_kick', 'great_option', 'menu_options', 'food_spectacular', 'ever_tried', 'reasonably', 'baristas', 'bout', 'meat_lovers', 'pm_friday', 'cheese_curd', 'best_eaten', 'make_room', 'attribute', 'way_spend', 'night_think', 'always_ready', 'da', 'positive_note', 'zinc', 'morton', 'style_restaurant', 'mysterious', 'coal_fired', 'grab_table', 'hippy', 'cadillac_ranch', 'wine_pairings', 'start_saying', 'eat_sushi', 'hard_pressed', 'staff_made', 'mexican_places', 'sinful', 'hope_place', 'upon_request', 'khmer_food', 'great_neighborhood', 'friendly_even', 'knew_going', 'whenever_want', 'tea_infusion', 'new_yorker', 'also_put', 'ahh', 'pan_fried', 'amazing_definitely', 'eaten_lunch', 'rosati', 'overstuffed', 'rio', 'wok', 'couscous', 'prices_decent', 'old_house', 'tuscan', 'got_real', 'would_open', 'rest_meal', 'suburb', 'bowl_get', 'atmosphere_fun', 'ufc', 'claw', 'cpk', 'chickpea', 'four_us', 'mashed_potato', 'sleek', 'jumping', 'utterly', 'long_lines', 'battle', 'truly_amazing', 'hula', 'dos_equis', 'mr_goodcents', 'rumbi_rice', 'little_flavor', 'szechuan', 'tomato_salad', 'chick_fil', 'trying_hard', 'gotta_love', 'clean_restaurant', 'suggestion_would', 'hateful', 'swore', 'small_menu', 'romantic_date', 'onions_bell', 'could_stand', 'recommend_restaurant', 'mecca', 'definitely_visit', 'anthem', 'take_box', 'extremely_flavorful', 'nothing_write', 'wait_till', 'seems_little', 'shelf', 'paradise_valley', 'exhaust', 'malbec', 'locale', 'cholesterol', 'peaceful', 'bmq', 'cherryblossom', 'table_side', 'yard', 'sheer', 'rare_find', 'chase', 'eat_red', 'crab_legs', 'na', 'write_place', 'another_customer', 'photograph', 'used_come', 'old_style', 'dim_lighting', 'meat_always', 'unless_like', 'recommend_trying', 'extraordinary', 'pepper_spray', 'eat_often', 'scatter', 'seasoned_perfectly', 'sun_city', 'red_onions', 'pizza_thin', 'ancho', 'beppo', 'jade', 'dinner_plates', 'favor_go', 'laptop', 'sunday_evening', 'judge_book', 'walk_back', 'pretty_crowded', 'greek_fries', 'understand_place', 'fusm_k', 'critic', 'fried_steak', 'perfectly_fried', 'great_alternative', 'pepperoni_sausage', 'cheese_steak', 'greasy_food', 'beef_chicken', 'wednesday_night', 'place_popular', 'might_best', 'po_boys', 'lightly_seasoned', 'appreciation', 'charged_extra', 'humus', 'food_truck', 'kids_play', 'lot_places', 'mi', 'atlantic', 'well_course', 'best_happy', 'verse', 'zin', 'way_priced', 'really_unique', 'cultural_experience', 'mabel', 'san_jose', 'small_pieces', 'small_salad', 'vegan_vegetarian', 'tacos_delicious', 'uncommon', 'error', 'baked_beans', 'stars_really', 'vietnamese_cuisine', 'sesame', 'skate', 'happy_birthday', 'almost_hours', 'place_yelp', 'many_items', 'rootbeer', 'pizza_oven', 'might_get', 'exceed', 'new_ownership', 'worst_thing', 'adjoin', 'dining_experiences', 'seems_bit', 'fries_also', 'bow', 'china_garden', 'much_rather', 'severely', 'well_kind', 'tasty_kabob', 'negate', 'deal_chicken', 'free_wi', 'order_pick', 'boca', 'rumor', 'friend_went', 'beef_pho', 'location_atmosphere', 'vegetables_fresh', 'new_home', 'clean_staff', 'communicate', 'pete', 'hostess_stand', 'pork_tacos', 'asian_fusion', 'goes_long', 'come_visit', 'salad_amazing', 'dining_companions', 'bahn_mi', 'brine', 'foccacia', 'little_disappointing', 'mongolian', 'ask_questions', 'cookie_dough', 'ripe', 'favorite_sushi', 'meringue', 'saturate', 'may_seem', 'imitation', 'dont_think', 'disappointed_find', 'la_canasta', 'finger_lickin', 'try_items', 'teach', 'debit_card', 'chicken_teriyaki', 'lounge_area', 'whole_bunch', 'marg', 'never_happened', 'copious_amounts', 'half_chicken', 'marketing', 'pesto_sauce', 'cadillac', 'mex', 'obligatory', 'observe', 'place_unique', 'loyalty', 'carla', 'miss_place', 'strong_good', 'serrano', 'long_ago', 'sleeve', 'girls_night', 'definitely_check', 'know_people', 'awsome', 'independent', 'peppercorn', 'also_fun', 'wildfish', 'orient', 'love_coming', 'manger', 'jason_deli', 'loves_place', 'bday', 'last_least', 'great_texture', 'steak_really', 'greek_restaurant', 'decided_take', 'spoken', 'rosie', 'wreck', 'tilted_kilt', 'bartender_friendly', 'dicey', 'excellence', 'chicken_skewers', 'went_sat', 'overdone', 'unaware', 'parking_parking', 'wanted_eat', 'arrived_early', 'cuts_meat', 'slice_cheese', 'pho_broth', 'weigh', 'find_table', 'bit_expensive', 'scalloped_potatoes', 'every_minutes', 'grilled_pork', 'specification', 'chicken_pork', 'delivery_guy', 'red_lobster', 'matter_fact', 'agree_others', 'glorify', 'think_worth', 'pamper', 'great_concept', 'remainder', 'live_band', 'faint', 'others_said', 'online_menu', 'kind_sweet', 'chicken_shawarma', 'nypd', 'sweet_tooth', 'minutes_table', 'pm_saturday', 'actual_restaurant', 'ny_strip', 'heating', 'average_best', 'prix_fixe', 'without_asking', 'yearly', 'another_trip', 'get_pho', 'hotel_restaurant', 'tonic', 'good_option', 'lunch_week', 'pork_chicken', 'paul', 'rancid', 'satay', 'liked_lot', 'paying_attention', 'seriously_try', 'alligator', 'bad_news', 'experience_much', 'classic_rock', 'soup_soup', 'busy_lunch', 'prepared_well', 'always_consistently', 'also_liked', 'da_vang', 'fried_potatoes', 'thing_could', 'unbeatable', 'phoenix_location', 'cali', 'plus_service', 'buttery_delicious', 'restaurant_super', 'hard_please', 'worth_money', 'fantastic_meal', 'loved_every', 'soup_day', 'large_patio', 'pretty_solid', 'throughout_night', 'kitchen_staff', 'steak_salad', 'upon_first', 'earlier_week', 'come_around', 'century', 'cd', 'bumped', 'go_ahead', 'luke_warm', 'tons_flavor', 'hot_links', 'wagyu_beef', 'tuna_melt', 'greeted_immediately', 'come_happy', 'rib_tips', 'curry_sauce', 'wagyu', 'walked_around', 'eaten_restaurant', 'order_two', 'food_preparation', 'knew_would', 'chocolate_sauce', 'us_drinks', 'seared_tuna', 'never_busy', 'collection', 'component', 'taking_long', 'dull', 'frequent_place', 'portion_huge', 'chicago_dog', 'crinkle_cut', 'another_star', 'maybe_bit', 'asu_students', 'sushi_experience', 'poor_quality', 'isnt', 'sweet_shrimp', 'exclude', 'kelly', 'turnover', 'baja_sauce', 'fillet_mignon', 'chinese_restaurants', 'soupy', 'us_several', 'bison_witches', 'mocha', 'tasty_spicy', 'stay_open', 'dont_want', 'operating', 'top_everything', 'near_work', 'mouthwatering', 'hut', 'dishes_delicious', 'fairly_priced', 'unforgettable', 'ding', 'water_lemon', 'smatter', 'times_every', 'chemical', 'ny_pizza', 'type_restaurant', 'crisp_fresh', 'remember_first', 'place_cute', 'supposed_come', 'good_crowd', 'wouldnt', 'toasted_bread', 'eat_breakfast', 'really_tell', 'course_try', 'salami_ham', 'substitution', 'portions_good', 'owner_really', 'maximum', 'standby', 'heard_place', 'worst_mexican', 'chicken_mashed', 'would_definately', 'family_member', 'velvet', 'brought_home', 'spicy_salsa', 'everyones', 'another_table', 'choc', 'meat_little', 'statue', 'primarily', 'light_fresh', 'asked_check', 'research', 'concrete', 'recession', 'yum_repeat', 'always_fun', 'instruction', 'poster', 'bread_delicious', 'much_longer', 'declare', 'order_things', 'papa', 'overwhelmingly', 'plaster', 'little_ones', 'must_visit', 'lucky_us', 'quite_frankly', 'camera', 'twice_last', 'outstanding_service', 'food_az', 'meat_dry', 'gringo', 'really_appreciate', 'bamboo', 'music_loud', 'menu_says', 'airport_food', 'accomplish', 'would_totally', 'mince', 'vegetarian_vegan', 'almost_never', 'chance_go', 'big_breakfast', 'anything_love', 'area_bar', 'transfer', 'upon_arrival', 'pricey_worth', 'rocket_burger', 'sometimes_want', 'served_rice', 'discussion', 'prices_average', 'let_try', 'right_table', 'sat_night', 'nan', 'place_relax', 'waiter_said', 'ken', 'staff_seemed', 'dishes_made', 'boss', 'overall_service', 'tasted_pretty', 'driving_around', 'concierge', 'criterion', 'crab_salad', 'zach', 'instance', 'waiter_extremely', 'amazingly_delicious', 'menu_selections', 'baby_carrots', 'living_room', 'super_delicious', 'great_conversation', 'vision', 'think_many', 'tender_moist', 'coffee_shops', 'found_new', 'beckett_table', 'quite_yummy', 'long_table', 'pale_ale', 'eat_everyday', 'kind_hard', 'every_customer', 'every_penny', 'food_reasonably', 'nicely_decorated', 'really_hoping', 'dominate', 'country_potatoes', 'charged_us', 'long_waits', 'refill_drinks', 'would_def', 'waiter_brought', 'little_corner', 'cheese_toppings', 'dish_served', 'thin_slice', 'swamp', 'cappuccino', 'bellini', 'ben', 'another_location', 'enough_spice', 'shower', 'although_could', 'jamie', 'walk_right', 'little_neighborhood', 'drive_home', 'hail', 'symphony', 'would_stop', 'local_beers', 'local_ingredients', 'sit_back', 'image', 'strap', 'sent_us', 'kind_guy', 'shockingly', 'may_wait', 'dad_ordered', 'place_pleasantly', 'chicken_sausage', 'mug', 'priced_well', 'grumpy', 'highest', 'good_number', 'much_want', 'phoenix_weeks', 'live_near', 'hits_spot', 'come_hungry', 'right_behind', 'nutrition', 'quick_serve', 'large_selection', 'swap', 'ordered_side', 'house_fried', 'generation', 'celebrating_birthday', 'places_phoenix', 'asian_restaurants', 'main_dishes', 'around_table', 'remembers', 'daily_special', 'cobbler', 'e', 'left_wanting', 'arepa', 'nice_warm', 'egg_noodles', 'delicious_fried', 'enchilada_sauce', 'hatch_chiles', 'firstly', 'slather', 'exquisite', 'interpretation', 'service_impeccable', 'long_list', 'rosa', 'greeted_seated', 'african', 'dinner_experience', 'sinigang', 'showcase', 'friend_house', 'generally_good', 'dallas', 'bread_fresh', 'day_week', 'friends_also', 'tacos_beef', 'mart', 'rectify', 'looked_amazing', 'recent_trip', 'kyoto', 'epic', 'fussy', 'relocate', 'asked_waitress', 'crime', 'bell_road', 'lemon_cake', 'may_find', 'solo', 'able_find', 'way_long', 'empty_tables', 'tube', 'tried_quite', 'always_feel', 'many_levels', 'server_kept', 'oooh', 'barbeque_sauce', 'ok_better', 'extremely_delicious', 'chi', 'kim', 'jerky', 'worst_restaurant', 'creamed_spinach', 'dining_options', 'better_chinese', 'put_way', 'doughnut', 'hotter', 'actually_better', 'onion_soup', 'ashamed', 'high_expectations', 'macaroni_grill', 'nice_large', 'better_sushi', 'gorge', 'rama', 'sure_people', 'funk', 'dreamy', 'ordered_spicy', 'get_glass', 'garlicky', 'shady', 'science', 'jet', 'red_chili', 'add_little', 'rating_place', 'stars_service', 'went_friends', 'yen', 'einstein', 'ordered_salmon', 'ticoz', 'hangout', 'caesar', 'grilled_fish', 'think_need', 'traditionally', 'taking_orders', 'table_people', 'nightmare', 'loosely', 'people_working', 'want_wait', 'got_half', 'meals_ever', 'pedestrian', 'attentive_service', 'chatty', 'soft_opening', 'taste_better', 'uptown', 'food_prepared', 'would_prefer', 'picnic', 'flock', 'stroll', 'price_quality', 'bite_sized', 'ordered_white', 'loyal_customers', 'indian_restaurants', 'service_average', 'filling', 'bulgogi', 'meats_cheeses', 'favorites_include', 'sitting_around', 'chicken_marsala', 'get_slice', 'replacement', 'divide', 'nj', 'korean_food', 'melty_cheese', 'carve', 'countless', 'knife', 'sandwhiches', 'barbecue_sauce', 'sonora_mesquite', 'squishy', 'nephew', 'blue_adobe', 'parisian', 'favorite_sandwich', 'reading_yelp', 'pay_extra', 'yummy_tummy', 'michelin', 'however_last', 'stamp', 'mary', 'special_sauce', 'able_eat', 'sourdough_bread', 'rainbow_roll', 'advertise', 'father_day', 'biancoverde', 'ab', 'cheese_melted', 'inn', 'fifteen_minutes', 'queso_dip', 'piled_high', 'margs', 'witness', 'prepared_wait', 'bf_got', 'burger_sweet', 'ordered_sweet', 'atlanta', 'apple_pie', 'remake', 'even_hint', 'packed_house', 'thai_places', 'innovative', 'adjust', 'kale_salad', 'fifth_star', 'passionate', 'raw_food', 'shitty', 'butternut_squash', 'personally_think', 'artsy', 'carne_adovada', 'hell_even', 'super_fast', 'bertos', 'order_big', 'feel_welcome', 'pickled_jalapenos', 'landmark', 'avocado_salad', 'requirement', 'roti', 'taken_away', 'good_vibe', 'medallion', 'heartbeat', 'news', 'recommendation_friend', 'cheese_sandwich', 'waitress_said', 'spicy_chipotle', 'cheese_lettuce', 'minimum', 'within_couple', 'spending_time', 'dehydrate', 'even_taste', 'dolce', 'start_day', 'go_elsewhere', 'nearly_every', 'served_quickly', 'assemble', 'food_delivered', 'service_atmosphere', 'felt_bad', 'saguaro', 'flatbread_pizza', 'everything_perfect', 'grilled_veggies', 'marvelous', 'pizza_sausage', 'grande', 'compromise', 'wilt', 'unfamiliar', 'fiery', 'shredded_lettuce', 'chef_chris', 'tolerate', 'guy_working', 'excellent_value', 'overhead', 'return_soon', 'next_minutes', 'place_gem', 'walk_door', 'cute_place', 'seriously_go', 'college_students', 'cheek', 'nothing_better', 'ever_life', 'friends_decided', 'stars_way', 'incorporate', 'pigs_blanket', 'breakfast_spot', 'full_size', 'extensive_wine', 'continue_come', 'oyster_house', 'arcadia_tavern', 'us_bill', 'never_saw', 'argument', 'would_agree', 'must_stop', 'potato_mac', 'eight', 'house_dressing', 'wrote_review', 'awful_service', 'meter', 'distant', 'loud_music', 'lavender', 'new_favorites', 'flour_tortillas', 'unseasoned', 'whenever_go', 'favourite', 'pumpkin_porter', 'pretty_fast', 'drum', 'came_friday', 'rock_bottom', 'somethin', 'leave_wanting', 'hot_plate', 'gimmicky', 'frame', 'received_food', 'harvest', 'towel', 'glad_came', 'coca_cola', 'waitress_told', 'type_food', 'fortunate', 'table_server', 'havana_cafe', 'even_offered', 'full_people', 'marinade', 'prices_fair', 'tender_tasty', 'wish_place', 'assist', 'artichoke_hearts', 'maybe_could', 'chipotle_sauce', 'pureed', 'ordered_sat', 'conference', 'sake_bombs', 'lucked', 'friends_meet', 'iffy', 'feeling_little', 'place_rocks', 'customer_appreciation', 'duke', 'abandon', 'extremely_impressed', 'hot_day', 'spaghetti_meatballs', 'rice_pudding', 'fresh_garlic', 'quintessential', 'local_business', 'super_cool', 'papa_john', 'buffett', 'tried_anything', 'chris_bianco', 'come_close', 'rice_chicken', 'picky_eater', 'mason_jar', 'perfectly_seasoned', 'mozzarella_basil', 'bgf', 'omg_good', 'cloth', 'one_piece', 'coffee_tea', 'really_cares', 'wanted_like', 'everyone_table', 'jon', 'assign', 'osso_bucco', 'late_afternoon', 'modestly_priced', 'small_group', 'everything_seems', 'compel', 'wait_wait', 'spouse', 'tamarind', 'went_outside', 'town_always', 'regular_coffee', 'could_care', 'decided_sit', 'also_shared', 'server_come', 'beer_tap', 'fuddruckers', 'hefeweizen', 'ordered_bacon', 'little_weird', 'anyone_looking', 'restaurant_town', 'bmw', 'open_lunch', 'possibly_best', 'thus_far', 'menu_selection', 'turkey_bacon', 'yearn', 'award_winning', 'meal_everything', 'line_order', 'bon_appetite', 'stand_around', 'times_last', 'strongbow', 'place_exactly', 'fire_roasted', 'rather_go', 'supporting_local', 'cool_guy', 'tastes_fresh', 'dietary_restrictions', 'novel', 'witty', 'drug', 'wide_selection', 'converse', 'hospitality', 'usage', 'short_list', 'previous_reviews', 'several_minutes', 'specialize', 'motel', 'crispy_chicken', 'dispenser', 'lot_different', 'different_locations', 'left_without', 'pricey_side', 'long_enough', 'small_space', 'wrapper', 'ordinarily', 'sprite', 'entire_experience', 'costco', 'blue_burrito', 'lived_closer', 'visit_often', 'really_nothing', 'waitress_made', 'recover', 'hop_knot', 'japanese_restaurant', 'second_best', 'us_table', 'price_get', 'gobble', 'drinks_came', 'pane', 'spaghetti_meat', 'third_visit', 'black_white', 'remotely', 'queen_creek', 'south_indian', 'salad_came', 'blind', 'closest_thing', 'drab', 'would_let', 'nuoc_mam', 'give_chance', 'rico', 'moderate', 'staying_hotel', 'signature_dish', 'hummus_appetizer', 'time_write', 'leisurely', 'three_hours', 'already_said', 'solve', 'empanada', 'roka', 'happened_upon', 'tropical', 'peter_piper', 'half_meal', 'dying_try', 'food_choices', 'also_split', 'really_cheap', 'family_friends', 'food_superb', 'one_hand', 'bee', 'husband_loves', 'lovin', 'modern_steak', 'try_happy', 'ninja', 'right_size', 'fall_apart', 'rock_roll', 'choice_meat', 'four_star', 'meat_dishes', 'ever_want', 'cancel', 'meat_eating', 'fact_think', 'limo', 'fresh_baked', 'owner_came', 'seriously_best', 'right_home', 'know_expect', 'rest_life', 'sure_check', 'drain', 'waiting_line', 'pizza_amazing', 'career', 'cranky', 'three_stars', 'au_gratin', 'friends_mine', 'sugar_cane', 'wild_boar', 'bodo', 'grilled_shrimp', 'fresh_yummy', 'sparkle', 'small_amount', 'business_meeting', 'cheap_delicious', 'ordered_bbq', 'hollandaise_sauce', 'delicious_though', 'eaten_several', 'vs_food', 'taint', 'recommend_getting', 'took_half', 'golf_course', 'decide_go', 'cool_people', 'nurse', 'locally_grown', 'satisfied_food', 'cheese_sour', 'bar_drinks', 'warner', 'friday_afternoon', 'would_able', 'good_conversation', 'white_pizza', 'board_games', 'also_comes', 'private_room', 'hall', 'chef_owner', 'steak_house', 'tender_chicken', 'back_probably', 'money_back', 'formula', 'continually', 'little_loud', 'shanghai', 'ricotta_cheese', 'bottom_bowl', 'mcgrath', 'limeade', 'friends_ordered', 'weather_nice', 'morsel', 'fries_always', 'deeply', 'mental', 'royal', 'rice_bowl', 'newcastle', 'chow', 'fam', 'times_week', 'three_small', 'us_feel', 'really_loved', 'enough_two', 'less_busy', 'little_longer', 'breath', 'ohio', 'cal', 'green_red', 'service_poor', 'paneer', 'based_one', 'crispy_outside', 'boxing_ring', 'waiter_super', 'tried_first', 'appetizer_menu', 'meager', 'served_warm', 'new_times', 'breakfast_places', 'fuego_tacos', 'americanize', 'flesh', 'put_together', 'braised_short', 'salad_excellent', 'joes', 'humble', 'namesake', 'easy_get', 'cabinet', 'next_table', 'ipod', 'soda_fountain', 'drinks_delicious', 'melting_pot', 'angle', 'delicious_huge', 'chicken_mole', 'muy', 'unit', 'want_stay', 'next_us', 'kitschy', 'total_came', 'flour', 'approachable', 'jug', 'great_burgers', 'reader', 'burger_next', 'heirloom_tomatoes', 'shrimp_dish', 'want_enjoy', 'regional', 'yr_old', 'coup', 'competent', 'article', 'something_called', 'chocolate_shake', 'bar_scene', 'strategy', 'first_things', 'asada_burrito', 'den', 'get_together', 'bandaid', 'awesome_atmosphere', 'happy_camper', 'people_around', 'way_cool', 'extremely_fresh', 'yummy_also', 'sunnyslope', 'perfect_date', 'vibrant', 'sizable', 'always_enjoy', 'time_almost', 'north_phoenix', 'crow', 'every_month', 'little_expensive', 'downfall', 'liz', 'teen', 'never_knew', 'stink', 'rotisserie', 'one_complaint', 'modification', 'tasty_filling', 'mask', 'market_bistro', 'territory', 'tuna_sandwich', 'instruct', 'degree_heat', 'ask_order', 'mouth_water', 'patio_bar', 'garlic_fries', 'menu_limited', 'confess', 'fresh_vegetables', 'still_hungry', 'early_bird', 'generous_amount', 'promptly_seated', 'water_glasses', 'saba', 'dilemma', 'swiss_cheese', 'three_friends', 'fresh_hot', 'cooked_way', 'expose', 'fantastic_experience', 'lemon_grass', 'additionally', 'nice_relaxing', 'little_annoying', 'whine', 'fade', 'like_used', 'hesitate', 'friendly_always', 'panko', 'breadstick', 'vino', 'open_air', 'disrespect', 'bungalow', 'breathe', 'designer', 'wanted_get', 'going_scottsdale', 'monkey', 'whore', 'ever_walked', 'region', 'overload', 'episode', 'elvis', 'small_business', 'relieve', 'sonny_boy', 'format', 'loved_atmosphere', 'gratin', 'fin', 'palpable', 'matter_order', 'generally_pretty', 'kansas_city', 'scold', 'sat_waiting', 'super_duper', 'gamey', 'ordered_appetizer', 'put_list', 'elixir', 'plump', 'go_pay', 'texting', 'chile_verde', 'lo_behold', 'romaine_lettuce', 'found_table', 'huge_bowl', 'clump', 'chorizo_eggs', 'signing', 'stain', 'honey_butter', 'jesus', 'taste_different', 'chicken_pad', 'indifferent', 'said_aunty', 'six_pack', 'maybe_tables', 'cheap_prices', 'hotel_room', 'pepsi_products', 'ten_bucks', 'potatoes_good', 'topped_vanilla', 'never_disappoint', 'saw_sign', 'salsa_spicy', 'immensely', 'milder', 'anchovy', 'fred', 'best_gyro', 'tell_anyone', 'cordial', 'quirky', 'annoyance', 'yet_another', 'brazilian', 'upcharge', 'round_golf', 'affair', 'nd_street', 'melon', 'pakistani', 'coming_years', 'slid', 'piece_meat', 'better_tasting', 'sudden', 'recently_discovered', 'well_although', 'integrity', 'breakfast_buffet', 'shared_two', 'educate', 'necessity', 'rita', 'well_versed', 'waiting_friends', 'camelback_inn', 'dark_inside', 'havent', 'breakfast_breakfast', 'collective', 'brussels_sprouts', 'past_sunday', 'pleased_see', 'apprehensive', 'senior_citizens', 'steak_joint', 'tmi', 'pizza_found', 'old_fashioned', 'menu_interesting', 'ive_ever', 'accomodated', 'identify', 'ready_leave', 'meet_friends', 'judged', 'husband_order', 'way_work', 'awful_food', 'top_quality', 'enjoying_meal', 'hoegaarden', 'non_alcoholic', 'farmhouse', 'curse', 'evidence', 'wow_service', 'asset', 'scare', 'agrees', 'lobster_mash', 'bit_extra', 'friend_loves', 'bright_orange', 'due_fact', 'bell_rd', 'shrimp_ceviche', 'ginger_beer', 'constant', 'friends_said', 'endure', 'chandler_location', 'hot_mild', 'need_work', 'pretzel_bread', 'live_phoenix', 'filled_pork', 'always_trying', 'amazing_everything', 'going_pay', 'lightly_fried', 'spicy_noodles', 'located_right', 'could_hear', 'yolk', 'simple_delicious', 'italia', 'poached_egg', 'adult_beverages', 'middle_desert', 'plus_side', 'kierland', 'gyro_pita', 'make_difference', 'favorite_beer', 'something_simple', 'huge_deal', 'later_night', 'gravlax', 'poor_college', 'everyone_loves', 'warmth', 'sister_restaurant', 'waitress_seemed', 'ciao', 'leche', 'secure', 'inside_restaurant', 'crispy_crust', 'real_nice', 'short_walk', 'place_meet', 'conducive', 'wax_paper', 'jumped', 'arrangement', 'farm_grill', 'orecchiette', 'finally_brought', 'thunderbird', 'remember_last', 'recommended_us', 'chips_side', 'homemade_potato', 'almost_minutes', 'good_view', 'waitress_brought', 'tomato_juice', 'soup_nazi', 'rye_bread', 'ordered_lamb', 'private_dining', 'provolone_cheese', 'headed_back', 'back_hotel', 'collar', 'brewer', 'sausage_pizza', 'shack', 'wing_sauce', 'personal_service', 'get_hungry', 'huge_chunks', 'amazing_flavor', 'making_feel', 'smaller_portions', 'burger_tasty', 'served_hot', 'moon', 'sweater', 'remember_much', 'friends_showed', 'asking_everything', 'best_seafood', 'came_home', 'stop_talking', 'listed_menu', 'tablespoon', 'sweet_taste', 'frosty', 'fries_tasty', 'responsive', 'clean_friendly', 'noticeable', 'party_six', 'right_nothing', 'plates_food', 'dottsy', 'pleasant_enough', 'creme_fraiche', 'good_memories', 'dinner_evening', 'time_ate', 'one_step', 'lemony', 'sketchy', 'delicious_main', 'makes_everything', 'holy_cow', 'vampiro', 'pizza_awesome', 'stronger', 'blaring', 'bread_served', 'exactly_one', 'gee', 'went_home', 'part_family', 'like_kid', 'aftertaste', 'cringe', 'treated_like', 'service_wise', 'without_much', 'check_website', 'strawberry_banana', 'correction', 'summer_heat', 'know_want', 'belongs', 'make_house', 'wanted_love', 'different_times', 'addiction', 'took_hours', 'nice_finish', 'find_parking', 'food_incredible', 'entire_night', 'good_pass', 'gag', 'actually_made', 'want_move', 'takes_order', 'ordered_curry', 'sautéed', 'useful', 'simultaneously', 'seaweed', 'seat_us', 'tooth', 'bibimbap', 'chicken_pizza', 'used_work', 'primary', 'unsatisfied', 'tasty_fresh', 'eating_bar', 'good_eats', 'bottom_glass', 'sedona', 'disappointed_say', 'near_airport', 'withstand', 'single_person', 'table_front', 'endeavor', 'long_wong', 'rag', 'bad_enough', 'ghost_town', 'everybody_else', 'say_oh', 'busiest', 'boba_tea', 'need_find', 'experience_might', 'midst', 'positive_things', 'huge_delicious', 'busy_talking', 'philadelphia', 'croissant_sandwich', 'new_management', 'driving_past', 'choices_limited', 'next_stop', 'million_times', 'ha_ha', 'deli_counter', 'indulgence', 'brunch_spot', 'weeks_later', 'market_place', 'yelp_check', 'white_fish', 'made_experience', 'worth_going', 'people_line', 'reliably_good', 'friends_town', 'cream_corn', 'small_medium', 'sprawl', 'favorite_chipotle', 'delicious_especially', 'visit_scottsdale', 'wife_visited', 'new_people', 'fresh_herbs', 'smith', 'proactive', 'free_range', 'tried_almost', 'wtih', 'join_us', 'dietary', 'multitude', 'girlfriend_ordered', 'also_loved', 'coffee_joint', 'olympic', 'two_reasons', 'nourish', 'vein', 'listing', 'staff_rude', 'doggy', 'everything_tasty', 'big_chunks', 'valley_one', 'sub_shop', 'expected_much', 'want_hear', 'guacamole_good', 'first_let', 'guacamole_chips', 'ambiance_awesome', 'omnivore', 'escolar', 'sausage_peppers', 'corn_chips', 'fries_crispy', 'small_price', 'vegan_options', 'everyone_raving', 'retro', 'ie', 'ordered_fried', 'nice_bonus', 'sterile', 'rome', 'drinks_bar', 'fascinate', 'quicker', 'butter_syrup', 'everyone_seemed', 'onions_mushrooms', 'sub_roll', 'good_ones', 'beat_prices', 'staff_usually', 'venezia', 'sassy', 'socialize', 'single_bite', 'previous_review', 'pretty_amazing', 'feeling', 'caliber', 'went_maybe', 'proceeded_tell', 'beside', 'certainly_nothing', 'plug', 'nice_crunchy', 'gift_shop', 'could_smell', 'menu_decided', 'order_everything', 'made_happy', 'curd', 'enthusiast', 'gets_crowded', 'hardcore', 'shortage', 'bar_bartender', 'growl', 'perfect_texture', 'food_cocktails', 'throughout_restaurant', 'trying_something', 'stuff_also', 'multi_grain', 'trying_eat', 'else_would', 'mom_got', 'use_yelp', 'place_uses', 'ethnic_food', 'bring_kids', 'thing_keeping', 'pun', 'decent_price', 'everyone_know', 'publication', 'sandwich_excellent', 'side_sweet', 'pre_meal', 'dissapointed', 'makes_easy', 'tandoori_times', 'peanut_dressing', 'selling_point', 'brie_apples', 'gourmet_pizza', 'oven_roasted', 'still_feel', 'usually_stick', 'judge_place', 'respectful', 'mean_really', 'dancer', 'excellent_burger', 'work_day', 'also_offered', 'thought_ok', 'without_even', 'office_building', 'tomato_jam', 'click', 'chart', 'found_little', 'gravel', 'beef_lamb', 'bread_crumbs', 'actually_went', 'moist_tender', 'varies', 'prices_amazing', 'blog', 'sound_system', 'gentle', 'indecisive', 'eating_years', 'staff_awesome', 'cheese_beef', 'mexican_cuisine', 'macadamia_nut', 'extra_virgin', 'italian_pizza', 'atmosphere_friendly', 'aluminum', 'sun_setting', 'babbo', 'ocean', 'waited_min', 'bit_small', 'five_years', 'broccolini', 'license', 'times_visited', 'almost_full', 'freshest_ingredients', 'ever_amazing', 'ate_lunch', 'eat_something', 'flavourful', 'cat_food', 'sooo_nice', 'wine_tasting', 'cenpho', 'responsible', 'ambiance_decor', 'green_salad', 'retain', 'hard_come', 'ever_see', 'chicken_tender', 'damn_tasty', 'smoothly', 'always_heard', 'personal_favorites', 'mgr', 'trying_new', 'nite', 'shrimp_burro', 'leave_hungry', 'positive_reviews', 'chai_latte', 'thawed', 'today_first', 'snickerdoodle', 'lamb_chops', 'dish_tasted', 'soup_excellent', 'thing_going', 'pina', 'longest_time', 'credit_cards', 'gotten_sick', 'pacifico', 'creature', 'full_menu', 'pot_pie', 'marked', 'brittle', 'try_bacon', 'half_priced', 'series', 'vice_versa', 'worth_extra', 'cozy_place', 'soft_chewy', 'noteworthy', 'cheese_meat', 'tablemate', 'adobo', 'make_perfect', 'dishes_unique', 'echo_coffee', 'last_sunday', 'worth_waiting', 'work_done', 'restaurants_area', 'smoker', 'far_east', 'casually', 'even_saw', 'conveyor', 'picky_eaters', 'structure', 'new_phoenix', 'deer', 'specialty_cocktails', 'back_heartbeat', 'carin', 'induce', 'pleased_food', 'took_home', 'whole_foods', 'neck', 'beard', 'never_found', 'freindly', 'got_pasta', 'typical_bar', 'donald', 'agave', 'departure', 'karma', 'caramelized_onion', 'shocked_see', 'ever_encountered', 'lack_luster', 'whereas', 'wish_open', 'retire', 'every_couple', 'daily_basis', 'past_week', 'whitney', 'cutest', 'restaurant_concept', 'without_wait', 'pay_much', 'super_excited', 'people_understand', 'least_dozen', 'checked_yelp', 'remember_us', 'lot_menu', 'might_even', 'bread_came', 'opening_night', 'without_sauce', 'favorable', 'love_hole', 'spending_money', 'server_excellent', 'introduction', 'beef_sandwich', 'fifteen', 'come_valley', 'spread_word', 'touch_thai', 'baffle', 'truffle_fries', 'beginning_meal', 'nada', 'verdict', 'probably_times', 'metro_phoenix', 'shrimp_appetizer', 'tastey', 'first_saw', 'ball_game', 'water_feature', 'filled_brim', 'parade', 'couple_tables', 'steamer', 'explosion', 'ok_much', 'waitress_never', 'last_call', 'actually_asked', 'tukee', 'eat_lot', 'town_business', 'fries_fries', 'presentation_taste', 'get_fix', 'breakfast_options', 'ample_seating', 'full_meal', 'dig_place', 'plenty_room', 'one_lower', 'thai_restaurants', 'vegan_menu', 'chorizo_breakfast', 'wiseguy', 'parma', 'banquet', 'space_feels', 'binkley', 'chipotle_cream', 'little_kid', 'already_eaten', 'walking_kitchen', 'perfect_location', 'enjoyed_meals', 'run_mill', 'ok_got', 'mosaic', 'dining_partner', 'slightest_bit', 'congeal', 'mat', 'drink_prices', 'sweet_tomatoes', 'countless_times', 'know_never', 'pretty_small', 'favorite_far', 'guard', 'super_crispy', 'made_difference', 'enjoyment', 'said_many', 'sonora', 'mural', 'mikado', 'servers_attentive', 'eating_experience', 'radius', 'jealous', 'sun_devil', 'people_give', 'haus_murphy', 'telephone', 'jared', 'take_long', 'warm_welcoming', 'everytime_go', 'clip', 'order_ready', 'moist_juicy', 'plate_special', 'vice', 'crappy_food', 'made_eye', 'table_mates', 'suspiciously', 'always_ask', 'could_without', 'service_ambiance', 'finally_able', 'hardly_ever', 'awesomeness_food', 'get_choose', 'sang', 'jewish_deli', 'contest', 'extra_mile', 'intrude', 'flavorful_everything', 'hot_pastrami', 'enough_fill', 'place_serves', 'could_spend', 'pickiest', 'cheese_amazing', 'th_july', 'tomato_onion', 'purist', 'burger_lover', 'right_alley', 'sweet_side', 'congrats', 'went_early', 'italian_style', 'text', 'chicken_tortilla', 'every_awhile', 'suffice_say', 'carlos', 'little_boring', 'stand_live', 'height', 'update_went', 'cheese_burrito', 'unorganized', 'pizzookie', 'orange_peel', 'asap', 'tasty_large', 'burger_ok', 'cesar_salad', 'buzzing', 'babysitter', 'east_side', 'decided_come', 'large_plate', 'competitive', 'used_frequent', 'right_every', 'elaborate', 'bullet', 'still_open', 'steaks_good', 'would_describe', 'baking', 'irish_uk', 'non_meat', 'jukebox', 'foi', 'saying_lot', 'hideous', 'couple_people', 'hummous', 'rula', 'stake', 'rula_bula', 'bacon_amazing', 'partner_ordered', 'meatball_sliders', 'white_cheddar', 'beaten_path', 'blank', 'sarcasm', 'cake_also', 'establish', 'next_trip', 'le_chalet', 'amid', 'usually_fan', 'nicely_done', 'two_small', 'retrieve', 'chicken_tasted', 'morning_glory', 'keen', 'definatly', 'different_ways', 'service_sucks', 'quite_large', 'mcd', 'get_act', 'even_without', 'general_manager', 'rotten', 'juicy_flavorful', 'came_perfectly', 'ryan', 'restaurant_open', 'unwind', 'worked_well', 'plateful', 'everything_need', 'refers', 'first_impressions', 'draw_back', 'carnitas_burrito', 'get_bowl', 'johnny_chu', 'taken_back', 'overall_decent', 'manages', 'koolaid', 'sauteed_mushrooms', 'red_robin', 'left_feeling', 'wife_said', 'big_bar', 'supreme', 'jimmy', 'burger_bun', 'sausage_bacon', 'amateur', 'fresh_sushi', 'menu_seems', 'options_also', 'bike_ride', 'friend_shared', 'family_favorite', 'forgo', 'go_weekend', 'something_sweet', 'slices_fresh', 'always_seems', 'sister_law', 'cortadito', 'high_priced', 'hardest', 'dr_funk', 'valley_sun', 'whole_grain', 'double_shot', 'tomato_mozzarella', 'friendly_servers', 'jamaican', 'advised_us', 'california_rolls', 'restrooms_clean', 'yummy_yummy', 'restaraunt', 'friendly_professional', 'come_away', 'steak_fajitas', 'served_drinks', 'saki', 'time_spent', 'friday_nights', 'fish_market', 'go_pick', 'chocolate_souffle', 'ones_like', 'chandler_mall', 'chelsea_kitchen', 'say_yes', 'babaganoush', 'onions_jalapenos', 'actually_quite', 'knock_socks', 'really_salty', 'ordered_green', 'umm', 'expect_anything', 'trying_many', 'preservative', 'cooked_well', 'one_exception', 'go_boxes', 'macarons', 'nearly_enough', 'another_dish', 'much_salt', 'napa', 'celebrate_birthday', 'greater', 'candlelit', 'probably_never', 'liquidy', 'yes_right', 'chewy_inside', 'ethiopian_food', 'outshines', 'shish_kabob', 'rich_flavor', 'thyme', 'evolve', 'makes_us', 'beef_tacos', 'lee_lee', 'unique_restaurant', 'popeyes', 'subbed', 'tabooli', 'snicker', 'patio_perfect', 'tidbit', 'slower', 'wagon', 'refine', 'reservation_pm', 'would_fit', 'kahlua', 'yung', 'eat_fast', 'waiter_friendly', 'elote', 'almost_felt', 'grimaldis', 'hatch', 'micro', 'greet_us', 'spicy_shrimp', 'buddha', 'eddie_house', 'sidecar', 'without_lot', 'lucille', 'restriction', 'cliff', 'could_add', 'seemed_enjoy', 'asked_water', 'super_slow', 'handful_times', 'justice', 'santan', 'etc_type', 'copper_blues', 'went_twice', 'clean_table', 'speak_english', 'never_issue', 'menu_offered', 'th_camelback', 'douche', 'may_bit', 'probably_going', 'phoenix_palace', 'newer', 'bean_burrito', 'always_awesome', 'monkey_bread', 'usually_find', 'great_care', 'shepard_pie', 'went_pick', 'hot_cold', 'fiesta', 'gluttonous', 'great_views', 'loaf_bread', 'olive_mill', 'spare_ribs', 'two_salads', 'interact', 'passionfruit', 'usually_give', 'dope', 'spot_inside', 'orange_blossom', 'along_walls', 'small_tables', 'servers_nice', 'reward', 'never_liked', 'wth', 'fast_forward', 'teensy', 'peking_duck', 'told_waitress', 'santa_fe', 'yummy_meal', 'strawberry_lemonade', 'restaurant_name', 'sit_mexican', 'towards_end', 'saturday_lunch', 'giving_one', 'tater', 'well_known', 'taqueria', 'locally_sourced', 'green_pepper', 'carton', 'situate', 'wrapped_around', 'different_things', 'imagination', 'else_could', 'bread_side', 'fried_tofu', 'since_going', 'feel_compelled', 'puerto_rican', 'tomato_cream', 'drink_called', 'one_coworkers', 'take_another', 'impressively', 'come_expect', 'onsite', 'tortilla_strips', 'relax_enjoy', 'always_end', 'tea_water', 'rockin', 'restaurant_valley', 'serve_beer', 'fair_enough', 'pannini', 'brief', 'teenage', 'melty', 'enough_left', 'music_selection', 'really_adds', 'two_times', 'hard_mess', 'ordered_coconut', 'yet_feel', 'old_man', 'white_bean', 'drinks_bad', 'thai_lahna', 'operate', 'little_grocery', 'actually_enjoyed', 'stars_instead', 'front_entrance', 'maybe_minutes', 'exactly_wanted', 'stayed_warm', 'saigon_pho', 'appointment', 'yeah_said', 'sweeter', 'happened_place', 'fresher', 'fries_soggy', 'highest_quality', 'one_morning', 'allot', 'banana_nut', 'thing_say', 'blueberry_compote', 'usually_comes', 'another_server', 'worth_checking', 'street_taco', 'live_east', 'anywhere_near', 'hour_prices', 'disturb', 'huge_slice', 'salad_huge', 'mediterranean_food', 'conflict', 'hostess_sat', 'hostess_said', 'nice_helpful', 'ask_things', 'phx_metro', 'everything_plate', 'itch', 'prices_extremely', 'dessert_shared', 'friendliness_staff', 'ordered_variety', 'sally', 'build_burger', 'order_french', 'location_perfect', 'server_super', 'nothing_wrong', 'pretty_quiet', 'friendly_waitress', 'kalua_pork', 'priced_right', 'brent', 'restaurant_casual', 'kisra', 'almost_impossible', 'dressing', 'splendid', 'entre', 'avacado', 'getting_table', 'bam', 'entire_valley', 'tanked_fish', 'frequent_often', 'pleasantly', 'musical', 'large_parties', 'ordered_short', 'donut_holes', 'authentic_italian', 'underground', 'rigatoni', 'tortellini', 'best_veggie', 'restaurant_busy', 'outstanding_food', 'menu_fantastic', 'shudder', 'seal', 'flat_panel', 'give_four', 'casual_atmosphere', 'belong', 'organize', 'arrived_ordered', 'fried_green', 'server_take', 'server_took', 'away_without', 'even_asking', 'wanted_another', 'superbowl', 'basketball', 'nothing_worse', 'hamachi', 'better_average', 'already_know', 'virgin', 'tipped', 'cannelloni', 'plain_ol', 'bomberos', 'hamachi_sashimi', 'effin', 'food_awful', 'tow', 'pork_dish', 'amazing_location', 'thin_crisp', 'gets_packed', 'info', 'quickly_become', 'chili_paste', 'grain', 'sure_want', 'diminish', 'ginger_ale', 'judgment', 'justified', 'smoked_mozzarella', 'roasted_duck', 'seasoned_fries', 'another_burger', 'every_thing', 'others_like', 'circa', 'eat_outside', 'wont_disappointed', 'bread_always', 'stuffed_full', 'absolutely_best', 'slice_pizza', 'guy_buy', 'slices_pizza', 'deaf', 'cannot_get', 'simply_awesome', 'go_looking', 'staff_wonderful', 'tottie', 'sonoran_style', 'ingredients_make', 'gets_little', 'go_box', 'even_put', 'hands_one', 'overall_think', 'pork_sliders', 'napoleon', 'chose_place', 'husband_dinner', 'limited_seating', 'super_hot', 'corridor', 'glory', 'something_drink', 'sit_sushi', 'twice_week', 'fresca', 'tremendous', 'little_spot', 'still_tasted', 'drinks_tasty', 'tastes_exactly', 'act_like', 'tasted_fine', 'went_couple', 'restaurant_found', 'vietnamese_dishes', 'golden_brown', 'normally_order', 'habenero', 'whole_new', 'oldest', 'shovel', 'thin_crispy', 'stole', 'super_buffet', 'clearing_plates', 'sissy', 'weakness', 'still_eating', 'curtain', 'waffle_bacon', 'never_able', 'butter_lettuce', 'delayed', 'upscale_restaurant', 'left_table', 'jesse', 'wine_specials', 'breakfast_dinner', 'sat_right', 'tables_booths', 'espn', 'worse_food', 'san_felipe', 'unagi', 'flop', 'think_cool', 'work_right', 'unnecessary', 'walked_right', 'slightly_upscale', 'stand_line', 'ask_us', 'make_matters', 'never_let', 'school_cafeteria', 'rest_day', 'salted_caramel', 'emerald_chicken', 'plate_first', 'camelback_mountain', 'known_better', 'atmosphere_chill', 'teppan', 'specialty_rolls', 'population', 'stinky', 'beef_ribs', 'behalf', 'peruse_menu', 'bahama', 'metro_area', 'well_deserved', 'first_walked', 'sh', 'little_high', 'see_people', 'take_pride', 'noodles_meat', 'clean_restrooms', 'went_large', 'kitchen_area', 'noticed_place', 'bar_style', 'foot_long', 'small_side', 'brought_little', 'marmalade', 'coaster', 'want_feel', 'get_rid', 'experience_overall', 'food_total', 'refill_water', 'given_place', 'tasted_better', 'watch_sports', 'satiate', 'far_concerned', 'restaurant_years', 'fettuccine_alfredo', 'transplant', 'circumstance', 'jotc', 'little_details', 'solid_place', 'wish_lived', 'mundane', 'casa_grande', 'saag', 'typically_go', 'differ', 'almost_year', 'table_seated', 'deeper', 'texas_toast', 'roof', 'food_horrible', 'masher', 'thailand', 'gun', 'recent_years', 'value_money', 'nutshell', 'crostini', 'proof', 'tofu_veggie', 'erin', 'boneless_wings', 'apron', 'however_think', 'someone_could', 'snow_birds', 'kinda_weird', 'rush_us', 'gimlet', 'restaurant_tempe', 'looking_lunch', 'landscape', 'landlord', 'festivity', 'think_found', 'fixture', 'rice_vermicelli', 'shrimp_pork', 'needed_go', 'impatient', 'bus_boy', 'high_side', 'increasingly', 'green_olives', 'clean_plates', 'makeover', 'makes_wonder', 'beam', 'sets_apart', 'knows_make', 'side_ribs', 'flavorful_fresh', 'parking_garage', 'bar_neat', 'wasting_time', 'servings_huge', 'crispy_spicy', 'resembles', 'roasted_vegetables', 'clam_chowder', 'good_margarita', 'absolutely_perfect', 'went_family', 'dozens_times', 'wanted_order', 'italiano', 'boyfriend_decided', 'nostalgic', 'thankful', 'red_sangria', 'put_sauce', 'mom_makes', 'change_pace', 'giuseppe', 'high_prices', 'opinion_place', 'portofino', 'four_people', 'percent', 'undo', 'linguine', 'perhaps_best', 'legendary', 'hour_menu', 'normally_get', 'full_disclosure', 'pizza_slice', 'lunch_hours', 'eventually_found', 'girlfriend_went', 'crammed', 'never_fan', 'standout', 'impressed_quality', 'table_right', 'big_unit', 'free_order', 'different_way', 'visiting_family', 'saturday_evening', 'great_servers', 'little_guy', 'pleased_meal', 'good_alternative', 'bacon_egg', 'general_location', 'dove', 'swipe', 'kai', 'portillo', 'void', 'best_sandwiches', 'post_office', 'corona', 'hour_later', 'call_back', 'crumb', 'big_pieces', 'completely_ignored', 'regular_stop', 'pyramid', 'artistic', 'extension', 'burger_joints', 'great_suggestions', 'junkie', 'south_mountain', 'shoestring_fries', 'ordered_fish', 'helping_us', 'british', 'take_window', 'steer', 'comes_table', 'good_deals', 'another_meal', 'dissappointed', 'cut_half', 'grazie', 'stumbled_across', 'bump', 'chicken_juicy', 'excellent_flavor', 'horrific', 'even_bother', 'best_red', 'service_professional', 'short_sweet', 'decor_kind', 'got_seated', 'dinner_friend', 'ask_everything', 'cha_shu', 'security', 'wait_worth', 'took_friend', 'nostalgia', 'disposable', 'fries_delicious', 'joked', 'pup', 'correlation', 'disc', 'feel_free', 'chili_powder', 'minutes_ago', 'take_someone', 'non_greasy', 'ooooh', 'tasty_bread', 'two_places', 'got_bbq', 'consumer', 'also_interesting', 'presentation_food', 'goose', 'cute_cozy', 'brown_butter', 'else_say', 'gomen', 'cardinal', 'bruce', 'waited_outside', 'butai', 'decadence', 'living_phoenix', 'operates', 'jammed', 'shabu', 'fondu', 'breeze', 'memorial_day', 'blow_socks', 'french_press', 'biz_photos_ib', 'truthfully', 'dvs_bydsuidhxlyw', 'select_tzg', 'endu', 'tan', 'chuy', 'renovate', 'sorry_say', 'next_month', 'tip_bad', 'fat_tuesday', 'centurion', 'chodang', 'nice_quiet', 'see_review', 'three_tables', 'rural', 'ambient', 'shrimp_fish', 'tikka_masala', 'day_work', 'sorority', 'carrot_cake', 'delicious_wish', 'imagine_would', 'sheriff_joe', 'mentioned_menu', 'eggplant_dip', 'young_girl', 'rum_bar', 'yukon_gold', 'heritage', 'glutton', 'rustica', 'sara', 'appetizer_ordered', 'think_cut', 'mimi_cafe', 'sal', 'pay_full', 'someone_would', 'dk', 'majerle', 'crab_roll', 'orange_beef', 'dry_tasteless', 'spider_roll', 'senor_taco', 'employess', 'tappa', 'bingsoo', 'scrambler', 'riazzi', 'perfect_blend', 'options_available', 'number_one', 'boulder', 'plate_comes', 'cue', 'soup_served', 'mood_lighting', 'korean_bbq', 'burgers_decent', 'tolerance', 'ac', 'unless_someone', 'jobot', 'gourmet_hot', 'across_way', 'phú_thành', 'bonnie', 'would_call', 'best_pho', 'distrito', 'well_behaved', 'filling_meal', 'enjoyable_place', 'high_price', 'outright', 'covered_lettuce', 'cholula', 'show_next', 'decently_priced', 'science_center', 'corndog', 'stainless_steel', 'kiwi', 'yea', 'wongs', 'old_scottsdale', 'go_early', 'suspicious', 'want_drink', 'rice_egg', 'also_add', 'loved_decor', 'stone_walls', 'clay_pot', 'tables_sat', 'would_advise', 'particularly_good', 'daily_dose', 'reliable', 'project', 'plank', 'offensive', 'father_office', 'sprinkled_top', 'especially_wine', 'visit_phoenix', 'illusion', 'passion_fruit', 'lemon_wedges', 'house_first', 'el_pastor', 'corn_chowder', 'chunky_spicy', 'wait_hour', 'covered_patio', 'significantly', 'oh_man', 'transform', 'wong', 'red_beans', 'hour_long', 'girly', 'deciding_get', 'order_dessert', 'irony', 'poor_food', 'become_one', 'brown_bag', 'contender', 'marscapone', 'joe_product', 'tuna_sushi', 'wines_glass', 'vinegarette', 'takes_longer', 'cardinal_rule', 'extend', 'vibe_definitely', 'gila_bend', 'always_comes', 'dan', 'strangely', 'like_ones', 'cost_much', 'looked_awesome', 'fine_nothing', 'known_would', 'roach', 'chico', 'lo', 'chicken_nuggets', 'cigar', 'seasonal_vegetables', 'chinese_mexican', 'investment', 'asked_drink', 'two_minutes', 'hard_earned', 'imitation_crab', 'fantastic_atmosphere', 'vaguely', 'prices_unbelievably', 'teakwood', 'never_felt', 'sushi_restaurants', 'back_today', 'across_board', 'friendliest', 'oggie', 'worst_experience', 'getting_hungry', 'prosciutto_fig', 'rich_creamy', 'herbed', 'nom', 'chicken_moist', 'questionable', 'meat_sauce', 'fresh_fresh', 'next_week', 'types_bruschetta', 'every_corner', 'new_england', 'condiment_bar', 'chiptole', 'james', 'reason_return', 'huge_menu', 'grew_eating', 'hummus_pita', 'super_cute', 'solid_stars', 'counter_staff', 'waitress_gave', 'ohso', 'awhile_since', 'inside_decor', 'husband_shared', 'perk', 'bread_bowl', 'sunny_day', 'porterhouse', 'looked_promising', 'setting_good', 'highly_highly', 'beef_stew', 'anything_bad', 'moderately', 'us_came', 'sweetest', 'bit_different', 'ridiculously_good', 'time_came', 'seriously_one', 'yes_said', 'cold_beer', 'case_know', 'sweet_salty', 'fried_rolled', 'four_half', 'location_always', 'star_sandwich', 'well_used', 'ready_minutes', 'ordered_taco', 'pet', 'bf_ordered', 'legend', 'super_sweet', 'lamb_chop', 'added_nice', 'fries_excellent', 'decent_amount', 'nw_valley', 'authentic_japanese', 'ciabatta_bread', 'moved_away', 'little_busy', 'outside_soft', 'sample_menu', 'creaminess', 'toasted_baguette', 'braised_beef', 'cooked_medium', 'asked_two', 'placing_order', 'tasted_nothing', 'small_size', 'cease', 'nuff_said', 'brunch_menu', 'silver_mine', 'sauce_makes', 'server_told', 'strain', 'caricature', 'october', 'chicken_pasta', 'knee', 'churro', 'tgi_fridays', 'like_thin', 'choices_menu', 'candied_walnuts', 'stuffed_shrimp', 'tasting_food', 'quite_well', 'tables_inside', 'outgo', 'half_pound', 'partially', 'working_hard', 'fortune_cookie', 'chinese_people', 'restuarant', 'branding', 'love_see', 'okay_nothing', 'mate', 'slightly_spicy', 'curt', 'civiche', 'waited_us', 'bun_soft', 'lid', 'soft_inside', 'get_refills', 'little_extra', 'zuchinni', 'unoriginal', 'look_menu', 'persian_food', 'mesa_location', 'salsa_chips', 'several_occasions', 'scallop_appetizer', 'one_co', 'service_industry', 'never_wanted', 'finally_seated', 'needs_little', 'past_couple', 'rc', 'astound', 'friendliness', 'pho_thanh', 'breakfast_sandwich', 'seafood_restaurant', 'aside_fact', 'went_breakfast', 'living_social', 'poor_experience', 'day_drinking', 'stopped_quick', 'nothing_ever', 'pee', 'grand_canyon', 'warm_chocolate', 'judging', 'rethink', 'wanted_bring', 'inclined', 'fresh_chips', 'pushy', 'immediately_turned', 'anyway_back', 'view_camelback', 'give_big', 'experience_definitely', 'prepares', 'interior_nice', 'salmon_salad', 'neighborhood_restaurant', 'one_occasion', 'chicken_white', 'hummus_garlic', 'remoulade', 'lure', 'quick_fix', 'waiting_get', 'fbh', 'takes_long', 'foo', 'phosphate', 'reopen', 'never_come', 'probably_want', 'rotisserie_chicken', 'pj', 'visiting_phoenix', 'big_portions', 'conveniently_located', 'noticed_tables', 'faux_meat', 'green_chilies', 'gritty', 'place_crowded', 'abuelo', 'alter', 'fig_jam', 'modify', 'zinc_bistro', 'brocolli', 'sticky_buns', 'charm_place', 'goo', 'raw_fish', 'elegance', 'true_foods', 'ordered_large', 'bottled_water', 'better_deal', 'textured', 'sushi_grill', 'meal_started', 'toffee', 'ayce', 'usuals', 'michigan', 'say_something', 'pearl', 'salad_steak', 'convenient_location', 'los_olivos', 'south_scottsdale', 'gaze', 'fried_alligator', 'trade', 'peppered_bacon', 'meth', 'crust_pizza', 'bottomless', 'staff_fantastic', 'blanc', 'seedy', 'cannot_say', 'sign_door', 'revolutionary', 'price_pay', 'bath', 'know_anything', 'half_dozen', 'goi_cuon', 'beer_drinking', 'reviewed_place', 'permit', 'odor', 'kathy', 'th_anniversary', 'split_burger', 'neighborhood_place', 'lobster_roll', 'mid_week', 'ended_leaving', 'sit_meal', 'craving_mexican', 'decide_want', 'two_drinks', 'like_high', 'stuffed_olives', 'olive_oils', 'way_set', 'fun_hang', 'opening_day', 'pretty_average', 'restaurateur', 'consistant', 'wish_closer', 'spend_money', 'never_seemed', 'ordered_iced', 'shopping_plaza', 'checked_place', 'peace', 'jan', 'empire', 'sue', 'health_department', 'throw_away', 'dab', 'sky', 'sandwich_ever', 'update_review', 'california_burrito', 'precious', 'interior_restaurant', 'eggplant_parmesan', 'yes_yes', 'bomber', 'gallery', 'people_sitting', 'delicious_crust', 'pretty_reasonable', 'rachel', 'got_free', 'two_blocks', 'candace', 'lumpia', 'devoid', 'absolute_perfection', 'little_worried', 'tuna_salmon', 'guilt', 'small_yet', 'twelve', 'take_half', 'white_linen', 'often_times', 'ivy', 'large_order', 'side_mac', 'whilst', 'phoenix_new', 'www', 'fiance_ordered', 'yummmm', 'oh_mention', 'love_affair', 'dessert_since', 'place_smelled', 'positively', 'david', 'needed_something', 'rudy', 'tx', 'prepared_perfectly', 'dobson', 'atl', 'favorite_dessert', 'better_first', 'nathan', 'could_drink', 'getting_served', 'uptight', 'phx_area', 'take_leftovers', 'ppl', 'finally_took', 'got_appetizers', 'onion_strings', 'rest_us', 'never_failed', 'blunt', 'biz_photos_select', 'understandable', 'order_took', 'delish_love', 'pinot', 'porter', 'think_overall', 'wierd', 'difficult_eat', 'big_group', 'freshly_prepared', 'filipino_restaurant', 'plenty_time', 'waitress_nice', 'wanted_see', 'usually_long', 'cancer', 'toaster', 'place_dine', 'order_said', 'however_also', 'ever_phoenix', 'donate', 'least_three', 'distinction', 'bartenders_friendly', 'gil', 'came_shortly', 'belief', 'waft', 'cashew_chicken', 'sneeze', 'recommends', 'soup_bread', 'hoa', 'glad_made', 'food_allergies', 'come_table', 'night_dinner', 'leather_booths', 'in', 'sweeter_side', 'waiter_attentive', 'almost_immediately', 'night_spot', 'performer', 'know_sounds', 'tiger', 'get_decent', 'used_love', 'outrageously', 'different_flavors', 'nit', 'homemade_tortillas', 'ordered_wrong', 'broken_rice', 'ones_tried', 'recommend_going', 'shredded_pork', 'nba', 'get_slices', 'marsala', 'start_night', 'tortilla_factory', 'minus_one', 'want_support', 'cannot_believe', 'time_soon', 'took_bill', 'garage', 'valid', 'bloat', 'parking_space', 'best_ribs', 'breath_fresh', 'last_minute', 'veer', 'used_make', 'cheesy_bread', 'sleepy', 'aint', 'representation', 'skewed', 'mushrooms_peppers', 'rowdy', 'filter', 'cc', 'fri_sat', 'meat_eaters', 'reassure', 'came_town', 'seemed_little', 'pool_table', 'fun_people', 'hottest', 'culinary_thought', 'accurate', 'defalco', 'white_guy', 'care_much', 'suprised', 'dominick', 'second_trip', 'glittery', 'cucumber_slices', 'nugget', 'meanwhile', 'romaine_salad', 'quickly_ordered', 'wich', 'everything_awesome', 'awake', 'guess_go', 'pesto_chicken', 'last_weeks', 'dirt_cheap', 'place_mesa', 'fresh_strawberries', 'beer_battered', 'fun_night', 'stopped_way', 'fragrant', 'menu_large', 'craving_chinese', 'pumpkin_bread', 'around_forever', 'max', 'wicked', 'nice_variety', 'see_many', 'line_waiting', 'whop', 'japanese_sushi', 'new_spot', 'sriracha', 'thai_peanut', 'come_across', 'even_remember', 'monthly', 'never_empty', 'business_trip', 'formerly', 'exceedingly', 'organ', 'much_higher', 'able_watch', 'boston_market', 'front_us', 'remember_exactly', 'miracle_mile', 'cant_really', 'simply_cannot', 'love_pita', 'cliche', 'orange_table', 'comes_small', 'bacon_bits', 'ask_side', 'still_thinking', 'walked_hostess', 'atmosphere_perfect', 'vada', 'obsess', 'got_green', 'discourage', 'way_end', 'americanized_mexican', 'slack', 'still_full', 'afterall', 'baked_ziti', 'would_easily', 'bar_grill', 'wine_selections', 'couple_beers', 'texas_bbq', 'scarfed', 'lulu', 'never_mind', 'barbacoa', 'absolutely_fantastic', 'asked_helped', 'stuff_pretty', 'blown', 'special_event', 'drink_options', 'ordered_simple', 'expect_little', 'suite', 'two_separate', 'back_az', 'taste_presentation', 'answered_questions', 'intentional', 'everything_looked', 'dinner_entrees', 'cb', 'expect_get', 'always_plus', 'cold_cuts', 'reuben_sandwich', 'service_phenomenal', 'peter', 'hottie', 'crab_wontons', 'area_want', 'fact_even', 'us_know', 'free_pizza', 'cent_margaritas', 'heard_lot', 'new_jersey', 'bad_night', 'jersey_mike', 'fried_onions', 'know_exactly', 'get_tired', 'evidently', 'recommend_try', 'expansion', 'saturday_sunday', 'first_glance', 'chicken_shwarma', 'except_one', 'blows_away', 'first_rate', 'blizzard', 'really_clean', 'singapore', 'business_dinner', 'midday', 'crema', 'many_dishes', 'great_inexpensive', 'roasted_pork', 'worse_service', 'also_fabulous', 'long_took', 'hard_believe', 'round_drinks', 'rename', 'looking_restaurant', 'pretty_attentive', 'purely', 'mmmmmmmm', 'thought_pretty', 'non_descript', 'beef_broccoli', 'thinner', 'plates_cleared', 'beef_red', 'wrapped_bacon', 'mardi_gras', 'based_yelp', 'vomit', 'flavors_textures', 'main_event', 'opinion_best', 'piece_bread', 'chicken_pesto', 'like_mine', 'perfectly_prepared', 'runner', 'restaurant_decorated', 'soba', 'bowl_also', 'best_bbq', 'pieces_bread', 'ordered_red', 'mingle', 'cheddar_bacon', 'days_week', 'tastic', 'exhibit', 'still_recommend', 'tokyo_express', 'american_junkie', 'like_regular', 'cant_wait', 'add_flavor', 'always_count', 'bread_soft', 'pulse', 'topic', 'mozzarella_tomato', 'extremely_friendly', 'faith', 'love_pad', 'spear', 'dawn', 'cheap_tasty', 'chicken_dish', 'cilantro_lime', 'tomatoes_onions', 'hummus_die', 'went_business', 'mixed_greens', 'chicken_nachos', 'enjoyed_drinks', 'discovery', 'friend_wanted', 'would_consider', 'pretty_slow', 'despite_fact', 'participate', 'lightly_battered', 'borrow', 'menu_totally', 'standing_room', 'takes_minutes', 'phone_number', 'emerge', 'oz_filet', 'go_cup', 'yum_got', 'curry_vegetables', 'good_carne', 'large_portion', 'pick_one', 'coconut_ice', 'served_plate', 'pita_sandwich', 'chorus', 'green_salsa', 'really_flavorful', 'able_walk', 'leaves_lot', 'asked_extra', 'wine_pairing', 'got_cold', 'selection_beers', 'would_happily', 'atmosphere_probably', 'curiosity', 'bon', 'wholly', 'night_week', 'sauce_tasty', 'ali', 'thorough', 'got_fish', 'pizza_instead', 'also_inexpensive', 'local_businesses', 'macaroni', 'keyboard', 'restaurant_tonight', 'extensive_beer', 'easy_miss', 'let_clear', 'bar_full', 'drink_wine', 'parsnip', 'becomes', 'find_another', 'served_cold', 'light_crispy', 'quite_literally', 'yesterday_decided', 'real_maple', 'service_outstanding', 'mushroom_burger', 'absurd', 'ends_pm', 'smooth_creamy', 'open_pm', 'nfl', 'tarbell', 'wonder_place', 'softshell_crab', 'return_often', 'delicious_need', 'los_reyes', 'apple_slices', 'vehicle', 'tin', 'object', 'menu_extensive', 'wallpaper', 'better_others', 'admire', 'sorry_folks', 'top_things', 'puck', 'fest', 'army', 'brio', 'papaya', 'ownership', 'take_date', 'come_often', 'untouched', 'angel', 'really_glad', 'wiz', 'lucky_get', 'seperate', 'experience_staff', 'phoenix_scottsdale', 'ed', 'ninja_eating', 'white_brown', 'price_point', 'overshadow', 'egg_white', 'definitely_top', 'wore', 'wrinkle', 'incompetent', 'could_wrong', 'worst_service', 'bit_pricier', 'mixed_green', 'blue_hairs', 'chanterelle', 'evident', 'chocolatey', 'nice_alternative', 'loco', 'zone', 'better_options', 'area_located', 'promote', 'servers_know', 'locations_one', 'spicy_enough', 'excited_found', 'pischke', 'pet_peeve', 'sw', 'vegetarian_plate', 'daphne', 'sings', 'havana', 'excited_new', 'service_terrible', 'cause_place', 'worth_try', 'much_easier', 'bang', 'tripe', 'cred', 'came_tiny', 'exposure', 'bread_start', 'mexicana', 'thanks_everyone', 'could_least', 'ordered_spinach', 'aaron', 'waited_another', 'subdue', 'place_consider', 'guess_ordered', 'soy_ice', 'size_group', 'speck', 'noodle_bowl', 'freezer_section', 'physical', 'less_four', 'lightweight', 'friends_usually', 'busy_took', 'look_make', 'roscoe', 'lot_character', 'super_fresh', 'salads_fish', 'poise', 'fancier', 'mushroom_appetizer', 'asado', 'infamous', 'intel', 'devine', 'new_zealand', 'took_min', 'dressing_side', 'salads_came', 'min_get', 'construct', 'great_steakhouse', 'time_eaten', 'shopping_area', 'least_weekend', 'share_experience', 'small_corn', 'inconsistency', 'strait', 'cordon_bleu', 'following_day', 'walking_door', 'american_fare', 'heed', 'clarendon_hotel', 'dinner_brunch', 'would_appreciate', 'edgy', 'wine_bars', 'roasted_turkey', 'rice_black', 'waiting_order', 'place_legit', 'worry_getting', 'two_kids', 'prepped', 'lets_try', 'perfectly_crunchy', 'chill_spot', 'americano', 'ftw', 'tendency', 'cook_pasta', 'bland_sauce', 'would_buy', 'think_name', 'waitress_attentive', 'blending', 'rental', 'foam', 'take_longer', 'day_dinner', 'even_waiting', 'pieces_pita', 'way_look', 'creamer', 'spanikopita', 'meet_new', 'made_wish', 'waitresses_always', 'meatball_sub', 'godfather', 'helper', 'place_million', 'soon_walk', 'tomato_cucumber', 'boar_head', 'new_yorkers', 'phoenix_hrid', 'best_world', 'restaurants_phoenix', 'wanting_come', 'three_burgers', 'told_way', 'envision', 'dinner_club', 'order_called', 'environmental', 'yet_soft', 'worthless', 'meeting_friends', 'knowledgeable_menu', 'reviews_say', 'taste_quality', 'lovely_evening', 'st_time', 'yeah_really', 'screwed_order', 'nice_tender', 'told_order', 'seafood_tower', 'must_start', 'decent_bbq', 'bialy', 'chantilly_cream', 'chocolate_lava', 'destroy', 'awkwardly', 'ordered_pizzas', 'fill_bread', 'creamy_delicious', 'sat_inside', 'tables_bar', 'menu_changed', 'cafeteria_style', 'homemade_root', 'cool_interior', 'taking_time', 'said_someone', 'someone_wants', 'get_bottle', 'italian_sub', 'along_chicken', 'tub', 'day_everyday', 'parmesan_fries', 'chocolate_lover', 'past_saturday', 'disappeared_quickly', 'course_could', 'provolone_sandwich', 'wanted_nothing', 'attempt_make', 'delivery_driver', 'sauce_apparently', 'order_appetizers', 'sacrifice', 'commitment', 'great_mix', 'forget_get', 'everything_looks', 'mash_potatoes', 'make_mind', 'plenty_meat', 'expected_bit', 'guy_worked', 'review_chain', 'low_price', 'progress', 'crazy_cheap', 'pescatarian', 'vegan_restaurant', 'strong_drinks', 'flaw', 'place_watch', 'uno', 'shouldnt', 'nation', 'really_complain', 'love_pho', 'run_restaurant', 'etc_well', 'lunch_breakfast', 'hangover_food', 'burrito_joint', 'sounded_delish', 'said_perfect', 'expecting_much', 'chicken_instead', 'close_pm', 'cumin', 'size_small', 'bread_perfect', 'mind_blowing', 'tool', 'popover', 'soup_also', 'dinner_plate', 'authentic_delicious', 'see_real', 'farmers_market', 'favorite_pho', 'mojo_bowl', 'given_number', 'friendly_welcoming', 'one_biggest', 'breakfast_matt', 'experience_excellent', 'business_shows', 'found_anywhere', 'dismay', 'give_extra', 'returned_another', 'whatever_meat', 'sweet_sticky', 'sofa', 'usually_come', 'fig_prosciutto', 'yet_modern', 'meal_overall', 'waiter_first', 'smallish', 'broiled_chicken', 'bogi', 'regular_pizza', 'food_arrives', 'trendy_restaurant', 'pretty_full', 'often_call', 'weekends_ago', 'tech', 'pretend_know', 'prepared_dishes', 'large_bowl', 'bean_curd', 'still_pleasant', 'hope_kee', 'chinese_new', 'taco_salad', 'meat_tasted', 'careful_order', 'mekong_plaza', 'probably_come', 'day_lunch', 'cheap_drinks', 'normally_eat', 'poor_reviews', 'carlos_briens', 'understatement', 'drink_list', 'incentive', 'also_note', 'food_solid', 'back_another', 'terrific_food', 'somewhat_close', 'liked_enjoyed', 'tang', 'translation', 'truely', 'tomatoes_etc', 'convienent', 'honey_walnut', 'moments_later', 'wall_family', 'peruvian', 'inside_door', 'live_nearby', 'servers_friendly', 'low_fat', 'yeah_yeah', 'italian_meats', 'sweet_pea', 'goer', 'christmas_eve', 'steak_portions', 'one_complain', 'cost_know', 'sought', 'noodles_ranch', 'chef_andre', 'roost', 'brunch_place', 'regime', 'mind_waiting', 'lightly_flavored', 'fry_sauce', 'explain_choice', 'safe_first', 'definitely_family', 'fontina_burger', 'suburban', 'chicken_perfectly', 'crisis', 'monday_afternoon', 'need_take', 'routine', 'two_top', 'burger_company', 'cheuvront', 'kiddo', 'pizza_far', 'try_sell', 'one_tatum', 'casual_meal', 'preface_saying', 'viet', 'contemplate', 'wall_type', 'came_check', 'although_think', 'salmon_cooked', 'self_service', 'tastiest', 'maple_syrup', 'resturaunt', 'grape_leaves', 'strangest', 'fresh_spring', 'dont_care', 'get_anywhere', 'jamming', 'freaking_awesome', 'menu_simple', 'side_gravy', 'order_placed', 'drinks_refilled', 'small_steak', 'restaurant_scottsdale', 'different_options', 'coolest', 'clove', 'al_chicago', 'economical', 'thing_tasted', 'new_places', 'friendly_patient', 'one_girls', 'chardonnay', 'thing_saved', 'awfully', 'feeling_full', 'headache', 'ling', 'always_quick', 'gelatos', 'fresh_either', 'delicious_things', 'bar_plenty', 'always_treated', 'nice_gesture', 'accommodate_us', 'glad_find', 'especially_happy', 'complex_flavor', 'besides_great', 'curve', 'taking_home', 'topless', 'friday_pm', 'backwards', 'breakfast_bagel', 'leak', 'order_upon', 'hard_eat', 'flavor_could', 'balcony', 'quickly_got', 'sandwich_lunch', 'fast_casual', 'better_yet', 'literally_best', 'expected_get', 'burgers_pizza', 'clean_pretty', 'pizzas_salads', 'garlic_bread', 'moved_onto', 'lick_plate', 'taste_anything', 'whirl', 'tucked_strip', 'stop_going', 'walked_seated', 'works_quite', 'yet_bad', 'wifey', 'like_expected', 'banana_bread', 'overly_full', 'able_enjoy', 'frantic', 'box_comes', 'fried_fish', 'better_ones', 'dean', 'quiet_little', 'take_family', 'free_breakfast', 'set_apart', 'tiny_bit', 'layered_top', 'checking_menu', 'latino', 'cane', 'cheese_tomato', 'official', 'paper_towels', 'oaxaca', 'intend_return', 'pretty_lousy', 'testament', 'swoon', 'fruit_salad', 'forth', 'business_owners', 'bread_gets', 'choice_cheese', 'shame_food', 'mr_drifty', 'hopped', 'put_order', 'ordered_steak', 'dry_hands', 'entrees_range', 'shrimp_po', 'awesome_fresh', 'flank', 'acknowledge_us', 'salad_lettuce', 'excess', 'payton', 'yet_let', 'changing_hands', 'note_self', 'got_ignored', 'barrumunda', 'iced_teas', 'cask', 'dinner_need', 'return_visit', 'crispy_shrimp', 'kind_disappointed', 'us_split', 'ham_egg', 'came_fast', 'expertly', 'asked_long', 'certainly_go', 'portions_price', 'good_spectacular', 'priceless', 'mishap', 'see_hype', 'little_uncomfortable', 'grand_marnier', 'plan_spend', 'companion_ordered', 'revolve', 'immediately_ordered', 'bacon_cheddar', 'sweet_cream', 'times_first', 'snake', 'ponder', 'dramatically', 'definitely_feels', 'good_healthy', 'grilled_bread', 'cleverly', 'went_second', 'jumbo_shrimp', 'grainy', 'cocktail_sauce', 'stale_bread', 'glass_ice', 'vietnamese_places', 'getting_know', 'fries_awesome', 'meat_actually', 'always_willing', 'portobello', 'communication', 'mascarpone_fig', 'sausage_pepperoni', 'super_clean', 'supplier', 'old_farts', 'young_old', 'fancy_schmancy', 'cute_names', 'hand_painted', 'mostly_due', 'think_mom', 'others_noted', 'cashew', 'hungry_want', 'back_office', 'clever', 'excellent_quality', 'luncheon', 'bacon_crisp', 'everything_wonderful', 'would_anyone', 'nowhere_found', 'order_online', 'sure_stop', 'rubber', 'pong', 'bowling', 'monitor', 'common_sense', 'back_entrance', 'hushpuppy', 'chicken_rotisserie', 'fame', 'beautiful_patio', 'tapas_style', 'aggressive', 'wildlife', 'place_anyone', 'less_average', 'date_pretty', 'tasty_satisfying', 'nightly_specials', 'went_pay', 'bucco', 'said_give', 'lamb_chicken', 'get_excited', 'farmer', 'think_enjoy', 'much_often', 'people_seated', 'people_either', 'real_estate', 'college_bar', 'lunch_meeting', 'really_shocked', 'us_actually', 'creative_delicious', 'meal_comes', 'sausage_sandwich', 'name_says', 'one_ingredient', 'dense_light', 'disappointed_bread', 'location_brought', 'least_another', 'two_locations', 'stars_four', 'long_review', 'slang', 'watering_thinking', 'retard', 'toasted_sandwich', 'torta_best', 'rum_cokes', 'staple_mexican', 'better_regular', 'amazing_light', 'tried_least', 'suggested_place', 'fun_lively', 'attentive_even', 'maybe_see', 'ace', 'salad_decent', 'hummus_plate', 'awhile_back', 'valet_car', 'got_combo', 'sampling_different', 'hippie', 'blue_hound', 'work_art', 'boyfriend_like', 'biggest_fan', 'spicy_though', 'easy_going', 'pine_nuts', 'relatively_quickly', 'slob', 'overbear', 'went_ahead', 'anywho', 'got_egg', 'back_future', 'hard_decide', 'expect_wait', 'near_bar', 'told_took', 'lot_vegetarian', 'sure_new', 'went_morning', 'bolero', 'roll_seriously', 'quail_eggs', 'fries_drink', 'crispy_light', 'much_business', 'hatch_green', 'time_goes', 'comment_service', 'qc', 'high_backed', 'taco_plate', 'pretty_pricey', 'tastes_every', 'almost_years', 'lots_options', 'lunch_tomorrow', 'cheese_instead', 'play_great', 'horrendous', 'nothing_stood', 'muscle', 'awesome_prices', 'hummus_chicken', 'omfg', 'one_reviewer', 'venture_try', 'caught_bad', 'order_ask', 'carbonation', 'charcuterie', 'h', 'soon_enough', 'new_business', 'everything_comes', 'hyper', 'best_vietnamese', 'average_mexican', 'way_put', 'advice_would', 'jalepeno', 'rice_orange', 'packed_flavor', 'may_come', 'peak_times', 'extremely_small', 'traditional_italian', 'little_nervous', 'picked_place', 'area_town', 'finely', 'coworkers_went', 'night_wife', 'servers_super', 'asked_see', 'extra_cheese', 'exactly_ordered', 'others_mentioned', 'food_inexpensive', 'really_expect', 'style_deli', 'like_watching', 'summer_rolls', 'far_enough', 'disease', 'greeted_warmly', 'pleasure_meeting', 'nigiri_good', 'chicken_dry', 'congratulation', 'meat_bread', 'sauce_perfectly', 'involves', 'list_first', 'main_entree', 'talkative', 'quality_fish', 'entrees_came', 'different_foods', 'nom_nom', 'appetizer_tomato', 'royale_cheese', 'dearly', 'ice_lemon', 'staff_members', 'give_guys', 'sat_indoors', 'went_wife', 'plus_tip', 'tuck', 'speedy_service', 'meat_high', 'inspiration', 'stella_artois', 'parlor', 'bottle_vino', 'club_sandwich', 'bruschetta_die', 'postino_arcadia', 'swayed', 'people_front', 'place_feels', 'knew_wanted', 'bacon_burger', 'upon_ordering', 'asked_hot', 'food_sucks', 'insert', 'chips_actually', 'need_check', 'outdoor_dining', 'rode_bikes', 'rearrange', 'know_secret', 'move_back', 'apple_juice', 'fact_really', 'little_hard', 'speciality', 'burger_awesome', 'try_glad', 'cause_could', 'voted_best', 'continue_go', 'language_barrier', 'standard_selection', 'certificate', 'large_tables', 'lemon_chicken', 'previous_restaurant', 'enchant', 'yummers', 'min_drive', 'crumbles', 'chili_verde', 'somewhere_different', 'year_wedding', 'sister_ordered', 'reviews_know', 'moldy', 'typical_deli', 'bucks_two', 'sometime_soon', 'surpass', 'dungeness_crab', 'bk', 'couple_bucks', 'katie', 'frugal', 'live_chicago', 'se', 'suggest_try', 'free_appetizer', 'vegetarian_friends', 'keep_cool', 'screwing_order', 'ridiculous_amount', 'imagine_surprise', 'dt', 'provolone_hot', 'veggie_sandwiches', 'serve_alcohol', 'asked_bartender', 'super_special', 'accoutrement', 'expensive_meal', 'especially_liked', 'shoot_pool', 'play_games', 'unless_get', 'salmon_salmon', 'balsamic_vinegar', 'excellent_especially', 'back_door', 'fries_http', 'delivery_area', 'table_near', 'wife_shared', 'melrose', 'moved_scottsdale', 'pork_katsu', 'local_restaurants', 'might_come', 'waiting_customers', 'rundown', 'enough_staff', 'lava_cake', 'diamondback', 'never_met', 'unremarkable', 'waiter_waitress', 'matzoh_ball', 'almost_hour', 'friendly_prompt', 'happy_anniversary', 'bentos', 'spend_hours', 'hence_name', 'provided_one', 'snap_peas', 'minnesota', 'drinks_patio', 'ritas', 'entrée', 'huge_plate', 'soup_comes', 'go_carne', 'full_dessert', 'viking', 'huge_sandwiches', 'fresh_perfectly', 'little_late', 'however_want', 'sets_place', 'waitress_helpful', 'va', 'moved_valley', 'sabzi', 'marty', 'greene_house', 'came_quickly', 'interior_also', 'lend', 'espresso_machine', 'beautifully_decorated', 'bring_appetite', 'yet_disappointed', 'server_knew', 'ribs_bbq', 'two_margaritas', 'give_free', 'soju', 'never_given', 'chopped_liver', 'pretty_gross', 'tasty_homemade', 'longer_eating', 'worked_years', 'one_mill', 'absolute_must', 'solidly', 'kfc', 'two_dozen', 'light_sauce', 'go_subway', 'restore', 'nursing_hangover', 'bacado', 'relay', 'turn_music', 'battered_fried', 'hell_also', 'prior_today', 'black_tea', 'medical', 'date_started', 'real_ny', 'return_recommend', 'else_menu', 'old_chicago', 'attentive_servers', 'internship', 'ireland', 'dennis', 'best_kept', 'italian_kitchen', 'overboard', 'challah', 'seemed_fresh', 'small_plate', 'dip_appetizer', 'always_interesting', 'past_friday', 'crusty_outside', 'far_tell', 'brioni', 'enough_give', 'ingredients_seem', 'desert_jade', 'like_ray', 'flavor_combinations', 'alice_cooperstown', 'cheerfully', 'right_walk', 'grease_pizza', 'service_pleasant', 'say_impressed', 'clean_spacious', 'business_staff', 'traditional_dish', 'fresh_mint', 'improves', 'breezy', 'methinks', 'pork_spicy', 'scampi', 'service_equally', 'live_north', 'go_veggie', 'everything_including', 'quantity_food', 'several_plates', 'extremely_nice', 'teharu', 'great_brisket', 'feel_need', 'free_dinner', 'breaded_chicken', 'extra_charge', 'literally_fell', 'wasabe', 'rolls_sushi', 'glad_tried', 'forgot_mention', 'tuna_tataki', 'tasted_fishy', 'lunch_sat', 'truly_unique', 'chocolate_martini', 'stuffed_chicken', 'rhone', 'potato_chips', 'gina', 'every_sense', 'twice_first', 'mighty_tasty', 'going_away', 'two_sauces', 'customers_employees', 'recommend_highly', 'without_saying', 'crave_worthy', 'spot_still', 'suitable', 'experiment', 'logo', 'ribs_tender', 'rey', 'spicy_although', 'house_salads', 'pancit', 'field_greens', 'eggs_potatoes', 'karey', 'plus_tax', 'scottsdale_need', 'wanda', 'hot_waitresses', 'cellar', 'miner', 'bar_dark', 'prices_seem', 'return_trip', 'order_garlic', 'cooked_perfect', 'pappadeux', 'another_bite', 'tried_bite', 'decided_forgo', 'lobster_tail', 'beef_hot', 'taco_meat', 'wanted_give', 'gamble', 'oldtown', 'wood_paneling', 'jolly', 'last_evening', 'chile_rellenos', 'sure_bet', 'happiness', 'drinks_drinks', 'south_side', 'packed_meat', 'reiterate', 'pizza_mediocre', 'piece_steak', 'sides_also', 'says_oh', 'time_enjoy', 'radio', 'fattier', 'menu_ordering', 'terrible_experience', 'bar_stools', 'material', 'helpful_first', 'healthier_options', 'corn_dogs', 'neither_things', 'schnitzel', 'waitress_fantastic', 'tables_full', 'classy_joint', 'prompt_food', 'sure_ask', 'different_point', 'tuscany', 'bread_yummy', 'giardiniera', 'kid_menu', 'cost_extra', 'seen_lot', 'flavorful_sauce', 'cyclo', 'eat_daily', 'filled_shrimp', 'weary', 'favorite_spots', 'much_needed', 'wine_cellar', 'cheapest_lunch', 'ernie', 'change_name', 'making_way', 'still_give', 'use_color', 'flat_rice', 'tables_close', 'price_paid', 'better_worse', 'house_margaritas', 'fowl', 'seem_get', 'seriously_amazing', 'everyone_says', 'night_friends', 'simple_ingredients', 'simplistic', 'best_fish', 'saying', 'expect_pay', 'first_started', 'brak', 'closed_sundays', 'principle', 'parking_valet', 'small_pizza', 'tent', 'believe_hype', 'usually_eat', 'sure_everything', 'large_salad', 'basil_pesto', 'el_chorro', 'guy_told', 'guy_took', 'busy_waited', 'gasp', 'roasted_eggplant', 'personable_attentive', 'pizza_absolutely', 'awhatukee', 'lady_gaga', 'way_felt', 'cioppino', 'got_red', 'higher_quality', 'lord', 'creme_brule', 'singapore_noodles', 'door_minutes', 'even_heard', 'however_still', 'scottsdale_find', 'receives', 'vegan_burrito', 'file', 'would_compare', 'restaurant_remember', 'bring_small', 'low_calorie', 'really_knew', 'totally_cool', 'mexican_meal', 'small_inside', 'kicked_ass', 'also_impressed', 'side_fries', 'asked_beer', 'onion_tart', 'bat', 'nacho_cheese', 'mozzarella_sticks', 'thou_shalt', 'adjective', 'hot_pepper', 'hour_specials', 'de_la', 'upper', 'kalamata_sandwich', 'selection_items', 'thought_prices', 'hate_place', 'gave_two', 'velvety', 'postino_central', 'never_forget', 'great_kick', 'location_however', 'always_flavorful', 'always_moist', 'ask_wanted', 'roasted_garlic', 'oak', 'tip_service', 'times_past', 'yoga', 'thin_sliced', 'adorable_little', 'bar_maybe', 'ff', 'instead_chicken', 'tom_ka', 'make_note', 'family_likes', 'americana', 'pizza_ever', 'fairly_quick', 'instead_ordering', 'lunch_spots', 'assorted_tempura', 'cooked_pork', 'recently_got', 'time_trying', 'lettuce_cups', 'craft_brews', 'depending_order', 'set_go', 'spur', 'lets_say', 'garlic_shrimp', 'broth_good', 'couple_drinks', 'entrees_sides', 'forgot_called', 'much_bigger', 'rad', 'little_kids', 'best_egg', 'useless', 'wont_go', 'minutes_getting', 'personally_enjoyed', 'near_downtown', 'attentive_helpful', 'highway', 'far_worst', 'actually_bad', 'iceburg', 'cranberry_sauce', 'want_leave', 'untrained', 'watch_people', 'fluid', 'make_eye', 'tendon', 'god_bless', 'restaurants_opening', 'pay_bill', 'decrease', 'nearly_hours', 'give_business', 'aid', 'couple_different', 'sold_us', 'perhaps_little', 'squid', 'outdoor_area', 'mouth_one', 'decor_ambience', 'urinal', 'went_wednesday', 'getaway', 'overall_vibe', 'gf_ordered', 'somebody_else', 'blue_eyes', 'dinner_usually', 'pizzaria_bianco', 'bacon_awesome', 'jab', 'much_smaller', 'carefully_crafted', 'indoor_dining', 'salsa_comes', 'corn_cakes', 'greeted_server', 'th_floor', 'elevator', 'one_cannot', 'waitress_finally', 'twenty_minutes', 'get_water', 'eye_contact', 'sat_greeted', 'diamond_rough', 'waaaaay', 'making_new', 'mixed_together', 'served_perfectly', 'would_cut', 'owner_wife', 'need_eat', 'let_talk', 'took_friends', 'cheese_fries', 'veggie_taco', 'steak_fries', 'gluttony', 'without_problem', 'ass', 'real_gem', 'even_remotely', 'unknowingly', 'ice_water', 'baseball_game', 'didnt_know', 'considering_many', 'toe', 'place_quiet', 'also_heard', 'table_cloth', 'imaginable', 'sirloin_steak', 'enchiladas_chicken', 'ever_return', 'us_leave', 'apologized_wait', 'hot_rock', 'guy_came', 'lb_burger', 'order_regular', 'bit_spicy', 'help_get', 'twice_year', 'slightly_higher', 'pasta_salads', 'linen', 'draft_beers', 'dried_cranberries', 'want_bring', 'kid_meal', 'cool_vibe', 'overcrowd', 'piece_heaven', 'pretty_simple', 'first_ate', 'comfortable_seating', 'variety_menu', 'pick_stix', 'today_got', 'hubs_got', 'mojo', 'caveat', 'fried_wontons', 'bolognese', 'revive', 'moment_walk', 'standing_line', 'roys', 'done_eating', 'type_meat', 'go_easy', 'know_authentic', 'sodium', 'smelly', 'quite_sure', 'lots_variety', 'three_pieces', 'consult', 'expect_place', 'since_put', 'pickle_spear', 'asiago', 'main_drag', 'marriott', 'babaloo', 'scottsdalish', 'relies', 'dinner_family', 'guy_next', 'another_visit', 'orange_grocery', 'visiting_scottsdale', 'punch_card', 'friendly_although', 'greasy_burger', 'com_tam', 'helpful_staff', 'fresh_tomatoes', 'alberto', 'live_without', 'couple_blocks', 'area_worth', 'side_street', 'calle_dieciseis', 'steer_clear', 'tad_slow', 'rd_time', 'daughter_got', 'sure_hope', 'bill_comes', 'read_yelp', 'creature_habit', 'could_write', 'hog_chick', 'perfect_breakfast', 'sonoran', 'got_bill', 'pizza_dough', 'tame', 'waitress_asked', 'shot_glass', 'give_star', 'additional_minutes', 'esparza', 'course_tried', 'taste_china', 'order_extra', 'two_glasses', 'trying_figure', 'like_farm', 'carne_fries', 'order_wrong', 'loved_chips', 'went_recommendation', 'chai_coffee', 'extra_dollar', 'every_often', 'shaved_ice', 'hollywood', 'golfing', 'niro', 'daughter_loved', 'fat_gristle', 'gyro_plate', 'entering_restaurant', 'cannot_tell', 'valley_ho', 'cafe_zuzu', 'large_drink', 'fresh_frozen', 'black_cod', 'edamame_dumplings', 'philosophy', 'mega', 'movie_theaters', 'skilled', 'place_disappoint', 'see_ya', 'split_us', 'phone_rang', 'overwork', 'perch', 'try_things', 'squish', 'us_arrived', 'old_farm', 'two_bouncers', 'today_sat', 'shrimp_roll', 'tasty_portions', 'fried_bananas', 'bfp', 'aloha', 'head_chef', 'resort_spa', 'dirty_chips', 'barbecued_pork', 'coldplay', 'bad_bad', 'walk_away', 'looked_interesting', 'fundito', 'ordered_beef', 'stars_stars', 'spanish_rice', 'strawberry_fields', 'pork_shoulder', 'bulb', 'trail', 'dangerously', 'panang', 'else_next', 'us_received', 'favor_try', 'maitre', 'husband_finished', 'fan_pizza', 'top_sirloin', 'swears', 'definitively', 'holler', 'margarita_made', 'smashfries', 'us_end', 'often_enough', 'vinegar_based', 'staff_chef', 'start_pretty', 'reservations_well', 'premade', 'arabic', 'apparently_one', 'colossal', 'night_club', 'whipped_potatoes', 'burger_free', 'veteran', 'meat_dish', 'tweet', 'sloppy_joe', 'neds', 'pate_plate', 'hearty_portion', 'signature_dishes', 'lafayette', 'cheesy_grits', 'masseuse', 'menu_looks', 'kebab', 'family_oriented', 'seamus', 'salsa_verde', 'maricopa', 'chocolate_croissant', 'smarter', 'ethiopia', 'greasewood_flat', 'james_beard', 'udupai_cafe', 'smell_taste', 'pumpkin_custard', 'along_way', 'never_ending', 'adjustment', 'wy_knot', 'carmel_bianca', 'brushetta', 'moes', 'busy_saturday', 'sombrero', 'sketchy_tempe', 'tasting', 'cooperstown', 'siem_reap', 'absolutely_made', 'may_need', 'perfectly_crispy', 'felt_little', 'lightly_seared', 'great_combination', 'grassroots', 'jager', 'union', 'fun_drinks', 'would_walked', 'drinks_friends', 'substitute_meat', 'took_another', 'ketel_one', 'thing_sometimes', 'private_eye', 'september_th', 'johnny_rockets', 'forever_get', 'sekong_night', 'pork_fried', 'katheaw_cha', 'mango_tango', 'idea_people', 'breakfast_choices', 'housemade', 'please_everyone', 'many_reasons', 'grip', 'tends_get', 'kitchen_even', 'hate_job', 'maybe_ordered', 'charge_chips', 'slow_time', 'harvey', 'accepts_plastic', 'china_town', 'attendant', 'golden_tee', 'dogfish', 'giving_restaurant', 'tequila_bar', 'creamy_variety', 'definitely_better', 'beautiful_clean', 'give_dessert', 'youngest', 'near_office', 'value_great', 'tasting_really', 'patio_lunch', 'idea_expect', 'chambord_margarita', 'wimp', 'comes_hot', 'bit_bigger', 'unimpressive', 'calamari_salad', 'people_behind', 'heartier', 'salads_burgers', 'frozen_drinks', 'impress_date', 'steak_dish', 'told_wanted', 'half_order', 'portland', 'delish_also', 'ordered_grey', 'chili_cornbread', 'meal_instead', 'reading_review', 'compete', 'heck_get', 'devil_shrimp', 'bring_table', 'less_hour', 'roll_spicy', 'machine_broken', 'clean_tables', 'somehow_managed', 'poncho', 'someburros', 'lots_choices', 'great_recommendations', 'rick', 'macadamia_nuts', 'real_name', 'looked_around', 'bit_chilly', 'beautiful_restaurant', 'jay', 'use_butter', 'least_think', 'sake_bombers', 'main_bar', 'approx', 'bring_large', 'santa', 'oh_almost', 'cheese_tasted', 'variety_things', 'nam_sao', 'mother_law', 'oprah', 'although_thought', 'drinks_dinner', 'sandwich_fries', 'fresh_authentic', 'shuffleboard_pool', 'ufc_fight', 'cheese_dip', 'portion_well', 'cold_winter', 'gourmet_burger', 'closed_sunday', 'parking_much', 'dinner_around', 'soften', 'hard_crunchy', 'like_duck', 'texture_flavor', 'good_vietnamese', 'much_dismay', 'vegetarian_entrees', 'wifi', 'hmmmm', 'also_outdoor', 'open_fire', 'closely', 'recently_ordered', 'gelatinous', 'couple_guys', 'lots_tv', 'add_insult', 'lotus', 'shochu', 'richard_cho', 'order_mixed', 'spendy', 'existence', 'honey_bbq', 'natalie', 'asked_seated', 'beau', 'rainy', 'huckleberry', 'place_cozy', 'place_terrible', 'injury', 'ordered_pad', 'service_spotty', 'really_interesting', 'attire', 'coal', 'waitress_recommended', 'phx_mag', 'southwestern_food', 'room_temp', 'service_generally', 'pieces_french', 'mediocre_service', 'man_wish', 'interesting_really', 'misir_watt', 'vegetarian_friendly', 'top_five', 'weather_great', 'leap', 'hate_say', 'swedish', 'lump', 'bobbie', 'couple_miles', 'huge_variety', 'taneko', 'open_another', 'cheez_wiz', 'opportunity_try', 'beaver_choice', 'intact', 'little_plain', 'tasty_albeit', 'huge_patio', 'tabasco', 'techno', 'dilly_bird', 'fairly_quickly', 'espresso_cup', 'blazin_buffalo', 'thought_awesome', 'wife_tells', 'greeted_friendly', 'live_neighborhood', 'asked_knew', 'garner', 'groupon_place', 'ever_received', 'corkage_fee', 'soo_good', 'glitter', 'soothe', 'balsamic_dressing', 'excitedly', 'cover_charge', 'alright_nothing', 'never_offered', 'little_girl', 'care_every', 'better_thai', 'described_menu', 'nice_glass', 'table_window', 'wait_check', 'martini_glass', 'reel', 'quick_meal', 'side_orders', 'scottish', 'say_wont', 'extremly', 'carlsbad_tavern', 'enough_bring', 'orgy', 'chianti', 'even_managed', 'habaneros', 'fetch', 'yukon', 'breakfast_item', 'run_strip', 'tomatoes_olives', 'assault', 'please_open', 'roka_akor', 'fall_love', 'maui_dog', 'breakfast_items', 'mainstream', 'garage_door', 'dessert_big', 'mile_away', 'eat_deal', 'pizza_phoenix', 'telling_friends', 'panini_good', 'salsiccia', 'needed_anything', 'juan', 'behind_us', 'quest_find', 'boisterous', 'edge_bar', 'ever_give', 'swift', 'rest_assured', 'wino', 'love_oregano', 'large_glass', 'visual', 'reading_many', 'fire_place', 'staff_top', 'good_lighting', 'spite', 'opinion_one', 'well_executed', 'large_amount', 'harm', 'tender_sauce', 'tacos_al', 'carbon', 'tasteless_food', 'gruyere_cheese', 'da_bomb', 'throughout_year', 'hour_drive', 'progressive', 'cherry_top', 'years_old', 'among_others', 'truly_appreciate', 'guacamole_best', 'shumai', 'second_glass', 'breakfast_potatoes', 'place_low', 'entire_table', 'lunch_breaks', 'live_chandler', 'grew_new', 'take_kids', 'dessert_bar', 'triangle', 'equally_awesome', 'noodles_rice', 'frequent_location', 'new_ones', 'vinegary', 'cheese_basil', 'two_tiny', 'would_hope', 'eaten_times', 'bar_comfortable', 'snickerdoodle_cookie', 'back_trying', 'found_someone', 'somewhere_new', 'tokyo_lobby', 'grazing', 'everything_super', 'prices_quite', 'working_class', 'way_intended', 'love_bruschetta', 'mazing', 'spicy_mustard', 'combination_sweet', 'right_heart', 'fitting', 'sandwiches_ever', 'spicy_scallop', 'wine_flights', 'geisha', 'there', 'use_bathroom', 'eatin', 'lesbian', 'grab_quick', 'general_store', 'pinnacle_peak', 'one_faves', 'long_since', 'everything_freshly', 'new_fave', 'pretty_blah', 'dissipate', 'recently_took', 'ashamed_say', 'patronize_place', 'plates_came', 'alex', 'burger_ever', 'waitress_bartender', 'extract', 'flatten', 'mwkzajaq_select', 'biz_photos_zse', 'arcadia_area', 'nearly_empty', 'nice_guy', 'chips_hot', 'mi_patio', 'end_table', 'tacos_also', 'par_course', 'pear_cider', 'june', 'takes_great', 'demand_get', 'way_salty', 'wet_like', 'damn_back', 'large_screen', 'assistance', 'would_expected', 'want_see', 'victoria', 'must_give', 'kindness', 'fave_chicken', 'order_share', 'seabass', 'grilled_zucchini', 'want_god', 'believe_things', 'sandwich_huge', 'asian_girls', 'many_others', 'food_highly', 'part_restaurant', 'people_need', 'location_closed', 'meal_past', 'even_picky', 'lot_choose', 'little_overwhelming', 'whatever_special', 'right_wrong', 'lemme_tell', 'exposed_brick', 'kept_thinking', 'friends_enjoy', 'roam', 'seated_table', 'two_choices', 'menu_offerings', 'tempura_roll', 'items_must', 'refund_money', 'burritoes', 'found_hair', 'bartender_took', 'drink_told', 'another_drink', 'god_sake', 'people_party', 'think_speak', 'exactly_need', 'still_enjoyed', 'get_crowded', 'horrid', 'early_enough', 'kitchen_table', 'carpet', 'udupi', 'small_bar', 'gavin', 'offer_small', 'everything_serve', 'served_promptly', 'tomato_bisque', 'harlow', 'bad_thought', 'staff_fast', 'extremely_tasty', 'somebody', 'days_later', 'red_chicken', 'pickled_onions', 'nice_sized', 'mellow_mushroom', 'bacon_cheeseburger', 'fried_perfectly', 'front_desk', 'tip_paid', 'smelling_like', 'raw_onions', 'side_building', 'thier', 'wine_drinker', 'dinner_thai', 'combine_two', 'something_completely', 'wanted_take', 'take_reservations', 'guedo', 'tailor', 'identity', 'dinner_rush', 'heh', 'living_valley', 'alice_cooper', 'realize_place', 'amber_ale', 'well_balanced', 'red_potatoes', 'modern_decor', 'little_cup', 'find_anywhere', 'exactly_sure', 'standard_burger', 'cubed', 'even_care', 'private_karaoke', 'luis', 'rich_full', 'presumably', 'said_truth', 'sauteed_onions', 'garlic_rosemary', 'never_gotten', 'might_need', 'chilly_night', 'christmas_lights', 'mutton', 'quick_take', 'friend_told', 'ramen_noodles', 'south_phoenix', 'nicely_cooked', 'nicely_seasoned', 'fake_meat', 'pussy', 'tempranillo', 'pesto_pasta', 'stabbed', 'still_left', 'lemon_garlic', 'swallow', 'carmel_sauce', 'overall_say', 'independently_owned', 'places_tried', 'cauliflower_soup', 'chatted_us', 'bursting', 'get_hands', 'liquor_store', 'time_leave', 'hound', 'firecracker', 'yes_know', 'deli_style', 'average_restaurant', 'turkey_club', 'staff_brought', 'brought_small', 'day_long', 'usual_suspects', 'firm_believer', 'indian_paradise', 'want_risk', 'scanned_menu', 'basil_mint', 'butter_party', 'tasted_ok', 'seated_minutes', 'minutes_finally', 'barking', 'functional', 'prick', 'types_food', 'middle_order', 'quickly_seated', 'bun_thit', 'red_yellow', 'guess_never', 'got_large', 'creates', 'someone_actually', 'party_arrived', 'person_table', 'husband_going', 'mini_corn', 'werent', 'seriously_delicious', 'weekends_place', 'blazing_hot', 'guys_work', 'pine_nut', 'pesto_pizza', 'area_craving', 'smash_fries', 'crust_perfect', 'grilled_veggie', 'ham_eggs', 'second_round', 'hide_behind', 'ordered_signature', 'could_afford', 'grapefruit_juice', 'nectar', 'airline', 'better_quality', 'gourmet_burgers', 'sensitive', 'yumminess', 'half_way', 'fries_instead', 'server_disappeared', 'cinnamon_sauce', 'casual_environment', 'us_already', 'restaurant_stood', 'go_across', 'viet_food', 'rare_beef', 'displayed', 'slightly_bland', 'chicken_panini', 'host_staff', 'rolls_tasty', 'started_take', 'little_intimidating', 'korean_dishes', 'greedy', 'prices_high', 'maestro', 'menu_small', 'phenomenal_great', 'chicken_cheesesteak', 'subsequently', 'otherwise_would', 'trouble_deciding', 'minty', 'whole_concept', 'steered_us', 'parking_pain', 'love_concept', 'elect', 'canyon', 'aisle', 'past_two', 'cafe_monarch', 'scottsdale_area', 'grilled_vegetable', 'bit_surprised', 'cf', 'weed', 'art_work', 'comfy_booths', 'enjoy_eating', 'healthiest', 'great_seasoning', 'two_dishes', 'elliot', 'hover', 'lactose_intolerant', 'big_eater', 'italian_joint', 'bite_stare', 'selection_beer', 'crustini', 'really_weird', 'sunshine', 'hot_chocolate', 'human_food', 'kind_odd', 'walking_felt', 'meetup', 'strongly', 'utensils_napkins', 'big_bowl', 'mean_seriously', 'chicken_breasts', 'threaten', 'listed_website', 'west_coast', 'couple_things', 'twice_far', 'panera', 'marvel', 'far_tried', 'coleslaw_really', 'chose_chicken', 'cherry_tomatoes', 'expectations_high', 'warm_enough', 'exceptional_food', 'shrunk', 'open_bar', 'bar_grab', 'plenty_big', 'field_trip', 'bit_hard', 'asked_said', 'service_level', 'still_juicy', 'sol_sombra', 'curly_fries', 'folks_know', 'belgian', 'white_hot', 'told_problem', 'served_piping', 'slop', 'family_tradition', 'original_review', 'luau_pork', 'conscience', 'bar_crowd', 'applaud', 'sandwich_instead', 'pleasant_attentive', 'like_sake', 'salsa_best', 'rope', 'would_mind', 'limitation', 'never_give', 'grilled_mushrooms', 'tip_included', 'location_quite', 'went_pm', 'grilled_asparagus', 'sinfully', 'accompanying_rice', 'socal', 'kabuki', 'caught_attention', 'chandler_area', 'high_low', 'prob', 'margherita_tomato', 'mainland', 'northwest', 'get_along', 'best_authentic', 'insisted_go', 'yes_could', 'close_work', 'fried_eggs', 'cafe_back', 'tryst', 'chorizo_gravy', 'ladder', 'mad_men', 'canada', 'weekend_brunch', 'pork_tender', 'willing_give', 'uber_friendly', 'bruschetta_amazing', 'core', 'mexican_fare', 'eggs_easy', 'nogales', 'shown_table', 'buffet_items', 'offer_three', 'pv', 'eat_whenever', 'spot_phoenix', 'wonderful_flavor', 'restaurant_cute', 'phoned_order', 'getting_cold', 'road_trip', 'table_kept', 'big_pile', 'team_dinner', 'brussel_sprouts', 'prosecco', 'quality_product', 'take_offer', 'tommy', 'become_regular', 'first_class', 'bitchy', 'romantic_night', 'want_share', 'places_area', 'lasagne', 'make_effort', 'meld', 'little_chewy', 'perfect_atmosphere', 'dressing_amazing', 'grouper', 'flown', 'stylish', 'great_weather', 'achievement', 'restaurant_friend', 'noodles_beef', 'rainbow', 'desserts_wonderful', 'enough_take', 'dill_potato', 'may_miss', 'butter_sauce', 'large_pepperoni', 'alligator_meat', 'crispy_fried', 'delicious_however', 'fresh_healthy', 'gallina', 'best_deal', 'beautiful_building', 'coming_phoenix', 'like_joe', 'car_doors', 'health_food', 'gross_gross', 'one_shea', 'hit_happy', 'five_different', 'shaken', 'making_sushi', 'dessert_amazing', 'timing', 'open_faced', 'reviews_read', 'feeling_sick', 'two_baskets', 'promotion', 'pretty_late', 'definately_back', 'going_yelp', 'sashimi_good', 'list_things', 'life_short', 'tiny_bowl', 'let_honest', 'pick_something', 'way_done', 'tried_thai', 'halloween', 'like_california', 'bubble', 'freeze', 'decided_going', 'shrimp_dishes', 'open_sign', 'please_come', 'waterfall', 'bar_none', 'nice_laid', 'clearing', 'went_three', 'experience_give', 'turned_back', 'special_roasted', 'brag', 'super_helpful', 'outside_thought', 'might_suggest', 'get_dressed', 'bleeding', 'bryan', 'free_valet', 'tons_food', 'rarity', 'sanitary', 'proclaim', 'way_seasoned', 'sampler_platter', 'helpful_even', 'husband_likes', 'husband_enjoyed', 'get_craving', 'frighten', 'think_call', 'awesome_attentive', 'quick_drink', 'patrick', 'chipolte', 'opinion_would', 'hybrid', 'salmon_well', 'baker', 'obama', 'friend_recommended', 'applebees', 'please_make', 'place_chill', 'goes_wrong', 'maybe_bad', 'previous_reviewer', 'validate_parking', 'understands', 'teeny_tiny', 'seemed_really', 'thin_slices', 'thursday_afternoon', 'see_previous', 'like_heaven', 'area_decided', 'michelina', 'think_returning', 'play_along', 'cheese_guacamole', 'black_olives', 'came_said', 'shooter', 'atmosphere_cool', 'ambiance_restaurant', 'orders_came', 'checking_back', 'close_together', 'neighborhood_joint', 'owners_nice', 'mainly_due', 'bring_another', 'bbq_ribs', 'sr', 'spicy_noodle', 'plenty_delicious', 'misfortune', 'fried_banana', 'panna_cotta', 'creme_anglaise', 'buy_drink', 'toppings_cheese', 'meals_arrived', 'usually_couple', 'pretty_penny', 'going_spend', 'twice_long', 'capture', 'intensity', 'parmigiano_reggiano', 'rosa_red', 'yeah_little', 'pound_cake', 'super_picky', 'always_smiling', 'feel_special', 'places_sit', 'excellent_dishes', 'cu', 'twin', 'sandwiches_always', 'patio_pretty', 'give_break', 'another_friend', 'given_choice', 'inches_long', 'american_food', 'chicken_parmesan', 'chaotic', 'takes_lot', 'since_left', 'local_gem', 'using_local', 'prado', 'good_mention', 'pf_chang', 'usually_start', 'helpful_always', 'pork_stew', 'renegade_canteen', 'conditioner', 'ordered_carne', 'eyeball', 'rice_usually', 'pianist', 'sides_mac', 'brisket_pulled', 'sesame_seeds', 'interior_clean', 'amazing_truly', 'cheese_perfect', 'look_waiter', 'members_party', 'still_serving', 'try_avoid', 'passed_place', 'hours_later', 'tell_people', 'one_fav', 'see_anything', 'sauce_nothing', 'interesting_good', 'already_knew', 'crispy_noodles', 'eat_anything', 'promos', 'restaurant_beautiful', 'perfectly_toasted', 'jalapeno_slices', 'sumibiyaki', 'always_buy', 'mirugai', 'decided_stick', 'breakfast_morning', 'comes_meal', 'grated_cheese', 'proprietor', 'get_frozen', 'flavorless_food', 'classmate', 'could_split', 'bento', 'overall_meal', 'meat_rice', 'appetizer_excellent', 'also_sell', 'favorite_items', 'always_welcome', 'server_bartender', 'atmosphere_value', 'entrees_come', 'ordered_pie', 'unassuming_outside', 'uhm', 'discern', 'brought_friends', 'mouse', 'hence_stars', 'instead_five', 'trough', 'thirst', 'ponzu', 'looking_cheap', 'ginger_scallion', 'server_informed', 'thus_stars', 'slices_bacon', 'blow_away', 'messy_eat', 'tako', 'moved_back', 'yet_never', 'past_year', 'mexico_city', 'tap_bottle', 'video_game', 'many_stars', 'ruben', 'survives', 'ubiquitous', 'joints_like', 'pizza_toppings', 'eager_please', 'imply', 'pie_zanos', 'fridays_saturdays', 'order_hummus', 'welcomed_us', 'good_popular', 'hopefully_night', 'nightlife', 'put_effort', 'butcher', 'never_anyone', 'wings_good', 'checking_place', 'blow_mind', 'way_treated', 'key_place', 'lives_expectations', 'sandwich_okay', 'combination_flavors', 'agree_everyone', 'chai_tea', 'pot_roast', 'zing', 'perfectly_tender', 'ramekin', 'personal_sized', 'person_dinner', 'jamaican_jerk', 'honey_orange', 'thinking_would', 'minutes_without', 'ladybug', 'living_az', 'prepared_fresh', 'web_site', 'appetizer_plate', 'home_decided', 'heard_much', 'profusely', 'douche_bag', 'came_brought', 'expected_nice', 'lightly_toasted', 'awesome_tons', 'never_ran', 'three_half', 'although_bit', 'pita_sandwiches', 'marble', 'waaaay', 'kids_however', 'chorizo_stuffed', 'stop_lunch', 'chowing', 'garlic_herb', 'always_hit', 'thingies', 'pupu_platter', 'recliner', 'wonton_soup', 'adorn', 'best_asian', 'tried_everything', 'friday_evening', 'great_salsas', 'trendy_bar', 'meat_market', 'ate_breakfast', 'sizzling_hot', 'ambrosia', 'basmati', 'tandoori', 'unspectacular', 'tasted_okay', 'gives_feel', 'several_items', 'estrella', 'curry_rice', 'every_guest', 'almost_seems', 'get_loud', 'recipe_success', 'league', 'josh', 'readily_available', 'eegee', 'date_got', 'felt_though', 'asking_us', 'definitely_recommended', 'today_went', 'competitor', 'facial_expressions', 'tofu_soup', 'easter', 'pretty_easy', 'busier', 'decent_experience', 'wider_variety', 'softer', 'kheer', 'food_delivery', 'ever_period', 'busy_busy', 'sitting_inside', 'friend_took', 'quality_quantity', 'biggest_problem', 'brim', 'seated_inside', 'straight_forward', 'said_still', 'whatever_want', 'ok_could', 'people_ended', 'rokerij_side', 'chili_sauce', 'work_hard', 'paper_menus', 'wit', 'blanco', 'soda_machine', 'quickly_filled', 'please_check', 'sour_mix', 'accolade', 'terminal', 'maple_glazed', 'cottage_pie', 'standard_menu', 'two_kinds', 'electronic', 'desserts_ever', 'greasy_spoon', 'even_serve', 'tint', 'almost_sweet', 'comes_side', 'far_excellent', 'left_satisfied', 'without_worrying', 'taste_difference', 'nonexistent', 'wanted_sit', 'cheese_stuff', 'onto_food', 'throw_peanut', 'deduction', 'sensational', 'amazingly_good', 'chicken_wing', 'nice_ambience', 'port_subs', 'area_cool', 'saloon', 'service_par', 'completely_full', 'pre_packaged', 'front_nice', 'counter_style', 'queue', 'bill_pretty', 'really_damn', 'shells_floor', 'recently_ate', 'go_brunch', 'kind_tough', 'expecting_something', 'stone_throw', 'vegetarian_restaurant', 'payment', 'shuffle', 'aways', 'menu_less', 'corn_beef', 'hot_inside', 'irish_music', 'spectrum', 'offered_side', 'moves_fast', 'bread_rolls', 'uk', 'managed_find', 'downer', 'vowed_never', 'strip_malls', 'redemption', 'barely_warm', 'stomping_grounds', 'date_went', 'gobi', 'fries_shopping', 'warm_fresh', 'time_today', 'consistently_amazing', 'like_normal', 'throughout_day', 'thingy', 'back_unless', 'word_wise', 'dodger', 'attentive_always', 'owners_friendly', 'incorrect', 'sitting_front', 'side_hummus', 'probably_worth', 'cookie_platter', 'well_apparently', 'mel', 'tempe_area', 'two_burgers', 'frat', 'bursting_flavor', 'regular_places', 'bridge', 'honestly_best', 'want_visit', 'coz', 'hanker', 'backyard', 'tomatillo_salsa', 'lamb_vindaloo', 'tv_bar', 'wrong_prices', 'cuisine_phoenix', 'first_choice', 'regret_getting', 'enjoy_beautiful', 'nearest', 'friends_work', 'electric', 'pa', 'four_times', 'mean_time', 'mashed_potatos', 'delightfully', 'walked_us', 'coverage', 'different_taste', 'bush', 'like_greek', 'students_come', 'guy_always', 'spicy_red', 'relaxation', 'roma_tomato', 'corporate_chain', 'little_joint', 'pancakes_waffles', 'bacon_sausage', 'bit_thick', 'waited_check', 'glimpse', 'holy_moly', 'heart_set', 'dolmas', 'saying_would', 'ceviche_shrimp', 'minutes_waitress', 'embarrassment', 'stars_rating', 'mondays_tuesdays', 'amazing_perfectly', 'went_thursday', 'crunchy_soft', 'tip_order', 'chilli', 'burger_bacon', 'salads_soup', 'everyone_enjoyed', 'benihana', 'rocks_also', 'night_pm', 'tues', 'like_mini', 'salad_wonderful', 'eat_entire', 'envy', 'monumental', 'server_extremely', 'priority', 'owner_used', 'answering_questions', 'mix_well', 'respectable', 'man_oh', 'khaki', 'grady', 'asked_vegan', 'inability', 'ordered_veggie', 'work_people', 'coming_town', 'country_music', 'concoct', 'pretty_neat', 'false_advertising', 'burger_decided', 'like_straight', 'never_refilled', 'northeast', 'picnic_style', 'pick_choose', 'find_many', 'shopping_trip', 'marathon', 'burgers_town', 'clown', 'oz_cup', 'visiting_establishment', 'take_pictures', 'identical', 'without_pretentious', 'detract', 'read_previous', 'thai_ever', 'salad_dessert', 'even_melt', 'unique_flavor', 'challah_bread', 'small_patio', 'poached_eggs', 'gr', 'time_getting', 'luv', 'marinated_pork', 'taco_plates', 'serves_good', 'parking_easy', 'like_air', 'deep_frying', 'egg_drop', 'mixed_reviews', 'opinion_definitely', 'apple_cider', 'ladies_night', 'fried_beans', 'forearm', 'among_best', 'upcoming', 'greets', 'everyone_said', 'corn_tamale', 'ordered_turkey', 'philly_cheese', 'bagel_cream', 'starchy', 'made_salsa', 'crème_fraîche', 'owner_server', 'much_english', 'standard_mexican', 'spotty', 'casella', 'well_usual', 'thanksgiving_buffet', 'employees_always', 'usually_hit', 'developed', 'nearly_finished', 'great_bang', 'savory_sweet', 'thrive', 'type_bread', 'maybe_tad', 'pork_cheese', 'sports_grill', 'tractor', 'owners_super', 'tacos_ever', 'authentically', 'rue', 'mushrooms_made', 'huge_disappointment', 'rectangular', 'truly_enjoyed', 'sweetener', 'saigon', 'caliente', 'us_told', 'asked_manager', 'gave_another', 'likely_go', 'elmer', 'order_guacamole', 'staff_seem', 'cleaned_plate', 'makes_best', 'sauteed_spinach', 'entire_evening', 'happy_let', 'dj_thursday', 'table_outside', 'supporter', 'mouth_taste', 'cute_trendy', 'sewage', 'makes_mouth', 'inexpensive_tasty', 'chargrilled', 'bottle_sake', 'phoenix_hands', 'visit_arizona', 'drinks_specials', 'ny_er', 'embarrassingly', 'getting_check', 'tacos_rice', 'lets_start', 'flip_flops', 'used_little', 'beef_burger', 'sides_come', 'chips_salsas', 'shit_like', 'especially_chain', 'burger_okay', 'burger_thick', 'anyway_ordered', 'mango_margarita', 'stay_home', 'super_fantastic', 'central_avenue', 'rock_shrimp', 'ok_quality', 'time_kinda', 'breaded_fried', 'low_lighting', 'flashy', 'arm_leg', 'fat_tuesdays', 'macayos', 'fish_dishes', 'excited_get', 'sweet_tender', 'lemon_juice', 'cold_rice', 'room_temperature', 'husband_chose', 'emphasize', 'steak_shrimp', 'seeing_people', 'well_decorated', 'people_dining', 'around_friend', 'felt_compelled', 'feed_people', 'valentine', 'louder', 'special_thing', 'bucks_get', 'never_dry', 'intrusive', 'least_make', 'cost_effective', 'attentive_without', 'fries_need', 'harissa', 'docked', 'flavor_definitely', 'otherwise_may', 'purchased_groupon', 'expecting_really', 'comes_mind', 'delicious_crispy', 'rather_small', 'sausage_cheese', 'round_two', 'four_course', 'love_italian', 'family_fun', 'gotta_get', 'unique_dining', 'drastically', 'original_fries', 'food_sampled', 'swaddee', 'reading_menu', 'steak_tender', 'valet_service', 'likes_place', 'room_next', 'hard_know', 'mix_roasted', 'sunglass', 'spain', 'try_future', 'give_second', 'italian_bread', 'paper_cup', 'shallot', 'cityscape', 'beautiful_view', 'took_picture', 'ingest', 'asian_women', 'arizonian', 'pizza_salads', 'carefree', 'rivas', 'considerable', 'mexican_joint', 'guys_great', 'give_full', 'coffee_morning', 'newest', 'vindaloo', 'satisfy_craving', 'one_tiny', 'food_surprisingly', 'husband_pork', 'went_grilled', 'dennys', 'sandwiches_served', 'fries_decent', 'really_craving', 'agua_fresca', 'main_restaurant', 'displeased', 'verge', 'festive_atmosphere', 'environment_nice', 'travis', 'unparalleled', 'american_italian', 'like_pei', 'frozen_yogurt', 'counter_service', 'matter_day', 'great_eats', 'youthful', 'phoenix_worth', 'pork_beef', 'better_review', 'especially_green', 'spent_first', 'urban_outfitters', 'comes_visit', 'color_scheme', 'awesome_patio', 'people_busy', 'wei', 'without_breaking', 'oscar', 'usually_end', 'decided_split', 'decided_start', 'space_nice', 'remember_called', 'taster', 'directly_behind', 'sat_sushi', 'patio_awesome', 'raisin_bread', 'flavorful_always', 'going_far', 'mario', 'bold_flavor', 'aloo_tikki', 'small_cozy', 'things_right', 'makes_perfect', 'bit_overpriced', 'bill_even', 'panini_sandwich', 'perfect_balance', 'five_spot', 'home_run', 'thai_house', 'flan_flan', 'guava', 'new_local', 'checked_menu', 'coffee_breakfast', 'exactly_needed', 'type_beer', 'cushy', 'slurp', 'veggie_wrap', 'unfortunately_also', 'raf', 'embrace', 'best_carne', 'steak_pretty', 'understandably', 'meat_moist', 'family_eating', 'sauce_enjoyed', 'dime_dozen', 'scuzy', 'hectic', 'poked', 'blond', 'freaking_amazing', 'wow_never', 'due_lack', 'swank', 'mealy', 'came_bag', 'eat_inside', 'sauces_ranch', 'honey_bears', 'plates_huge', 'offered_free', 'offered_get', 'gets_star', 'seated_quickly', 'minutes_left', 'someone_came', 'know_ones', 'atmosphere_sexy', 'main_menu', 'years_know', 'ordered_sirloin', 'chicken_loved', 'became_quite', 'soft_buttery', 'anyway_said', 'eg', 'live_right', 'acoustics_place', 'split_one', 'pickles_onions', 'egg_bun', 'gave_shot', 'multigrain', 'harry_met', 'took_lot', 'traveled_phoenix', 'word_describe', 'pink_pepper', 'served_choice', 'squeal', 'come_seriously', 'casual_dining', 'meticulously', 'dose', 'far_end', 'tailgate', 'size_fried', 'amidst', 'captain_crunch', 'good_waffle', 'go_orders', 'tasted_delicious', 'breakfast_spots', 'rose_water', 'went_past', 'cafe_style', 'give_huge', 'cafe_really', 'shuck', 'server_forgot', 'hand_full', 'wanted_drink', 'rang', 'quality_taste', 'minimalist', 'sub_pretty', 'often_always', 'time_money', 'really_hope', 'invitation', 'pretty_chill', 'refreshing_drink', 'money_worth', 'lot_things', 'amazing_thai', 'wings_ever', 'sourdough_pizza', 'spot_happy', 'fine_print', 'two_tacos', 'say_wow', 'steps_away', 'pleasant_place', 'gone_hill', 'exaggerate', 'half_bottles', 'chips_came', 'tacos_pretty', 'tacos_said', 'changed_menu', 'lots_parking', 'mango_salmon', 'steroid', 'never_leave', 'sat_minutes', 'least_minutes', 'philly_steak', 'five_minute', 'bowl_bowl', 'pretty_basic', 'took_five', 'relaxed_atmosphere', 'many_varieties', 'dodge', 'aguas_frescas', 'hard_make', 'also_saw', 'precut', 'checker', 'bacon_fat', 'cram', 'asu_student', 'sweet_sweet', 'choose_make', 'sweden', 'pomodoro', 'mashed_sweet', 'excellent_choice', 'dinner_served', 'brought_check', 'like_previous', 'brownie_ice', 'tumble', 'finish_plate', 'indescribably', 'blew_mind', 'remark', 'tv_show', 'artificial', 'nice_neighborhood', 'want_real', 'delicious_atmosphere', 'dinner_arrived', 'based_recommendation', 'guess_could', 'repair', 'super_hungry', 'falafel_pita', 'dishes_excellent', 'friendly_prices', 'waited_meal', 'parking_ticket', 'basket_chips', 'homework', 'green_burger', 'ichi', 'choke', 'tsoynami', 'absolutely_nothing', 'traditional_sushi', 'made_cozy', 'little_strange', 'sushi_fan', 'drinkable', 'smile_face', 'paper_bag', 'ditto', 'look_outside', 'cab_ride', 'colada', 'barista', 'stepson', 'ate_chips', 'woulda', 'scottsdale_az', 'decent_enough', 'terms_quality', 'roscoes', 'downright_cheap', 'aquarium', 'visit_az', 'many_friends', 'bomb_diggity', 'like_fancy', 'comfy_seats', 'place_changed', 'showed_us', 'pains_write', 'safe_bet', 'letting_us', 'service_gotten', 'w', 'wheat_flour', 'eric', 'waitress_really', 'ordered_takeout', 'park_central', 'lot_money', 'nice_setting', 'waitstaff_great', 'pudding_dessert', 'vatican', 'pieces_meat', 'flavor_taste', 'flavors_louisiana', 'chicken_caesar', 'foodgasm', 'karina', 'must_admit', 'maybe_maybe', 'thanks_making', 'paid_attention', 'crispness', 'soggy_mess', 'pungent', 'places_could', 'sauces_good', 'bar_open', 'barely_edible', 'music_blasting', 'light_tasty', 'years_later', 'took_wife', 'clean_plate', 'back_enjoy', 'like_women', 'free_samples', 'blender', 'fairly_decent', 'martini_one', 'atmosphere_okay', 'atmosphere_definitely', 'jd', 'arcade_games', 'clueless', 'oh_forget', 'ordered_eggs', 'block_away', 'able_see', 'passable', 'ceramic', 'location_close', 'food_meh', 'mix_sweet', 'avoid_wait', 'american_cheese', 'us_anyway', 'near_dear', 'delicious_options', 'impossibly', 'crispier', 'sixth', 'stair', 'seafood_items', 'happy_report', 'best_tasting', 'getting_meat', 'born_raised', 'lobster_crab', 'dirty_martinis', 'bisque', 'brad', 'balsamic_vinaigrette', 'front_porch', 'proven', 'two_eggs', 'autumn', 'rim', 'ambiance_pleasant', 'tend_get', 'ordered_standard', 'steak_eggs', 'fresh_crispy', 'eat_free', 'home_office', 'farmer_feast', 'big_box', 'great_sense', 'oregon', 'like_american', 'nice_outdoor', 'food_impressive', 'visited_restaurant', 'rice_bowls', 'scottsdale_next', 'eww', 'bloody', 'like_champ', 'wide_open', 'counter_order', 'oh_goodness', 'seclude', 'chintzy', 'sauna', 'locker_room', 'complexity', 'perfectly_sized', 'charleen', 'depending_time', 'displeasure', 'lived_street', 'couple_minutes', 'hand_washing', 'unusual_tasty', 'ordered_panang', 'over', 'utah', 'another_plus', 'music_fun', 'kept_checking', 'chicken_pot', 'side_chips', 'stick_around', 'pew', 'decided_wanted', 'county', 'poor_guy', 'daze', 'refilling_drinks', 'waited_table', 'case_point', 'brings_back', 'sustainable', 'really_needs', 'monterey', 'microbrewery', 'took_way', 'pork_burrito', 'fingerling_potatoes', 'holy_shit', 'perfect_bring', 'tour_guide', 'equipment', 'split_pea', 'delicious_cheap', 'tried_yes', 'resolve', 'returning_place', 'order_anything', 'jack_cheese', 'dirty_rice', 'see_happy', 'thai_chicken', 'uncomfortable_chairs', 'cough', 'uhh', 'mandarin_orange', 'without_anything', 'opera', 'ancient', 'especially_mexican', 'masa', 'smile_like', 'bollywood_movies', 'fun_staff', 'tell_friends', 'rice_dishes', 'omg_loved', 'half_empty', 'coffee_drinks', 'tasted_different', 'shy', 'cash_tip', 'excessively', 'considerably', 'hot_tasty', 'philly_cheesesteak', 'shepherd_pie', 'forward_going', 'cuban_food', 'cubano', 'almost_inedible', 'instead_white', 'arroz_con', 'ajillo', 'number_people', 'least_bit', 'barber', 'accordingly', 'peoria', 'sa', 'concept_place', 'fried_items', 'quibble', 'loved_bread', 'disgustingly', 'freaking_good', 'really_expecting', 'amish', 'pay_lot', 'chicken_lollipops', 'yet_found', 'definitely_second', 'biker', 'give_number', 'stateside', 'ended_nice', 'whiteboard', 'dew', 'cooler_months', 'bros', 'heartbroken', 'fresh_flowers', 'check_sure', 'regrettably', 'server_put', 'ordered_mushroom', 'baseline', 'disrespectful', 'appetizer_small', 'seem_care', 'bill_two', 'adobada', 'stopped_breakfast', 'closed_pm', 'fries_shake', 'well_spiced', 'taiwanese', 'saw_one', 'china_magic', 'phoenix_metro', 'meat_eater', 'pull_apart', 'string_beans', 'combo_get', 'drift', 'wine_special', 'pretty_large', 'could_shared', 'scenario', 'try_dishes', 'places_take', 'cheese_sausage', 'upload', 'customer_wrong', 'cover_band', 'relate', 'look_see', 'tasty_especially', 'filled_people', 'shelter', 'del_mar', 'take_pick', 'prices_cheap', 'shwarma', 'perfect_ending', 'depending_mood', 'rice_side', 'able_speak', 'bit_better', 'sauce_die', 'line_long', 'place_frequent', 'branch_try', 'best_barbecue', 'delivery_pizza', 'forget_check', 'early_evening', 'international', 'unassuming', 'arguably', 'could_say', 'german_restaurants', 'greek_pita', 'restaurant_close', 'gray', 'wanting_go', 'bagel_toasted', 'nothing_left', 'roma_tomatoes', 'yet_want', 'crave_want', 'covered_sauce', 'fiancé', 'always_assumed', 'area_phoenix', 'less_mediocre', 'neutral', 'refilled_water', 'hearted', 'flourish', 'great_company', 'serves_best', 'personal_space', 'together_go', 'employees_nice', 'pretty_thick', 'marketplace', 'pick_order', 'would_cost', 'pizza_maybe', 'kids_running', 'every_employee', 'comical', 'mozarella', 'annual', 'menu_chose', 'fantastic_job', 'dip_delicious', 'mile_radius', 'village_inn', 'pho_van', 'blazing', 'yew', 'chocolate_hazelnut', 'cuisine_chicken', 'maybe_know', 'dish_excellent', 'appetiser', 'american_tastes', 'grill_cheese', 'recognizable', 'deal_breaker', 'every_type', 'theme_park', 'mex_food', 'complaints_definitely', 'fantastically', 'understand_getting', 'drink_selection', 'also_incredibly', 'romance', 'getting_stars', 'assumption', 'hee', 'old_men', 'quality_places', 'bread_pork', 'little_room', 'willingly', 'outskirt', 'faithful', 'flank_steak', 'hidden_away', 'setting_beautiful', 'chorizo_porchetta', 'delicious_filling', 'patio_enjoy', 'arrived_right', 'bocce_ball', 'unique_flavorful', 'excited_eat', 'scottsdale_crowd', 'enjoy_every', 'classic_american', 'almost_forgot', 'lost_business', 'one_cares', 'perfect_choice', 'would_complete', 'service_complaints', 'grocer', 'friend_decided', 'potato_skins', 'homage', 'vin', 'au', 'public_market', 'spend_evening', 'dish_wife', 'sports_memorabilia', 'baseball_player', 'lynn', 'avocado_pizza', 'adore_place', 'lack_taste', 'condescend', 'would_tell', 'basic_burger', 'ps_get', 'curb', 'alot_food', 'ethiopian_restaurants', 'arent', 'cut_meat', 'staff_help', 'knowledgeable_staff', 'ordered_bunch', 'keep_eye', 'outside_waiting', 'beyond_words', 'street_corn', 'makes_experience', 'often_seen', 'focaccia_bread', 'open_breakfast', 'friend_came', 'equally_amazing', 'coco', 'enjoyed_everything', 'minute_walk', 'larger_groups', 'grey', 'always_excellent', 'overall_feel', 'without_attitude', 'reasonable_amount', 'bait_switch', 'find_places', 'dinner_soon', 'would_gladly', 'came_medium', 'short_staffed', 'farther', 'pizza_enjoyed', 'getting_drink', 'measly', 'brasserie', 'chorizo_burrito', 'anyone_wants', 'chief', 'knew_nothing', 'polish_food', 'makes_better', 'limoncello', 'star_show', 'coma', 'left_alone', 'aficionado', 'upon_time', 'pose', 'pork_chops', 'like_chewing', 'polish', 'ravenous', 'xmas', 'enjoyed_sitting', 'years_coming', 'tomato_lettuce', 'party_ordered', 'choices_also', 'joint_gets', 'city_one', 'fifty', 'stopped_late', 'things_need', 'please_note', 'pitcher_sangria', 'detect', 'cleaning_tables', 'chicken_nicely', 'diabetic', 'pretty_hungry', 'excellent_every', 'nirvana', 'mayo_mustard', 'great_hh', 'added_bacon', 'sufficiently', 'live_az', 'normally_find', 'acidic', 'pitchers_beer', 'casual_yet', 'try_carne', 'real_vietnamese', 'summer_months', 'reminder', 'yucky', 'pizza_valley', 'consumption', 'residue', 'whistle', 'one_reserved', 'making_reservation', 'jew', 'house_tricks', 'parking_difficult', 'service_sometimes', 'given_night', 'fb', 'owners_always', 'whole_night', 'young_guy', 'top_bun', 'juicy_chicken', 'trust_one', 'poker', 'waiting_outside', 'place_hope', 'within_miles', 'rosita_place', 'thought_take', 'huckleberry_bread', 'vermonter', 'expansive', 'bud_light', 'lager', 'acquire', 'thought_price', 'pretty_sad', 'best_sausage', 'jcc', 'style_chinese', 'orange_cake', 'get_stuck', 'orange_slices', 'oysters_half', 'fresh_pico', 'stars_first', 'inside_dining', 'personally_like', 'started_getting', 'download', 'cous_cous', 'chicken_fajita', 'back_work', 'apologizes', 'dill_pickles', 'grass_fed', 'arena', 'moved_quickly', 'shogun', 'totally_awesome', 'milk_shake', 'liked_taste', 'trying_catch', 'early_dinner', 'location_open', 'social_atmosphere', 'stop_quick', 'trusty_yelp', 'obsession', 'healthy_alternative', 'trip_phoenix', 'pulled_chicken', 'many_thai', 'wanna_go', 'hap', 'institution', 'stetson', 'gruyère', 'town_scottsdale', 'add_hot', 'perfect_complement', 'regular_rotation', 'recommending_place', 'chip_pancakes', 'constructive', 'old_towne', 'sushi_joints', 'gone_bad', 'tender_beef', 'youre', 'grill_great', 'definitely_average', 'footlong', 'acrid', 'dog_park', 'bordering', 'night_sat', 'experience_ever', 'psyched', 'bf_went', 'avocado_egg', 'split_two', 'craving_pizza', 'least_people', 'wife_loved', 'kind_slow', 'little_slice', 'appetizer_quite', 'burger_huge', 'know_cook', 'perfect_since', 'gyros_good', 'liked_everything', 'buffalo_sloppy', 'rude_service', 'equally_impressed', 'wearing_flip', 'please_stop', 'homemade_chips', 'position', 'disgruntle', 'okay_think', 'bailey', 'went_downstairs', 'bass', 'serving_size', 'finally_arrived', 'folding_tables', 'yes_pricey', 'handwritten', 'without_making', 'fiancee', 'always_seemed', 'order_gyro', 'perfect_sweet', 'ending_meal', 'women_restroom', 'evening_dining', 'late_morning', 'recently_changed', 'counter_ordering', 'accurately', 'drive_window', 'cozy_atmosphere', 'given_gift', 'enhance', 'gesture', 'makes_dining', 'look_past', 'welcoming_staff', 'salsa_fresh', 'delicious_steak', 'browsing_menu', 'sopapillas', 'pinot_grigio', 'infant', 'arrived_table', 'small_children', 'dulce_de', 'asking_people', 'schreiner', 'tahini', 'aloof', 'abound', 'full_satisfied', 'iez_lgf', 'biz_photos_dwp', 'time_since', 'hipster_hangout', 'flavors_choose', 'popularity', 'blech', 'sat_waited', 'enforce', 'lettuce_wilted', 'pretty_strong', 'cucumber_mojito', 'forget_mention', 'little_sticky', 'get_refill', 'fhcvqzm_select', 'spy', 'exceptionally_clean', 'eyebrow', 'roll_also', 'rude_rude', 'thought_give', 'hungry_people', 'sure_bring', 'hardy', 'richness', 'really_simple', 'since_obviously', 'need_come', 'mailing_list', 'hero', 'order_couple', 'haze', 'three_days', 'clean_service', 'panic', 'fawn', 'waiter_asked', 'extremely_generous', 'steamed_veggies', 'work_close', 'prosciutto_figs', 'cardamom', 'since_found', 'joe_real', 'waitress_awesome', 'specials_great', 'still_managed', 'sheep', 'potentially', 'kolsch', 'prepared_food', 'makeshift', 'travelzoo', 'equally_great', 'haul', 'given_location', 'central_location', 'drinks_weak', 'minutes_prior', 'portabello_mushroom', 'dont_really', 'back_several', 'overall_pleased', 'recommend_either', 'meet_people', 'loyal', 'lha_select', 'xdvwccu_lm', 'snatch', 'biz_photos_mz', 'sundried_tomatoes', 'creeped', 'amazing_steak', 'vegetables_also', 'reason_number', 'guess_east', 'bunch_stuff', 'tickle', 'adam', 'spinato', 'adam_richman', 'paying_much', 'm', 'stuff_would', 'sure_beats', 'california_club', 'red_potato', 'spring_break', 'little_heat', 'chili_flakes', 'got_number', 'place_offers', 'guess_thing', 'meat_patty', 'burrito_taco', 'birthday_lunch', 'coming_often', 'pairing', 'phrase', 'men_room', 'drawn', 'would_dine', 'indulgent', 'menu_listed', 'donkey', 'extra_special', 'wow_kinda', 'eat_whole', 'chocolate_mousse', 'tranquil', 'sort_thing', 'appy', 'potato_side', 'minimize', 'cheesy_goodness', 'ostentatious', 'nike', 'rating_would', 'stopping_table', 'anything_want', 'terra_cotta', 'spice_bit', 'personal_experience', 'famish', 'privately', 'let_begin', 'ordered_extra', 'comes_close', 'cajun_style', 'one_comment', 'definitely_fun', 'recall_name', 'atmosphere_quite', 'service_waitress', 'everything_perfectly', 'stay_long', 'end_evening', 'black_hair', 'puffy', 'ordered_pasta', 'prefers', 'pitch', 'balloon', 'ordered_crab', 'three_three', 'want_keep', 'stuffed_crab', 'friend_birthday', 'going_drive', 'garlic_mashed', 'look_around', 'larger_table', 'didnt_feel', 'reason_stars', 'hammer', 'cigarette', 'cornhole', 'bánh_xèo', 'need_give', 'vegetable_chow', 'paid_cash', 'son_wife', 'chilies', 'basic_breakfast', 'et_al', 'order_asked', 'hostage', 'bill_us', 'based_dishes', 'fork_tender', 'chagrin', 'meat_loaf', 'love_crab', 'always_tell', 'simply_must', 'really_known', 'bar_waited', 'last_bite', 'seating_outside', 'wait_sometimes', 'ok_yes', 'ship', 'rice_sticky', 'dent', 'shame_place', 'quite_impressed', 'koolaide', 'chicken_brisket', 'mickey', 'meh_experienced', 'education', 'wee', 'chips_drink', 'meat_bun', 'hilton', 'live_area', 'envelope', 'andouille_sausage', 'app_phone', 'teriyaki_bowl', 'place_cannot', 'weekend_made', 'venyse', 'pick_favorite', 'looking_clean', 'nourishment', 'curry_really', 'odds', 'chunks_fried', 'banana_cream', 'benson', 'mention_steve', 'superstar', 'gig', 'sculpture', 'reason_come', 'salary', 'waited_maybe', 'heard_nothing', 'rice_noodle', 'well_presented', 'served_mini', 'southeast', 'poach', 'saint', 'inject', 'across_country', 'havarti', 'bell_pepper', 'margherita', 'weeks_back', 'twice_lunch', 'really_hate', 'less_impressed', 'return_try', 'waitress_sweet', 'restaurant_east', 'running_smoothly', 'wright', 'truffled', 'fried_goodness', 'charge_extra', 'spoonful', 'missed_mark', 'stomach_growling', 'picasso', 'st_patrick', 'willing_wait', 'like_pig', 'pollo_con', 'typically_get', 'observation', 'umami', 'idk', 'fan_mexican', 'chili_con', 'ajo_al', 'odd_thing', 'often_eat', 'family_members', 'arrived_pm', 'tasted_weird', 'instinct', 'time_ended', 'yorker', 'really_impress', 'big_party', 'delivery_time', 'pass_place', 'darling', 'front_counter', 'picked_menu', 'place_months', 'family_owns', 'pizzas_favorite', 'agree_reviewers', 'ok_ok', 'sauteed_veggies', 'pm_hours', 'burgers_came', 'wings_beer', 'first_moved', 'empty_stomach', 'hugh', 'china_grill', 'dish_got', 'deceive', 'fell_apart', 'might_think', 'yet_come', 'everytime_come', 'mild_medium', 'tom_yum', 'opted_order', 'stick_basics', 'within_mile', 'geisha_go', 'tempura_shrimp', 'coolest_thing', 'ordering_pizza', 'funny_charming', 'strict', 'french_bread', 'kitchen_see', 'superb_service', 'wonderful_server', 'end_getting', 'urchin', 'chambord', 'wine_bruschetta', 'taker', 'camp', 'husband_liked', 'small_list', 'range_dishes', 'extravaganza', 'butterscotch', 'heat_lamp', 'worst_part', 'nevertheless', 'beyond_good', 'bcs', 'sure_expect', 'different_story', 'pilgrim', 'customers_staff', 'mop', 'harry', 'spicy_flavor', 'one_year', 'tableside', 'unique_tasty', 'year_anniversary', 'celebrate_one', 'getting_ready', 'hope_take', 'go_hungry', 'beneath', 'wrist', 'would_leave', 'hands_chef', 'must_come', 'prices_fantastic', 'lunch_size', 'cake_really', 'anyone_loves', 'get_bigger', 'span', 'fat_tire', 'back_wall', 'mosh', 'enough_room', 'pitcher_water', 'music_venue', 'popular_dish', 'thousand_times', 'exists', 'different_salsas', 'price_bad', 'avocado_bacon', 'menu_feeling', 'tasted_anything', 'corleone', 'veggie_tacos', 'fanatic', 'service_rushed', 'star_ratings', 'meat_cooked', 'four_pieces', 'vegetable_soup', 'iron_skillet', 'tasty_burger', 'one_afternoon', 'universe', 'manchego_cheese', 'service_spectacular', 'ever_experienced', 'flat_screens', 'one_pizzas', 'nachos_great', 'location_well', 'filling_delicious', 'el_paso', 'drier', 'smoky_flavor', 'thai_hot', 'anthony', 'paired_well', 'pepper_steak', 'thai_sweet', 'zillion', 'renovation', 'hits_misses', 'plate_delicious', 'put_review', 'ordered_lentil', 'final_bill', 'crab_dip', 'wiener', 'far_far', 'since_closed', 'young_lady', 'give_yelp', 'falafel_plate', 'obscure', 'thai_hut', 'meal_tried', 'bar_keep', 'best_bet', 'ga', 'studio', 'call_cab', 'tacos_best', 'go_straight', 'english_muffins', 'tomato_based', 'defunct', 'forget_name', 'hunan', 'bowl_water', 'glass_red', 'half_appetizers', 'smoked_pork', 'palmer', 'sophie', 'mo', 'wha', 'takes_time', 'still_loved', 'three_choices', 'family_town', 'dive_bars', 'tank', 'flagship', 'representative', 'atmosphere_warm', 'meal_deal', 'white_sauce', 'gras', 'vincent', 'seating_party', 'ordered_bean', 'curbside_pick', 'breakfast_usually', 'arrowhead', 'farmers_markets', 'told_call', 'recite', 'thought_process', 'chao', 'balance_flavor', 'lot_regulars', 'shrimp_crab', 'welcome_change', 'second_last', 'smoked_gouda', 'pepitas', 'kung_po', 'thai_noodles', 'southwestern_style', 'one_peanut', 'non_existent', 'bride', 'serene', 'one_giant', 'midtown', 'plain_noodles', 'enchilada_style', 'friendly_efficient', 'euro', 'duplicate', 'gryo', 'another_day', 'taste_wife', 'prosciutto_di', 'huge_shrimp', 'thought_fun', 'started_homemade', 'people_ahead', 'dessert_person', 'ahead_us', 'bar_bianco', 'hiccup', 'customers_however', 'nearly_years', 'bring_us', 'slice_heaven', 'prefer_going', 'veggie_plate', 'pub_grub', 'big_disappointment', 'blue_ribbon', 'tell_much', 'automatic', 'easily_one', 'returning_soon', 'merry_friends', 'intake', 'also_hope', 'serving_staff', 'smack_dab', 'fluff', 'raw_vegan', 'extent', 'tastiness_food', 'lunch_portions', 'may_may', 'dishes_taste', 'manager_come', 'despise', 'goddess', 'bullshit', 'private_party', 'celebratory', 'cheese_onions', 'safe_say', 'really_appreciated', 'coconut_one', 'yum_think', 'tempe_market', 'grin', 'ft', 'made_sad', 'another_party', 'think_trying', 'goddamn', 'hour_sit', 'comedy', 'kind_sad', 'eggplant_dish', 'got_done', 'chinatown', 'distinctive', 'bit_soft', 'walked_saw', 'gotten_point', 'search_good', 'today_ate', 'chin', 'seating_comfortable', 'dinner_portions', 'would_stayed', 'often_wait', 'hurry_get', 'right_mouth', 'music_little', 'polo', 'hearty_flavorful', 'reese', 'english_pub', 'good_indian', 'art_district', 'driven_past', 'bamboo_shoots', 'frozen_custard', 'wouldve', 'hadnt', 'free_dessert', 'large_size', 'plum', 'perfect_example', 'choice_two', 'hh_menu', 'jack_coke', 'clean_modern', 'visiting_area', 'gratitude', 'arizona_restaurant', 'valley_yet', 'taquerias', 'say_huge', 'salvadoreno', 'everyone_super', 'el_pollo', 'mexican_fast', 'stick_much', 'always_attentive', 'order_taker', 'extremely_disappointed', 'based_sauce', 'several_tables', 'interestingly', 'brewing', 'cho', 'chevy', 'delicious_traditional', 'recently_found', 'visually', 'high_standards', 'burgers_fantastic', 'meander', 'nice_attentive', 'drinks_beers', 'friends_live', 'get_regular', 'thick_crust', 'among_top', 'shepherds_pie', 'butter_cake', 'mens_room', 'real_winner', 'fez_burger', 'places_yelp', 'slutty', 'pompous', 'tender_flavorful', 'unfair', 'like_frozen', 'die_dessert', 'scoop_ice', 'strawberry_jam', 'sauce_toppings', 'minutes_since', 'house_chianti', 'fire_pits', 'crimini', 'steel', 'stark', 'chicken_adobo', 'instead_waiting', 'good_experiences', 'talented', 'dismiss', 'behind_register', 'inside_oh', 'menu_especially', 'probably_worst', 'amazing_beer', 'ensue', 'dish_many', 'order_ahead', 'fujiya', 'well_stocked', 'decided_leave', 'enjoy_going', 'coronado_cafe', 'polite_helpful', 'like_subway', 'hibachi_steak', 'looking_new', 'came_upon', 'garden_salad', 'lai_lai', 'music_background', 'sadness', 'another_half', 'ended_waiting', 'local_fresh', 'arrived_seated', 'veggie_pho', 'around_tempe', 'orgasmic', 'seven_years', 'eggplant_parm', 'choice_soup', 'stay_cation', 'phoenix_native', 'deny', 'laura', 'iowa', 'longer_menu', 'server_cute', 'dry_sauce', 'went_blanco', 'wife_going', 'took_mom', 'truly_made', 'trepidation', 'counting_days', 'entire_life', 'crackle', 'woo_hoo', 'bearing', 'derive', 'patisserie', 'theodosopoulos', 'burger_comes', 'much_closer', 'scared_eat', 'decided_grab', 'risky', 'anxious', 'trying_things', 'messed_order', 'del', 'crinkle_fries', 'half_assed', 'ask_chef', 'stroke', 'tender_sweet', 'puttanesca', 'arrive_early', 'understood', 'loud_enough', 'teacher', 'rendition', 'severe', 'blur', 'going_start', 'difficult_find', 'new_job', 'night_first', 'glad_got', 'rum_punch', 'chicken_pieces', 'restaurant_opens', 'command', 'special_going', 'scowl', 'floor_plan', 'friendlier', 'nice_open', 'non_beer', 'poor_taste', 'hoppy', 'high_tops', 'angels_trumpet', 'gonna_go', 'lf', 'zest', 'house_music', 'clue_leave', 'mexican_inspired', 'weekday_around', 'especially_weekends', 'certain_times', 'best_chocolate', 'ganache', 'tell_make', 'vegetable_dishes', 'whenever_visit', 'entree_also', 'pork_empanadas', 'valley_always', 'given_menu', 'classify', 'kitchen_said', 'go_soon', 'baiz', 'getting_something', 'goto', 'mins_later', 'waiting_waiting', 'really_truly', 'little_pieces', 'blink', 'go_anywhere', 'see_reason', 'cheese_crisps', 'friend_visiting', 'atmosphere_comfortable', 'yelp_listing', 'half_moon', 'terrific_service', 'getting_used', 'pretty_authentic', 'amazing_portion', 'needed_take', 'dinner_spot', 'wedding_anniversary', 'rabbit', 'excellent_excellent', 'guy_counter', 'praline', 'pasta_pasta', 'fruit_tarts', 'crabmeat', 'last_resort', 'make_home', 'canoli', 'chaat', 'boring_flavor', 'pack_food', 'larger_tables', 'see_coming', 'hair_food', 'seating_bar', 'medium_spicy', 'rasberry', 'caucasian', 'close_eyes', 'yummy_dessert', 'actor', 'know_name', 'tasty_overall', 'still_packed', 'place_gotten', 'love_dark', 'supposed_taste', 'pita_chips', 'menu_quite', 'chicken_lettuce', 'chicken_pita', 'leftovers_lunch', 'humboldt', 'cantonese', 'music_play', 'sandwich_soup', 'year_round', 'casual_dinner', 'chocolate_brownie', 'membership', 'place_closer', 'cultural', 'differently', 'nice_efficient', 'ahhh', 'residence', 'apple_butter', 'gong', 'strong_enough', 'painkiller', 'somewhat_healthy', 'visiting_friend', 'lonely', 'insisted_come', 'frozen_patties', 'anyways_go', 'layout_place', 'slur', 'black_pepper', 'based_soup', 'high_marks', 'adobe', 'ate_times', 'mind_much', 'complain_good', 'entree_selections', 'chance_eat', 'great_subs', 'roasted_pepper', 'tryst_café']\n"
          ]
        }
      ],
      "source": [
        "\"\"\"\n",
        "Quim: No estic segur que calgui aquesta verificació si ja hem filtrat abans els tokens\n",
        "\n",
        "# Etiquetes que no poden tenir a l'inici i final el token\n",
        "no_pos_ini_fin = ['DT', 'IN', 'PRP', 'CC', 'CD','MD', 'VBG', 'VBD', 'RP', 'RB']\n",
        "\n",
        "#Método para evaluar la idoneidad de una palabra o una combinación de palabras\n",
        "def is_good_candid(t,postag):\n",
        "    v = False\n",
        "    if '_' in t:\n",
        "        tl = t.split('_')\n",
        "        if re.match(\"^[a-z]+.*\", tl[0]) and re.match(\"^[a-z]+.*\", tl[-1]) and \\\n",
        "          tl[0] not in stopwords and tl[1] not in stopwords:\n",
        "            if postag[0][1] not in no_pos_ini_fin and postag[-1][1] not in no_pos_ini_fin:\n",
        "              v = True\n",
        "    else:\n",
        "        if t not in stopwords and re.match(\"^[a-z]+.*\", t):\n",
        "            if postag[0][1] not in no_pos_ini_fin:\n",
        "                v = True\n",
        "    return v\n",
        "\n",
        "#Per verificar que una phrase es un terme\n",
        "def is_phrase_a_term(phrase):\n",
        "    test = False\n",
        "    if phrase not in postag:\n",
        "        pos = nltk.pos_tag(word_tokenize(phrase))\n",
        "    else:\n",
        "        pos = postag[phrase]\n",
        "    if is_good_candid(phrase,pos):\n",
        "        test = True\n",
        "    return test\n",
        "\"\"\"\n",
        "\n",
        "vocabulary = list(w2v_opinions.wv.index_to_key)\n",
        "print('vocabulary: ', vocabulary)"
      ],
      "id": "d10af9ee"
    },
    {
      "cell_type": "code",
      "execution_count": 67,
      "metadata": {
        "id": "568d1445",
        "colab": {
          "base_uri": "https://localhost:8080/"
        },
        "outputId": "934c6031-f4fb-47df-8fba-a713cde7d230"
      },
      "outputs": [
        {
          "output_type": "stream",
          "name": "stdout",
          "text": [
            "[('people', 0.9997833967208862), ('experience', 0.9997758269309998), ('go', 0.9997710585594177), ('never', 0.9997670650482178), ('review', 0.9997638463973999), ('take', 0.9997622966766357), ('work', 0.9997533559799194), ('eat', 0.9997405409812927), ('location', 0.9997376203536987), ('show', 0.9997372627258301), ('friend', 0.9997351169586182), ('way', 0.9997338652610779), ('wait', 0.9997308254241943), ('service', 0.9997307062149048), ('since', 0.9997283816337585), ('staff', 0.9997283816337585), ('food_good', 0.9997278451919556), ('atmosphere', 0.9997236132621765), ('bad', 0.9997235536575317), ('great_place', 0.9997207522392273), ('first_time', 0.9997170567512512), ('customer', 0.9997164011001587), ('would', 0.9997154474258423), ('server', 0.9997150301933289), ('busy', 0.9997149109840393), ('sure', 0.9997145533561707), ('first', 0.999714195728302), ('change', 0.9997122883796692), ('drink', 0.9997117519378662), ('visit', 0.9997113347053528), ('open', 0.9997096657752991), ('crowd', 0.9997090697288513), ('might', 0.9997087121009827), ('feel', 0.999707818031311), ('area', 0.9997024536132812), ('back', 0.9997008442878723), ('minute', 0.9997003078460693), ('price', 0.9996994137763977), ('yelp', 0.9996967315673828), ('keep', 0.9996954202651978), ('night', 0.9996951818466187), ('walk', 0.9996950030326843), ('every_time', 0.9996949434280396), ('employee', 0.9996945858001709), ('better', 0.9996930956840515), ('room', 0.9996928572654724), ('return', 0.9996927380561829), ('around', 0.9996922016143799), ('hour', 0.9996910691261292), ('new', 0.9996910691261292)]\n",
            "[('night', 0.9998414516448975), ('staff', 0.9998412728309631), ('wait', 0.9998411536216736), ('patio', 0.9998353719711304), ('busy', 0.9998326301574707), ('show', 0.9998324513435364), ('friend', 0.9998297095298767), ('back', 0.9998259544372559), ('hour', 0.9998252987861633), ('bar', 0.9998238682746887), ('never', 0.9998227953910828), ('review', 0.9998224377632141), ('area', 0.9998205900192261), ('see', 0.9998204708099365), ('around', 0.9998185634613037), ('open', 0.999817967414856), ('since', 0.9998165965080261), ('friendly', 0.9998158812522888), ('seat', 0.9998155236244202), ('room', 0.9998154044151306), ('visit', 0.9998142123222351), ('waitress', 0.9998114109039307), ('check', 0.9998103976249695), ('outside', 0.999809980392456), ('crowd', 0.9998090863227844), ('work', 0.9998089671134949), ('server', 0.9998084306716919), ('customer', 0.9998075366020203), ('minute', 0.9998073577880859), ('first', 0.9998070001602173), ('great_place', 0.9998034238815308), ('experience', 0.9997990727424622), ('look', 0.9997988939285278), ('door', 0.9997982382774353), ('last_night', 0.999797523021698), ('nice', 0.9997966289520264), ('bartender', 0.99979567527771), ('dinner', 0.9997947216033936), ('walk', 0.9997923374176025), ('line', 0.9997922778129578), ('take', 0.9997848868370056), ('guy', 0.9997841715812683), ('location', 0.9997807145118713), ('atmosphere', 0.9997787475585938), ('talk', 0.9997786283493042), ('receive', 0.9997782111167908), ('close', 0.9997771978378296), ('kitchen', 0.99977707862854), ('sat', 0.9997760653495789), ('game', 0.9997751712799072)]\n",
            "[('see', 0.9999180436134338), ('work', 0.9999178051948547), ('area', 0.9999164342880249), ('walk', 0.9999154210090637), ('experience', 0.9999120235443115), ('waitress', 0.9999111294746399), ('guy', 0.9999098777770996), ('since', 0.9999086260795593), ('yelp', 0.9999085664749146), ('customer', 0.9999083876609802), ('visit', 0.999907374382019), ('server', 0.9999072551727295), ('close', 0.999904453754425), ('show', 0.9999035000801086), ('manager', 0.9999032616615295), ('room', 0.9999030232429504), ('busy', 0.9999023079872131), ('never', 0.9999010562896729), ('patio', 0.9999009370803833), ('location', 0.9999004602432251), ('return', 0.9999004006385803), ('crowd', 0.9999001026153564), ('open', 0.9998998641967773), ('friend', 0.9998993873596191), ('first', 0.9998973608016968), ('scottsdale', 0.9998972415924072), ('outside', 0.9998971223831177), ('find', 0.9998968243598938), ('around', 0.9998946189880371), ('check', 0.9998934268951416), ('keep', 0.9998932480812073), ('door', 0.9998931884765625), ('year', 0.9998927712440491), ('business', 0.9998926520347595), ('night', 0.9998918771743774), ('review', 0.9998898506164551), ('head', 0.9998876452445984), ('friendly', 0.9998865127563477), ('phoenix', 0.9998862743377686), ('atmosphere', 0.9998862147331238), ('left', 0.9998859763145447), ('din', 0.9998857378959656), ('talk', 0.9998856782913208), ('feel', 0.9998853206634521), ('sat', 0.9998852610588074), ('last_night', 0.9998851418495178), ('turn', 0.999885082244873), ('seem', 0.9998845458030701), ('new', 0.9998844265937805), ('stop', 0.9998843669891357)]\n"
          ]
        }
      ],
      "source": [
        "#############################################\n",
        "# Busquem termes semànticament relacionats a food\n",
        "term = 'food'\n",
        "similar = w2v_opinions.wv.most_similar(term, topn=50)\n",
        "print(similar)\n",
        "#############################################\n",
        "\n",
        "#############################################\n",
        "# Busquem termes semànticament relacionats a drink\n",
        "term = 'drink'\n",
        "similar = w2v_opinions.wv.most_similar(term, topn=50)\n",
        "print(similar)\n",
        "#############################################\n",
        "\n",
        "#############################################\n",
        "# Busquem termes semànticament relacionats a staff\n",
        "term = 'staff'\n",
        "similar = w2v_opinions.wv.most_similar(term, topn=50)\n",
        "print(similar)\n",
        "#############################################"
      ],
      "id": "568d1445"
    },
    {
      "cell_type": "code",
      "execution_count": 68,
      "metadata": {
        "id": "764f6cdb",
        "colab": {
          "base_uri": "https://localhost:8080/"
        },
        "outputId": "86e9f5f4-7a25-4711-c0f6-3e767d5c88ee"
      },
      "outputs": [
        {
          "output_type": "stream",
          "name": "stdout",
          "text": [
            "[('style', 0.9999328255653381), ('bit', 0.9999289512634277), ('option', 0.9999268054962158), ('full', 0.9999220967292786), ('enjoy', 0.999921977519989), ('super', 0.9999212622642517), ('whole', 0.9999212622642517), ('wonderful', 0.9999203085899353), ('although', 0.9999197721481323), ('however', 0.9999193549156189), ('big', 0.9999191761016846), ('course', 0.9999186992645264), ('enough', 0.9999186396598816), ('two', 0.999918520450592), ('without', 0.9999178051948547), ('offer', 0.9999175071716309), ('definitely', 0.9999171495437622), ('type', 0.999916672706604), ('recommend', 0.9999163150787354), ('perfectly', 0.9999157786369324), ('pretty', 0.999915361404419), ('small', 0.9999153017997742), ('selection', 0.999914824962616), ('choice', 0.9999142289161682), ('either', 0.9999140501022339), ('anything', 0.9999138116836548), ('perfect', 0.9999138116836548), ('oh', 0.99991375207901), ('stuff', 0.9999136924743652), ('probably', 0.9999134540557861), ('ate', 0.9999130368232727), ('house', 0.9999125599861145), ('excellent', 0.9999125599861145), ('fan', 0.9999119639396667), ('end', 0.9999119639396667), ('must', 0.9999116063117981), ('thought', 0.9999116063117981), ('long', 0.9999098777770996), ('le', 0.9999098181724548), ('water', 0.9999098181724548), ('top', 0.9999095797538757), ('huge', 0.9999091029167175), ('lovely', 0.9999088644981384), ('etc', 0.9999083876609802), ('fill', 0.9999083280563354), ('mom', 0.9999079704284668), ('could', 0.9999077916145325), ('piece', 0.9999074339866638), ('everything', 0.9999071955680847), ('use', 0.9999071359634399)]\n",
            "[('fantastic', 0.9998522400856018), ('really_good', 0.9998506307601929), ('amaze', 0.9998424649238586), ('awesome', 0.999839186668396), ('yummy', 0.9998382329940796), ('share', 0.9998312592506409), ('wing', 0.9998277425765991), ('also', 0.9998213052749634), ('pretty_good', 0.9998153448104858), ('excellent', 0.9998149871826172), ('love', 0.9998149871826172), ('favorite', 0.9998145699501038), ('fill', 0.9998112916946411), ('try', 0.999809741973877), ('flavorful', 0.9998056888580322), ('special', 0.9998018741607666), ('ingredient', 0.9997994899749756), ('piece', 0.9997971653938293), ('selection', 0.9997943043708801), ('well', 0.9997905492782593), ('pasta', 0.9997884035110474), ('fresh', 0.9997875690460205), ('appetizer', 0.9997866153717041), ('big', 0.9997859001159668), ('entree', 0.9997853636741638), ('many', 0.9997822046279907), ('spice', 0.9997802376747131), ('authentic', 0.9997802376747131), ('perfect', 0.9997795224189758), ('dip', 0.9997788667678833), ('come', 0.9997784495353699), ('include', 0.9997783303260803), ('roll', 0.9997768998146057), ('unique', 0.999775230884552), ('bit', 0.9997735023498535), ('portion', 0.9997727274894714), ('choice', 0.9997724890708923), ('sweet', 0.9997723698616028), ('grill', 0.999772310256958), ('wrap', 0.999772310256958), ('yum', 0.9997721314430237), ('also_good', 0.9997701048851013), ('enjoy', 0.9997700452804565), ('pretty', 0.9997700452804565), ('much', 0.9997695684432983), ('style', 0.9997689723968506), ('plus', 0.9997689723968506), ('recommend', 0.999768853187561), ('wonderful', 0.9997681975364685), ('fish', 0.9997676014900208)]\n",
            "[('right', 0.9999290704727173), ('seem', 0.9999244809150696), ('way', 0.9999244213104248), ('sure', 0.9999238848686218), ('could', 0.9999229311943054), ('worth', 0.999921977519989), ('need', 0.9999187588691711), ('still', 0.999918520450592), ('kind', 0.9999168515205383), ('quite', 0.9999166131019592), ('fact', 0.9999164938926697), ('everyone', 0.9999144673347473), ('actually', 0.9999129176139832), ('long', 0.999912679195404), ('another', 0.9999123215675354), ('atmosphere', 0.999911904335022), ('feel', 0.9999118447303772), ('may', 0.9999118447303772), ('even_though', 0.9999100565910339), ('stop', 0.9999100565910339), ('keep', 0.9999098181724548), ('find', 0.9999096989631653), ('remember', 0.9999082684516907), ('day', 0.9999075531959534), ('probably', 0.9999071955680847), ('scottsdale', 0.9999070167541504), ('however', 0.9999064803123474), ('close', 0.9999053478240967), ('talk', 0.9999052882194519), ('different', 0.9999051690101624), ('year', 0.9999050498008728), ('drive', 0.9999043941497803), ('lot', 0.9999041557312012), ('guess', 0.9999037981033325), ('might', 0.9999036192893982), ('tell', 0.9999033808708191), ('reason', 0.9999027252197266), ('point', 0.9999021887779236), ('new', 0.9999017119407654), ('spot', 0.9999005198478699), ('next', 0.9999000430107117), ('maybe', 0.9998999834060669), ('care', 0.9998998045921326), ('home', 0.999899685382843), ('heard', 0.999899685382843), ('go_back', 0.9998995661735535), ('happy', 0.9998994469642639), ('yet', 0.9998982548713684), ('week', 0.9998981356620789), ('told', 0.9998978972434998)]\n"
          ]
        }
      ],
      "source": [
        "#############################################\n",
        "# Busquem termes semànticament relacionats a quality\n",
        "term = 'quality'\n",
        "similar = w2v_opinions.wv.most_similar(term, topn=50)\n",
        "print(similar)\n",
        "#############################################\n",
        "\n",
        "#############################################\n",
        "# Busquem termes semànticament relacionats a good\n",
        "term = 'great'\n",
        "similar = w2v_opinions.wv.most_similar(term, topn=50)\n",
        "print(similar)\n",
        "#############################################\n",
        "\n",
        "#############################################\n",
        "# Busquem termes semànticament relacionats a bad\n",
        "term = 'bad'\n",
        "similar = w2v_opinions.wv.most_similar(term, topn=50)\n",
        "print(similar)\n",
        "#############################################\n"
      ],
      "id": "764f6cdb"
    },
    {
      "cell_type": "markdown",
      "metadata": {
        "id": "80090d4b"
      },
      "source": [
        "# 2. Detecció de temes (4 punts)\n",
        "\n",
        "En aquests apartats explorarem quins són els tòpics tractats a les opinions."
      ],
      "id": "80090d4b"
    },
    {
      "cell_type": "markdown",
      "metadata": {
        "id": "00bb679a"
      },
      "source": [
        "## 2.1 Exploració dels temes amb WordNet (2 punts)"
      ],
      "id": "00bb679a"
    },
    {
      "cell_type": "markdown",
      "metadata": {
        "id": "9e7a2020"
      },
      "source": [
        "En aquest apartat accedirem a Wordnet a través de la llibreria nltk."
      ],
      "id": "9e7a2020"
    },
    {
      "cell_type": "code",
      "execution_count": 25,
      "metadata": {
        "id": "320fee0c"
      },
      "outputs": [],
      "source": [
        "from nltk.corpus import wordnet as wn"
      ],
      "id": "320fee0c"
    },
    {
      "cell_type": "markdown",
      "metadata": {
        "id": "7ccd9034"
      },
      "source": [
        "<div style=\"background-color: #EDF7FF; border-color: #7C9DBF; border-left: 5px solid #7C9DBF; padding: 0.5em;\">\n",
        "<strong>Exercici:</strong> Comprova si, segons Wordnet, hi ha aspectes que estan allunyats semànticament del sentit del target, encara que en el model word2vec siguin similars. Comproveu-ho calculant la similitud de Wu and Palmer entre el sentit de wordnet 'restaurant.n.01' i alguns dels seus aspectes. (1 punt)\n",
        "</div>"
      ],
      "id": "7ccd9034"
    },
    {
      "cell_type": "code",
      "execution_count": 71,
      "metadata": {
        "id": "30cfcb0f",
        "colab": {
          "base_uri": "https://localhost:8080/"
        },
        "outputId": "f03719db-0a24-41ef-9302-55e6e5f3cd74"
      },
      "outputs": [
        {
          "output_type": "stream",
          "name": "stdout",
          "text": [
            "Hiperònims de restaurant:  [Synset('building.n.01')]\n",
            "Hiperònims de food:  [Synset('substance.n.07')]\n",
            "Hiperònims de menu:  [Synset('bill.n.07')]\n",
            "Hiperònims de waiter:  [Synset('dining-room_attendant.n.01')]\n",
            "Hiperònims de ambiance:  [Synset('condition.n.01')]\n",
            "Hiperònims de reservation:  [Synset('administrative_district.n.01')]\n",
            "Distància semàntica entre 'restaurant' i 'food':  0.31\n",
            "Distància semàntica entre 'restaurant' i 'menu':  0.12\n",
            "Distància semàntica entre 'restaurant' i 'waiter':  0.42\n",
            "Distància semàntica entre 'restaurant' i 'ambiance':  0.14\n",
            "Distància semàntica entre 'restaurant' i 'reservation':  0.38\n"
          ]
        }
      ],
      "source": [
        "#############################################\n",
        "restaurant = wn.synset('restaurant.n.01')\n",
        "food = wn.synset('food.n.01')\n",
        "menu = wn.synset('menu.n.01')\n",
        "waiter = wn.synset('waiter.n.01')\n",
        "ambiance = wn.synset('ambiance.n.01')\n",
        "reservation = wn.synset('reservation.n.01')\n",
        "\n",
        "print(\"Hiperònims de restaurant: \", restaurant.hypernyms())\n",
        "print(\"Hiperònims de food: \", food.hypernyms())\n",
        "print(\"Hiperònims de menu: \", menu.hypernyms())\n",
        "print(\"Hiperònims de waiter: \", waiter.hypernyms())\n",
        "print(\"Hiperònims de ambiance: \", ambiance.hypernyms())\n",
        "print(\"Hiperònims de reservation: \", reservation.hypernyms())\n",
        "print(\"Distància semàntica entre 'restaurant' i 'food': \", np.round(restaurant.wup_similarity(food),2))\n",
        "print(\"Distància semàntica entre 'restaurant' i 'menu': \", np.round(restaurant.wup_similarity(menu),2))\n",
        "print(\"Distància semàntica entre 'restaurant' i 'waiter': \", np.round(restaurant.wup_similarity(waiter),2))\n",
        "print(\"Distància semàntica entre 'restaurant' i 'ambiance': \", np.round(restaurant.wup_similarity(ambiance),2))\n",
        "print(\"Distància semàntica entre 'restaurant' i 'reservation': \", np.round(restaurant.wup_similarity(reservation),2))\n",
        "#############################################\n",
        "\n"
      ],
      "id": "30cfcb0f"
    },
    {
      "cell_type": "markdown",
      "metadata": {
        "id": "3209e5cc"
      },
      "source": [
        "<div style=\"background-color: #EDF7FF; border-color: #7C9DBF; border-left: 5px solid #7C9DBF; padding: 0.5em;\">\n",
        "<strong>Exercici:</strong> Llista els termes monoparaula del vocabulari de word2vec que no són a Wordnet. Els termes han de ser noms o adjectius. Creieu que aquests termes són importants per poder fer una bona anàlisi de sentiments? (1 punt)"
      ],
      "id": "3209e5cc"
    },
    {
      "cell_type": "code",
      "execution_count": 72,
      "metadata": {
        "id": "70e8e4bd",
        "colab": {
          "base_uri": "https://localhost:8080/"
        },
        "outputId": "427ccd79-7b71-44e9-e465-e674123de924"
      },
      "outputs": [
        {
          "output_type": "stream",
          "name": "stdout",
          "text": [
            "['everything', 'something', 'scottsdale', 'anything', 'everyone', 'etc', 'pho', 'yum', 'others', 'tempe', 'anyone', 'bruschetta', 'delish', 'lol', 'hey', 'joe', 'crunchy', 'oz', 'st', 'cannot', 'gelato', 'thats', 'meh', 'waitstaff', 'ya', 'yuck', 'bf', 'groupon', 'gf', 'yelpers', 'com', 'torta', 'edamame', 'dont', 'postino', 'ish', 'delux', 'mojito', 'guac', 'boba', 'btw', 'fyi', 'asu', 'fav', 'feta', 'calzone', 'phx', 'didnt', 'carnitas', 'nope', 'coworker', 'rd', 'def', 'cibo', 'cuz', 'um', 'wtf', 'gonna', 'chris', 'eh', 'starbucks', 'mmm', 'horchata', 'ahwatukee', 'everybody', 'fajitas', 'ahi', 'pollo', 'ribeye', 'gotta', 'cheesesteak', 'yasu', 'uh', 'grimaldi', 'vig', 'lil', 'glendale', 'im', 'pupusas', 'ramen', 'yc', 'byob', 'haha', 'roy', 'jeff', 'ive', 'nigiri', 'everytime', 'yep', 'towards', 'ugh', 'chompie', 'chimichanga', 'legit', 'coworkers', 'staffperson', 'burrata', 'denny', 'sandwhich', 'hmm', 'creme', 'sooo', 'rnr', 'gallo', 'ipa', 'alfredo', 'huh', 'masala', 'zinburger', 'alot', 'freakin', 'aj', 'chimi', 'lgo', 'kimchi', 'sans', 'undercooked', 'hh', 'jalapeño', 'nutella', 'empanadas', 'hashbrowns', 'sakana', 'jim', 'aka', 'kiltlifter', 'quinoa', 'carb', 'maizie', 'biltmore', 'bruchetta', 'esque', 'rokerij', 'yummm', 'resturant', 'gyoza', 'postinos', 'eggrolls', 'asada', 'mastro', 'ah', 'facebook', 'soo', 'taquitos', 'bro', 'picazzo', 'yikes', 'mahi', 'chilaquiles', 'uber', 'roberto', 'smashburger', 'focaccia', 'amongst', 'dang', 'provolone', 'jennifer', 'zipps', 'hillstone', 'ck', 'multi', 'lisa', 'injera', 'iphone', 'sf', 'wendy', 'versus', 'chompies', 'parm', 'knowledgable', 'amy', 'antipasti', 'tejas', 'pico', 'fatburger', 'mmmmmm', 'couldnt', 'aiello', 'mcdonalds', 'camelback', 'mojitos', 'quiznos', 'charlie', 'danielle', 'mia', 'ihop', 'awesomeness', 'verde', 'wanna', 'sayin', 'machaca', 'macayo', 'outta', 'yakisoba', 'noca', 'sp', 'caprese', 'shawarma', 'hubster', 'carbs', 'fixin', 'bff', 'doesnt', 'bertha', 'woohoo', 'habanero', 'crudo', 'hmmm', 'amc', 'tony', 'pappadeaux', 'filiberto', 'nobuo', 'faves', 'flo', 'favs', 'tiki', 'marcellino', 'ikea', 'somethings', 'tim', 'filibertos', 'ipad', 'fogo', 'chelsea', 'yupha', 'poblano', 'divey', 'yumm', 'fajita', 'pancetta', 'amanda', 'nicole', 'potstickers', 'pupusa', 'pcg', 'jus', 'imho', 'mmmmm', 'qdoba', 'delicous', 'shea', 'jen', 'ginormous', 'lengua', 'toro', 'spicey', 'cannoli', 'ol', 'arribas', 'til', 'bandera', 'nello', 'mimi', 'portabella', 'buca', 'yo', 'mcdonald', 'hella', 'calzones', 'tres', 'lon', 'dosa', 'uye', 'mmmmmmm', 'katsu', 'hoppin', 'tortas', 'quiessence', 'carne', 'pavle', 'mcdowell', 'lalibela', 'chimis', 'marie', 'anybody', 'munchies', 'uni', 'sammy', 'sammich', 'fi', 'rubios', 'subpar', 'whats', 'rubio', 'lavosh', 'kyle', 'friggin', 'teppanyaki', 'kazimierz', 'proscuitto', 'frites', 'opentable', 'bj', 'toasty', 'gosh', 'carmel', 'tott', 'dr', 'popeye', 'phil', 'duh', 'capriotti', 'whoa', 'yoli', 'sweaty', 'manchego', 'stax', 'richard', 'sooooo', 'biggie', 'casey', 'coronado', 'fontina', 'cantina', 'mein', 'brulee', 'barro', 'irma', 'larry', 'molinos', 'flautas', 'san', 'freddy', 'thurs', 'hefe', 'eegees', 'ahh', 'rosati', 'ufc', 'cpk', 'malbec', 'bmq', 'cherryblossom', 'ancho', 'beppo', 'zin', 'mabel', 'rootbeer', 'boca', 'pete', 'foccacia', 'marg', 'cadillac', 'mex', 'carla', 'awsome', 'wildfish', 'bday', 'nypd', 'satay', 'wagyu', 'isnt', 'wouldnt', 'everyones', 'jamie', 'arepa', 'sinigang', 'kim', 'ticoz', 'bulgogi', 'sandwhiches', 'biancoverde', 'margs', 'artsy', 'bertos', 'roti', 'grande', 'somethin', 'gimmicky', 'buffett', 'bgf', 'jon', 'fuddruckers', 'bmw', 'strongbow', 'costco', 'empanada', 'roka', 'lovin', 'bodo', 'mcgrath', 'fam', 'cal', 'paneer', 'joes', 'sunnyslope', 'liz', 'panko', 'gratin', 'upcharge', 'rita', 'havent', 'tmi', 'hoegaarden', 'kierland', 'gravlax', 'leche', 'orecchiette', 'dottsy', 'vampiro', 'sautéed', 'bibimbap', 'sedona', 'wtih', 'babbo', 'broccolini', 'cenpho', 'mgr', 'nite', 'snickerdoodle', 'pina', 'pacifico', 'carin', 'donald', 'whereas', 'tukee', 'wiseguy', 'parma', 'binkley', 'congrats', 'hummous', 'rula', 'mcd', 'ryan', 'cortadito', 'restaraunt', 'babaganoush', 'umm', 'macarons', 'liquidy', 'popeyes', 'grimaldis', 'lucille', 'santan', 'passionfruit', 'wth', 'onsite', 'pannini', 'melty', 'kisra', 'entre', 'avacado', 'superbowl', 'hamachi', 'bomberos', 'circa', 'tottie', 'fresca', 'habenero', 'jesse', 'espn', 'unagi', 'teppan', 'bahama', 'sh', 'jotc', 'saag', 'crostini', 'italiano', 'giuseppe', 'portofino', 'standout', 'kai', 'portillo', 'grazie', 'ooooh', 'gomen', 'endu', 'chuy', 'chodang', 'rustica', 'sara', 'sal', 'majerle', 'bingsoo', 'riazzi', 'jobot', 'distrito', 'cholula', 'corndog', 'wongs', 'vinegarette', 'dan', 'lo', 'oggie', 'nom', 'chiptole', 'ohso', 'churro', 'restuarant', 'civiche', 'zuchinni', 'rc', 'fbh', 'foo', 'pj', 'abuelo', 'brocolli', 'ayce', 'usuals', 'consistant', 'candace', 'lumpia', 'whilst', 'yummmm', 'rudy', 'nathan', 'ppl', 'wierd', 'gil', 'hoa', 'nba', 'aint', 'defalco', 'wich', 'sriracha', 'vada', 'afterall', 'barbacoa', 'cb', 'hottie', 'crema', 'mmmmmmmm', 'soba', 'tastic', 'bon', 'nfl', 'fest', 'seperate', 'chocolatey', 'pischke', 'mexicana', 'roscoe', 'asado', 'intel', 'devine', 'americano', 'ftw', 'spanikopita', 'pescatarian', 'uno', 'shouldnt', 'bogi', 'convienent', 'cheuvront', 'kiddo', 'viet', 'resturaunt', 'gelatos', 'payton', 'barrumunda', 'portobello', 'bucco', 'anywho', 'omfg', 'hyper', 'jalepeno', 'yummers', 'dt', 'melrose', 'bentos', 'ritas', 'sabzi', 'marty', 'soju', 'kfc', 'bacado', 'dennis', 'brioni', 'methinks', 'wasabe', 'gina', 'rey', 'pancit', 'karey', 'pappadeux', 'giardiniera', 'cyclo', 'ernie', 'brak', 'awhatukee', 'cioppino', 'ff', 'iceburg', 'bolognese', 'roys', 'babaloo', 'scottsdalish', 'alberto', 'sonoran', 'esparza', 'niro', 'mega', 'bfp', 'coldplay', 'fundito', 'panang', 'maitre', 'premade', 'neds', 'brushetta', 'moes', 'someburros', 'oprah', 'hmmmm', 'shochu', 'spendy', 'natalie', 'bobbie', 'taneko', 'habaneros', 'salsiccia', 'juan', 'shumai', 'eatin', 'alex', 'seabass', 'burritoes', 'udupi', 'gavin', 'guedo', 'heh', 'luis', 'tempranillo', 'werent', 'yumminess', 'elliot', 'crustini', 'meetup', 'panera', 'socal', 'kabuki', 'prob', 'pv', 'prosecco', 'tommy', 'chipolte', 'obama', 'prado', 'promos', 'mirugai', 'bento', 'uhm', 'ponzu', 'tako', 'ruben', 'waaaay', 'thingies', 'tandoori', 'estrella', 'eegee', 'kheer', 'blanco', 'thingy', 'mel', 'coz', 'benihana', 'grady', 'gr', 'luv', 'casella', 'caliente', 'elmer', 'macayos', 'harissa', 'swaddee', 'rivas', 'vindaloo', 'dennys', 'travis', 'mario', 'scuzy', 'eg', 'multigrain', 'amidst', 'precut', 'pomodoro', 'ichi', 'tsoynami', 'colada', 'barista', 'woulda', 'roscoes', 'eric', 'foodgasm', 'karina', 'jd', 'eww', 'charleen', 'uhh', 'cubano', 'ajillo', 'biker', 'adobada', 'shwarma', 'fiancé', 'mozarella', 'hee', 'vin', 'lynn', 'arent', 'limoncello', 'fb', 'jcc', 'gruyère', 'youre', 'sopapillas', 'schreiner', 'blech', 'kolsch', 'travelzoo', 'spinato', 'appy', 'cornhole', 'chilies', 'hilton', 'venyse', 'benson', 'havarti', 'margherita', 'umami', 'idk', 'yorker', 'hugh', 'chambord', 'bcs', 'corleone', 'sophie', 'wha', 'vincent', 'chao', 'pepitas', 'midtown', 'gryo', 'reese', 'wouldve', 'taquerias', 'salvadoreno', 'cho', 'slutty', 'crimini', 'fujiya', 'orgasmic', 'laura', 'theodosopoulos', 'del', 'puttanesca', 'hoppy', 'ganache', 'baiz', 'goto', 'canoli', 'chaat', 'rasberry', 'ahhh']\n"
          ]
        }
      ],
      "source": [
        "#############################################\n",
        "# Get the filtered vocabulary that is not in Wordnet\n",
        "filtered_vocab = [word for word in vocabulary if len(word.split('_')) == 1 \n",
        "                  and not wn.synsets(word)]\n",
        "\n",
        "# Get the PoS tags for the filtered vocabulary\n",
        "pos_tags = pos_tag(filtered_vocab)\n",
        "\n",
        "# Filter out the words that are not nouns or adjectives\n",
        "filtered_vocab = [word for (word, pos) in pos_tags if pos.startswith('NN') or pos.startswith('JJ')]\n",
        "\n",
        "print(filtered_vocab)\n",
        "#############################################"
      ],
      "id": "70e8e4bd"
    },
    {
      "cell_type": "markdown",
      "source": [
        "No sembla haver-hi un tema o categoria específica, però hi ha moltes paraules relacionades amb menjar i restaurants, així com altres paraules i frases col·loquials que es poden utilitzar en converses informals.\n",
        "\n",
        "Algunes paraules, com \"delish\" i \"yuck\", podrien ser útils per a l'anàlisi de sentiments, ja que indiquen una resposta emocional a alguna cosa (en aquest cas, menjar). Altres paraules, com \"um\" i \"ah\", poden ser menys útils per a l'anàlisi de sentiments, ja que no indiquen una emoció clara.\n",
        "\n",
        "En general, la llista conté moltes paraules col·loquials i informals que podrien ser útils en converses informals, però podrien ser menys útils per a l'anàlisi de sentiments en un context més formal.\n",
        "\n",
        "Hi ha algun pronom com everything, something, anything que no són al wordnet, ja que el WordNet està limitat pel seu àmbit i la seva concentració en la semàntica lèxica, el que significa que es centra principalment en les relacions entre les paraules i els seus significats. Hi ha molts aspectes del llenguatge i el significat que es troben fora de l'àmbit del WordN"
      ],
      "metadata": {
        "id": "cggqr4_j0Mmr"
      },
      "id": "cggqr4_j0Mmr"
    },
    {
      "cell_type": "markdown",
      "metadata": {
        "id": "f5f788a4"
      },
      "source": [
        "## 2.2 LDA (2 punts)\n",
        "\n",
        "Recordeu que al notebook del mòdul 1 hem vist l'aplicació del mètode LDA per extreure temes de documents."
      ],
      "id": "f5f788a4"
    },
    {
      "cell_type": "markdown",
      "metadata": {
        "id": "1c6825ff"
      },
      "source": [
        "<i>Primer pas</i>: Convertir les opinions transformades (opinion_sentences_transformed) en llistes de noms i col·locacions. Això és necessari ja que els noms i les col·locacions expressen els temes de les opinions (e.g: [['wife have breakfast sitting_outside'], [''waitress', 'served', 'ceviche']...] -> [ ['wife', 'breakfast', 'sitting_outside'], ['waitress', 'ceviche']]"
      ],
      "id": "1c6825ff"
    },
    {
      "cell_type": "code",
      "execution_count": 73,
      "metadata": {
        "id": "76ad1379"
      },
      "outputs": [],
      "source": [
        "#############################################\n",
        "# Preprocessar les dades (només noms i col·locacions)\n",
        "processed_sentences = []\n",
        "for sentence in lemmatized_sentences:\n",
        "\n",
        "    # Filter only nouns and collocations\n",
        "    processed_words = [word for word in sentence if '_' in word or pos_tag([word])[0][1].startswith('N')]\n",
        "\n",
        "    # Add the processed sentence to the list\n",
        "    processed_sentences.append(processed_words)\n",
        "#############################################"
      ],
      "id": "76ad1379"
    },
    {
      "cell_type": "code",
      "source": [
        "print(processed_sentences[:10])"
      ],
      "metadata": {
        "colab": {
          "base_uri": "https://localhost:8080/"
        },
        "id": "IO0HyUtS8RVz",
        "outputId": "ee0a7958-35ed-4e06-e15c-b8a3a9ab2b99"
      },
      "id": "IO0HyUtS8RVz",
      "execution_count": 74,
      "outputs": [
        {
          "output_type": "stream",
          "name": "stdout",
          "text": [
            "[['wife_took', 'birthday', 'breakfast', 'excellent', 'weather_perfect', 'sitting_outside', 'overlook', 'ground', 'absolute', 'pleasure_waitress', 'excellent_food', 'arrived_quickly', 'semi', 'busy_saturday', 'morning', 'looked_like', 'place', 'fill', 'pretty_quickly', 'earlier_get', 'favor_get', 'bloody_mary', 'phenomenal', 'simply_best', 'pretty_sure', 'use_ingredients', 'garden', 'blend', 'order', 'amazing_everything', 'menu_looks', 'excellent', 'white_truffle', 'scrambled_eggs', 'vegetable', 'skillet', 'tasty', 'came_pieces', 'griddle', 'bread_amazing', 'absolutely_made', 'meal_complete', 'toast_ever', 'wait_go'], ['idea_people', 'bad_reviews', 'place', 'goes_show', 'please_everyone', 'grip', 'something', 'fault', 'many_people', 'case', 'friend_arrived', 'pm', 'past_sunday', 'pretty_crowded', 'thought', 'sunday_evening', 'thought_would', 'wait', 'forever_get', 'seat', 'said_seated', 'girl', 'comes_back', 'seat', 'someone_else', 'seat', 'waiter_came', 'drink_orders', 'everyone', 'pleasant', 'host_seated', 'u', 'waiter', 'server', 'prices_good', 'place', 'orders_decided', 'want', 'share', 'baked_spaghetti', 'calzone', 'beef', 'pizza', 'try', 'calzone', 'got_small', 'pizza_awesome', 'friend', 'pizza_better', 'calzone_better', 'calzone', 'sweetish', 'sauce', 'sauce', 'box', 'part', 'pizza', 'take_home', 'door', 'everything', 'bad_reviewers', 'goes_show', 'try_things', 'bad_reviewers', 'serious_issues'], ['love', 'gyro_plate', 'rice', 'dig', 'candy', 'selection'], ['quiessence', 'simply_put', 'beautiful', 'window', 'earthy', 'wooden', 'wall', 'feel', 'warmth', 'inside_restaurant', 'perch', 'middle_farm', 'restaurant', 'seem', 'fairly_full', 'tuesday', 'secure', 'reservation', 'couple_days', 'friend', 'sample', 'sandwich', 'farm_kitchen', 'earlier_week', 'want_eat', 'restaurant', 'crisp_fresh', 'veggie', 'disappoint_ordered', 'salad_orange', 'grapefruit', 'slice', 'crudites', 'start', 'even_know', 'raw', 'radish', 'turnip', 'try', 'pesto', 'aioli', 'sauces_entrees', 'ordered_lamb', 'friend_ordered', 'pork_shoulder', 'service', 'start', 'trail', 'waiting_food', 'took_long', 'time', 'couple_seated', 'us_received', 'finish', 'entrees_received', 'one_bothered', 'explain_situation', 'maitre', 'almost_minutes', 'chef', 'sauce', 'entree', 'start', 'anew', 'problem', 'communicate', 'u', 'trouble', 'comped', 'glass_wine', 'order', 'forgot_bring', 'entree', 'request', 'also_offer', 'u', 'bread', 'echo', 'lady', 'whisper', 'u', 'way', 'ask', 'bread', 'receive', 'warm', 'foccacia', 'apple_walnut', 'pomegranate', 'slice', 'wonder', 'honey_butter', 'yum', 'entrees_solid', 'innovation', 'freshness_vegetables', 'lamb', 'sauce', 'meat', 'tough_maybe', 'vegetarian_entrees', 'way_go', 'dessert', 'gingerbread', 'pear', 'cake', 'yet_another', 'winner', 'entree', 'tad', 'inspire', 'service_spotty', 'place_definitely', 'warrant', 'five_stars', 'return', 'try', 'tasting_menu', 'bill_came', 'two_people', 'including_tip', 'drink'], ['drop', 'drive', 'ate', 'go_back', 'next_day', 'food_good', 'cute_little', 'building', 'drive', 'palm', 'rd', 'avoid', 'construction', 'wait', 'turn', 'th_street', 'grand_opening', 'sign', 'caught_eye', 'yelp', 'soul', 'leap', 'joy', 'place', 'try', 'look', 'desolate', 'outside_opened', 'door', 'put', 'decor', 'smell', 'cleanliness', 'order', 'dinner', 'menu', 'awesome', 'love', 'variety', 'poblano', 'pepper', 'mole_mahi', 'mahi', 'mushroom', 'something', 'wrapped_banana', 'leaf', 'difficult_choose', 'something', 'la_condesa', 'shrimp_burro', 'baja', 'sur', 'dogfish', 'shark', 'taco', 'meal', 'shrimp_burro', 'stole_show', 'much_flavor', 'snag', 'bite', 'hubby', 'mole_mahi', 'mahi', 'burro', 'mmmm', 'delight', 'salsa_bar', 'endless', 'stock', 'excited_try', 'strawberry_salsa', 'fact', 'wimp', 'comes_hot', 'pepper', 'horchata', 'handmade', 'throw', 'pecans_fruit', 'yummy', 'bonus', 'good_food', 'win', 'art', 'restaurant', 'sho', 'sucker', 'folk', 'art', 'frida', 'kahlo', 'oprah', 'painting', 'diego', 'hang', 'salsa_bar', 'amaze', 'painting', 'love', 'artist'], ['definitely_come', 'happy_hour', 'prices_amazing', 'sake_bombers', 'great_atmosphere', 'wait_staff', 'incredibly_nice', 'right', 'need', 'ask', 'thing', 'spot', 'place_gets', 'crowd', 'plan', 'sitting_outside', 'wish_one', 'apollo', 'beach', 'brandon'], ['nobuo', 'show', 'unique', 'talent', 'everything_menu', 'carefully_crafted', 'feature', 'drink', 'start_pork', 'bun', 'stout', 'longer'], ['wonderful', 'sandwich', 'shoppe', 'baguette', 'butter', 'one_many', 'sandwich', 'choice', 'selection', 'baked_goods', 'best_egg', 'roll', 'bring_cash', 'atm', 'card', 'credit_cards', 'atm', 'premise'], ['time', 'thing_going', 'right', 'bbq_chicken', 'pizza', 'sure', 'let_say', 'amaze', 'probably_best', 'bbq_chicken', 'pizza_ever', 'try', 'things_like', 'tomato_basil', 'soup', 'sandwiches_good', 'every_time', 'star', 'pizza', 'rate', 'jason_deli'], ['week', 'new_phoenix', 'look', 'irish_bars', 'town', 'found', 'rosie', 'decor_ambience', 'went_wednesday', 'night', 'hope', 'friendly_folks', 'ate', 'dinner', 'bar', 'marcy', 'bartender_friendly', 'helpful', 'introduce', 'whole_bunch', 'people', 'dinner', 'rueben', 'sandwich_pretty', 'rosie', 'salad_side', 'job', 'wish', 'lettuce', 'iceburg', 'bacon_eggs', 'help', 'whole_lot', 'drank', 'cold', 'smithwick_tap', 'vodka', 'tonic', 'tab', 'basketball_game', 'got_game', 'jukebox_playing', 'mix', 'oldie', 'around_pm', 'live_band', 'played', 'catch', 'performance', 'notice', 'really_like', 'singer', 'voice', 'rare', 'since_typically', 'care', 'female', 'vocalist', 'people', 'spoke', 'super_nice', 'welcome', 'sure', 'bunch', 'look_forward']]\n"
          ]
        }
      ]
    },
    {
      "cell_type": "markdown",
      "metadata": {
        "id": "eef21d0c"
      },
      "source": [
        "<div style=\"background-color: #EDF7FF; border-color: #7C9DBF; border-left: 5px solid #7C9DBF; padding: 0.5em;\">\n",
        "<strong>Exercici:</strong> Extreu temes a partir de la sentència stream d'opinions lematitzades. Experimenta amb el paràmetre num_topics fins a trobar un conjunt de temes informatius assignant noms als temes trobats. (2 punts)\n",
        "</div>"
      ],
      "id": "eef21d0c"
    },
    {
      "cell_type": "code",
      "execution_count": 75,
      "metadata": {
        "id": "3284e474",
        "colab": {
          "base_uri": "https://localhost:8080/"
        },
        "outputId": "8bc3f9e8-f186-401c-bdcd-c86d3daf60a9"
      },
      "outputs": [
        {
          "output_type": "stream",
          "name": "stdout",
          "text": [
            "Tema: 1 \n",
            "Paraules clau: 0.018*\"food\" + 0.012*\"place\" + 0.008*\"love\" + 0.007*\"restaurant\" + 0.007*\"dish\" + 0.006*\"order\" + 0.006*\"try\" + 0.005*\"chicken\" + 0.005*\"time\" + 0.005*\"meal\"\n",
            "Tema: 2 \n",
            "Paraules clau: 0.012*\"place\" + 0.009*\"food\" + 0.008*\"order\" + 0.005*\"try\" + 0.005*\"eat\" + 0.004*\"time\" + 0.004*\"restaurant\" + 0.004*\"menu\" + 0.004*\"love\" + 0.004*\"thing\"\n",
            "Tema: 3 \n",
            "Paraules clau: 0.006*\"pizza\" + 0.004*\"place\" + 0.004*\"meat\" + 0.003*\"taste\" + 0.003*\"cheese\" + 0.003*\"eat\" + 0.002*\"order\" + 0.002*\"chipotle\" + 0.002*\"side\" + 0.002*\"lunch\"\n",
            "Tema: 4 \n",
            "Paraules clau: 0.002*\"server_brought\" + 0.002*\"roy\" + 0.002*\"deluxe\" + 0.002*\"best_burger\" + 0.002*\"got_right\" + 0.002*\"ingredients_fresh\" + 0.002*\"super_yummy\" + 0.001*\"gilbert\" + 0.001*\"pupusas\" + 0.001*\"also_wonderful\"\n",
            "Tema: 5 \n",
            "Paraules clau: 0.014*\"place\" + 0.011*\"food\" + 0.009*\"time\" + 0.006*\"restaurant\" + 0.005*\"menu\" + 0.005*\"try\" + 0.005*\"bar\" + 0.005*\"table\" + 0.005*\"love\" + 0.004*\"order\"\n",
            "Tema: 6 \n",
            "Paraules clau: 0.011*\"sandwich\" + 0.008*\"salad\" + 0.008*\"burger\" + 0.007*\"order\" + 0.007*\"place\" + 0.006*\"fry\" + 0.006*\"try\" + 0.005*\"food\" + 0.004*\"lunch\" + 0.004*\"think\"\n",
            "Tema: 7 \n",
            "Paraules clau: 0.002*\"mom\" + 0.002*\"hummus\" + 0.002*\"love\" + 0.002*\"kimchi\" + 0.002*\"sub\" + 0.002*\"yummy\" + 0.002*\"tom\" + 0.001*\"food\" + 0.001*\"reply\" + 0.001*\"chicken_strips\"\n",
            "Tema: 8 \n",
            "Paraules clau: 0.008*\"food\" + 0.005*\"pizza\" + 0.005*\"place\" + 0.004*\"try\" + 0.004*\"time\" + 0.004*\"eat\" + 0.004*\"table\" + 0.004*\"ask\" + 0.004*\"people\" + 0.003*\"order\"\n",
            "Tema: 9 \n",
            "Paraules clau: 0.017*\"place\" + 0.016*\"pizza\" + 0.007*\"food\" + 0.007*\"order\" + 0.005*\"burger\" + 0.004*\"time\" + 0.004*\"eat\" + 0.004*\"fry\" + 0.003*\"night\" + 0.003*\"try\"\n",
            "Tema: 10 \n",
            "Paraules clau: 0.007*\"place\" + 0.006*\"love\" + 0.006*\"pho\" + 0.005*\"amaze\" + 0.004*\"food\" + 0.004*\"order\" + 0.003*\"restaurant\" + 0.003*\"service\" + 0.002*\"excellent\" + 0.002*\"try\"\n"
          ]
        }
      ],
      "source": [
        "#############################################\n",
        "from gensim import corpora\n",
        "# Crear el diccionari\n",
        "dictionary = corpora.Dictionary(processed_sentences)\n",
        "\n",
        "# Crear el corpus\n",
        "corpus = [dictionary.doc2bow(text) for text in processed_sentences]\n",
        "\n",
        "# Entrenar el model LDA\n",
        "num_topics = 10\n",
        "lda_model = gensim.models.ldamodel.LdaModel(corpus, num_topics=num_topics, id2word=dictionary, passes=15)\n",
        "\n",
        "# Mostrar els temes\n",
        "for idx, topic in lda_model.print_topics(-1):\n",
        "    print('Tema: {} \\nParaules clau: {}'.format(idx + 1, topic))\n",
        "#############################################"
      ],
      "id": "3284e474"
    },
    {
      "cell_type": "markdown",
      "metadata": {
        "id": "3868f4a0"
      },
      "source": [
        "<div style=\"background-color: #EDF7FF; border-color: #7C9DBF; border-left: 5px solid #7C9DBF; padding: 0.5em;\">\n",
        "<strong> Exercici opcional:</strong> Si considerem també els verbs, milloraríem els resultats? Justifica la resposta mostrant LDA si considerem els verbs, a més dels noms i col·locacions.\n",
        "</div>"
      ],
      "id": "3868f4a0"
    },
    {
      "cell_type": "code",
      "execution_count": 76,
      "metadata": {
        "id": "1a1c9e63"
      },
      "outputs": [],
      "source": [
        "#############################################\n",
        "# Preprocess the data (adding verbs)\n",
        "processed_sentences_with_verbs = []\n",
        "for sentence in lemmatized_sentences:\n",
        "\n",
        "    # Filter nouns, collocations, and verbs\n",
        "    processed_words = [word for word in sentence if '_' in word or pos_tag([word])[0][1].startswith('N') or pos_tag([word])[0][1].startswith('V')]\n",
        "\n",
        "    # Add the processed sentence to the list\n",
        "    processed_sentences_with_verbs.append(processed_words)\n",
        "#############################################\n",
        "\n"
      ],
      "id": "1a1c9e63"
    },
    {
      "cell_type": "code",
      "execution_count": 77,
      "metadata": {
        "id": "518ae659",
        "colab": {
          "base_uri": "https://localhost:8080/"
        },
        "outputId": "604b9e52-9cb1-4f8a-f719-e1a74e244f05"
      },
      "outputs": [
        {
          "output_type": "stream",
          "name": "stdout",
          "text": [
            "Temes incloent els verbs\n",
            "Tema: 1 \n",
            "Paraules clau: 0.003*\"great_food\" + 0.003*\"http_www\" + 0.003*\"pork_belly\" + 0.003*\"com\" + 0.002*\"yelp_com\" + 0.002*\"trio\" + 0.002*\"dive_bar\" + 0.002*\"great_service\" + 0.002*\"creamed_corn\" + 0.002*\"central_phoenix\"\n",
            "Tema: 2 \n",
            "Paraules clau: 0.011*\"food\" + 0.007*\"go\" + 0.007*\"place\" + 0.006*\"chicken\" + 0.004*\"order\" + 0.004*\"sushi\" + 0.004*\"salad\" + 0.004*\"get\" + 0.003*\"menu\" + 0.003*\"flavor\"\n",
            "Tema: 3 \n",
            "Paraules clau: 0.002*\"food\" + 0.002*\"check\" + 0.002*\"great_happy\" + 0.002*\"nice_clean\" + 0.002*\"shake\" + 0.002*\"bruchetta\" + 0.002*\"happy_hour\" + 0.002*\"lo_lo\" + 0.002*\"gas\" + 0.001*\"also_excellent\"\n",
            "Tema: 4 \n",
            "Paraules clau: 0.003*\"sandwich\" + 0.003*\"spa\" + 0.003*\"tea\" + 0.002*\"keg\" + 0.002*\"coconut\" + 0.002*\"bowl\" + 0.002*\"buffet\" + 0.002*\"cookie\" + 0.001*\"sprout\" + 0.001*\"daniel\"\n",
            "Tema: 5 \n",
            "Paraules clau: 0.007*\"food\" + 0.005*\"get\" + 0.004*\"go\" + 0.004*\"place\" + 0.004*\"make\" + 0.004*\"u\" + 0.004*\"restaurant\" + 0.003*\"take\" + 0.003*\"say\" + 0.003*\"know\"\n",
            "Tema: 6 \n",
            "Paraules clau: 0.007*\"place\" + 0.006*\"taco\" + 0.004*\"love\" + 0.003*\"breakfast\" + 0.003*\"make\" + 0.003*\"pho\" + 0.003*\"say\" + 0.003*\"go\" + 0.002*\"salsa\" + 0.002*\"carne_asada\"\n",
            "Tema: 7 \n",
            "Paraules clau: 0.013*\"place\" + 0.012*\"get\" + 0.011*\"go\" + 0.009*\"food\" + 0.007*\"come\" + 0.007*\"order\" + 0.006*\"make\" + 0.006*\"try\" + 0.006*\"time\" + 0.006*\"love\"\n",
            "Tema: 8 \n",
            "Paraules clau: 0.016*\"food\" + 0.015*\"place\" + 0.010*\"get\" + 0.009*\"order\" + 0.009*\"go\" + 0.007*\"restaurant\" + 0.007*\"time\" + 0.006*\"eat\" + 0.006*\"try\" + 0.005*\"come\"\n",
            "Tema: 9 \n",
            "Paraules clau: 0.027*\"pizza\" + 0.005*\"love\" + 0.004*\"place\" + 0.004*\"go\" + 0.003*\"crust\" + 0.003*\"food\" + 0.003*\"service\" + 0.003*\"try\" + 0.003*\"get\" + 0.003*\"visit\"\n",
            "Tema: 10 \n",
            "Paraules clau: 0.006*\"sushi\" + 0.003*\"latte\" + 0.003*\"luck\" + 0.003*\"great_selection\" + 0.002*\"houston\" + 0.002*\"east_coast\" + 0.002*\"service\" + 0.002*\"friendly_staff\" + 0.002*\"happy_hour\" + 0.002*\"place\"\n"
          ]
        }
      ],
      "source": [
        "#############################################\n",
        "# Crear el diccionari\n",
        "dictionary = corpora.Dictionary(processed_sentences_with_verbs)\n",
        "\n",
        "# Crear el corpus\n",
        "corpus = [dictionary.doc2bow(text) for text in processed_sentences_with_verbs]\n",
        "\n",
        "# Entrenar el model LDA\n",
        "num_topics = 10\n",
        "lda_model = gensim.models.ldamodel.LdaModel(corpus, num_topics=num_topics, id2word=dictionary, passes=15)\n",
        "\n",
        "print(\"Temes incloent els verbs\")\n",
        "# Mostrar els temes\n",
        "for idx, topic in lda_model.print_topics(-1):\n",
        "    print('Tema: {} \\nParaules clau: {}'.format(idx + 1, topic))\n",
        "#############################################"
      ],
      "id": "518ae659"
    },
    {
      "cell_type": "markdown",
      "source": [
        "**Respecte a si milloraríem els resultats si considerem també els verbs**, dependria del contexte i de l'objectiu específic de la tasca. \n",
        "\n",
        "\n",
        "*   Si l'objectiu es extreure temes generals o que no estiguin expecíficament relacionats amb les opinions, no seria necessari incloure els verbs. I en aquest cas, l'enfocament estaria en trobar els patrons comuns de les paraules que es fan servir en els documents.\n",
        "*    Però, si l'objectiu es extreure temes específics de les opinions, si seria beneficios incloure els verbs, ja que poden proporcionar informació sobre accions, actituts i opinions que expresen en les opinions. Així, els verbs poden indicar si una opinió es positiva o negativa, si expresa una crítica o recomanació o descriu una experiència personal.\n",
        "\n",
        " \n",
        "\n"
      ],
      "metadata": {
        "id": "Si_sEYWp5f9w"
      },
      "id": "Si_sEYWp5f9w"
    },
    {
      "cell_type": "markdown",
      "metadata": {
        "id": "1f6ed8c2"
      },
      "source": [
        "# 3. Classificació (2 punts)"
      ],
      "id": "1f6ed8c2"
    },
    {
      "cell_type": "markdown",
      "metadata": {
        "id": "32290b6e"
      },
      "source": [
        "<div style=\"background-color: #EDF7FF; border-color: #7C9DBF; border-left: 5px solid #7C9DBF; padding: 0.5em;\">\n",
        "<strong>Exercici:</strong> Crea un classificador automàtic d'opinions positives i negatives. (0.75 punts)\n",
        "</div>"
      ],
      "id": "32290b6e"
    },
    {
      "cell_type": "markdown",
      "metadata": {
        "id": "3a45ae89"
      },
      "source": [
        "<i>Primer pas</i>: realitzem dues llistes. Una amb els textos i una altra amb les etiquetes de valoració (0 i 1)"
      ],
      "id": "3a45ae89"
    },
    {
      "cell_type": "code",
      "execution_count": 78,
      "metadata": {
        "id": "ec874492"
      },
      "outputs": [],
      "source": [
        "#############################################\n",
        "textos = df_star_texts['text'].to_list()\n",
        "valors = df_star_texts['sentiment'].to_list()\n",
        "#############################################\n"
      ],
      "id": "ec874492"
    },
    {
      "cell_type": "markdown",
      "metadata": {
        "id": "9720bc32"
      },
      "source": [
        "<i>Segon pas</i>: Vectoritzem les opinions amb un vectoritzador tf.idf. Feu servir 'word' com a analyzer (0.25 punts)"
      ],
      "id": "9720bc32"
    },
    {
      "cell_type": "code",
      "execution_count": 80,
      "metadata": {
        "id": "9fbcfdd4",
        "colab": {
          "base_uri": "https://localhost:8080/"
        },
        "outputId": "3096e146-79f4-4792-ca13-f6401d2928fc"
      },
      "outputs": [
        {
          "output_type": "execute_result",
          "data": {
            "text/plain": [
              "array([[0., 0., 0., ..., 0., 0., 0.],\n",
              "       [0., 0., 0., ..., 0., 0., 0.],\n",
              "       [0., 0., 0., ..., 0., 0., 0.],\n",
              "       ...,\n",
              "       [0., 0., 0., ..., 0., 0., 0.],\n",
              "       [0., 0., 0., ..., 0., 0., 0.],\n",
              "       [0., 0., 0., ..., 0., 0., 0.]])"
            ]
          },
          "metadata": {},
          "execution_count": 80
        }
      ],
      "source": [
        "#############################################\n",
        "from sklearn.feature_extraction.text import TfidfVectorizer\n",
        "\n",
        "vectorizerPhrases = TfidfVectorizer(\n",
        "    analyzer= 'word',                        \n",
        " )\n",
        "\n",
        "X = vectorizerPhrases.fit_transform(textos) # Si transforman los titulares a sus phrases subir nota\n",
        "textos_vector= X.toarray()\n",
        "textos_vector\n",
        "#############################################\n",
        "\n"
      ],
      "id": "9fbcfdd4"
    },
    {
      "cell_type": "markdown",
      "metadata": {
        "id": "3122e026"
      },
      "source": [
        "<i>Tercer pas</i>: Preparem el corpus d'entrenament i avaluació (0.25 punts)"
      ],
      "id": "3122e026"
    },
    {
      "cell_type": "code",
      "execution_count": 81,
      "metadata": {
        "id": "0b251acc"
      },
      "outputs": [],
      "source": [
        "#############################################\n",
        "from sklearn.model_selection import train_test_split \n",
        "X_train, X_test, y_train, y_test  = train_test_split(\n",
        "        textos_vector, \n",
        "        valors,     \n",
        "        train_size=0.80,\n",
        "        random_state=1234)\n",
        "#############################################"
      ],
      "id": "0b251acc"
    },
    {
      "cell_type": "markdown",
      "metadata": {
        "id": "0aaecbf4"
      },
      "source": [
        "<i>Quart pas</i>: Entrenar el classificador amb Logistic Regression"
      ],
      "id": "0aaecbf4"
    },
    {
      "cell_type": "code",
      "execution_count": 82,
      "metadata": {
        "id": "39791e56"
      },
      "outputs": [],
      "source": [
        "#############################################\n",
        "from sklearn.linear_model import LogisticRegression\n",
        "\n",
        "classifier = LogisticRegression()\n",
        "log_model = classifier.fit(X=X_train, y=y_train)\n",
        "#############################################"
      ],
      "id": "39791e56"
    },
    {
      "cell_type": "markdown",
      "metadata": {
        "id": "8c78a34d"
      },
      "source": [
        "<i>Cinquè pas<i>: Utilitzar el model entrenat per predir la categoria 1 (positiu) o 0 (negatiu) de les opinions del conjunt de test i mostrar les paraules més informatives per a cada categoria. (0.25 punts)"
      ],
      "id": "8c78a34d"
    },
    {
      "cell_type": "code",
      "execution_count": 38,
      "metadata": {
        "id": "160fc014",
        "colab": {
          "base_uri": "https://localhost:8080/"
        },
        "outputId": "e3bc0aac-90ea-4f93-fba8-d0673a023721"
      },
      "outputs": [
        {
          "output_type": "stream",
          "name": "stdout",
          "text": [
            "CLASES 0/1 DEL CORPUS DE TEST: \n",
            "['0' '1' '1' ... '1' '1' '1']\n",
            "\n",
            "PARAULES MES INFORMATIVES EN ELS TEXT 0 i 1: \n",
            "-------------------------------------------\n",
            "0 -4.8797840544823385 not\n",
            "0 -3.3860146662962944 no\n",
            "0 -2.5740637198308445 bland\n",
            "0 -2.4737400544839963 ok\n",
            "0 -2.215749582711953 bad\n",
            "0 -2.206050788998776 was\n",
            "0 -2.185509991874954 nothing\n",
            "0 -2.1762619472026477 tasted\n",
            "0 -2.16682935533644 just\n",
            "0 -2.0747856382987098 horrible\n",
            "1 5.362532533891114 great\n",
            "1 3.1927342117183226 delicious\n",
            "1 3.1711260765110296 love\n",
            "1 3.047153547014852 good\n",
            "1 3.010416938043725 best\n",
            "1 2.7233296113464114 and\n",
            "1 2.714584891076478 amazing\n",
            "1 2.6146440880470845 definitely\n",
            "1 2.5684629433538375 awesome\n",
            "1 2.44615855707341 excellent\n",
            "None\n"
          ]
        }
      ],
      "source": [
        "#############################################\n",
        "y_pred = log_model.predict(X_test)\n",
        "\n",
        "print(\"CLASES 0/1 DEL CORPUS DE TEST: \")\n",
        "print(y_pred)\n",
        "\n",
        "def most_info_feature_for_binary_classif(vectorizer, classifier, n=10):\n",
        "    class_labels = classifier.classes_\n",
        "    feature_names = vectorizer.get_feature_names_out()\n",
        "    topn_class1 = sorted(zip(classifier.coef_[0], feature_names))[:n]\n",
        "    topn_class2 = sorted(zip(classifier.coef_[0], feature_names))[-n:]\n",
        "\n",
        "    for coef, feat in topn_class1:\n",
        "        print (class_labels[0], coef, feat)\n",
        "\n",
        "    for coef, feat in reversed(topn_class2):\n",
        "        print (class_labels[1], coef, feat)\n",
        "\n",
        "print(\"\\nPARAULES MES INFORMATIVES EN ELS TEXT 0 i 1: \\n-------------------------------------------\")\n",
        "print(most_info_feature_for_binary_classif(vectorizerPhrases, classifier))\n",
        "#############################################\n"
      ],
      "id": "160fc014"
    },
    {
      "cell_type": "markdown",
      "metadata": {
        "id": "4af23001"
      },
      "source": [
        "<div style=\"background-color: #EDF7FF; border-color: #7C9DBF; border-left: 5px solid #7C9DBF; padding: 0.5em;\">\n",
        "<strong>Exercici:</strong> Mostra sobre quins aspectes es fan valoracions negatives. (0.75 punts)\n",
        "</div>"
      ],
      "id": "4af23001"
    },
    {
      "cell_type": "markdown",
      "metadata": {
        "id": "d8eb0943"
      },
      "source": [
        "<i>Primer pas<i>: Tria dues paraules més informatives de la categoria 0 i pren un conjunt d'opinions en què apareguin aquestes paraules. Preprocessa les opinions traient els caràcters de salt de línia (0.25 punts)"
      ],
      "id": "d8eb0943"
    },
    {
      "cell_type": "code",
      "execution_count": 39,
      "metadata": {
        "id": "7eb6ab69"
      },
      "outputs": [],
      "source": [
        "#############################################\n",
        "# SOLUCIÓ                                  # \n",
        "#############################################\n"
      ],
      "id": "7eb6ab69"
    },
    {
      "cell_type": "markdown",
      "metadata": {
        "id": "b5c24dbb"
      },
      "source": [
        "<i>Segon pas<i>: Utilitza el diccionari d'opinions (arxiu AFINN-111) per extreure la polaritat de cada opinió com la mitjana dels valors de les opinion words del text. (0.25 punts)"
      ],
      "id": "b5c24dbb"
    },
    {
      "cell_type": "code",
      "execution_count": 40,
      "metadata": {
        "id": "895f6b09"
      },
      "outputs": [],
      "source": [
        "#############################################\n",
        "# SOLUCIÓ                                  #\n",
        "#############################################\n",
        "\n"
      ],
      "id": "895f6b09"
    },
    {
      "cell_type": "markdown",
      "metadata": {
        "id": "1561cfe1"
      },
      "source": [
        "<i>Tercer pas<i>: Selecciona opinions amb polaritat negativa que exemplifiquin els aspectes pitjor valorats. Comenta quins són aquests aspectes (0.25 punts)"
      ],
      "id": "1561cfe1"
    },
    {
      "cell_type": "code",
      "execution_count": 41,
      "metadata": {
        "id": "412f2bf5"
      },
      "outputs": [],
      "source": [
        "#############################################\n",
        "# SOLUCIÓ                                  #\n",
        "#############################################\n",
        "\n"
      ],
      "id": "412f2bf5"
    },
    {
      "cell_type": "markdown",
      "metadata": {
        "id": "5c7d4a48"
      },
      "source": [
        "<div style=\"background-color: #EDF7FF; border-color: #7C9DBF; border-left: 5px solid #7C9DBF; padding: 0.5em;\">\n",
        "<strong>Exercici:</strong> Obté els resultats de les mètriques d'avaluació del classificador basat en regressió logística. Obté també els resultats de les mètriques d'avaluació quan el model del classificador és diferent. Per exemple, un model SVM (0.25 punts)\n",
        "</div>"
      ],
      "id": "5c7d4a48"
    },
    {
      "cell_type": "code",
      "execution_count": 42,
      "metadata": {
        "id": "afc6ad8f"
      },
      "outputs": [],
      "source": [
        "#############################################\n",
        "# SOLUCIÓ MODEL REGRESSIÓ LOGÍSTICA                                  #\n",
        "#############################################\n",
        "\n"
      ],
      "id": "afc6ad8f"
    },
    {
      "cell_type": "code",
      "execution_count": 43,
      "metadata": {
        "id": "11382ccf"
      },
      "outputs": [],
      "source": [
        "#############################################\n",
        "# SOLUCIÓ MODEL SVM                         #\n",
        "#############################################\n",
        "\n",
        "\n"
      ],
      "id": "11382ccf"
    },
    {
      "cell_type": "markdown",
      "metadata": {
        "id": "ad2a333c"
      },
      "source": [
        "<div style=\"background-color: #EDF7FF; border-color: #7C9DBF; border-left: 5px solid #7C9DBF; padding: 0.5em;\">\n",
        "<strong>Exercici:</strong> Compara els dos models en funció d'aquestes mètriques d'avaluació. (0.25 punts)\n",
        "</div>"
      ],
      "id": "ad2a333c"
    },
    {
      "cell_type": "code",
      "execution_count": 44,
      "metadata": {
        "id": "87324d32"
      },
      "outputs": [],
      "source": [
        "#############################################\n",
        "# SOLUCIÓ                                   #\n",
        "#############################################\n",
        "\n"
      ],
      "id": "87324d32"
    },
    {
      "cell_type": "code",
      "execution_count": 44,
      "metadata": {
        "id": "2ee789b8"
      },
      "outputs": [],
      "source": [],
      "id": "2ee789b8"
    }
  ],
  "metadata": {
    "colab": {
      "provenance": []
    },
    "kernelspec": {
      "display_name": "Python 3",
      "language": "python",
      "name": "python3"
    },
    "language_info": {
      "codemirror_mode": {
        "name": "ipython",
        "version": 3
      },
      "file_extension": ".py",
      "mimetype": "text/x-python",
      "name": "python",
      "nbconvert_exporter": "python",
      "pygments_lexer": "ipython3",
      "version": "3.8.3"
    }
  },
  "nbformat": 4,
  "nbformat_minor": 5
}