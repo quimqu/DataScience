{
  "nbformat": 4,
  "nbformat_minor": 0,
  "metadata": {
    "colab": {
      "name": "JQuadrada_PAC3.ipynb",
      "provenance": [],
      "collapsed_sections": [
        "YO1mZRrP4FT2"
      ]
    },
    "kernelspec": {
      "name": "python3",
      "display_name": "Python 3"
    },
    "language_info": {
      "name": "python"
    }
  },
  "cells": [
    {
      "cell_type": "markdown",
      "metadata": {
        "id": "YO1mZRrP4FT2"
      },
      "source": [
        "<div style=\"width: 100%; clear: both;\">\n",
        "<div style=\"float: left; width: 50%;\">\n",
        "<img src=\"http://www.uoc.edu/portal/_resources/common/imatges/marca_UOC/UOC_Masterbrand.jpg\", align=\"left\">\n",
        "</div>\n",
        "<div style=\"float: right; width: 50%;\">\n",
        "<p style=\"margin: 0; padding-top: 22px; text-align:right;\">M2.875 · Deep Learning · PAC3\n",
        "</p>\n",
        "<p style=\"margin: 0; text-align:right;\">2021-2 · Máster universitari en Ciencia de dades (Data science)</p>\n",
        "<p style=\"margin: 0; text-align:right; padding-button: 100px;\">Estudios de Informática, Multimèdia i Telecomunicació</p>\n",
        "</div>\n",
        "</div>\n",
        "<div style=\"width:100%;\">&nbsp;</div>\n",
        "\n",
        "\n",
        "# PAC 3: Recurrent Neural Networks - Joaquim Quadrada Jané\n",
        "\n",
        "En aquesta pràctica implementarem xarxes neuronals recurrents per generar música.\n",
        "\n",
        "**Important: El lliurament s'ha de fer en format notebook i en format html on es vegi el codi i els resultats i comentaris de cada exercici. Per exportar el notebook a html es pot fer des del menú File $\\to$ Download as $\\to$ HTML.**"
      ]
    },
    {
      "cell_type": "markdown",
      "source": [
        "# 0. Context i referències"
      ],
      "metadata": {
        "id": "8rXYszqtPC3X"
      }
    },
    {
      "cell_type": "markdown",
      "source": [
        "Aquesta PAC es basa en el següent [article de recerca](https://arxiv.org/pdf/1711.07682.pdf), encara que per motius d'extensió no podrem passar per tots els punts de l'article.\n",
        "\n",
        "La primera etapa d'aquesta PAC serà llegir i entendre la idea general d'aquest treball. L'article us dóna accés al codi original amb què s'ha dut a terme el treball i en què a més està basat gran part del codi que aquí us adjuntem, encara que per la complexitat i extensió del codi no us recomanem que us fiqueu massa en ell.\n",
        "\n",
        "La PAC consta d'una etapa d'interpretació de les dades (un pas vital en tot projecte real), on es demanarà reproduir una gràfica de l'article. Després ***entrenarem*** una xarxa LSTM per generar acords a partir de fitxers MIDI. Finalment, farem servir la capa de ***embedding*** de la xarxa entrenada per fer una projecció dels acords en 2D i visualitzar el concepte de [word2vec](https://en.wikipedia.org/wiki/Word2vec)."
      ],
      "metadata": {
        "id": "23HcctV9PHD8"
      }
    },
    {
      "cell_type": "markdown",
      "source": [
        "A més d'aquest fitxer us hem adjuntat un arxiu comprimit amb una estructura de dades similar a la usada a l'article i que us recomanem (pel vostre bé) que no modifiqueu :). Allà trobareu una carpeta anomenada *data* on es troba la base de dades que farem servir i altres fitxers que us facilitem amb dades de xarxes ja entrenades (a la carpeta *models*)"
      ],
      "metadata": {
        "id": "yAJEhzrBUoNj"
      }
    },
    {
      "cell_type": "markdown",
      "source": [
        "# 1. Processament de dades [2.5 pts]"
      ],
      "metadata": {
        "id": "TNeJCTqGN6M0"
      }
    },
    {
      "cell_type": "markdown",
      "source": [
        "## 1.1 Importació de mòduls i paquets necessaris"
      ],
      "metadata": {
        "id": "HFZhc-3gh3BA"
      }
    },
    {
      "cell_type": "code",
      "execution_count": 4,
      "metadata": {
        "id": "kC_lb6hDNJD8",
        "colab": {
          "base_uri": "https://localhost:8080/"
        },
        "outputId": "d9064a48-7b20-4de7-bab1-ebd5f883d7f9"
      },
      "outputs": [
        {
          "output_type": "stream",
          "name": "stdout",
          "text": [
            "Collecting pretty_midi==0.2.8\n",
            "  Downloading pretty_midi-0.2.8.tar.gz (5.6 MB)\n",
            "\u001b[K     |████████████████████████████████| 5.6 MB 4.3 MB/s \n",
            "\u001b[?25hRequirement already satisfied: numpy>=1.7.0 in /usr/local/lib/python3.7/dist-packages (from pretty_midi==0.2.8) (1.21.6)\n",
            "Collecting mido>=1.1.16\n",
            "  Downloading mido-1.2.10-py2.py3-none-any.whl (51 kB)\n",
            "\u001b[K     |████████████████████████████████| 51 kB 5.5 MB/s \n",
            "\u001b[?25hRequirement already satisfied: six in /usr/local/lib/python3.7/dist-packages (from pretty_midi==0.2.8) (1.15.0)\n",
            "Building wheels for collected packages: pretty-midi\n",
            "  Building wheel for pretty-midi (setup.py) ... \u001b[?25l\u001b[?25hdone\n",
            "  Created wheel for pretty-midi: filename=pretty_midi-0.2.8-py3-none-any.whl size=5590821 sha256=db95f20633856fa9928a754efe04e0079b7ff5929232bc5ae7f6a2142d7bd358\n",
            "  Stored in directory: /root/.cache/pip/wheels/53/fd/dd/20e1b16dbcf028bbbd7f53b570bc3521183731cba4a73cb310\n",
            "Successfully built pretty-midi\n",
            "Installing collected packages: mido, pretty-midi\n",
            "Successfully installed mido-1.2.10 pretty-midi-0.2.8\n"
          ]
        }
      ],
      "source": [
        "!pip install pretty_midi==0.2.8"
      ]
    },
    {
      "cell_type": "code",
      "source": [
        "from google.colab import drive\n",
        "drive.mount('/content/drive/')"
      ],
      "metadata": {
        "id": "8Dho4VBiNX22",
        "colab": {
          "base_uri": "https://localhost:8080/"
        },
        "outputId": "49585747-5473-41e2-da74-5ffedf0f8082"
      },
      "execution_count": 5,
      "outputs": [
        {
          "output_type": "stream",
          "name": "stdout",
          "text": [
            "Mounted at /content/drive/\n"
          ]
        }
      ]
    },
    {
      "cell_type": "code",
      "source": [
        "# añade el path a tu directorio\n",
        "%cd /content/drive/MyDrive/PEC3_PAC3/"
      ],
      "metadata": {
        "id": "47q84NyONZf_",
        "colab": {
          "base_uri": "https://localhost:8080/"
        },
        "outputId": "49bad9bb-c735-4d2f-e1dd-85c5306a3ea8"
      },
      "execution_count": 6,
      "outputs": [
        {
          "output_type": "stream",
          "name": "stdout",
          "text": [
            "/content/drive/MyDrive/PEC3_PAC3\n"
          ]
        }
      ]
    },
    {
      "cell_type": "code",
      "source": [
        "import numpy as np\n",
        "import matplotlib.pyplot as plt\n",
        "import _pickle as pickle\n",
        "import os\n",
        "import sys\n",
        "import pretty_midi as pm\n",
        "import mido\n",
        "from collections import Counter\n",
        "import collections\n",
        "import pandas as pd"
      ],
      "metadata": {
        "id": "-aQnhJf8OVia"
      },
      "execution_count": 7,
      "outputs": []
    },
    {
      "cell_type": "markdown",
      "source": [
        "importem mòduls propis (arxius .py) que podreu trobar a l'estructura de carpetes que us hem facilitat"
      ],
      "metadata": {
        "id": "bqTy38QPXdz8"
      }
    },
    {
      "cell_type": "code",
      "source": [
        "from settings import *\n",
        "import midi_functions as mf \n",
        "import data_processing_functions as dpf"
      ],
      "metadata": {
        "id": "A8hOlwmbXdGD"
      },
      "execution_count": 8,
      "outputs": []
    },
    {
      "cell_type": "markdown",
      "source": [
        "## 1.2 Fitxers MIDI [1 pt]"
      ],
      "metadata": {
        "id": "d457Myp0iAC6"
      }
    },
    {
      "cell_type": "markdown",
      "source": [
        "En aquesta secció entendrem una mica millor la informació que conté un fitxer MIDI i reproduirem un fitxer de la nostra base de dades. Per a aquesta secció us recomanem que doneu un cop d'ull a la secció \"*Extract notes*\" del següent [tutorial de tensorflow](https://www.tensorflow.org/tutorials/audio/music_generation)."
      ],
      "metadata": {
        "id": "OkBli7noiYXJ"
      }
    },
    {
      "cell_type": "markdown",
      "source": [
        "1.2.1 Escollir un fitxer MIDI de la base de dades i crear les funcions necessàries per extreure les notes, el temps en què es toca cada nota, la durada i el moment en què es toquen. Aquest procés s'ha d'aplicar només a un instrument: **Acoustic Grand Piano**.\n",
        "\n",
        "*nota: Si el fitxer escollit no té piano triar un altre fitxer*"
      ],
      "metadata": {
        "id": "QWjhouM0kHcD"
      }
    },
    {
      "cell_type": "code",
      "source": [
        "# choose midi file\n",
        "midi_file = '/content/drive/MyDrive/PEC3_PAC3/data/original/1a7a82be0bf36da62d018707cce671ca.mid'\n",
        "\n",
        "# function to extract pitch, start, duration and step\n",
        "def instrument_notes(midi_file: str, input_instrument: str) -> pd.DataFrame:\n",
        "  pretty = pm.PrettyMIDI(midi_file)\n",
        "  for i in range(0,len(pretty.instruments)):\n",
        "    # retrieve instrument\n",
        "    instrument = pretty.instruments[i]\n",
        "    instrument_name = pm.program_to_instrument_name(instrument.program)\n",
        "\n",
        "    # check if instrument is input_instrument\n",
        "    if instrument_name == input_instrument:\n",
        "      print('Found instrument: ', instrument_name)\n",
        "      \n",
        "      # retrieve notes\n",
        "      notes = collections.defaultdict(list)\n",
        "\n",
        "      # Sort notes by start time\n",
        "      sorted_notes = sorted(instrument.notes, key=lambda note: note.start)\n",
        "      prev_start = sorted_notes[0].start\n",
        "\n",
        "      # save desired info\n",
        "      for note in sorted_notes:\n",
        "        start = note.start\n",
        "        end = note.end\n",
        "        notes['pitch'].append(note.pitch)\n",
        "        notes['start'].append(start)\n",
        "        notes['duration'].append(end - start)\n",
        "        notes['step'].append(start - prev_start)\n",
        "    \n",
        "        prev_start = start\n",
        "\n",
        "      return pd.DataFrame({name: np.array(value) for name, value in notes.items()})\n",
        "    # if not input instrument\n",
        "    else:\n",
        "      # if end of list of instruments, input_instrument is not in midi file\n",
        "      if i == len(pretty.instruments) - 1:\n",
        "        print('No', input_instrument, 'in midi file')\n",
        "\n",
        "# call function with instrument Acoustic Grand Piano\n",
        "df = instrument_notes(midi_file, 'Acoustic Grand Piano')\n",
        "# show head of data\n",
        "df.head(10)"
      ],
      "metadata": {
        "id": "9EgT6_LCE_dq",
        "colab": {
          "base_uri": "https://localhost:8080/",
          "height": 380
        },
        "outputId": "e88688d3-4c4c-4e6a-a74d-3f366db01902"
      },
      "execution_count": 7,
      "outputs": [
        {
          "output_type": "stream",
          "name": "stdout",
          "text": [
            "Found instrument:  Acoustic Grand Piano\n"
          ]
        },
        {
          "output_type": "execute_result",
          "data": {
            "text/plain": [
              "   pitch      start  duration      step\n",
              "0     36   9.284496  0.197368  0.000000\n",
              "1     38   9.473640  0.197368  0.189144\n",
              "2     42   9.671007  0.189144  0.197368\n",
              "3     42   9.860151  0.197368  0.189144\n",
              "4     38  10.073966  0.189144  0.213815\n",
              "5     38  10.263110  0.197368  0.189144\n",
              "6     45  10.435807  0.197368  0.172697\n",
              "7     43  10.633174  0.197367  0.197368\n",
              "8     49  11.044356  0.197368  0.411182\n",
              "9     36  11.052580  0.197368  0.008224"
            ],
            "text/html": [
              "\n",
              "  <div id=\"df-63a57beb-198b-452c-be6b-eb3de4e613d2\">\n",
              "    <div class=\"colab-df-container\">\n",
              "      <div>\n",
              "<style scoped>\n",
              "    .dataframe tbody tr th:only-of-type {\n",
              "        vertical-align: middle;\n",
              "    }\n",
              "\n",
              "    .dataframe tbody tr th {\n",
              "        vertical-align: top;\n",
              "    }\n",
              "\n",
              "    .dataframe thead th {\n",
              "        text-align: right;\n",
              "    }\n",
              "</style>\n",
              "<table border=\"1\" class=\"dataframe\">\n",
              "  <thead>\n",
              "    <tr style=\"text-align: right;\">\n",
              "      <th></th>\n",
              "      <th>pitch</th>\n",
              "      <th>start</th>\n",
              "      <th>duration</th>\n",
              "      <th>step</th>\n",
              "    </tr>\n",
              "  </thead>\n",
              "  <tbody>\n",
              "    <tr>\n",
              "      <th>0</th>\n",
              "      <td>36</td>\n",
              "      <td>9.284496</td>\n",
              "      <td>0.197368</td>\n",
              "      <td>0.000000</td>\n",
              "    </tr>\n",
              "    <tr>\n",
              "      <th>1</th>\n",
              "      <td>38</td>\n",
              "      <td>9.473640</td>\n",
              "      <td>0.197368</td>\n",
              "      <td>0.189144</td>\n",
              "    </tr>\n",
              "    <tr>\n",
              "      <th>2</th>\n",
              "      <td>42</td>\n",
              "      <td>9.671007</td>\n",
              "      <td>0.189144</td>\n",
              "      <td>0.197368</td>\n",
              "    </tr>\n",
              "    <tr>\n",
              "      <th>3</th>\n",
              "      <td>42</td>\n",
              "      <td>9.860151</td>\n",
              "      <td>0.197368</td>\n",
              "      <td>0.189144</td>\n",
              "    </tr>\n",
              "    <tr>\n",
              "      <th>4</th>\n",
              "      <td>38</td>\n",
              "      <td>10.073966</td>\n",
              "      <td>0.189144</td>\n",
              "      <td>0.213815</td>\n",
              "    </tr>\n",
              "    <tr>\n",
              "      <th>5</th>\n",
              "      <td>38</td>\n",
              "      <td>10.263110</td>\n",
              "      <td>0.197368</td>\n",
              "      <td>0.189144</td>\n",
              "    </tr>\n",
              "    <tr>\n",
              "      <th>6</th>\n",
              "      <td>45</td>\n",
              "      <td>10.435807</td>\n",
              "      <td>0.197368</td>\n",
              "      <td>0.172697</td>\n",
              "    </tr>\n",
              "    <tr>\n",
              "      <th>7</th>\n",
              "      <td>43</td>\n",
              "      <td>10.633174</td>\n",
              "      <td>0.197367</td>\n",
              "      <td>0.197368</td>\n",
              "    </tr>\n",
              "    <tr>\n",
              "      <th>8</th>\n",
              "      <td>49</td>\n",
              "      <td>11.044356</td>\n",
              "      <td>0.197368</td>\n",
              "      <td>0.411182</td>\n",
              "    </tr>\n",
              "    <tr>\n",
              "      <th>9</th>\n",
              "      <td>36</td>\n",
              "      <td>11.052580</td>\n",
              "      <td>0.197368</td>\n",
              "      <td>0.008224</td>\n",
              "    </tr>\n",
              "  </tbody>\n",
              "</table>\n",
              "</div>\n",
              "      <button class=\"colab-df-convert\" onclick=\"convertToInteractive('df-63a57beb-198b-452c-be6b-eb3de4e613d2')\"\n",
              "              title=\"Convert this dataframe to an interactive table.\"\n",
              "              style=\"display:none;\">\n",
              "        \n",
              "  <svg xmlns=\"http://www.w3.org/2000/svg\" height=\"24px\"viewBox=\"0 0 24 24\"\n",
              "       width=\"24px\">\n",
              "    <path d=\"M0 0h24v24H0V0z\" fill=\"none\"/>\n",
              "    <path d=\"M18.56 5.44l.94 2.06.94-2.06 2.06-.94-2.06-.94-.94-2.06-.94 2.06-2.06.94zm-11 1L8.5 8.5l.94-2.06 2.06-.94-2.06-.94L8.5 2.5l-.94 2.06-2.06.94zm10 10l.94 2.06.94-2.06 2.06-.94-2.06-.94-.94-2.06-.94 2.06-2.06.94z\"/><path d=\"M17.41 7.96l-1.37-1.37c-.4-.4-.92-.59-1.43-.59-.52 0-1.04.2-1.43.59L10.3 9.45l-7.72 7.72c-.78.78-.78 2.05 0 2.83L4 21.41c.39.39.9.59 1.41.59.51 0 1.02-.2 1.41-.59l7.78-7.78 2.81-2.81c.8-.78.8-2.07 0-2.86zM5.41 20L4 18.59l7.72-7.72 1.47 1.35L5.41 20z\"/>\n",
              "  </svg>\n",
              "      </button>\n",
              "      \n",
              "  <style>\n",
              "    .colab-df-container {\n",
              "      display:flex;\n",
              "      flex-wrap:wrap;\n",
              "      gap: 12px;\n",
              "    }\n",
              "\n",
              "    .colab-df-convert {\n",
              "      background-color: #E8F0FE;\n",
              "      border: none;\n",
              "      border-radius: 50%;\n",
              "      cursor: pointer;\n",
              "      display: none;\n",
              "      fill: #1967D2;\n",
              "      height: 32px;\n",
              "      padding: 0 0 0 0;\n",
              "      width: 32px;\n",
              "    }\n",
              "\n",
              "    .colab-df-convert:hover {\n",
              "      background-color: #E2EBFA;\n",
              "      box-shadow: 0px 1px 2px rgba(60, 64, 67, 0.3), 0px 1px 3px 1px rgba(60, 64, 67, 0.15);\n",
              "      fill: #174EA6;\n",
              "    }\n",
              "\n",
              "    [theme=dark] .colab-df-convert {\n",
              "      background-color: #3B4455;\n",
              "      fill: #D2E3FC;\n",
              "    }\n",
              "\n",
              "    [theme=dark] .colab-df-convert:hover {\n",
              "      background-color: #434B5C;\n",
              "      box-shadow: 0px 1px 3px 1px rgba(0, 0, 0, 0.15);\n",
              "      filter: drop-shadow(0px 1px 2px rgba(0, 0, 0, 0.3));\n",
              "      fill: #FFFFFF;\n",
              "    }\n",
              "  </style>\n",
              "\n",
              "      <script>\n",
              "        const buttonEl =\n",
              "          document.querySelector('#df-63a57beb-198b-452c-be6b-eb3de4e613d2 button.colab-df-convert');\n",
              "        buttonEl.style.display =\n",
              "          google.colab.kernel.accessAllowed ? 'block' : 'none';\n",
              "\n",
              "        async function convertToInteractive(key) {\n",
              "          const element = document.querySelector('#df-63a57beb-198b-452c-be6b-eb3de4e613d2');\n",
              "          const dataTable =\n",
              "            await google.colab.kernel.invokeFunction('convertToInteractive',\n",
              "                                                     [key], {});\n",
              "          if (!dataTable) return;\n",
              "\n",
              "          const docLinkHtml = 'Like what you see? Visit the ' +\n",
              "            '<a target=\"_blank\" href=https://colab.research.google.com/notebooks/data_table.ipynb>data table notebook</a>'\n",
              "            + ' to learn more about interactive tables.';\n",
              "          element.innerHTML = '';\n",
              "          dataTable['output_type'] = 'display_data';\n",
              "          await google.colab.output.renderOutput(dataTable, element);\n",
              "          const docLink = document.createElement('div');\n",
              "          docLink.innerHTML = docLinkHtml;\n",
              "          element.appendChild(docLink);\n",
              "        }\n",
              "      </script>\n",
              "    </div>\n",
              "  </div>\n",
              "  "
            ]
          },
          "metadata": {},
          "execution_count": 7
        }
      ]
    },
    {
      "cell_type": "markdown",
      "source": [
        "1.2.2 Modificar la funció *plot_piano_roll* del tutorial per poder pintar el pianoroll de la cançó MIDI escollida. En aquest cas haurem de poder indicar un temps màxim de la cançó que volem afegir al pianoroll. A més, si passem un *max_time=-1*, caldrà pintar totes les notes de la cançó."
      ],
      "metadata": {
        "id": "bvOkNBItrqIZ"
      }
    },
    {
      "cell_type": "code",
      "source": [
        "# function that checks for correct song length and shows pianoroll for desired lengths\n",
        "def plot_piano_roll(notes: pd.DataFrame, count: int):\n",
        "  # check for correct max time\n",
        "  if count>0 and count<=len(notes['pitch']):\n",
        "    title = f'First {count} notes'\n",
        "    plot_notes(notes,count, title)\n",
        "  elif count == -1:\n",
        "    title = f'Whole track'\n",
        "    count = len(notes['pitch'])\n",
        "    plot_notes(notes,count,title)\n",
        "  else:\n",
        "    title = f'First {count} notes'\n",
        "    print('Error:',title)\n",
        "    print('Notes count not in range')\n",
        "    exit(1)\n",
        "\n",
        "# function that plots pianoroll\n",
        "def plot_notes(notes: pd.DataFrame, count: int, title: str):\n",
        "  plt.figure(figsize=(20, 4))\n",
        "  plot_pitch = np.stack([notes['pitch'], notes['pitch']], axis=0)\n",
        "  notes['end'] = notes['start'] + notes['duration']\n",
        "  plot_start_stop = np.stack([notes['start'], notes['end']], axis=0)\n",
        "  plt.plot(\n",
        "      plot_start_stop[:, :count], plot_pitch[:, :count], color=\"b\", marker=\".\")\n",
        "  plt.xlabel('Time [s]')\n",
        "  plt.ylabel('Pitch')\n",
        "  _ = plt.title(title)\n",
        "\n",
        "# execute funcition\n",
        "plot_piano_roll(df, count=-1)\n"
      ],
      "metadata": {
        "id": "iY5EsPVgE_6X",
        "colab": {
          "base_uri": "https://localhost:8080/",
          "height": 295
        },
        "outputId": "53492212-946b-4063-d18e-0ce018ec7856"
      },
      "execution_count": null,
      "outputs": [
        {
          "output_type": "display_data",
          "data": {
            "text/plain": [
              "<Figure size 1440x288 with 1 Axes>"
            ],
            "image/png": "[encoded data removed]"
          },
          "metadata": {
            "needs_background": "light"
          }
        }
      ]
    },
    {
      "cell_type": "markdown",
      "source": [
        "## 1.3 Processament de dades [1.5 pts]"
      ],
      "metadata": {
        "id": "Ry5uiuVywVb9"
      }
    },
    {
      "cell_type": "markdown",
      "source": [
        "Ara tornem a l'article i aplicarem el processament de dades. Buscar dins del fitxer *data_processing_functions.py* la funció que s'encarrega de dur a terme tot el processament de dades i trucar-la des d'aquí"
      ],
      "metadata": {
        "id": "Qhk-FbIVwfYH"
      }
    },
    {
      "cell_type": "code",
      "source": [
        "# execute all data processing\n",
        "dpf.do_all_steps()"
      ],
      "metadata": {
        "colab": {
          "base_uri": "https://localhost:8080/"
        },
        "id": "r2o0FmA3zPRb",
        "outputId": "6ef0cb18-b592-449f-b374-3c56c7d17a05"
      },
      "execution_count": null,
      "outputs": [
        {
          "output_type": "stream",
          "name": "stdout",
          "text": [
            "changing Tempo\n",
            "histogramming\n",
            "data/tempo/\n"
          ]
        },
        {
          "output_type": "stream",
          "name": "stderr",
          "text": [
            "/usr/local/lib/python3.7/dist-packages/pretty_midi/pretty_midi.py:100: RuntimeWarning: Tempo, Key or Time signature change events found on non-zero tracks.  This is not a valid type 0 or type 1 MIDI file.  Tempo, Key or Time Signature may be wrong.\n",
            "  RuntimeWarning)\n"
          ]
        },
        {
          "output_type": "stream",
          "name": "stdout",
          "text": [
            "make song histo\n",
            "File # 100 Current file =  data/histo// / ddb6a3db65461dca1a43de72f5375d8b.mid.pickle\n",
            "shifting midi files\n",
            "File # 100 Current file =  data/shifted/song_histo// / ddb6a3db65461dca1a43de72f5375d8b.mid.pickle\n",
            "making note indexes\n",
            "histogramming\n",
            "data/shifted/tempo/\n",
            "extracting chords\n",
            "getting dictionary\n",
            "converting chords to index sequences\n",
            "done\n"
          ]
        }
      ]
    },
    {
      "cell_type": "markdown",
      "source": [
        "1.3.1 Què fa la funció *change_tempo_folder*? Quina bpm fixa per a les cançons?"
      ],
      "metadata": {
        "id": "C_LOJsQR1WGH"
      }
    },
    {
      "cell_type": "markdown",
      "source": [
        "La funció change_tempo_folder bàsicament crea una còpia dels fitxers midi al directori data/tempo/ i en canvia el tempo fixant pbm a 500000 (per estandaritzar els tempos de les cançons). Pas a pas, agafa tots els fitxers del directori source_folder (en el nostre cas data/original/) i els copia al directori target_path (en el nostre cas data/tempo/). Un cop allà, crida a la funció change_tempo() on hi passa per paràmetre el nom del fitxer, el path original i el nou path. La funció change_tempo() està dins del fitxer midi_functions.py i el que fa es carregar el fitxer midi com a objecte MidiFile. Crea un nou objecte MidiFile buit i en copia els ticks_per_beat del fitxer passat per paràmetre. Llavors per cada track en el fitxer midi passat per paràmetre, en crea una còpia i en modifica el valor de msg. Si el tipus de msg és tempo fixa el bpm a 500000."
      ],
      "metadata": {
        "id": "KlNuR6XK8Rkt"
      }
    },
    {
      "cell_type": "markdown",
      "source": [
        "1.3.2 Un cop tenim executat el processament de dades s'hauran creat moltes carpetes i molts fitxers nous a l'actual carpeta ***data***. Ara farem servir alguns d'aquests fitxers per construir la figura 2 de l'article usant les dades processades. Crearem dues funcions:\n",
        "* my_save_histo_oct_from_midi_folder\n",
        "* my_midi_to_histo_oct\n",
        "\n",
        "basades en les funcions ***save_histo_oct_from_midi_folder*** i ***midi_to_histo_oct*** que trobareu als fitxers ***midi_functions.py*** i ***data_processing_functions.py***. Ara les modificarem perquè ens tornin dades per a dos tipus d'histogrames: un igual a la figura 2 de l'article (aparicions VS pitch) i un altre, fent servir el *histo_oct*, que seran dades per pintar *aparicions VS notes en qualsevol octava*, és a dir, el nombre de vegades que apareix una nota (sense tenir en compte a què octava pertanyi) al llarg d'una cançó."
      ],
      "metadata": {
        "id": "l5DNt93c32tc"
      }
    },
    {
      "cell_type": "markdown",
      "source": [
        "*indicació: És important entendre l'estructura de les variables:*\n",
        "* pianoroll\n",
        "* histo_bar\n",
        "* histo_oct\n",
        "\n",
        "*dins la funcio* ***midi_to_histo_oct***"
      ],
      "metadata": {
        "id": "vHNEdanvAzLp"
      }
    },
    {
      "cell_type": "code",
      "source": [
        "#usa este vector como labels del segundo gráfico \n",
        "notas_en_una_octava = ['C','C#','D','D#','E','F','F#','G','G#','A','A#','B']"
      ],
      "metadata": {
        "id": "IygIfEr3_z8_"
      },
      "execution_count": 62,
      "outputs": []
    },
    {
      "cell_type": "code",
      "source": [
        "def my_save_histo_oct_from_midi_folder(tempo_folder,histo_folder):\n",
        "    print(tempo_folder)\n",
        "    nfiles=0\n",
        "    for path, subdirs, files in os.walk(tempo_folder):\n",
        "        for name in files:\n",
        "            _path = path.replace('\\\\', '/') + '/'\n",
        "            _name = name.replace('\\\\', '/')\n",
        "            target_path = histo_folder+_path[len(tempo_folder):]\n",
        "            if not os.path.exists(target_path):\n",
        "                os.makedirs(target_path)\n",
        "            try:\n",
        "                nfiles+=1\n",
        "                if nfiles%100==0:\n",
        "                  print(\"File #\",nfiles,\"Current file = \",_path,\"/\",_name) \n",
        "                my_midi_to_histo_oct(samples_per_bar,octave, fs, _name, _path, target_path)\n",
        "            except (ValueError, EOFError, IndexError, OSError, KeyError, ZeroDivisionError) as e:\n",
        "                exception_str = 'Unexpected error in ' + name  + ':\\n', e, sys.exc_info()[0]\n",
        "                print(exception_str)\n",
        "\n",
        "def my_midi_to_histo_oct(samples_per_bar,octave, fs, name, path, histo_path):\n",
        "#    print(path + name)\n",
        "    pianoroll = mf.get_pianoroll(name, path, fs)\n",
        "    histo_bar = mf.pianoroll_to_histo_bar(pianoroll, samples_per_bar)\n",
        "    # save histo_bar result to folder (with histobar in the name)\n",
        "    pickle.dump(histo_bar,open(histo_path + name + '.histo_bar.pickle' , 'wb'))\n",
        "    histo_oct = mf.histo_bar_to_histo_oct(histo_bar, octave)\n",
        "    # save histo_oct result to folder\n",
        "    pickle.dump(histo_oct,open(histo_path + name + '.pickle' , 'wb'))\n"
      ],
      "metadata": {
        "id": "yz6F5NuvFDpD"
      },
      "execution_count": 63,
      "outputs": []
    },
    {
      "cell_type": "code",
      "source": [
        "# call function and save results to histo_folder1\n",
        "my_save_histo_oct_from_midi_folder(tempo_folder1,histo_folder1)\n"
      ],
      "metadata": {
        "colab": {
          "base_uri": "https://localhost:8080/"
        },
        "id": "ru-2FRhCLuof",
        "outputId": "f4b33da6-f3da-45f6-e54f-bde773a612e3"
      },
      "execution_count": 102,
      "outputs": [
        {
          "output_type": "stream",
          "name": "stdout",
          "text": [
            "data/tempo/\n"
          ]
        },
        {
          "output_type": "stream",
          "name": "stderr",
          "text": [
            "/usr/local/lib/python3.7/dist-packages/pretty_midi/pretty_midi.py:100: RuntimeWarning: Tempo, Key or Time signature change events found on non-zero tracks.  This is not a valid type 0 or type 1 MIDI file.  Tempo, Key or Time Signature may be wrong.\n",
            "  RuntimeWarning)\n"
          ]
        }
      ]
    },
    {
      "cell_type": "code",
      "source": [
        "# create empty DataFrame\n",
        "total_df = pd.DataFrame()\n",
        "\n",
        "# retrieve every file in histo folder\n",
        "for path, subdirs, files in os.walk('/content/drive/MyDrive/PEC3_PAC3/data/histo/'):\n",
        "  # for every file check\n",
        "  for name in files:\n",
        "    # if \"histo\" is in file name\n",
        "    if 'histo' in name:\n",
        "      target_path = '/content/drive/MyDrive/PEC3_PAC3/data/histo/'+name\n",
        "      # load pickle file\n",
        "      fig = pickle.load(open(target_path,'rb'))\n",
        "      # add content to total_df dataframe\n",
        "      total_df[name] = fig.tolist()\n",
        "\n",
        "\n",
        "total_df.head()"
      ],
      "metadata": {
        "colab": {
          "base_uri": "https://localhost:8080/",
          "height": 300
        },
        "id": "rnbmsTHIUkMz",
        "outputId": "d32b8ef5-d945-4d79-cd93-fdc7f201a254"
      },
      "execution_count": 103,
      "outputs": [
        {
          "output_type": "execute_result",
          "data": {
            "text/plain": [
              "  1b68452fdab1d72c285a4167a73dc042.mid.histo_bar.pickle  \\\n",
              "0  [0.0, 0.0, 0.0, 0.0, 0.0, 0.0, 0.0, 0.0, 0.0, ...      \n",
              "1  [0.0, 0.0, 0.0, 0.0, 0.0, 0.0, 0.0, 0.0, 0.0, ...      \n",
              "2  [0.0, 0.0, 0.0, 0.0, 0.0, 0.0, 0.0, 0.0, 0.0, ...      \n",
              "3  [0.0, 0.0, 0.0, 0.0, 0.0, 0.0, 0.0, 0.0, 0.0, ...      \n",
              "4  [0.0, 0.0, 0.0, 0.0, 0.0, 0.0, 0.0, 0.0, 0.0, ...      \n",
              "\n",
              "  1bb161504426990565d84ccecb828c5b.mid.histo_bar.pickle  \\\n",
              "0  [0.0, 0.0, 0.0, 0.0, 0.0, 0.0, 0.0, 0.0, 0.0, ...      \n",
              "1  [0.0, 0.0, 0.0, 0.0, 0.0, 0.0, 0.0, 0.0, 0.0, ...      \n",
              "2  [0.0, 0.0, 0.0, 0.0, 0.0, 0.0, 0.0, 0.0, 0.0, ...      \n",
              "3  [0.0, 0.0, 0.0, 0.0, 0.0, 0.0, 0.0, 0.0, 0.0, ...      \n",
              "4  [0.0, 0.0, 0.0, 0.0, 0.0, 0.0, 0.0, 0.0, 0.0, ...      \n",
              "\n",
              "  10288ea8e07b70c17f872fda82b94330.mid.histo_bar.pickle  \\\n",
              "0  [0.0, 0.0, 0.0, 0.0, 0.0, 0.0, 0.0, 0.0, 0.0, ...      \n",
              "1  [0.0, 0.0, 0.0, 0.0, 0.0, 0.0, 0.0, 0.0, 0.0, ...      \n",
              "2  [0.0, 0.0, 0.0, 0.0, 0.0, 0.0, 0.0, 0.0, 0.0, ...      \n",
              "3  [0.0, 0.0, 0.0, 0.0, 0.0, 0.0, 0.0, 0.0, 0.0, ...      \n",
              "4  [0.0, 0.0, 0.0, 0.0, 0.0, 0.0, 0.0, 0.0, 0.0, ...      \n",
              "\n",
              "  1b9f5f325c2080d345d877f590aa3dbe.mid.histo_bar.pickle  \\\n",
              "0  [0.0, 0.0, 0.0, 0.0, 0.0, 0.0, 0.0, 0.0, 0.0, ...      \n",
              "1  [0.0, 0.0, 0.0, 0.0, 0.0, 0.0, 0.0, 0.0, 0.0, ...      \n",
              "2  [0.0, 0.0, 0.0, 0.0, 0.0, 0.0, 0.0, 0.0, 0.0, ...      \n",
              "3  [0.0, 0.0, 0.0, 0.0, 0.0, 0.0, 0.0, 0.0, 0.0, ...      \n",
              "4  [0.0, 0.0, 0.0, 0.0, 0.0, 0.0, 0.0, 0.0, 0.0, ...      \n",
              "\n",
              "  1a0df14db4907570c68297595c5c8cf9.mid.histo_bar.pickle  \\\n",
              "0  [0.0, 0.0, 0.0, 0.0, 0.0, 0.0, 0.0, 0.0, 0.0, ...      \n",
              "1  [0.0, 0.0, 0.0, 0.0, 0.0, 0.0, 0.0, 0.0, 0.0, ...      \n",
              "2  [0.0, 0.0, 0.0, 0.0, 0.0, 0.0, 0.0, 0.0, 0.0, ...      \n",
              "3  [0.0, 0.0, 0.0, 0.0, 0.0, 0.0, 0.0, 0.0, 0.0, ...      \n",
              "4  [0.0, 0.0, 0.0, 0.0, 0.0, 0.0, 0.0, 0.0, 0.0, ...      \n",
              "\n",
              "  1b5c44731913ee9117b58ecc6313fef7.mid.histo_bar.pickle  \\\n",
              "0  [0.0, 0.0, 0.0, 0.0, 0.0, 0.0, 0.0, 0.0, 0.0, ...      \n",
              "1  [0.0, 0.0, 0.0, 0.0, 0.0, 0.0, 0.0, 0.0, 0.0, ...      \n",
              "2  [0.0, 0.0, 0.0, 0.0, 0.0, 0.0, 0.0, 0.0, 0.0, ...      \n",
              "3  [0.0, 0.0, 0.0, 0.0, 0.0, 0.0, 0.0, 0.0, 0.0, ...      \n",
              "4  [0.0, 0.0, 0.0, 0.0, 0.0, 0.0, 0.0, 0.0, 0.0, ...      \n",
              "\n",
              "  1b3d9bd0215ccd616b8d63dfca489298.mid.histo_bar.pickle  \\\n",
              "0  [0.0, 0.0, 0.0, 0.0, 0.0, 0.0, 0.0, 0.0, 0.0, ...      \n",
              "1  [0.0, 0.0, 0.0, 0.0, 0.0, 0.0, 0.0, 0.0, 0.0, ...      \n",
              "2  [0.0, 0.0, 0.0, 0.0, 0.0, 0.0, 0.0, 0.0, 0.0, ...      \n",
              "3  [0.0, 0.0, 0.0, 0.0, 0.0, 0.0, 0.0, 0.0, 0.0, ...      \n",
              "4  [0.0, 0.0, 0.0, 0.0, 0.0, 0.0, 0.0, 0.0, 0.0, ...      \n",
              "\n",
              "  1a438ce2e05aa461f24f5f07dcca24a1.mid.histo_bar.pickle  \\\n",
              "0  [0.0, 0.0, 0.0, 0.0, 0.0, 0.0, 0.0, 0.0, 0.0, ...      \n",
              "1  [0.0, 0.0, 0.0, 0.0, 0.0, 0.0, 0.0, 0.0, 0.0, ...      \n",
              "2  [0.0, 0.0, 0.0, 0.0, 0.0, 0.0, 0.0, 0.0, 0.0, ...      \n",
              "3  [0.0, 0.0, 0.0, 0.0, 0.0, 0.0, 0.0, 0.0, 0.0, ...      \n",
              "4  [0.0, 0.0, 0.0, 0.0, 0.0, 0.0, 0.0, 0.0, 0.0, ...      \n",
              "\n",
              "  1a9c75a2125eeab7ee574293f3b67762.mid.histo_bar.pickle  \\\n",
              "0  [0.0, 0.0, 0.0, 0.0, 0.0, 0.0, 0.0, 0.0, 0.0, ...      \n",
              "1  [0.0, 0.0, 0.0, 0.0, 0.0, 0.0, 0.0, 0.0, 0.0, ...      \n",
              "2  [0.0, 0.0, 0.0, 0.0, 0.0, 0.0, 0.0, 0.0, 0.0, ...      \n",
              "3  [0.0, 0.0, 0.0, 0.0, 0.0, 0.0, 0.0, 0.0, 0.0, ...      \n",
              "4  [0.0, 0.0, 0.0, 0.0, 0.0, 0.0, 0.0, 0.0, 0.0, ...      \n",
              "\n",
              "  c24989559d170135b9c6546d1d2df20b.mid.histo_bar.pickle  ...  \\\n",
              "0  [0.0, 0.0, 0.0, 0.0, 0.0, 0.0, 0.0, 0.0, 0.0, ...     ...   \n",
              "1  [0.0, 0.0, 0.0, 0.0, 0.0, 0.0, 0.0, 0.0, 0.0, ...     ...   \n",
              "2  [0.0, 0.0, 0.0, 0.0, 0.0, 0.0, 0.0, 0.0, 0.0, ...     ...   \n",
              "3  [0.0, 0.0, 0.0, 0.0, 0.0, 0.0, 0.0, 0.0, 0.0, ...     ...   \n",
              "4  [0.0, 0.0, 0.0, 0.0, 0.0, 0.0, 0.0, 0.0, 0.0, ...     ...   \n",
              "\n",
              "  1ab12f8b09b7fb40317676c428d3375a.mid.histo_bar.pickle  \\\n",
              "0  [0.0, 0.0, 0.0, 0.0, 0.0, 0.0, 0.0, 0.0, 0.0, ...      \n",
              "1  [0.0, 0.0, 0.0, 0.0, 0.0, 0.0, 0.0, 0.0, 0.0, ...      \n",
              "2  [0.0, 0.0, 0.0, 0.0, 0.0, 0.0, 0.0, 0.0, 0.0, ...      \n",
              "3  [0.0, 0.0, 0.0, 0.0, 0.0, 0.0, 0.0, 0.0, 0.0, ...      \n",
              "4  [0.0, 0.0, 0.0, 0.0, 0.0, 0.0, 0.0, 0.0, 0.0, ...      \n",
              "\n",
              "  1b1377e88864ac1d2e598249751392ab.mid.histo_bar.pickle  \\\n",
              "0  [0.0, 0.0, 0.0, 0.0, 0.0, 0.0, 0.0, 0.0, 0.0, ...      \n",
              "1  [0.0, 0.0, 0.0, 0.0, 0.0, 0.0, 0.0, 0.0, 0.0, ...      \n",
              "2  [0.0, 0.0, 0.0, 0.0, 0.0, 0.0, 0.0, 0.0, 0.0, ...      \n",
              "3  [0.0, 0.0, 0.0, 0.0, 0.0, 0.0, 0.0, 0.0, 0.0, ...      \n",
              "4  [0.0, 0.0, 0.0, 0.0, 0.0, 0.0, 0.0, 0.0, 0.0, ...      \n",
              "\n",
              "  1ae49af2dc6cdb068d749b464f330441.mid.histo_bar.pickle  \\\n",
              "0  [0.0, 0.0, 0.0, 0.0, 0.0, 0.0, 0.0, 0.0, 0.0, ...      \n",
              "1  [0.0, 0.0, 0.0, 0.0, 0.0, 0.0, 0.0, 0.0, 0.0, ...      \n",
              "2  [0.0, 0.0, 0.0, 0.0, 0.0, 0.0, 0.0, 0.0, 0.0, ...      \n",
              "3  [0.0, 0.0, 0.0, 0.0, 0.0, 0.0, 0.0, 0.0, 0.0, ...      \n",
              "4  [0.0, 0.0, 0.0, 0.0, 0.0, 0.0, 0.0, 0.0, 0.0, ...      \n",
              "\n",
              "  b97c529ab9ef783a849b896816001748.mid.histo_bar.pickle  \\\n",
              "0  [0.0, 0.0, 0.0, 0.0, 0.0, 0.0, 0.0, 0.0, 0.0, ...      \n",
              "1  [0.0, 0.0, 0.0, 0.0, 0.0, 0.0, 0.0, 0.0, 0.0, ...      \n",
              "2  [0.0, 0.0, 0.0, 0.0, 0.0, 0.0, 0.0, 0.0, 0.0, ...      \n",
              "3  [0.0, 0.0, 0.0, 0.0, 0.0, 0.0, 0.0, 0.0, 0.0, ...      \n",
              "4  [0.0, 0.0, 0.0, 0.0, 0.0, 0.0, 0.0, 0.0, 0.0, ...      \n",
              "\n",
              "  1b6451e48019f8560c88443c8f7a22ba.mid.histo_bar.pickle  \\\n",
              "0  [0.0, 0.0, 0.0, 0.0, 0.0, 0.0, 0.0, 0.0, 0.0, ...      \n",
              "1  [0.0, 0.0, 0.0, 0.0, 0.0, 0.0, 0.0, 0.0, 0.0, ...      \n",
              "2  [0.0, 0.0, 0.0, 0.0, 0.0, 0.0, 0.0, 0.0, 0.0, ...      \n",
              "3  [0.0, 0.0, 0.0, 0.0, 0.0, 0.0, 0.0, 0.0, 0.0, ...      \n",
              "4  [0.0, 0.0, 0.0, 0.0, 0.0, 0.0, 0.0, 0.0, 0.0, ...      \n",
              "\n",
              "  1a1f147ae0d79631303f398d1ce59a9c.mid.histo_bar.pickle  \\\n",
              "0  [0.0, 0.0, 0.0, 0.0, 0.0, 0.0, 0.0, 0.0, 0.0, ...      \n",
              "1  [0.0, 0.0, 0.0, 0.0, 0.0, 0.0, 0.0, 0.0, 0.0, ...      \n",
              "2  [0.0, 0.0, 0.0, 0.0, 0.0, 0.0, 0.0, 0.0, 0.0, ...      \n",
              "3  [0.0, 0.0, 0.0, 0.0, 0.0, 0.0, 0.0, 0.0, 0.0, ...      \n",
              "4  [0.0, 0.0, 0.0, 0.0, 0.0, 0.0, 0.0, 0.0, 0.0, ...      \n",
              "\n",
              "  1b21aa92341858ada59f72acd3d87a94.mid.histo_bar.pickle  \\\n",
              "0  [0.0, 0.0, 0.0, 0.0, 0.0, 0.0, 0.0, 0.0, 0.0, ...      \n",
              "1  [0.0, 0.0, 0.0, 0.0, 0.0, 0.0, 0.0, 0.0, 0.0, ...      \n",
              "2  [0.0, 0.0, 0.0, 0.0, 0.0, 0.0, 0.0, 0.0, 0.0, ...      \n",
              "3  [0.0, 0.0, 0.0, 0.0, 0.0, 0.0, 0.0, 0.0, 0.0, ...      \n",
              "4  [0.0, 0.0, 0.0, 0.0, 0.0, 0.0, 0.0, 0.0, 0.0, ...      \n",
              "\n",
              "  1a95fbfafa2fcc5dec74406001126ad0.mid.histo_bar.pickle  \\\n",
              "0  [0.0, 0.0, 0.0, 0.0, 0.0, 0.0, 0.0, 0.0, 0.0, ...      \n",
              "1  [0.0, 0.0, 0.0, 0.0, 0.0, 0.0, 0.0, 0.0, 0.0, ...      \n",
              "2  [0.0, 0.0, 0.0, 0.0, 0.0, 0.0, 0.0, 0.0, 0.0, ...      \n",
              "3  [0.0, 0.0, 0.0, 0.0, 0.0, 0.0, 0.0, 0.0, 0.0, ...      \n",
              "4  [0.0, 0.0, 0.0, 0.0, 0.0, 0.0, 0.0, 0.0, 0.0, ...      \n",
              "\n",
              "  05f21994c71a5f881e64f45c8d706165.mid.histo_bar.pickle  \\\n",
              "0  [0.0, 0.0, 0.0, 0.0, 0.0, 0.0, 0.0, 0.0, 0.0, ...      \n",
              "1  [0.0, 0.0, 0.0, 0.0, 0.0, 0.0, 0.0, 0.0, 0.0, ...      \n",
              "2  [0.0, 0.0, 0.0, 0.0, 0.0, 0.0, 0.0, 0.0, 0.0, ...      \n",
              "3  [0.0, 0.0, 0.0, 0.0, 0.0, 0.0, 0.0, 0.0, 0.0, ...      \n",
              "4  [0.0, 0.0, 0.0, 0.0, 0.0, 0.0, 0.0, 0.0, 0.0, ...      \n",
              "\n",
              "  ddb6a3db65461dca1a43de72f5375d8b.mid.histo_bar.pickle  \n",
              "0  [0.0, 0.0, 0.0, 0.0, 0.0, 0.0, 0.0, 0.0, 0.0, ...     \n",
              "1  [0.0, 0.0, 0.0, 0.0, 0.0, 0.0, 0.0, 0.0, 0.0, ...     \n",
              "2  [0.0, 0.0, 0.0, 0.0, 0.0, 0.0, 0.0, 0.0, 0.0, ...     \n",
              "3  [0.0, 0.0, 0.0, 0.0, 0.0, 0.0, 0.0, 0.0, 0.0, ...     \n",
              "4  [0.0, 0.0, 0.0, 0.0, 0.0, 0.0, 0.0, 0.0, 0.0, ...     \n",
              "\n",
              "[5 rows x 50 columns]"
            ],
            "text/html": [
              "\n",
              "  <div id=\"df-763a3842-7fce-488d-9244-889ca529ddf6\">\n",
              "    <div class=\"colab-df-container\">\n",
              "      <div>\n",
              "<style scoped>\n",
              "    .dataframe tbody tr th:only-of-type {\n",
              "        vertical-align: middle;\n",
              "    }\n",
              "\n",
              "    .dataframe tbody tr th {\n",
              "        vertical-align: top;\n",
              "    }\n",
              "\n",
              "    .dataframe thead th {\n",
              "        text-align: right;\n",
              "    }\n",
              "</style>\n",
              "<table border=\"1\" class=\"dataframe\">\n",
              "  <thead>\n",
              "    <tr style=\"text-align: right;\">\n",
              "      <th></th>\n",
              "      <th>1b68452fdab1d72c285a4167a73dc042.mid.histo_bar.pickle</th>\n",
              "      <th>1bb161504426990565d84ccecb828c5b.mid.histo_bar.pickle</th>\n",
              "      <th>10288ea8e07b70c17f872fda82b94330.mid.histo_bar.pickle</th>\n",
              "      <th>1b9f5f325c2080d345d877f590aa3dbe.mid.histo_bar.pickle</th>\n",
              "      <th>1a0df14db4907570c68297595c5c8cf9.mid.histo_bar.pickle</th>\n",
              "      <th>1b5c44731913ee9117b58ecc6313fef7.mid.histo_bar.pickle</th>\n",
              "      <th>1b3d9bd0215ccd616b8d63dfca489298.mid.histo_bar.pickle</th>\n",
              "      <th>1a438ce2e05aa461f24f5f07dcca24a1.mid.histo_bar.pickle</th>\n",
              "      <th>1a9c75a2125eeab7ee574293f3b67762.mid.histo_bar.pickle</th>\n",
              "      <th>c24989559d170135b9c6546d1d2df20b.mid.histo_bar.pickle</th>\n",
              "      <th>...</th>\n",
              "      <th>1ab12f8b09b7fb40317676c428d3375a.mid.histo_bar.pickle</th>\n",
              "      <th>1b1377e88864ac1d2e598249751392ab.mid.histo_bar.pickle</th>\n",
              "      <th>1ae49af2dc6cdb068d749b464f330441.mid.histo_bar.pickle</th>\n",
              "      <th>b97c529ab9ef783a849b896816001748.mid.histo_bar.pickle</th>\n",
              "      <th>1b6451e48019f8560c88443c8f7a22ba.mid.histo_bar.pickle</th>\n",
              "      <th>1a1f147ae0d79631303f398d1ce59a9c.mid.histo_bar.pickle</th>\n",
              "      <th>1b21aa92341858ada59f72acd3d87a94.mid.histo_bar.pickle</th>\n",
              "      <th>1a95fbfafa2fcc5dec74406001126ad0.mid.histo_bar.pickle</th>\n",
              "      <th>05f21994c71a5f881e64f45c8d706165.mid.histo_bar.pickle</th>\n",
              "      <th>ddb6a3db65461dca1a43de72f5375d8b.mid.histo_bar.pickle</th>\n",
              "    </tr>\n",
              "  </thead>\n",
              "  <tbody>\n",
              "    <tr>\n",
              "      <th>0</th>\n",
              "      <td>[0.0, 0.0, 0.0, 0.0, 0.0, 0.0, 0.0, 0.0, 0.0, ...</td>\n",
              "      <td>[0.0, 0.0, 0.0, 0.0, 0.0, 0.0, 0.0, 0.0, 0.0, ...</td>\n",
              "      <td>[0.0, 0.0, 0.0, 0.0, 0.0, 0.0, 0.0, 0.0, 0.0, ...</td>\n",
              "      <td>[0.0, 0.0, 0.0, 0.0, 0.0, 0.0, 0.0, 0.0, 0.0, ...</td>\n",
              "      <td>[0.0, 0.0, 0.0, 0.0, 0.0, 0.0, 0.0, 0.0, 0.0, ...</td>\n",
              "      <td>[0.0, 0.0, 0.0, 0.0, 0.0, 0.0, 0.0, 0.0, 0.0, ...</td>\n",
              "      <td>[0.0, 0.0, 0.0, 0.0, 0.0, 0.0, 0.0, 0.0, 0.0, ...</td>\n",
              "      <td>[0.0, 0.0, 0.0, 0.0, 0.0, 0.0, 0.0, 0.0, 0.0, ...</td>\n",
              "      <td>[0.0, 0.0, 0.0, 0.0, 0.0, 0.0, 0.0, 0.0, 0.0, ...</td>\n",
              "      <td>[0.0, 0.0, 0.0, 0.0, 0.0, 0.0, 0.0, 0.0, 0.0, ...</td>\n",
              "      <td>...</td>\n",
              "      <td>[0.0, 0.0, 0.0, 0.0, 0.0, 0.0, 0.0, 0.0, 0.0, ...</td>\n",
              "      <td>[0.0, 0.0, 0.0, 0.0, 0.0, 0.0, 0.0, 0.0, 0.0, ...</td>\n",
              "      <td>[0.0, 0.0, 0.0, 0.0, 0.0, 0.0, 0.0, 0.0, 0.0, ...</td>\n",
              "      <td>[0.0, 0.0, 0.0, 0.0, 0.0, 0.0, 0.0, 0.0, 0.0, ...</td>\n",
              "      <td>[0.0, 0.0, 0.0, 0.0, 0.0, 0.0, 0.0, 0.0, 0.0, ...</td>\n",
              "      <td>[0.0, 0.0, 0.0, 0.0, 0.0, 0.0, 0.0, 0.0, 0.0, ...</td>\n",
              "      <td>[0.0, 0.0, 0.0, 0.0, 0.0, 0.0, 0.0, 0.0, 0.0, ...</td>\n",
              "      <td>[0.0, 0.0, 0.0, 0.0, 0.0, 0.0, 0.0, 0.0, 0.0, ...</td>\n",
              "      <td>[0.0, 0.0, 0.0, 0.0, 0.0, 0.0, 0.0, 0.0, 0.0, ...</td>\n",
              "      <td>[0.0, 0.0, 0.0, 0.0, 0.0, 0.0, 0.0, 0.0, 0.0, ...</td>\n",
              "    </tr>\n",
              "    <tr>\n",
              "      <th>1</th>\n",
              "      <td>[0.0, 0.0, 0.0, 0.0, 0.0, 0.0, 0.0, 0.0, 0.0, ...</td>\n",
              "      <td>[0.0, 0.0, 0.0, 0.0, 0.0, 0.0, 0.0, 0.0, 0.0, ...</td>\n",
              "      <td>[0.0, 0.0, 0.0, 0.0, 0.0, 0.0, 0.0, 0.0, 0.0, ...</td>\n",
              "      <td>[0.0, 0.0, 0.0, 0.0, 0.0, 0.0, 0.0, 0.0, 0.0, ...</td>\n",
              "      <td>[0.0, 0.0, 0.0, 0.0, 0.0, 0.0, 0.0, 0.0, 0.0, ...</td>\n",
              "      <td>[0.0, 0.0, 0.0, 0.0, 0.0, 0.0, 0.0, 0.0, 0.0, ...</td>\n",
              "      <td>[0.0, 0.0, 0.0, 0.0, 0.0, 0.0, 0.0, 0.0, 0.0, ...</td>\n",
              "      <td>[0.0, 0.0, 0.0, 0.0, 0.0, 0.0, 0.0, 0.0, 0.0, ...</td>\n",
              "      <td>[0.0, 0.0, 0.0, 0.0, 0.0, 0.0, 0.0, 0.0, 0.0, ...</td>\n",
              "      <td>[0.0, 0.0, 0.0, 0.0, 0.0, 0.0, 0.0, 0.0, 0.0, ...</td>\n",
              "      <td>...</td>\n",
              "      <td>[0.0, 0.0, 0.0, 0.0, 0.0, 0.0, 0.0, 0.0, 0.0, ...</td>\n",
              "      <td>[0.0, 0.0, 0.0, 0.0, 0.0, 0.0, 0.0, 0.0, 0.0, ...</td>\n",
              "      <td>[0.0, 0.0, 0.0, 0.0, 0.0, 0.0, 0.0, 0.0, 0.0, ...</td>\n",
              "      <td>[0.0, 0.0, 0.0, 0.0, 0.0, 0.0, 0.0, 0.0, 0.0, ...</td>\n",
              "      <td>[0.0, 0.0, 0.0, 0.0, 0.0, 0.0, 0.0, 0.0, 0.0, ...</td>\n",
              "      <td>[0.0, 0.0, 0.0, 0.0, 0.0, 0.0, 0.0, 0.0, 0.0, ...</td>\n",
              "      <td>[0.0, 0.0, 0.0, 0.0, 0.0, 0.0, 0.0, 0.0, 0.0, ...</td>\n",
              "      <td>[0.0, 0.0, 0.0, 0.0, 0.0, 0.0, 0.0, 0.0, 0.0, ...</td>\n",
              "      <td>[0.0, 0.0, 0.0, 0.0, 0.0, 0.0, 0.0, 0.0, 0.0, ...</td>\n",
              "      <td>[0.0, 0.0, 0.0, 0.0, 0.0, 0.0, 0.0, 0.0, 0.0, ...</td>\n",
              "    </tr>\n",
              "    <tr>\n",
              "      <th>2</th>\n",
              "      <td>[0.0, 0.0, 0.0, 0.0, 0.0, 0.0, 0.0, 0.0, 0.0, ...</td>\n",
              "      <td>[0.0, 0.0, 0.0, 0.0, 0.0, 0.0, 0.0, 0.0, 0.0, ...</td>\n",
              "      <td>[0.0, 0.0, 0.0, 0.0, 0.0, 0.0, 0.0, 0.0, 0.0, ...</td>\n",
              "      <td>[0.0, 0.0, 0.0, 0.0, 0.0, 0.0, 0.0, 0.0, 0.0, ...</td>\n",
              "      <td>[0.0, 0.0, 0.0, 0.0, 0.0, 0.0, 0.0, 0.0, 0.0, ...</td>\n",
              "      <td>[0.0, 0.0, 0.0, 0.0, 0.0, 0.0, 0.0, 0.0, 0.0, ...</td>\n",
              "      <td>[0.0, 0.0, 0.0, 0.0, 0.0, 0.0, 0.0, 0.0, 0.0, ...</td>\n",
              "      <td>[0.0, 0.0, 0.0, 0.0, 0.0, 0.0, 0.0, 0.0, 0.0, ...</td>\n",
              "      <td>[0.0, 0.0, 0.0, 0.0, 0.0, 0.0, 0.0, 0.0, 0.0, ...</td>\n",
              "      <td>[0.0, 0.0, 0.0, 0.0, 0.0, 0.0, 0.0, 0.0, 0.0, ...</td>\n",
              "      <td>...</td>\n",
              "      <td>[0.0, 0.0, 0.0, 0.0, 0.0, 0.0, 0.0, 0.0, 0.0, ...</td>\n",
              "      <td>[0.0, 0.0, 0.0, 0.0, 0.0, 0.0, 0.0, 0.0, 0.0, ...</td>\n",
              "      <td>[0.0, 0.0, 0.0, 0.0, 0.0, 0.0, 0.0, 0.0, 0.0, ...</td>\n",
              "      <td>[0.0, 0.0, 0.0, 0.0, 0.0, 0.0, 0.0, 0.0, 0.0, ...</td>\n",
              "      <td>[0.0, 0.0, 0.0, 0.0, 0.0, 0.0, 0.0, 0.0, 0.0, ...</td>\n",
              "      <td>[0.0, 0.0, 0.0, 0.0, 0.0, 0.0, 0.0, 0.0, 0.0, ...</td>\n",
              "      <td>[0.0, 0.0, 0.0, 0.0, 0.0, 0.0, 0.0, 0.0, 0.0, ...</td>\n",
              "      <td>[0.0, 0.0, 0.0, 0.0, 0.0, 0.0, 0.0, 0.0, 0.0, ...</td>\n",
              "      <td>[0.0, 0.0, 0.0, 0.0, 0.0, 0.0, 0.0, 0.0, 0.0, ...</td>\n",
              "      <td>[0.0, 0.0, 0.0, 0.0, 0.0, 0.0, 0.0, 0.0, 0.0, ...</td>\n",
              "    </tr>\n",
              "    <tr>\n",
              "      <th>3</th>\n",
              "      <td>[0.0, 0.0, 0.0, 0.0, 0.0, 0.0, 0.0, 0.0, 0.0, ...</td>\n",
              "      <td>[0.0, 0.0, 0.0, 0.0, 0.0, 0.0, 0.0, 0.0, 0.0, ...</td>\n",
              "      <td>[0.0, 0.0, 0.0, 0.0, 0.0, 0.0, 0.0, 0.0, 0.0, ...</td>\n",
              "      <td>[0.0, 0.0, 0.0, 0.0, 0.0, 0.0, 0.0, 0.0, 0.0, ...</td>\n",
              "      <td>[0.0, 0.0, 0.0, 0.0, 0.0, 0.0, 0.0, 0.0, 0.0, ...</td>\n",
              "      <td>[0.0, 0.0, 0.0, 0.0, 0.0, 0.0, 0.0, 0.0, 0.0, ...</td>\n",
              "      <td>[0.0, 0.0, 0.0, 0.0, 0.0, 0.0, 0.0, 0.0, 0.0, ...</td>\n",
              "      <td>[0.0, 0.0, 0.0, 0.0, 0.0, 0.0, 0.0, 0.0, 0.0, ...</td>\n",
              "      <td>[0.0, 0.0, 0.0, 0.0, 0.0, 0.0, 0.0, 0.0, 0.0, ...</td>\n",
              "      <td>[0.0, 0.0, 0.0, 0.0, 0.0, 0.0, 0.0, 0.0, 0.0, ...</td>\n",
              "      <td>...</td>\n",
              "      <td>[0.0, 0.0, 0.0, 0.0, 0.0, 0.0, 0.0, 0.0, 0.0, ...</td>\n",
              "      <td>[0.0, 0.0, 0.0, 0.0, 0.0, 0.0, 0.0, 0.0, 0.0, ...</td>\n",
              "      <td>[0.0, 0.0, 0.0, 0.0, 0.0, 0.0, 0.0, 0.0, 0.0, ...</td>\n",
              "      <td>[0.0, 0.0, 0.0, 0.0, 0.0, 0.0, 0.0, 0.0, 0.0, ...</td>\n",
              "      <td>[0.0, 0.0, 0.0, 0.0, 0.0, 0.0, 0.0, 0.0, 0.0, ...</td>\n",
              "      <td>[0.0, 0.0, 0.0, 0.0, 0.0, 0.0, 0.0, 0.0, 0.0, ...</td>\n",
              "      <td>[0.0, 0.0, 0.0, 0.0, 0.0, 0.0, 0.0, 0.0, 0.0, ...</td>\n",
              "      <td>[0.0, 0.0, 0.0, 0.0, 0.0, 0.0, 0.0, 0.0, 0.0, ...</td>\n",
              "      <td>[0.0, 0.0, 0.0, 0.0, 0.0, 0.0, 0.0, 0.0, 0.0, ...</td>\n",
              "      <td>[0.0, 0.0, 0.0, 0.0, 0.0, 0.0, 0.0, 0.0, 0.0, ...</td>\n",
              "    </tr>\n",
              "    <tr>\n",
              "      <th>4</th>\n",
              "      <td>[0.0, 0.0, 0.0, 0.0, 0.0, 0.0, 0.0, 0.0, 0.0, ...</td>\n",
              "      <td>[0.0, 0.0, 0.0, 0.0, 0.0, 0.0, 0.0, 0.0, 0.0, ...</td>\n",
              "      <td>[0.0, 0.0, 0.0, 0.0, 0.0, 0.0, 0.0, 0.0, 0.0, ...</td>\n",
              "      <td>[0.0, 0.0, 0.0, 0.0, 0.0, 0.0, 0.0, 0.0, 0.0, ...</td>\n",
              "      <td>[0.0, 0.0, 0.0, 0.0, 0.0, 0.0, 0.0, 0.0, 0.0, ...</td>\n",
              "      <td>[0.0, 0.0, 0.0, 0.0, 0.0, 0.0, 0.0, 0.0, 0.0, ...</td>\n",
              "      <td>[0.0, 0.0, 0.0, 0.0, 0.0, 0.0, 0.0, 0.0, 0.0, ...</td>\n",
              "      <td>[0.0, 0.0, 0.0, 0.0, 0.0, 0.0, 0.0, 0.0, 0.0, ...</td>\n",
              "      <td>[0.0, 0.0, 0.0, 0.0, 0.0, 0.0, 0.0, 0.0, 0.0, ...</td>\n",
              "      <td>[0.0, 0.0, 0.0, 0.0, 0.0, 0.0, 0.0, 0.0, 0.0, ...</td>\n",
              "      <td>...</td>\n",
              "      <td>[0.0, 0.0, 0.0, 0.0, 0.0, 0.0, 0.0, 0.0, 0.0, ...</td>\n",
              "      <td>[0.0, 0.0, 0.0, 0.0, 0.0, 0.0, 0.0, 0.0, 0.0, ...</td>\n",
              "      <td>[0.0, 0.0, 0.0, 0.0, 0.0, 0.0, 0.0, 0.0, 0.0, ...</td>\n",
              "      <td>[0.0, 0.0, 0.0, 0.0, 0.0, 0.0, 0.0, 0.0, 0.0, ...</td>\n",
              "      <td>[0.0, 0.0, 0.0, 0.0, 0.0, 0.0, 0.0, 0.0, 0.0, ...</td>\n",
              "      <td>[0.0, 0.0, 0.0, 0.0, 0.0, 0.0, 0.0, 0.0, 0.0, ...</td>\n",
              "      <td>[0.0, 0.0, 0.0, 0.0, 0.0, 0.0, 0.0, 0.0, 0.0, ...</td>\n",
              "      <td>[0.0, 0.0, 0.0, 0.0, 0.0, 0.0, 0.0, 0.0, 0.0, ...</td>\n",
              "      <td>[0.0, 0.0, 0.0, 0.0, 0.0, 0.0, 0.0, 0.0, 0.0, ...</td>\n",
              "      <td>[0.0, 0.0, 0.0, 0.0, 0.0, 0.0, 0.0, 0.0, 0.0, ...</td>\n",
              "    </tr>\n",
              "  </tbody>\n",
              "</table>\n",
              "<p>5 rows × 50 columns</p>\n",
              "</div>\n",
              "      <button class=\"colab-df-convert\" onclick=\"convertToInteractive('df-763a3842-7fce-488d-9244-889ca529ddf6')\"\n",
              "              title=\"Convert this dataframe to an interactive table.\"\n",
              "              style=\"display:none;\">\n",
              "        \n",
              "  <svg xmlns=\"http://www.w3.org/2000/svg\" height=\"24px\"viewBox=\"0 0 24 24\"\n",
              "       width=\"24px\">\n",
              "    <path d=\"M0 0h24v24H0V0z\" fill=\"none\"/>\n",
              "    <path d=\"M18.56 5.44l.94 2.06.94-2.06 2.06-.94-2.06-.94-.94-2.06-.94 2.06-2.06.94zm-11 1L8.5 8.5l.94-2.06 2.06-.94-2.06-.94L8.5 2.5l-.94 2.06-2.06.94zm10 10l.94 2.06.94-2.06 2.06-.94-2.06-.94-.94-2.06-.94 2.06-2.06.94z\"/><path d=\"M17.41 7.96l-1.37-1.37c-.4-.4-.92-.59-1.43-.59-.52 0-1.04.2-1.43.59L10.3 9.45l-7.72 7.72c-.78.78-.78 2.05 0 2.83L4 21.41c.39.39.9.59 1.41.59.51 0 1.02-.2 1.41-.59l7.78-7.78 2.81-2.81c.8-.78.8-2.07 0-2.86zM5.41 20L4 18.59l7.72-7.72 1.47 1.35L5.41 20z\"/>\n",
              "  </svg>\n",
              "      </button>\n",
              "      \n",
              "  <style>\n",
              "    .colab-df-container {\n",
              "      display:flex;\n",
              "      flex-wrap:wrap;\n",
              "      gap: 12px;\n",
              "    }\n",
              "\n",
              "    .colab-df-convert {\n",
              "      background-color: #E8F0FE;\n",
              "      border: none;\n",
              "      border-radius: 50%;\n",
              "      cursor: pointer;\n",
              "      display: none;\n",
              "      fill: #1967D2;\n",
              "      height: 32px;\n",
              "      padding: 0 0 0 0;\n",
              "      width: 32px;\n",
              "    }\n",
              "\n",
              "    .colab-df-convert:hover {\n",
              "      background-color: #E2EBFA;\n",
              "      box-shadow: 0px 1px 2px rgba(60, 64, 67, 0.3), 0px 1px 3px 1px rgba(60, 64, 67, 0.15);\n",
              "      fill: #174EA6;\n",
              "    }\n",
              "\n",
              "    [theme=dark] .colab-df-convert {\n",
              "      background-color: #3B4455;\n",
              "      fill: #D2E3FC;\n",
              "    }\n",
              "\n",
              "    [theme=dark] .colab-df-convert:hover {\n",
              "      background-color: #434B5C;\n",
              "      box-shadow: 0px 1px 3px 1px rgba(0, 0, 0, 0.15);\n",
              "      filter: drop-shadow(0px 1px 2px rgba(0, 0, 0, 0.3));\n",
              "      fill: #FFFFFF;\n",
              "    }\n",
              "  </style>\n",
              "\n",
              "      <script>\n",
              "        const buttonEl =\n",
              "          document.querySelector('#df-763a3842-7fce-488d-9244-889ca529ddf6 button.colab-df-convert');\n",
              "        buttonEl.style.display =\n",
              "          google.colab.kernel.accessAllowed ? 'block' : 'none';\n",
              "\n",
              "        async function convertToInteractive(key) {\n",
              "          const element = document.querySelector('#df-763a3842-7fce-488d-9244-889ca529ddf6');\n",
              "          const dataTable =\n",
              "            await google.colab.kernel.invokeFunction('convertToInteractive',\n",
              "                                                     [key], {});\n",
              "          if (!dataTable) return;\n",
              "\n",
              "          const docLinkHtml = 'Like what you see? Visit the ' +\n",
              "            '<a target=\"_blank\" href=https://colab.research.google.com/notebooks/data_table.ipynb>data table notebook</a>'\n",
              "            + ' to learn more about interactive tables.';\n",
              "          element.innerHTML = '';\n",
              "          dataTable['output_type'] = 'display_data';\n",
              "          await google.colab.output.renderOutput(dataTable, element);\n",
              "          const docLink = document.createElement('div');\n",
              "          docLink.innerHTML = docLinkHtml;\n",
              "          element.appendChild(docLink);\n",
              "        }\n",
              "      </script>\n",
              "    </div>\n",
              "  </div>\n",
              "  "
            ]
          },
          "metadata": {},
          "execution_count": 103
        }
      ]
    },
    {
      "cell_type": "markdown",
      "source": [
        "En aquest punt tenim un dataframe que hem de transposar i fer un join de totes les files, per comptar les courrències."
      ],
      "metadata": {
        "id": "bUPA96sO24NB"
      }
    },
    {
      "cell_type": "code",
      "source": [
        "total_df = pd.DataFrame(total_df.T.sum())\n",
        "total_df.columns = ['pitches']\n",
        "total_df.head(10)"
      ],
      "metadata": {
        "colab": {
          "base_uri": "https://localhost:8080/",
          "height": 363
        },
        "id": "0p_7-Q4w23BV",
        "outputId": "2591a07f-ba6f-49e1-997c-d2ebc6cd24f6"
      },
      "execution_count": 104,
      "outputs": [
        {
          "output_type": "execute_result",
          "data": {
            "text/plain": [
              "                                             pitches\n",
              "0  [0.0, 0.0, 0.0, 0.0, 0.0, 0.0, 0.0, 0.0, 0.0, ...\n",
              "1  [0.0, 0.0, 0.0, 0.0, 0.0, 0.0, 0.0, 0.0, 0.0, ...\n",
              "2  [0.0, 0.0, 0.0, 0.0, 0.0, 0.0, 0.0, 0.0, 0.0, ...\n",
              "3  [0.0, 0.0, 0.0, 0.0, 0.0, 0.0, 0.0, 0.0, 0.0, ...\n",
              "4  [0.0, 0.0, 0.0, 0.0, 0.0, 0.0, 0.0, 0.0, 0.0, ...\n",
              "5  [0.0, 0.0, 0.0, 0.0, 0.0, 0.0, 0.0, 0.0, 0.0, ...\n",
              "6  [0.0, 0.0, 0.0, 0.0, 0.0, 0.0, 0.0, 0.0, 0.0, ...\n",
              "7  [0.0, 0.0, 0.0, 0.0, 0.0, 0.0, 0.0, 0.0, 0.0, ...\n",
              "8  [0.0, 0.0, 0.0, 0.0, 0.0, 0.0, 0.0, 0.0, 0.0, ...\n",
              "9  [0.0, 0.0, 0.0, 0.0, 0.0, 0.0, 0.0, 0.0, 0.0, ..."
            ],
            "text/html": [
              "\n",
              "  <div id=\"df-055432ba-bd62-4d8e-93a2-e9649ebd2af3\">\n",
              "    <div class=\"colab-df-container\">\n",
              "      <div>\n",
              "<style scoped>\n",
              "    .dataframe tbody tr th:only-of-type {\n",
              "        vertical-align: middle;\n",
              "    }\n",
              "\n",
              "    .dataframe tbody tr th {\n",
              "        vertical-align: top;\n",
              "    }\n",
              "\n",
              "    .dataframe thead th {\n",
              "        text-align: right;\n",
              "    }\n",
              "</style>\n",
              "<table border=\"1\" class=\"dataframe\">\n",
              "  <thead>\n",
              "    <tr style=\"text-align: right;\">\n",
              "      <th></th>\n",
              "      <th>pitches</th>\n",
              "    </tr>\n",
              "  </thead>\n",
              "  <tbody>\n",
              "    <tr>\n",
              "      <th>0</th>\n",
              "      <td>[0.0, 0.0, 0.0, 0.0, 0.0, 0.0, 0.0, 0.0, 0.0, ...</td>\n",
              "    </tr>\n",
              "    <tr>\n",
              "      <th>1</th>\n",
              "      <td>[0.0, 0.0, 0.0, 0.0, 0.0, 0.0, 0.0, 0.0, 0.0, ...</td>\n",
              "    </tr>\n",
              "    <tr>\n",
              "      <th>2</th>\n",
              "      <td>[0.0, 0.0, 0.0, 0.0, 0.0, 0.0, 0.0, 0.0, 0.0, ...</td>\n",
              "    </tr>\n",
              "    <tr>\n",
              "      <th>3</th>\n",
              "      <td>[0.0, 0.0, 0.0, 0.0, 0.0, 0.0, 0.0, 0.0, 0.0, ...</td>\n",
              "    </tr>\n",
              "    <tr>\n",
              "      <th>4</th>\n",
              "      <td>[0.0, 0.0, 0.0, 0.0, 0.0, 0.0, 0.0, 0.0, 0.0, ...</td>\n",
              "    </tr>\n",
              "    <tr>\n",
              "      <th>5</th>\n",
              "      <td>[0.0, 0.0, 0.0, 0.0, 0.0, 0.0, 0.0, 0.0, 0.0, ...</td>\n",
              "    </tr>\n",
              "    <tr>\n",
              "      <th>6</th>\n",
              "      <td>[0.0, 0.0, 0.0, 0.0, 0.0, 0.0, 0.0, 0.0, 0.0, ...</td>\n",
              "    </tr>\n",
              "    <tr>\n",
              "      <th>7</th>\n",
              "      <td>[0.0, 0.0, 0.0, 0.0, 0.0, 0.0, 0.0, 0.0, 0.0, ...</td>\n",
              "    </tr>\n",
              "    <tr>\n",
              "      <th>8</th>\n",
              "      <td>[0.0, 0.0, 0.0, 0.0, 0.0, 0.0, 0.0, 0.0, 0.0, ...</td>\n",
              "    </tr>\n",
              "    <tr>\n",
              "      <th>9</th>\n",
              "      <td>[0.0, 0.0, 0.0, 0.0, 0.0, 0.0, 0.0, 0.0, 0.0, ...</td>\n",
              "    </tr>\n",
              "  </tbody>\n",
              "</table>\n",
              "</div>\n",
              "      <button class=\"colab-df-convert\" onclick=\"convertToInteractive('df-055432ba-bd62-4d8e-93a2-e9649ebd2af3')\"\n",
              "              title=\"Convert this dataframe to an interactive table.\"\n",
              "              style=\"display:none;\">\n",
              "        \n",
              "  <svg xmlns=\"http://www.w3.org/2000/svg\" height=\"24px\"viewBox=\"0 0 24 24\"\n",
              "       width=\"24px\">\n",
              "    <path d=\"M0 0h24v24H0V0z\" fill=\"none\"/>\n",
              "    <path d=\"M18.56 5.44l.94 2.06.94-2.06 2.06-.94-2.06-.94-.94-2.06-.94 2.06-2.06.94zm-11 1L8.5 8.5l.94-2.06 2.06-.94-2.06-.94L8.5 2.5l-.94 2.06-2.06.94zm10 10l.94 2.06.94-2.06 2.06-.94-2.06-.94-.94-2.06-.94 2.06-2.06.94z\"/><path d=\"M17.41 7.96l-1.37-1.37c-.4-.4-.92-.59-1.43-.59-.52 0-1.04.2-1.43.59L10.3 9.45l-7.72 7.72c-.78.78-.78 2.05 0 2.83L4 21.41c.39.39.9.59 1.41.59.51 0 1.02-.2 1.41-.59l7.78-7.78 2.81-2.81c.8-.78.8-2.07 0-2.86zM5.41 20L4 18.59l7.72-7.72 1.47 1.35L5.41 20z\"/>\n",
              "  </svg>\n",
              "      </button>\n",
              "      \n",
              "  <style>\n",
              "    .colab-df-container {\n",
              "      display:flex;\n",
              "      flex-wrap:wrap;\n",
              "      gap: 12px;\n",
              "    }\n",
              "\n",
              "    .colab-df-convert {\n",
              "      background-color: #E8F0FE;\n",
              "      border: none;\n",
              "      border-radius: 50%;\n",
              "      cursor: pointer;\n",
              "      display: none;\n",
              "      fill: #1967D2;\n",
              "      height: 32px;\n",
              "      padding: 0 0 0 0;\n",
              "      width: 32px;\n",
              "    }\n",
              "\n",
              "    .colab-df-convert:hover {\n",
              "      background-color: #E2EBFA;\n",
              "      box-shadow: 0px 1px 2px rgba(60, 64, 67, 0.3), 0px 1px 3px 1px rgba(60, 64, 67, 0.15);\n",
              "      fill: #174EA6;\n",
              "    }\n",
              "\n",
              "    [theme=dark] .colab-df-convert {\n",
              "      background-color: #3B4455;\n",
              "      fill: #D2E3FC;\n",
              "    }\n",
              "\n",
              "    [theme=dark] .colab-df-convert:hover {\n",
              "      background-color: #434B5C;\n",
              "      box-shadow: 0px 1px 3px 1px rgba(0, 0, 0, 0.15);\n",
              "      filter: drop-shadow(0px 1px 2px rgba(0, 0, 0, 0.3));\n",
              "      fill: #FFFFFF;\n",
              "    }\n",
              "  </style>\n",
              "\n",
              "      <script>\n",
              "        const buttonEl =\n",
              "          document.querySelector('#df-055432ba-bd62-4d8e-93a2-e9649ebd2af3 button.colab-df-convert');\n",
              "        buttonEl.style.display =\n",
              "          google.colab.kernel.accessAllowed ? 'block' : 'none';\n",
              "\n",
              "        async function convertToInteractive(key) {\n",
              "          const element = document.querySelector('#df-055432ba-bd62-4d8e-93a2-e9649ebd2af3');\n",
              "          const dataTable =\n",
              "            await google.colab.kernel.invokeFunction('convertToInteractive',\n",
              "                                                     [key], {});\n",
              "          if (!dataTable) return;\n",
              "\n",
              "          const docLinkHtml = 'Like what you see? Visit the ' +\n",
              "            '<a target=\"_blank\" href=https://colab.research.google.com/notebooks/data_table.ipynb>data table notebook</a>'\n",
              "            + ' to learn more about interactive tables.';\n",
              "          element.innerHTML = '';\n",
              "          dataTable['output_type'] = 'display_data';\n",
              "          await google.colab.output.renderOutput(dataTable, element);\n",
              "          const docLink = document.createElement('div');\n",
              "          docLink.innerHTML = docLinkHtml;\n",
              "          element.appendChild(docLink);\n",
              "        }\n",
              "      </script>\n",
              "    </div>\n",
              "  </div>\n",
              "  "
            ]
          },
          "metadata": {},
          "execution_count": 104
        }
      ]
    },
    {
      "cell_type": "markdown",
      "source": [
        "En aquest punt tenim un DataFrame amb l'índex amb totes les tecles del teclat midi i una llista de totes les vegades que es toquen, que hem de reduir a ocurrències."
      ],
      "metadata": {
        "id": "aLoCSULg3cEg"
      }
    },
    {
      "cell_type": "code",
      "source": [
        "# convert to pandas for convenience\n",
        "total_df = pd.DataFrame(total_df)\n",
        "# sum all apearances\n",
        "total_df['pitches'] = [sum(a) for a in total_df['pitches']]\n",
        "# categorize the MIDI keys (12 times and then up to 128 keys)\n",
        "total_df['majorMinor'] = (['Major','minor','Major','minor','Major','Major','minor','Major','minor','Major','minor','Major']*12)[:128]\n",
        "total_df.head(10)"
      ],
      "metadata": {
        "colab": {
          "base_uri": "https://localhost:8080/",
          "height": 363
        },
        "id": "xZHh_-8O3kzV",
        "outputId": "a9b8e995-3c01-4475-f5dd-2c3b56768ca4"
      },
      "execution_count": 107,
      "outputs": [
        {
          "output_type": "execute_result",
          "data": {
            "text/plain": [
              "   pitches majorMinor\n",
              "0      0.0      Major\n",
              "1      0.0      minor\n",
              "2      0.0      Major\n",
              "3      0.0      minor\n",
              "4      0.0      Major\n",
              "5      0.0      Major\n",
              "6      0.0      minor\n",
              "7      0.0      Major\n",
              "8      0.0      minor\n",
              "9      0.0      Major"
            ],
            "text/html": [
              "\n",
              "  <div id=\"df-ad85b651-477d-4af7-bd7c-905ddecac046\">\n",
              "    <div class=\"colab-df-container\">\n",
              "      <div>\n",
              "<style scoped>\n",
              "    .dataframe tbody tr th:only-of-type {\n",
              "        vertical-align: middle;\n",
              "    }\n",
              "\n",
              "    .dataframe tbody tr th {\n",
              "        vertical-align: top;\n",
              "    }\n",
              "\n",
              "    .dataframe thead th {\n",
              "        text-align: right;\n",
              "    }\n",
              "</style>\n",
              "<table border=\"1\" class=\"dataframe\">\n",
              "  <thead>\n",
              "    <tr style=\"text-align: right;\">\n",
              "      <th></th>\n",
              "      <th>pitches</th>\n",
              "      <th>majorMinor</th>\n",
              "    </tr>\n",
              "  </thead>\n",
              "  <tbody>\n",
              "    <tr>\n",
              "      <th>0</th>\n",
              "      <td>0.0</td>\n",
              "      <td>Major</td>\n",
              "    </tr>\n",
              "    <tr>\n",
              "      <th>1</th>\n",
              "      <td>0.0</td>\n",
              "      <td>minor</td>\n",
              "    </tr>\n",
              "    <tr>\n",
              "      <th>2</th>\n",
              "      <td>0.0</td>\n",
              "      <td>Major</td>\n",
              "    </tr>\n",
              "    <tr>\n",
              "      <th>3</th>\n",
              "      <td>0.0</td>\n",
              "      <td>minor</td>\n",
              "    </tr>\n",
              "    <tr>\n",
              "      <th>4</th>\n",
              "      <td>0.0</td>\n",
              "      <td>Major</td>\n",
              "    </tr>\n",
              "    <tr>\n",
              "      <th>5</th>\n",
              "      <td>0.0</td>\n",
              "      <td>Major</td>\n",
              "    </tr>\n",
              "    <tr>\n",
              "      <th>6</th>\n",
              "      <td>0.0</td>\n",
              "      <td>minor</td>\n",
              "    </tr>\n",
              "    <tr>\n",
              "      <th>7</th>\n",
              "      <td>0.0</td>\n",
              "      <td>Major</td>\n",
              "    </tr>\n",
              "    <tr>\n",
              "      <th>8</th>\n",
              "      <td>0.0</td>\n",
              "      <td>minor</td>\n",
              "    </tr>\n",
              "    <tr>\n",
              "      <th>9</th>\n",
              "      <td>0.0</td>\n",
              "      <td>Major</td>\n",
              "    </tr>\n",
              "  </tbody>\n",
              "</table>\n",
              "</div>\n",
              "      <button class=\"colab-df-convert\" onclick=\"convertToInteractive('df-ad85b651-477d-4af7-bd7c-905ddecac046')\"\n",
              "              title=\"Convert this dataframe to an interactive table.\"\n",
              "              style=\"display:none;\">\n",
              "        \n",
              "  <svg xmlns=\"http://www.w3.org/2000/svg\" height=\"24px\"viewBox=\"0 0 24 24\"\n",
              "       width=\"24px\">\n",
              "    <path d=\"M0 0h24v24H0V0z\" fill=\"none\"/>\n",
              "    <path d=\"M18.56 5.44l.94 2.06.94-2.06 2.06-.94-2.06-.94-.94-2.06-.94 2.06-2.06.94zm-11 1L8.5 8.5l.94-2.06 2.06-.94-2.06-.94L8.5 2.5l-.94 2.06-2.06.94zm10 10l.94 2.06.94-2.06 2.06-.94-2.06-.94-.94-2.06-.94 2.06-2.06.94z\"/><path d=\"M17.41 7.96l-1.37-1.37c-.4-.4-.92-.59-1.43-.59-.52 0-1.04.2-1.43.59L10.3 9.45l-7.72 7.72c-.78.78-.78 2.05 0 2.83L4 21.41c.39.39.9.59 1.41.59.51 0 1.02-.2 1.41-.59l7.78-7.78 2.81-2.81c.8-.78.8-2.07 0-2.86zM5.41 20L4 18.59l7.72-7.72 1.47 1.35L5.41 20z\"/>\n",
              "  </svg>\n",
              "      </button>\n",
              "      \n",
              "  <style>\n",
              "    .colab-df-container {\n",
              "      display:flex;\n",
              "      flex-wrap:wrap;\n",
              "      gap: 12px;\n",
              "    }\n",
              "\n",
              "    .colab-df-convert {\n",
              "      background-color: #E8F0FE;\n",
              "      border: none;\n",
              "      border-radius: 50%;\n",
              "      cursor: pointer;\n",
              "      display: none;\n",
              "      fill: #1967D2;\n",
              "      height: 32px;\n",
              "      padding: 0 0 0 0;\n",
              "      width: 32px;\n",
              "    }\n",
              "\n",
              "    .colab-df-convert:hover {\n",
              "      background-color: #E2EBFA;\n",
              "      box-shadow: 0px 1px 2px rgba(60, 64, 67, 0.3), 0px 1px 3px 1px rgba(60, 64, 67, 0.15);\n",
              "      fill: #174EA6;\n",
              "    }\n",
              "\n",
              "    [theme=dark] .colab-df-convert {\n",
              "      background-color: #3B4455;\n",
              "      fill: #D2E3FC;\n",
              "    }\n",
              "\n",
              "    [theme=dark] .colab-df-convert:hover {\n",
              "      background-color: #434B5C;\n",
              "      box-shadow: 0px 1px 3px 1px rgba(0, 0, 0, 0.15);\n",
              "      filter: drop-shadow(0px 1px 2px rgba(0, 0, 0, 0.3));\n",
              "      fill: #FFFFFF;\n",
              "    }\n",
              "  </style>\n",
              "\n",
              "      <script>\n",
              "        const buttonEl =\n",
              "          document.querySelector('#df-ad85b651-477d-4af7-bd7c-905ddecac046 button.colab-df-convert');\n",
              "        buttonEl.style.display =\n",
              "          google.colab.kernel.accessAllowed ? 'block' : 'none';\n",
              "\n",
              "        async function convertToInteractive(key) {\n",
              "          const element = document.querySelector('#df-ad85b651-477d-4af7-bd7c-905ddecac046');\n",
              "          const dataTable =\n",
              "            await google.colab.kernel.invokeFunction('convertToInteractive',\n",
              "                                                     [key], {});\n",
              "          if (!dataTable) return;\n",
              "\n",
              "          const docLinkHtml = 'Like what you see? Visit the ' +\n",
              "            '<a target=\"_blank\" href=https://colab.research.google.com/notebooks/data_table.ipynb>data table notebook</a>'\n",
              "            + ' to learn more about interactive tables.';\n",
              "          element.innerHTML = '';\n",
              "          dataTable['output_type'] = 'display_data';\n",
              "          await google.colab.output.renderOutput(dataTable, element);\n",
              "          const docLink = document.createElement('div');\n",
              "          docLink.innerHTML = docLinkHtml;\n",
              "          element.appendChild(docLink);\n",
              "        }\n",
              "      </script>\n",
              "    </div>\n",
              "  </div>\n",
              "  "
            ]
          },
          "metadata": {},
          "execution_count": 107
        }
      ]
    },
    {
      "cell_type": "markdown",
      "source": [
        "En aquest punt tenim el df que volíem per graficar les vegades que s'ha tocat cada tecla."
      ],
      "metadata": {
        "id": "7K67jNxx392q"
      }
    },
    {
      "cell_type": "code",
      "source": [
        "# plot\n",
        "colors = ['red' if word == 'minor' else 'blue' for word in total_df.majorMinor]\n",
        "plt.bar(x=total_df.index, height=total_df.pitches, color=colors, alpha=0.5)"
      ],
      "metadata": {
        "colab": {
          "base_uri": "https://localhost:8080/",
          "height": 282
        },
        "id": "vnMG5L6W4DYP",
        "outputId": "c3988267-6103-49e1-eb2c-9ec1f870f27e"
      },
      "execution_count": 108,
      "outputs": [
        {
          "output_type": "execute_result",
          "data": {
            "text/plain": [
              "<BarContainer object of 128 artists>"
            ]
          },
          "metadata": {},
          "execution_count": 108
        },
        {
          "output_type": "display_data",
          "data": {
            "text/plain": [
              "<Figure size 432x288 with 1 Axes>"
            ],
            "image/png": "[encoded data removed]"
          },
          "metadata": {
            "needs_background": "light"
          }
        }
      ]
    },
    {
      "cell_type": "markdown",
      "source": [
        "Veiem en blau les vegades que es toquen les tecles de l'escala major i en vermell les vegades que es toquen les tecles sostingudes. Veiem que clarament es toquen més vegades les tecles no sostingudes que les sostingudes."
      ],
      "metadata": {
        "id": "rGp_Pj5K4G3V"
      }
    },
    {
      "cell_type": "code",
      "source": [
        "# create emty dataframe\n",
        "total = pd.DataFrame()\n",
        "# for every file in histo folder\n",
        "for path, subdirs, files in os.walk('/content/drive/MyDrive/PEC3_PAC3/data/histo/'):\n",
        "  # check if every file name\n",
        "  for name in files:\n",
        "    # if name does not have \"histo\" in it\n",
        "      if 'histo' not in name:\n",
        "        target_path = '/content/drive/MyDrive/PEC3_PAC3/data/histo/'+name\n",
        "        # load file content\n",
        "        fig = pickle.load(open(target_path,'rb'))\n",
        "        # add content to dataframe\n",
        "        total[name] = fig.tolist()\n",
        "\n",
        "total"
      ],
      "metadata": {
        "colab": {
          "base_uri": "https://localhost:8080/",
          "height": 519
        },
        "id": "n-psNLKGPj9v",
        "outputId": "462d09f8-6a17-4021-d35c-3226a8dbad18"
      },
      "execution_count": 94,
      "outputs": [
        {
          "output_type": "execute_result",
          "data": {
            "text/plain": [
              "          1bb161504426990565d84ccecb828c5b.mid.pickle  \\\n",
              "0   [0.0, 0.0, 0.0, 0.0, 0.0, 0.0, 0.0, 0.0, 0.0, ...   \n",
              "1   [0.0, 0.0, 8.0, 8.0, 0.0, 0.0, 2.0, 13.0, 1.0,...   \n",
              "2   [0.0, 0.0, 0.0, 0.0, 0.0, 0.0, 0.0, 0.0, 0.0, ...   \n",
              "3   [0.0, 4.0, 4.0, 0.0, 0.0, 4.0, 12.0, 1.0, 4.0,...   \n",
              "4   [0.0, 0.0, 0.0, 0.0, 0.0, 0.0, 0.0, 0.0, 0.0, ...   \n",
              "5   [0.0, 4.0, 4.0, 0.0, 0.0, 4.0, 3.0, 8.0, 4.0, ...   \n",
              "6   [0.0, 9.0, 6.0, 16.0, 4.0, 9.0, 4.0, 0.0, 3.0,...   \n",
              "7   [0.0, 0.0, 0.0, 0.0, 0.0, 0.0, 0.0, 0.0, 0.0, ...   \n",
              "8   [0.0, 2.0, 10.0, 0.0, 0.0, 8.0, 13.0, 8.0, 6.0...   \n",
              "9   [0.0, 0.0, 0.0, 0.0, 0.0, 0.0, 0.0, 0.0, 0.0, ...   \n",
              "10  [0.0, 0.0, 1.0, 8.0, 9.0, 0.0, 0.0, 0.0, 0.0, ...   \n",
              "11  [0.0, 0.0, 6.0, 0.0, 0.0, 0.0, 8.0, 1.0, 8.0, ...   \n",
              "\n",
              "          1b68452fdab1d72c285a4167a73dc042.mid.pickle  \\\n",
              "0   [0.0, 0.0, 0.0, 0.0, 0.0, 0.0, 0.0, 0.0, 0.0, ...   \n",
              "1   [0.0, 2.0, 2.0, 2.0, 0.0, 2.0, 10.0, 3.0, 0.0,...   \n",
              "2   [1.0, 8.0, 7.0, 8.0, 8.0, 21.0, 1.0, 1.0, 4.0,...   \n",
              "3   [0.0, 0.0, 0.0, 0.0, 0.0, 0.0, 0.0, 0.0, 1.0, ...   \n",
              "4   [1.0, 3.0, 6.0, 5.0, 5.0, 4.0, 10.0, 27.0, 18....   \n",
              "5   [0.0, 0.0, 0.0, 0.0, 0.0, 0.0, 0.0, 0.0, 0.0, ...   \n",
              "6   [1.0, 8.0, 7.0, 8.0, 7.0, 8.0, 0.0, 1.0, 5.0, ...   \n",
              "7   [0.0, 0.0, 0.0, 0.0, 0.0, 0.0, 0.0, 0.0, 0.0, ...   \n",
              "8   [1.0, 8.0, 7.0, 8.0, 7.0, 0.0, 1.0, 3.0, 4.0, ...   \n",
              "9   [0.0, 1.0, 1.0, 1.0, 0.0, 14.0, 24.0, 0.0, 2.0...   \n",
              "10  [0.0, 0.0, 0.0, 0.0, 0.0, 0.0, 0.0, 0.0, 0.0, ...   \n",
              "11  [1.0, 13.0, 12.0, 19.0, 18.0, 1.0, 9.0, 7.0, 2...   \n",
              "\n",
              "          10288ea8e07b70c17f872fda82b94330.mid.pickle  \\\n",
              "0   [0.0, 2.0, 5.0, 4.0, 4.0, 2.0, 5.0, 4.0, 4.0, ...   \n",
              "1   [0.0, 0.0, 0.0, 0.0, 0.0, 0.0, 0.0, 0.0, 0.0, ...   \n",
              "2   [0.0, 0.0, 0.0, 0.0, 0.0, 0.0, 0.0, 0.0, 0.0, ...   \n",
              "3   [0.0, 8.0, 10.0, 9.0, 11.0, 8.0, 10.0, 9.0, 11...   \n",
              "4   [0.0, 0.0, 0.0, 0.0, 0.0, 0.0, 0.0, 0.0, 0.0, ...   \n",
              "5   [0.0, 0.0, 0.0, 0.0, 0.0, 0.0, 0.0, 0.0, 0.0, ...   \n",
              "6   [0.0, 4.0, 9.0, 7.0, 7.0, 4.0, 9.0, 7.0, 7.0, ...   \n",
              "7   [0.0, 0.0, 0.0, 0.0, 0.0, 0.0, 0.0, 0.0, 0.0, ...   \n",
              "8   [0.0, 0.0, 0.0, 0.0, 0.0, 0.0, 0.0, 0.0, 0.0, ...   \n",
              "9   [0.0, 0.0, 0.0, 0.0, 0.0, 0.0, 0.0, 0.0, 0.0, ...   \n",
              "10  [0.0, 2.0, 3.0, 2.0, 0.0, 2.0, 3.0, 2.0, 0.0, ...   \n",
              "11  [0.0, 0.0, 0.0, 0.0, 0.0, 0.0, 0.0, 0.0, 0.0, ...   \n",
              "\n",
              "          1b9f5f325c2080d345d877f590aa3dbe.mid.pickle  \\\n",
              "0   [0.0, 0.0, 0.0, 0.0, 1.0, 0.0, 1.0, 3.0, 0.0, ...   \n",
              "1   [0.0, 0.0, 0.0, 0.0, 0.0, 0.0, 0.0, 0.0, 0.0, ...   \n",
              "2   [1.0, 3.0, 0.0, 0.0, 2.0, 5.0, 2.0, 0.0, 1.0, ...   \n",
              "3   [0.0, 0.0, 4.0, 0.0, 1.0, 0.0, 12.0, 2.0, 0.0,...   \n",
              "4   [0.0, 0.0, 1.0, 1.0, 0.0, 0.0, 1.0, 0.0, 0.0, ...   \n",
              "5   [1.0, 0.0, 0.0, 5.0, 1.0, 7.0, 0.0, 10.0, 4.0,...   \n",
              "6   [0.0, 0.0, 0.0, 0.0, 0.0, 0.0, 0.0, 0.0, 0.0, ...   \n",
              "7   [1.0, 0.0, 2.0, 0.0, 0.0, 0.0, 3.0, 1.0, 2.0, ...   \n",
              "8   [0.0, 0.0, 0.0, 0.0, 0.0, 0.0, 0.0, 0.0, 0.0, ...   \n",
              "9   [0.0, 0.0, 0.0, 0.0, 0.0, 0.0, 0.0, 5.0, 1.0, ...   \n",
              "10  [0.0, 3.0, 1.0, 0.0, 0.0, 10.0, 2.0, 1.0, 8.0,...   \n",
              "11  [0.0, 0.0, 0.0, 0.0, 0.0, 0.0, 0.0, 0.0, 0.0, ...   \n",
              "\n",
              "          1a0df14db4907570c68297595c5c8cf9.mid.pickle  \\\n",
              "0   [0.0, 0.0, 0.0, 0.0, 0.0, 0.0, 0.0, 0.0, 3.0, ...   \n",
              "1   [0.0, 0.0, 0.0, 0.0, 0.0, 0.0, 3.0, 0.0, 2.0, ...   \n",
              "2   [0.0, 9.0, 10.0, 19.0, 16.0, 14.0, 4.0, 7.0, 3...   \n",
              "3   [0.0, 0.0, 0.0, 0.0, 0.0, 0.0, 0.0, 0.0, 0.0, ...   \n",
              "4   [0.0, 0.0, 0.0, 0.0, 0.0, 0.0, 8.0, 0.0, 8.0, ...   \n",
              "5   [0.0, 0.0, 0.0, 0.0, 0.0, 0.0, 0.0, 0.0, 0.0, ...   \n",
              "6   [0.0, 9.0, 8.0, 9.0, 8.0, 8.0, 1.0, 8.0, 1.0, ...   \n",
              "7   [0.0, 0.0, 0.0, 0.0, 0.0, 0.0, 8.0, 0.0, 8.0, ...   \n",
              "8   [0.0, 0.0, 0.0, 0.0, 0.0, 0.0, 0.0, 0.0, 0.0, ...   \n",
              "9   [0.0, 8.0, 12.0, 17.0, 14.0, 9.0, 14.0, 8.0, 1...   \n",
              "10  [0.0, 0.0, 0.0, 0.0, 0.0, 0.0, 0.0, 0.0, 0.0, ...   \n",
              "11  [0.0, 0.0, 0.0, 0.0, 0.0, 0.0, 0.0, 0.0, 0.0, ...   \n",
              "\n",
              "          1b3d9bd0215ccd616b8d63dfca489298.mid.pickle  \\\n",
              "0   [0.0, 0.0, 0.0, 0.0, 0.0, 0.0, 0.0, 0.0, 0.0, ...   \n",
              "1   [0.0, 1.0, 0.0, 1.0, 0.0, 1.0, 0.0, 2.0, 0.0, ...   \n",
              "2   [4.0, 0.0, 4.0, 0.0, 4.0, 0.0, 4.0, 0.0, 4.0, ...   \n",
              "3   [3.0, 2.0, 3.0, 6.0, 3.0, 2.0, 3.0, 6.0, 4.0, ...   \n",
              "4   [0.0, 0.0, 0.0, 0.0, 0.0, 0.0, 0.0, 0.0, 0.0, ...   \n",
              "5   [0.0, 0.0, 0.0, 0.0, 0.0, 0.0, 0.0, 0.0, 7.0, ...   \n",
              "6   [0.0, 5.0, 0.0, 5.0, 0.0, 5.0, 0.0, 6.0, 6.0, ...   \n",
              "7   [0.0, 0.0, 0.0, 0.0, 0.0, 0.0, 0.0, 0.0, 0.0, ...   \n",
              "8   [0.0, 3.0, 0.0, 3.0, 0.0, 3.0, 0.0, 3.0, 5.0, ...   \n",
              "9   [0.0, 0.0, 0.0, 0.0, 0.0, 0.0, 0.0, 0.0, 0.0, ...   \n",
              "10  [4.0, 1.0, 4.0, 1.0, 4.0, 1.0, 4.0, 2.0, 8.0, ...   \n",
              "11  [4.0, 3.0, 4.0, 3.0, 4.0, 3.0, 4.0, 5.0, 4.0, ...   \n",
              "\n",
              "          1b5c44731913ee9117b58ecc6313fef7.mid.pickle  \\\n",
              "0   [0.0, 0.0, 0.0, 0.0, 0.0, 4.0, 8.0, 10.0, 6.0,...   \n",
              "1   [0.0, 0.0, 0.0, 0.0, 0.0, 0.0, 10.0, 0.0, 5.0,...   \n",
              "2   [0.0, 0.0, 0.0, 0.0, 0.0, 9.0, 8.0, 1.0, 2.0, ...   \n",
              "3   [0.0, 0.0, 0.0, 0.0, 8.0, 9.0, 0.0, 13.0, 15.0...   \n",
              "4   [0.0, 0.0, 0.0, 0.0, 0.0, 1.0, 7.0, 0.0, 0.0, ...   \n",
              "5   [0.0, 0.0, 0.0, 0.0, 6.0, 15.0, 5.0, 12.0, 10....   \n",
              "6   [0.0, 0.0, 0.0, 0.0, 0.0, 4.0, 0.0, 1.0, 0.0, ...   \n",
              "7   [0.0, 0.0, 0.0, 0.0, 0.0, 4.0, 12.0, 15.0, 9.0...   \n",
              "8   [0.0, 0.0, 0.0, 0.0, 4.0, 8.0, 0.0, 10.0, 7.0,...   \n",
              "9   [0.0, 0.0, 0.0, 0.0, 0.0, 0.0, 0.0, 0.0, 0.0, ...   \n",
              "10  [0.0, 0.0, 0.0, 20.0, 24.0, 20.0, 9.0, 8.0, 8....   \n",
              "11  [0.0, 0.0, 0.0, 2.0, 10.0, 0.0, 0.0, 0.0, 8.0,...   \n",
              "\n",
              "          1a438ce2e05aa461f24f5f07dcca24a1.mid.pickle  \\\n",
              "0   [0.0, 0.0, 6.0, 7.0, 6.0, 7.0, 6.0, 7.0, 6.0, ...   \n",
              "1   [0.0, 0.0, 0.0, 0.0, 0.0, 0.0, 0.0, 0.0, 0.0, ...   \n",
              "2   [0.0, 0.0, 3.0, 3.0, 3.0, 4.0, 3.0, 3.0, 3.0, ...   \n",
              "3   [0.0, 0.0, 9.0, 12.0, 8.0, 10.0, 8.0, 13.0, 8....   \n",
              "4   [0.0, 0.0, 0.0, 0.0, 0.0, 0.0, 0.0, 0.0, 0.0, ...   \n",
              "5   [0.0, 0.0, 2.0, 1.0, 5.0, 0.0, 6.0, 3.0, 4.0, ...   \n",
              "6   [0.0, 0.0, 2.0, 2.0, 2.0, 2.0, 0.0, 0.0, 2.0, ...   \n",
              "7   [0.0, 0.0, 15.0, 16.0, 19.0, 13.0, 16.0, 15.0,...   \n",
              "8   [0.0, 0.0, 7.0, 9.0, 10.0, 8.0, 8.0, 8.0, 9.0,...   \n",
              "9   [0.0, 0.0, 0.0, 0.0, 0.0, 0.0, 1.0, 0.0, 0.0, ...   \n",
              "10  [0.0, 0.0, 4.0, 4.0, 8.0, 16.0, 14.0, 4.0, 9.0...   \n",
              "11  [0.0, 0.0, 0.0, 0.0, 0.0, 0.0, 0.0, 0.0, 0.0, ...   \n",
              "\n",
              "          1a9c75a2125eeab7ee574293f3b67762.mid.pickle  \\\n",
              "0   [0.0, 0.0, 0.0, 0.0, 0.0, 2.0, 17.0, 2.0, 0.0,...   \n",
              "1   [0.0, 0.0, 0.0, 0.0, 1.0, 8.0, 1.0, 0.0, 2.0, ...   \n",
              "2   [0.0, 2.0, 12.0, 14.0, 4.0, 0.0, 0.0, 0.0, 2.0...   \n",
              "3   [0.0, 0.0, 0.0, 0.0, 0.0, 0.0, 1.0, 8.0, 0.0, ...   \n",
              "4   [0.0, 0.0, 2.0, 3.0, 13.0, 19.0, 8.0, 1.0, 13....   \n",
              "5   [0.0, 0.0, 0.0, 0.0, 0.0, 0.0, 0.0, 0.0, 0.0, ...   \n",
              "6   [0.0, 3.0, 17.0, 16.0, 2.0, 0.0, 3.0, 24.0, 8....   \n",
              "7   [0.0, 1.0, 2.0, 4.0, 19.0, 9.0, 3.0, 4.0, 19.0...   \n",
              "8   [0.0, 1.0, 0.0, 0.0, 0.0, 2.0, 0.0, 0.0, 2.0, ...   \n",
              "9   [0.0, 2.0, 17.0, 1.0, 3.0, 17.0, 22.0, 10.0, 4...   \n",
              "10  [0.0, 0.0, 0.0, 0.0, 0.0, 0.0, 0.0, 0.0, 0.0, ...   \n",
              "11  [0.0, 0.0, 1.0, 14.0, 14.0, 2.0, 4.0, 16.0, 11...   \n",
              "\n",
              "          5dd29e99ed7bd3cc0c5177a6e9de22ea.mid.pickle  ...  \\\n",
              "0   [0.0, 1.0, 3.0, 3.0, 5.0, 10.0, 3.0, 3.0, 5.0,...  ...   \n",
              "1   [0.0, 0.0, 0.0, 0.0, 0.0, 0.0, 0.0, 0.0, 0.0, ...  ...   \n",
              "2   [0.0, 0.0, 0.0, 3.0, 0.0, 10.0, 0.0, 3.0, 0.0,...  ...   \n",
              "3   [0.0, 0.0, 0.0, 0.0, 0.0, 0.0, 0.0, 0.0, 0.0, ...  ...   \n",
              "4   [0.0, 1.0, 1.0, 2.0, 2.0, 4.0, 1.0, 2.0, 2.0, ...  ...   \n",
              "5   [0.0, 0.0, 1.0, 0.0, 1.0, 0.0, 1.0, 0.0, 1.0, ...  ...   \n",
              "6   [0.0, 0.0, 0.0, 0.0, 0.0, 0.0, 0.0, 0.0, 0.0, ...  ...   \n",
              "7   [0.0, 0.0, 0.0, 4.0, 0.0, 7.0, 0.0, 4.0, 0.0, ...  ...   \n",
              "8   [0.0, 0.0, 0.0, 0.0, 0.0, 0.0, 0.0, 0.0, 0.0, ...  ...   \n",
              "9   [0.0, 6.0, 3.0, 0.0, 3.0, 6.0, 3.0, 0.0, 3.0, ...  ...   \n",
              "10  [0.0, 0.0, 0.0, 0.0, 0.0, 0.0, 0.0, 0.0, 0.0, ...  ...   \n",
              "11  [0.0, 0.0, 0.0, 2.0, 0.0, 3.0, 0.0, 2.0, 0.0, ...  ...   \n",
              "\n",
              "          1b1377e88864ac1d2e598249751392ab.mid.pickle  \\\n",
              "0   [0.0, 5.0, 5.0, 5.0, 0.0, 10.0, 0.0, 0.0, 0.0,...   \n",
              "1   [0.0, 0.0, 0.0, 0.0, 0.0, 0.0, 0.0, 0.0, 0.0, ...   \n",
              "2   [0.0, 5.0, 5.0, 5.0, 8.0, 8.0, 1.0, 8.0, 12.0,...   \n",
              "3   [0.0, 0.0, 0.0, 0.0, 0.0, 0.0, 4.0, 0.0, 0.0, ...   \n",
              "4   [0.0, 8.0, 8.0, 8.0, 10.0, 8.0, 4.0, 1.0, 15.0...   \n",
              "5   [0.0, 0.0, 0.0, 0.0, 0.0, 0.0, 0.0, 0.0, 0.0, ...   \n",
              "6   [0.0, 0.0, 0.0, 0.0, 0.0, 1.0, 9.0, 8.0, 0.0, ...   \n",
              "7   [0.0, 10.0, 10.0, 10.0, 10.0, 8.0, 0.0, 1.0, 1...   \n",
              "8   [0.0, 0.0, 0.0, 0.0, 0.0, 0.0, 0.0, 0.0, 0.0, ...   \n",
              "9   [0.0, 0.0, 0.0, 0.0, 0.0, 0.0, 0.0, 8.0, 1.0, ...   \n",
              "10  [0.0, 0.0, 0.0, 0.0, 0.0, 0.0, 0.0, 0.0, 0.0, ...   \n",
              "11  [0.0, 0.0, 0.0, 0.0, 0.0, 2.0, 16.0, 10.0, 12....   \n",
              "\n",
              "          1a65205f15224a7e5c689176a44c2e32.mid.pickle  \\\n",
              "0   [0.0, 0.0, 0.0, 0.0, 2.0, 9.0, 0.0, 1.0, 2.0, ...   \n",
              "1   [0.0, 0.0, 0.0, 0.0, 0.0, 0.0, 0.0, 0.0, 0.0, ...   \n",
              "2   [0.0, 2.0, 11.0, 12.0, 12.0, 0.0, 11.0, 13.0, ...   \n",
              "3   [0.0, 0.0, 1.0, 0.0, 0.0, 0.0, 1.0, 0.0, 0.0, ...   \n",
              "4   [0.0, 0.0, 0.0, 0.0, 0.0, 0.0, 0.0, 0.0, 0.0, ...   \n",
              "5   [0.0, 2.0, 2.0, 13.0, 9.0, 9.0, 3.0, 13.0, 9.0...   \n",
              "6   [0.0, 0.0, 0.0, 0.0, 0.0, 0.0, 0.0, 0.0, 0.0, ...   \n",
              "7   [0.0, 2.0, 12.0, 2.0, 0.0, 0.0, 11.0, 0.0, 0.0...   \n",
              "8   [0.0, 0.0, 0.0, 0.0, 0.0, 0.0, 0.0, 0.0, 0.0, ...   \n",
              "9   [0.0, 0.0, 0.0, 0.0, 8.0, 8.0, 0.0, 0.0, 8.0, ...   \n",
              "10  [0.0, 0.0, 8.0, 8.0, 0.0, 0.0, 8.0, 11.0, 0.0,...   \n",
              "11  [0.0, 0.0, 0.0, 0.0, 0.0, 0.0, 0.0, 0.0, 0.0, ...   \n",
              "\n",
              "          1ae49af2dc6cdb068d749b464f330441.mid.pickle  \\\n",
              "0   [0.0, 0.0, 0.0, 0.0, 0.0, 0.0, 0.0, 0.0, 0.0, ...   \n",
              "1   [0.0, 0.0, 0.0, 0.0, 3.0, 2.0, 2.0, 2.0, 3.0, ...   \n",
              "2   [0.0, 0.0, 0.0, 0.0, 0.0, 0.0, 0.0, 2.0, 0.0, ...   \n",
              "3   [0.0, 0.0, 5.0, 2.0, 2.0, 3.0, 1.0, 0.0, 0.0, ...   \n",
              "4   [0.0, 0.0, 7.0, 7.0, 6.0, 6.0, 6.0, 14.0, 4.0,...   \n",
              "5   [0.0, 0.0, 0.0, 0.0, 0.0, 0.0, 0.0, 0.0, 0.0, ...   \n",
              "6   [0.0, 0.0, 4.0, 2.0, 0.0, 4.0, 2.0, 1.0, 9.0, ...   \n",
              "7   [0.0, 0.0, 0.0, 0.0, 0.0, 0.0, 0.0, 0.0, 0.0, ...   \n",
              "8   [0.0, 0.0, 2.0, 8.0, 3.0, 2.0, 4.0, 3.0, 1.0, ...   \n",
              "9   [0.0, 0.0, 2.0, 2.0, 3.0, 3.0, 2.0, 7.0, 4.0, ...   \n",
              "10  [0.0, 0.0, 0.0, 0.0, 0.0, 0.0, 0.0, 0.0, 1.0, ...   \n",
              "11  [0.0, 2.0, 13.0, 14.0, 13.0, 13.0, 12.0, 1.0, ...   \n",
              "\n",
              "          b97c529ab9ef783a849b896816001748.mid.pickle  \\\n",
              "0   [0.0, 0.0, 0.0, 0.0, 0.0, 9.0, 1.0, 9.0, 0.0, ...   \n",
              "1   [0.0, 0.0, 0.0, 0.0, 0.0, 0.0, 0.0, 0.0, 0.0, ...   \n",
              "2   [0.0, 0.0, 0.0, 0.0, 0.0, 3.0, 15.0, 2.0, 15.0...   \n",
              "3   [0.0, 0.0, 0.0, 0.0, 0.0, 0.0, 0.0, 0.0, 0.0, ...   \n",
              "4   [0.0, 1.0, 0.0, 1.0, 0.0, 5.0, 1.0, 5.0, 0.0, ...   \n",
              "5   [0.0, 5.0, 1.0, 5.0, 1.0, 15.0, 5.0, 15.0, 5.0...   \n",
              "6   [0.0, 0.0, 0.0, 0.0, 0.0, 0.0, 0.0, 0.0, 0.0, ...   \n",
              "7   [0.0, 0.0, 5.0, 0.0, 5.0, 0.0, 15.0, 0.0, 16.0...   \n",
              "8   [0.0, 0.0, 0.0, 0.0, 0.0, 0.0, 0.0, 0.0, 0.0, ...   \n",
              "9   [0.0, 0.0, 0.0, 0.0, 0.0, 14.0, 6.0, 14.0, 5.0...   \n",
              "10  [0.0, 0.0, 0.0, 0.0, 0.0, 0.0, 0.0, 0.0, 0.0, ...   \n",
              "11  [0.0, 0.0, 0.0, 0.0, 0.0, 0.0, 5.0, 0.0, 5.0, ...   \n",
              "\n",
              "          1b6451e48019f8560c88443c8f7a22ba.mid.pickle  \\\n",
              "0   [0.0, 0.0, 0.0, 0.0, 0.0, 1.0, 7.0, 3.0, 0.0, ...   \n",
              "1   [0.0, 4.0, 4.0, 0.0, 0.0, 0.0, 4.0, 2.0, 0.0, ...   \n",
              "2   [0.0, 0.0, 0.0, 0.0, 0.0, 0.0, 0.0, 0.0, 0.0, ...   \n",
              "3   [0.0, 2.0, 1.0, 0.0, 1.0, 5.0, 1.0, 7.0, 1.0, ...   \n",
              "4   [0.0, 0.0, 0.0, 0.0, 0.0, 0.0, 0.0, 0.0, 0.0, ...   \n",
              "5   [1.0, 1.0, 2.0, 5.0, 2.0, 2.0, 2.0, 9.0, 3.0, ...   \n",
              "6   [0.0, 0.0, 0.0, 0.0, 4.0, 4.0, 4.0, 4.0, 0.0, ...   \n",
              "7   [0.0, 4.0, 0.0, 0.0, 4.0, 0.0, 4.0, 0.0, 0.0, ...   \n",
              "8   [3.0, 4.0, 2.0, 6.0, 9.0, 3.0, 1.0, 0.0, 1.0, ...   \n",
              "9   [0.0, 0.0, 0.0, 0.0, 0.0, 0.0, 0.0, 4.0, 0.0, ...   \n",
              "10  [5.0, 4.0, 5.0, 4.0, 7.0, 2.0, 6.0, 7.0, 11.0,...   \n",
              "11  [0.0, 0.0, 0.0, 0.0, 0.0, 0.0, 0.0, 0.0, 0.0, ...   \n",
              "\n",
              "          1a1f147ae0d79631303f398d1ce59a9c.mid.pickle  \\\n",
              "0   [0.0, 0.0, 0.0, 0.0, 0.0, 0.0, 0.0, 0.0, 0.0, ...   \n",
              "1   [0.0, 0.0, 0.0, 0.0, 8.0, 3.0, 0.0, 4.0, 6.0, ...   \n",
              "2   [4.0, 15.0, 13.0, 6.0, 0.0, 7.0, 22.0, 16.0, 1...   \n",
              "3   [0.0, 0.0, 0.0, 0.0, 0.0, 0.0, 0.0, 0.0, 0.0, ...   \n",
              "4   [0.0, 1.0, 0.0, 0.0, 5.0, 4.0, 1.0, 0.0, 1.0, ...   \n",
              "5   [0.0, 4.0, 4.0, 0.0, 0.0, 2.0, 1.0, 2.0, 3.0, ...   \n",
              "6   [0.0, 0.0, 0.0, 0.0, 0.0, 0.0, 0.0, 0.0, 0.0, ...   \n",
              "7   [0.0, 3.0, 11.0, 16.0, 2.0, 2.0, 0.0, 0.0, 0.0...   \n",
              "8   [0.0, 0.0, 0.0, 0.0, 0.0, 0.0, 0.0, 0.0, 0.0, ...   \n",
              "9   [2.0, 6.0, 2.0, 5.0, 15.0, 12.0, 5.0, 6.0, 4.0...   \n",
              "10  [0.0, 0.0, 2.0, 6.0, 3.0, 0.0, 0.0, 0.0, 0.0, ...   \n",
              "11  [0.0, 0.0, 0.0, 0.0, 0.0, 2.0, 0.0, 0.0, 0.0, ...   \n",
              "\n",
              "          1b21aa92341858ada59f72acd3d87a94.mid.pickle  \\\n",
              "0   [0.0, 0.0, 0.0, 0.0, 0.0, 0.0, 0.0, 1.0, 8.0, ...   \n",
              "1   [0.0, 0.0, 2.0, 16.0, 16.0, 16.0, 0.0, 0.0, 0....   \n",
              "2   [0.0, 0.0, 0.0, 0.0, 0.0, 1.0, 8.0, 8.0, 2.0, ...   \n",
              "3   [0.0, 0.0, 0.0, 16.0, 16.0, 16.0, 0.0, 0.0, 1....   \n",
              "4   [0.0, 0.0, 0.0, 0.0, 0.0, 0.0, 10.0, 12.0, 13....   \n",
              "5   [0.0, 0.0, 0.0, 0.0, 0.0, 0.0, 0.0, 0.0, 0.0, ...   \n",
              "6   [0.0, 0.0, 2.0, 16.0, 16.0, 16.0, 0.0, 0.0, 0....   \n",
              "7   [0.0, 0.0, 0.0, 0.0, 0.0, 1.0, 8.0, 16.0, 9.0,...   \n",
              "8   [0.0, 0.0, 2.0, 16.0, 16.0, 16.0, 0.0, 0.0, 0....   \n",
              "9   [0.0, 0.0, 0.0, 0.0, 0.0, 0.0, 2.0, 4.0, 8.0, ...   \n",
              "10  [0.0, 0.0, 0.0, 0.0, 0.0, 0.0, 1.0, 0.0, 0.0, ...   \n",
              "11  [0.0, 0.0, 1.0, 8.0, 8.0, 9.0, 10.0, 8.0, 0.0,...   \n",
              "\n",
              "          1a95fbfafa2fcc5dec74406001126ad0.mid.pickle  \\\n",
              "0   [0.0, 0.0, 4.0, 5.0, 3.0, 10.0, 2.0, 1.0, 0.0,...   \n",
              "1   [0.0, 0.0, 0.0, 0.0, 0.0, 0.0, 0.0, 0.0, 3.0, ...   \n",
              "2   [0.0, 0.0, 2.0, 2.0, 2.0, 19.0, 6.0, 6.0, 0.0,...   \n",
              "3   [0.0, 0.0, 0.0, 0.0, 1.0, 6.0, 0.0, 0.0, 0.0, ...   \n",
              "4   [0.0, 0.0, 4.0, 3.0, 3.0, 2.0, 0.0, 0.0, 3.0, ...   \n",
              "5   [0.0, 0.0, 13.0, 14.0, 13.0, 0.0, 0.0, 0.0, 0....   \n",
              "6   [0.0, 0.0, 0.0, 0.0, 0.0, 7.0, 0.0, 1.0, 14.0,...   \n",
              "7   [0.0, 2.0, 11.0, 12.0, 8.0, 2.0, 21.0, 20.0, 0...   \n",
              "8   [0.0, 0.0, 0.0, 0.0, 0.0, 0.0, 0.0, 0.0, 0.0, ...   \n",
              "9   [0.0, 1.0, 6.0, 3.0, 4.0, 4.0, 1.0, 2.0, 9.0, ...   \n",
              "10  [0.0, 0.0, 0.0, 0.0, 0.0, 0.0, 0.0, 1.0, 0.0, ...   \n",
              "11  [0.0, 1.0, 1.0, 3.0, 1.0, 0.0, 8.0, 6.0, 4.0, ...   \n",
              "\n",
              "          05f21994c71a5f881e64f45c8d706165.mid.pickle  \\\n",
              "0   [0.0, 0.0, 2.0, 5.0, 4.0, 4.0, 2.0, 5.0, 4.0, ...   \n",
              "1   [0.0, 0.0, 0.0, 0.0, 0.0, 0.0, 0.0, 0.0, 0.0, ...   \n",
              "2   [0.0, 0.0, 0.0, 0.0, 0.0, 0.0, 0.0, 0.0, 0.0, ...   \n",
              "3   [0.0, 0.0, 8.0, 12.0, 9.0, 11.0, 8.0, 12.0, 9....   \n",
              "4   [0.0, 0.0, 0.0, 0.0, 0.0, 0.0, 0.0, 0.0, 0.0, ...   \n",
              "5   [0.0, 0.0, 0.0, 0.0, 0.0, 0.0, 0.0, 0.0, 0.0, ...   \n",
              "6   [0.0, 0.0, 4.0, 9.0, 7.0, 7.0, 4.0, 9.0, 7.0, ...   \n",
              "7   [0.0, 0.0, 0.0, 0.0, 0.0, 0.0, 0.0, 0.0, 0.0, ...   \n",
              "8   [0.0, 0.0, 0.0, 0.0, 0.0, 0.0, 0.0, 0.0, 0.0, ...   \n",
              "9   [0.0, 0.0, 0.0, 0.0, 0.0, 0.0, 0.0, 0.0, 0.0, ...   \n",
              "10  [0.0, 0.0, 2.0, 3.0, 2.0, 0.0, 2.0, 3.0, 2.0, ...   \n",
              "11  [0.0, 0.0, 0.0, 0.0, 0.0, 0.0, 0.0, 0.0, 0.0, ...   \n",
              "\n",
              "          ddb6a3db65461dca1a43de72f5375d8b.mid.pickle  \n",
              "0   [0.0, 2.0, 5.0, 4.0, 4.0, 2.0, 5.0, 4.0, 4.0, ...  \n",
              "1   [0.0, 0.0, 0.0, 0.0, 0.0, 0.0, 0.0, 0.0, 0.0, ...  \n",
              "2   [0.0, 0.0, 0.0, 0.0, 0.0, 0.0, 0.0, 0.0, 0.0, ...  \n",
              "3   [0.0, 8.0, 10.0, 9.0, 11.0, 8.0, 10.0, 9.0, 11...  \n",
              "4   [0.0, 0.0, 0.0, 0.0, 0.0, 0.0, 0.0, 0.0, 0.0, ...  \n",
              "5   [0.0, 0.0, 0.0, 0.0, 0.0, 0.0, 0.0, 0.0, 0.0, ...  \n",
              "6   [0.0, 4.0, 9.0, 7.0, 7.0, 4.0, 9.0, 7.0, 7.0, ...  \n",
              "7   [0.0, 0.0, 0.0, 0.0, 0.0, 0.0, 0.0, 0.0, 0.0, ...  \n",
              "8   [0.0, 0.0, 0.0, 0.0, 0.0, 0.0, 0.0, 0.0, 0.0, ...  \n",
              "9   [0.0, 0.0, 0.0, 0.0, 0.0, 0.0, 0.0, 0.0, 0.0, ...  \n",
              "10  [0.0, 2.0, 3.0, 2.0, 0.0, 2.0, 3.0, 2.0, 0.0, ...  \n",
              "11  [0.0, 0.0, 0.0, 0.0, 0.0, 0.0, 0.0, 0.0, 0.0, ...  \n",
              "\n",
              "[12 rows x 50 columns]"
            ],
            "text/html": [
              "\n",
              "  <div id=\"df-81d0644e-010d-4d8e-83af-afb078caab10\">\n",
              "    <div class=\"colab-df-container\">\n",
              "      <div>\n",
              "<style scoped>\n",
              "    .dataframe tbody tr th:only-of-type {\n",
              "        vertical-align: middle;\n",
              "    }\n",
              "\n",
              "    .dataframe tbody tr th {\n",
              "        vertical-align: top;\n",
              "    }\n",
              "\n",
              "    .dataframe thead th {\n",
              "        text-align: right;\n",
              "    }\n",
              "</style>\n",
              "<table border=\"1\" class=\"dataframe\">\n",
              "  <thead>\n",
              "    <tr style=\"text-align: right;\">\n",
              "      <th></th>\n",
              "      <th>1bb161504426990565d84ccecb828c5b.mid.pickle</th>\n",
              "      <th>1b68452fdab1d72c285a4167a73dc042.mid.pickle</th>\n",
              "      <th>10288ea8e07b70c17f872fda82b94330.mid.pickle</th>\n",
              "      <th>1b9f5f325c2080d345d877f590aa3dbe.mid.pickle</th>\n",
              "      <th>1a0df14db4907570c68297595c5c8cf9.mid.pickle</th>\n",
              "      <th>1b3d9bd0215ccd616b8d63dfca489298.mid.pickle</th>\n",
              "      <th>1b5c44731913ee9117b58ecc6313fef7.mid.pickle</th>\n",
              "      <th>1a438ce2e05aa461f24f5f07dcca24a1.mid.pickle</th>\n",
              "      <th>1a9c75a2125eeab7ee574293f3b67762.mid.pickle</th>\n",
              "      <th>5dd29e99ed7bd3cc0c5177a6e9de22ea.mid.pickle</th>\n",
              "      <th>...</th>\n",
              "      <th>1b1377e88864ac1d2e598249751392ab.mid.pickle</th>\n",
              "      <th>1a65205f15224a7e5c689176a44c2e32.mid.pickle</th>\n",
              "      <th>1ae49af2dc6cdb068d749b464f330441.mid.pickle</th>\n",
              "      <th>b97c529ab9ef783a849b896816001748.mid.pickle</th>\n",
              "      <th>1b6451e48019f8560c88443c8f7a22ba.mid.pickle</th>\n",
              "      <th>1a1f147ae0d79631303f398d1ce59a9c.mid.pickle</th>\n",
              "      <th>1b21aa92341858ada59f72acd3d87a94.mid.pickle</th>\n",
              "      <th>1a95fbfafa2fcc5dec74406001126ad0.mid.pickle</th>\n",
              "      <th>05f21994c71a5f881e64f45c8d706165.mid.pickle</th>\n",
              "      <th>ddb6a3db65461dca1a43de72f5375d8b.mid.pickle</th>\n",
              "    </tr>\n",
              "  </thead>\n",
              "  <tbody>\n",
              "    <tr>\n",
              "      <th>0</th>\n",
              "      <td>[0.0, 0.0, 0.0, 0.0, 0.0, 0.0, 0.0, 0.0, 0.0, ...</td>\n",
              "      <td>[0.0, 0.0, 0.0, 0.0, 0.0, 0.0, 0.0, 0.0, 0.0, ...</td>\n",
              "      <td>[0.0, 2.0, 5.0, 4.0, 4.0, 2.0, 5.0, 4.0, 4.0, ...</td>\n",
              "      <td>[0.0, 0.0, 0.0, 0.0, 1.0, 0.0, 1.0, 3.0, 0.0, ...</td>\n",
              "      <td>[0.0, 0.0, 0.0, 0.0, 0.0, 0.0, 0.0, 0.0, 3.0, ...</td>\n",
              "      <td>[0.0, 0.0, 0.0, 0.0, 0.0, 0.0, 0.0, 0.0, 0.0, ...</td>\n",
              "      <td>[0.0, 0.0, 0.0, 0.0, 0.0, 4.0, 8.0, 10.0, 6.0,...</td>\n",
              "      <td>[0.0, 0.0, 6.0, 7.0, 6.0, 7.0, 6.0, 7.0, 6.0, ...</td>\n",
              "      <td>[0.0, 0.0, 0.0, 0.0, 0.0, 2.0, 17.0, 2.0, 0.0,...</td>\n",
              "      <td>[0.0, 1.0, 3.0, 3.0, 5.0, 10.0, 3.0, 3.0, 5.0,...</td>\n",
              "      <td>...</td>\n",
              "      <td>[0.0, 5.0, 5.0, 5.0, 0.0, 10.0, 0.0, 0.0, 0.0,...</td>\n",
              "      <td>[0.0, 0.0, 0.0, 0.0, 2.0, 9.0, 0.0, 1.0, 2.0, ...</td>\n",
              "      <td>[0.0, 0.0, 0.0, 0.0, 0.0, 0.0, 0.0, 0.0, 0.0, ...</td>\n",
              "      <td>[0.0, 0.0, 0.0, 0.0, 0.0, 9.0, 1.0, 9.0, 0.0, ...</td>\n",
              "      <td>[0.0, 0.0, 0.0, 0.0, 0.0, 1.0, 7.0, 3.0, 0.0, ...</td>\n",
              "      <td>[0.0, 0.0, 0.0, 0.0, 0.0, 0.0, 0.0, 0.0, 0.0, ...</td>\n",
              "      <td>[0.0, 0.0, 0.0, 0.0, 0.0, 0.0, 0.0, 1.0, 8.0, ...</td>\n",
              "      <td>[0.0, 0.0, 4.0, 5.0, 3.0, 10.0, 2.0, 1.0, 0.0,...</td>\n",
              "      <td>[0.0, 0.0, 2.0, 5.0, 4.0, 4.0, 2.0, 5.0, 4.0, ...</td>\n",
              "      <td>[0.0, 2.0, 5.0, 4.0, 4.0, 2.0, 5.0, 4.0, 4.0, ...</td>\n",
              "    </tr>\n",
              "    <tr>\n",
              "      <th>1</th>\n",
              "      <td>[0.0, 0.0, 8.0, 8.0, 0.0, 0.0, 2.0, 13.0, 1.0,...</td>\n",
              "      <td>[0.0, 2.0, 2.0, 2.0, 0.0, 2.0, 10.0, 3.0, 0.0,...</td>\n",
              "      <td>[0.0, 0.0, 0.0, 0.0, 0.0, 0.0, 0.0, 0.0, 0.0, ...</td>\n",
              "      <td>[0.0, 0.0, 0.0, 0.0, 0.0, 0.0, 0.0, 0.0, 0.0, ...</td>\n",
              "      <td>[0.0, 0.0, 0.0, 0.0, 0.0, 0.0, 3.0, 0.0, 2.0, ...</td>\n",
              "      <td>[0.0, 1.0, 0.0, 1.0, 0.0, 1.0, 0.0, 2.0, 0.0, ...</td>\n",
              "      <td>[0.0, 0.0, 0.0, 0.0, 0.0, 0.0, 10.0, 0.0, 5.0,...</td>\n",
              "      <td>[0.0, 0.0, 0.0, 0.0, 0.0, 0.0, 0.0, 0.0, 0.0, ...</td>\n",
              "      <td>[0.0, 0.0, 0.0, 0.0, 1.0, 8.0, 1.0, 0.0, 2.0, ...</td>\n",
              "      <td>[0.0, 0.0, 0.0, 0.0, 0.0, 0.0, 0.0, 0.0, 0.0, ...</td>\n",
              "      <td>...</td>\n",
              "      <td>[0.0, 0.0, 0.0, 0.0, 0.0, 0.0, 0.0, 0.0, 0.0, ...</td>\n",
              "      <td>[0.0, 0.0, 0.0, 0.0, 0.0, 0.0, 0.0, 0.0, 0.0, ...</td>\n",
              "      <td>[0.0, 0.0, 0.0, 0.0, 3.0, 2.0, 2.0, 2.0, 3.0, ...</td>\n",
              "      <td>[0.0, 0.0, 0.0, 0.0, 0.0, 0.0, 0.0, 0.0, 0.0, ...</td>\n",
              "      <td>[0.0, 4.0, 4.0, 0.0, 0.0, 0.0, 4.0, 2.0, 0.0, ...</td>\n",
              "      <td>[0.0, 0.0, 0.0, 0.0, 8.0, 3.0, 0.0, 4.0, 6.0, ...</td>\n",
              "      <td>[0.0, 0.0, 2.0, 16.0, 16.0, 16.0, 0.0, 0.0, 0....</td>\n",
              "      <td>[0.0, 0.0, 0.0, 0.0, 0.0, 0.0, 0.0, 0.0, 3.0, ...</td>\n",
              "      <td>[0.0, 0.0, 0.0, 0.0, 0.0, 0.0, 0.0, 0.0, 0.0, ...</td>\n",
              "      <td>[0.0, 0.0, 0.0, 0.0, 0.0, 0.0, 0.0, 0.0, 0.0, ...</td>\n",
              "    </tr>\n",
              "    <tr>\n",
              "      <th>2</th>\n",
              "      <td>[0.0, 0.0, 0.0, 0.0, 0.0, 0.0, 0.0, 0.0, 0.0, ...</td>\n",
              "      <td>[1.0, 8.0, 7.0, 8.0, 8.0, 21.0, 1.0, 1.0, 4.0,...</td>\n",
              "      <td>[0.0, 0.0, 0.0, 0.0, 0.0, 0.0, 0.0, 0.0, 0.0, ...</td>\n",
              "      <td>[1.0, 3.0, 0.0, 0.0, 2.0, 5.0, 2.0, 0.0, 1.0, ...</td>\n",
              "      <td>[0.0, 9.0, 10.0, 19.0, 16.0, 14.0, 4.0, 7.0, 3...</td>\n",
              "      <td>[4.0, 0.0, 4.0, 0.0, 4.0, 0.0, 4.0, 0.0, 4.0, ...</td>\n",
              "      <td>[0.0, 0.0, 0.0, 0.0, 0.0, 9.0, 8.0, 1.0, 2.0, ...</td>\n",
              "      <td>[0.0, 0.0, 3.0, 3.0, 3.0, 4.0, 3.0, 3.0, 3.0, ...</td>\n",
              "      <td>[0.0, 2.0, 12.0, 14.0, 4.0, 0.0, 0.0, 0.0, 2.0...</td>\n",
              "      <td>[0.0, 0.0, 0.0, 3.0, 0.0, 10.0, 0.0, 3.0, 0.0,...</td>\n",
              "      <td>...</td>\n",
              "      <td>[0.0, 5.0, 5.0, 5.0, 8.0, 8.0, 1.0, 8.0, 12.0,...</td>\n",
              "      <td>[0.0, 2.0, 11.0, 12.0, 12.0, 0.0, 11.0, 13.0, ...</td>\n",
              "      <td>[0.0, 0.0, 0.0, 0.0, 0.0, 0.0, 0.0, 2.0, 0.0, ...</td>\n",
              "      <td>[0.0, 0.0, 0.0, 0.0, 0.0, 3.0, 15.0, 2.0, 15.0...</td>\n",
              "      <td>[0.0, 0.0, 0.0, 0.0, 0.0, 0.0, 0.0, 0.0, 0.0, ...</td>\n",
              "      <td>[4.0, 15.0, 13.0, 6.0, 0.0, 7.0, 22.0, 16.0, 1...</td>\n",
              "      <td>[0.0, 0.0, 0.0, 0.0, 0.0, 1.0, 8.0, 8.0, 2.0, ...</td>\n",
              "      <td>[0.0, 0.0, 2.0, 2.0, 2.0, 19.0, 6.0, 6.0, 0.0,...</td>\n",
              "      <td>[0.0, 0.0, 0.0, 0.0, 0.0, 0.0, 0.0, 0.0, 0.0, ...</td>\n",
              "      <td>[0.0, 0.0, 0.0, 0.0, 0.0, 0.0, 0.0, 0.0, 0.0, ...</td>\n",
              "    </tr>\n",
              "    <tr>\n",
              "      <th>3</th>\n",
              "      <td>[0.0, 4.0, 4.0, 0.0, 0.0, 4.0, 12.0, 1.0, 4.0,...</td>\n",
              "      <td>[0.0, 0.0, 0.0, 0.0, 0.0, 0.0, 0.0, 0.0, 1.0, ...</td>\n",
              "      <td>[0.0, 8.0, 10.0, 9.0, 11.0, 8.0, 10.0, 9.0, 11...</td>\n",
              "      <td>[0.0, 0.0, 4.0, 0.0, 1.0, 0.0, 12.0, 2.0, 0.0,...</td>\n",
              "      <td>[0.0, 0.0, 0.0, 0.0, 0.0, 0.0, 0.0, 0.0, 0.0, ...</td>\n",
              "      <td>[3.0, 2.0, 3.0, 6.0, 3.0, 2.0, 3.0, 6.0, 4.0, ...</td>\n",
              "      <td>[0.0, 0.0, 0.0, 0.0, 8.0, 9.0, 0.0, 13.0, 15.0...</td>\n",
              "      <td>[0.0, 0.0, 9.0, 12.0, 8.0, 10.0, 8.0, 13.0, 8....</td>\n",
              "      <td>[0.0, 0.0, 0.0, 0.0, 0.0, 0.0, 1.0, 8.0, 0.0, ...</td>\n",
              "      <td>[0.0, 0.0, 0.0, 0.0, 0.0, 0.0, 0.0, 0.0, 0.0, ...</td>\n",
              "      <td>...</td>\n",
              "      <td>[0.0, 0.0, 0.0, 0.0, 0.0, 0.0, 4.0, 0.0, 0.0, ...</td>\n",
              "      <td>[0.0, 0.0, 1.0, 0.0, 0.0, 0.0, 1.0, 0.0, 0.0, ...</td>\n",
              "      <td>[0.0, 0.0, 5.0, 2.0, 2.0, 3.0, 1.0, 0.0, 0.0, ...</td>\n",
              "      <td>[0.0, 0.0, 0.0, 0.0, 0.0, 0.0, 0.0, 0.0, 0.0, ...</td>\n",
              "      <td>[0.0, 2.0, 1.0, 0.0, 1.0, 5.0, 1.0, 7.0, 1.0, ...</td>\n",
              "      <td>[0.0, 0.0, 0.0, 0.0, 0.0, 0.0, 0.0, 0.0, 0.0, ...</td>\n",
              "      <td>[0.0, 0.0, 0.0, 16.0, 16.0, 16.0, 0.0, 0.0, 1....</td>\n",
              "      <td>[0.0, 0.0, 0.0, 0.0, 1.0, 6.0, 0.0, 0.0, 0.0, ...</td>\n",
              "      <td>[0.0, 0.0, 8.0, 12.0, 9.0, 11.0, 8.0, 12.0, 9....</td>\n",
              "      <td>[0.0, 8.0, 10.0, 9.0, 11.0, 8.0, 10.0, 9.0, 11...</td>\n",
              "    </tr>\n",
              "    <tr>\n",
              "      <th>4</th>\n",
              "      <td>[0.0, 0.0, 0.0, 0.0, 0.0, 0.0, 0.0, 0.0, 0.0, ...</td>\n",
              "      <td>[1.0, 3.0, 6.0, 5.0, 5.0, 4.0, 10.0, 27.0, 18....</td>\n",
              "      <td>[0.0, 0.0, 0.0, 0.0, 0.0, 0.0, 0.0, 0.0, 0.0, ...</td>\n",
              "      <td>[0.0, 0.0, 1.0, 1.0, 0.0, 0.0, 1.0, 0.0, 0.0, ...</td>\n",
              "      <td>[0.0, 0.0, 0.0, 0.0, 0.0, 0.0, 8.0, 0.0, 8.0, ...</td>\n",
              "      <td>[0.0, 0.0, 0.0, 0.0, 0.0, 0.0, 0.0, 0.0, 0.0, ...</td>\n",
              "      <td>[0.0, 0.0, 0.0, 0.0, 0.0, 1.0, 7.0, 0.0, 0.0, ...</td>\n",
              "      <td>[0.0, 0.0, 0.0, 0.0, 0.0, 0.0, 0.0, 0.0, 0.0, ...</td>\n",
              "      <td>[0.0, 0.0, 2.0, 3.0, 13.0, 19.0, 8.0, 1.0, 13....</td>\n",
              "      <td>[0.0, 1.0, 1.0, 2.0, 2.0, 4.0, 1.0, 2.0, 2.0, ...</td>\n",
              "      <td>...</td>\n",
              "      <td>[0.0, 8.0, 8.0, 8.0, 10.0, 8.0, 4.0, 1.0, 15.0...</td>\n",
              "      <td>[0.0, 0.0, 0.0, 0.0, 0.0, 0.0, 0.0, 0.0, 0.0, ...</td>\n",
              "      <td>[0.0, 0.0, 7.0, 7.0, 6.0, 6.0, 6.0, 14.0, 4.0,...</td>\n",
              "      <td>[0.0, 1.0, 0.0, 1.0, 0.0, 5.0, 1.0, 5.0, 0.0, ...</td>\n",
              "      <td>[0.0, 0.0, 0.0, 0.0, 0.0, 0.0, 0.0, 0.0, 0.0, ...</td>\n",
              "      <td>[0.0, 1.0, 0.0, 0.0, 5.0, 4.0, 1.0, 0.0, 1.0, ...</td>\n",
              "      <td>[0.0, 0.0, 0.0, 0.0, 0.0, 0.0, 10.0, 12.0, 13....</td>\n",
              "      <td>[0.0, 0.0, 4.0, 3.0, 3.0, 2.0, 0.0, 0.0, 3.0, ...</td>\n",
              "      <td>[0.0, 0.0, 0.0, 0.0, 0.0, 0.0, 0.0, 0.0, 0.0, ...</td>\n",
              "      <td>[0.0, 0.0, 0.0, 0.0, 0.0, 0.0, 0.0, 0.0, 0.0, ...</td>\n",
              "    </tr>\n",
              "    <tr>\n",
              "      <th>5</th>\n",
              "      <td>[0.0, 4.0, 4.0, 0.0, 0.0, 4.0, 3.0, 8.0, 4.0, ...</td>\n",
              "      <td>[0.0, 0.0, 0.0, 0.0, 0.0, 0.0, 0.0, 0.0, 0.0, ...</td>\n",
              "      <td>[0.0, 0.0, 0.0, 0.0, 0.0, 0.0, 0.0, 0.0, 0.0, ...</td>\n",
              "      <td>[1.0, 0.0, 0.0, 5.0, 1.0, 7.0, 0.0, 10.0, 4.0,...</td>\n",
              "      <td>[0.0, 0.0, 0.0, 0.0, 0.0, 0.0, 0.0, 0.0, 0.0, ...</td>\n",
              "      <td>[0.0, 0.0, 0.0, 0.0, 0.0, 0.0, 0.0, 0.0, 7.0, ...</td>\n",
              "      <td>[0.0, 0.0, 0.0, 0.0, 6.0, 15.0, 5.0, 12.0, 10....</td>\n",
              "      <td>[0.0, 0.0, 2.0, 1.0, 5.0, 0.0, 6.0, 3.0, 4.0, ...</td>\n",
              "      <td>[0.0, 0.0, 0.0, 0.0, 0.0, 0.0, 0.0, 0.0, 0.0, ...</td>\n",
              "      <td>[0.0, 0.0, 1.0, 0.0, 1.0, 0.0, 1.0, 0.0, 1.0, ...</td>\n",
              "      <td>...</td>\n",
              "      <td>[0.0, 0.0, 0.0, 0.0, 0.0, 0.0, 0.0, 0.0, 0.0, ...</td>\n",
              "      <td>[0.0, 2.0, 2.0, 13.0, 9.0, 9.0, 3.0, 13.0, 9.0...</td>\n",
              "      <td>[0.0, 0.0, 0.0, 0.0, 0.0, 0.0, 0.0, 0.0, 0.0, ...</td>\n",
              "      <td>[0.0, 5.0, 1.0, 5.0, 1.0, 15.0, 5.0, 15.0, 5.0...</td>\n",
              "      <td>[1.0, 1.0, 2.0, 5.0, 2.0, 2.0, 2.0, 9.0, 3.0, ...</td>\n",
              "      <td>[0.0, 4.0, 4.0, 0.0, 0.0, 2.0, 1.0, 2.0, 3.0, ...</td>\n",
              "      <td>[0.0, 0.0, 0.0, 0.0, 0.0, 0.0, 0.0, 0.0, 0.0, ...</td>\n",
              "      <td>[0.0, 0.0, 13.0, 14.0, 13.0, 0.0, 0.0, 0.0, 0....</td>\n",
              "      <td>[0.0, 0.0, 0.0, 0.0, 0.0, 0.0, 0.0, 0.0, 0.0, ...</td>\n",
              "      <td>[0.0, 0.0, 0.0, 0.0, 0.0, 0.0, 0.0, 0.0, 0.0, ...</td>\n",
              "    </tr>\n",
              "    <tr>\n",
              "      <th>6</th>\n",
              "      <td>[0.0, 9.0, 6.0, 16.0, 4.0, 9.0, 4.0, 0.0, 3.0,...</td>\n",
              "      <td>[1.0, 8.0, 7.0, 8.0, 7.0, 8.0, 0.0, 1.0, 5.0, ...</td>\n",
              "      <td>[0.0, 4.0, 9.0, 7.0, 7.0, 4.0, 9.0, 7.0, 7.0, ...</td>\n",
              "      <td>[0.0, 0.0, 0.0, 0.0, 0.0, 0.0, 0.0, 0.0, 0.0, ...</td>\n",
              "      <td>[0.0, 9.0, 8.0, 9.0, 8.0, 8.0, 1.0, 8.0, 1.0, ...</td>\n",
              "      <td>[0.0, 5.0, 0.0, 5.0, 0.0, 5.0, 0.0, 6.0, 6.0, ...</td>\n",
              "      <td>[0.0, 0.0, 0.0, 0.0, 0.0, 4.0, 0.0, 1.0, 0.0, ...</td>\n",
              "      <td>[0.0, 0.0, 2.0, 2.0, 2.0, 2.0, 0.0, 0.0, 2.0, ...</td>\n",
              "      <td>[0.0, 3.0, 17.0, 16.0, 2.0, 0.0, 3.0, 24.0, 8....</td>\n",
              "      <td>[0.0, 0.0, 0.0, 0.0, 0.0, 0.0, 0.0, 0.0, 0.0, ...</td>\n",
              "      <td>...</td>\n",
              "      <td>[0.0, 0.0, 0.0, 0.0, 0.0, 1.0, 9.0, 8.0, 0.0, ...</td>\n",
              "      <td>[0.0, 0.0, 0.0, 0.0, 0.0, 0.0, 0.0, 0.0, 0.0, ...</td>\n",
              "      <td>[0.0, 0.0, 4.0, 2.0, 0.0, 4.0, 2.0, 1.0, 9.0, ...</td>\n",
              "      <td>[0.0, 0.0, 0.0, 0.0, 0.0, 0.0, 0.0, 0.0, 0.0, ...</td>\n",
              "      <td>[0.0, 0.0, 0.0, 0.0, 4.0, 4.0, 4.0, 4.0, 0.0, ...</td>\n",
              "      <td>[0.0, 0.0, 0.0, 0.0, 0.0, 0.0, 0.0, 0.0, 0.0, ...</td>\n",
              "      <td>[0.0, 0.0, 2.0, 16.0, 16.0, 16.0, 0.0, 0.0, 0....</td>\n",
              "      <td>[0.0, 0.0, 0.0, 0.0, 0.0, 7.0, 0.0, 1.0, 14.0,...</td>\n",
              "      <td>[0.0, 0.0, 4.0, 9.0, 7.0, 7.0, 4.0, 9.0, 7.0, ...</td>\n",
              "      <td>[0.0, 4.0, 9.0, 7.0, 7.0, 4.0, 9.0, 7.0, 7.0, ...</td>\n",
              "    </tr>\n",
              "    <tr>\n",
              "      <th>7</th>\n",
              "      <td>[0.0, 0.0, 0.0, 0.0, 0.0, 0.0, 0.0, 0.0, 0.0, ...</td>\n",
              "      <td>[0.0, 0.0, 0.0, 0.0, 0.0, 0.0, 0.0, 0.0, 0.0, ...</td>\n",
              "      <td>[0.0, 0.0, 0.0, 0.0, 0.0, 0.0, 0.0, 0.0, 0.0, ...</td>\n",
              "      <td>[1.0, 0.0, 2.0, 0.0, 0.0, 0.0, 3.0, 1.0, 2.0, ...</td>\n",
              "      <td>[0.0, 0.0, 0.0, 0.0, 0.0, 0.0, 8.0, 0.0, 8.0, ...</td>\n",
              "      <td>[0.0, 0.0, 0.0, 0.0, 0.0, 0.0, 0.0, 0.0, 0.0, ...</td>\n",
              "      <td>[0.0, 0.0, 0.0, 0.0, 0.0, 4.0, 12.0, 15.0, 9.0...</td>\n",
              "      <td>[0.0, 0.0, 15.0, 16.0, 19.0, 13.0, 16.0, 15.0,...</td>\n",
              "      <td>[0.0, 1.0, 2.0, 4.0, 19.0, 9.0, 3.0, 4.0, 19.0...</td>\n",
              "      <td>[0.0, 0.0, 0.0, 4.0, 0.0, 7.0, 0.0, 4.0, 0.0, ...</td>\n",
              "      <td>...</td>\n",
              "      <td>[0.0, 10.0, 10.0, 10.0, 10.0, 8.0, 0.0, 1.0, 1...</td>\n",
              "      <td>[0.0, 2.0, 12.0, 2.0, 0.0, 0.0, 11.0, 0.0, 0.0...</td>\n",
              "      <td>[0.0, 0.0, 0.0, 0.0, 0.0, 0.0, 0.0, 0.0, 0.0, ...</td>\n",
              "      <td>[0.0, 0.0, 5.0, 0.0, 5.0, 0.0, 15.0, 0.0, 16.0...</td>\n",
              "      <td>[0.0, 4.0, 0.0, 0.0, 4.0, 0.0, 4.0, 0.0, 0.0, ...</td>\n",
              "      <td>[0.0, 3.0, 11.0, 16.0, 2.0, 2.0, 0.0, 0.0, 0.0...</td>\n",
              "      <td>[0.0, 0.0, 0.0, 0.0, 0.0, 1.0, 8.0, 16.0, 9.0,...</td>\n",
              "      <td>[0.0, 2.0, 11.0, 12.0, 8.0, 2.0, 21.0, 20.0, 0...</td>\n",
              "      <td>[0.0, 0.0, 0.0, 0.0, 0.0, 0.0, 0.0, 0.0, 0.0, ...</td>\n",
              "      <td>[0.0, 0.0, 0.0, 0.0, 0.0, 0.0, 0.0, 0.0, 0.0, ...</td>\n",
              "    </tr>\n",
              "    <tr>\n",
              "      <th>8</th>\n",
              "      <td>[0.0, 2.0, 10.0, 0.0, 0.0, 8.0, 13.0, 8.0, 6.0...</td>\n",
              "      <td>[1.0, 8.0, 7.0, 8.0, 7.0, 0.0, 1.0, 3.0, 4.0, ...</td>\n",
              "      <td>[0.0, 0.0, 0.0, 0.0, 0.0, 0.0, 0.0, 0.0, 0.0, ...</td>\n",
              "      <td>[0.0, 0.0, 0.0, 0.0, 0.0, 0.0, 0.0, 0.0, 0.0, ...</td>\n",
              "      <td>[0.0, 0.0, 0.0, 0.0, 0.0, 0.0, 0.0, 0.0, 0.0, ...</td>\n",
              "      <td>[0.0, 3.0, 0.0, 3.0, 0.0, 3.0, 0.0, 3.0, 5.0, ...</td>\n",
              "      <td>[0.0, 0.0, 0.0, 0.0, 4.0, 8.0, 0.0, 10.0, 7.0,...</td>\n",
              "      <td>[0.0, 0.0, 7.0, 9.0, 10.0, 8.0, 8.0, 8.0, 9.0,...</td>\n",
              "      <td>[0.0, 1.0, 0.0, 0.0, 0.0, 2.0, 0.0, 0.0, 2.0, ...</td>\n",
              "      <td>[0.0, 0.0, 0.0, 0.0, 0.0, 0.0, 0.0, 0.0, 0.0, ...</td>\n",
              "      <td>...</td>\n",
              "      <td>[0.0, 0.0, 0.0, 0.0, 0.0, 0.0, 0.0, 0.0, 0.0, ...</td>\n",
              "      <td>[0.0, 0.0, 0.0, 0.0, 0.0, 0.0, 0.0, 0.0, 0.0, ...</td>\n",
              "      <td>[0.0, 0.0, 2.0, 8.0, 3.0, 2.0, 4.0, 3.0, 1.0, ...</td>\n",
              "      <td>[0.0, 0.0, 0.0, 0.0, 0.0, 0.0, 0.0, 0.0, 0.0, ...</td>\n",
              "      <td>[3.0, 4.0, 2.0, 6.0, 9.0, 3.0, 1.0, 0.0, 1.0, ...</td>\n",
              "      <td>[0.0, 0.0, 0.0, 0.0, 0.0, 0.0, 0.0, 0.0, 0.0, ...</td>\n",
              "      <td>[0.0, 0.0, 2.0, 16.0, 16.0, 16.0, 0.0, 0.0, 0....</td>\n",
              "      <td>[0.0, 0.0, 0.0, 0.0, 0.0, 0.0, 0.0, 0.0, 0.0, ...</td>\n",
              "      <td>[0.0, 0.0, 0.0, 0.0, 0.0, 0.0, 0.0, 0.0, 0.0, ...</td>\n",
              "      <td>[0.0, 0.0, 0.0, 0.0, 0.0, 0.0, 0.0, 0.0, 0.0, ...</td>\n",
              "    </tr>\n",
              "    <tr>\n",
              "      <th>9</th>\n",
              "      <td>[0.0, 0.0, 0.0, 0.0, 0.0, 0.0, 0.0, 0.0, 0.0, ...</td>\n",
              "      <td>[0.0, 1.0, 1.0, 1.0, 0.0, 14.0, 24.0, 0.0, 2.0...</td>\n",
              "      <td>[0.0, 0.0, 0.0, 0.0, 0.0, 0.0, 0.0, 0.0, 0.0, ...</td>\n",
              "      <td>[0.0, 0.0, 0.0, 0.0, 0.0, 0.0, 0.0, 5.0, 1.0, ...</td>\n",
              "      <td>[0.0, 8.0, 12.0, 17.0, 14.0, 9.0, 14.0, 8.0, 1...</td>\n",
              "      <td>[0.0, 0.0, 0.0, 0.0, 0.0, 0.0, 0.0, 0.0, 0.0, ...</td>\n",
              "      <td>[0.0, 0.0, 0.0, 0.0, 0.0, 0.0, 0.0, 0.0, 0.0, ...</td>\n",
              "      <td>[0.0, 0.0, 0.0, 0.0, 0.0, 0.0, 1.0, 0.0, 0.0, ...</td>\n",
              "      <td>[0.0, 2.0, 17.0, 1.0, 3.0, 17.0, 22.0, 10.0, 4...</td>\n",
              "      <td>[0.0, 6.0, 3.0, 0.0, 3.0, 6.0, 3.0, 0.0, 3.0, ...</td>\n",
              "      <td>...</td>\n",
              "      <td>[0.0, 0.0, 0.0, 0.0, 0.0, 0.0, 0.0, 8.0, 1.0, ...</td>\n",
              "      <td>[0.0, 0.0, 0.0, 0.0, 8.0, 8.0, 0.0, 0.0, 8.0, ...</td>\n",
              "      <td>[0.0, 0.0, 2.0, 2.0, 3.0, 3.0, 2.0, 7.0, 4.0, ...</td>\n",
              "      <td>[0.0, 0.0, 0.0, 0.0, 0.0, 14.0, 6.0, 14.0, 5.0...</td>\n",
              "      <td>[0.0, 0.0, 0.0, 0.0, 0.0, 0.0, 0.0, 4.0, 0.0, ...</td>\n",
              "      <td>[2.0, 6.0, 2.0, 5.0, 15.0, 12.0, 5.0, 6.0, 4.0...</td>\n",
              "      <td>[0.0, 0.0, 0.0, 0.0, 0.0, 0.0, 2.0, 4.0, 8.0, ...</td>\n",
              "      <td>[0.0, 1.0, 6.0, 3.0, 4.0, 4.0, 1.0, 2.0, 9.0, ...</td>\n",
              "      <td>[0.0, 0.0, 0.0, 0.0, 0.0, 0.0, 0.0, 0.0, 0.0, ...</td>\n",
              "      <td>[0.0, 0.0, 0.0, 0.0, 0.0, 0.0, 0.0, 0.0, 0.0, ...</td>\n",
              "    </tr>\n",
              "    <tr>\n",
              "      <th>10</th>\n",
              "      <td>[0.0, 0.0, 1.0, 8.0, 9.0, 0.0, 0.0, 0.0, 0.0, ...</td>\n",
              "      <td>[0.0, 0.0, 0.0, 0.0, 0.0, 0.0, 0.0, 0.0, 0.0, ...</td>\n",
              "      <td>[0.0, 2.0, 3.0, 2.0, 0.0, 2.0, 3.0, 2.0, 0.0, ...</td>\n",
              "      <td>[0.0, 3.0, 1.0, 0.0, 0.0, 10.0, 2.0, 1.0, 8.0,...</td>\n",
              "      <td>[0.0, 0.0, 0.0, 0.0, 0.0, 0.0, 0.0, 0.0, 0.0, ...</td>\n",
              "      <td>[4.0, 1.0, 4.0, 1.0, 4.0, 1.0, 4.0, 2.0, 8.0, ...</td>\n",
              "      <td>[0.0, 0.0, 0.0, 20.0, 24.0, 20.0, 9.0, 8.0, 8....</td>\n",
              "      <td>[0.0, 0.0, 4.0, 4.0, 8.0, 16.0, 14.0, 4.0, 9.0...</td>\n",
              "      <td>[0.0, 0.0, 0.0, 0.0, 0.0, 0.0, 0.0, 0.0, 0.0, ...</td>\n",
              "      <td>[0.0, 0.0, 0.0, 0.0, 0.0, 0.0, 0.0, 0.0, 0.0, ...</td>\n",
              "      <td>...</td>\n",
              "      <td>[0.0, 0.0, 0.0, 0.0, 0.0, 0.0, 0.0, 0.0, 0.0, ...</td>\n",
              "      <td>[0.0, 0.0, 8.0, 8.0, 0.0, 0.0, 8.0, 11.0, 0.0,...</td>\n",
              "      <td>[0.0, 0.0, 0.0, 0.0, 0.0, 0.0, 0.0, 0.0, 1.0, ...</td>\n",
              "      <td>[0.0, 0.0, 0.0, 0.0, 0.0, 0.0, 0.0, 0.0, 0.0, ...</td>\n",
              "      <td>[5.0, 4.0, 5.0, 4.0, 7.0, 2.0, 6.0, 7.0, 11.0,...</td>\n",
              "      <td>[0.0, 0.0, 2.0, 6.0, 3.0, 0.0, 0.0, 0.0, 0.0, ...</td>\n",
              "      <td>[0.0, 0.0, 0.0, 0.0, 0.0, 0.0, 1.0, 0.0, 0.0, ...</td>\n",
              "      <td>[0.0, 0.0, 0.0, 0.0, 0.0, 0.0, 0.0, 1.0, 0.0, ...</td>\n",
              "      <td>[0.0, 0.0, 2.0, 3.0, 2.0, 0.0, 2.0, 3.0, 2.0, ...</td>\n",
              "      <td>[0.0, 2.0, 3.0, 2.0, 0.0, 2.0, 3.0, 2.0, 0.0, ...</td>\n",
              "    </tr>\n",
              "    <tr>\n",
              "      <th>11</th>\n",
              "      <td>[0.0, 0.0, 6.0, 0.0, 0.0, 0.0, 8.0, 1.0, 8.0, ...</td>\n",
              "      <td>[1.0, 13.0, 12.0, 19.0, 18.0, 1.0, 9.0, 7.0, 2...</td>\n",
              "      <td>[0.0, 0.0, 0.0, 0.0, 0.0, 0.0, 0.0, 0.0, 0.0, ...</td>\n",
              "      <td>[0.0, 0.0, 0.0, 0.0, 0.0, 0.0, 0.0, 0.0, 0.0, ...</td>\n",
              "      <td>[0.0, 0.0, 0.0, 0.0, 0.0, 0.0, 0.0, 0.0, 0.0, ...</td>\n",
              "      <td>[4.0, 3.0, 4.0, 3.0, 4.0, 3.0, 4.0, 5.0, 4.0, ...</td>\n",
              "      <td>[0.0, 0.0, 0.0, 2.0, 10.0, 0.0, 0.0, 0.0, 8.0,...</td>\n",
              "      <td>[0.0, 0.0, 0.0, 0.0, 0.0, 0.0, 0.0, 0.0, 0.0, ...</td>\n",
              "      <td>[0.0, 0.0, 1.0, 14.0, 14.0, 2.0, 4.0, 16.0, 11...</td>\n",
              "      <td>[0.0, 0.0, 0.0, 2.0, 0.0, 3.0, 0.0, 2.0, 0.0, ...</td>\n",
              "      <td>...</td>\n",
              "      <td>[0.0, 0.0, 0.0, 0.0, 0.0, 2.0, 16.0, 10.0, 12....</td>\n",
              "      <td>[0.0, 0.0, 0.0, 0.0, 0.0, 0.0, 0.0, 0.0, 0.0, ...</td>\n",
              "      <td>[0.0, 2.0, 13.0, 14.0, 13.0, 13.0, 12.0, 1.0, ...</td>\n",
              "      <td>[0.0, 0.0, 0.0, 0.0, 0.0, 0.0, 5.0, 0.0, 5.0, ...</td>\n",
              "      <td>[0.0, 0.0, 0.0, 0.0, 0.0, 0.0, 0.0, 0.0, 0.0, ...</td>\n",
              "      <td>[0.0, 0.0, 0.0, 0.0, 0.0, 2.0, 0.0, 0.0, 0.0, ...</td>\n",
              "      <td>[0.0, 0.0, 1.0, 8.0, 8.0, 9.0, 10.0, 8.0, 0.0,...</td>\n",
              "      <td>[0.0, 1.0, 1.0, 3.0, 1.0, 0.0, 8.0, 6.0, 4.0, ...</td>\n",
              "      <td>[0.0, 0.0, 0.0, 0.0, 0.0, 0.0, 0.0, 0.0, 0.0, ...</td>\n",
              "      <td>[0.0, 0.0, 0.0, 0.0, 0.0, 0.0, 0.0, 0.0, 0.0, ...</td>\n",
              "    </tr>\n",
              "  </tbody>\n",
              "</table>\n",
              "<p>12 rows × 50 columns</p>\n",
              "</div>\n",
              "      <button class=\"colab-df-convert\" onclick=\"convertToInteractive('df-81d0644e-010d-4d8e-83af-afb078caab10')\"\n",
              "              title=\"Convert this dataframe to an interactive table.\"\n",
              "              style=\"display:none;\">\n",
              "        \n",
              "  <svg xmlns=\"http://www.w3.org/2000/svg\" height=\"24px\"viewBox=\"0 0 24 24\"\n",
              "       width=\"24px\">\n",
              "    <path d=\"M0 0h24v24H0V0z\" fill=\"none\"/>\n",
              "    <path d=\"M18.56 5.44l.94 2.06.94-2.06 2.06-.94-2.06-.94-.94-2.06-.94 2.06-2.06.94zm-11 1L8.5 8.5l.94-2.06 2.06-.94-2.06-.94L8.5 2.5l-.94 2.06-2.06.94zm10 10l.94 2.06.94-2.06 2.06-.94-2.06-.94-.94-2.06-.94 2.06-2.06.94z\"/><path d=\"M17.41 7.96l-1.37-1.37c-.4-.4-.92-.59-1.43-.59-.52 0-1.04.2-1.43.59L10.3 9.45l-7.72 7.72c-.78.78-.78 2.05 0 2.83L4 21.41c.39.39.9.59 1.41.59.51 0 1.02-.2 1.41-.59l7.78-7.78 2.81-2.81c.8-.78.8-2.07 0-2.86zM5.41 20L4 18.59l7.72-7.72 1.47 1.35L5.41 20z\"/>\n",
              "  </svg>\n",
              "      </button>\n",
              "      \n",
              "  <style>\n",
              "    .colab-df-container {\n",
              "      display:flex;\n",
              "      flex-wrap:wrap;\n",
              "      gap: 12px;\n",
              "    }\n",
              "\n",
              "    .colab-df-convert {\n",
              "      background-color: #E8F0FE;\n",
              "      border: none;\n",
              "      border-radius: 50%;\n",
              "      cursor: pointer;\n",
              "      display: none;\n",
              "      fill: #1967D2;\n",
              "      height: 32px;\n",
              "      padding: 0 0 0 0;\n",
              "      width: 32px;\n",
              "    }\n",
              "\n",
              "    .colab-df-convert:hover {\n",
              "      background-color: #E2EBFA;\n",
              "      box-shadow: 0px 1px 2px rgba(60, 64, 67, 0.3), 0px 1px 3px 1px rgba(60, 64, 67, 0.15);\n",
              "      fill: #174EA6;\n",
              "    }\n",
              "\n",
              "    [theme=dark] .colab-df-convert {\n",
              "      background-color: #3B4455;\n",
              "      fill: #D2E3FC;\n",
              "    }\n",
              "\n",
              "    [theme=dark] .colab-df-convert:hover {\n",
              "      background-color: #434B5C;\n",
              "      box-shadow: 0px 1px 3px 1px rgba(0, 0, 0, 0.15);\n",
              "      filter: drop-shadow(0px 1px 2px rgba(0, 0, 0, 0.3));\n",
              "      fill: #FFFFFF;\n",
              "    }\n",
              "  </style>\n",
              "\n",
              "      <script>\n",
              "        const buttonEl =\n",
              "          document.querySelector('#df-81d0644e-010d-4d8e-83af-afb078caab10 button.colab-df-convert');\n",
              "        buttonEl.style.display =\n",
              "          google.colab.kernel.accessAllowed ? 'block' : 'none';\n",
              "\n",
              "        async function convertToInteractive(key) {\n",
              "          const element = document.querySelector('#df-81d0644e-010d-4d8e-83af-afb078caab10');\n",
              "          const dataTable =\n",
              "            await google.colab.kernel.invokeFunction('convertToInteractive',\n",
              "                                                     [key], {});\n",
              "          if (!dataTable) return;\n",
              "\n",
              "          const docLinkHtml = 'Like what you see? Visit the ' +\n",
              "            '<a target=\"_blank\" href=https://colab.research.google.com/notebooks/data_table.ipynb>data table notebook</a>'\n",
              "            + ' to learn more about interactive tables.';\n",
              "          element.innerHTML = '';\n",
              "          dataTable['output_type'] = 'display_data';\n",
              "          await google.colab.output.renderOutput(dataTable, element);\n",
              "          const docLink = document.createElement('div');\n",
              "          docLink.innerHTML = docLinkHtml;\n",
              "          element.appendChild(docLink);\n",
              "        }\n",
              "      </script>\n",
              "    </div>\n",
              "  </div>\n",
              "  "
            ]
          },
          "metadata": {},
          "execution_count": 94
        }
      ]
    },
    {
      "cell_type": "markdown",
      "source": [
        "En aquest punt per cadascuna de les 12 notes tenim una llista per acord i cançó de les vegades que apareix (sense tenir en compte de quina octava és)"
      ],
      "metadata": {
        "id": "FLmcezIs6AR_"
      }
    },
    {
      "cell_type": "code",
      "source": [
        "# transpose dataframe\n",
        "total = total.T\n",
        "# rename columns\n",
        "total.columns = notas_en_una_octava\n",
        "# summ all values vor each note\n",
        "total = total.sum()\n",
        "total.head(10)"
      ],
      "metadata": {
        "colab": {
          "base_uri": "https://localhost:8080/"
        },
        "id": "FtEnwHl96MN8",
        "outputId": "26ac444c-98bc-4486-ac4d-ca70ab99e83d"
      },
      "execution_count": 95,
      "outputs": [
        {
          "output_type": "execute_result",
          "data": {
            "text/plain": [
              "C     [0.0, 0.0, 0.0, 0.0, 0.0, 0.0, 0.0, 0.0, 0.0, ...\n",
              "C#    [0.0, 0.0, 8.0, 8.0, 0.0, 0.0, 2.0, 13.0, 1.0,...\n",
              "D     [0.0, 0.0, 0.0, 0.0, 0.0, 0.0, 0.0, 0.0, 0.0, ...\n",
              "D#    [0.0, 4.0, 4.0, 0.0, 0.0, 4.0, 12.0, 1.0, 4.0,...\n",
              "E     [0.0, 0.0, 0.0, 0.0, 0.0, 0.0, 0.0, 0.0, 0.0, ...\n",
              "F     [0.0, 4.0, 4.0, 0.0, 0.0, 4.0, 3.0, 8.0, 4.0, ...\n",
              "F#    [0.0, 9.0, 6.0, 16.0, 4.0, 9.0, 4.0, 0.0, 3.0,...\n",
              "G     [0.0, 0.0, 0.0, 0.0, 0.0, 0.0, 0.0, 0.0, 0.0, ...\n",
              "G#    [0.0, 2.0, 10.0, 0.0, 0.0, 8.0, 13.0, 8.0, 6.0...\n",
              "A     [0.0, 0.0, 0.0, 0.0, 0.0, 0.0, 0.0, 0.0, 0.0, ...\n",
              "dtype: object"
            ]
          },
          "metadata": {},
          "execution_count": 95
        }
      ]
    },
    {
      "cell_type": "markdown",
      "source": [
        "En aquest punt tenim en una sola llista per nota les vegades que s'ha tocat en totes les cançons."
      ],
      "metadata": {
        "id": "XA0T7ynR6com"
      }
    },
    {
      "cell_type": "code",
      "source": [
        "# convert to pandas for convenience\n",
        "total = pd.DataFrame(total)\n",
        "# sum all appearances fo the notes\n",
        "total[0] = [sum(a) for a in total[0]]"
      ],
      "metadata": {
        "id": "T92LJSKH9gld"
      },
      "execution_count": 96,
      "outputs": []
    },
    {
      "cell_type": "code",
      "source": [
        "# plot histogram of note counts for all songs\n",
        "ax = total.plot.bar(rot=0, width=0.9)\n",
        "ax.set_title('Note counts in all songs', fontsize=18)\n",
        "ax.set_ylabel('count', fontsize=16)"
      ],
      "metadata": {
        "colab": {
          "base_uri": "https://localhost:8080/",
          "height": 302
        },
        "id": "TyZW1trp9mT4",
        "outputId": "3b8d6415-8962-4535-8ed7-0a01fa00d3ee"
      },
      "execution_count": 101,
      "outputs": [
        {
          "output_type": "execute_result",
          "data": {
            "text/plain": [
              "Text(0, 0.5, 'count')"
            ]
          },
          "metadata": {},
          "execution_count": 101
        },
        {
          "output_type": "display_data",
          "data": {
            "text/plain": [
              "<Figure size 432x288 with 1 Axes>"
            ],
            "image/png": "[encoded data removed]"
          },
          "metadata": {
            "needs_background": "light"
          }
        }
      ]
    },
    {
      "cell_type": "markdown",
      "source": [
        "1.3.3 Buscar a internet sobre les escales musicals i indicar quina escala és la que més apareix a totes les cançons analitzades. Quines diries que són les notes més importants de l'escala?"
      ],
      "metadata": {
        "id": "RWEqYiSwDNse"
      }
    },
    {
      "cell_type": "markdown",
      "source": [
        "Les escales principals musicals venen definides per les notes utilitzades. A grans trets, podem diferenciar dos tipus d'escales, les que no fan servir bemolls ni sostinguts i les que en fan servir. L'escala major i menor natural contenen les mateixes notes i no en tenen cap de sostinguda. Per tant, les dues contenen C,D,E,F,G,A i B. La resta d'escales en algun moment contenen un sostingut (#). Si observem el darrer histograma de les aparicions de les notes en totes les cançons (sense tenir en compte a quina octava estan), veiem clarament que l'escala major o menor natural són les més utilitzades, ja que les vegades que apareixen les seves notes són molt superiors a qualsevo altra nota sostinguda. Dintre de l'escala major (o la menor natural), observem que la nota més utilitzada és el RE (D), seguida del LA (A), DO (C), SOL(G) i MI(E), i que clarament la nota menys utilitzada de l'escala és el FA (F). De fet, això també és lògic ja que les notes més utilitzades també formen part d'escales menors, mentre que el FA (F) no apareix a gaires escales més (per exemple les pentatòniques menors i majors estan compostes de A, C, D, E, G (no hi ha ni B ni F). No es pot dir pròpiament que s'utilitzen més les escales majors o menors naturals només comptant ús de notes, ja que hi ha notes no sostingudes que apareixen en escales menors. El que sí que podem afirmar és  que les notes no sostingudes són utilitzades més que les sostingudes."
      ],
      "metadata": {
        "id": "MTv_8e5qFTrb"
      }
    },
    {
      "cell_type": "markdown",
      "source": [
        "#2. LSTM per a acords [5 pts]"
      ],
      "metadata": {
        "id": "r4r3sBgKy8bG"
      }
    },
    {
      "cell_type": "markdown",
      "source": [
        "El pas següent a l'article és l'entrenament d'una xarxa LSTM per generar acords. Aquesta part la farem amb un data set més petit i ho compararem amb resultats d'entrenaments previs que us facilitarem. Primer carreguem les llibreries que necessitarem"
      ],
      "metadata": {
        "id": "Z6wMsYrIzPMI"
      }
    },
    {
      "cell_type": "code",
      "source": [
        "from keras.models import Sequential\n",
        "from keras.layers import LSTM\n",
        "from keras.layers import Dense, Activation\n",
        "from keras.layers import Embedding\n",
        "from tensorflow.keras.optimizers import RMSprop, Adam\n",
        "import tensorflow as tf\n",
        "from tensorflow.compat.v1.keras.backend import set_session\n",
        "import keras.utils\n",
        "from keras.utils import np_utils\n",
        "from random import shuffle\n",
        "import progressbar\n",
        "import time"
      ],
      "metadata": {
        "id": "W_WNRwExGMqc"
      },
      "execution_count": 111,
      "outputs": []
    },
    {
      "cell_type": "markdown",
      "source": [
        "## 2.1 Càrrega de dades [0.5 pts]"
      ],
      "metadata": {
        "id": "W5pcyB6d0VIJ"
      }
    },
    {
      "cell_type": "markdown",
      "source": [
        "2.1.1 A la carpeta ***data*** trobareu un fitxer anomenat ***dataset.pkl*** que conté 11338 cançons de train i 3780 de test. Usant *pickle* carregar les dades i després separar 2000 per *train* i 500 cançons per *test* a les variables:\n",
        "* train_set\n",
        "* test_set\n",
        "\n",
        "crea a més *train_set_size* i *test_set_size*"
      ],
      "metadata": {
        "id": "xFE6WSN70S8m"
      }
    },
    {
      "cell_type": "code",
      "source": [
        "# open dataset file and load into data variable\n",
        "with open('/content/drive/MyDrive/PEC3_PAC3/data/dataset.pkl', 'rb') as f:\n",
        "    data = pickle.load(f)\n",
        "\n",
        "# convert data into numpy array\n",
        "df = np.asarray(data)\n",
        "\n",
        "# define train_set_size and test_set_size\n",
        "train_set_size = 2000\n",
        "test_set_size = 500\n",
        "\n",
        "# shuffle de dataset\n",
        "shuffle(df)\n",
        "\n",
        "# extract tran and test set\n",
        "train_set = np.array([np.array(xi) for xi in df[0][:train_set_size]])\n",
        "test_set = np.array([np.array(xi) for xi in df[1][:test_set_size]])"
      ],
      "metadata": {
        "id": "R3i99vF0FY69",
        "colab": {
          "base_uri": "https://localhost:8080/"
        },
        "outputId": "b90461c8-5bf2-454e-b658-a159304fcab2"
      },
      "execution_count": 112,
      "outputs": [
        {
          "output_type": "stream",
          "name": "stderr",
          "text": [
            "/usr/local/lib/python3.7/dist-packages/ipykernel_launcher.py:6: VisibleDeprecationWarning: Creating an ndarray from ragged nested sequences (which is a list-or-tuple of lists-or-tuples-or ndarrays with different lengths or shapes) is deprecated. If you meant to do this, you must specify 'dtype=object' when creating the ndarray.\n",
            "  \n",
            "/usr/local/lib/python3.7/dist-packages/ipykernel_launcher.py:16: VisibleDeprecationWarning: Creating an ndarray from ragged nested sequences (which is a list-or-tuple of lists-or-tuples-or ndarrays with different lengths or shapes) is deprecated. If you meant to do this, you must specify 'dtype=object' when creating the ndarray.\n",
            "  app.launch_new_instance()\n",
            "/usr/local/lib/python3.7/dist-packages/ipykernel_launcher.py:17: VisibleDeprecationWarning: Creating an ndarray from ragged nested sequences (which is a list-or-tuple of lists-or-tuples-or ndarrays with different lengths or shapes) is deprecated. If you meant to do this, you must specify 'dtype=object' when creating the ndarray.\n"
          ]
        }
      ]
    },
    {
      "cell_type": "markdown",
      "source": [
        "## 2.2 Model amb una capa de ***Embedding*** [0.5 pts]"
      ],
      "metadata": {
        "id": "AweMb9yv352X"
      }
    },
    {
      "cell_type": "markdown",
      "source": [
        "2.2.1 Ara definirem els paràmetres de la nostra xarxa LSTM usant els paràmetres que donen a l'article. L'únic canvi serà en la mida de la xarxa LSTM, en què farem servir la meitat de la LSTM de l'article i nombre d'epochs que farem servir 10 en el nostre cas"
      ],
      "metadata": {
        "id": "-If6wor_3_YG"
      }
    },
    {
      "cell_type": "code",
      "source": [
        "batch_size = 1\n",
        "step_size = 1\n",
        "epochs = 10\n",
        "\n",
        "#according to the article the LSTM size was optimum at 256, so we get 128\n",
        "lstm_size = 128\n",
        "learning_rate = 1e-05\n",
        "optimizer = 'Adam'"
      ],
      "metadata": {
        "id": "JpqqH3X36URV"
      },
      "execution_count": 113,
      "outputs": []
    },
    {
      "cell_type": "markdown",
      "source": [
        "El codi següent és per mantenir l'estructura de carpetes que usen a l'article, ja que hi ha molt codi que depèn d'aquesta estructura:"
      ],
      "metadata": {
        "id": "WL28R7s_3f7w"
      }
    },
    {
      "cell_type": "code",
      "source": [
        "##--------NO TOCAR-------------------------------------------------------\n",
        "base_path = 'models/chords/'\n",
        "model_filetype = '.pickle'\n",
        "\n",
        "shuffle_train_set = True\n",
        "bidirectional = False\n",
        "\n",
        "#Create model dir\n",
        "fd = {'shifted': shifted, 'lr': learning_rate, 'emdim': chord_embedding_dim, 'opt': optimizer,\n",
        "'bi': bidirectional, 'lstms': lstm_size, 'trainsize': train_set_size, 'testsize': test_set_size, 'samples_per_bar': samples_per_bar}\n",
        "t = str(np.random.randint(1000,9999))\n",
        "model_name = t+ '-Shifted_%(shifted)s_Lr_%(lr)s_EmDim_%(emdim)s_opt_%(opt)s_bi_%(bi)s_lstmsize_%(lstms)s_trainsize_%(trainsize)s_testsize_%(testsize)s_samples_per_bar%(samples_per_bar)s' % fd\n",
        "model_path = base_path + model_name + '/'\n",
        "if not os.path.exists(model_path):\n",
        "    os.makedirs(model_path)\n",
        "##--------NO TOCAR-------------------------------------------------------\n"
      ],
      "metadata": {
        "id": "l1diXWzq3tun"
      },
      "execution_count": 114,
      "outputs": []
    },
    {
      "cell_type": "markdown",
      "source": [
        "2.2.2 Finalment definim i compilem la xarxa amb una capa d'Embedding abans de la LSTM. Per aquest pas, accedir al codi original de l'article i cercar en quin fitxer s'entrena la LSTM copiar l'estructura eliminant codi que no és del nostre interès"
      ],
      "metadata": {
        "id": "PKt5WJ5d8YPb"
      }
    },
    {
      "cell_type": "code",
      "source": [
        "verbose = False\n",
        "show_plot = False\n",
        "save_plot = True\n",
        "save_step = 10\n",
        "shuffle_train_set = True\n",
        "bidirectional = False\n",
        "\n",
        "print('creating model...')\n",
        "model = Sequential()\n",
        "model.add(Embedding(num_chords, chord_embedding_dim, input_length=step_size, name=\"embedding\", batch_input_shape=(batch_size,step_size)))\n",
        "\n",
        "# create model\n",
        "model.add(LSTM(lstm_size, stateful=True))\n",
        "model.add(Dense(num_chords))\n",
        "model.add(Activation('softmax'))\n",
        "if optimizer == 'Adam':\n",
        "    optimizer = Adam(lr=learning_rate)\n",
        "elif optimizer == 'RMS':\n",
        "    optimizer = RMSprop(lr=learning_rate)\n",
        "loss = 'categorical_crossentropy'\n",
        "print(\"compiling model\")\n",
        "model.compile(optimizer, loss)\n"
      ],
      "metadata": {
        "id": "9IiHUM_hFNTr",
        "colab": {
          "base_uri": "https://localhost:8080/"
        },
        "outputId": "837f4d43-8143-42cc-e3be-c9aabcb31606"
      },
      "execution_count": 115,
      "outputs": [
        {
          "output_type": "stream",
          "name": "stdout",
          "text": [
            "creating model...\n",
            "compiling model\n"
          ]
        },
        {
          "output_type": "stream",
          "name": "stderr",
          "text": [
            "/usr/local/lib/python3.7/dist-packages/keras/optimizer_v2/adam.py:105: UserWarning: The `lr` argument is deprecated, use `learning_rate` instead.\n",
            "  super(Adam, self).__init__(name, **kwargs)\n"
          ]
        }
      ]
    },
    {
      "cell_type": "markdown",
      "source": [
        "## 2.3 Entrenament [2 pts]"
      ],
      "metadata": {
        "id": "aMLDg6O1BNKK"
      }
    },
    {
      "cell_type": "markdown",
      "source": [
        "2.3.1 Seguint el codi original de l'article on es defineix l'arquitectura de la LSTM per als acords, hi ha 3 funcions més:\n",
        "* test()\n",
        "* train()\n",
        "* save_params()\n",
        "\n",
        "que ens ajudaran per a l'entrenament, testeig i per guardar les dades sobre el model entrenat. Guardarem el valor de la ***loss*** tant per a test com per a train cada 500 cançons, per la qual cosa tindrem més d'un punt per epoch. Modifica, si cal, les funcions *test()* i *train()* perquè els fitxers de *total_test* i *total_train* deixin constància de l'epoch a què pertanyen, això t'ajudarà a pintar les dades més endavant.\n",
        "\n",
        "***Afegeix, abans de cada funció una capçalera explicant breument allò que aquesta fa.***\n",
        "\n",
        "---\n",
        "\n",
        "*nota: comprova que has definit totes les variables necessàries perquè les* *funcions no donin error al mig de l'entrenament. Comença usant menys dades* *per agilitzar el procés i un cop funcioni tot utilitza el set complet*"
      ],
      "metadata": {
        "id": "Ki3ULd3FBU8l"
      }
    },
    {
      "cell_type": "code",
      "source": [
        "# initialize variables\n",
        "epoch_array=[]\n",
        "total_test_loss_array = [] \n",
        "total_train_loss_array = []\n",
        "total_epoch_array = []\n",
        "total_test_loss = 0\n",
        "show_plot = False\n",
        "save_plot = False\n",
        "test_step = 500\n",
        "verbose = False\n",
        "save_step = 1\n",
        "epoch_num = 1\n",
        "\n",
        "# function to test data\n",
        "def test():\n",
        "    print('\\nTesting:')\n",
        "    total_test_loss = 0\n",
        "    total_test_epoch = 0\n",
        "\n",
        "    bar = progressbar.ProgressBar(maxval=test_set_size, redirect_stdout=False)\n",
        "    for i, test_song in enumerate(test_set):\n",
        "        X_test = test_song[:-1]\n",
        "        Y_test = np_utils.to_categorical(test_song[1:], num_classes=num_chords)\n",
        "        loss = model.evaluate(X_test, Y_test, batch_size=batch_size, verbose=verbose)\n",
        "        model.reset_states()\n",
        "        total_test_loss += loss\n",
        "        bar.update(i+1)\n",
        "    total_test_loss_array.append(total_test_loss/test_set_size)\n",
        "    print('\\nTotal test loss: ', total_test_loss/test_set_size)\n",
        "    print('-'*50)\n",
        "    plt.plot(total_test_loss_array, 'b-', label='test loss')\n",
        "    plt.plot(total_train_loss_array, 'r-', label='train loss')\n",
        "#    plt.legend()\n",
        "    plt.ylabel(model_path)\n",
        "#    plt.axis([0, 50, 3, 5])\n",
        "    plt.grid()\n",
        "    if show_plot: plt.show()\n",
        "    if save_plot: plt.savefig(model_path+'plot.png')\n",
        "    pickle.dump((total_epoch_array,total_test_loss_array),open(model_path+'total_test_loss_array.pickle', 'wb'))\n",
        "    pickle.dump((total_epoch_array,total_train_loss_array),open(model_path+'total_train_loss_array.pickle', 'wb'))\n",
        "\n",
        "# function to train data: for each epoch, if shuffle is activated, shuffle the set. Then for every song  in the train set\n",
        "def train():\n",
        "    print('training model...')\n",
        "    total_train_loss = 0\n",
        "    for e in range(1, epochs+1):\n",
        "        print('Epoch ', e, 'of ', epochs, 'Epochs\\nTraining:')\n",
        "        if shuffle_train_set:\n",
        "            shuffle(train_set)\n",
        "        bar = progressbar.ProgressBar(maxval=train_set_size)\n",
        "        for i, song in enumerate(train_set):\n",
        "            # bar.start()\n",
        "            X = song[:-1]\n",
        "            Y = np_utils.to_categorical(song[1:], num_classes=num_chords)\n",
        "            hist = model.fit(X, Y, batch_size=batch_size, shuffle=False, verbose=verbose)\n",
        "            model.reset_states()\n",
        "            bar.update(i+1)\n",
        "#            print(hist.history)\n",
        "            total_train_loss += hist.history['loss'][0]\n",
        "            if (i+1)%test_step is 0:\n",
        "                total_train_loss = total_train_loss/test_step\n",
        "                total_train_loss_array.append(total_train_loss)\n",
        "                total_epoch_array.append((e-1) + 1/(len(train_set)/(i+1)))\n",
        "                test()\n",
        "                total_train_loss = 0\n",
        "    \n",
        "        if e%save_step is 0:\n",
        "            print('saving model')\n",
        "            model_save_path = model_path + 'model_' + 'Epoch' + str(e) + '_' + str(i+1) + model_filetype\n",
        "            model.save(model_save_path)\n",
        "\n",
        "def save_params():\n",
        "    with open(model_path + 'params.txt', \"w\") as text_file:\n",
        "        text_file.write(\"epochs: %s\" % epochs + '\\n')\n",
        "        text_file.write(\"train_set_size: %s\" % train_set_size + '\\n')\n",
        "        text_file.write(\"test_set_size: %s\" % test_set_size + '\\n')\n",
        "        text_file.write(\"lstm_size: %s\" % lstm_size + '\\n')\n",
        "        text_file.write(\"embedding_dim: %s\" % chord_embedding_dim + '\\n')\n",
        "        text_file.write(\"learning_rate: %s\" % learning_rate + '\\n')\n",
        "        #text_file.write(\"save_step: %s\" % save_step + '\\n')\n",
        "        text_file.write(\"shuffle_train_set: %s\" % shuffle_train_set + '\\n')\n",
        "        text_file.write(\"test_step: %s\" % test_step + '\\n')\n",
        "        text_file.write(\"bidirectional: %s\" % bidirectional + '\\n')\n",
        "        text_file.write(\"num_chords: %s\" % num_chords + '\\n')\n",
        "        text_file.write(\"chord_n: %s\" % chord_n + '\\n')\n"
      ],
      "metadata": {
        "id": "IDevHmNuCzGx"
      },
      "execution_count": null,
      "outputs": []
    },
    {
      "cell_type": "markdown",
      "source": [
        "2.3.2 Respon les preguntes següents:\n",
        "* Què representa cada element de *X* a la funció de *train()*?\n",
        "* Què s'està usant com a *label* per a cada element de *X*?\n",
        "* Justifica l'ús de *categorical_crossentropy* com a funció de *loss*\n",
        "* Què creus que està aprenent la xarxa?"
      ],
      "metadata": {
        "id": "P7byp9y1_00y"
      }
    },
    {
      "cell_type": "markdown",
      "source": [
        "Cada element de X representa l'acord (l'índex de l'acord) que s'està tocant en aquell punt de la cançó. L'etiqueta Y que s'usa per a cada element de X són els acords que segueixen a l'element de X, categoritzats. Justament s'utilitza el categorical_crossentropy perque la label Y està categoritzada. Aquesta és una funció de pèrdua que s'utilitza en tasques de classificació multiclasse. Són tasques on un exemple només pot pertànyer a una de les moltes categories possibles, i el model ha de decidir quina. La xarxa està aprenent quins acords van junts en una cançó, és a dir, que si jo toco un acord, quin acord és harmoniós amb l'acord que estic tocant i possiblement ve a continuació."
      ],
      "metadata": {
        "id": "qZb7DL-9BFfb"
      }
    },
    {
      "cell_type": "markdown",
      "source": [
        "2.3.3 Entrena la xarxa usant les funcions anteriors"
      ],
      "metadata": {
        "id": "Jzu-37C4EKom"
      }
    },
    {
      "cell_type": "code",
      "source": [
        "# save parameters\n",
        "print(\"saving params\")\n",
        "save_params()\n",
        "# train model\n",
        "print(\"starting training..\")\n",
        "train()"
      ],
      "metadata": {
        "colab": {
          "base_uri": "https://localhost:8080/",
          "height": 1000
        },
        "id": "LmRxBlFFu5PZ",
        "outputId": "7d92cfd6-0a7b-4171-f9b3-8bd0e744baf8"
      },
      "execution_count": null,
      "outputs": [
        {
          "output_type": "stream",
          "name": "stdout",
          "text": [
            "saving params\n",
            "starting training..\n",
            "training model...\n",
            "Epoch  1 of  10 Epochs\n",
            "Training:\n"
          ]
        },
        {
          "output_type": "stream",
          "name": "stderr",
          "text": [
            " 25% (500 of 2000) |#####                | Elapsed Time: 0:03:20 ETA:   0:10:00"
          ]
        },
        {
          "output_type": "stream",
          "name": "stdout",
          "text": [
            "\n",
            "Testing:\n"
          ]
        },
        {
          "output_type": "stream",
          "name": "stderr",
          "text": [
            "100% (500 of 500) |######################| Elapsed Time: 0:01:52 ETA:  00:00:00"
          ]
        },
        {
          "output_type": "stream",
          "name": "stdout",
          "text": [
            "\n",
            "Total test loss:  3.233249479293823\n",
            "--------------------------------------------------\n"
          ]
        },
        {
          "output_type": "stream",
          "name": "stderr",
          "text": [
            "N/A% (0 of 500) |                        | Elapsed Time: 0:00:00 ETA:  --:--:--"
          ]
        },
        {
          "output_type": "stream",
          "name": "stdout",
          "text": [
            "\n",
            "Testing:\n"
          ]
        },
        {
          "output_type": "stream",
          "name": "stderr",
          "text": [
            "100% (500 of 500) |######################| Elapsed Time: 0:01:49 ETA:  00:00:00"
          ]
        },
        {
          "output_type": "stream",
          "name": "stdout",
          "text": [
            "\n",
            "Total test loss:  3.1543264746665955\n",
            "--------------------------------------------------\n"
          ]
        },
        {
          "output_type": "stream",
          "name": "stderr",
          "text": [
            "N/A% (0 of 500) |                        | Elapsed Time: 0:00:00 ETA:  --:--:--"
          ]
        },
        {
          "output_type": "stream",
          "name": "stdout",
          "text": [
            "\n",
            "Testing:\n"
          ]
        },
        {
          "output_type": "stream",
          "name": "stderr",
          "text": [
            "100% (500 of 500) |######################| Elapsed Time: 0:01:47 ETA:  00:00:00"
          ]
        },
        {
          "output_type": "stream",
          "name": "stdout",
          "text": [
            "\n",
            "Total test loss:  3.12336864900589\n",
            "--------------------------------------------------\n"
          ]
        },
        {
          "output_type": "stream",
          "name": "stderr",
          "text": [
            "N/A% (0 of 500) |                        | Elapsed Time: 0:00:00 ETA:  --:--:--"
          ]
        },
        {
          "output_type": "stream",
          "name": "stdout",
          "text": [
            "\n",
            "Testing:\n"
          ]
        },
        {
          "output_type": "stream",
          "name": "stderr",
          "text": [
            "100% (500 of 500) |######################| Elapsed Time: 0:01:48 ETA:  00:00:00"
          ]
        },
        {
          "output_type": "stream",
          "name": "stdout",
          "text": [
            "\n",
            "Total test loss:  3.1035869212150575\n",
            "--------------------------------------------------\n",
            "saving model\n"
          ]
        },
        {
          "output_type": "stream",
          "name": "stderr",
          "text": [
            "WARNING:absl:Found untraced functions such as lstm_cell_6_layer_call_fn, lstm_cell_6_layer_call_and_return_conditional_losses while saving (showing 2 of 2). These functions will not be directly callable after loading.\n"
          ]
        },
        {
          "output_type": "stream",
          "name": "stdout",
          "text": [
            "INFO:tensorflow:Assets written to: models/chords/9846-Shifted_True_Lr_1e-05_EmDim_10_opt_Adam_bi_False_lstmsize_128_trainsize_2000_testsize_500_samples_per_bar8/model_Epoch1_2000.pickle/assets\n"
          ]
        },
        {
          "output_type": "stream",
          "name": "stderr",
          "text": [
            "INFO:tensorflow:Assets written to: models/chords/9846-Shifted_True_Lr_1e-05_EmDim_10_opt_Adam_bi_False_lstmsize_128_trainsize_2000_testsize_500_samples_per_bar8/model_Epoch1_2000.pickle/assets\n",
            "WARNING:absl:<keras.layers.recurrent.LSTMCell object at 0x7f600e361250> has the same name 'LSTMCell' as a built-in Keras object. Consider renaming <class 'keras.layers.recurrent.LSTMCell'> to avoid naming conflicts when loading with `tf.keras.models.load_model`. If renaming is not possible, pass the object in the `custom_objects` parameter of the load function.\n"
          ]
        },
        {
          "output_type": "stream",
          "name": "stdout",
          "text": [
            "Epoch  2 of  10 Epochs\n",
            "Training:\n"
          ]
        },
        {
          "output_type": "stream",
          "name": "stderr",
          "text": [
            "N/A% (0 of 500) |                        | Elapsed Time: 0:00:00 ETA:  --:--:--"
          ]
        },
        {
          "output_type": "stream",
          "name": "stdout",
          "text": [
            "\n",
            "Testing:\n"
          ]
        },
        {
          "output_type": "stream",
          "name": "stderr",
          "text": [
            "100% (500 of 500) |######################| Elapsed Time: 0:02:00 ETA:  00:00:00"
          ]
        },
        {
          "output_type": "stream",
          "name": "stdout",
          "text": [
            "\n",
            "Total test loss:  3.076696541547775\n",
            "--------------------------------------------------\n"
          ]
        },
        {
          "output_type": "stream",
          "name": "stderr",
          "text": [
            "N/A% (0 of 500) |                        | Elapsed Time: 0:00:00 ETA:  --:--:--"
          ]
        },
        {
          "output_type": "stream",
          "name": "stdout",
          "text": [
            "\n",
            "Testing:\n"
          ]
        },
        {
          "output_type": "stream",
          "name": "stderr",
          "text": [
            " 50% (1001 of 2000) |#######       | Elapsed Time: 0:10:37 ETA:  1 day, 6:40:38"
          ]
        },
        {
          "output_type": "stream",
          "name": "stdout",
          "text": [
            "\n",
            "Total test loss:  3.082331568479538\n",
            "--------------------------------------------------\n"
          ]
        },
        {
          "output_type": "stream",
          "name": "stderr",
          "text": [
            "N/A% (0 of 500) |                        | Elapsed Time: 0:00:00 ETA:  --:--:--"
          ]
        },
        {
          "output_type": "stream",
          "name": "stdout",
          "text": [
            "\n",
            "Testing:\n"
          ]
        },
        {
          "output_type": "stream",
          "name": "stderr",
          "text": [
            "100% (500 of 500) |######################| Elapsed Time: 0:01:49 ETA:  00:00:00"
          ]
        },
        {
          "output_type": "stream",
          "name": "stdout",
          "text": [
            "\n",
            "Total test loss:  3.062399036645889\n",
            "--------------------------------------------------\n"
          ]
        },
        {
          "output_type": "stream",
          "name": "stderr",
          "text": [
            "N/A% (0 of 500) |                        | Elapsed Time: 0:00:00 ETA:  --:--:--"
          ]
        },
        {
          "output_type": "stream",
          "name": "stdout",
          "text": [
            "\n",
            "Testing:\n"
          ]
        },
        {
          "output_type": "stream",
          "name": "stderr",
          "text": [
            "100% (500 of 500) |######################| Elapsed Time: 0:01:56 ETA:  00:00:00"
          ]
        },
        {
          "output_type": "stream",
          "name": "stdout",
          "text": [
            "\n",
            "Total test loss:  3.030930241107941\n",
            "--------------------------------------------------\n",
            "saving model\n"
          ]
        },
        {
          "output_type": "stream",
          "name": "stderr",
          "text": [
            "WARNING:absl:Found untraced functions such as lstm_cell_6_layer_call_fn, lstm_cell_6_layer_call_and_return_conditional_losses while saving (showing 2 of 2). These functions will not be directly callable after loading.\n"
          ]
        },
        {
          "output_type": "stream",
          "name": "stdout",
          "text": [
            "INFO:tensorflow:Assets written to: models/chords/9846-Shifted_True_Lr_1e-05_EmDim_10_opt_Adam_bi_False_lstmsize_128_trainsize_2000_testsize_500_samples_per_bar8/model_Epoch2_2000.pickle/assets\n"
          ]
        },
        {
          "output_type": "stream",
          "name": "stderr",
          "text": [
            "INFO:tensorflow:Assets written to: models/chords/9846-Shifted_True_Lr_1e-05_EmDim_10_opt_Adam_bi_False_lstmsize_128_trainsize_2000_testsize_500_samples_per_bar8/model_Epoch2_2000.pickle/assets\n",
            "WARNING:absl:<keras.layers.recurrent.LSTMCell object at 0x7f600e361250> has the same name 'LSTMCell' as a built-in Keras object. Consider renaming <class 'keras.layers.recurrent.LSTMCell'> to avoid naming conflicts when loading with `tf.keras.models.load_model`. If renaming is not possible, pass the object in the `custom_objects` parameter of the load function.\n"
          ]
        },
        {
          "output_type": "stream",
          "name": "stdout",
          "text": [
            "Epoch  3 of  10 Epochs\n",
            "Training:\n"
          ]
        },
        {
          "output_type": "stream",
          "name": "stderr",
          "text": [
            "N/A% (0 of 500) |                        | Elapsed Time: 0:00:00 ETA:  --:--:--"
          ]
        },
        {
          "output_type": "stream",
          "name": "stdout",
          "text": [
            "\n",
            "Testing:\n"
          ]
        },
        {
          "output_type": "stream",
          "name": "stderr",
          "text": [
            "100% (500 of 500) |######################| Elapsed Time: 0:01:50 ETA:  00:00:00"
          ]
        },
        {
          "output_type": "stream",
          "name": "stdout",
          "text": [
            "\n",
            "Total test loss:  3.0474661452770233\n",
            "--------------------------------------------------\n"
          ]
        },
        {
          "output_type": "stream",
          "name": "stderr",
          "text": [
            "N/A% (0 of 500) |                        | Elapsed Time: 0:00:00 ETA:  --:--:--"
          ]
        },
        {
          "output_type": "stream",
          "name": "stdout",
          "text": [
            "\n",
            "Testing:\n"
          ]
        },
        {
          "output_type": "stream",
          "name": "stderr",
          "text": [
            "100% (500 of 500) |######################| Elapsed Time: 0:01:49 ETA:  00:00:00"
          ]
        },
        {
          "output_type": "stream",
          "name": "stdout",
          "text": [
            "\n",
            "Total test loss:  3.0314730112552644\n",
            "--------------------------------------------------\n"
          ]
        },
        {
          "output_type": "stream",
          "name": "stderr",
          "text": [
            "N/A% (0 of 500) |                        | Elapsed Time: 0:00:00 ETA:  --:--:--"
          ]
        },
        {
          "output_type": "stream",
          "name": "stdout",
          "text": [
            "\n",
            "Testing:\n"
          ]
        },
        {
          "output_type": "stream",
          "name": "stderr",
          "text": [
            "100% (500 of 500) |######################| Elapsed Time: 0:01:46 ETA:  00:00:00"
          ]
        },
        {
          "output_type": "stream",
          "name": "stdout",
          "text": [
            "\n",
            "Total test loss:  3.008310453891754\n",
            "--------------------------------------------------\n"
          ]
        },
        {
          "output_type": "stream",
          "name": "stderr",
          "text": [
            "N/A% (0 of 500) |                        | Elapsed Time: 0:00:00 ETA:  --:--:--"
          ]
        },
        {
          "output_type": "stream",
          "name": "stdout",
          "text": [
            "\n",
            "Testing:\n"
          ]
        },
        {
          "output_type": "stream",
          "name": "stderr",
          "text": [
            "100% (500 of 500) |######################| Elapsed Time: 0:01:47 ETA:  00:00:00"
          ]
        },
        {
          "output_type": "stream",
          "name": "stdout",
          "text": [
            "\n",
            "Total test loss:  3.005577706813812\n",
            "--------------------------------------------------\n",
            "saving model\n"
          ]
        },
        {
          "output_type": "stream",
          "name": "stderr",
          "text": [
            "WARNING:absl:Found untraced functions such as lstm_cell_6_layer_call_fn, lstm_cell_6_layer_call_and_return_conditional_losses while saving (showing 2 of 2). These functions will not be directly callable after loading.\n"
          ]
        },
        {
          "output_type": "stream",
          "name": "stdout",
          "text": [
            "INFO:tensorflow:Assets written to: models/chords/9846-Shifted_True_Lr_1e-05_EmDim_10_opt_Adam_bi_False_lstmsize_128_trainsize_2000_testsize_500_samples_per_bar8/model_Epoch3_2000.pickle/assets\n"
          ]
        },
        {
          "output_type": "stream",
          "name": "stderr",
          "text": [
            "INFO:tensorflow:Assets written to: models/chords/9846-Shifted_True_Lr_1e-05_EmDim_10_opt_Adam_bi_False_lstmsize_128_trainsize_2000_testsize_500_samples_per_bar8/model_Epoch3_2000.pickle/assets\n",
            "WARNING:absl:<keras.layers.recurrent.LSTMCell object at 0x7f600e361250> has the same name 'LSTMCell' as a built-in Keras object. Consider renaming <class 'keras.layers.recurrent.LSTMCell'> to avoid naming conflicts when loading with `tf.keras.models.load_model`. If renaming is not possible, pass the object in the `custom_objects` parameter of the load function.\n"
          ]
        },
        {
          "output_type": "stream",
          "name": "stdout",
          "text": [
            "Epoch  4 of  10 Epochs\n",
            "Training:\n"
          ]
        },
        {
          "output_type": "stream",
          "name": "stderr",
          "text": [
            "N/A% (0 of 500) |                        | Elapsed Time: 0:00:00 ETA:  --:--:--"
          ]
        },
        {
          "output_type": "stream",
          "name": "stdout",
          "text": [
            "\n",
            "Testing:\n"
          ]
        },
        {
          "output_type": "stream",
          "name": "stderr",
          "text": [
            "100% (500 of 500) |######################| Elapsed Time: 0:01:47 ETA:  00:00:00"
          ]
        },
        {
          "output_type": "stream",
          "name": "stdout",
          "text": [
            "\n",
            "Total test loss:  2.9977957298755644\n",
            "--------------------------------------------------\n"
          ]
        },
        {
          "output_type": "stream",
          "name": "stderr",
          "text": [
            "N/A% (0 of 500) |                        | Elapsed Time: 0:00:00 ETA:  --:--:--"
          ]
        },
        {
          "output_type": "stream",
          "name": "stdout",
          "text": [
            "\n",
            "Testing:\n"
          ]
        },
        {
          "output_type": "stream",
          "name": "stderr",
          "text": [
            "100% (500 of 500) |######################| Elapsed Time: 0:01:49 ETA:  00:00:00"
          ]
        },
        {
          "output_type": "stream",
          "name": "stdout",
          "text": [
            "\n",
            "Total test loss:  2.9871156265735626\n",
            "--------------------------------------------------\n"
          ]
        },
        {
          "output_type": "stream",
          "name": "stderr",
          "text": [
            "N/A% (0 of 500) |                        | Elapsed Time: 0:00:00 ETA:  --:--:--"
          ]
        },
        {
          "output_type": "stream",
          "name": "stdout",
          "text": [
            "\n",
            "Testing:\n"
          ]
        },
        {
          "output_type": "stream",
          "name": "stderr",
          "text": [
            "100% (500 of 500) |######################| Elapsed Time: 0:01:48 ETA:  00:00:00"
          ]
        },
        {
          "output_type": "stream",
          "name": "stdout",
          "text": [
            "\n",
            "Total test loss:  2.979906713247299\n",
            "--------------------------------------------------\n"
          ]
        },
        {
          "output_type": "stream",
          "name": "stderr",
          "text": [
            "N/A% (0 of 500) |                        | Elapsed Time: 0:00:00 ETA:  --:--:--"
          ]
        },
        {
          "output_type": "stream",
          "name": "stdout",
          "text": [
            "\n",
            "Testing:\n"
          ]
        },
        {
          "output_type": "stream",
          "name": "stderr",
          "text": [
            "100% (500 of 500) |######################| Elapsed Time: 0:01:51 ETA:  00:00:00"
          ]
        },
        {
          "output_type": "stream",
          "name": "stdout",
          "text": [
            "\n",
            "Total test loss:  2.9797512249946596\n",
            "--------------------------------------------------\n",
            "saving model\n"
          ]
        },
        {
          "output_type": "stream",
          "name": "stderr",
          "text": [
            "WARNING:absl:Found untraced functions such as lstm_cell_6_layer_call_fn, lstm_cell_6_layer_call_and_return_conditional_losses while saving (showing 2 of 2). These functions will not be directly callable after loading.\n"
          ]
        },
        {
          "output_type": "stream",
          "name": "stdout",
          "text": [
            "INFO:tensorflow:Assets written to: models/chords/9846-Shifted_True_Lr_1e-05_EmDim_10_opt_Adam_bi_False_lstmsize_128_trainsize_2000_testsize_500_samples_per_bar8/model_Epoch4_2000.pickle/assets\n"
          ]
        },
        {
          "output_type": "stream",
          "name": "stderr",
          "text": [
            "INFO:tensorflow:Assets written to: models/chords/9846-Shifted_True_Lr_1e-05_EmDim_10_opt_Adam_bi_False_lstmsize_128_trainsize_2000_testsize_500_samples_per_bar8/model_Epoch4_2000.pickle/assets\n",
            "WARNING:absl:<keras.layers.recurrent.LSTMCell object at 0x7f600e361250> has the same name 'LSTMCell' as a built-in Keras object. Consider renaming <class 'keras.layers.recurrent.LSTMCell'> to avoid naming conflicts when loading with `tf.keras.models.load_model`. If renaming is not possible, pass the object in the `custom_objects` parameter of the load function.\n"
          ]
        },
        {
          "output_type": "stream",
          "name": "stdout",
          "text": [
            "Epoch  5 of  10 Epochs\n",
            "Training:\n"
          ]
        },
        {
          "output_type": "stream",
          "name": "stderr",
          "text": [
            "N/A% (0 of 500) |                        | Elapsed Time: 0:00:00 ETA:  --:--:--"
          ]
        },
        {
          "output_type": "stream",
          "name": "stdout",
          "text": [
            "\n",
            "Testing:\n"
          ]
        },
        {
          "output_type": "stream",
          "name": "stderr",
          "text": [
            "100% (500 of 500) |######################| Elapsed Time: 0:01:50 ETA:  00:00:00"
          ]
        },
        {
          "output_type": "stream",
          "name": "stdout",
          "text": [
            "\n",
            "Total test loss:  2.971455838918686\n",
            "--------------------------------------------------\n"
          ]
        },
        {
          "output_type": "stream",
          "name": "stderr",
          "text": [
            "N/A% (0 of 500) |                        | Elapsed Time: 0:00:00 ETA:  --:--:--"
          ]
        },
        {
          "output_type": "stream",
          "name": "stdout",
          "text": [
            "\n",
            "Testing:\n"
          ]
        },
        {
          "output_type": "stream",
          "name": "stderr",
          "text": [
            "100% (500 of 500) |######################| Elapsed Time: 0:01:52 ETA:  00:00:00"
          ]
        },
        {
          "output_type": "stream",
          "name": "stdout",
          "text": [
            "\n",
            "Total test loss:  2.969511302471161\n",
            "--------------------------------------------------\n"
          ]
        },
        {
          "output_type": "stream",
          "name": "stderr",
          "text": [
            "N/A% (0 of 500) |                        | Elapsed Time: 0:00:00 ETA:  --:--:--"
          ]
        },
        {
          "output_type": "stream",
          "name": "stdout",
          "text": [
            "\n",
            "Testing:\n"
          ]
        },
        {
          "output_type": "stream",
          "name": "stderr",
          "text": [
            "100% (500 of 500) |######################| Elapsed Time: 0:01:51 ETA:  00:00:00"
          ]
        },
        {
          "output_type": "stream",
          "name": "stdout",
          "text": [
            "\n",
            "Total test loss:  2.956377203822136\n",
            "--------------------------------------------------\n"
          ]
        },
        {
          "output_type": "stream",
          "name": "stderr",
          "text": [
            "N/A% (0 of 500) |                        | Elapsed Time: 0:00:00 ETA:  --:--:--"
          ]
        },
        {
          "output_type": "stream",
          "name": "stdout",
          "text": [
            "\n",
            "Testing:\n"
          ]
        },
        {
          "output_type": "stream",
          "name": "stderr",
          "text": [
            "100% (500 of 500) |######################| Elapsed Time: 0:01:48 ETA:  00:00:00"
          ]
        },
        {
          "output_type": "stream",
          "name": "stdout",
          "text": [
            "\n",
            "Total test loss:  2.964386269211769\n",
            "--------------------------------------------------\n",
            "saving model\n"
          ]
        },
        {
          "output_type": "stream",
          "name": "stderr",
          "text": [
            "WARNING:absl:Found untraced functions such as lstm_cell_6_layer_call_fn, lstm_cell_6_layer_call_and_return_conditional_losses while saving (showing 2 of 2). These functions will not be directly callable after loading.\n"
          ]
        },
        {
          "output_type": "stream",
          "name": "stdout",
          "text": [
            "INFO:tensorflow:Assets written to: models/chords/9846-Shifted_True_Lr_1e-05_EmDim_10_opt_Adam_bi_False_lstmsize_128_trainsize_2000_testsize_500_samples_per_bar8/model_Epoch5_2000.pickle/assets\n"
          ]
        },
        {
          "output_type": "stream",
          "name": "stderr",
          "text": [
            "INFO:tensorflow:Assets written to: models/chords/9846-Shifted_True_Lr_1e-05_EmDim_10_opt_Adam_bi_False_lstmsize_128_trainsize_2000_testsize_500_samples_per_bar8/model_Epoch5_2000.pickle/assets\n",
            "WARNING:absl:<keras.layers.recurrent.LSTMCell object at 0x7f600e361250> has the same name 'LSTMCell' as a built-in Keras object. Consider renaming <class 'keras.layers.recurrent.LSTMCell'> to avoid naming conflicts when loading with `tf.keras.models.load_model`. If renaming is not possible, pass the object in the `custom_objects` parameter of the load function.\n"
          ]
        },
        {
          "output_type": "stream",
          "name": "stdout",
          "text": [
            "Epoch  6 of  10 Epochs\n",
            "Training:\n"
          ]
        },
        {
          "output_type": "stream",
          "name": "stderr",
          "text": [
            " 25% (500 of 2000) |#####                | Elapsed Time: 0:03:14 ETA:   0:09:30"
          ]
        },
        {
          "output_type": "stream",
          "name": "stdout",
          "text": [
            "\n",
            "Testing:\n"
          ]
        },
        {
          "output_type": "stream",
          "name": "stderr",
          "text": [
            "100% (500 of 500) |######################| Elapsed Time: 0:01:45 ETA:  00:00:00"
          ]
        },
        {
          "output_type": "stream",
          "name": "stdout",
          "text": [
            "\n",
            "Total test loss:  2.953805909991264\n",
            "--------------------------------------------------\n"
          ]
        },
        {
          "output_type": "stream",
          "name": "stderr",
          "text": [
            "N/A% (0 of 500) |                        | Elapsed Time: 0:00:00 ETA:  --:--:--"
          ]
        },
        {
          "output_type": "stream",
          "name": "stdout",
          "text": [
            "\n",
            "Testing:\n"
          ]
        },
        {
          "output_type": "stream",
          "name": "stderr",
          "text": [
            "100% (500 of 500) |######################| Elapsed Time: 0:01:52 ETA:  00:00:00"
          ]
        },
        {
          "output_type": "stream",
          "name": "stdout",
          "text": [
            "\n",
            "Total test loss:  2.948293955206871\n",
            "--------------------------------------------------\n"
          ]
        },
        {
          "output_type": "stream",
          "name": "stderr",
          "text": [
            "N/A% (0 of 500) |                        | Elapsed Time: 0:00:00 ETA:  --:--:--"
          ]
        },
        {
          "output_type": "stream",
          "name": "stdout",
          "text": [
            "\n",
            "Testing:\n"
          ]
        },
        {
          "output_type": "stream",
          "name": "stderr",
          "text": [
            "100% (500 of 500) |######################| Elapsed Time: 0:01:48 ETA:  00:00:00"
          ]
        },
        {
          "output_type": "stream",
          "name": "stdout",
          "text": [
            "\n",
            "Total test loss:  2.9521341361999514\n",
            "--------------------------------------------------\n"
          ]
        },
        {
          "output_type": "stream",
          "name": "stderr",
          "text": [
            "N/A% (0 of 500) |                        | Elapsed Time: 0:00:00 ETA:  --:--:--"
          ]
        },
        {
          "output_type": "stream",
          "name": "stdout",
          "text": [
            "\n",
            "Testing:\n"
          ]
        },
        {
          "output_type": "stream",
          "name": "stderr",
          "text": [
            "100% (500 of 500) |######################| Elapsed Time: 0:01:48 ETA:  00:00:00"
          ]
        },
        {
          "output_type": "stream",
          "name": "stdout",
          "text": [
            "\n",
            "Total test loss:  2.9471417607069017\n",
            "--------------------------------------------------\n",
            "saving model\n"
          ]
        },
        {
          "output_type": "stream",
          "name": "stderr",
          "text": [
            "WARNING:absl:Found untraced functions such as lstm_cell_6_layer_call_fn, lstm_cell_6_layer_call_and_return_conditional_losses while saving (showing 2 of 2). These functions will not be directly callable after loading.\n"
          ]
        },
        {
          "output_type": "stream",
          "name": "stdout",
          "text": [
            "INFO:tensorflow:Assets written to: models/chords/9846-Shifted_True_Lr_1e-05_EmDim_10_opt_Adam_bi_False_lstmsize_128_trainsize_2000_testsize_500_samples_per_bar8/model_Epoch6_2000.pickle/assets\n"
          ]
        },
        {
          "output_type": "stream",
          "name": "stderr",
          "text": [
            "INFO:tensorflow:Assets written to: models/chords/9846-Shifted_True_Lr_1e-05_EmDim_10_opt_Adam_bi_False_lstmsize_128_trainsize_2000_testsize_500_samples_per_bar8/model_Epoch6_2000.pickle/assets\n",
            "WARNING:absl:<keras.layers.recurrent.LSTMCell object at 0x7f600e361250> has the same name 'LSTMCell' as a built-in Keras object. Consider renaming <class 'keras.layers.recurrent.LSTMCell'> to avoid naming conflicts when loading with `tf.keras.models.load_model`. If renaming is not possible, pass the object in the `custom_objects` parameter of the load function.\n"
          ]
        },
        {
          "output_type": "stream",
          "name": "stdout",
          "text": [
            "Epoch  7 of  10 Epochs\n",
            "Training:\n"
          ]
        },
        {
          "output_type": "stream",
          "name": "stderr",
          "text": [
            "N/A% (0 of 500) |                        | Elapsed Time: 0:00:00 ETA:  --:--:--"
          ]
        },
        {
          "output_type": "stream",
          "name": "stdout",
          "text": [
            "\n",
            "Testing:\n"
          ]
        },
        {
          "output_type": "stream",
          "name": "stderr",
          "text": [
            "100% (500 of 500) |######################| Elapsed Time: 0:01:48 ETA:  00:00:00"
          ]
        },
        {
          "output_type": "stream",
          "name": "stdout",
          "text": [
            "\n",
            "Total test loss:  2.9503915404081344\n",
            "--------------------------------------------------\n"
          ]
        },
        {
          "output_type": "stream",
          "name": "stderr",
          "text": [
            "N/A% (0 of 500) |                        | Elapsed Time: 0:00:00 ETA:  --:--:--"
          ]
        },
        {
          "output_type": "stream",
          "name": "stdout",
          "text": [
            "\n",
            "Testing:\n"
          ]
        },
        {
          "output_type": "stream",
          "name": "stderr",
          "text": [
            "100% (500 of 500) |######################| Elapsed Time: 0:01:47 ETA:  00:00:00"
          ]
        },
        {
          "output_type": "stream",
          "name": "stdout",
          "text": [
            "\n",
            "Total test loss:  2.9489171934127807\n",
            "--------------------------------------------------\n"
          ]
        },
        {
          "output_type": "stream",
          "name": "stderr",
          "text": [
            "N/A% (0 of 500) |                        | Elapsed Time: 0:00:00 ETA:  --:--:--"
          ]
        },
        {
          "output_type": "stream",
          "name": "stdout",
          "text": [
            "\n",
            "Testing:\n"
          ]
        },
        {
          "output_type": "stream",
          "name": "stderr",
          "text": [
            "100% (500 of 500) |######################| Elapsed Time: 0:01:47 ETA:  00:00:00"
          ]
        },
        {
          "output_type": "stream",
          "name": "stdout",
          "text": [
            "\n",
            "Total test loss:  2.942020431637764\n",
            "--------------------------------------------------\n"
          ]
        },
        {
          "output_type": "stream",
          "name": "stderr",
          "text": [
            "N/A% (0 of 500) |                        | Elapsed Time: 0:00:00 ETA:  --:--:--"
          ]
        },
        {
          "output_type": "stream",
          "name": "stdout",
          "text": [
            "\n",
            "Testing:\n"
          ]
        },
        {
          "output_type": "stream",
          "name": "stderr",
          "text": [
            "100% (500 of 500) |######################| Elapsed Time: 0:01:50 ETA:  00:00:00"
          ]
        },
        {
          "output_type": "stream",
          "name": "stdout",
          "text": [
            "\n",
            "Total test loss:  2.9267660211324693\n",
            "--------------------------------------------------\n",
            "saving model\n"
          ]
        },
        {
          "output_type": "stream",
          "name": "stderr",
          "text": [
            "WARNING:absl:Found untraced functions such as lstm_cell_6_layer_call_fn, lstm_cell_6_layer_call_and_return_conditional_losses while saving (showing 2 of 2). These functions will not be directly callable after loading.\n"
          ]
        },
        {
          "output_type": "stream",
          "name": "stdout",
          "text": [
            "INFO:tensorflow:Assets written to: models/chords/9846-Shifted_True_Lr_1e-05_EmDim_10_opt_Adam_bi_False_lstmsize_128_trainsize_2000_testsize_500_samples_per_bar8/model_Epoch7_2000.pickle/assets\n"
          ]
        },
        {
          "output_type": "stream",
          "name": "stderr",
          "text": [
            "INFO:tensorflow:Assets written to: models/chords/9846-Shifted_True_Lr_1e-05_EmDim_10_opt_Adam_bi_False_lstmsize_128_trainsize_2000_testsize_500_samples_per_bar8/model_Epoch7_2000.pickle/assets\n",
            "WARNING:absl:<keras.layers.recurrent.LSTMCell object at 0x7f600e361250> has the same name 'LSTMCell' as a built-in Keras object. Consider renaming <class 'keras.layers.recurrent.LSTMCell'> to avoid naming conflicts when loading with `tf.keras.models.load_model`. If renaming is not possible, pass the object in the `custom_objects` parameter of the load function.\n"
          ]
        },
        {
          "output_type": "stream",
          "name": "stdout",
          "text": [
            "Epoch  8 of  10 Epochs\n",
            "Training:\n"
          ]
        },
        {
          "output_type": "stream",
          "name": "stderr",
          "text": [
            "N/A% (0 of 500) |                        | Elapsed Time: 0:00:00 ETA:  --:--:--"
          ]
        },
        {
          "output_type": "stream",
          "name": "stdout",
          "text": [
            "\n",
            "Testing:\n"
          ]
        },
        {
          "output_type": "stream",
          "name": "stderr",
          "text": [
            "100% (500 of 500) |######################| Elapsed Time: 0:01:54 ETA:  00:00:00"
          ]
        },
        {
          "output_type": "stream",
          "name": "stdout",
          "text": [
            "\n",
            "Total test loss:  2.9234907075166703\n",
            "--------------------------------------------------\n"
          ]
        },
        {
          "output_type": "stream",
          "name": "stderr",
          "text": [
            "N/A% (0 of 500) |                        | Elapsed Time: 0:00:00 ETA:  --:--:--"
          ]
        },
        {
          "output_type": "stream",
          "name": "stdout",
          "text": [
            "\n",
            "Testing:\n"
          ]
        },
        {
          "output_type": "stream",
          "name": "stderr",
          "text": [
            "100% (500 of 500) |######################| Elapsed Time: 0:01:51 ETA:  00:00:00"
          ]
        },
        {
          "output_type": "stream",
          "name": "stdout",
          "text": [
            "\n",
            "Total test loss:  2.932391506433487\n",
            "--------------------------------------------------\n"
          ]
        },
        {
          "output_type": "stream",
          "name": "stderr",
          "text": [
            "N/A% (0 of 500) |                        | Elapsed Time: 0:00:00 ETA:  --:--:--"
          ]
        },
        {
          "output_type": "stream",
          "name": "stdout",
          "text": [
            "\n",
            "Testing:\n"
          ]
        },
        {
          "output_type": "stream",
          "name": "stderr",
          "text": [
            "100% (500 of 500) |######################| Elapsed Time: 0:01:49 ETA:  00:00:00"
          ]
        },
        {
          "output_type": "stream",
          "name": "stdout",
          "text": [
            "\n",
            "Total test loss:  2.930610726356506\n",
            "--------------------------------------------------\n"
          ]
        },
        {
          "output_type": "stream",
          "name": "stderr",
          "text": [
            "N/A% (0 of 500) |                        | Elapsed Time: 0:00:00 ETA:  --:--:--"
          ]
        },
        {
          "output_type": "stream",
          "name": "stdout",
          "text": [
            "\n",
            "Testing:\n"
          ]
        },
        {
          "output_type": "stream",
          "name": "stderr",
          "text": [
            "100% (500 of 500) |######################| Elapsed Time: 0:02:00 ETA:  00:00:00"
          ]
        },
        {
          "output_type": "stream",
          "name": "stdout",
          "text": [
            "\n",
            "Total test loss:  2.9280069974660874\n",
            "--------------------------------------------------\n",
            "saving model\n"
          ]
        },
        {
          "output_type": "stream",
          "name": "stderr",
          "text": [
            "WARNING:absl:Found untraced functions such as lstm_cell_6_layer_call_fn, lstm_cell_6_layer_call_and_return_conditional_losses while saving (showing 2 of 2). These functions will not be directly callable after loading.\n"
          ]
        },
        {
          "output_type": "stream",
          "name": "stdout",
          "text": [
            "INFO:tensorflow:Assets written to: models/chords/9846-Shifted_True_Lr_1e-05_EmDim_10_opt_Adam_bi_False_lstmsize_128_trainsize_2000_testsize_500_samples_per_bar8/model_Epoch8_2000.pickle/assets\n"
          ]
        },
        {
          "output_type": "stream",
          "name": "stderr",
          "text": [
            "INFO:tensorflow:Assets written to: models/chords/9846-Shifted_True_Lr_1e-05_EmDim_10_opt_Adam_bi_False_lstmsize_128_trainsize_2000_testsize_500_samples_per_bar8/model_Epoch8_2000.pickle/assets\n",
            "WARNING:absl:<keras.layers.recurrent.LSTMCell object at 0x7f600e361250> has the same name 'LSTMCell' as a built-in Keras object. Consider renaming <class 'keras.layers.recurrent.LSTMCell'> to avoid naming conflicts when loading with `tf.keras.models.load_model`. If renaming is not possible, pass the object in the `custom_objects` parameter of the load function.\n"
          ]
        },
        {
          "output_type": "stream",
          "name": "stdout",
          "text": [
            "Epoch  9 of  10 Epochs\n",
            "Training:\n"
          ]
        },
        {
          "output_type": "stream",
          "name": "stderr",
          "text": [
            " 25% (500 of 2000) |#####                | Elapsed Time: 0:03:10 ETA:   0:08:46"
          ]
        },
        {
          "output_type": "stream",
          "name": "stdout",
          "text": [
            "\n",
            "Testing:\n"
          ]
        },
        {
          "output_type": "stream",
          "name": "stderr",
          "text": [
            "100% (500 of 500) |######################| Elapsed Time: 0:01:51 ETA:  00:00:00"
          ]
        },
        {
          "output_type": "stream",
          "name": "stdout",
          "text": [
            "\n",
            "Total test loss:  2.927582064270973\n",
            "--------------------------------------------------\n"
          ]
        },
        {
          "output_type": "stream",
          "name": "stderr",
          "text": [
            "N/A% (0 of 500) |                        | Elapsed Time: 0:00:00 ETA:  --:--:--"
          ]
        },
        {
          "output_type": "stream",
          "name": "stdout",
          "text": [
            "\n",
            "Testing:\n"
          ]
        },
        {
          "output_type": "stream",
          "name": "stderr",
          "text": [
            "100% (500 of 500) |######################| Elapsed Time: 0:01:50 ETA:  00:00:00"
          ]
        },
        {
          "output_type": "stream",
          "name": "stdout",
          "text": [
            "\n",
            "Total test loss:  2.9309169833660125\n",
            "--------------------------------------------------\n"
          ]
        },
        {
          "output_type": "stream",
          "name": "stderr",
          "text": [
            "N/A% (0 of 500) |                        | Elapsed Time: 0:00:00 ETA:  --:--:--"
          ]
        },
        {
          "output_type": "stream",
          "name": "stdout",
          "text": [
            "\n",
            "Testing:\n"
          ]
        },
        {
          "output_type": "stream",
          "name": "stderr",
          "text": [
            "100% (500 of 500) |######################| Elapsed Time: 0:01:53 ETA:  00:00:00"
          ]
        },
        {
          "output_type": "stream",
          "name": "stdout",
          "text": [
            "\n",
            "Total test loss:  2.920169760465622\n",
            "--------------------------------------------------\n"
          ]
        },
        {
          "output_type": "stream",
          "name": "stderr",
          "text": [
            "N/A% (0 of 500) |                        | Elapsed Time: 0:00:00 ETA:  --:--:--"
          ]
        },
        {
          "output_type": "stream",
          "name": "stdout",
          "text": [
            "\n",
            "Testing:\n"
          ]
        },
        {
          "output_type": "stream",
          "name": "stderr",
          "text": [
            "100% (500 of 500) |######################| Elapsed Time: 0:02:00 ETA:  00:00:00"
          ]
        },
        {
          "output_type": "stream",
          "name": "stdout",
          "text": [
            "\n",
            "Total test loss:  2.9230601667165756\n",
            "--------------------------------------------------\n",
            "saving model\n"
          ]
        },
        {
          "output_type": "stream",
          "name": "stderr",
          "text": [
            "WARNING:absl:Found untraced functions such as lstm_cell_6_layer_call_fn, lstm_cell_6_layer_call_and_return_conditional_losses while saving (showing 2 of 2). These functions will not be directly callable after loading.\n"
          ]
        },
        {
          "output_type": "stream",
          "name": "stdout",
          "text": [
            "INFO:tensorflow:Assets written to: models/chords/9846-Shifted_True_Lr_1e-05_EmDim_10_opt_Adam_bi_False_lstmsize_128_trainsize_2000_testsize_500_samples_per_bar8/model_Epoch9_2000.pickle/assets\n"
          ]
        },
        {
          "output_type": "stream",
          "name": "stderr",
          "text": [
            "INFO:tensorflow:Assets written to: models/chords/9846-Shifted_True_Lr_1e-05_EmDim_10_opt_Adam_bi_False_lstmsize_128_trainsize_2000_testsize_500_samples_per_bar8/model_Epoch9_2000.pickle/assets\n",
            "WARNING:absl:<keras.layers.recurrent.LSTMCell object at 0x7f600e361250> has the same name 'LSTMCell' as a built-in Keras object. Consider renaming <class 'keras.layers.recurrent.LSTMCell'> to avoid naming conflicts when loading with `tf.keras.models.load_model`. If renaming is not possible, pass the object in the `custom_objects` parameter of the load function.\n"
          ]
        },
        {
          "output_type": "stream",
          "name": "stdout",
          "text": [
            "Epoch  10 of  10 Epochs\n",
            "Training:\n"
          ]
        },
        {
          "output_type": "stream",
          "name": "stderr",
          "text": [
            " 25% (500 of 2000) |#####                | Elapsed Time: 0:03:21 ETA:   0:13:03"
          ]
        },
        {
          "output_type": "stream",
          "name": "stdout",
          "text": [
            "\n",
            "Testing:\n"
          ]
        },
        {
          "output_type": "stream",
          "name": "stderr",
          "text": [
            "100% (500 of 500) |######################| Elapsed Time: 0:01:57 ETA:  00:00:00"
          ]
        },
        {
          "output_type": "stream",
          "name": "stdout",
          "text": [
            "\n",
            "Total test loss:  2.9176616706848146\n",
            "--------------------------------------------------\n"
          ]
        },
        {
          "output_type": "stream",
          "name": "stderr",
          "text": [
            "N/A% (0 of 500) |                        | Elapsed Time: 0:00:00 ETA:  --:--:--"
          ]
        },
        {
          "output_type": "stream",
          "name": "stdout",
          "text": [
            "\n",
            "Testing:\n"
          ]
        },
        {
          "output_type": "stream",
          "name": "stderr",
          "text": [
            "100% (500 of 500) |######################| Elapsed Time: 0:01:58 ETA:  00:00:00"
          ]
        },
        {
          "output_type": "stream",
          "name": "stdout",
          "text": [
            "\n",
            "Total test loss:  2.9303549563884737\n",
            "--------------------------------------------------\n"
          ]
        },
        {
          "output_type": "stream",
          "name": "stderr",
          "text": [
            " 75% (1500 of 2000) |###############     | Elapsed Time: 0:14:05 ETA:   0:02:18"
          ]
        },
        {
          "output_type": "stream",
          "name": "stdout",
          "text": [
            "\n",
            "Testing:\n"
          ]
        },
        {
          "output_type": "stream",
          "name": "stderr",
          "text": [
            "100% (500 of 500) |######################| Elapsed Time: 0:01:57 ETA:  00:00:00"
          ]
        },
        {
          "output_type": "stream",
          "name": "stdout",
          "text": [
            "\n",
            "Total test loss:  2.917992992401123\n",
            "--------------------------------------------------\n"
          ]
        },
        {
          "output_type": "stream",
          "name": "stderr",
          "text": [
            "100% (2000 of 2000) |####################| Elapsed Time: 0:19:31 ETA:  00:00:00"
          ]
        },
        {
          "output_type": "stream",
          "name": "stdout",
          "text": [
            "\n",
            "Testing:\n"
          ]
        },
        {
          "output_type": "stream",
          "name": "stderr",
          "text": [
            "100% (500 of 500) |######################| Elapsed Time: 0:01:59 ETA:  00:00:00"
          ]
        },
        {
          "output_type": "stream",
          "name": "stdout",
          "text": [
            "\n",
            "Total test loss:  2.9155037971735003\n",
            "--------------------------------------------------\n",
            "saving model\n"
          ]
        },
        {
          "output_type": "stream",
          "name": "stderr",
          "text": [
            "WARNING:absl:Found untraced functions such as lstm_cell_6_layer_call_fn, lstm_cell_6_layer_call_and_return_conditional_losses while saving (showing 2 of 2). These functions will not be directly callable after loading.\n"
          ]
        },
        {
          "output_type": "stream",
          "name": "stdout",
          "text": [
            "INFO:tensorflow:Assets written to: models/chords/9846-Shifted_True_Lr_1e-05_EmDim_10_opt_Adam_bi_False_lstmsize_128_trainsize_2000_testsize_500_samples_per_bar8/model_Epoch10_2000.pickle/assets\n"
          ]
        },
        {
          "output_type": "stream",
          "name": "stderr",
          "text": [
            "INFO:tensorflow:Assets written to: models/chords/9846-Shifted_True_Lr_1e-05_EmDim_10_opt_Adam_bi_False_lstmsize_128_trainsize_2000_testsize_500_samples_per_bar8/model_Epoch10_2000.pickle/assets\n",
            "WARNING:absl:<keras.layers.recurrent.LSTMCell object at 0x7f600e361250> has the same name 'LSTMCell' as a built-in Keras object. Consider renaming <class 'keras.layers.recurrent.LSTMCell'> to avoid naming conflicts when loading with `tf.keras.models.load_model`. If renaming is not possible, pass the object in the `custom_objects` parameter of the load function.\n"
          ]
        },
        {
          "output_type": "display_data",
          "data": {
            "text/plain": [
              "<Figure size 432x288 with 1 Axes>"
            ],
            "image/png": "[encoded data removed]"
          },
          "metadata": {
            "needs_background": "light"
          }
        }
      ]
    },
    {
      "cell_type": "markdown",
      "source": [
        "En aquest punt hem entrenat el model amb els paràmetres especificats. El model ha tardat aproximadament dues hores a entrenar-se completament. Veiem que el train loss (en vermell) ha anat baixant fins assolir el valor aproximat de 2.6, aparentment sense sobreentrenament, ja que el valor del loss, tot i que hi ha pics, no té cap mínim i en cap moment sembla que vulgui pujar. Veiem també que el test loss s'ha quedat en aproximadament 2.9, un valor major que pel train loss, que és normal (és normal que el test predigui una mica pitjor que el train)."
      ],
      "metadata": {
        "id": "fMrReaLQvBNe"
      }
    },
    {
      "cell_type": "markdown",
      "source": [
        "##2.4 Comparació de models [2 pts]"
      ],
      "metadata": {
        "id": "CkpRym4eFnN9"
      }
    },
    {
      "cell_type": "markdown",
      "source": [
        "En aquest darrer pas compararem diferents models. A la carpeta *models/chords* trobaràs les dades (en un format similar al generat anteriorment) de l'entrenament de models similars amb altres paràmetres:\n",
        "\n",
        "1. carpeta: 2717-Shifted_True_...\n",
        "2. carpeta: 5102-Shifted_True_..."
      ],
      "metadata": {
        "id": "FhwHC5ZJF0YW"
      }
    },
    {
      "cell_type": "markdown",
      "source": [
        "2.4.1 Compara els 3 models: pintar les funcions de loss per a train i test de cada model.\n",
        "\n",
        "* Indica els paràmetres de cadascun dels 3 models (el que heu entrenat i els 2 que us hem donat)\n",
        "* Quin set de paràmetres ha donat la millor performance?\n",
        "* S'aprecia overfitting en algun dels models? Justifica la teva resposta"
      ],
      "metadata": {
        "id": "ab531tCvGhI3"
      }
    },
    {
      "cell_type": "code",
      "source": [
        "# load model settings\n",
        "my9846 = pd.read_csv('/content/drive/MyDrive/PEC3_PAC3/models/chords/9846-Shifted_True_Lr_1e-05_EmDim_10_opt_Adam_bi_False_lstmsize_128_trainsize_2000_testsize_500_samples_per_bar8/params.txt', sep=\":\", header = None, engine='python')\n",
        "upc2717 = pd.read_csv('/content/drive/MyDrive/PEC3_PAC3/models/chords/2717-Shifted_True_Lr_1e-05_EmDim_10_opt_Adam_bi_False_lstmsize_256_trainsize_2000_testsize_500_samples_per_bar8/params_0.txt', sep=\":\", header = None, engine='python')\n",
        "upc5102 = pd.read_csv('/content/drive/MyDrive/PEC3_PAC3/models/chords/5102-Shifted_True_Lr_1e-05_EmDim_10_opt_Adam_bi_False_lstmsize_256_trainsize_4000_testsize_1000_samples_per_bar8/params_0.txt', sep=\":\", header = None, engine='python')\n",
        "\n",
        "# rename columns\n",
        "my9846.columns = ['setting', '9846']\n",
        "upc2717.columns = ['setting', '2717']\n",
        "upc5102.columns = ['setting', '5102']\n",
        "\n",
        "# joins model setting to compare\n",
        "results = my9846.join(upc2717['2717']).join(upc5102['5102']).set_index(['setting'])\n",
        "results"
      ],
      "metadata": {
        "id": "vbSE5-T8FepR",
        "colab": {
          "base_uri": "https://localhost:8080/",
          "height": 426
        },
        "outputId": "62b06c0d-7c8c-4a75-fb4f-4c0a0deaa10c"
      },
      "execution_count": null,
      "outputs": [
        {
          "output_type": "execute_result",
          "data": {
            "text/plain": [
              "                     9846    2717    5102\n",
              "setting                                  \n",
              "epochs                 10      10      20\n",
              "train_set_size       2000    2000    4000\n",
              "test_set_size         500     500    1000\n",
              "lstm_size             128     256     256\n",
              "embedding_dim          10      10      10\n",
              "learning_rate       1e-05   1e-05   1e-05\n",
              "shuffle_train_set    True    True    True\n",
              "test_step             500     500    1000\n",
              "bidirectional       False   False   False\n",
              "num_chords             50      50      50\n",
              "chord_n                 3       3       3"
            ],
            "text/html": [
              "\n",
              "  <div id=\"df-4a578080-5d90-46ac-9caf-354e24948312\">\n",
              "    <div class=\"colab-df-container\">\n",
              "      <div>\n",
              "<style scoped>\n",
              "    .dataframe tbody tr th:only-of-type {\n",
              "        vertical-align: middle;\n",
              "    }\n",
              "\n",
              "    .dataframe tbody tr th {\n",
              "        vertical-align: top;\n",
              "    }\n",
              "\n",
              "    .dataframe thead th {\n",
              "        text-align: right;\n",
              "    }\n",
              "</style>\n",
              "<table border=\"1\" class=\"dataframe\">\n",
              "  <thead>\n",
              "    <tr style=\"text-align: right;\">\n",
              "      <th></th>\n",
              "      <th>9846</th>\n",
              "      <th>2717</th>\n",
              "      <th>5102</th>\n",
              "    </tr>\n",
              "    <tr>\n",
              "      <th>setting</th>\n",
              "      <th></th>\n",
              "      <th></th>\n",
              "      <th></th>\n",
              "    </tr>\n",
              "  </thead>\n",
              "  <tbody>\n",
              "    <tr>\n",
              "      <th>epochs</th>\n",
              "      <td>10</td>\n",
              "      <td>10</td>\n",
              "      <td>20</td>\n",
              "    </tr>\n",
              "    <tr>\n",
              "      <th>train_set_size</th>\n",
              "      <td>2000</td>\n",
              "      <td>2000</td>\n",
              "      <td>4000</td>\n",
              "    </tr>\n",
              "    <tr>\n",
              "      <th>test_set_size</th>\n",
              "      <td>500</td>\n",
              "      <td>500</td>\n",
              "      <td>1000</td>\n",
              "    </tr>\n",
              "    <tr>\n",
              "      <th>lstm_size</th>\n",
              "      <td>128</td>\n",
              "      <td>256</td>\n",
              "      <td>256</td>\n",
              "    </tr>\n",
              "    <tr>\n",
              "      <th>embedding_dim</th>\n",
              "      <td>10</td>\n",
              "      <td>10</td>\n",
              "      <td>10</td>\n",
              "    </tr>\n",
              "    <tr>\n",
              "      <th>learning_rate</th>\n",
              "      <td>1e-05</td>\n",
              "      <td>1e-05</td>\n",
              "      <td>1e-05</td>\n",
              "    </tr>\n",
              "    <tr>\n",
              "      <th>shuffle_train_set</th>\n",
              "      <td>True</td>\n",
              "      <td>True</td>\n",
              "      <td>True</td>\n",
              "    </tr>\n",
              "    <tr>\n",
              "      <th>test_step</th>\n",
              "      <td>500</td>\n",
              "      <td>500</td>\n",
              "      <td>1000</td>\n",
              "    </tr>\n",
              "    <tr>\n",
              "      <th>bidirectional</th>\n",
              "      <td>False</td>\n",
              "      <td>False</td>\n",
              "      <td>False</td>\n",
              "    </tr>\n",
              "    <tr>\n",
              "      <th>num_chords</th>\n",
              "      <td>50</td>\n",
              "      <td>50</td>\n",
              "      <td>50</td>\n",
              "    </tr>\n",
              "    <tr>\n",
              "      <th>chord_n</th>\n",
              "      <td>3</td>\n",
              "      <td>3</td>\n",
              "      <td>3</td>\n",
              "    </tr>\n",
              "  </tbody>\n",
              "</table>\n",
              "</div>\n",
              "      <button class=\"colab-df-convert\" onclick=\"convertToInteractive('df-4a578080-5d90-46ac-9caf-354e24948312')\"\n",
              "              title=\"Convert this dataframe to an interactive table.\"\n",
              "              style=\"display:none;\">\n",
              "        \n",
              "  <svg xmlns=\"http://www.w3.org/2000/svg\" height=\"24px\"viewBox=\"0 0 24 24\"\n",
              "       width=\"24px\">\n",
              "    <path d=\"M0 0h24v24H0V0z\" fill=\"none\"/>\n",
              "    <path d=\"M18.56 5.44l.94 2.06.94-2.06 2.06-.94-2.06-.94-.94-2.06-.94 2.06-2.06.94zm-11 1L8.5 8.5l.94-2.06 2.06-.94-2.06-.94L8.5 2.5l-.94 2.06-2.06.94zm10 10l.94 2.06.94-2.06 2.06-.94-2.06-.94-.94-2.06-.94 2.06-2.06.94z\"/><path d=\"M17.41 7.96l-1.37-1.37c-.4-.4-.92-.59-1.43-.59-.52 0-1.04.2-1.43.59L10.3 9.45l-7.72 7.72c-.78.78-.78 2.05 0 2.83L4 21.41c.39.39.9.59 1.41.59.51 0 1.02-.2 1.41-.59l7.78-7.78 2.81-2.81c.8-.78.8-2.07 0-2.86zM5.41 20L4 18.59l7.72-7.72 1.47 1.35L5.41 20z\"/>\n",
              "  </svg>\n",
              "      </button>\n",
              "      \n",
              "  <style>\n",
              "    .colab-df-container {\n",
              "      display:flex;\n",
              "      flex-wrap:wrap;\n",
              "      gap: 12px;\n",
              "    }\n",
              "\n",
              "    .colab-df-convert {\n",
              "      background-color: #E8F0FE;\n",
              "      border: none;\n",
              "      border-radius: 50%;\n",
              "      cursor: pointer;\n",
              "      display: none;\n",
              "      fill: #1967D2;\n",
              "      height: 32px;\n",
              "      padding: 0 0 0 0;\n",
              "      width: 32px;\n",
              "    }\n",
              "\n",
              "    .colab-df-convert:hover {\n",
              "      background-color: #E2EBFA;\n",
              "      box-shadow: 0px 1px 2px rgba(60, 64, 67, 0.3), 0px 1px 3px 1px rgba(60, 64, 67, 0.15);\n",
              "      fill: #174EA6;\n",
              "    }\n",
              "\n",
              "    [theme=dark] .colab-df-convert {\n",
              "      background-color: #3B4455;\n",
              "      fill: #D2E3FC;\n",
              "    }\n",
              "\n",
              "    [theme=dark] .colab-df-convert:hover {\n",
              "      background-color: #434B5C;\n",
              "      box-shadow: 0px 1px 3px 1px rgba(0, 0, 0, 0.15);\n",
              "      filter: drop-shadow(0px 1px 2px rgba(0, 0, 0, 0.3));\n",
              "      fill: #FFFFFF;\n",
              "    }\n",
              "  </style>\n",
              "\n",
              "      <script>\n",
              "        const buttonEl =\n",
              "          document.querySelector('#df-4a578080-5d90-46ac-9caf-354e24948312 button.colab-df-convert');\n",
              "        buttonEl.style.display =\n",
              "          google.colab.kernel.accessAllowed ? 'block' : 'none';\n",
              "\n",
              "        async function convertToInteractive(key) {\n",
              "          const element = document.querySelector('#df-4a578080-5d90-46ac-9caf-354e24948312');\n",
              "          const dataTable =\n",
              "            await google.colab.kernel.invokeFunction('convertToInteractive',\n",
              "                                                     [key], {});\n",
              "          if (!dataTable) return;\n",
              "\n",
              "          const docLinkHtml = 'Like what you see? Visit the ' +\n",
              "            '<a target=\"_blank\" href=https://colab.research.google.com/notebooks/data_table.ipynb>data table notebook</a>'\n",
              "            + ' to learn more about interactive tables.';\n",
              "          element.innerHTML = '';\n",
              "          dataTable['output_type'] = 'display_data';\n",
              "          await google.colab.output.renderOutput(dataTable, element);\n",
              "          const docLink = document.createElement('div');\n",
              "          docLink.innerHTML = docLinkHtml;\n",
              "          element.appendChild(docLink);\n",
              "        }\n",
              "      </script>\n",
              "    </div>\n",
              "  </div>\n",
              "  "
            ]
          },
          "metadata": {},
          "execution_count": 8
        }
      ]
    },
    {
      "cell_type": "markdown",
      "source": [
        "Observem que el model 5102 s'ha entrenat amb 4000 cançons, mentre que els altres dos només amb 2000. Igualment, el model 5102 ha estat testejat amb 1000 cançons mentre que els altres dos amb 500. El nostre model (9846) ha estat entrenat amb 128 capes de lst mentre que els altres dos amb 256. Finalment, el test_step, en el model 5102 és de 1000 i en els altres dos de 500 (és proporcional en tots tres models)."
      ],
      "metadata": {
        "id": "Rq0Kw4pxR7C8"
      }
    },
    {
      "cell_type": "code",
      "source": [
        "# load total tran losses for each model\n",
        "total_train_loss_9846 = pickle.load(open('/content/drive/MyDrive/PEC3_PAC3/models/chords/9846-Shifted_True_Lr_1e-05_EmDim_10_opt_Adam_bi_False_lstmsize_128_trainsize_2000_testsize_500_samples_per_bar8/total_train_loss_array.pickle','rb'))\n",
        "total_train_loss_2717 = pickle.load(open('/content/drive/MyDrive/PEC3_PAC3/models/chords/2717-Shifted_True_Lr_1e-05_EmDim_10_opt_Adam_bi_False_lstmsize_256_trainsize_2000_testsize_500_samples_per_bar8/total_train_loss_array.pickle','rb'))\n",
        "total_train_loss_5102 = pickle.load(open('/content/drive/MyDrive/PEC3_PAC3/models/chords/5102-Shifted_True_Lr_1e-05_EmDim_10_opt_Adam_bi_False_lstmsize_256_trainsize_4000_testsize_1000_samples_per_bar8/total_train_loss_array.pickle','rb'))\n",
        "\n",
        "# correct epochs from 2717 model\n",
        "total_train_loss_2717 = ([0.25, 0.5, 0.75, 1.0, 1.25, 1.5, 1.75, 2.0, 2.25, 2.5, 2.75, 3.0, 3.25, 3.5, 3.75, 4.0, 4.25, 4.5, 4.75, 5.0, 5.25, 5.5, 5.75, 6.0, 6.25, 6.5, 6.75, 7.0, 7.25, 7.5, 7.75, 8.0, 8.25, 8.5, 8.75, 9.0, 9.25, 9.5, 9.75, 10.0],total_train_loss_2717[1])\n",
        "\n",
        "# plot results\n",
        "plt.plot(total_train_loss_9846[0],total_train_loss_9846[1], c='red')\n",
        "plt.plot(total_train_loss_2717[0],total_train_loss_2717[1], c='blue')\n",
        "plt.plot(total_train_loss_5102[0],total_train_loss_5102[1], c='orange')"
      ],
      "metadata": {
        "colab": {
          "base_uri": "https://localhost:8080/",
          "height": 282
        },
        "id": "0Z46ImEySjNM",
        "outputId": "bcfbc967-ddd9-42bf-f7e9-1a6229b079ad"
      },
      "execution_count": null,
      "outputs": [
        {
          "output_type": "execute_result",
          "data": {
            "text/plain": [
              "[<matplotlib.lines.Line2D at 0x7ff4a2c8f310>]"
            ]
          },
          "metadata": {},
          "execution_count": 9
        },
        {
          "output_type": "display_data",
          "data": {
            "text/plain": [
              "<Figure size 432x288 with 1 Axes>"
            ],
            "image/png": "[encoded data removed]"
          },
          "metadata": {
            "needs_background": "light"
          }
        }
      ]
    },
    {
      "cell_type": "markdown",
      "source": [
        "Veiem que el model entrenat amb millor loss al final de l'entrenament és el 5102. Això és lògic perque el model s'ha entrenat amb el doble de cançons que en el model 2717, i respecte al model 9846 (el d'aquesta pràctica) no només amb el doble de cançons sinó amb el doble de capes de lstm. A més sembla que el loss del model 5102 baixa de manera més homogènia, sense tants pics com ens els models 2717 i 9846."
      ],
      "metadata": {
        "id": "TpF1ivo7WUpZ"
      }
    },
    {
      "cell_type": "code",
      "source": [
        "# load total test losses for each model\n",
        "total_test_loss_9846 = pickle.load(open('/content/drive/MyDrive/PEC3_PAC3/models/chords/9846-Shifted_True_Lr_1e-05_EmDim_10_opt_Adam_bi_False_lstmsize_128_trainsize_2000_testsize_500_samples_per_bar8/total_test_loss_array.pickle','rb'))\n",
        "total_test_loss_2717 = pickle.load(open('/content/drive/MyDrive/PEC3_PAC3/models/chords/2717-Shifted_True_Lr_1e-05_EmDim_10_opt_Adam_bi_False_lstmsize_256_trainsize_2000_testsize_500_samples_per_bar8/total_test_loss_array.pickle','rb'))\n",
        "total_test_loss_5102 = pickle.load(open('/content/drive/MyDrive/PEC3_PAC3/models/chords/5102-Shifted_True_Lr_1e-05_EmDim_10_opt_Adam_bi_False_lstmsize_256_trainsize_4000_testsize_1000_samples_per_bar8/total_test_loss_array.pickle','rb'),encoding='latin-1')\n",
        "\n",
        "# correct epochs from model 2171\n",
        "total_test_loss_2717 = ([0.25, 0.5, 0.75, 1.0, 1.25, 1.5, 1.75, 2.0, 2.25, 2.5, 2.75, 3.0, 3.25, 3.5, 3.75, 4.0, 4.25, 4.5, 4.75, 5.0, 5.25, 5.5, 5.75, 6.0, 6.25, 6.5, 6.75, 7.0, 7.25, 7.5, 7.75, 8.0, 8.25, 8.5, 8.75, 9.0, 9.25, 9.5, 9.75, 10.0],total_test_loss_2717[1])\n",
        "\n",
        "# plot values\n",
        "plt.plot(total_test_loss_9846[0],total_test_loss_9846[1], c='red')\n",
        "plt.plot(total_test_loss_2717[0],total_test_loss_2717[1], c='blue')\n",
        "plt.plot(total_test_loss_5102[0],total_test_loss_5102[1], c='orange')"
      ],
      "metadata": {
        "colab": {
          "base_uri": "https://localhost:8080/",
          "height": 282
        },
        "id": "ozvf4OHWXAUc",
        "outputId": "b07a7735-a969-4fa0-894c-46cf4df5a556"
      },
      "execution_count": null,
      "outputs": [
        {
          "output_type": "execute_result",
          "data": {
            "text/plain": [
              "[<matplotlib.lines.Line2D at 0x7ff4a274f110>]"
            ]
          },
          "metadata": {},
          "execution_count": 10
        },
        {
          "output_type": "display_data",
          "data": {
            "text/plain": [
              "<Figure size 432x288 with 1 Axes>"
            ],
            "image/png": "[encoded data removed]"
          },
          "metadata": {
            "needs_background": "light"
          }
        }
      ]
    },
    {
      "cell_type": "markdown",
      "source": [
        "Observem que el loss del test set del model 5102 te el valor mínim dels tres models, tant en el test com en el train. Però és en el test on veiem que el model 5102 es diferencia més respecte als altres dos models, assolint un loss de menys de 2.7.\n",
        "No observem overfitting en cap dels tres models. Amb un model amb overfitting, la gràfica del loss va baixant però arriba un moment que remonta. Generalment també podem veure que la performance del train set va millorant i en canvi la del test set empitjora, i això no passa en cap dels tres casos."
      ],
      "metadata": {
        "id": "VTEyWW5pYunA"
      }
    },
    {
      "cell_type": "markdown",
      "source": [
        "# 3 Anàlisi de la capa d'embedding [2 pts]"
      ],
      "metadata": {
        "id": "kEWwrLqnIhlz"
      }
    },
    {
      "cell_type": "markdown",
      "source": [
        "En aquesta secció recrearem la figura 8 de l'article amb la xarxa que hem entrenat i la que millor performance ens ha donat a la comparació."
      ],
      "metadata": {
        "id": "H01zsudCIuTg"
      }
    },
    {
      "cell_type": "code",
      "source": [
        "from keras.models import load_model\n",
        "import keras\n",
        "from keras import backend as K"
      ],
      "metadata": {
        "id": "jn_xE9QDJoMz"
      },
      "execution_count": 9,
      "outputs": []
    },
    {
      "cell_type": "markdown",
      "source": [
        "## 3.1 Càrrega de models entrenats i generació d'embeddings [1 pts]"
      ],
      "metadata": {
        "id": "p0wEHRWAJ-ni"
      }
    },
    {
      "cell_type": "markdown",
      "source": [
        "3.1.1 Utilitza el *load_model* de **keras** per carregar:\n",
        "* el model que hem entrenat: *my_model*\n",
        "* el model amb millor performance: *bp_model*"
      ],
      "metadata": {
        "id": "GVFaCsSrKHLj"
      }
    },
    {
      "cell_type": "code",
      "source": [
        "# load original models\n",
        "my_model = load_model('/content/drive/MyDrive/PEC3_PAC3/models/chords/9846-Shifted_True_Lr_1e-05_EmDim_10_opt_Adam_bi_False_lstmsize_128_trainsize_2000_testsize_500_samples_per_bar8/model_Epoch10_2000.pickle/')\n",
        "bp_model = load_model('/content/drive/MyDrive/PEC3_PAC3/models/chords/5102-Shifted_True_Lr_1e-05_EmDim_10_opt_Adam_bi_False_lstmsize_256_trainsize_4000_testsize_1000_samples_per_bar8/model_Epoch14_4000.pickle/')"
      ],
      "metadata": {
        "id": "dm7MVOCjFs1Y"
      },
      "execution_count": 10,
      "outputs": []
    },
    {
      "cell_type": "markdown",
      "source": [
        "3.1.2 Ara crearem, per a cada model, un nou model per als embeddings. Per fer això, hauràs de crear un model l'entrada del qual sigui igual a l'entrada dels models originals i la sortida sigui el layer embedding. Això ho pots fer usant la funció *get_layer()* del model."
      ],
      "metadata": {
        "id": "LvTrSPKTLxUO"
      }
    },
    {
      "cell_type": "code",
      "source": [
        "# get embedding layer from each model\n",
        "my_model_embedding = my_model.get_layer('embedding')\n",
        "bp_model_embedding = bp_model.get_layer('embedding')"
      ],
      "metadata": {
        "id": "H0elDKraFtjS"
      },
      "execution_count": 11,
      "outputs": []
    },
    {
      "cell_type": "markdown",
      "source": [
        "3.1.3 El model d'embedding rep un acord i torna un vector de 10 dimensions amb l'embedding per a cada acord. Calculeu aquests vectors amb cadascun dels models d'embedding"
      ],
      "metadata": {
        "id": "GVXc-FhGNfoP"
      }
    },
    {
      "cell_type": "code",
      "source": [
        "# retrieve vectors via prediction, and store them into my_prediction array\n",
        "my_prediction = []\n",
        "for i in range (0,50):\n",
        "  my_prediction.append(my_model_embedding(i))\n",
        "\n",
        "# another way to get the vectors is through the function get_weights()\n",
        "bp_prediction = bp_model_embedding.get_weights()\n"
      ],
      "metadata": {
        "id": "J1LhtmadFuu1"
      },
      "execution_count": 12,
      "outputs": []
    },
    {
      "cell_type": "markdown",
      "source": [
        "3.1.4 Aplica un squeeze per eliminar els eixos de dimensió 1. El resultat d'aquest squeeze hauria de ser (50,10)"
      ],
      "metadata": {
        "id": "D33AZTgmO9u1"
      }
    },
    {
      "cell_type": "code",
      "source": [
        "# apply squeeze to the vectors\n",
        "my_model_vector = np.squeeze(my_prediction)\n",
        "bp_model_vector = np.squeeze(bp_prediction)\n",
        "print('my_model_vector shape: ',my_model_vector.shape)\n",
        "print('bp_model_vector shape: ',bp_model_vector.shape)"
      ],
      "metadata": {
        "id": "_zRYJCdgFv75",
        "colab": {
          "base_uri": "https://localhost:8080/"
        },
        "outputId": "d34a5915-f8cc-4bd4-e6d2-30e31e161df4"
      },
      "execution_count": 13,
      "outputs": [
        {
          "output_type": "stream",
          "name": "stdout",
          "text": [
            "my_model_vector shape:  (50, 10)\n",
            "bp_model_vector shape:  (50, 10)\n"
          ]
        }
      ]
    },
    {
      "cell_type": "markdown",
      "source": [
        "## 3.2 Anàlisi PCA [1 pts]"
      ],
      "metadata": {
        "id": "_hQcmzeIPtrG"
      }
    },
    {
      "cell_type": "markdown",
      "source": [
        "Per acabar amb la nostra anàlisi dels embeddings, farem un procés de PCA per reduir les dimensions dels vectors resultants i poder pintar-los en 2D."
      ],
      "metadata": {
        "id": "2vMTJ8nRbmMe"
      }
    },
    {
      "cell_type": "code",
      "source": [
        "from sklearn.preprocessing import StandardScaler\n",
        "from sklearn.decomposition import PCA"
      ],
      "metadata": {
        "id": "l9ROxo-lP-OY"
      },
      "execution_count": 14,
      "outputs": []
    },
    {
      "cell_type": "markdown",
      "source": [
        "3.2.1 Escalar els vectors i aplicar PCA per reduir a 2 les dimensions"
      ],
      "metadata": {
        "id": "0qcipt5oP74r"
      }
    },
    {
      "cell_type": "code",
      "source": [
        "# Standarize and apply PCA to my_model vectors\n",
        "pca_my_model = PCA(n_components=2)\n",
        "x_my_std = StandardScaler().fit_transform(my_model_vector)\n",
        "my_model_components = pca_my_model.fit_transform(x_my_std)\n",
        "\n",
        "# Standarize and apply PCA to bp_model vectors\n",
        "pca_bp_model = PCA(n_components=2)\n",
        "x_bp_std = StandardScaler().fit_transform(bp_model_vector)\n",
        "bp_model_components = pca_bp_model.fit_transform(x_bp_std)"
      ],
      "metadata": {
        "id": "Wqbg0L0qF0Bb"
      },
      "execution_count": 15,
      "outputs": []
    },
    {
      "cell_type": "markdown",
      "source": [
        "3.2.2 Pintar per a tots dos embeddings els vectors en un scatterplot. Afegeix anotacions amb les notes de l'acord i comenta el resultat: Observes l'efecte word2vect a les gràfiques?"
      ],
      "metadata": {
        "id": "Pj4FLd8DaLsF"
      }
    },
    {
      "cell_type": "markdown",
      "source": [
        "Fes servir aquesta funció per obtenir un índex per als acords i les seves notes"
      ],
      "metadata": {
        "id": "lJDmLqpebnkI"
      }
    },
    {
      "cell_type": "code",
      "source": [
        "def get_chord_dict():\n",
        "    chord_to_index = pickle.load(open(dict_path + chord_dict_name, 'rb'))\n",
        "    index_to_chord = pickle.load(open(dict_path + index_dict_name, 'rb'))\n",
        "    return chord_to_index, index_to_chord\n",
        "\n",
        "chord_to_index, idx_2_chord = get_chord_dict()"
      ],
      "metadata": {
        "id": "IV42yXwPJxGu"
      },
      "execution_count": 16,
      "outputs": []
    },
    {
      "cell_type": "code",
      "source": [
        "def get_chord_dict():\n",
        "    chord_to_index = pickle.load(open(dict_path + chord_dict_name, 'rb'))\n",
        "    index_to_chord = pickle.load(open(dict_path + index_dict_name, 'rb'))\n",
        "    return chord_to_index, index_to_chord\n",
        "\n",
        "chord_to_index, idx_2_chord = get_chord_dict()\n",
        "\n",
        "# function to plot pca results\n",
        "def plot_pca(chords,title):\n",
        "  \n",
        "  fig, ax = plt.subplots()\n",
        "  fig.set_size_inches(8, 6)\n",
        "  ax.set_title(title)\n",
        "\n",
        "  plt.tick_params(labelsize=12)\n",
        "  \n",
        "  style = dict(size=12, color='black')\n",
        "\n",
        "  for i in range(0,len(idx_2_chord)):\n",
        "    try:\n",
        "      ax.text(-chords[i,0]-0.32,chords[i,1]+0.11, chord_to_index[idx_2_chord[i]],**style)\n",
        "      ax.scatter(-chords[i,0],chords[i,1], c=\"blue\", marker=\"*\")\n",
        "      \n",
        "    except:\n",
        "      pass\n",
        "\n",
        "  plt.show()\n",
        "\n",
        "# plot my_model PCA components\n",
        "plot_pca(my_model_components,'my_model PCA components')\n",
        "# plot bp_model PCA components\n",
        "plot_pca(bp_model_components,'bp_model PCA components')"
      ],
      "metadata": {
        "id": "GP_VY9AlF3bF",
        "colab": {
          "base_uri": "https://localhost:8080/",
          "height": 769
        },
        "outputId": "48fb0309-2d90-4e20-a914-8e3b30d867ca"
      },
      "execution_count": 17,
      "outputs": [
        {
          "output_type": "display_data",
          "data": {
            "text/plain": [
              "<Figure size 576x432 with 1 Axes>"
            ],
            "image/png": "[encoded data removed]"
          },
          "metadata": {
            "needs_background": "light"
          }
        },
        {
          "output_type": "display_data",
          "data": {
            "text/plain": [
              "<Figure size 576x432 with 1 Axes>"
            ],
            "image/png": "[encoded data removed]"
          },
          "metadata": {
            "needs_background": "light"
          }
        }
      ]
    },
    {
      "cell_type": "markdown",
      "source": [
        "L'efecte Word2vec el podem veure observant que un cop tenim les dimensions reduïdes, veiem agrupacions d'acords, és a dir, acords que estan més propers els uns als altres i que, per tant, podem dir que són similars, o que almenys es té tendència a tocar junts a les cançons. Observem en canvi acords que queden allunyats de qualsevol grup, que podrien ser acords reslment estranys de trobar en alguna cançó."
      ],
      "metadata": {
        "id": "DmC2Xd_HLGoM"
      }
    },
    {
      "cell_type": "markdown",
      "source": [
        "3.2.3 Crea una funció per calcular totes les distàncies entre els primers 20 acords. Després fes una llista amb les 10 distàncies mínimes per a tots dos models. Estan relacionats aquests acords amb distàncies mínimes?"
      ],
      "metadata": {
        "id": "4TLRoLomVjzP"
      }
    },
    {
      "cell_type": "code",
      "source": [
        "# function to calculate distances\n",
        "def distance (vector, to_range=20):\n",
        "\n",
        "  # set coordinates x and y\n",
        "  x = np.array([pt[0] for pt in vector[:to_range]])\n",
        "  y = np.array([pt[1] for pt in vector[:to_range]])\n",
        "\n",
        "  # calculate distance matrix\n",
        "  dist_matrix = np.sqrt(np.square(x - x.reshape(-1,1)) + np.square(y - y.reshape(-1,1)))\n",
        "\n",
        "  # keep only upper triangular part of the matrix, to avoid duplicates\n",
        "  dist_matrix = np.triu(dist_matrix)\n",
        "\n",
        "  # convert distance matrix to pandas for convenience\n",
        "  dist_matrix = pd.DataFrame(dist_matrix)\n",
        "\n",
        "  # substitute 0 for nan\n",
        "  dist_matrix.replace(0, np.nan, inplace=True)\n",
        "\n",
        "  # initialize array of distances\n",
        "  min_dist_pairs = dist_matrix.stack().sort_values().reset_index().iloc[:, [2,0,1]].values.tolist()\n",
        "\n",
        "  return pd.DataFrame(min_dist_pairs)\n",
        "\n",
        "print(\"10 min distances of my_model:\")\n",
        "distance(my_model_vector).head(10)"
      ],
      "metadata": {
        "id": "NlAoTM6NF6Dz",
        "colab": {
          "base_uri": "https://localhost:8080/",
          "height": 380
        },
        "outputId": "787934b8-5f8e-40b8-afb5-67602d8c052a"
      },
      "execution_count": 20,
      "outputs": [
        {
          "output_type": "stream",
          "name": "stdout",
          "text": [
            "10 min distances of my_model:\n"
          ]
        },
        {
          "output_type": "execute_result",
          "data": {
            "text/plain": [
              "          0     1     2\n",
              "0  0.027744  10.0  17.0\n",
              "1  0.050455   3.0   6.0\n",
              "2  0.058953   4.0   8.0\n",
              "3  0.059094  10.0  11.0\n",
              "4  0.069739  12.0  17.0\n",
              "5  0.077597   9.0  13.0\n",
              "6  0.078141  10.0  12.0\n",
              "7  0.083537  11.0  17.0\n",
              "8  0.091446   4.0  13.0\n",
              "9  0.100075  13.0  19.0"
            ],
            "text/html": [
              "\n",
              "  <div id=\"df-a095555c-9ecd-47df-8f87-1d0b07426dd9\">\n",
              "    <div class=\"colab-df-container\">\n",
              "      <div>\n",
              "<style scoped>\n",
              "    .dataframe tbody tr th:only-of-type {\n",
              "        vertical-align: middle;\n",
              "    }\n",
              "\n",
              "    .dataframe tbody tr th {\n",
              "        vertical-align: top;\n",
              "    }\n",
              "\n",
              "    .dataframe thead th {\n",
              "        text-align: right;\n",
              "    }\n",
              "</style>\n",
              "<table border=\"1\" class=\"dataframe\">\n",
              "  <thead>\n",
              "    <tr style=\"text-align: right;\">\n",
              "      <th></th>\n",
              "      <th>0</th>\n",
              "      <th>1</th>\n",
              "      <th>2</th>\n",
              "    </tr>\n",
              "  </thead>\n",
              "  <tbody>\n",
              "    <tr>\n",
              "      <th>0</th>\n",
              "      <td>0.027744</td>\n",
              "      <td>10.0</td>\n",
              "      <td>17.0</td>\n",
              "    </tr>\n",
              "    <tr>\n",
              "      <th>1</th>\n",
              "      <td>0.050455</td>\n",
              "      <td>3.0</td>\n",
              "      <td>6.0</td>\n",
              "    </tr>\n",
              "    <tr>\n",
              "      <th>2</th>\n",
              "      <td>0.058953</td>\n",
              "      <td>4.0</td>\n",
              "      <td>8.0</td>\n",
              "    </tr>\n",
              "    <tr>\n",
              "      <th>3</th>\n",
              "      <td>0.059094</td>\n",
              "      <td>10.0</td>\n",
              "      <td>11.0</td>\n",
              "    </tr>\n",
              "    <tr>\n",
              "      <th>4</th>\n",
              "      <td>0.069739</td>\n",
              "      <td>12.0</td>\n",
              "      <td>17.0</td>\n",
              "    </tr>\n",
              "    <tr>\n",
              "      <th>5</th>\n",
              "      <td>0.077597</td>\n",
              "      <td>9.0</td>\n",
              "      <td>13.0</td>\n",
              "    </tr>\n",
              "    <tr>\n",
              "      <th>6</th>\n",
              "      <td>0.078141</td>\n",
              "      <td>10.0</td>\n",
              "      <td>12.0</td>\n",
              "    </tr>\n",
              "    <tr>\n",
              "      <th>7</th>\n",
              "      <td>0.083537</td>\n",
              "      <td>11.0</td>\n",
              "      <td>17.0</td>\n",
              "    </tr>\n",
              "    <tr>\n",
              "      <th>8</th>\n",
              "      <td>0.091446</td>\n",
              "      <td>4.0</td>\n",
              "      <td>13.0</td>\n",
              "    </tr>\n",
              "    <tr>\n",
              "      <th>9</th>\n",
              "      <td>0.100075</td>\n",
              "      <td>13.0</td>\n",
              "      <td>19.0</td>\n",
              "    </tr>\n",
              "  </tbody>\n",
              "</table>\n",
              "</div>\n",
              "      <button class=\"colab-df-convert\" onclick=\"convertToInteractive('df-a095555c-9ecd-47df-8f87-1d0b07426dd9')\"\n",
              "              title=\"Convert this dataframe to an interactive table.\"\n",
              "              style=\"display:none;\">\n",
              "        \n",
              "  <svg xmlns=\"http://www.w3.org/2000/svg\" height=\"24px\"viewBox=\"0 0 24 24\"\n",
              "       width=\"24px\">\n",
              "    <path d=\"M0 0h24v24H0V0z\" fill=\"none\"/>\n",
              "    <path d=\"M18.56 5.44l.94 2.06.94-2.06 2.06-.94-2.06-.94-.94-2.06-.94 2.06-2.06.94zm-11 1L8.5 8.5l.94-2.06 2.06-.94-2.06-.94L8.5 2.5l-.94 2.06-2.06.94zm10 10l.94 2.06.94-2.06 2.06-.94-2.06-.94-.94-2.06-.94 2.06-2.06.94z\"/><path d=\"M17.41 7.96l-1.37-1.37c-.4-.4-.92-.59-1.43-.59-.52 0-1.04.2-1.43.59L10.3 9.45l-7.72 7.72c-.78.78-.78 2.05 0 2.83L4 21.41c.39.39.9.59 1.41.59.51 0 1.02-.2 1.41-.59l7.78-7.78 2.81-2.81c.8-.78.8-2.07 0-2.86zM5.41 20L4 18.59l7.72-7.72 1.47 1.35L5.41 20z\"/>\n",
              "  </svg>\n",
              "      </button>\n",
              "      \n",
              "  <style>\n",
              "    .colab-df-container {\n",
              "      display:flex;\n",
              "      flex-wrap:wrap;\n",
              "      gap: 12px;\n",
              "    }\n",
              "\n",
              "    .colab-df-convert {\n",
              "      background-color: #E8F0FE;\n",
              "      border: none;\n",
              "      border-radius: 50%;\n",
              "      cursor: pointer;\n",
              "      display: none;\n",
              "      fill: #1967D2;\n",
              "      height: 32px;\n",
              "      padding: 0 0 0 0;\n",
              "      width: 32px;\n",
              "    }\n",
              "\n",
              "    .colab-df-convert:hover {\n",
              "      background-color: #E2EBFA;\n",
              "      box-shadow: 0px 1px 2px rgba(60, 64, 67, 0.3), 0px 1px 3px 1px rgba(60, 64, 67, 0.15);\n",
              "      fill: #174EA6;\n",
              "    }\n",
              "\n",
              "    [theme=dark] .colab-df-convert {\n",
              "      background-color: #3B4455;\n",
              "      fill: #D2E3FC;\n",
              "    }\n",
              "\n",
              "    [theme=dark] .colab-df-convert:hover {\n",
              "      background-color: #434B5C;\n",
              "      box-shadow: 0px 1px 3px 1px rgba(0, 0, 0, 0.15);\n",
              "      filter: drop-shadow(0px 1px 2px rgba(0, 0, 0, 0.3));\n",
              "      fill: #FFFFFF;\n",
              "    }\n",
              "  </style>\n",
              "\n",
              "      <script>\n",
              "        const buttonEl =\n",
              "          document.querySelector('#df-a095555c-9ecd-47df-8f87-1d0b07426dd9 button.colab-df-convert');\n",
              "        buttonEl.style.display =\n",
              "          google.colab.kernel.accessAllowed ? 'block' : 'none';\n",
              "\n",
              "        async function convertToInteractive(key) {\n",
              "          const element = document.querySelector('#df-a095555c-9ecd-47df-8f87-1d0b07426dd9');\n",
              "          const dataTable =\n",
              "            await google.colab.kernel.invokeFunction('convertToInteractive',\n",
              "                                                     [key], {});\n",
              "          if (!dataTable) return;\n",
              "\n",
              "          const docLinkHtml = 'Like what you see? Visit the ' +\n",
              "            '<a target=\"_blank\" href=https://colab.research.google.com/notebooks/data_table.ipynb>data table notebook</a>'\n",
              "            + ' to learn more about interactive tables.';\n",
              "          element.innerHTML = '';\n",
              "          dataTable['output_type'] = 'display_data';\n",
              "          await google.colab.output.renderOutput(dataTable, element);\n",
              "          const docLink = document.createElement('div');\n",
              "          docLink.innerHTML = docLinkHtml;\n",
              "          element.appendChild(docLink);\n",
              "        }\n",
              "      </script>\n",
              "    </div>\n",
              "  </div>\n",
              "  "
            ]
          },
          "metadata": {},
          "execution_count": 20
        }
      ]
    },
    {
      "cell_type": "markdown",
      "source": [
        "De la llista del nostre model sembla que l'acord 10 té acords molt propers (el 17, el 11 i el 12). Així mateix l'acord 17 també té tres acords molt propers (el 10, el 12 i el 11) i es podria arribar a deduir que els acords 10,11,12 i 17 formen un grup d'acords molt similars."
      ],
      "metadata": {
        "id": "QxgudNkPxNyp"
      }
    },
    {
      "cell_type": "code",
      "source": [
        "print(\"10 min distances of bp_model:\")\n",
        "distance(bp_model_vector).head(10)"
      ],
      "metadata": {
        "colab": {
          "base_uri": "https://localhost:8080/",
          "height": 380
        },
        "id": "yPFWiaEAPNZT",
        "outputId": "865d73a5-52f0-4b28-a22f-5b0fc15dc244"
      },
      "execution_count": 21,
      "outputs": [
        {
          "output_type": "stream",
          "name": "stdout",
          "text": [
            "10 min distances of bp_model:\n"
          ]
        },
        {
          "output_type": "execute_result",
          "data": {
            "text/plain": [
              "          0     1     2\n",
              "0  0.049754   7.0  12.0\n",
              "1  0.054710  17.0  19.0\n",
              "2  0.057265   3.0   6.0\n",
              "3  0.077038   0.0  11.0\n",
              "4  0.091424   8.0  12.0\n",
              "5  0.135682   7.0   8.0\n",
              "6  0.166862  15.0  16.0\n",
              "7  0.167675   3.0   4.0\n",
              "8  0.168775   9.0  10.0\n",
              "9  0.170501   1.0  10.0"
            ],
            "text/html": [
              "\n",
              "  <div id=\"df-5a3675ff-bee5-49e7-b696-d1ff44df4543\">\n",
              "    <div class=\"colab-df-container\">\n",
              "      <div>\n",
              "<style scoped>\n",
              "    .dataframe tbody tr th:only-of-type {\n",
              "        vertical-align: middle;\n",
              "    }\n",
              "\n",
              "    .dataframe tbody tr th {\n",
              "        vertical-align: top;\n",
              "    }\n",
              "\n",
              "    .dataframe thead th {\n",
              "        text-align: right;\n",
              "    }\n",
              "</style>\n",
              "<table border=\"1\" class=\"dataframe\">\n",
              "  <thead>\n",
              "    <tr style=\"text-align: right;\">\n",
              "      <th></th>\n",
              "      <th>0</th>\n",
              "      <th>1</th>\n",
              "      <th>2</th>\n",
              "    </tr>\n",
              "  </thead>\n",
              "  <tbody>\n",
              "    <tr>\n",
              "      <th>0</th>\n",
              "      <td>0.049754</td>\n",
              "      <td>7.0</td>\n",
              "      <td>12.0</td>\n",
              "    </tr>\n",
              "    <tr>\n",
              "      <th>1</th>\n",
              "      <td>0.054710</td>\n",
              "      <td>17.0</td>\n",
              "      <td>19.0</td>\n",
              "    </tr>\n",
              "    <tr>\n",
              "      <th>2</th>\n",
              "      <td>0.057265</td>\n",
              "      <td>3.0</td>\n",
              "      <td>6.0</td>\n",
              "    </tr>\n",
              "    <tr>\n",
              "      <th>3</th>\n",
              "      <td>0.077038</td>\n",
              "      <td>0.0</td>\n",
              "      <td>11.0</td>\n",
              "    </tr>\n",
              "    <tr>\n",
              "      <th>4</th>\n",
              "      <td>0.091424</td>\n",
              "      <td>8.0</td>\n",
              "      <td>12.0</td>\n",
              "    </tr>\n",
              "    <tr>\n",
              "      <th>5</th>\n",
              "      <td>0.135682</td>\n",
              "      <td>7.0</td>\n",
              "      <td>8.0</td>\n",
              "    </tr>\n",
              "    <tr>\n",
              "      <th>6</th>\n",
              "      <td>0.166862</td>\n",
              "      <td>15.0</td>\n",
              "      <td>16.0</td>\n",
              "    </tr>\n",
              "    <tr>\n",
              "      <th>7</th>\n",
              "      <td>0.167675</td>\n",
              "      <td>3.0</td>\n",
              "      <td>4.0</td>\n",
              "    </tr>\n",
              "    <tr>\n",
              "      <th>8</th>\n",
              "      <td>0.168775</td>\n",
              "      <td>9.0</td>\n",
              "      <td>10.0</td>\n",
              "    </tr>\n",
              "    <tr>\n",
              "      <th>9</th>\n",
              "      <td>0.170501</td>\n",
              "      <td>1.0</td>\n",
              "      <td>10.0</td>\n",
              "    </tr>\n",
              "  </tbody>\n",
              "</table>\n",
              "</div>\n",
              "      <button class=\"colab-df-convert\" onclick=\"convertToInteractive('df-5a3675ff-bee5-49e7-b696-d1ff44df4543')\"\n",
              "              title=\"Convert this dataframe to an interactive table.\"\n",
              "              style=\"display:none;\">\n",
              "        \n",
              "  <svg xmlns=\"http://www.w3.org/2000/svg\" height=\"24px\"viewBox=\"0 0 24 24\"\n",
              "       width=\"24px\">\n",
              "    <path d=\"M0 0h24v24H0V0z\" fill=\"none\"/>\n",
              "    <path d=\"M18.56 5.44l.94 2.06.94-2.06 2.06-.94-2.06-.94-.94-2.06-.94 2.06-2.06.94zm-11 1L8.5 8.5l.94-2.06 2.06-.94-2.06-.94L8.5 2.5l-.94 2.06-2.06.94zm10 10l.94 2.06.94-2.06 2.06-.94-2.06-.94-.94-2.06-.94 2.06-2.06.94z\"/><path d=\"M17.41 7.96l-1.37-1.37c-.4-.4-.92-.59-1.43-.59-.52 0-1.04.2-1.43.59L10.3 9.45l-7.72 7.72c-.78.78-.78 2.05 0 2.83L4 21.41c.39.39.9.59 1.41.59.51 0 1.02-.2 1.41-.59l7.78-7.78 2.81-2.81c.8-.78.8-2.07 0-2.86zM5.41 20L4 18.59l7.72-7.72 1.47 1.35L5.41 20z\"/>\n",
              "  </svg>\n",
              "      </button>\n",
              "      \n",
              "  <style>\n",
              "    .colab-df-container {\n",
              "      display:flex;\n",
              "      flex-wrap:wrap;\n",
              "      gap: 12px;\n",
              "    }\n",
              "\n",
              "    .colab-df-convert {\n",
              "      background-color: #E8F0FE;\n",
              "      border: none;\n",
              "      border-radius: 50%;\n",
              "      cursor: pointer;\n",
              "      display: none;\n",
              "      fill: #1967D2;\n",
              "      height: 32px;\n",
              "      padding: 0 0 0 0;\n",
              "      width: 32px;\n",
              "    }\n",
              "\n",
              "    .colab-df-convert:hover {\n",
              "      background-color: #E2EBFA;\n",
              "      box-shadow: 0px 1px 2px rgba(60, 64, 67, 0.3), 0px 1px 3px 1px rgba(60, 64, 67, 0.15);\n",
              "      fill: #174EA6;\n",
              "    }\n",
              "\n",
              "    [theme=dark] .colab-df-convert {\n",
              "      background-color: #3B4455;\n",
              "      fill: #D2E3FC;\n",
              "    }\n",
              "\n",
              "    [theme=dark] .colab-df-convert:hover {\n",
              "      background-color: #434B5C;\n",
              "      box-shadow: 0px 1px 3px 1px rgba(0, 0, 0, 0.15);\n",
              "      filter: drop-shadow(0px 1px 2px rgba(0, 0, 0, 0.3));\n",
              "      fill: #FFFFFF;\n",
              "    }\n",
              "  </style>\n",
              "\n",
              "      <script>\n",
              "        const buttonEl =\n",
              "          document.querySelector('#df-5a3675ff-bee5-49e7-b696-d1ff44df4543 button.colab-df-convert');\n",
              "        buttonEl.style.display =\n",
              "          google.colab.kernel.accessAllowed ? 'block' : 'none';\n",
              "\n",
              "        async function convertToInteractive(key) {\n",
              "          const element = document.querySelector('#df-5a3675ff-bee5-49e7-b696-d1ff44df4543');\n",
              "          const dataTable =\n",
              "            await google.colab.kernel.invokeFunction('convertToInteractive',\n",
              "                                                     [key], {});\n",
              "          if (!dataTable) return;\n",
              "\n",
              "          const docLinkHtml = 'Like what you see? Visit the ' +\n",
              "            '<a target=\"_blank\" href=https://colab.research.google.com/notebooks/data_table.ipynb>data table notebook</a>'\n",
              "            + ' to learn more about interactive tables.';\n",
              "          element.innerHTML = '';\n",
              "          dataTable['output_type'] = 'display_data';\n",
              "          await google.colab.output.renderOutput(dataTable, element);\n",
              "          const docLink = document.createElement('div');\n",
              "          docLink.innerHTML = docLinkHtml;\n",
              "          element.appendChild(docLink);\n",
              "        }\n",
              "      </script>\n",
              "    </div>\n",
              "  </div>\n",
              "  "
            ]
          },
          "metadata": {},
          "execution_count": 21
        }
      ]
    },
    {
      "cell_type": "markdown",
      "source": [
        "En el model entrenat obsrevem que aquestes relacions canvien i per bé que hi ha acords amb algunes parelles amb distància mínima, no es detecten un grup de 4 acords com en el nostre model entrenat."
      ],
      "metadata": {
        "id": "xzkM9fg9xxFu"
      }
    },
    {
      "cell_type": "markdown",
      "source": [
        "#4. Roda de 5tes (Bonus Track) [0.5 pts]"
      ],
      "metadata": {
        "id": "PKXh0-X3mg70"
      }
    },
    {
      "cell_type": "markdown",
      "source": [
        "En aquest bonus track, i usant el mateix que has fet servir per als apartats anteriors, podràs dibuixar la roda de cinquenes amb dades entrenades sobre la mateixa base de dades, però no fer el shifteig dels acords."
      ],
      "metadata": {
        "id": "m3Ymmh_imljH"
      }
    },
    {
      "cell_type": "markdown",
      "source": [
        "Fes servir les dades que trobaràs a la carpeta *models/chords/9671-Shifted_False...* per repetir el procés de l'anàlisi de PCA"
      ],
      "metadata": {
        "id": "OyesH52p0QDZ"
      }
    },
    {
      "cell_type": "markdown",
      "source": [
        "un cop tens els vectors, utilitza les següents funcions per dibuixar la roda de cinquenes"
      ],
      "metadata": {
        "id": "ejP3t2sautBj"
      }
    },
    {
      "cell_type": "code",
      "source": [
        "def get_chord_dict_no_shifted():\n",
        "    chord_to_index = pickle.load(open('data/chord_dict.pickle', 'rb'))\n",
        "    index_to_chord = pickle.load(open('data/index_dict.pickle', 'rb'))\n",
        "    return chord_to_index, index_to_chord\n",
        "\n",
        "chord_to_index_, idx_2_chord_ = get_chord_dict_no_shifted()"
      ],
      "metadata": {
        "id": "_7ZU_OXZnxqX"
      },
      "execution_count": 22,
      "outputs": []
    },
    {
      "cell_type": "code",
      "source": [
        "ddd={tuple((0,4,7)):'C',\n",
        "tuple((1,5,8)):'C#',\n",
        "tuple((2,6,9)):'D',\n",
        "tuple((3,7,10)):'D#',\n",
        "tuple((4,8,11)):'E',\n",
        "tuple((0,5,9)):'F',\n",
        "tuple((1,6,10)):'F#',\n",
        "tuple((2,7,11)):'G',\n",
        "tuple((0,3,8)):'G#',\n",
        "tuple((1,4,9)):'A',\n",
        "tuple((2,5,10)):'A#',\n",
        "tuple((3,6,11)):'B'}\n",
        "\n",
        "\n",
        "def plot_5th_circle(X_chords_2d):\n",
        "  \n",
        "  fig, ax = plt.subplots()\n",
        "  fig.set_size_inches(8, 6)\n",
        "\n",
        "  plt.tick_params(labelsize=12)\n",
        "  \n",
        "  style = dict(size=12, color='black')\n",
        "\n",
        "  for i in range(0,len(idx_2_chord_)):\n",
        "    try:\n",
        "      ax.text(-X_chords_2d[i,0]-0.32,X_chords_2d[i,1]+0.11, ddd[idx_2_chord_[i]],**style)\n",
        "      ax.scatter(-X_chords_2d[i,0],X_chords_2d[i,1], c=\"blue\", marker=\"*\")\n",
        "      \n",
        "    except:\n",
        "      pass\n",
        "\n",
        "  plt.show()"
      ],
      "metadata": {
        "id": "oTiU7UWtpnL2"
      },
      "execution_count": 23,
      "outputs": []
    },
    {
      "cell_type": "code",
      "source": [
        "# load model\n",
        "ns_model = load_model('/content/drive/MyDrive/PEC3_PAC3/models/chords/9671-Shifted_False_Lr_1.5e-05_EmDim_10_opt_Adam_bi_False_lstmsize_256_trainsize_4000_testsize_1000_samples_per_bar8/model_Epoch8_4000.pickle/')"
      ],
      "metadata": {
        "id": "R85stbRIhuqw"
      },
      "execution_count": 24,
      "outputs": []
    },
    {
      "cell_type": "code",
      "source": [
        "# get embedding layer\n",
        "ns_model_embedding = ns_model.get_layer('embedding')\n",
        "\n",
        "# generate vectors\n",
        "ns_prediction = []\n",
        "for i in range (0,50):\n",
        "  ns_prediction.append(ns_model_embedding(i))\n",
        "\n",
        "# squeeze vectors\n",
        "ns_model_vector = np.squeeze(ns_prediction)\n",
        "\n",
        "# reduce dimensioning with PCA\n",
        "pca_ns_model = PCA(n_components=2)\n",
        "x_ns_std = StandardScaler().fit_transform(ns_model_vector)\n",
        "ns_model_components = pca_ns_model.fit_transform(x_ns_std)"
      ],
      "metadata": {
        "id": "FOsGeP47gy1k"
      },
      "execution_count": 25,
      "outputs": []
    },
    {
      "cell_type": "code",
      "source": [
        "# plot 5th circle\n",
        "plot_5th_circle(ns_model_components) #pasa los vectores luego del análisis de PCA"
      ],
      "metadata": {
        "id": "mGBGU7LruOes",
        "colab": {
          "base_uri": "https://localhost:8080/",
          "height": 377
        },
        "outputId": "95c25dd0-2443-43dc-be65-d087ce249784"
      },
      "execution_count": 26,
      "outputs": [
        {
          "output_type": "display_data",
          "data": {
            "text/plain": [
              "<Figure size 576x432 with 1 Axes>"
            ],
            "image/png": "[encoded data removed]"
          },
          "metadata": {
            "needs_background": "light"
          }
        }
      ]
    },
    {
      "cell_type": "markdown",
      "source": [
        "Observem com amb el model amb dades entrenades sense el shifteig d'acords veiem clarament la roda de cinquenes. Tot i que el cercle no és perfecte sí que s'intueix una forma circular de la disposició dels acords."
      ],
      "metadata": {
        "id": "rb54pNFJyUNZ"
      }
    }
  ]
}