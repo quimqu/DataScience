{
 "cells": [
  {
   "cell_type": "markdown",
   "id": "ae97d8ed",
   "metadata": {
    "papermill": {
     "duration": 0.007033,
     "end_time": "2023-06-13T20:30:03.537720",
     "exception": false,
     "start_time": "2023-06-13T20:30:03.530687",
     "status": "completed"
    },
    "tags": []
   },
   "source": [
    "### Imports"
   ]
  },
  {
   "cell_type": "code",
   "execution_count": 1,
   "id": "84910735",
   "metadata": {
    "execution": {
     "iopub.execute_input": "2023-06-13T20:30:03.552964Z",
     "iopub.status.busy": "2023-06-13T20:30:03.552146Z",
     "iopub.status.idle": "2023-06-13T20:30:08.956811Z",
     "shell.execute_reply": "2023-06-13T20:30:08.955230Z"
    },
    "papermill": {
     "duration": 5.416685,
     "end_time": "2023-06-13T20:30:08.960984",
     "exception": false,
     "start_time": "2023-06-13T20:30:03.544299",
     "status": "completed"
    },
    "tags": []
   },
   "outputs": [
    {
     "data": {
      "text/html": [
       "<style type='text/css'>\n",
       ".datatable table.frame { margin-bottom: 0; }\n",
       ".datatable table.frame thead { border-bottom: none; }\n",
       ".datatable table.frame tr.coltypes td {  color: #FFFFFF;  line-height: 6px;  padding: 0 0.5em;}\n",
       ".datatable .bool    { background: #DDDD99; }\n",
       ".datatable .object  { background: #565656; }\n",
       ".datatable .int     { background: #5D9E5D; }\n",
       ".datatable .float   { background: #4040CC; }\n",
       ".datatable .str     { background: #CC4040; }\n",
       ".datatable .time    { background: #40CC40; }\n",
       ".datatable .row_index {  background: var(--jp-border-color3);  border-right: 1px solid var(--jp-border-color0);  color: var(--jp-ui-font-color3);  font-size: 9px;}\n",
       ".datatable .frame tbody td { text-align: left; }\n",
       ".datatable .frame tr.coltypes .row_index {  background: var(--jp-border-color0);}\n",
       ".datatable th:nth-child(2) { padding-left: 12px; }\n",
       ".datatable .hellipsis {  color: var(--jp-cell-editor-border-color);}\n",
       ".datatable .vellipsis {  background: var(--jp-layout-color0);  color: var(--jp-cell-editor-border-color);}\n",
       ".datatable .na {  color: var(--jp-cell-editor-border-color);  font-size: 80%;}\n",
       ".datatable .sp {  opacity: 0.25;}\n",
       ".datatable .footer { font-size: 9px; }\n",
       ".datatable .frame_dimensions {  background: var(--jp-border-color3);  border-top: 1px solid var(--jp-border-color0);  color: var(--jp-ui-font-color3);  display: inline-block;  opacity: 0.6;  padding: 1px 10px 1px 5px;}\n",
       "</style>\n"
      ],
      "text/plain": [
       "<IPython.core.display.HTML object>"
      ]
     },
     "metadata": {},
     "output_type": "display_data"
    }
   ],
   "source": [
    "import os\n",
    "import gc\n",
    "import glob\n",
    "import json\n",
    "from collections import defaultdict\n",
    "import multiprocessing as mp\n",
    "from pathlib import Path\n",
    "from types import SimpleNamespace\n",
    "from typing import Dict, List, Optional, Tuple\n",
    "import warnings\n",
    "import matplotlib.pyplot as plt\n",
    "import matplotlib.patches as patches\n",
    "import numpy as np\n",
    "import pandas as pd\n",
    "import PIL.Image as Image\n",
    "from sklearn.metrics import fbeta_score\n",
    "from sklearn.exceptions import UndefinedMetricWarning\n",
    "import torch\n",
    "import torch.nn as nn\n",
    "import torch.optim as optim\n",
    "import torch.utils.data as thd\n",
    "from tqdm import tqdm\n",
    "import pandas as pd\n",
    "from PIL import Image\n",
    "# Adjust the maximum image size limit\n",
    "Image.MAX_IMAGE_PIXELS = None\n",
    "import numpy as np\n",
    "import os\n",
    "import lightgbm as lgb\n",
    "from sklearn.model_selection import train_test_split\n",
    "from sklearn.metrics import accuracy_score\n",
    "import numpy as np\n",
    "from sklearn.model_selection import train_test_split, GridSearchCV\n",
    "import lightgbm as lgb\n",
    "from IPython.display import display\n",
    "from sklearn.preprocessing import MinMaxScaler, StandardScaler\n",
    "import joblib"
   ]
  },
  {
   "cell_type": "code",
   "execution_count": 2,
   "id": "388a7be7",
   "metadata": {
    "execution": {
     "iopub.execute_input": "2023-06-13T20:30:08.976094Z",
     "iopub.status.busy": "2023-06-13T20:30:08.975634Z",
     "iopub.status.idle": "2023-06-13T20:30:08.981984Z",
     "shell.execute_reply": "2023-06-13T20:30:08.980649Z"
    },
    "papermill": {
     "duration": 0.017256,
     "end_time": "2023-06-13T20:30:08.984730",
     "exception": false,
     "start_time": "2023-06-13T20:30:08.967474",
     "status": "completed"
    },
    "tags": []
   },
   "outputs": [],
   "source": [
    "# control\n",
    "crossValidation = False\n",
    "finalModel = False\n",
    "predict_first = True  # predicts the letering from train image 2 and 3\n",
    "submit = True"
   ]
  },
  {
   "cell_type": "code",
   "execution_count": 3,
   "id": "e74306ad",
   "metadata": {
    "execution": {
     "iopub.execute_input": "2023-06-13T20:30:08.999155Z",
     "iopub.status.busy": "2023-06-13T20:30:08.998567Z",
     "iopub.status.idle": "2023-06-13T20:30:09.004205Z",
     "shell.execute_reply": "2023-06-13T20:30:09.002876Z"
    },
    "papermill": {
     "duration": 0.016363,
     "end_time": "2023-06-13T20:30:09.007155",
     "exception": false,
     "start_time": "2023-06-13T20:30:08.990792",
     "status": "completed"
    },
    "tags": []
   },
   "outputs": [],
   "source": [
    "# Define the paths of the three folders\n",
    "folder_paths = [\n",
    "    \"/kaggle/input/vesuvius-challenge/train/1\",\n",
    "    #\"/kaggle/input/vesuvius-challenge/train/2\",\n",
    "    #\"/kaggle/input/vesuvius-challenge/train/3\"\n",
    "]\n",
    "num_pixels_total = 1000"
   ]
  },
  {
   "cell_type": "code",
   "execution_count": 4,
   "id": "b742549f",
   "metadata": {
    "execution": {
     "iopub.execute_input": "2023-06-13T20:30:09.021776Z",
     "iopub.status.busy": "2023-06-13T20:30:09.020994Z",
     "iopub.status.idle": "2023-06-13T20:30:09.046678Z",
     "shell.execute_reply": "2023-06-13T20:30:09.045197Z"
    },
    "papermill": {
     "duration": 0.036871,
     "end_time": "2023-06-13T20:30:09.049968",
     "exception": false,
     "start_time": "2023-06-13T20:30:09.013097",
     "status": "completed"
    },
    "tags": []
   },
   "outputs": [],
   "source": [
    "def generate_data_fraction(folder_path, fraction_number, num_pixels, scaler):\n",
    "\n",
    "    # Create an empty list to store the values for each row\n",
    "    df = []\n",
    "    cols = []\n",
    "\n",
    "    # Load mask.png, crop, and resize\n",
    "    mask_path = os.path.join(folder_path, \"mask.png\")\n",
    "    mask_image = Image.open(mask_path)\n",
    "    mask_array = np.array(mask_image)\n",
    "    cols.append('Mask')\n",
    "\n",
    "    image_height = mask_array.shape[0]\n",
    "    fraction_start = (fraction_number - 1) * num_pixels_total\n",
    "    fraction_end = fraction_start + num_pixels\n",
    "    print(\"Shape\", mask_array[fraction_start:fraction_end, :].shape)\n",
    "    df.append(mask_array[fraction_start:fraction_end, :].flatten())\n",
    "\n",
    "    del mask_image, mask_array\n",
    "\n",
    "    # Iterate over the files in the surface_volume subfolder\n",
    "    surface_volume_path = os.path.join(folder_path, \"surface_volume\")\n",
    "    surface_volume_files = sorted(os.listdir(surface_volume_path))\n",
    "    for file_name in surface_volume_files:\n",
    "        file_path = os.path.join(surface_volume_path, file_name)\n",
    "        image = Image.open(file_path)\n",
    "        image_array = np.array(image) / 65535\n",
    "        cols.append(file_name.split('.')[0])\n",
    "        df.append(image_array[fraction_start:fraction_end, :].flatten())\n",
    "\n",
    "        del image_array, image\n",
    "\n",
    "    df = pd.DataFrame(np.vstack(df).T, columns=cols)\n",
    "    \n",
    "    masked = df['Mask']\n",
    "    \n",
    "    # Select columns 20 to 45 from X_train\n",
    "    df = df.iloc[:, 20:46]\n",
    "    \n",
    "    # Load inklabels.png, crop, and resize\n",
    "    inklabels_path = os.path.join(folder_path, \"inklabels.png\")\n",
    "    inklabels_image = Image.open(inklabels_path)\n",
    "    inklabels_array = np.array(inklabels_image)\n",
    "    df['labels'] = inklabels_array[fraction_start:fraction_end, :].flatten()\n",
    "\n",
    "    del inklabels_image, inklabels_array\n",
    "\n",
    "    # Print the shape of the dataframe\n",
    "    print(\"initial shape\", df.shape)\n",
    "\n",
    "    # Filter out rows that start with 0 in the \"Mask\" column\n",
    "    df = df[masked != 0]\n",
    "    \n",
    "    mean = df.iloc[:, :-1].mean().mean()\n",
    "    std = df.iloc[:, :-1].std().mean()\n",
    "    \n",
    "    lower_threshold = mean - 3 * std\n",
    "    upper_threshold = mean + 3 * std\n",
    "    \n",
    "    df.iloc[:, :-1] = df.iloc[:, :-1].clip(lower_threshold, upper_threshold)\n",
    "    \n",
    "    from sklearn.preprocessing import MinMaxScaler\n",
    "\n",
    "    if scaler == None:\n",
    "        # Scale X_train between 0 and 1\n",
    "        scaler = MinMaxScaler(feature_range=(0, 1))\n",
    "        df.iloc[:, :-1] = pd.DataFrame(scaler.fit_transform(df.iloc[:, :-1]), columns=df.iloc[:, :-1].columns)\n",
    "        joblib.dump(scaler, 'scaler.pkl')\n",
    "    else:\n",
    "        df.iloc[:, :-1] = pd.DataFrame(scaler.transform(df.iloc[:, :-1]), columns=df.iloc[:, :-1].columns)\n",
    "\n",
    "    # Print the shape of the dataframe\n",
    "    print(\"final shape\", df.shape)\n",
    "    \n",
    "    df = df.drop_duplicates()\n",
    "    \n",
    "    return df.iloc[:, :-1], df.iloc[:, -1], scaler\n"
   ]
  },
  {
   "cell_type": "code",
   "execution_count": 5,
   "id": "e3c90719",
   "metadata": {
    "execution": {
     "iopub.execute_input": "2023-06-13T20:30:09.064219Z",
     "iopub.status.busy": "2023-06-13T20:30:09.063784Z",
     "iopub.status.idle": "2023-06-13T20:30:09.088705Z",
     "shell.execute_reply": "2023-06-13T20:30:09.087281Z"
    },
    "papermill": {
     "duration": 0.035843,
     "end_time": "2023-06-13T20:30:09.091926",
     "exception": false,
     "start_time": "2023-06-13T20:30:09.056083",
     "status": "completed"
    },
    "tags": []
   },
   "outputs": [],
   "source": [
    "plot_values = False\n",
    "\n",
    "if plot_values:\n",
    "\n",
    "    # Iterate over the folder paths\n",
    "    folder_path=folder_paths[0]\n",
    "\n",
    "    # Load mask.png to calculate fractions\n",
    "    mask_path = os.path.join(folder_path, \"mask.png\")\n",
    "    mask_image = Image.open(mask_path)\n",
    "    # Get the height and width of the image\n",
    "    image_width, image_height = mask_image.size\n",
    "    print(folder_path,\"width:\",image_width,\"heigth:\",image_height)\n",
    "    fractions = int(np.ceil(image_height / num_pixels_total))\n",
    "    num_pixels_array = np.concatenate((np.full(fractions-1, num_pixels_total), np.array([image_height - (fractions-1)*num_pixels_total])))\n",
    "\n",
    "    print(\"Number of fractions:\",fractions)\n",
    "    del mask_image\n",
    "\n",
    "    frac=1\n",
    "\n",
    "    scaler=None\n",
    "\n",
    "    print(\"generating X_train and y_train for\",frac,\"fraction\")\n",
    "    # Generate the first part of the data\n",
    "    X_train, y_train, scaler = generate_data_fraction(folder_path,frac,num_pixels_array[frac-1],scaler)\n",
    "\n",
    "    # Assuming X_train is your pandas DataFrame\n",
    "    values = X_train.values.flatten()  # Flatten the DataFrame into a 1D array\n",
    "\n",
    "    plt.hist(values, bins=10, range=(0, 1))  # Adjust the number of bins as needed\n",
    "    plt.xlabel('Values')\n",
    "    plt.ylabel('Frequency')\n",
    "    plt.title('Histogram of Values in X_train')\n",
    "    plt.show()\n",
    "    \n",
    "    # Assuming X_train and y_train are your pandas DataFrames or Series\n",
    "    values_0 = X_train[y_train == 0].values.flatten()\n",
    "    values_1 = X_train[y_train == 1].values.flatten()\n",
    "\n",
    "    bin_count = 10\n",
    "    bin_range = (0, 1)\n",
    "\n",
    "    hist_0, bins = np.histogram(values_0, bins=bin_count, range=bin_range)\n",
    "    hist_1, _ = np.histogram(values_1, bins=bin_count, range=bin_range)\n",
    "\n",
    "    bin_edges = bins[:-1]\n",
    "    total_counts = hist_0 + hist_1\n",
    "    percentage_0 = (hist_0 / total_counts) * 100\n",
    "    percentage_1 = (hist_1 / total_counts) * 100\n",
    "\n",
    "    plt.bar(bin_edges, percentage_0, width=(bin_range[1] - bin_range[0]) / bin_count, align='edge', color='blue', alpha=0.5, label='y_train = 0')\n",
    "    plt.bar(bin_edges, percentage_1, width=(bin_range[1] - bin_range[0]) / bin_count, align='edge', color='green', alpha=0.5, label='y_train = 1')\n",
    "    plt.xlabel('Values')\n",
    "    plt.ylabel('Percentage')\n",
    "    plt.title('Histogram of Values in X_train')\n",
    "    plt.legend()\n",
    "    plt.show()\n",
    "    \n",
    "    # Exclude the 'sum' column if present\n",
    "    columns_to_plot = [col for col in X_train.columns if col != 'sum']\n",
    "\n",
    "    # Calculate the mean values for each column based on target values\n",
    "    means_0 = X_train.loc[y_train == 0, columns_to_plot].mean()\n",
    "    means_1 = X_train.loc[y_train == 1, columns_to_plot].mean()\n",
    "\n",
    "    # Create a list of column names for the x-axis\n",
    "    x_labels = list(means_0.index)\n",
    "\n",
    "    # Create a figure and axes for the plot\n",
    "    fig, ax = plt.subplots()\n",
    "\n",
    "    # Plot the mean values for target=0 as a line\n",
    "    ax.plot(x_labels, means_0, label='Target 0', marker='o')\n",
    "\n",
    "    # Plot the mean values for target=1 as a line\n",
    "    ax.plot(x_labels, means_1, label='Target 1', marker='o')\n",
    "\n",
    "    # Set the labels and title\n",
    "    ax.set_xlabel('Columns')\n",
    "    ax.set_ylabel('Mean Values')\n",
    "    ax.set_title('Mean Values by Column and Target')\n",
    "\n",
    "    # Rotate the x-axis labels if needed\n",
    "    plt.xticks(rotation=90)\n",
    "\n",
    "    # Add a legend\n",
    "    ax.legend()\n",
    "\n",
    "    # Display the plot\n",
    "    plt.show()\n"
   ]
  },
  {
   "cell_type": "code",
   "execution_count": 6,
   "id": "a0a822f1",
   "metadata": {
    "execution": {
     "iopub.execute_input": "2023-06-13T20:30:09.106723Z",
     "iopub.status.busy": "2023-06-13T20:30:09.105844Z",
     "iopub.status.idle": "2023-06-13T20:30:09.127760Z",
     "shell.execute_reply": "2023-06-13T20:30:09.126425Z"
    },
    "papermill": {
     "duration": 0.032927,
     "end_time": "2023-06-13T20:30:09.130958",
     "exception": false,
     "start_time": "2023-06-13T20:30:09.098031",
     "status": "completed"
    },
    "tags": []
   },
   "outputs": [],
   "source": [
    "crossValidation = False\n",
    "\n",
    "if crossValidation:\n",
    "\n",
    "    # Hyperparameters to tune\n",
    "    param_grid = {\n",
    "        'boosting_type': ['gbdt'],\n",
    "        'num_leaves': [150,200],\n",
    "        'max_depth': [12,14],\n",
    "        'learning_rate': [0.25,0.3],\n",
    "        'n_estimators': [400,600],\n",
    "        'subsample': [1.0],\n",
    "        'colsample_bytree': [1.0]\n",
    "    }\n",
    "    \n",
    "    scaler = None\n",
    "    \n",
    "    # Load mask.png to calculate fractions\n",
    "    mask_path = os.path.join(folder_paths[0], \"mask.png\")\n",
    "    mask_image = Image.open(mask_path)\n",
    "    # Get the height and width of the image\n",
    "    image_width, image_height = mask_image.size\n",
    "    print(folder_paths[0],\"width:\",image_width,\"heigth:\",image_height)\n",
    "    fractions = int(np.ceil(image_height / num_pixels_total))\n",
    "    num_pixels_array = np.concatenate((np.full(fractions-1, num_pixels_total), np.array([image_height - (fractions-1)*num_pixels_total])))\n",
    "    \n",
    "    print(\"Number of fractions:\",fractions)\n",
    "    del mask_image\n",
    "    \n",
    "    print(\"generating X_train_first and y_train_first\")\n",
    "    # Generate the first half of the data\n",
    "    X_train_first, y_train_first, _ = generate_data_fraction(folder_paths[0],1,num_pixels_array[1],scaler)\n",
    "    \n",
    "    # Split the first half data into training set and validation set\n",
    "    X_train_first, X_val_first, y_train_first, y_val_first = train_test_split(\n",
    "        X_train_first, y_train_first, test_size=0.2, random_state=42)\n",
    "    \n",
    "    # Perform hyperparameter tuning using GridSearchCV\n",
    "    model = lgb.LGBMClassifier()\n",
    "    grid_search = GridSearchCV(model, param_grid, cv=3, scoring='accuracy', verbose=1)\n",
    "    grid_search.fit(X_train_first[:3000000], y_train_first[:3000000])\n",
    "    \n",
    "    # Get the best hyperparameters found\n",
    "    best_params = grid_search.best_params_\n",
    "    print(\"Best Hyperparameters:\", best_params)\n",
    "    \n",
    "    # Create a LightGBM dataset for training the model on the first half\n",
    "    train_data_first = lgb.Dataset(X_train_first, label=y_train_first)\n",
    "    del X_train_first,y_train_first\n",
    "    \n",
    "    # Train the LightGBM model on the first half of the data using the best hyperparameters\n",
    "    model = lgb.train(best_params, train_data_first, num_boost_round=100)\n",
    "\n",
    "    # Predict on the validation set (first half)\n",
    "    y_pred_val_first = model.predict(X_val_first)\n",
    "    \n",
    "    # Set a threshold for classification (e.g., 0.5)\n",
    "    threshold = 0.4\n",
    "    \n",
    "    # Convert predicted probabilities to binary labels\n",
    "    y_pred_binary_val_first = (y_pred_val_first >= threshold).astype(int)\n",
    "    \n",
    "    # Calculate the accuracy on the validation set (first half)\n",
    "    accuracy_val_first = accuracy_score(y_val_first, y_pred_binary_val_first)\n",
    "    print(\"Validation Accuracy (First Half):\", accuracy_val_first)\n"
   ]
  },
  {
   "cell_type": "code",
   "execution_count": 7,
   "id": "a25750e8",
   "metadata": {
    "execution": {
     "iopub.execute_input": "2023-06-13T20:30:09.145085Z",
     "iopub.status.busy": "2023-06-13T20:30:09.144642Z",
     "iopub.status.idle": "2023-06-13T20:30:09.174825Z",
     "shell.execute_reply": "2023-06-13T20:30:09.173413Z"
    },
    "papermill": {
     "duration": 0.041132,
     "end_time": "2023-06-13T20:30:09.178237",
     "exception": false,
     "start_time": "2023-06-13T20:30:09.137105",
     "status": "completed"
    },
    "tags": []
   },
   "outputs": [],
   "source": [
    "finalModel = False\n",
    "\n",
    "# Load the scaler\n",
    "scaler = joblib.load('/kaggle/input/modeloutput/scaler.pkl')\n",
    "\n",
    "if finalModel: \n",
    "    \n",
    "    # Define the paths of the three folders\n",
    "    final_folder_paths = [\n",
    "        \"/kaggle/input/vesuvius-challenge/train/1\",\n",
    "        #\"/kaggle/input/vesuvius-challenge/train/2\",\n",
    "        #\"/kaggle/input/vesuvius-challenge/train/3\"\n",
    "    ]\n",
    "    \n",
    "    # Define the LightGBM parameters\n",
    "    params = {\n",
    "        'boosting_type': 'gbdt',\n",
    "        'num_leaves': 200,\n",
    "        'max_depth': 12,\n",
    "        'learning_rate': 0.3,\n",
    "        'n_estimators': 600,\n",
    "        'subsample': 1.0,\n",
    "        'colsample_bytree': 1.0,\n",
    "        'verbose': 1\n",
    "    }\n",
    "    \n",
    "    # Iterate over the folder paths\n",
    "    for folder_path in final_folder_paths:\n",
    "        \n",
    "        # Load mask.png to calculate fractions\n",
    "        mask_path = os.path.join(folder_path, \"mask.png\")\n",
    "        mask_image = Image.open(mask_path)\n",
    "        # Get the height and width of the image\n",
    "        image_width, image_height = mask_image.size\n",
    "        print(folder_path,\"width:\",image_width,\"heigth:\",image_height)\n",
    "        fractions = int(np.ceil(image_height / num_pixels_total))\n",
    "        num_pixels_array = np.concatenate((np.full(fractions-1, num_pixels_total), np.array([image_height - (fractions-1)*num_pixels_total])))\n",
    "\n",
    "        print(\"Number of fractions:\",fractions)\n",
    "        del mask_image\n",
    "        \n",
    "        for frac in range(1,fractions+1):\n",
    "        \n",
    "            print(\"generating X_train and y_train for\",frac,\"fraction\")\n",
    "            # Generate the first part of the data\n",
    "            X_train, y_train, _ = generate_data_fraction(folder_path,frac,num_pixels_array[frac-1], scaler)\n",
    "\n",
    "            # Split the first part data into training set and validation set\n",
    "            X_train, X_val, y_train, y_val = train_test_split(\n",
    "                X_train, y_train, test_size=0.2, random_state=42)\n",
    "\n",
    "            # Create a LightGBM dataset for training the model on the first part\n",
    "            train_data = lgb.Dataset(X_train, label=y_train)\n",
    "            del X_train\n",
    "\n",
    "            if '/1' in folder_path and frac==1:\n",
    "                print(\"Start training model\")\n",
    "                # Train the LightGBM model on the first half of the data\n",
    "                model = lgb.train(params, train_data, num_boost_round=100)\n",
    "            else:\n",
    "                print(\"Fine-tuning the model, part\", frac, \"file:\", folder_path)\n",
    "                model = lgb.train(params, train_data, num_boost_round=100, init_model=model)\n",
    "\n",
    "\n",
    "            # Predict on the validation set\n",
    "            y_pred_val = model.predict(X_val)\n",
    "            print(\"y_pred_val between\",np.min(y_pred_val),\"and\",np.max(y_pred_val))\n",
    "\n",
    "            # Set a threshold for classification (e.g., 0.5)\n",
    "            threshold = 0.5\n",
    "\n",
    "            # Convert predicted probabilities to binary labels\n",
    "            y_pred_binary_val = (y_pred_val >= threshold).astype(int)\n",
    "\n",
    "            # Calculate the accuracy on the validation set\n",
    "            accuracy_val = accuracy_score(y_val, y_pred_binary_val)\n",
    "            print(\"Validation Accuracy of part\",frac,\"of file:\",folder_path,\":\", accuracy_val)\n",
    "\n",
    "            # Clear variables to release memory\n",
    "            del X_val, y_train, y_val, train_data, y_pred_val, y_pred_binary_val\n",
    "\n",
    "        # Save the updated model to a file\n",
    "        model_file = \"model_final.txt\"\n",
    "        model.save_model(model_file)\n",
    "        print(\"Updated model saved.\")"
   ]
  },
  {
   "cell_type": "markdown",
   "id": "8c58d386",
   "metadata": {
    "papermill": {
     "duration": 0.005596,
     "end_time": "2023-06-13T20:30:09.189989",
     "exception": false,
     "start_time": "2023-06-13T20:30:09.184393",
     "status": "completed"
    },
    "tags": []
   },
   "source": [
    "### Create predictions"
   ]
  },
  {
   "cell_type": "code",
   "execution_count": 8,
   "id": "71d124f8",
   "metadata": {
    "execution": {
     "iopub.execute_input": "2023-06-13T20:30:09.204737Z",
     "iopub.status.busy": "2023-06-13T20:30:09.203978Z",
     "iopub.status.idle": "2023-06-13T20:30:09.222341Z",
     "shell.execute_reply": "2023-06-13T20:30:09.220947Z"
    },
    "papermill": {
     "duration": 0.029587,
     "end_time": "2023-06-13T20:30:09.225608",
     "exception": false,
     "start_time": "2023-06-13T20:30:09.196021",
     "status": "completed"
    },
    "tags": []
   },
   "outputs": [],
   "source": [
    "def generate_data_fraction_for_submition(folder_path, fraction_number, num_pixels, scaler):\n",
    "    \n",
    "    # Create an empty list to store the values for each row\n",
    "    df = []\n",
    "    cols = []\n",
    "\n",
    "    # Load mask.png, crop, and resize\n",
    "    mask_path = os.path.join(folder_path, \"mask.png\")\n",
    "    mask_image = Image.open(mask_path)\n",
    "    mask_array = np.array(mask_image)\n",
    "    cols.append('Mask')\n",
    "\n",
    "    image_height = mask_array.shape[0]\n",
    "    \n",
    "    fraction_start = (fraction_number - 1) * num_pixels_total\n",
    "    fraction_end = fraction_start +  num_pixels\n",
    "    print(\"Shape\", mask_array[fraction_start:fraction_end, :].shape)\n",
    "    df.append(mask_array[fraction_start:fraction_end, :].flatten())\n",
    "\n",
    "    del mask_image, mask_array\n",
    "    \n",
    "    # Iterate over the files in the surface_volume subfolder\n",
    "    surface_volume_path = os.path.join(folder_path, \"surface_volume\")\n",
    "    surface_volume_files = sorted(os.listdir(surface_volume_path))\n",
    "    for file_name in surface_volume_files:\n",
    "        if int(file_name.split('/')[-1].split('.')[0]) in range(20,46):\n",
    "            file_path = os.path.join(surface_volume_path, file_name)\n",
    "            image = Image.open(file_path)\n",
    "            image_array = np.array(image) / 65535\n",
    "            cols.append(file_name.split('.')[0])\n",
    "            df.append(image_array[fraction_start:fraction_end, :].flatten())\n",
    "\n",
    "            del image_array, image\n",
    "      \n",
    "    df = pd.DataFrame(np.vstack(df).T, columns=cols)\n",
    "    \n",
    "    # Print the shape of the dataframe\n",
    "    print(\"initial shape\", df.shape)\n",
    "    \n",
    "    input_features = df.drop('Mask', axis=1)\n",
    "    \n",
    "    mean = input_features.mean().mean()\n",
    "    std = input_features.std().mean()\n",
    "    \n",
    "    lower_threshold = mean - 3 * std\n",
    "    upper_threshold = mean + 3 * std\n",
    "    \n",
    "    input_features = input_features.clip(lower_threshold, upper_threshold)\n",
    "\n",
    "    input_features = pd.DataFrame(scaler.transform(input_features), columns=input_features.columns)\n",
    "    \n",
    "    predictions = model.predict(input_features)\n",
    "    prediction_array = np.where(df['Mask'] == 0, 0, predictions)\n",
    "    \n",
    "    print(\"prediction-array shape\",prediction_array.shape)\n",
    "\n",
    "    return prediction_array\n"
   ]
  },
  {
   "cell_type": "code",
   "execution_count": 9,
   "id": "4b02c05b",
   "metadata": {
    "execution": {
     "iopub.execute_input": "2023-06-13T20:30:09.240758Z",
     "iopub.status.busy": "2023-06-13T20:30:09.240274Z",
     "iopub.status.idle": "2023-06-14T01:38:35.688591Z",
     "shell.execute_reply": "2023-06-14T01:38:35.685064Z"
    },
    "papermill": {
     "duration": 18506.46246,
     "end_time": "2023-06-14T01:38:35.694166",
     "exception": false,
     "start_time": "2023-06-13T20:30:09.231706",
     "status": "completed"
    },
    "tags": []
   },
   "outputs": [
    {
     "name": "stdout",
     "output_type": "stream",
     "text": [
      "/kaggle/input/vesuvius-challenge/test/b width: 6330 heigth: 5454\n",
      "Number of fractions: 19 of image in folder /kaggle/input/vesuvius-challenge/test/b\n",
      "generating predictions for fraction 1\n",
      "Shape (300, 6330)\n",
      "initial shape (1899000, 27)\n"
     ]
    },
    {
     "name": "stderr",
     "output_type": "stream",
     "text": [
      "/opt/conda/lib/python3.7/site-packages/sklearn/base.py:493: FutureWarning: The feature names should match those that were passed during fit. Starting version 1.2, an error will be raised.\n",
      "Feature names unseen at fit time:\n",
      "- 45\n",
      "Feature names seen at fit time, yet now missing:\n",
      "- 19\n",
      "\n",
      "  warnings.warn(message, FutureWarning)\n"
     ]
    },
    {
     "name": "stdout",
     "output_type": "stream",
     "text": [
      "prediction-array shape (1899000,)\n",
      "generating predictions for fraction 2\n",
      "Shape (300, 6330)\n",
      "initial shape (1899000, 27)\n"
     ]
    },
    {
     "name": "stderr",
     "output_type": "stream",
     "text": [
      "/opt/conda/lib/python3.7/site-packages/sklearn/base.py:493: FutureWarning: The feature names should match those that were passed during fit. Starting version 1.2, an error will be raised.\n",
      "Feature names unseen at fit time:\n",
      "- 45\n",
      "Feature names seen at fit time, yet now missing:\n",
      "- 19\n",
      "\n",
      "  warnings.warn(message, FutureWarning)\n"
     ]
    },
    {
     "name": "stdout",
     "output_type": "stream",
     "text": [
      "prediction-array shape (1899000,)\n",
      "generating predictions for fraction 3\n",
      "Shape (300, 6330)\n",
      "initial shape (1899000, 27)\n"
     ]
    },
    {
     "name": "stderr",
     "output_type": "stream",
     "text": [
      "/opt/conda/lib/python3.7/site-packages/sklearn/base.py:493: FutureWarning: The feature names should match those that were passed during fit. Starting version 1.2, an error will be raised.\n",
      "Feature names unseen at fit time:\n",
      "- 45\n",
      "Feature names seen at fit time, yet now missing:\n",
      "- 19\n",
      "\n",
      "  warnings.warn(message, FutureWarning)\n"
     ]
    },
    {
     "name": "stdout",
     "output_type": "stream",
     "text": [
      "prediction-array shape (1899000,)\n",
      "generating predictions for fraction 4\n",
      "Shape (300, 6330)\n",
      "initial shape (1899000, 27)\n"
     ]
    },
    {
     "name": "stderr",
     "output_type": "stream",
     "text": [
      "/opt/conda/lib/python3.7/site-packages/sklearn/base.py:493: FutureWarning: The feature names should match those that were passed during fit. Starting version 1.2, an error will be raised.\n",
      "Feature names unseen at fit time:\n",
      "- 45\n",
      "Feature names seen at fit time, yet now missing:\n",
      "- 19\n",
      "\n",
      "  warnings.warn(message, FutureWarning)\n"
     ]
    },
    {
     "name": "stdout",
     "output_type": "stream",
     "text": [
      "prediction-array shape (1899000,)\n",
      "generating predictions for fraction 5\n",
      "Shape (300, 6330)\n",
      "initial shape (1899000, 27)\n"
     ]
    },
    {
     "name": "stderr",
     "output_type": "stream",
     "text": [
      "/opt/conda/lib/python3.7/site-packages/sklearn/base.py:493: FutureWarning: The feature names should match those that were passed during fit. Starting version 1.2, an error will be raised.\n",
      "Feature names unseen at fit time:\n",
      "- 45\n",
      "Feature names seen at fit time, yet now missing:\n",
      "- 19\n",
      "\n",
      "  warnings.warn(message, FutureWarning)\n"
     ]
    },
    {
     "name": "stdout",
     "output_type": "stream",
     "text": [
      "prediction-array shape (1899000,)\n",
      "generating predictions for fraction 6\n",
      "Shape (300, 6330)\n",
      "initial shape (1899000, 27)\n"
     ]
    },
    {
     "name": "stderr",
     "output_type": "stream",
     "text": [
      "/opt/conda/lib/python3.7/site-packages/sklearn/base.py:493: FutureWarning: The feature names should match those that were passed during fit. Starting version 1.2, an error will be raised.\n",
      "Feature names unseen at fit time:\n",
      "- 45\n",
      "Feature names seen at fit time, yet now missing:\n",
      "- 19\n",
      "\n",
      "  warnings.warn(message, FutureWarning)\n"
     ]
    },
    {
     "name": "stdout",
     "output_type": "stream",
     "text": [
      "prediction-array shape (1899000,)\n",
      "generating predictions for fraction 7\n",
      "Shape (300, 6330)\n",
      "initial shape (1899000, 27)\n"
     ]
    },
    {
     "name": "stderr",
     "output_type": "stream",
     "text": [
      "/opt/conda/lib/python3.7/site-packages/sklearn/base.py:493: FutureWarning: The feature names should match those that were passed during fit. Starting version 1.2, an error will be raised.\n",
      "Feature names unseen at fit time:\n",
      "- 45\n",
      "Feature names seen at fit time, yet now missing:\n",
      "- 19\n",
      "\n",
      "  warnings.warn(message, FutureWarning)\n"
     ]
    },
    {
     "name": "stdout",
     "output_type": "stream",
     "text": [
      "prediction-array shape (1899000,)\n",
      "generating predictions for fraction 8\n",
      "Shape (300, 6330)\n",
      "initial shape (1899000, 27)\n"
     ]
    },
    {
     "name": "stderr",
     "output_type": "stream",
     "text": [
      "/opt/conda/lib/python3.7/site-packages/sklearn/base.py:493: FutureWarning: The feature names should match those that were passed during fit. Starting version 1.2, an error will be raised.\n",
      "Feature names unseen at fit time:\n",
      "- 45\n",
      "Feature names seen at fit time, yet now missing:\n",
      "- 19\n",
      "\n",
      "  warnings.warn(message, FutureWarning)\n"
     ]
    },
    {
     "name": "stdout",
     "output_type": "stream",
     "text": [
      "prediction-array shape (1899000,)\n",
      "generating predictions for fraction 9\n",
      "Shape (300, 6330)\n",
      "initial shape (1899000, 27)\n"
     ]
    },
    {
     "name": "stderr",
     "output_type": "stream",
     "text": [
      "/opt/conda/lib/python3.7/site-packages/sklearn/base.py:493: FutureWarning: The feature names should match those that were passed during fit. Starting version 1.2, an error will be raised.\n",
      "Feature names unseen at fit time:\n",
      "- 45\n",
      "Feature names seen at fit time, yet now missing:\n",
      "- 19\n",
      "\n",
      "  warnings.warn(message, FutureWarning)\n"
     ]
    },
    {
     "name": "stdout",
     "output_type": "stream",
     "text": [
      "prediction-array shape (1899000,)\n",
      "generating predictions for fraction 10\n",
      "Shape (300, 6330)\n",
      "initial shape (1899000, 27)\n"
     ]
    },
    {
     "name": "stderr",
     "output_type": "stream",
     "text": [
      "/opt/conda/lib/python3.7/site-packages/sklearn/base.py:493: FutureWarning: The feature names should match those that were passed during fit. Starting version 1.2, an error will be raised.\n",
      "Feature names unseen at fit time:\n",
      "- 45\n",
      "Feature names seen at fit time, yet now missing:\n",
      "- 19\n",
      "\n",
      "  warnings.warn(message, FutureWarning)\n"
     ]
    },
    {
     "name": "stdout",
     "output_type": "stream",
     "text": [
      "prediction-array shape (1899000,)\n",
      "generating predictions for fraction 11\n",
      "Shape (300, 6330)\n",
      "initial shape (1899000, 27)\n"
     ]
    },
    {
     "name": "stderr",
     "output_type": "stream",
     "text": [
      "/opt/conda/lib/python3.7/site-packages/sklearn/base.py:493: FutureWarning: The feature names should match those that were passed during fit. Starting version 1.2, an error will be raised.\n",
      "Feature names unseen at fit time:\n",
      "- 45\n",
      "Feature names seen at fit time, yet now missing:\n",
      "- 19\n",
      "\n",
      "  warnings.warn(message, FutureWarning)\n"
     ]
    },
    {
     "name": "stdout",
     "output_type": "stream",
     "text": [
      "prediction-array shape (1899000,)\n",
      "generating predictions for fraction 12\n",
      "Shape (300, 6330)\n",
      "initial shape (1899000, 27)\n"
     ]
    },
    {
     "name": "stderr",
     "output_type": "stream",
     "text": [
      "/opt/conda/lib/python3.7/site-packages/sklearn/base.py:493: FutureWarning: The feature names should match those that were passed during fit. Starting version 1.2, an error will be raised.\n",
      "Feature names unseen at fit time:\n",
      "- 45\n",
      "Feature names seen at fit time, yet now missing:\n",
      "- 19\n",
      "\n",
      "  warnings.warn(message, FutureWarning)\n"
     ]
    },
    {
     "name": "stdout",
     "output_type": "stream",
     "text": [
      "prediction-array shape (1899000,)\n",
      "generating predictions for fraction 13\n",
      "Shape (300, 6330)\n",
      "initial shape (1899000, 27)\n"
     ]
    },
    {
     "name": "stderr",
     "output_type": "stream",
     "text": [
      "/opt/conda/lib/python3.7/site-packages/sklearn/base.py:493: FutureWarning: The feature names should match those that were passed during fit. Starting version 1.2, an error will be raised.\n",
      "Feature names unseen at fit time:\n",
      "- 45\n",
      "Feature names seen at fit time, yet now missing:\n",
      "- 19\n",
      "\n",
      "  warnings.warn(message, FutureWarning)\n"
     ]
    },
    {
     "name": "stdout",
     "output_type": "stream",
     "text": [
      "prediction-array shape (1899000,)\n",
      "generating predictions for fraction 14\n",
      "Shape (300, 6330)\n",
      "initial shape (1899000, 27)\n"
     ]
    },
    {
     "name": "stderr",
     "output_type": "stream",
     "text": [
      "/opt/conda/lib/python3.7/site-packages/sklearn/base.py:493: FutureWarning: The feature names should match those that were passed during fit. Starting version 1.2, an error will be raised.\n",
      "Feature names unseen at fit time:\n",
      "- 45\n",
      "Feature names seen at fit time, yet now missing:\n",
      "- 19\n",
      "\n",
      "  warnings.warn(message, FutureWarning)\n"
     ]
    },
    {
     "name": "stdout",
     "output_type": "stream",
     "text": [
      "prediction-array shape (1899000,)\n",
      "generating predictions for fraction 15\n",
      "Shape (300, 6330)\n",
      "initial shape (1899000, 27)\n"
     ]
    },
    {
     "name": "stderr",
     "output_type": "stream",
     "text": [
      "/opt/conda/lib/python3.7/site-packages/sklearn/base.py:493: FutureWarning: The feature names should match those that were passed during fit. Starting version 1.2, an error will be raised.\n",
      "Feature names unseen at fit time:\n",
      "- 45\n",
      "Feature names seen at fit time, yet now missing:\n",
      "- 19\n",
      "\n",
      "  warnings.warn(message, FutureWarning)\n"
     ]
    },
    {
     "name": "stdout",
     "output_type": "stream",
     "text": [
      "prediction-array shape (1899000,)\n",
      "generating predictions for fraction 16\n",
      "Shape (300, 6330)\n",
      "initial shape (1899000, 27)\n"
     ]
    },
    {
     "name": "stderr",
     "output_type": "stream",
     "text": [
      "/opt/conda/lib/python3.7/site-packages/sklearn/base.py:493: FutureWarning: The feature names should match those that were passed during fit. Starting version 1.2, an error will be raised.\n",
      "Feature names unseen at fit time:\n",
      "- 45\n",
      "Feature names seen at fit time, yet now missing:\n",
      "- 19\n",
      "\n",
      "  warnings.warn(message, FutureWarning)\n"
     ]
    },
    {
     "name": "stdout",
     "output_type": "stream",
     "text": [
      "prediction-array shape (1899000,)\n",
      "generating predictions for fraction 17\n",
      "Shape (300, 6330)\n",
      "initial shape (1899000, 27)\n"
     ]
    },
    {
     "name": "stderr",
     "output_type": "stream",
     "text": [
      "/opt/conda/lib/python3.7/site-packages/sklearn/base.py:493: FutureWarning: The feature names should match those that were passed during fit. Starting version 1.2, an error will be raised.\n",
      "Feature names unseen at fit time:\n",
      "- 45\n",
      "Feature names seen at fit time, yet now missing:\n",
      "- 19\n",
      "\n",
      "  warnings.warn(message, FutureWarning)\n"
     ]
    },
    {
     "name": "stdout",
     "output_type": "stream",
     "text": [
      "prediction-array shape (1899000,)\n",
      "generating predictions for fraction 18\n",
      "Shape (300, 6330)\n",
      "initial shape (1899000, 27)\n"
     ]
    },
    {
     "name": "stderr",
     "output_type": "stream",
     "text": [
      "/opt/conda/lib/python3.7/site-packages/sklearn/base.py:493: FutureWarning: The feature names should match those that were passed during fit. Starting version 1.2, an error will be raised.\n",
      "Feature names unseen at fit time:\n",
      "- 45\n",
      "Feature names seen at fit time, yet now missing:\n",
      "- 19\n",
      "\n",
      "  warnings.warn(message, FutureWarning)\n"
     ]
    },
    {
     "name": "stdout",
     "output_type": "stream",
     "text": [
      "prediction-array shape (1899000,)\n",
      "generating predictions for fraction 19\n",
      "Shape (54, 6330)\n",
      "initial shape (341820, 27)\n"
     ]
    },
    {
     "name": "stderr",
     "output_type": "stream",
     "text": [
      "/opt/conda/lib/python3.7/site-packages/sklearn/base.py:493: FutureWarning: The feature names should match those that were passed during fit. Starting version 1.2, an error will be raised.\n",
      "Feature names unseen at fit time:\n",
      "- 45\n",
      "Feature names seen at fit time, yet now missing:\n",
      "- 19\n",
      "\n",
      "  warnings.warn(message, FutureWarning)\n"
     ]
    },
    {
     "name": "stdout",
     "output_type": "stream",
     "text": [
      "prediction-array shape (341820,)\n"
     ]
    },
    {
     "data": {
      "image/png": "[encoded data removed]",
      "text/plain": [
       "<Figure size 640x480 with 1 Axes>"
      ]
     },
     "metadata": {},
     "output_type": "display_data"
    },
    {
     "name": "stdout",
     "output_type": "stream",
     "text": [
      "/kaggle/input/vesuvius-challenge/test/a width: 6330 heigth: 2727\n",
      "Number of fractions: 10 of image in folder /kaggle/input/vesuvius-challenge/test/a\n",
      "generating predictions for fraction 1\n",
      "Shape (300, 6330)\n",
      "initial shape (1899000, 27)\n"
     ]
    },
    {
     "name": "stderr",
     "output_type": "stream",
     "text": [
      "/opt/conda/lib/python3.7/site-packages/sklearn/base.py:493: FutureWarning: The feature names should match those that were passed during fit. Starting version 1.2, an error will be raised.\n",
      "Feature names unseen at fit time:\n",
      "- 45\n",
      "Feature names seen at fit time, yet now missing:\n",
      "- 19\n",
      "\n",
      "  warnings.warn(message, FutureWarning)\n"
     ]
    },
    {
     "name": "stdout",
     "output_type": "stream",
     "text": [
      "prediction-array shape (1899000,)\n",
      "generating predictions for fraction 2\n",
      "Shape (300, 6330)\n",
      "initial shape (1899000, 27)\n"
     ]
    },
    {
     "name": "stderr",
     "output_type": "stream",
     "text": [
      "/opt/conda/lib/python3.7/site-packages/sklearn/base.py:493: FutureWarning: The feature names should match those that were passed during fit. Starting version 1.2, an error will be raised.\n",
      "Feature names unseen at fit time:\n",
      "- 45\n",
      "Feature names seen at fit time, yet now missing:\n",
      "- 19\n",
      "\n",
      "  warnings.warn(message, FutureWarning)\n"
     ]
    },
    {
     "name": "stdout",
     "output_type": "stream",
     "text": [
      "prediction-array shape (1899000,)\n",
      "generating predictions for fraction 3\n",
      "Shape (300, 6330)\n",
      "initial shape (1899000, 27)\n"
     ]
    },
    {
     "name": "stderr",
     "output_type": "stream",
     "text": [
      "/opt/conda/lib/python3.7/site-packages/sklearn/base.py:493: FutureWarning: The feature names should match those that were passed during fit. Starting version 1.2, an error will be raised.\n",
      "Feature names unseen at fit time:\n",
      "- 45\n",
      "Feature names seen at fit time, yet now missing:\n",
      "- 19\n",
      "\n",
      "  warnings.warn(message, FutureWarning)\n"
     ]
    },
    {
     "name": "stdout",
     "output_type": "stream",
     "text": [
      "prediction-array shape (1899000,)\n",
      "generating predictions for fraction 4\n",
      "Shape (300, 6330)\n",
      "initial shape (1899000, 27)\n"
     ]
    },
    {
     "name": "stderr",
     "output_type": "stream",
     "text": [
      "/opt/conda/lib/python3.7/site-packages/sklearn/base.py:493: FutureWarning: The feature names should match those that were passed during fit. Starting version 1.2, an error will be raised.\n",
      "Feature names unseen at fit time:\n",
      "- 45\n",
      "Feature names seen at fit time, yet now missing:\n",
      "- 19\n",
      "\n",
      "  warnings.warn(message, FutureWarning)\n"
     ]
    },
    {
     "name": "stdout",
     "output_type": "stream",
     "text": [
      "prediction-array shape (1899000,)\n",
      "generating predictions for fraction 5\n",
      "Shape (300, 6330)\n",
      "initial shape (1899000, 27)\n"
     ]
    },
    {
     "name": "stderr",
     "output_type": "stream",
     "text": [
      "/opt/conda/lib/python3.7/site-packages/sklearn/base.py:493: FutureWarning: The feature names should match those that were passed during fit. Starting version 1.2, an error will be raised.\n",
      "Feature names unseen at fit time:\n",
      "- 45\n",
      "Feature names seen at fit time, yet now missing:\n",
      "- 19\n",
      "\n",
      "  warnings.warn(message, FutureWarning)\n"
     ]
    },
    {
     "name": "stdout",
     "output_type": "stream",
     "text": [
      "prediction-array shape (1899000,)\n",
      "generating predictions for fraction 6\n",
      "Shape (300, 6330)\n",
      "initial shape (1899000, 27)\n"
     ]
    },
    {
     "name": "stderr",
     "output_type": "stream",
     "text": [
      "/opt/conda/lib/python3.7/site-packages/sklearn/base.py:493: FutureWarning: The feature names should match those that were passed during fit. Starting version 1.2, an error will be raised.\n",
      "Feature names unseen at fit time:\n",
      "- 45\n",
      "Feature names seen at fit time, yet now missing:\n",
      "- 19\n",
      "\n",
      "  warnings.warn(message, FutureWarning)\n"
     ]
    },
    {
     "name": "stdout",
     "output_type": "stream",
     "text": [
      "prediction-array shape (1899000,)\n",
      "generating predictions for fraction 7\n",
      "Shape (300, 6330)\n",
      "initial shape (1899000, 27)\n"
     ]
    },
    {
     "name": "stderr",
     "output_type": "stream",
     "text": [
      "/opt/conda/lib/python3.7/site-packages/sklearn/base.py:493: FutureWarning: The feature names should match those that were passed during fit. Starting version 1.2, an error will be raised.\n",
      "Feature names unseen at fit time:\n",
      "- 45\n",
      "Feature names seen at fit time, yet now missing:\n",
      "- 19\n",
      "\n",
      "  warnings.warn(message, FutureWarning)\n"
     ]
    },
    {
     "name": "stdout",
     "output_type": "stream",
     "text": [
      "prediction-array shape (1899000,)\n",
      "generating predictions for fraction 8\n",
      "Shape (300, 6330)\n",
      "initial shape (1899000, 27)\n"
     ]
    },
    {
     "name": "stderr",
     "output_type": "stream",
     "text": [
      "/opt/conda/lib/python3.7/site-packages/sklearn/base.py:493: FutureWarning: The feature names should match those that were passed during fit. Starting version 1.2, an error will be raised.\n",
      "Feature names unseen at fit time:\n",
      "- 45\n",
      "Feature names seen at fit time, yet now missing:\n",
      "- 19\n",
      "\n",
      "  warnings.warn(message, FutureWarning)\n"
     ]
    },
    {
     "name": "stdout",
     "output_type": "stream",
     "text": [
      "prediction-array shape (1899000,)\n",
      "generating predictions for fraction 9\n",
      "Shape (300, 6330)\n",
      "initial shape (1899000, 27)\n"
     ]
    },
    {
     "name": "stderr",
     "output_type": "stream",
     "text": [
      "/opt/conda/lib/python3.7/site-packages/sklearn/base.py:493: FutureWarning: The feature names should match those that were passed during fit. Starting version 1.2, an error will be raised.\n",
      "Feature names unseen at fit time:\n",
      "- 45\n",
      "Feature names seen at fit time, yet now missing:\n",
      "- 19\n",
      "\n",
      "  warnings.warn(message, FutureWarning)\n"
     ]
    },
    {
     "name": "stdout",
     "output_type": "stream",
     "text": [
      "prediction-array shape (1899000,)\n",
      "generating predictions for fraction 10\n",
      "Shape (27, 6330)\n",
      "initial shape (170910, 27)\n"
     ]
    },
    {
     "name": "stderr",
     "output_type": "stream",
     "text": [
      "/opt/conda/lib/python3.7/site-packages/sklearn/base.py:493: FutureWarning: The feature names should match those that were passed during fit. Starting version 1.2, an error will be raised.\n",
      "Feature names unseen at fit time:\n",
      "- 45\n",
      "Feature names seen at fit time, yet now missing:\n",
      "- 19\n",
      "\n",
      "  warnings.warn(message, FutureWarning)\n"
     ]
    },
    {
     "name": "stdout",
     "output_type": "stream",
     "text": [
      "prediction-array shape (170910,)\n"
     ]
    },
    {
     "data": {
      "image/png": "[encoded data removed]",
      "text/plain": [
       "<Figure size 640x480 with 1 Axes>"
      ]
     },
     "metadata": {},
     "output_type": "display_data"
    }
   ],
   "source": [
    "# Load the scaler\n",
    "scaler = joblib.load('/kaggle/input/modeloutput/scaler.pkl')\n",
    "\n",
    "predict_first = True\n",
    "\n",
    "if predict_first:\n",
    "    \n",
    "    num_pixels_total = 300\n",
    "    # instantiate images predicted variable\n",
    "    pred_images = []\n",
    "    \n",
    "    # load model\n",
    "    model = lgb.Booster(model_file='/kaggle/input/modeloutput/model_final.txt')\n",
    "    \n",
    "    # Define the paths of the three folders\n",
    "    test_folder_path = \"/kaggle/input/vesuvius-challenge/test\"\n",
    "\n",
    "    folder_paths = []\n",
    "    for root, dirs, files in os.walk(test_folder_path):\n",
    "        for dir in dirs:\n",
    "            if len(os.path.join(root, dir)) <= (len(test_folder_path)+2):\n",
    "                folder_paths.append(os.path.join(root, dir))\n",
    "    \n",
    "    predicted_images = []\n",
    "    # Iterate over the folder paths\n",
    "    for folder_path in folder_paths:\n",
    "        \n",
    "        predicted_image = None\n",
    "        \n",
    "        # Load mask.png to calculate fractions\n",
    "        mask_path = os.path.join(folder_path, \"mask.png\")\n",
    "        mask_image = Image.open(mask_path)\n",
    "        # Get the height and width of the image\n",
    "        image_width, image_height = mask_image.size\n",
    "        print(folder_path,\"width:\",image_width,\"heigth:\",image_height)\n",
    "        fractions = int(np.ceil(image_height / num_pixels_total))\n",
    "        num_pixels_array = np.concatenate((np.full(fractions-1, num_pixels_total), np.array([image_height - (fractions-1)*num_pixels_total])))\n",
    "\n",
    "        print(\"Number of fractions:\",fractions,\"of image in folder\",folder_path)\n",
    "        del mask_image\n",
    "        \n",
    "        for frac in range(1,fractions+1):\n",
    "        \n",
    "            print(\"generating predictions for fraction\",frac)\n",
    "            # Generate the first part of the data\n",
    "            prediction = generate_data_fraction_for_submition(folder_path,frac,num_pixels_array[frac-1],scaler)\n",
    "            if predicted_image is None:\n",
    "                # If it's the first prediction, initialize the predicted image array\n",
    "                predicted_image = prediction\n",
    "            else:\n",
    "                # Concatenate the prediction with the existing predicted image array\n",
    "                predicted_image = np.concatenate((predicted_image, prediction))     \n",
    "                \n",
    "            # Save the predicted_image array\n",
    "            # output_file = \"predicted_image_\"+folder_path.split('/')[-1]+\"_part_\"+str(frac)+\".npy\"\n",
    "            # np.save(output_file, predicted_image)\n",
    "        \n",
    "        # Save the predicted_image as a PNG file\n",
    "        output_file = \"predicted_image_\"+folder_path.split('/')[-1]+\".npy\"\n",
    "        predicted_image_2d = predicted_image.reshape((image_height,image_width))\n",
    "        np.save(output_file, predicted_image_2d)\n",
    "        \n",
    "        # Display the image\n",
    "        plt.imshow(predicted_image_2d, cmap='gray')\n",
    "        plt.axis('off')\n",
    "        plt.show()\n",
    "        \n",
    "        predicted_images.append(predicted_image)"
   ]
  },
  {
   "cell_type": "code",
   "execution_count": 10,
   "id": "9290f275",
   "metadata": {
    "execution": {
     "iopub.execute_input": "2023-06-14T01:38:35.734510Z",
     "iopub.status.busy": "2023-06-14T01:38:35.733810Z",
     "iopub.status.idle": "2023-06-14T01:38:35.748143Z",
     "shell.execute_reply": "2023-06-14T01:38:35.746391Z"
    },
    "papermill": {
     "duration": 0.039224,
     "end_time": "2023-06-14T01:38:35.751108",
     "exception": false,
     "start_time": "2023-06-14T01:38:35.711884",
     "status": "completed"
    },
    "tags": []
   },
   "outputs": [],
   "source": [
    "def rle(output):\n",
    "    flat_img = np.where(output > 0.4, 1, 0).astype(np.uint8)\n",
    "    starts = np.array((flat_img[:-1] == 0) & (flat_img[1:] == 1))\n",
    "    ends = np.array((flat_img[:-1] == 1) & (flat_img[1:] == 0))\n",
    "    starts_ix = np.where(starts)[0] + 2\n",
    "    ends_ix = np.where(ends)[0] + 2\n",
    "    lengths = ends_ix - starts_ix\n",
    "    return \" \".join(map(str, sum(zip(starts_ix, lengths), ())))"
   ]
  },
  {
   "cell_type": "code",
   "execution_count": 11,
   "id": "8e0e1a2c",
   "metadata": {
    "execution": {
     "iopub.execute_input": "2023-06-14T01:38:35.789952Z",
     "iopub.status.busy": "2023-06-14T01:38:35.788915Z",
     "iopub.status.idle": "2023-06-14T05:35:43.001137Z",
     "shell.execute_reply": "2023-06-14T05:35:42.997123Z"
    },
    "papermill": {
     "duration": 14227.250653,
     "end_time": "2023-06-14T05:35:43.019912",
     "exception": false,
     "start_time": "2023-06-14T01:38:35.769259",
     "status": "completed"
    },
    "tags": []
   },
   "outputs": [],
   "source": [
    "from collections import defaultdict\n",
    "\n",
    "if submit:\n",
    "        \n",
    "    test_folders = sorted([f for f in os.listdir(test_folder_path) if os.path.isdir(os.path.join(test_folder_path, f))])\n",
    "    submission = defaultdict(list)\n",
    "    for fragment_id, fragment_name in enumerate(test_folders):\n",
    "        submission[\"Id\"].append(fragment_name)\n",
    "        submission[\"Predicted\"].append(rle(predicted_images[fragment_id]))\n",
    "\n",
    "    pd.DataFrame.from_dict(submission).to_csv(\"/kaggle/working/submission.csv\", index=False)"
   ]
  }
 ],
 "metadata": {
  "kernelspec": {
   "display_name": "Python 3",
   "language": "python",
   "name": "python3"
  },
  "language_info": {
   "codemirror_mode": {
    "name": "ipython",
    "version": 3
   },
   "file_extension": ".py",
   "mimetype": "text/x-python",
   "name": "python",
   "nbconvert_exporter": "python",
   "pygments_lexer": "ipython3",
   "version": "3.7.12"
  },
  "papermill": {
   "default_parameters": {},
   "duration": 32755.936243,
   "end_time": "2023-06-14T05:35:45.469787",
   "environment_variables": {},
   "exception": null,
   "input_path": "__notebook__.ipynb",
   "output_path": "__notebook__.ipynb",
   "parameters": {},
   "start_time": "2023-06-13T20:29:49.533544",
   "version": "2.4.0"
  }
 },
 "nbformat": 4,
 "nbformat_minor": 5
}
